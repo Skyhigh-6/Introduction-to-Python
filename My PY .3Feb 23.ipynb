{
 "cells": [
  {
   "cell_type": "markdown",
   "id": "c3eb38f3",
   "metadata": {},
   "source": [
    "# Intro to GUIs\n",
    "# Interact Functionality with GUIs\n"
   ]
  },
  {
   "cell_type": "markdown",
   "id": "701d6848",
   "metadata": {},
   "source": [
    "PY GUIs with IPyWidgets"
   ]
  },
  {
   "cell_type": "code",
   "execution_count": 1,
   "id": "0670d236",
   "metadata": {},
   "outputs": [],
   "source": [
    "from ipywidgets import interact,interactive,fixed\n",
    "import ipywidgets as widgets"
   ]
  },
  {
   "cell_type": "markdown",
   "id": "296bfb32",
   "metadata": {},
   "source": [
    "Define a function"
   ]
  },
  {
   "cell_type": "code",
   "execution_count": 2,
   "id": "9baea38e",
   "metadata": {},
   "outputs": [],
   "source": [
    "def func(x):\n",
    "    return x"
   ]
  },
  {
   "cell_type": "markdown",
   "id": "d71a1270",
   "metadata": {},
   "source": [
    "Add sum default value = 10\n",
    "# it has a slider less or more"
   ]
  },
  {
   "cell_type": "code",
   "execution_count": 3,
   "id": "f1b79d92",
   "metadata": {},
   "outputs": [
    {
     "data": {
      "application/vnd.jupyter.widget-view+json": {
       "model_id": "4b2a18a4356f4768a5181afb0ebb99ff",
       "version_major": 2,
       "version_minor": 0
      },
      "text/plain": [
       "interactive(children=(IntSlider(value=10, description='x', max=30, min=-10), Output()), _dom_classes=('widget-…"
      ]
     },
     "metadata": {},
     "output_type": "display_data"
    },
    {
     "data": {
      "text/plain": [
       "<function __main__.func(x)>"
      ]
     },
     "execution_count": 3,
     "metadata": {},
     "output_type": "execute_result"
    }
   ],
   "source": [
    "interact(func,x=10)"
   ]
  },
  {
   "cell_type": "markdown",
   "id": "cc8022b0",
   "metadata": {},
   "source": [
    "If i want to explore my func"
   ]
  },
  {
   "cell_type": "code",
   "execution_count": 4,
   "id": "f38f63b0",
   "metadata": {},
   "outputs": [],
   "source": [
    "def func(x):\n",
    "    return x**2"
   ]
  },
  {
   "cell_type": "code",
   "execution_count": 5,
   "id": "4f82e101",
   "metadata": {},
   "outputs": [
    {
     "data": {
      "application/vnd.jupyter.widget-view+json": {
       "model_id": "c64f7603735b43e385719eac308af108",
       "version_major": 2,
       "version_minor": 0
      },
      "text/plain": [
       "interactive(children=(IntSlider(value=10, description='x', max=30, min=-10), Output()), _dom_classes=('widget-…"
      ]
     },
     "metadata": {},
     "output_type": "display_data"
    },
    {
     "data": {
      "text/plain": [
       "<function __main__.func(x)>"
      ]
     },
     "execution_count": 5,
     "metadata": {},
     "output_type": "execute_result"
    }
   ],
   "source": [
    "interact(func,x=10)"
   ]
  },
  {
   "cell_type": "markdown",
   "id": "8ca82879",
   "metadata": {},
   "source": [
    "Lets see if we pass in Booleans"
   ]
  },
  {
   "cell_type": "code",
   "execution_count": 6,
   "id": "09f29784",
   "metadata": {},
   "outputs": [
    {
     "data": {
      "application/vnd.jupyter.widget-view+json": {
       "model_id": "01f9535001e94dd6ab9063a8d14d8796",
       "version_major": 2,
       "version_minor": 0
      },
      "text/plain": [
       "interactive(children=(Checkbox(value=True, description='x'), Output()), _dom_classes=('widget-interact',))"
      ]
     },
     "metadata": {},
     "output_type": "display_data"
    },
    {
     "data": {
      "text/plain": [
       "<function __main__.func(x)>"
      ]
     },
     "execution_count": 6,
     "metadata": {},
     "output_type": "execute_result"
    }
   ],
   "source": [
    "interact(func,x=True)"
   ]
  },
  {
   "cell_type": "markdown",
   "id": "9c222aac",
   "metadata": {},
   "source": [
    "Lets see if we pass in String"
   ]
  },
  {
   "cell_type": "code",
   "execution_count": 7,
   "id": "ebd0fc92",
   "metadata": {},
   "outputs": [
    {
     "data": {
      "application/vnd.jupyter.widget-view+json": {
       "model_id": "e7f81e42a4654e1baa3a97ef37294fc4",
       "version_major": 2,
       "version_minor": 0
      },
      "text/plain": [
       "interactive(children=(Text(value='Hello', description='x'), Output()), _dom_classes=('widget-interact',))"
      ]
     },
     "metadata": {},
     "output_type": "display_data"
    },
    {
     "data": {
      "text/plain": [
       "<function __main__.func(x)>"
      ]
     },
     "execution_count": 7,
     "metadata": {},
     "output_type": "execute_result"
    }
   ],
   "source": [
    "interact(func,x='Hello')"
   ]
  },
  {
   "cell_type": "code",
   "execution_count": 8,
   "id": "e28e35f9",
   "metadata": {},
   "outputs": [],
   "source": [
    "def func(x):\n",
    "    return x"
   ]
  },
  {
   "cell_type": "code",
   "execution_count": 9,
   "id": "b295ed96",
   "metadata": {},
   "outputs": [
    {
     "data": {
      "application/vnd.jupyter.widget-view+json": {
       "model_id": "9321f9c79b334ae2beea7fe9ee22448d",
       "version_major": 2,
       "version_minor": 0
      },
      "text/plain": [
       "interactive(children=(Text(value='Hello', description='x'), Output()), _dom_classes=('widget-interact',))"
      ]
     },
     "metadata": {},
     "output_type": "display_data"
    },
    {
     "data": {
      "text/plain": [
       "<function __main__.func(x)>"
      ]
     },
     "execution_count": 9,
     "metadata": {},
     "output_type": "execute_result"
    }
   ],
   "source": [
    "interact(func,x='Hello')"
   ]
  },
  {
   "cell_type": "markdown",
   "id": "1680a2b4",
   "metadata": {},
   "source": [
    "# Instead of interact we can also do with Decorators "
   ]
  },
  {
   "cell_type": "code",
   "execution_count": 10,
   "id": "2507c4da",
   "metadata": {},
   "outputs": [
    {
     "data": {
      "application/vnd.jupyter.widget-view+json": {
       "model_id": "bfa6fde6cc0e478792b839a670fbd1b3",
       "version_major": 2,
       "version_minor": 0
      },
      "text/plain": [
       "interactive(children=(Checkbox(value=True, description='x'), FloatSlider(value=1.0, description='y', max=3.0, …"
      ]
     },
     "metadata": {},
     "output_type": "display_data"
    }
   ],
   "source": [
    "@interact(x=True,y=1.0)\n",
    "def g(x,y):\n",
    "    return (x,y)"
   ]
  },
  {
   "cell_type": "code",
   "execution_count": 11,
   "id": "55ca2756",
   "metadata": {},
   "outputs": [
    {
     "data": {
      "application/vnd.jupyter.widget-view+json": {
       "model_id": "d975c64e485440788a707e0899d02b2c",
       "version_major": 2,
       "version_minor": 0
      },
      "text/plain": [
       "interactive(children=(Checkbox(value=True, description='x'), Output()), _dom_classes=('widget-interact',))"
      ]
     },
     "metadata": {},
     "output_type": "display_data"
    }
   ],
   "source": [
    "@interact(x=True,y=fixed(1.0))\n",
    "def g(x,y):\n",
    "    return (x,y)"
   ]
  },
  {
   "cell_type": "code",
   "execution_count": 12,
   "id": "13aef09e",
   "metadata": {},
   "outputs": [
    {
     "data": {
      "application/vnd.jupyter.widget-view+json": {
       "model_id": "c9b31cdbae3248d28ac0979334666b4c",
       "version_major": 2,
       "version_minor": 0
      },
      "text/plain": [
       "interactive(children=(Output(),), _dom_classes=('widget-interact',))"
      ]
     },
     "metadata": {},
     "output_type": "display_data"
    },
    {
     "data": {
      "text/plain": [
       "<function __main__.func(x)>"
      ]
     },
     "execution_count": 12,
     "metadata": {},
     "output_type": "execute_result"
    }
   ],
   "source": [
    "interact(func,x=fixed('Hello'))"
   ]
  },
  {
   "cell_type": "code",
   "execution_count": 13,
   "id": "095096df",
   "metadata": {},
   "outputs": [
    {
     "data": {
      "application/vnd.jupyter.widget-view+json": {
       "model_id": "a5524aa17abc4da1b010e808f1a62122",
       "version_major": 2,
       "version_minor": 0
      },
      "text/plain": [
       "interactive(children=(IntSlider(value=1, description='x', max=3, min=-1), Output()), _dom_classes=('widget-int…"
      ]
     },
     "metadata": {},
     "output_type": "display_data"
    },
    {
     "data": {
      "text/plain": [
       "<function __main__.func(x)>"
      ]
     },
     "execution_count": 13,
     "metadata": {},
     "output_type": "execute_result"
    }
   ],
   "source": [
    "interact(func,x=1)"
   ]
  },
  {
   "cell_type": "code",
   "execution_count": 14,
   "id": "80c07610",
   "metadata": {},
   "outputs": [
    {
     "data": {
      "application/vnd.jupyter.widget-view+json": {
       "model_id": "3068976e58904d03803b89fb69019f4d",
       "version_major": 2,
       "version_minor": 0
      },
      "text/plain": [
       "interactive(children=(IntSlider(value=0, description='x', min=-100), Output()), _dom_classes=('widget-interact…"
      ]
     },
     "metadata": {},
     "output_type": "display_data"
    },
    {
     "data": {
      "text/plain": [
       "<function __main__.func(x)>"
      ]
     },
     "execution_count": 14,
     "metadata": {},
     "output_type": "execute_result"
    }
   ],
   "source": [
    "interact(func,x=widgets.IntSlider(min=-100,max=100,step=1,value=0))"
   ]
  },
  {
   "cell_type": "code",
   "execution_count": 15,
   "id": "5c3bdbfa",
   "metadata": {},
   "outputs": [
    {
     "data": {
      "application/vnd.jupyter.widget-view+json": {
       "model_id": "d148a95ad6374337b9d17ca04dc1d953",
       "version_major": 2,
       "version_minor": 0
      },
      "text/plain": [
       "interactive(children=(IntSlider(value=0, description='x', min=-100), Output()), _dom_classes=('widget-interact…"
      ]
     },
     "metadata": {},
     "output_type": "display_data"
    },
    {
     "data": {
      "text/plain": [
       "<function __main__.func(x)>"
      ]
     },
     "execution_count": 15,
     "metadata": {},
     "output_type": "execute_result"
    }
   ],
   "source": [
    "interact(func,x=(-100,100,1))"
   ]
  },
  {
   "cell_type": "code",
   "execution_count": 16,
   "id": "201b6816",
   "metadata": {},
   "outputs": [
    {
     "data": {
      "application/vnd.jupyter.widget-view+json": {
       "model_id": "b14476643046426ea18c068d15ca3d8c",
       "version_major": 2,
       "version_minor": 0
      },
      "text/plain": [
       "interactive(children=(IntSlider(value=0, description='x', max=10, min=-10), Output()), _dom_classes=('widget-i…"
      ]
     },
     "metadata": {},
     "output_type": "display_data"
    },
    {
     "data": {
      "text/plain": [
       "<function __main__.func(x)>"
      ]
     },
     "execution_count": 16,
     "metadata": {},
     "output_type": "execute_result"
    }
   ],
   "source": [
    "interact(func,x=(-10,10,1))"
   ]
  },
  {
   "cell_type": "code",
   "execution_count": 17,
   "id": "46cd4fbe",
   "metadata": {},
   "outputs": [
    {
     "data": {
      "application/vnd.jupyter.widget-view+json": {
       "model_id": "4918ceb2dd254d7bb13d4750f014e376",
       "version_major": 2,
       "version_minor": 0
      },
      "text/plain": [
       "interactive(children=(FloatSlider(value=0.0, description='x', max=10.0, min=-10.0), Output()), _dom_classes=('…"
      ]
     },
     "metadata": {},
     "output_type": "display_data"
    },
    {
     "data": {
      "text/plain": [
       "<function __main__.func(x)>"
      ]
     },
     "execution_count": 17,
     "metadata": {},
     "output_type": "execute_result"
    }
   ],
   "source": [
    "interact(func,x=(-10.0,10.0,.1))"
   ]
  },
  {
   "cell_type": "code",
   "execution_count": 18,
   "id": "6c5120b2",
   "metadata": {},
   "outputs": [
    {
     "data": {
      "application/vnd.jupyter.widget-view+json": {
       "model_id": "4faf3839dc964396af798a8989e9d14c",
       "version_major": 2,
       "version_minor": 0
      },
      "text/plain": [
       "interactive(children=(FloatSlider(value=5.0, description='x', max=20.0, step=0.5), Output()), _dom_classes=('w…"
      ]
     },
     "metadata": {},
     "output_type": "display_data"
    }
   ],
   "source": [
    "@interact(x=(0.0,20.0,0.5))\n",
    "def h(x=5.0):\n",
    "    return x"
   ]
  },
  {
   "cell_type": "markdown",
   "id": "b9955b30",
   "metadata": {},
   "source": [
    "# dropdown menus"
   ]
  },
  {
   "cell_type": "code",
   "execution_count": 19,
   "id": "01a779e1",
   "metadata": {},
   "outputs": [
    {
     "data": {
      "application/vnd.jupyter.widget-view+json": {
       "model_id": "ac1d88a369f445ae98ee007966ed0a63",
       "version_major": 2,
       "version_minor": 0
      },
      "text/plain": [
       "interactive(children=(Text(value='Hello', description='x'), Output()), _dom_classes=('widget-interact',))"
      ]
     },
     "metadata": {},
     "output_type": "display_data"
    },
    {
     "data": {
      "text/plain": [
       "<function __main__.func(x)>"
      ]
     },
     "execution_count": 19,
     "metadata": {},
     "output_type": "execute_result"
    }
   ],
   "source": [
    "interact(func,x='Hello')"
   ]
  },
  {
   "cell_type": "markdown",
   "id": "a0ca93d1",
   "metadata": {},
   "source": [
    "Abbreviation of list with a dropdown box"
   ]
  },
  {
   "cell_type": "code",
   "execution_count": 21,
   "id": "15cceb7d",
   "metadata": {},
   "outputs": [
    {
     "data": {
      "application/vnd.jupyter.widget-view+json": {
       "model_id": "0e63cc3fafa2427d94a850298301c3b7",
       "version_major": 2,
       "version_minor": 0
      },
      "text/plain": [
       "interactive(children=(Dropdown(description='x', options=('hello', 'option 2', 'option 3'), value='hello'), Out…"
      ]
     },
     "metadata": {},
     "output_type": "display_data"
    },
    {
     "data": {
      "text/plain": [
       "<function __main__.func(x)>"
      ]
     },
     "execution_count": 21,
     "metadata": {},
     "output_type": "execute_result"
    }
   ],
   "source": [
    "interact(func,x=['hello','option 2','option 3'])"
   ]
  },
  {
   "cell_type": "markdown",
   "id": "dd51e5b1",
   "metadata": {},
   "source": [
    "See if you pass in dict"
   ]
  },
  {
   "cell_type": "code",
   "execution_count": 25,
   "id": "60fc1224",
   "metadata": {},
   "outputs": [
    {
     "data": {
      "application/vnd.jupyter.widget-view+json": {
       "model_id": "7355ffe3746f405591f7a21dfb73d1a1",
       "version_major": 2,
       "version_minor": 0
      },
      "text/plain": [
       "interactive(children=(Dropdown(description='x', options={'one': 10, 'two': 20}, value=10), Output()), _dom_cla…"
      ]
     },
     "metadata": {},
     "output_type": "display_data"
    },
    {
     "data": {
      "text/plain": [
       "<function __main__.func(x)>"
      ]
     },
     "execution_count": 25,
     "metadata": {},
     "output_type": "execute_result"
    }
   ],
   "source": [
    "interact(func,x={'one':10,'two':20})"
   ]
  },
  {
   "cell_type": "markdown",
   "id": "4020b085",
   "metadata": {},
   "source": [
    "IPython.display"
   ]
  },
  {
   "cell_type": "code",
   "execution_count": 26,
   "id": "b6046de9",
   "metadata": {},
   "outputs": [],
   "source": [
    "from IPython.display import display\n",
    "\n",
    "def f(a,b):\n",
    "    display(a+b)\n",
    "    return  a+b"
   ]
  },
  {
   "cell_type": "code",
   "execution_count": 27,
   "id": "c018d12a",
   "metadata": {},
   "outputs": [],
   "source": [
    "w = interactive(f, a=10,b=20)"
   ]
  },
  {
   "cell_type": "code",
   "execution_count": 28,
   "id": "08649cfa",
   "metadata": {},
   "outputs": [
    {
     "data": {
      "text/plain": [
       "ipywidgets.widgets.interaction.interactive"
      ]
     },
     "execution_count": 28,
     "metadata": {},
     "output_type": "execute_result"
    }
   ],
   "source": [
    "type(w)"
   ]
  },
  {
   "cell_type": "code",
   "execution_count": 29,
   "id": "879b85a9",
   "metadata": {},
   "outputs": [
    {
     "data": {
      "text/plain": [
       "(IntSlider(value=10, description='a', max=30, min=-10),\n",
       " IntSlider(value=20, description='b', max=60, min=-20),\n",
       " Output())"
      ]
     },
     "execution_count": 29,
     "metadata": {},
     "output_type": "execute_result"
    }
   ],
   "source": [
    "w.children"
   ]
  },
  {
   "cell_type": "code",
   "execution_count": 30,
   "id": "320e0e13",
   "metadata": {},
   "outputs": [
    {
     "data": {
      "application/vnd.jupyter.widget-view+json": {
       "model_id": "dcf7281925214e149453651690ab78b4",
       "version_major": 2,
       "version_minor": 0
      },
      "text/plain": [
       "interactive(children=(IntSlider(value=10, description='a', max=30, min=-10), IntSlider(value=20, description='…"
      ]
     },
     "metadata": {},
     "output_type": "display_data"
    }
   ],
   "source": [
    "display(w)"
   ]
  },
  {
   "cell_type": "code",
   "execution_count": 31,
   "id": "ab74a9f2",
   "metadata": {},
   "outputs": [
    {
     "data": {
      "application/vnd.jupyter.widget-view+json": {
       "model_id": "0c1c2969a1344e4f821cc1316db17989",
       "version_major": 2,
       "version_minor": 0
      },
      "text/plain": [
       "interactive(children=(Dropdown(description='x', options={'one': 10, 'two': 20}, value=10), Output()), _dom_cla…"
      ]
     },
     "metadata": {},
     "output_type": "display_data"
    }
   ],
   "source": [
    "interact(func,x={'one':10,'two':20});"
   ]
  },
  {
   "cell_type": "markdown",
   "id": "b74527b5",
   "metadata": {},
   "source": [
    "# GUI widget Basics"
   ]
  },
  {
   "cell_type": "code",
   "execution_count": 1,
   "id": "6e0af320",
   "metadata": {},
   "outputs": [],
   "source": [
    "import ipywidgets as widgets"
   ]
  },
  {
   "cell_type": "markdown",
   "id": "c82b1110",
   "metadata": {},
   "source": [
    "widget Intergerslider"
   ]
  },
  {
   "cell_type": "code",
   "execution_count": 2,
   "id": "6a6521c9",
   "metadata": {},
   "outputs": [
    {
     "data": {
      "application/vnd.jupyter.widget-view+json": {
       "model_id": "c4ff6539c4af4e61ae35d5265e4f167e",
       "version_major": 2,
       "version_minor": 0
      },
      "text/plain": [
       "IntSlider(value=0)"
      ]
     },
     "metadata": {},
     "output_type": "display_data"
    }
   ],
   "source": [
    "widgets.IntSlider()"
   ]
  },
  {
   "cell_type": "markdown",
   "id": "6993d844",
   "metadata": {},
   "source": [
    "Above widgets starts from 0\n",
    "# displaythe widgets"
   ]
  },
  {
   "cell_type": "code",
   "execution_count": 3,
   "id": "af33fd5b",
   "metadata": {},
   "outputs": [],
   "source": [
    "w = widgets.IntSlider()"
   ]
  },
  {
   "cell_type": "code",
   "execution_count": 4,
   "id": "5569cca6",
   "metadata": {},
   "outputs": [],
   "source": [
    "from IPython.display import display"
   ]
  },
  {
   "cell_type": "code",
   "execution_count": 5,
   "id": "77944c26",
   "metadata": {},
   "outputs": [
    {
     "data": {
      "application/vnd.jupyter.widget-view+json": {
       "model_id": "",
       "version_major": 2,
       "version_minor": 0
      },
      "text/plain": [
       "IntSlider(value=0)"
      ]
     },
     "metadata": {},
     "output_type": "display_data"
    }
   ],
   "source": [
    "display(w)"
   ]
  },
  {
   "cell_type": "code",
   "execution_count": 6,
   "id": "0bbc14be",
   "metadata": {},
   "outputs": [
    {
     "data": {
      "application/vnd.jupyter.widget-view+json": {
       "model_id": "",
       "version_major": 2,
       "version_minor": 0
      },
      "text/plain": [
       "IntSlider(value=0)"
      ]
     },
     "metadata": {},
     "output_type": "display_data"
    }
   ],
   "source": [
    "display(w)"
   ]
  },
  {
   "cell_type": "code",
   "execution_count": 7,
   "id": "52276177",
   "metadata": {},
   "outputs": [],
   "source": [
    "w.close()"
   ]
  },
  {
   "cell_type": "code",
   "execution_count": 8,
   "id": "e541b160",
   "metadata": {},
   "outputs": [
    {
     "data": {
      "application/vnd.jupyter.widget-view+json": {
       "model_id": "295f1c8a81394553812cb417c25ef579",
       "version_major": 2,
       "version_minor": 0
      },
      "text/plain": [
       "IntSlider(value=0)"
      ]
     },
     "metadata": {},
     "output_type": "display_data"
    }
   ],
   "source": [
    "w = widgets.IntSlider()\n",
    "display(w)"
   ]
  },
  {
   "cell_type": "markdown",
   "id": "7f02d6c3",
   "metadata": {},
   "source": [
    "Re-Run the widget"
   ]
  },
  {
   "cell_type": "code",
   "execution_count": 10,
   "id": "31c71ae7",
   "metadata": {},
   "outputs": [
    {
     "data": {
      "text/plain": [
       "46"
      ]
     },
     "execution_count": 10,
     "metadata": {},
     "output_type": "execute_result"
    }
   ],
   "source": [
    "w.value"
   ]
  },
  {
   "cell_type": "markdown",
   "id": "e74d9260",
   "metadata": {},
   "source": [
    "Reset the value"
   ]
  },
  {
   "cell_type": "code",
   "execution_count": 11,
   "id": "15fc3c2c",
   "metadata": {},
   "outputs": [],
   "source": [
    "w.value = 50"
   ]
  },
  {
   "cell_type": "code",
   "execution_count": 12,
   "id": "fb5bf3d4",
   "metadata": {},
   "outputs": [
    {
     "data": {
      "text/plain": [
       "['_dom_classes',\n",
       " '_model_module',\n",
       " '_model_module_version',\n",
       " '_model_name',\n",
       " '_view_count',\n",
       " '_view_module',\n",
       " '_view_module_version',\n",
       " '_view_name',\n",
       " 'continuous_update',\n",
       " 'description',\n",
       " 'description_tooltip',\n",
       " 'disabled',\n",
       " 'layout',\n",
       " 'max',\n",
       " 'min',\n",
       " 'orientation',\n",
       " 'readout',\n",
       " 'readout_format',\n",
       " 'step',\n",
       " 'style',\n",
       " 'value']"
      ]
     },
     "execution_count": 12,
     "metadata": {},
     "output_type": "execute_result"
    }
   ],
   "source": [
    "w.keys"
   ]
  },
  {
   "cell_type": "code",
   "execution_count": 13,
   "id": "c7e1d73c",
   "metadata": {},
   "outputs": [],
   "source": [
    "w.max = 2000"
   ]
  },
  {
   "cell_type": "code",
   "execution_count": 14,
   "id": "63a400f8",
   "metadata": {},
   "outputs": [],
   "source": [
    "a = widgets.FloatText()"
   ]
  },
  {
   "cell_type": "code",
   "execution_count": 15,
   "id": "92941e7c",
   "metadata": {},
   "outputs": [
    {
     "data": {
      "application/vnd.jupyter.widget-view+json": {
       "model_id": "a8fb3338828d4f25add0c0c81c52d50f",
       "version_major": 2,
       "version_minor": 0
      },
      "text/plain": [
       "FloatText(value=0.0)"
      ]
     },
     "metadata": {},
     "output_type": "display_data"
    }
   ],
   "source": [
    "display(a)"
   ]
  },
  {
   "cell_type": "markdown",
   "id": "273311a3",
   "metadata": {},
   "source": [
    "Below is gonna take floating type values"
   ]
  },
  {
   "cell_type": "code",
   "execution_count": 16,
   "id": "1034d7ca",
   "metadata": {},
   "outputs": [
    {
     "data": {
      "application/vnd.jupyter.widget-view+json": {
       "model_id": "a8fb3338828d4f25add0c0c81c52d50f",
       "version_major": 2,
       "version_minor": 0
      },
      "text/plain": [
       "FloatText(value=0.0)"
      ]
     },
     "metadata": {},
     "output_type": "display_data"
    }
   ],
   "source": [
    "display(a)"
   ]
  },
  {
   "cell_type": "code",
   "execution_count": 17,
   "id": "164ed934",
   "metadata": {},
   "outputs": [
    {
     "data": {
      "application/vnd.jupyter.widget-view+json": {
       "model_id": "e697d204c8c145e5b23e75f816760750",
       "version_major": 2,
       "version_minor": 0
      },
      "text/plain": [
       "FloatText(value=0.0)"
      ]
     },
     "metadata": {},
     "output_type": "display_data"
    },
    {
     "data": {
      "application/vnd.jupyter.widget-view+json": {
       "model_id": "8e49c137723e431a96d060ad2bfdbd20",
       "version_major": 2,
       "version_minor": 0
      },
      "text/plain": [
       "FloatSlider(value=0.0)"
      ]
     },
     "metadata": {},
     "output_type": "display_data"
    }
   ],
   "source": [
    "a = widgets.FloatText()\n",
    "b = widgets.FloatSlider()\n",
    "display(a,b)"
   ]
  },
  {
   "cell_type": "markdown",
   "id": "748cbb60",
   "metadata": {},
   "source": [
    "You can link them up too\n",
    "# jslink - javascript link - grab the name of the widget"
   ]
  },
  {
   "cell_type": "code",
   "execution_count": 19,
   "id": "8a9a5872",
   "metadata": {},
   "outputs": [
    {
     "data": {
      "application/vnd.jupyter.widget-view+json": {
       "model_id": "ce11d55efcef463a8b60b855a9aad077",
       "version_major": 2,
       "version_minor": 0
      },
      "text/plain": [
       "FloatText(value=0.0)"
      ]
     },
     "metadata": {},
     "output_type": "display_data"
    },
    {
     "data": {
      "application/vnd.jupyter.widget-view+json": {
       "model_id": "62d5982d5fa34adb8a42052e28d0a951",
       "version_major": 2,
       "version_minor": 0
      },
      "text/plain": [
       "FloatSlider(value=0.0)"
      ]
     },
     "metadata": {},
     "output_type": "display_data"
    }
   ],
   "source": [
    "a = widgets.FloatText()\n",
    "b = widgets.FloatSlider()\n",
    "\n",
    "\n",
    "display(a,b)\n",
    "\n",
    "mylink = widgets.jslink((a,'value'),(b,'value'))"
   ]
  },
  {
   "cell_type": "code",
   "execution_count": 20,
   "id": "fdf7969b",
   "metadata": {},
   "outputs": [],
   "source": [
    "mylink.unlink()"
   ]
  },
  {
   "cell_type": "markdown",
   "id": "e95705e3",
   "metadata": {},
   "source": [
    "List of possible widgets"
   ]
  },
  {
   "cell_type": "code",
   "execution_count": 23,
   "id": "781daae5",
   "metadata": {},
   "outputs": [
    {
     "name": "stdout",
     "output_type": "stream",
     "text": [
      "(('@jupyter-widgets/base', '1.2.0', 'LayoutModel', '@jupyter-widgets/base', '1.2.0', 'LayoutView'), <class 'ipywidgets.widgets.widget_layout.Layout'>)\n",
      "(('@jupyter-widgets/controls', '1.5.0', 'AccordionModel', '@jupyter-widgets/controls', '1.5.0', 'AccordionView'), <class 'ipywidgets.widgets.widget_selectioncontainer.Accordion'>)\n",
      "(('@jupyter-widgets/controls', '1.5.0', 'AudioModel', '@jupyter-widgets/controls', '1.5.0', 'AudioView'), <class 'ipywidgets.widgets.widget_media.Audio'>)\n",
      "(('@jupyter-widgets/controls', '1.5.0', 'BoundedFloatTextModel', '@jupyter-widgets/controls', '1.5.0', 'FloatTextView'), <class 'ipywidgets.widgets.widget_float.BoundedFloatText'>)\n",
      "(('@jupyter-widgets/controls', '1.5.0', 'BoundedIntTextModel', '@jupyter-widgets/controls', '1.5.0', 'IntTextView'), <class 'ipywidgets.widgets.widget_int.BoundedIntText'>)\n",
      "(('@jupyter-widgets/controls', '1.5.0', 'BoxModel', '@jupyter-widgets/controls', '1.5.0', 'BoxView'), <class 'ipywidgets.widgets.widget_box.Box'>)\n",
      "(('@jupyter-widgets/controls', '1.5.0', 'ButtonModel', '@jupyter-widgets/controls', '1.5.0', 'ButtonView'), <class 'ipywidgets.widgets.widget_button.Button'>)\n",
      "(('@jupyter-widgets/controls', '1.5.0', 'ButtonStyleModel', '@jupyter-widgets/base', '1.2.0', 'StyleView'), <class 'ipywidgets.widgets.widget_button.ButtonStyle'>)\n",
      "(('@jupyter-widgets/controls', '1.5.0', 'CheckboxModel', '@jupyter-widgets/controls', '1.5.0', 'CheckboxView'), <class 'ipywidgets.widgets.widget_bool.Checkbox'>)\n",
      "(('@jupyter-widgets/controls', '1.5.0', 'ColorPickerModel', '@jupyter-widgets/controls', '1.5.0', 'ColorPickerView'), <class 'ipywidgets.widgets.widget_color.ColorPicker'>)\n",
      "(('@jupyter-widgets/controls', '1.5.0', 'ComboboxModel', '@jupyter-widgets/controls', '1.5.0', 'ComboboxView'), <class 'ipywidgets.widgets.widget_string.Combobox'>)\n",
      "(('@jupyter-widgets/controls', '1.5.0', 'ControllerAxisModel', '@jupyter-widgets/controls', '1.5.0', 'ControllerAxisView'), <class 'ipywidgets.widgets.widget_controller.Axis'>)\n",
      "(('@jupyter-widgets/controls', '1.5.0', 'ControllerButtonModel', '@jupyter-widgets/controls', '1.5.0', 'ControllerButtonView'), <class 'ipywidgets.widgets.widget_controller.Button'>)\n",
      "(('@jupyter-widgets/controls', '1.5.0', 'ControllerModel', '@jupyter-widgets/controls', '1.5.0', 'ControllerView'), <class 'ipywidgets.widgets.widget_controller.Controller'>)\n",
      "(('@jupyter-widgets/controls', '1.5.0', 'DOMWidgetModel', '@jupyter-widgets/controls', '1.5.0', None), <class 'ipywidgets.widgets.widget_media._Media'>)\n",
      "(('@jupyter-widgets/controls', '1.5.0', 'DatePickerModel', '@jupyter-widgets/controls', '1.5.0', 'DatePickerView'), <class 'ipywidgets.widgets.widget_date.DatePicker'>)\n",
      "(('@jupyter-widgets/controls', '1.5.0', 'DescriptionStyleModel', '@jupyter-widgets/base', '1.2.0', 'StyleView'), <class 'ipywidgets.widgets.widget_description.DescriptionStyle'>)\n",
      "(('@jupyter-widgets/controls', '1.5.0', 'DirectionalLinkModel', '@jupyter-widgets/controls', '1.5.0', None), <class 'ipywidgets.widgets.widget_link.DirectionalLink'>)\n",
      "(('@jupyter-widgets/controls', '1.5.0', 'DropdownModel', '@jupyter-widgets/controls', '1.5.0', 'DropdownView'), <class 'ipywidgets.widgets.widget_selection.Dropdown'>)\n",
      "(('@jupyter-widgets/controls', '1.5.0', 'FileUploadModel', '@jupyter-widgets/controls', '1.5.0', 'FileUploadView'), <class 'ipywidgets.widgets.widget_upload.FileUpload'>)\n",
      "(('@jupyter-widgets/controls', '1.5.0', 'FloatLogSliderModel', '@jupyter-widgets/controls', '1.5.0', 'FloatLogSliderView'), <class 'ipywidgets.widgets.widget_float.FloatLogSlider'>)\n",
      "(('@jupyter-widgets/controls', '1.5.0', 'FloatProgressModel', '@jupyter-widgets/controls', '1.5.0', 'ProgressView'), <class 'ipywidgets.widgets.widget_float.FloatProgress'>)\n",
      "(('@jupyter-widgets/controls', '1.5.0', 'FloatRangeSliderModel', '@jupyter-widgets/controls', '1.5.0', 'FloatRangeSliderView'), <class 'ipywidgets.widgets.widget_float.FloatRangeSlider'>)\n",
      "(('@jupyter-widgets/controls', '1.5.0', 'FloatSliderModel', '@jupyter-widgets/controls', '1.5.0', 'FloatSliderView'), <class 'ipywidgets.widgets.widget_float.FloatSlider'>)\n",
      "(('@jupyter-widgets/controls', '1.5.0', 'FloatTextModel', '@jupyter-widgets/controls', '1.5.0', 'FloatTextView'), <class 'ipywidgets.widgets.widget_float.FloatText'>)\n",
      "(('@jupyter-widgets/controls', '1.5.0', 'GridBoxModel', '@jupyter-widgets/controls', '1.5.0', 'GridBoxView'), <class 'ipywidgets.widgets.widget_box.GridBox'>)\n",
      "(('@jupyter-widgets/controls', '1.5.0', 'HBoxModel', '@jupyter-widgets/controls', '1.5.0', 'HBoxView'), <class 'ipywidgets.widgets.widget_box.HBox'>)\n",
      "(('@jupyter-widgets/controls', '1.5.0', 'HTMLMathModel', '@jupyter-widgets/controls', '1.5.0', 'HTMLMathView'), <class 'ipywidgets.widgets.widget_string.HTMLMath'>)\n",
      "(('@jupyter-widgets/controls', '1.5.0', 'HTMLModel', '@jupyter-widgets/controls', '1.5.0', 'HTMLView'), <class 'ipywidgets.widgets.widget_string.HTML'>)\n",
      "(('@jupyter-widgets/controls', '1.5.0', 'ImageModel', '@jupyter-widgets/controls', '1.5.0', 'ImageView'), <class 'ipywidgets.widgets.widget_media.Image'>)\n",
      "(('@jupyter-widgets/controls', '1.5.0', 'IntProgressModel', '@jupyter-widgets/controls', '1.5.0', 'ProgressView'), <class 'ipywidgets.widgets.widget_int.IntProgress'>)\n",
      "(('@jupyter-widgets/controls', '1.5.0', 'IntRangeSliderModel', '@jupyter-widgets/controls', '1.5.0', 'IntRangeSliderView'), <class 'ipywidgets.widgets.widget_int.IntRangeSlider'>)\n",
      "(('@jupyter-widgets/controls', '1.5.0', 'IntSliderModel', '@jupyter-widgets/controls', '1.5.0', 'IntSliderView'), <class 'ipywidgets.widgets.widget_int.IntSlider'>)\n",
      "(('@jupyter-widgets/controls', '1.5.0', 'IntTextModel', '@jupyter-widgets/controls', '1.5.0', 'IntTextView'), <class 'ipywidgets.widgets.widget_int.IntText'>)\n",
      "(('@jupyter-widgets/controls', '1.5.0', 'LabelModel', '@jupyter-widgets/controls', '1.5.0', 'LabelView'), <class 'ipywidgets.widgets.widget_string.Label'>)\n",
      "(('@jupyter-widgets/controls', '1.5.0', 'LinkModel', '@jupyter-widgets/controls', '1.5.0', None), <class 'ipywidgets.widgets.widget_link.Link'>)\n",
      "(('@jupyter-widgets/controls', '1.5.0', 'PasswordModel', '@jupyter-widgets/controls', '1.5.0', 'PasswordView'), <class 'ipywidgets.widgets.widget_string.Password'>)\n",
      "(('@jupyter-widgets/controls', '1.5.0', 'PlayModel', '@jupyter-widgets/controls', '1.5.0', 'PlayView'), <class 'ipywidgets.widgets.widget_int.Play'>)\n",
      "(('@jupyter-widgets/controls', '1.5.0', 'ProgressStyleModel', '@jupyter-widgets/base', '1.2.0', 'StyleView'), <class 'ipywidgets.widgets.widget_int.ProgressStyle'>)\n",
      "(('@jupyter-widgets/controls', '1.5.0', 'RadioButtonsModel', '@jupyter-widgets/controls', '1.5.0', 'RadioButtonsView'), <class 'ipywidgets.widgets.widget_selection.RadioButtons'>)\n",
      "(('@jupyter-widgets/controls', '1.5.0', 'SelectModel', '@jupyter-widgets/controls', '1.5.0', 'SelectView'), <class 'ipywidgets.widgets.widget_selection.Select'>)\n",
      "(('@jupyter-widgets/controls', '1.5.0', 'SelectMultipleModel', '@jupyter-widgets/controls', '1.5.0', 'SelectMultipleView'), <class 'ipywidgets.widgets.widget_selection.SelectMultiple'>)\n",
      "(('@jupyter-widgets/controls', '1.5.0', 'SelectionRangeSliderModel', '@jupyter-widgets/controls', '1.5.0', 'SelectionRangeSliderView'), <class 'ipywidgets.widgets.widget_selection.SelectionRangeSlider'>)\n",
      "(('@jupyter-widgets/controls', '1.5.0', 'SelectionSliderModel', '@jupyter-widgets/controls', '1.5.0', 'SelectionSliderView'), <class 'ipywidgets.widgets.widget_selection.SelectionSlider'>)\n",
      "(('@jupyter-widgets/controls', '1.5.0', 'SliderStyleModel', '@jupyter-widgets/base', '1.2.0', 'StyleView'), <class 'ipywidgets.widgets.widget_int.SliderStyle'>)\n",
      "(('@jupyter-widgets/controls', '1.5.0', 'TabModel', '@jupyter-widgets/controls', '1.5.0', 'TabView'), <class 'ipywidgets.widgets.widget_selectioncontainer.Tab'>)\n",
      "(('@jupyter-widgets/controls', '1.5.0', 'TextModel', '@jupyter-widgets/controls', '1.5.0', 'TextView'), <class 'ipywidgets.widgets.widget_string.Text'>)\n",
      "(('@jupyter-widgets/controls', '1.5.0', 'TextareaModel', '@jupyter-widgets/controls', '1.5.0', 'TextareaView'), <class 'ipywidgets.widgets.widget_string.Textarea'>)\n",
      "(('@jupyter-widgets/controls', '1.5.0', 'ToggleButtonModel', '@jupyter-widgets/controls', '1.5.0', 'ToggleButtonView'), <class 'ipywidgets.widgets.widget_bool.ToggleButton'>)\n",
      "(('@jupyter-widgets/controls', '1.5.0', 'ToggleButtonsModel', '@jupyter-widgets/controls', '1.5.0', 'ToggleButtonsView'), <class 'ipywidgets.widgets.widget_selection.ToggleButtons'>)\n",
      "(('@jupyter-widgets/controls', '1.5.0', 'ToggleButtonsStyleModel', '@jupyter-widgets/base', '1.2.0', 'StyleView'), <class 'ipywidgets.widgets.widget_selection.ToggleButtonsStyle'>)\n",
      "(('@jupyter-widgets/controls', '1.5.0', 'VBoxModel', '@jupyter-widgets/controls', '1.5.0', 'VBoxView'), <class 'ipywidgets.widgets.widget_box.VBox'>)\n",
      "(('@jupyter-widgets/controls', '1.5.0', 'ValidModel', '@jupyter-widgets/controls', '1.5.0', 'ValidView'), <class 'ipywidgets.widgets.widget_bool.Valid'>)\n",
      "(('@jupyter-widgets/controls', '1.5.0', 'VideoModel', '@jupyter-widgets/controls', '1.5.0', 'VideoView'), <class 'ipywidgets.widgets.widget_media.Video'>)\n",
      "(('@jupyter-widgets/output', '1.0.0', 'OutputModel', '@jupyter-widgets/output', '1.0.0', 'OutputView'), <class 'ipywidgets.widgets.widget_output.Output'>)\n"
     ]
    }
   ],
   "source": [
    "import ipywidgets as widgets\n",
    "\n",
    "for item in widgets.Widget.widget_types.items():\n",
    "    print(item)"
   ]
  },
  {
   "cell_type": "code",
   "execution_count": 24,
   "id": "f93a457c",
   "metadata": {},
   "outputs": [
    {
     "name": "stdout",
     "output_type": "stream",
     "text": [
      "('@jupyter-widgets/base', '1.2.0', 'LayoutModel', '@jupyter-widgets/base', '1.2.0', 'LayoutView')\n",
      "('@jupyter-widgets/controls', '1.5.0', 'AccordionModel', '@jupyter-widgets/controls', '1.5.0', 'AccordionView')\n",
      "('@jupyter-widgets/controls', '1.5.0', 'AudioModel', '@jupyter-widgets/controls', '1.5.0', 'AudioView')\n",
      "('@jupyter-widgets/controls', '1.5.0', 'BoundedFloatTextModel', '@jupyter-widgets/controls', '1.5.0', 'FloatTextView')\n",
      "('@jupyter-widgets/controls', '1.5.0', 'BoundedIntTextModel', '@jupyter-widgets/controls', '1.5.0', 'IntTextView')\n",
      "('@jupyter-widgets/controls', '1.5.0', 'BoxModel', '@jupyter-widgets/controls', '1.5.0', 'BoxView')\n",
      "('@jupyter-widgets/controls', '1.5.0', 'ButtonModel', '@jupyter-widgets/controls', '1.5.0', 'ButtonView')\n",
      "('@jupyter-widgets/controls', '1.5.0', 'ButtonStyleModel', '@jupyter-widgets/base', '1.2.0', 'StyleView')\n",
      "('@jupyter-widgets/controls', '1.5.0', 'CheckboxModel', '@jupyter-widgets/controls', '1.5.0', 'CheckboxView')\n",
      "('@jupyter-widgets/controls', '1.5.0', 'ColorPickerModel', '@jupyter-widgets/controls', '1.5.0', 'ColorPickerView')\n",
      "('@jupyter-widgets/controls', '1.5.0', 'ComboboxModel', '@jupyter-widgets/controls', '1.5.0', 'ComboboxView')\n",
      "('@jupyter-widgets/controls', '1.5.0', 'ControllerAxisModel', '@jupyter-widgets/controls', '1.5.0', 'ControllerAxisView')\n",
      "('@jupyter-widgets/controls', '1.5.0', 'ControllerButtonModel', '@jupyter-widgets/controls', '1.5.0', 'ControllerButtonView')\n",
      "('@jupyter-widgets/controls', '1.5.0', 'ControllerModel', '@jupyter-widgets/controls', '1.5.0', 'ControllerView')\n",
      "('@jupyter-widgets/controls', '1.5.0', 'DOMWidgetModel', '@jupyter-widgets/controls', '1.5.0', None)\n",
      "('@jupyter-widgets/controls', '1.5.0', 'DatePickerModel', '@jupyter-widgets/controls', '1.5.0', 'DatePickerView')\n",
      "('@jupyter-widgets/controls', '1.5.0', 'DescriptionStyleModel', '@jupyter-widgets/base', '1.2.0', 'StyleView')\n",
      "('@jupyter-widgets/controls', '1.5.0', 'DirectionalLinkModel', '@jupyter-widgets/controls', '1.5.0', None)\n",
      "('@jupyter-widgets/controls', '1.5.0', 'DropdownModel', '@jupyter-widgets/controls', '1.5.0', 'DropdownView')\n",
      "('@jupyter-widgets/controls', '1.5.0', 'FileUploadModel', '@jupyter-widgets/controls', '1.5.0', 'FileUploadView')\n",
      "('@jupyter-widgets/controls', '1.5.0', 'FloatLogSliderModel', '@jupyter-widgets/controls', '1.5.0', 'FloatLogSliderView')\n",
      "('@jupyter-widgets/controls', '1.5.0', 'FloatProgressModel', '@jupyter-widgets/controls', '1.5.0', 'ProgressView')\n",
      "('@jupyter-widgets/controls', '1.5.0', 'FloatRangeSliderModel', '@jupyter-widgets/controls', '1.5.0', 'FloatRangeSliderView')\n",
      "('@jupyter-widgets/controls', '1.5.0', 'FloatSliderModel', '@jupyter-widgets/controls', '1.5.0', 'FloatSliderView')\n",
      "('@jupyter-widgets/controls', '1.5.0', 'FloatTextModel', '@jupyter-widgets/controls', '1.5.0', 'FloatTextView')\n",
      "('@jupyter-widgets/controls', '1.5.0', 'GridBoxModel', '@jupyter-widgets/controls', '1.5.0', 'GridBoxView')\n",
      "('@jupyter-widgets/controls', '1.5.0', 'HBoxModel', '@jupyter-widgets/controls', '1.5.0', 'HBoxView')\n",
      "('@jupyter-widgets/controls', '1.5.0', 'HTMLMathModel', '@jupyter-widgets/controls', '1.5.0', 'HTMLMathView')\n",
      "('@jupyter-widgets/controls', '1.5.0', 'HTMLModel', '@jupyter-widgets/controls', '1.5.0', 'HTMLView')\n",
      "('@jupyter-widgets/controls', '1.5.0', 'ImageModel', '@jupyter-widgets/controls', '1.5.0', 'ImageView')\n",
      "('@jupyter-widgets/controls', '1.5.0', 'IntProgressModel', '@jupyter-widgets/controls', '1.5.0', 'ProgressView')\n",
      "('@jupyter-widgets/controls', '1.5.0', 'IntRangeSliderModel', '@jupyter-widgets/controls', '1.5.0', 'IntRangeSliderView')\n",
      "('@jupyter-widgets/controls', '1.5.0', 'IntSliderModel', '@jupyter-widgets/controls', '1.5.0', 'IntSliderView')\n",
      "('@jupyter-widgets/controls', '1.5.0', 'IntTextModel', '@jupyter-widgets/controls', '1.5.0', 'IntTextView')\n",
      "('@jupyter-widgets/controls', '1.5.0', 'LabelModel', '@jupyter-widgets/controls', '1.5.0', 'LabelView')\n",
      "('@jupyter-widgets/controls', '1.5.0', 'LinkModel', '@jupyter-widgets/controls', '1.5.0', None)\n",
      "('@jupyter-widgets/controls', '1.5.0', 'PasswordModel', '@jupyter-widgets/controls', '1.5.0', 'PasswordView')\n",
      "('@jupyter-widgets/controls', '1.5.0', 'PlayModel', '@jupyter-widgets/controls', '1.5.0', 'PlayView')\n",
      "('@jupyter-widgets/controls', '1.5.0', 'ProgressStyleModel', '@jupyter-widgets/base', '1.2.0', 'StyleView')\n",
      "('@jupyter-widgets/controls', '1.5.0', 'RadioButtonsModel', '@jupyter-widgets/controls', '1.5.0', 'RadioButtonsView')\n",
      "('@jupyter-widgets/controls', '1.5.0', 'SelectModel', '@jupyter-widgets/controls', '1.5.0', 'SelectView')\n",
      "('@jupyter-widgets/controls', '1.5.0', 'SelectMultipleModel', '@jupyter-widgets/controls', '1.5.0', 'SelectMultipleView')\n",
      "('@jupyter-widgets/controls', '1.5.0', 'SelectionRangeSliderModel', '@jupyter-widgets/controls', '1.5.0', 'SelectionRangeSliderView')\n",
      "('@jupyter-widgets/controls', '1.5.0', 'SelectionSliderModel', '@jupyter-widgets/controls', '1.5.0', 'SelectionSliderView')\n",
      "('@jupyter-widgets/controls', '1.5.0', 'SliderStyleModel', '@jupyter-widgets/base', '1.2.0', 'StyleView')\n",
      "('@jupyter-widgets/controls', '1.5.0', 'TabModel', '@jupyter-widgets/controls', '1.5.0', 'TabView')\n",
      "('@jupyter-widgets/controls', '1.5.0', 'TextModel', '@jupyter-widgets/controls', '1.5.0', 'TextView')\n",
      "('@jupyter-widgets/controls', '1.5.0', 'TextareaModel', '@jupyter-widgets/controls', '1.5.0', 'TextareaView')\n",
      "('@jupyter-widgets/controls', '1.5.0', 'ToggleButtonModel', '@jupyter-widgets/controls', '1.5.0', 'ToggleButtonView')\n",
      "('@jupyter-widgets/controls', '1.5.0', 'ToggleButtonsModel', '@jupyter-widgets/controls', '1.5.0', 'ToggleButtonsView')\n",
      "('@jupyter-widgets/controls', '1.5.0', 'ToggleButtonsStyleModel', '@jupyter-widgets/base', '1.2.0', 'StyleView')\n",
      "('@jupyter-widgets/controls', '1.5.0', 'VBoxModel', '@jupyter-widgets/controls', '1.5.0', 'VBoxView')\n",
      "('@jupyter-widgets/controls', '1.5.0', 'ValidModel', '@jupyter-widgets/controls', '1.5.0', 'ValidView')\n",
      "('@jupyter-widgets/controls', '1.5.0', 'VideoModel', '@jupyter-widgets/controls', '1.5.0', 'VideoView')\n",
      "('@jupyter-widgets/output', '1.0.0', 'OutputModel', '@jupyter-widgets/output', '1.0.0', 'OutputView')\n"
     ]
    }
   ],
   "source": [
    "import ipywidgets as widgets\n",
    "\n",
    "for item in widgets.Widget.widget_types.items():\n",
    "    print(item[0])"
   ]
  },
  {
   "cell_type": "markdown",
   "id": "6c4c869a",
   "metadata": {},
   "source": [
    "IntSlider"
   ]
  },
  {
   "cell_type": "code",
   "execution_count": 25,
   "id": "d4356878",
   "metadata": {},
   "outputs": [
    {
     "data": {
      "application/vnd.jupyter.widget-view+json": {
       "model_id": "84a6c895d54e456484992957eedb8535",
       "version_major": 2,
       "version_minor": 0
      },
      "text/plain": [
       "IntSlider(value=7, continuous_update=False, description='Test:', max=10)"
      ]
     },
     "metadata": {},
     "output_type": "display_data"
    }
   ],
   "source": [
    "widgets.IntSlider(\n",
    "    value=7,\n",
    "    min=0,\n",
    "    max=10,\n",
    "    step=1,\n",
    "    description='Test:',\n",
    "    disabled=False,\n",
    "    continuous_update=False,\n",
    "    orientation='horizontal',\n",
    "    readout=True,\n",
    "    readout_format='d'\n",
    ")"
   ]
  },
  {
   "cell_type": "markdown",
   "id": "f425f291",
   "metadata": {},
   "source": [
    "IntProgress"
   ]
  },
  {
   "cell_type": "code",
   "execution_count": 26,
   "id": "28b7e815",
   "metadata": {},
   "outputs": [
    {
     "ename": "SyntaxError",
     "evalue": "positional argument follows keyword argument (4203497866.py, line 8)",
     "output_type": "error",
     "traceback": [
      "\u001b[1;36m  Input \u001b[1;32mIn [26]\u001b[1;36m\u001b[0m\n\u001b[1;33m    orientation='horizontal'\u001b[0m\n\u001b[1;37m    ^\u001b[0m\n\u001b[1;31mSyntaxError\u001b[0m\u001b[1;31m:\u001b[0m positional argument follows keyword argument\n"
     ]
    }
   ],
   "source": [
    "widgets.IntProgress(\n",
    "    value=7,\n",
    "    min=0,\n",
    "    max=10,\n",
    "    step=1,\n",
    "    description='Loading:',\n",
    "    bar_style='','success', 'info', 'warning', 'danger' or ''\n",
    "    orientation='horizontal'\n",
    ")"
   ]
  },
  {
   "cell_type": "markdown",
   "id": "78acd06c",
   "metadata": {},
   "source": [
    "Below u just added = 'success' - turns green"
   ]
  },
  {
   "cell_type": "code",
   "execution_count": 27,
   "id": "791fea0f",
   "metadata": {},
   "outputs": [
    {
     "data": {
      "application/vnd.jupyter.widget-view+json": {
       "model_id": "4341007ef4434f2094bbe23ee356b5c7",
       "version_major": 2,
       "version_minor": 0
      },
      "text/plain": [
       "IntProgress(value=7, bar_style='success', description='Loading:', max=10)"
      ]
     },
     "metadata": {},
     "output_type": "display_data"
    }
   ],
   "source": [
    "widgets.IntProgress(\n",
    "    value=7,\n",
    "    min=0,\n",
    "    max=10,\n",
    "    step=1,\n",
    "    description='Loading:',\n",
    "    bar_style='success', # 'success', 'info', 'warning', 'danger' or ''\n",
    "    orientation='horizontal'\n",
    ")"
   ]
  },
  {
   "cell_type": "markdown",
   "id": "ae217b1c",
   "metadata": {},
   "source": [
    "Below u add='warning' - turns orange\n",
    "# Coloring is famous Bootsrap - coloring and Styling"
   ]
  },
  {
   "cell_type": "code",
   "execution_count": 28,
   "id": "9ca9d413",
   "metadata": {},
   "outputs": [
    {
     "data": {
      "application/vnd.jupyter.widget-view+json": {
       "model_id": "ec4f33324893436ab8c804bb97da6a84",
       "version_major": 2,
       "version_minor": 0
      },
      "text/plain": [
       "IntProgress(value=7, bar_style='warning', description='Loading:', max=10)"
      ]
     },
     "metadata": {},
     "output_type": "display_data"
    }
   ],
   "source": [
    "widgets.IntProgress(\n",
    "    value=7,\n",
    "    min=0,\n",
    "    max=10,\n",
    "    step=1,\n",
    "    description='Loading:',\n",
    "    bar_style='warning', # 'success', 'info', 'warning', 'danger' or ''\n",
    "    orientation='horizontal'\n",
    ")"
   ]
  },
  {
   "cell_type": "markdown",
   "id": "fe0bc896",
   "metadata": {},
   "source": [
    "FloatProgress"
   ]
  },
  {
   "cell_type": "code",
   "execution_count": 29,
   "id": "fc53ea60",
   "metadata": {},
   "outputs": [
    {
     "data": {
      "application/vnd.jupyter.widget-view+json": {
       "model_id": "313f016de571483bad50e6cf6640e4a3",
       "version_major": 2,
       "version_minor": 0
      },
      "text/plain": [
       "FloatProgress(value=7.5, bar_style='info', description='Loading:', max=10.0)"
      ]
     },
     "metadata": {},
     "output_type": "display_data"
    }
   ],
   "source": [
    "widgets.FloatProgress(\n",
    "    value=7.5,\n",
    "    min=0,\n",
    "    max=10.0,\n",
    "    step=0.1,\n",
    "    description='Loading:',\n",
    "    bar_style='info',\n",
    "    orientation='horizontal'\n",
    ")"
   ]
  },
  {
   "cell_type": "markdown",
   "id": "15a82f08",
   "metadata": {},
   "source": [
    "The numerical text boxes that impose some limit on the data (range, integer-only) impose that restriction when the user presses enter.\n",
    "\n",
    "BoundedIntText"
   ]
  },
  {
   "cell_type": "code",
   "execution_count": 30,
   "id": "e3652551",
   "metadata": {},
   "outputs": [
    {
     "data": {
      "application/vnd.jupyter.widget-view+json": {
       "model_id": "59f1057ac78e4a818bd186fbc87099d2",
       "version_major": 2,
       "version_minor": 0
      },
      "text/plain": [
       "BoundedIntText(value=7, description='Text:', max=10)"
      ]
     },
     "metadata": {},
     "output_type": "display_data"
    }
   ],
   "source": [
    "widgets.BoundedIntText(\n",
    "    value=7,\n",
    "    min=0,\n",
    "    max=10,\n",
    "    step=1,\n",
    "    description='Text:',\n",
    "    disabled=False\n",
    ")"
   ]
  },
  {
   "cell_type": "markdown",
   "id": "17d8c4e8",
   "metadata": {},
   "source": [
    "Boolean widgets\n",
    "There are three widgets that are designed to display a boolean value.\n",
    "\n",
    "ToggleButton"
   ]
  },
  {
   "cell_type": "code",
   "execution_count": 31,
   "id": "a0b99071",
   "metadata": {},
   "outputs": [
    {
     "data": {
      "application/vnd.jupyter.widget-view+json": {
       "model_id": "30b9ed12951544c9b98e0071dd398886",
       "version_major": 2,
       "version_minor": 0
      },
      "text/plain": [
       "ToggleButton(value=False, description='Click me', icon='check', tooltip='Description')"
      ]
     },
     "metadata": {},
     "output_type": "display_data"
    }
   ],
   "source": [
    "widgets.ToggleButton(\n",
    "    value=False,\n",
    "    description='Click me',\n",
    "    disabled=False,\n",
    "    button_style='', # 'success', 'info', 'warning', 'danger' or ''\n",
    "    tooltip='Description',\n",
    "    icon='check'\n",
    ")"
   ]
  },
  {
   "cell_type": "markdown",
   "id": "d682699d",
   "metadata": {},
   "source": [
    "# Chk the below styling"
   ]
  },
  {
   "cell_type": "code",
   "execution_count": 32,
   "id": "0b768f06",
   "metadata": {},
   "outputs": [
    {
     "data": {
      "application/vnd.jupyter.widget-view+json": {
       "model_id": "d99bf3289ec946d5aba71ab43880e6c3",
       "version_major": 2,
       "version_minor": 0
      },
      "text/plain": [
       "ToggleButton(value=False, button_style='success', description='Click me', icon='check', tooltip='Description')"
      ]
     },
     "metadata": {},
     "output_type": "display_data"
    }
   ],
   "source": [
    "widgets.ToggleButton(\n",
    "    value=False,\n",
    "    description='Click me',\n",
    "    disabled=False,\n",
    "    button_style='success', # 'success', 'info', 'warning', 'danger' or ''\n",
    "    tooltip='Description',\n",
    "    icon='check'\n",
    ")"
   ]
  },
  {
   "cell_type": "markdown",
   "id": "b3d6f3f3",
   "metadata": {},
   "source": [
    "Valid\n",
    "The valid widget provides a read-only indicator."
   ]
  },
  {
   "cell_type": "code",
   "execution_count": 33,
   "id": "dcd6bf61",
   "metadata": {},
   "outputs": [
    {
     "data": {
      "application/vnd.jupyter.widget-view+json": {
       "model_id": "6dfb7f0f3a824cc388a8b25823c293ee",
       "version_major": 2,
       "version_minor": 0
      },
      "text/plain": [
       "Valid(value=False, description='Valid!')"
      ]
     },
     "metadata": {},
     "output_type": "display_data"
    }
   ],
   "source": [
    "widgets.Valid(\n",
    "    value=False,\n",
    "    description='Valid!',\n",
    ")"
   ]
  },
  {
   "cell_type": "code",
   "execution_count": 34,
   "id": "0c3b6285",
   "metadata": {},
   "outputs": [
    {
     "data": {
      "application/vnd.jupyter.widget-view+json": {
       "model_id": "59c5b9ddd9fd44f394a5998dbbc3a831",
       "version_major": 2,
       "version_minor": 0
      },
      "text/plain": [
       "Valid(value=True, description='Valid!')"
      ]
     },
     "metadata": {},
     "output_type": "display_data"
    }
   ],
   "source": [
    "widgets.Valid(\n",
    "    value=True,\n",
    "    description='Valid!',\n",
    ")"
   ]
  },
  {
   "cell_type": "markdown",
   "id": "ce92f17d",
   "metadata": {},
   "source": [
    "Widgets Stylings and Layouts"
   ]
  },
  {
   "cell_type": "markdown",
   "id": "68da7e27",
   "metadata": {},
   "source": [
    "A quick example of layout\n",
    "We've already seen what a slider looks like without any layout adjustments:"
   ]
  },
  {
   "cell_type": "code",
   "execution_count": 35,
   "id": "bc3bb805",
   "metadata": {},
   "outputs": [],
   "source": [
    "import ipywidgets as widgets\n",
    "from IPython.display import display"
   ]
  },
  {
   "cell_type": "code",
   "execution_count": 36,
   "id": "ff0ed4c5",
   "metadata": {},
   "outputs": [
    {
     "data": {
      "application/vnd.jupyter.widget-view+json": {
       "model_id": "4365fa5b1f9842d3bb2e2469f2dc829e",
       "version_major": 2,
       "version_minor": 0
      },
      "text/plain": [
       "IntSlider(value=0)"
      ]
     },
     "metadata": {},
     "output_type": "display_data"
    }
   ],
   "source": [
    "w = widgets.IntSlider()\n",
    "display(w)"
   ]
  },
  {
   "cell_type": "markdown",
   "id": "1921a361",
   "metadata": {},
   "source": [
    "Let's say we wanted to change two of the properties of this widget: margin and height. We want to center the slider in the output area and increase its height. This can be done by adding layout attributes to w"
   ]
  },
  {
   "cell_type": "code",
   "execution_count": 37,
   "id": "674ffda1",
   "metadata": {},
   "outputs": [],
   "source": [
    "w.layout.margin = 'auto'\n",
    "w.layout.height = '75px'"
   ]
  },
  {
   "cell_type": "markdown",
   "id": "358d9297",
   "metadata": {},
   "source": [
    "Notice that the slider changed positions on the page immediately!\n",
    "\n",
    "Layout settings can be passed from one widget to another widget of the same type. Let's first create a new IntSlider:"
   ]
  },
  {
   "cell_type": "code",
   "execution_count": 38,
   "id": "43334a91",
   "metadata": {},
   "outputs": [
    {
     "data": {
      "application/vnd.jupyter.widget-view+json": {
       "model_id": "e138e27651b943f0b448672abf9dad51",
       "version_major": 2,
       "version_minor": 0
      },
      "text/plain": [
       "IntSlider(value=15, description='New slider')"
      ]
     },
     "metadata": {},
     "output_type": "display_data"
    }
   ],
   "source": [
    "x = widgets.IntSlider(value=15,description='New slider')\n",
    "display(x)"
   ]
  },
  {
   "cell_type": "markdown",
   "id": "d1c25c9b",
   "metadata": {},
   "source": [
    "Now assign w's layout settings to x:"
   ]
  },
  {
   "cell_type": "code",
   "execution_count": 39,
   "id": "f6cdcf00",
   "metadata": {},
   "outputs": [],
   "source": [
    "x.layout = w.layout"
   ]
  },
  {
   "cell_type": "markdown",
   "id": "3f2924ce",
   "metadata": {},
   "source": [
    "Predefined styles\n",
    "Before we investigate the style attribute, it should be noted that many widgets offer a list of pre-defined styles that can be passed as arguments during creation.\n",
    "\n",
    "For example, the Button widget has a button_style attribute that may take 5 different values:\n",
    "\n",
    "'primary'\n",
    "'success'\n",
    "'info'\n",
    "'warning'\n",
    "'danger'\n",
    "besides the default empty string ''."
   ]
  },
  {
   "cell_type": "code",
   "execution_count": 40,
   "id": "9175d409",
   "metadata": {},
   "outputs": [
    {
     "data": {
      "application/vnd.jupyter.widget-view+json": {
       "model_id": "cbb9b70fcb6240b58abed42e9980d899",
       "version_major": 2,
       "version_minor": 0
      },
      "text/plain": [
       "Button(button_style='danger', description='Ordinary Button', style=ButtonStyle())"
      ]
     },
     "metadata": {},
     "output_type": "display_data"
    }
   ],
   "source": [
    "widgets.Button(description='Ordinary Button', button_style='danger')"
   ]
  },
  {
   "cell_type": "code",
   "execution_count": 41,
   "id": "4b472003",
   "metadata": {},
   "outputs": [
    {
     "data": {
      "application/vnd.jupyter.widget-view+json": {
       "model_id": "b658d807d0b64b7db27ddf507357d010",
       "version_major": 2,
       "version_minor": 0
      },
      "text/plain": [
       "Button(button_style='warning', description='Ordinary Button', style=ButtonStyle())"
      ]
     },
     "metadata": {},
     "output_type": "display_data"
    }
   ],
   "source": [
    "widgets.Button(description='Ordinary Button', button_style='warning')"
   ]
  },
  {
   "cell_type": "code",
   "execution_count": 42,
   "id": "8eeb6f59",
   "metadata": {},
   "outputs": [
    {
     "data": {
      "application/vnd.jupyter.widget-view+json": {
       "model_id": "494711576ee34590afc633ccaa93f9cb",
       "version_major": 2,
       "version_minor": 0
      },
      "text/plain": [
       "Button(button_style='info', description='Ordinary Button', style=ButtonStyle())"
      ]
     },
     "metadata": {},
     "output_type": "display_data"
    }
   ],
   "source": [
    "widgets.Button(description='Ordinary Button', button_style='info')"
   ]
  },
  {
   "cell_type": "code",
   "execution_count": 43,
   "id": "407e50be",
   "metadata": {},
   "outputs": [
    {
     "data": {
      "application/vnd.jupyter.widget-view+json": {
       "model_id": "b748a98d25a348898a3b5dc1ae880e93",
       "version_major": 2,
       "version_minor": 0
      },
      "text/plain": [
       "Button(button_style='primary', description='Ordinary Button', style=ButtonStyle())"
      ]
     },
     "metadata": {},
     "output_type": "display_data"
    }
   ],
   "source": [
    "widgets.Button(description='Ordinary Button', button_style='primary')"
   ]
  },
  {
   "cell_type": "code",
   "execution_count": 44,
   "id": "6dab9766",
   "metadata": {},
   "outputs": [
    {
     "data": {
      "application/vnd.jupyter.widget-view+json": {
       "model_id": "61687a8020c949e8a3a5f5b2320789cf",
       "version_major": 2,
       "version_minor": 0
      },
      "text/plain": [
       "Button(button_style='success', description='Ordinary Button', style=ButtonStyle())"
      ]
     },
     "metadata": {},
     "output_type": "display_data"
    }
   ],
   "source": [
    "widgets.Button(description='Ordinary Button', button_style='success')"
   ]
  },
  {
   "cell_type": "markdown",
   "id": "078117ff",
   "metadata": {},
   "source": [
    "The style attribute\n",
    "While the layout attribute only exposes layout-related CSS properties for the top-level DOM element of widgets, the style attribute is used to expose non-layout related styling attributes of widgets.\n",
    "\n",
    "However, the properties of the style atribute are specific to each widget type."
   ]
  },
  {
   "cell_type": "code",
   "execution_count": 45,
   "id": "e041a985",
   "metadata": {},
   "outputs": [
    {
     "data": {
      "application/vnd.jupyter.widget-view+json": {
       "model_id": "d14341b866244ca4aeaec535d253bb1f",
       "version_major": 2,
       "version_minor": 0
      },
      "text/plain": [
       "Button(description='Custom color', style=ButtonStyle(button_color='lightgreen'))"
      ]
     },
     "metadata": {},
     "output_type": "display_data"
    }
   ],
   "source": [
    "b1 = widgets.Button(description='Custom color')\n",
    "b1.style.button_color = 'lightgreen'\n",
    "b1"
   ]
  },
  {
   "cell_type": "markdown",
   "id": "13904ac4",
   "metadata": {},
   "source": [
    "U can just change the 'color - lightgreen or yellow'"
   ]
  },
  {
   "cell_type": "code",
   "execution_count": 46,
   "id": "7a4f0eab",
   "metadata": {},
   "outputs": [
    {
     "data": {
      "application/vnd.jupyter.widget-view+json": {
       "model_id": "d57e3c469b4d4a0a930016c7b8f3dcd2",
       "version_major": 2,
       "version_minor": 0
      },
      "text/plain": [
       "Button(description='Custom color', style=ButtonStyle(button_color='yellow'))"
      ]
     },
     "metadata": {},
     "output_type": "display_data"
    }
   ],
   "source": [
    "b1 = widgets.Button(description='Custom color')\n",
    "b1.style.button_color = 'yellow'\n",
    "b1"
   ]
  },
  {
   "cell_type": "code",
   "execution_count": 47,
   "id": "a42132bb",
   "metadata": {},
   "outputs": [
    {
     "data": {
      "text/plain": [
       "['_model_module',\n",
       " '_model_module_version',\n",
       " '_model_name',\n",
       " '_view_count',\n",
       " '_view_module',\n",
       " '_view_module_version',\n",
       " '_view_name',\n",
       " 'button_color',\n",
       " 'font_weight']"
      ]
     },
     "execution_count": 47,
     "metadata": {},
     "output_type": "execute_result"
    }
   ],
   "source": [
    "b1.style.keys"
   ]
  },
  {
   "cell_type": "markdown",
   "id": "c9256052",
   "metadata": {},
   "source": [
    "Note that widgets.Button().style.keys also works.\n",
    "\n",
    "Just like the layout attribute, widget styles can be assigned to other widgets."
   ]
  },
  {
   "cell_type": "code",
   "execution_count": 48,
   "id": "1af7eef7",
   "metadata": {},
   "outputs": [
    {
     "data": {
      "application/vnd.jupyter.widget-view+json": {
       "model_id": "0c94a304427049f295b9ce8de32a8c28",
       "version_major": 2,
       "version_minor": 0
      },
      "text/plain": [
       "Button(style=ButtonStyle(button_color='yellow'))"
      ]
     },
     "metadata": {},
     "output_type": "display_data"
    }
   ],
   "source": [
    "b2 = widgets.Button()\n",
    "b2.style = b1.style\n",
    "b2"
   ]
  },
  {
   "cell_type": "markdown",
   "id": "a0714ca1",
   "metadata": {},
   "source": [
    "Note that only the style was picked up by b2, not any other parameters like description.\n",
    "\n",
    "Widget styling attributes are specific to each widget type."
   ]
  },
  {
   "cell_type": "code",
   "execution_count": 49,
   "id": "f8ce8fac",
   "metadata": {},
   "outputs": [
    {
     "data": {
      "application/vnd.jupyter.widget-view+json": {
       "model_id": "343eeafb6a7b410fa68f4dd37049fce9",
       "version_major": 2,
       "version_minor": 0
      },
      "text/plain": [
       "Button(description='NEW', style=ButtonStyle(button_color='yellow'))"
      ]
     },
     "metadata": {},
     "output_type": "display_data"
    }
   ],
   "source": [
    "b2 = widgets.Button(description='NEW')\n",
    "b2.style = b1.style\n",
    "b2"
   ]
  },
  {
   "cell_type": "code",
   "execution_count": 50,
   "id": "c202b7cf",
   "metadata": {},
   "outputs": [
    {
     "data": {
      "application/vnd.jupyter.widget-view+json": {
       "model_id": "417631d67e6e4cb29b639b82a41f7ec5",
       "version_major": 2,
       "version_minor": 0
      },
      "text/plain": [
       "IntSlider(value=0, description='Blue handle', style=SliderStyle(handle_color='lightblue'))"
      ]
     },
     "metadata": {},
     "output_type": "display_data"
    }
   ],
   "source": [
    "s1 = widgets.IntSlider(description='Blue handle')\n",
    "s1.style.handle_color = 'lightblue'\n",
    "s1"
   ]
  },
  {
   "cell_type": "code",
   "execution_count": 51,
   "id": "0930e131",
   "metadata": {},
   "outputs": [
    {
     "data": {
      "text/plain": [
       "['_model_module',\n",
       " '_model_module_version',\n",
       " '_model_name',\n",
       " '_view_count',\n",
       " '_view_module',\n",
       " '_view_module_version',\n",
       " '_view_name',\n",
       " 'description_width',\n",
       " 'handle_color']"
      ]
     },
     "execution_count": 51,
     "metadata": {},
     "output_type": "execute_result"
    }
   ],
   "source": [
    "s1.style.keys"
   ]
  },
  {
   "cell_type": "code",
   "execution_count": 52,
   "id": "a9a782fc",
   "metadata": {},
   "outputs": [
    {
     "data": {
      "application/vnd.jupyter.widget-view+json": {
       "model_id": "f833721fe94745bc8cc53f2049cc66df",
       "version_major": 2,
       "version_minor": 0
      },
      "text/plain": [
       "IntSlider(value=0, description='My handle', style=SliderStyle(handle_color='purple'))"
      ]
     },
     "metadata": {},
     "output_type": "display_data"
    }
   ],
   "source": [
    "s1 = widgets.IntSlider(description='My handle')\n",
    "s1.style.handle_color = 'purple'\n",
    "s1"
   ]
  },
  {
   "cell_type": "markdown",
   "id": "867e0b54",
   "metadata": {},
   "source": [
    "Widget style traits\n",
    "These are traits that belong to some of the more common widgets:\n",
    "\n",
    "Button"
   ]
  },
  {
   "cell_type": "markdown",
   "id": "e722c201",
   "metadata": {},
   "source": [
    "# Remember it will only chnge inside not applied on Browser"
   ]
  },
  {
   "cell_type": "markdown",
   "id": "a4754402",
   "metadata": {},
   "source": [
    "Below is GUI example\n",
    "# Imports\n",
    "First, we import the needed things from IPython, NumPy, Matplotlib and SciPy. Check out the class Python for Data Science and Machine Learning Bootcamp if you're interested in learning more about this part of Python!\n"
   ]
  },
  {
   "cell_type": "code",
   "execution_count": 53,
   "id": "0e6b9a3a",
   "metadata": {},
   "outputs": [],
   "source": [
    "%matplotlib inline"
   ]
  },
  {
   "cell_type": "code",
   "execution_count": 54,
   "id": "f38c2410",
   "metadata": {},
   "outputs": [],
   "source": [
    "from ipywidgets import interact, interactive\n",
    "from IPython.display import clear_output, display, HTML"
   ]
  },
  {
   "cell_type": "code",
   "execution_count": 55,
   "id": "d2f9e53f",
   "metadata": {},
   "outputs": [],
   "source": [
    "import numpy as np\n",
    "from scipy import integrate\n",
    "\n",
    "from matplotlib import pyplot as plt\n",
    "from mpl_toolkits.mplot3d import Axes3D\n",
    "from matplotlib.colors import cnames\n",
    "from matplotlib import animation"
   ]
  },
  {
   "cell_type": "code",
   "execution_count": null,
   "id": "655d0d22",
   "metadata": {},
   "outputs": [],
   "source": []
  }
 ],
 "metadata": {
  "kernelspec": {
   "display_name": "Python 3 (ipykernel)",
   "language": "python",
   "name": "python3"
  },
  "language_info": {
   "codemirror_mode": {
    "name": "ipython",
    "version": 3
   },
   "file_extension": ".py",
   "mimetype": "text/x-python",
   "name": "python",
   "nbconvert_exporter": "python",
   "pygments_lexer": "ipython3",
   "version": "3.9.12"
  }
 },
 "nbformat": 4,
 "nbformat_minor": 5
}

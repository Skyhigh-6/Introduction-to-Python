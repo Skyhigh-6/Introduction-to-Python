{
 "cells": [
  {
   "cell_type": "code",
   "execution_count": 1,
   "id": "725e9aee",
   "metadata": {},
   "outputs": [],
   "source": [
    "# Logical and Bitwise Operator"
   ]
  },
  {
   "cell_type": "code",
   "execution_count": 3,
   "id": "16c1989a",
   "metadata": {},
   "outputs": [
    {
     "name": "stdout",
     "output_type": "stream",
     "text": [
      "Enter a Month - 4\n",
      "It is a 30 Day Month\n"
     ]
    }
   ],
   "source": [
    "m = int(input(\"Enter a Month - \"))\n",
    "\n",
    "if m == 1 or m == 3 or m == 5 or m == 7 or m == 8 or m == 10 or m == 12:\n",
    "    print(\"It is a 31 Day Month\")\n",
    "elif m == 4 or m == 6 or m == 9 or m == 11:\n",
    "    print(\"It is a 30 Day Month\")\n",
    "elif m == 2:\n",
    "    if y1 % 4 == 0:\n",
    "        print(\"It is a 29 Day Month\")\n",
    "    else:\n",
    "        print(\"It is a 28 Day Month\")"
   ]
  },
  {
   "cell_type": "code",
   "execution_count": 4,
   "id": "6c2890a6",
   "metadata": {},
   "outputs": [
    {
     "name": "stdout",
     "output_type": "stream",
     "text": [
      "Enter a Month - 12\n",
      "It is a 31 Day Month\n"
     ]
    }
   ],
   "source": [
    "m = int(input(\"Enter a Month - \"))\n",
    "\n",
    "if m == 1 or m == 3 or m == 5 or m == 7 or m == 8 or m == 10 or m == 12:\n",
    "    print(\"It is a 31 Day Month\")\n",
    "elif m == 4 or m == 6 or m == 9 or m == 11:\n",
    "    print(\"It is a 30 Day Month\")\n",
    "elif m == 2:\n",
    "    if y1 % 4 == 0:\n",
    "        print(\"It is a 29 Day Month\")\n",
    "    else:\n",
    "        print(\"It is a 28 Day Month\")"
   ]
  },
  {
   "cell_type": "code",
   "execution_count": 5,
   "id": "e994b992",
   "metadata": {},
   "outputs": [
    {
     "name": "stdout",
     "output_type": "stream",
     "text": [
      "Enter Number 1 - 12\n",
      "Enter Number 1 - 23\n",
      "Enter Number 1 - 445\n",
      "445 is Max\n"
     ]
    }
   ],
   "source": [
    "a = int(input(\"Enter Number 1 - \"))\n",
    "b = int(input(\"Enter Number 1 - \"))\n",
    "c = int(input(\"Enter Number 1 - \"))\n",
    "\n",
    "if a > b and a > c:\n",
    "    print(a ,\"is Max\")\n",
    "elif b > c:\n",
    "    print(b ,\"is Max\")\n",
    "else:\n",
    "    print(c ,\"is Max\")    "
   ]
  },
  {
   "cell_type": "code",
   "execution_count": 6,
   "id": "68e2e9f1",
   "metadata": {},
   "outputs": [
    {
     "name": "stdout",
     "output_type": "stream",
     "text": [
      "Enter Number 1 - 0\n",
      "It is Zero(0)\n"
     ]
    }
   ],
   "source": [
    "a = int(input(\"Enter Number 1 - \"))\n",
    "\n",
    "if not a:\n",
    "    print(\"It is Zero(0)\")\n",
    "else:\n",
    "    print(\"It is non Zero Number\")"
   ]
  },
  {
   "cell_type": "code",
   "execution_count": 8,
   "id": "a9c0478c",
   "metadata": {},
   "outputs": [],
   "source": [
    "# You can the number too"
   ]
  },
  {
   "cell_type": "code",
   "execution_count": 7,
   "id": "e202dc76",
   "metadata": {},
   "outputs": [
    {
     "name": "stdout",
     "output_type": "stream",
     "text": [
      "Enter Number 1 - 1\n",
      "It is non Zero Number\n"
     ]
    }
   ],
   "source": [
    "a = int(input(\"Enter Number 1 - \"))\n",
    "\n",
    "if not a:\n",
    "    print(\"It is One(1)\")\n",
    "else:\n",
    "    print(\"It is non Zero Number\")"
   ]
  },
  {
   "cell_type": "code",
   "execution_count": 9,
   "id": "fd149e1e",
   "metadata": {},
   "outputs": [],
   "source": [
    "# Bitwise Operators can work on Integers works on Binary too"
   ]
  },
  {
   "cell_type": "code",
   "execution_count": 11,
   "id": "9266ef9b",
   "metadata": {},
   "outputs": [],
   "source": [
    "# Formula:\n",
    "\n",
    "# a = 10 = 1010   - (Binary)\n",
    "# b = 4  = 0100   - (Binary)\n",
    "\n",
    "# a & b = 1010\n",
    "#          &\n",
    "#         0100\n",
    "#       = 0000\n",
    "#       = 0 (Decimal)"
   ]
  },
  {
   "cell_type": "code",
   "execution_count": 10,
   "id": "40656111",
   "metadata": {},
   "outputs": [
    {
     "name": "stdout",
     "output_type": "stream",
     "text": [
      "0\n"
     ]
    }
   ],
   "source": [
    "# Bitwise Operators - AND(&)\n",
    "\n",
    "a = 10\n",
    "b = 4\n",
    "\n",
    "print(a & b)"
   ]
  },
  {
   "cell_type": "code",
   "execution_count": 12,
   "id": "720a03ac",
   "metadata": {},
   "outputs": [],
   "source": [
    "# Bitwise Shift Operators:\n",
    "\n",
    "# Bitwise right shift: Shifts the bits of the number to the rt. and fills 0 and voids lf. as a result.\n",
    "# Similiar effects as of dividind the number with some power of two."
   ]
  },
  {
   "cell_type": "code",
   "execution_count": 13,
   "id": "546b7e21",
   "metadata": {},
   "outputs": [
    {
     "name": "stdout",
     "output_type": "stream",
     "text": [
      "50\n",
      "25\n",
      "12\n"
     ]
    }
   ],
   "source": [
    "a = 100\n",
    "\n",
    "print(a>>1)\n",
    "print(a>>2)\n",
    "print(a>>3)"
   ]
  },
  {
   "cell_type": "code",
   "execution_count": 14,
   "id": "9e89aca0",
   "metadata": {},
   "outputs": [],
   "source": [
    "# Bitwise left shift: Shifts the bits of the number to the lf. and fills 0 and voids lf. as a result.\n",
    "# Similiar effects as of multiplying the number with some power of two."
   ]
  },
  {
   "cell_type": "code",
   "execution_count": 16,
   "id": "54068486",
   "metadata": {},
   "outputs": [
    {
     "name": "stdout",
     "output_type": "stream",
     "text": [
      "10\n",
      "20\n",
      "40\n"
     ]
    }
   ],
   "source": [
    "a = 5\n",
    "\n",
    "print(a<<1)\n",
    "print(a<<2)\n",
    "print(a<<3)"
   ]
  },
  {
   "cell_type": "code",
   "execution_count": 17,
   "id": "804a9015",
   "metadata": {},
   "outputs": [
    {
     "name": "stdout",
     "output_type": "stream",
     "text": [
      "2\n",
      "4\n",
      "8\n"
     ]
    }
   ],
   "source": [
    "print(1<<1)\n",
    "print(1<<2)\n",
    "print(1<<3)"
   ]
  },
  {
   "cell_type": "code",
   "execution_count": 18,
   "id": "9254a43c",
   "metadata": {},
   "outputs": [],
   "source": [
    "# Bitwise Shift Operators - 2n"
   ]
  },
  {
   "cell_type": "code",
   "execution_count": 19,
   "id": "ce4592af",
   "metadata": {},
   "outputs": [
    {
     "name": "stdout",
     "output_type": "stream",
     "text": [
      "Enter the Value of n : 5\n",
      "32\n"
     ]
    }
   ],
   "source": [
    "# code to print 2 to the power of n\n",
    "\n",
    "n = int(input(\"Enter the Value of n : \"))\n",
    "ans = 1\n",
    "\n",
    "while n > 0 :\n",
    "    ans *= 2\n",
    "    n -= 1\n",
    "print(ans)    "
   ]
  },
  {
   "cell_type": "code",
   "execution_count": 20,
   "id": "ade8fb1d",
   "metadata": {},
   "outputs": [
    {
     "name": "stdout",
     "output_type": "stream",
     "text": [
      "Enter the Value of n : 5\n",
      "32\n"
     ]
    }
   ],
   "source": [
    "# code to print 2 to the power of n\n",
    "\n",
    "n = int(input(\"Enter the Value of n : \"))\n",
    "print(1<<n)\n"
   ]
  },
  {
   "cell_type": "code",
   "execution_count": 22,
   "id": "f5d5afbc",
   "metadata": {},
   "outputs": [],
   "source": [
    "# Basics Concepts of string in PY\n",
    "# A string is a sequence of characters, its also sequence of Unicode Characters"
   ]
  },
  {
   "cell_type": "code",
   "execution_count": 39,
   "id": "afe57e71",
   "metadata": {},
   "outputs": [
    {
     "name": "stdout",
     "output_type": "stream",
     "text": [
      "Deepti\n",
      "B\n",
      "livelife No.1\n",
      "lifeone\n",
      "NJ\n"
     ]
    }
   ],
   "source": [
    "fname = \"Deepti\"\n",
    "lname = 'B'\n",
    "addr  = \"\"\"livelife No.1\n",
    "lifeone\n",
    "NJ\"\"\"\n",
    "\n",
    "print(fname)\n",
    "print(lname)\n",
    "print(addr)"
   ]
  },
  {
   "cell_type": "code",
   "execution_count": 41,
   "id": "5b432bc3",
   "metadata": {},
   "outputs": [
    {
     "name": "stdout",
     "output_type": "stream",
     "text": [
      "PYTHONCODE\n",
      "10\n",
      "abcdefg\n",
      "hijklmnoprrstuvwxyz\n",
      "27\n",
      "abcdefg\n",
      "hijklmnop\n",
      "qrstuvwxyz\n",
      "28\n"
     ]
    }
   ],
   "source": [
    "s1 = \"PYTHONCODE\"\n",
    "s2 = \"\"\"abcdefg\n",
    "hijklmnoprrstuvwxyz\"\"\"\n",
    "s3 = \"\"\"abcdefg\n",
    "hijklmnop\n",
    "qrstuvwxyz\"\"\"\n",
    "\n",
    "print(s1)\n",
    "print(len(s1))\n",
    "print(s2)\n",
    "print(len(s2))\n",
    "print(s3)\n",
    "print(len(s3))"
   ]
  },
  {
   "cell_type": "code",
   "execution_count": 42,
   "id": "053286e2",
   "metadata": {},
   "outputs": [],
   "source": [
    "# 0    1     2    3    4    5    6    7    8    9\n",
    "# P    Y     T    H    O    N    C    O    D    E\n",
    "# -10 -9    -8   -7   -6   -5   -4   -3   -2   -1"
   ]
  },
  {
   "cell_type": "code",
   "execution_count": 43,
   "id": "63c25b75",
   "metadata": {},
   "outputs": [
    {
     "name": "stdout",
     "output_type": "stream",
     "text": [
      "PYTHONCODE\n",
      "P\n",
      "Y\n",
      "D\n",
      "E\n",
      "C\n",
      "P\n"
     ]
    }
   ],
   "source": [
    "s = \"PYTHONCODE\"\n",
    "\n",
    "print(s)\n",
    "print(s[0])\n",
    "print(s[1])\n",
    "print(s[8])\n",
    "print(s[-1])\n",
    "print(s[-4])\n",
    "print(s[-10])"
   ]
  },
  {
   "cell_type": "code",
   "execution_count": 46,
   "id": "b71417bd",
   "metadata": {},
   "outputs": [],
   "source": [
    "# Printing Strings with loops"
   ]
  },
  {
   "cell_type": "code",
   "execution_count": 45,
   "id": "2dd51a19",
   "metadata": {},
   "outputs": [
    {
     "name": "stdout",
     "output_type": "stream",
     "text": [
      "abcdefghi\n",
      "\n",
      "Printing the string with for loop\n",
      "a\n",
      "b\n",
      "c\n",
      "d\n",
      "e\n",
      "f\n",
      "g\n",
      "h\n",
      "i\n"
     ]
    }
   ],
   "source": [
    "s = \"abcdefghi\"\n",
    "\n",
    "print(s)\n",
    "print(\"\\nPrinting the string with for loop\")\n",
    "for i in s:\n",
    "    print(i)"
   ]
  },
  {
   "cell_type": "code",
   "execution_count": 47,
   "id": "55b88c26",
   "metadata": {},
   "outputs": [
    {
     "name": "stdout",
     "output_type": "stream",
     "text": [
      "abcdefghi\n",
      "\n",
      "Printing the string with for loop\n",
      "abcdefghi"
     ]
    }
   ],
   "source": [
    "s = \"abcdefghi\"\n",
    "\n",
    "print(s)\n",
    "print(\"\\nPrinting the string with for loop\")\n",
    "for i in s:\n",
    "    print(i,end=\"\")"
   ]
  },
  {
   "cell_type": "code",
   "execution_count": 48,
   "id": "e2f6de23",
   "metadata": {},
   "outputs": [
    {
     "name": "stdout",
     "output_type": "stream",
     "text": [
      "abcdefghi\n",
      "\n",
      "Printing the string with for loop\n",
      "abcdefghi"
     ]
    }
   ],
   "source": [
    "s = \"abcdefghi\"\n",
    "\n",
    "print(s)\n",
    "print(\"\\nPrinting the string with for loop\")\n",
    "for i in range(0,len(s)):\n",
    "    print(s[i],end=\"\")"
   ]
  },
  {
   "cell_type": "code",
   "execution_count": 49,
   "id": "7fe80b95",
   "metadata": {},
   "outputs": [],
   "source": [
    "# String Slices"
   ]
  },
  {
   "cell_type": "code",
   "execution_count": 50,
   "id": "53d76eaf",
   "metadata": {},
   "outputs": [],
   "source": [
    "# 0    1     2    3    4    5    6    7    8    9\n",
    "# P    Y     T    H    O    N    C    O    D    E\n",
    "# -10 -9    -8   -7   -6   -5   -4   -3   -2   -1"
   ]
  },
  {
   "cell_type": "code",
   "execution_count": 51,
   "id": "995e0658",
   "metadata": {},
   "outputs": [
    {
     "name": "stdout",
     "output_type": "stream",
     "text": [
      "PYTHONCODE\n",
      "PYTH\n",
      "THONC\n",
      "HO\n",
      "ONC\n",
      "\n",
      "PYTHONCODE\n",
      "\n",
      "E\n",
      "PYTHONCOD\n"
     ]
    }
   ],
   "source": [
    "s = \"PYTHONCODE\"\n",
    "\n",
    "print(s)\n",
    "print(s[0:4])\n",
    "print(s[2:7])\n",
    "print(s[3:5])\n",
    "print(s[-6:-3])\n",
    "print(s[-3:-6])  # lower num doesnt appear\n",
    "print(s[0:])\n",
    "print(s[:0])  # No ouput - Blank\n",
    "print(s[-1:])\n",
    "print(s[:-1]) # exlucding E - will p/u all Alphabets"
   ]
  },
  {
   "cell_type": "code",
   "execution_count": 52,
   "id": "4326dc95",
   "metadata": {},
   "outputs": [
    {
     "name": "stdout",
     "output_type": "stream",
     "text": [
      "PY\n"
     ]
    }
   ],
   "source": [
    "print(s[:2])"
   ]
  },
  {
   "cell_type": "code",
   "execution_count": 53,
   "id": "efe14a2a",
   "metadata": {},
   "outputs": [],
   "source": [
    "# 0    1     2    3    4    5    6    7    8    9\n",
    "# P    Y     T    H    O    N    C    O    D    E\n",
    "# -10 -9    -8   -7   -6   -5   -4   -3   -2   -1"
   ]
  },
  {
   "cell_type": "code",
   "execution_count": 54,
   "id": "aba48aed",
   "metadata": {},
   "outputs": [
    {
     "name": "stdout",
     "output_type": "stream",
     "text": [
      "PYTHONCODE\n",
      "HONCO\n",
      "\n",
      "\n",
      "DOCNO\n",
      "E\n",
      "PYTHONCODE\n",
      "PYTHONCODE\n"
     ]
    }
   ],
   "source": [
    "s = \"PYTHONCODE\"\n",
    "\n",
    "print(s)\n",
    "print(s[-7:-2])\n",
    "print(s[-2:-7]) # lower num - blank\n",
    "print(s[-1:-2]) # lower num - blank\n",
    "print(s[-2:-7:-1])\n",
    "print(s[-1])\n",
    "print(s[:])\n",
    "print(s[::])"
   ]
  },
  {
   "cell_type": "code",
   "execution_count": 55,
   "id": "f50ea6e3",
   "metadata": {},
   "outputs": [],
   "source": [
    "# lower()     - returns the string in lower case\n",
    "# upper()     - returns the string in upper case\n",
    "# swapcase()  - Swap cases, lower case becomes upper case and vice versa"
   ]
  },
  {
   "cell_type": "code",
   "execution_count": 56,
   "id": "f8ff0497",
   "metadata": {},
   "outputs": [
    {
     "name": "stdout",
     "output_type": "stream",
     "text": [
      "This is PYTHON Code\n",
      "this is python code\n",
      "THIS IS PYTHON CODE\n",
      "tHIS IS python cODE\n"
     ]
    }
   ],
   "source": [
    "s = \"This is PYTHON Code\"\n",
    "\n",
    "print(s)\n",
    "print(s.lower())\n",
    "print(s.upper())\n",
    "print(s.swapcase())"
   ]
  },
  {
   "cell_type": "code",
   "execution_count": 57,
   "id": "a17e5a1b",
   "metadata": {},
   "outputs": [],
   "source": [
    "# String Methods\n",
    "\n",
    "# strip()    - removes any whitespace from the beginning or the end\n",
    "# lstrip()   - returns lt. trim version of the string\n",
    "# rstrip()   - returns rt. trim version of the string"
   ]
  },
  {
   "cell_type": "code",
   "execution_count": 58,
   "id": "11835ef5",
   "metadata": {},
   "outputs": [
    {
     "name": "stdout",
     "output_type": "stream",
     "text": [
      "This is PYTHON Code\n",
      "This is PYTHON Code\n",
      "\n",
      "Store string output in another string\n",
      "This is PYTHON Code\n"
     ]
    }
   ],
   "source": [
    "s = \"This is PYTHON Code\"\n",
    "\n",
    "print(s)\n",
    "print(s.strip())\n",
    "\n",
    "print(\"\\nStore string output in another string\")\n",
    "news = s.strip()    # new s\n",
    "print(news)"
   ]
  },
  {
   "cell_type": "code",
   "execution_count": 59,
   "id": "1d80b836",
   "metadata": {},
   "outputs": [
    {
     "name": "stdout",
     "output_type": "stream",
     "text": [
      "This is PYTHON Code\n",
      "This is PYTHON Code\n",
      "This is PYTHON Code\n"
     ]
    }
   ],
   "source": [
    "s = \"This is PYTHON Code\"\n",
    "\n",
    "print(s)\n",
    "print(s.lstrip())\n",
    "print(s.rstrip())"
   ]
  },
  {
   "cell_type": "code",
   "execution_count": 60,
   "id": "9370b3e3",
   "metadata": {},
   "outputs": [],
   "source": [
    "# replace(s1, s2) - replace string with another\n",
    "# split()   - Split the string into substrings if it finds instances of the separator"
   ]
  },
  {
   "cell_type": "code",
   "execution_count": 66,
   "id": "a8343162",
   "metadata": {},
   "outputs": [
    {
     "name": "stdout",
     "output_type": "stream",
     "text": [
      "This is PYTHON Code\n",
      "This is PYTHON Code\n",
      "This is PYTHON Code\n"
     ]
    }
   ],
   "source": [
    "S = \"This is PYTHON Code\"\n",
    "\n",
    "print(S)\n",
    "print(S.replace('S', 'Q'))\n",
    "print(S)"
   ]
  },
  {
   "cell_type": "code",
   "execution_count": 65,
   "id": "e0817cca",
   "metadata": {},
   "outputs": [
    {
     "name": "stdout",
     "output_type": "stream",
     "text": [
      "This is PYTHONS Code\n",
      "This is PYTHONZZZ Code\n"
     ]
    }
   ],
   "source": [
    "S = \"This is PYTHONS Code\"\n",
    "\n",
    "print(S)\n",
    "print(S.replace('S','ZZZ'))"
   ]
  },
  {
   "cell_type": "code",
   "execution_count": 67,
   "id": "40184d20",
   "metadata": {},
   "outputs": [
    {
     "name": "stdout",
     "output_type": "stream",
     "text": [
      "This is PYTHONS Code\n",
      "['This is PYTHON', ' Code']\n"
     ]
    }
   ],
   "source": [
    "S = \"This is PYTHONS Code\"\n",
    "\n",
    "print(S)\n",
    "print(S.split(\"S\"))"
   ]
  },
  {
   "cell_type": "code",
   "execution_count": 68,
   "id": "58b35654",
   "metadata": {},
   "outputs": [
    {
     "name": "stdout",
     "output_type": "stream",
     "text": [
      "This is PYTHONS Code\n",
      "['This', 'is', 'PYTHONS', 'Code']\n"
     ]
    }
   ],
   "source": [
    "S = \"This is PYTHONS Code\"\n",
    "\n",
    "print(S)\n",
    "print(S.split(\" \"))"
   ]
  },
  {
   "cell_type": "code",
   "execution_count": 69,
   "id": "0f4fa148",
   "metadata": {},
   "outputs": [
    {
     "name": "stdout",
     "output_type": "stream",
     "text": [
      "Here is the Code\n",
      "['Here ', ' the Code']\n"
     ]
    }
   ],
   "source": [
    "S = \"Here is the Code\"\n",
    "\n",
    "print(S)\n",
    "print(S.split(\"is\"))"
   ]
  },
  {
   "cell_type": "code",
   "execution_count": 70,
   "id": "8330e0da",
   "metadata": {},
   "outputs": [],
   "source": [
    "# capitalize()  - Converts the first character to Upper case\n",
    "# title()       - Converts the first character of each word to upeer case\n",
    "# count()       - Returns the number of times a specified value occurs in a string\n",
    "# startswith()  - Returns true if the string starts with the specified value\n",
    "# endswith()    - Returns true if the string ends with the specified value"
   ]
  },
  {
   "cell_type": "code",
   "execution_count": 71,
   "id": "610aeaf9",
   "metadata": {},
   "outputs": [
    {
     "name": "stdout",
     "output_type": "stream",
     "text": [
      "this is Python is Code\n",
      "This is python is code\n",
      "This Is Python Is Code\n",
      "2\n",
      "3\n",
      "True\n",
      "False\n",
      "True\n",
      "False\n"
     ]
    }
   ],
   "source": [
    "s = \"this is Python is Code\"\n",
    "\n",
    "print(s)\n",
    "print(s.capitalize())\n",
    "print(s.title())\n",
    "print(s.count('t'))\n",
    "print(s.count('is'))\n",
    "print(s.startswith('th'))\n",
    "print(s.startswith('Th'))\n",
    "print(s.endswith('de'))\n",
    "print(s.endswith('De'))"
   ]
  },
  {
   "cell_type": "code",
   "execution_count": 1,
   "id": "d7e20b3c",
   "metadata": {},
   "outputs": [],
   "source": [
    "# find()    - Searches the string for a specified value and returns the position of where it was found\n",
    "# index()   - Searches the string for a specified value and returns the position of where it was found\n",
    "# rindex()  - Searches the string for a specified value and returns the last position of where it was found"
   ]
  },
  {
   "cell_type": "code",
   "execution_count": 2,
   "id": "7eb2d655",
   "metadata": {},
   "outputs": [
    {
     "name": "stdout",
     "output_type": "stream",
     "text": [
      "12\n",
      "12\n",
      "19\n",
      "2\n",
      "2\n",
      "15\n"
     ]
    }
   ],
   "source": [
    "s = \"This is Python is Code\"\n",
    "\n",
    "print(s.find('o'))\n",
    "print(s.index('o'))\n",
    "print(s.rindex('o'))\n",
    "print(s.find('is'))\n",
    "print(s.index('is'))\n",
    "print(s.rindex('is'))"
   ]
  },
  {
   "cell_type": "code",
   "execution_count": 3,
   "id": "251be307",
   "metadata": {},
   "outputs": [],
   "source": [
    "# isalnum()       -Returns True if all characters in the string are Alphanumeric\n",
    "# isalpha()       -Returns True if all characters in the string are in the Alphabet\n",
    "# isdecimal()     -Returns True if all characters in the string are in Decimals\n",
    "# isdigit()       -Returns True if all characters in the string are Digits\n",
    "# isidentifier()  -Returns True if the string is an Identifier\n",
    "# isnumeric()     -Returns True if all characters in the string are Numeric"
   ]
  },
  {
   "cell_type": "code",
   "execution_count": 4,
   "id": "c6f4182b",
   "metadata": {},
   "outputs": [
    {
     "name": "stdout",
     "output_type": "stream",
     "text": [
      "True True False\n",
      "True False False\n",
      "False True False\n",
      "False True False\n",
      "True False False\n",
      "False True False\n"
     ]
    }
   ],
   "source": [
    "s1 = \"abcdefghijklm\"\n",
    "s2 = \"1234567890\"\n",
    "s3 = \"abc 123\"\n",
    "\n",
    "print(s1.isalnum(), s2.isalnum(), s3.isalnum())\n",
    "print(s1.isalpha(), s2.isalpha(), s3.isalpha())\n",
    "print(s1.isdecimal(), s2.isdecimal(), s3.isdecimal())\n",
    "print(s1.isdigit(), s2.isdigit(), s3.isdigit())\n",
    "print(s1.isidentifier(), s2.isidentifier(), s3.isidentifier())  # is not an identifier\n",
    "print(s1.isnumeric(), s2.isnumeric(), s3.isnumeric())"
   ]
  },
  {
   "cell_type": "code",
   "execution_count": 5,
   "id": "5e220453",
   "metadata": {},
   "outputs": [
    {
     "name": "stdout",
     "output_type": "stream",
     "text": [
      "True False\n",
      "False False\n"
     ]
    }
   ],
   "source": [
    "s1 = \"qwert\"\n",
    "s2 = \"1234567890\"\n",
    "s3 = \"abc 123\"\n",
    "s4 = \"22bac\"\n",
    "\n",
    "print(s1.isidentifier(), s2.isidentifier())\n",
    "print(s3.isidentifier(), s4.isidentifier())\n"
   ]
  },
  {
   "cell_type": "code",
   "execution_count": 6,
   "id": "25210871",
   "metadata": {},
   "outputs": [],
   "source": [
    "# islower() - Returns True if all characters in the string are lower case\n",
    "# isupper() - Returns True if all characters in the string are upper case\n",
    "# istitle() - Returns True if the string follows the rule of a title\n",
    "# isspace() - Returns True if all characters in the string are Whitespaces\n",
    "# zfill()   - Fills the string with a specified number of 0 values at the beginning"
   ]
  },
  {
   "cell_type": "code",
   "execution_count": 7,
   "id": "c540ced8",
   "metadata": {},
   "outputs": [
    {
     "name": "stdout",
     "output_type": "stream",
     "text": [
      "True False False\n",
      "False True False\n",
      "False False True\n"
     ]
    }
   ],
   "source": [
    "s1 = \"abcde\"\n",
    "s2 = \"ABCDE\"\n",
    "s3 = \"Abcde\"\n",
    "\n",
    "print(s1.islower(), s2.islower(), s3.islower())\n",
    "print(s1.isupper(), s2.isupper(), s3.isupper())\n",
    "print(s1.istitle(), s2.istitle(), s3.istitle())"
   ]
  },
  {
   "cell_type": "code",
   "execution_count": 8,
   "id": "68eaed98",
   "metadata": {},
   "outputs": [
    {
     "name": "stdout",
     "output_type": "stream",
     "text": [
      "False True\n"
     ]
    }
   ],
   "source": [
    "s1 = \"Abcde\"\n",
    "s2 = \"      \"\n",
    "\n",
    "print(s1.isspace(),s2.isspace())"
   ]
  },
  {
   "cell_type": "code",
   "execution_count": 9,
   "id": "948996ac",
   "metadata": {},
   "outputs": [
    {
     "name": "stdout",
     "output_type": "stream",
     "text": [
      "ab\n",
      "abcd\n",
      "abcdefg\n",
      "\n",
      "with zfill\n",
      "00000000ab\n",
      "000000abcd\n",
      "000abcdefg\n"
     ]
    }
   ],
   "source": [
    "s1 = \"ab\"\n",
    "s2 = \"abcd\"\n",
    "s3 = \"abcdefg\"\n",
    "\n",
    "print(s1)\n",
    "print(s2)\n",
    "print(s3)\n",
    "\n",
    "print(\"\\nwith zfill\")\n",
    "print(s1.zfill(10))    #  8 - Zero's than ab\n",
    "print(s2.zfill(10))    #  6 - Zero's than abcd\n",
    "print(s3.zfill(10))    #  3 - Zero's than abcdefg"
   ]
  },
  {
   "cell_type": "code",
   "execution_count": 11,
   "id": "6fd12935",
   "metadata": {},
   "outputs": [],
   "source": [
    "#  in and not in operators and String Concatenation\n",
    "# if a certain phrase or chararcter is present in a string, we can use the keywords in or not in."
   ]
  },
  {
   "cell_type": "code",
   "execution_count": 12,
   "id": "02706f00",
   "metadata": {},
   "outputs": [
    {
     "name": "stdout",
     "output_type": "stream",
     "text": [
      "The Pyhton Code\n",
      "True\n"
     ]
    }
   ],
   "source": [
    "s = \"The Pyhton Code\"\n",
    "\n",
    "y = \"ton\" in s\n",
    "\n",
    "print(s)\n",
    "print(y)"
   ]
  },
  {
   "cell_type": "code",
   "execution_count": 13,
   "id": "508b5809",
   "metadata": {},
   "outputs": [
    {
     "name": "stdout",
     "output_type": "stream",
     "text": [
      "The Pyhton Code\n",
      "False\n"
     ]
    }
   ],
   "source": [
    "s = \"The Pyhton Code\"\n",
    "\n",
    "y = \"python\" in s\n",
    "\n",
    "print(s)\n",
    "print(y)"
   ]
  },
  {
   "cell_type": "code",
   "execution_count": 14,
   "id": "de871a23",
   "metadata": {},
   "outputs": [],
   "source": [
    "# String Concatenation\n",
    "# To concatenate, or combine, two strings you can use the + operator."
   ]
  },
  {
   "cell_type": "code",
   "execution_count": 15,
   "id": "c34dc59f",
   "metadata": {},
   "outputs": [
    {
     "name": "stdout",
     "output_type": "stream",
     "text": [
      "The Pyhton CodeCode\n",
      "The Pyhton Code Code\n"
     ]
    }
   ],
   "source": [
    "s1 = \"The Pyhton Code\"\n",
    "s2 = \"Code\"\n",
    "\n",
    "print(s1 + s2)\n",
    "print(s1 + \" \" + s2)"
   ]
  },
  {
   "cell_type": "code",
   "execution_count": 16,
   "id": "fcc7e6d7",
   "metadata": {},
   "outputs": [],
   "source": [
    "# Py collection of lists\n",
    "\n",
    "# Collection Name    Ordered   Changeable   Indexed   Duplicate Members  Syntax\n",
    "# lists                YES       YES         YES        YES                []\n",
    "# Tuple                YES       NO          YES        YES                ()\n",
    "# Set                  NO        NO          NO         NO                 {}\n",
    "# Dictionary           NO        YES         YES        NO                 {:}\n",
    "\n",
    "# In Python, list is a collection of items of different data types.\n",
    "# It is an ordered sequence of items.\n",
    "# A list object contains one or more items, not necessarily of the asme type,\n",
    "# which are separated by comma and enclosed in square brackets []"
   ]
  },
  {
   "cell_type": "code",
   "execution_count": 19,
   "id": "c12a482f",
   "metadata": {},
   "outputs": [],
   "source": [
    "# Indexing and Slicing the list\n",
    "\n",
    "#               0   1   2   3    4\n",
    "# #  numbers = [5, -10, 7, 11, 100]\n",
    "#              -5  -4  -3  -2  -1\n"
   ]
  },
  {
   "cell_type": "code",
   "execution_count": 20,
   "id": "a367c680",
   "metadata": {},
   "outputs": [
    {
     "name": "stdout",
     "output_type": "stream",
     "text": [
      "[5, -10, 7, 100]\n",
      "5\n",
      "-10\n",
      "100\n",
      "100\n",
      "-10\n"
     ]
    }
   ],
   "source": [
    "numbers = [5, -10, 7, 100]\n",
    "\n",
    "print(numbers)\n",
    "print(numbers[0])\n",
    "print(numbers[1])\n",
    "print(numbers[3])\n",
    "print(numbers[-1])\n",
    "print(numbers[-3])"
   ]
  },
  {
   "cell_type": "code",
   "execution_count": 22,
   "id": "75061abb",
   "metadata": {},
   "outputs": [],
   "source": [
    "# Indexing and Slicing the list\n",
    "\n",
    "#               0   1   2   3    4\n",
    "# #  numbers = [5, -10, 7, 11, 100]\n",
    "#              -5  -4  -3  -2  -1"
   ]
  },
  {
   "cell_type": "code",
   "execution_count": 21,
   "id": "12c6c394",
   "metadata": {},
   "outputs": [
    {
     "name": "stdout",
     "output_type": "stream",
     "text": [
      "[5, -10, 7, 100]\n",
      "[5, -10, 7]\n",
      "[-10, 7]\n",
      "[]\n",
      "[5, -10, 7]\n",
      "[100, 7]\n",
      "[5, -10, 7]\n",
      "[100, 7, -10, 5]\n"
     ]
    }
   ],
   "source": [
    "numbers = [5, -10, 7, 100]\n",
    "\n",
    "print(numbers)\n",
    "print(numbers[0:3])\n",
    "print(numbers[1:3])\n",
    "print(numbers[3:1])   # (+) highest numbers will appear blank\n",
    "print(numbers[:3])\n",
    "print(numbers[3:1:-1])\n",
    "print(numbers[-4:-1])\n",
    "print(numbers[::-1])"
   ]
  },
  {
   "cell_type": "code",
   "execution_count": 23,
   "id": "ef38cb5b",
   "metadata": {},
   "outputs": [
    {
     "name": "stdout",
     "output_type": "stream",
     "text": [
      "[]\n"
     ]
    }
   ],
   "source": [
    "print(numbers[3:2])"
   ]
  },
  {
   "cell_type": "code",
   "execution_count": 24,
   "id": "5aa80c86",
   "metadata": {},
   "outputs": [
    {
     "name": "stdout",
     "output_type": "stream",
     "text": [
      "[5, -10, 7, 100]\n",
      "\n",
      "Using For Loop and range()\n",
      "5, -10, 7, 100, \n",
      "Using For Loop and list\n",
      "5, -10, 7, 100, "
     ]
    }
   ],
   "source": [
    "numbers = [5, -10, 7, 100]\n",
    "print(numbers)\n",
    "\n",
    "print(\"\\nUsing For Loop and range()\")\n",
    "for i in range(0, len(numbers)) :\n",
    "    print(numbers[i], end=\", \")\n",
    "    \n",
    "print(\"\\nUsing For Loop and list\")\n",
    "for i in numbers : print(i, end=\", \")"
   ]
  },
  {
   "cell_type": "code",
   "execution_count": 25,
   "id": "000b1f0f",
   "metadata": {},
   "outputs": [],
   "source": [
    "# List Methods \n",
    "# count()\n",
    "# index()\n",
    "\n",
    "#               0   1   2   3    4\n",
    "# #  numbers = [5, -10, 7, 11, 100]\n",
    "#              -5  -4  -3  -2  -1"
   ]
  },
  {
   "cell_type": "code",
   "execution_count": 26,
   "id": "6a62701b",
   "metadata": {},
   "outputs": [
    {
     "name": "stdout",
     "output_type": "stream",
     "text": [
      "[1, 4, 3, 4, 5, 6, 4, 8, 9]\n",
      "3\n",
      "1\n",
      "0\n"
     ]
    },
    {
     "ename": "ValueError",
     "evalue": "10 is not in list",
     "output_type": "error",
     "traceback": [
      "\u001b[1;31m---------------------------------------------------------------------------\u001b[0m",
      "\u001b[1;31mValueError\u001b[0m                                Traceback (most recent call last)",
      "\u001b[1;32m~\\AppData\\Local\\Temp\\ipykernel_17760\\1791321274.py\u001b[0m in \u001b[0;36m<module>\u001b[1;34m\u001b[0m\n\u001b[0;32m      5\u001b[0m \u001b[0mprint\u001b[0m\u001b[1;33m(\u001b[0m\u001b[0ma\u001b[0m\u001b[1;33m.\u001b[0m\u001b[0mindex\u001b[0m\u001b[1;33m(\u001b[0m\u001b[1;36m4\u001b[0m\u001b[1;33m)\u001b[0m\u001b[1;33m)\u001b[0m\u001b[1;33m\u001b[0m\u001b[1;33m\u001b[0m\u001b[0m\n\u001b[0;32m      6\u001b[0m \u001b[0mprint\u001b[0m\u001b[1;33m(\u001b[0m\u001b[0ma\u001b[0m\u001b[1;33m.\u001b[0m\u001b[0mcount\u001b[0m\u001b[1;33m(\u001b[0m\u001b[1;36m10\u001b[0m\u001b[1;33m)\u001b[0m\u001b[1;33m)\u001b[0m\u001b[1;33m\u001b[0m\u001b[1;33m\u001b[0m\u001b[0m\n\u001b[1;32m----> 7\u001b[1;33m \u001b[0mprint\u001b[0m\u001b[1;33m(\u001b[0m\u001b[0ma\u001b[0m\u001b[1;33m.\u001b[0m\u001b[0mindex\u001b[0m\u001b[1;33m(\u001b[0m\u001b[1;36m10\u001b[0m\u001b[1;33m)\u001b[0m\u001b[1;33m)\u001b[0m\u001b[1;33m\u001b[0m\u001b[1;33m\u001b[0m\u001b[0m\n\u001b[0m",
      "\u001b[1;31mValueError\u001b[0m: 10 is not in list"
     ]
    }
   ],
   "source": [
    "a = [1, 4, 3, 4, 5, 6, 4, 8, 9]\n",
    "print(a)\n",
    "\n",
    "print(a.count(4))\n",
    "print(a.index(4))\n",
    "print(a.count(10))\n",
    "print(a.index(10))"
   ]
  },
  {
   "cell_type": "code",
   "execution_count": 27,
   "id": "02ede0ea",
   "metadata": {},
   "outputs": [
    {
     "name": "stdout",
     "output_type": "stream",
     "text": [
      "[1, 4, 3, 4, 5, 6, 4, 8, 9]\n",
      "3\n",
      "1\n",
      "10 is not present in a\n"
     ]
    }
   ],
   "source": [
    "a = [1, 4, 3, 4, 5, 6, 4, 8, 9]\n",
    "print(a)\n",
    "\n",
    "print(a.count(4))\n",
    "print(a.index(4))\n",
    "\n",
    "if a.count(10) != 0 :\n",
    "    print(a.index(10))\n",
    "else :\n",
    "    print(\"10 is not present in a\")"
   ]
  },
  {
   "cell_type": "code",
   "execution_count": 28,
   "id": "fcf142aa",
   "metadata": {},
   "outputs": [],
   "source": [
    "# List Method\n",
    "# reverse(), sort()"
   ]
  },
  {
   "cell_type": "code",
   "execution_count": 29,
   "id": "d7cd7da6",
   "metadata": {},
   "outputs": [
    {
     "name": "stdout",
     "output_type": "stream",
     "text": [
      "[1, -4, -7, 3, 9, 2]\n",
      "[2, 9, 3, -7, -4, 1]\n",
      "[-7, -4, 1, 2, 3, 9]\n"
     ]
    }
   ],
   "source": [
    "a = [1, -4, -7, 3, 9, 2]\n",
    "print(a)\n",
    "\n",
    "a.reverse()\n",
    "print(a)\n",
    "\n",
    "a.sort()\n",
    "print(a)"
   ]
  },
  {
   "cell_type": "code",
   "execution_count": 30,
   "id": "f2a233b8",
   "metadata": {},
   "outputs": [
    {
     "name": "stdout",
     "output_type": "stream",
     "text": [
      "[1, -4, -7, 3, 9, 2]\n",
      "[2, 9, 3, -7, -4, 1]\n"
     ]
    }
   ],
   "source": [
    "a = [1, -4, -7, 3, 9, 2]\n",
    "print(a)\n",
    "\n",
    "arev = a[::-1]\n",
    "print(arev)"
   ]
  },
  {
   "cell_type": "code",
   "execution_count": 34,
   "id": "0ba826e8",
   "metadata": {},
   "outputs": [
    {
     "name": "stdout",
     "output_type": "stream",
     "text": [
      "[1, -4, -7, 3, 9, 2]\n",
      "[-7, -4, 1, 2, 3, 9]\n"
     ]
    }
   ],
   "source": [
    "a = [1, -4, -7, 3, 9, 2]\n",
    "print(a)\n",
    "\n",
    "for i in range(len(a)) :\n",
    "    for j in range(i+1, len(a)) :\n",
    "        if a[i] > a[j] :\n",
    "            a[i], a[j] = a[j], a[i]\n",
    "        \n",
    "print(a)              "
   ]
  },
  {
   "cell_type": "code",
   "execution_count": 35,
   "id": "aca4a426",
   "metadata": {},
   "outputs": [],
   "source": [
    "# Adding the elements\n",
    "# append(), insert(), extend()\n",
    "\n",
    "#               0   1   2   3    4\n",
    "# #  numbers = [5, -10, 7, 11, 100]\n",
    "#              -5  -4  -3  -2  -1"
   ]
  },
  {
   "cell_type": "code",
   "execution_count": 36,
   "id": "3c8ed0f1",
   "metadata": {},
   "outputs": [
    {
     "name": "stdout",
     "output_type": "stream",
     "text": [
      "[5, -10, 7, 11, 100]\n",
      "[5, -10, 7, 11, 100, 33]\n",
      "[5, -10, 7, 11, 100, 33, 66]\n",
      "[5, 11, -10, 7, 11, 100, 33, 66]\n",
      "[5, 11, -10, 7, 44, 11, 100, 33, 66]\n"
     ]
    }
   ],
   "source": [
    "numbers = [5, -10, 7, 11, 100]\n",
    "print(numbers)\n",
    "\n",
    "numbers.append(33)\n",
    "print(numbers)\n",
    "\n",
    "numbers.append(66)\n",
    "print(numbers)\n",
    "\n",
    "numbers.insert(1,11)  # (+) indexing placed 1-11\n",
    "print(numbers)\n",
    "\n",
    "numbers.insert(-4,44) # (-) indexing placed -4-44\n",
    "print(numbers)"
   ]
  },
  {
   "cell_type": "code",
   "execution_count": 37,
   "id": "2e00e532",
   "metadata": {},
   "outputs": [
    {
     "name": "stdout",
     "output_type": "stream",
     "text": [
      "[1, 2, 3, 4, 5]\n",
      "['Ram', 'Sita', 'Laxman', 'Urmila']\n",
      "[80.25, 77.3, 90, 66.44]\n",
      "[1, 'Ram', 80.25]\n"
     ]
    }
   ],
   "source": [
    "rolls = [1, 2, 3, 4, 5]\n",
    "names = [\"Ram\", \"Sita\", \"Laxman\", \"Urmila\"]\n",
    "marks = [80.25, 77.30, 90, 66.44]\n",
    "\n",
    "print(rolls)\n",
    "print(names)\n",
    "print(marks)\n",
    "\n",
    "stud1 = []\n",
    "stud1.append(rolls[0])\n",
    "stud1.append(names[0])\n",
    "stud1.append(marks[0])\n",
    "\n",
    "print(stud1)"
   ]
  },
  {
   "cell_type": "code",
   "execution_count": 38,
   "id": "a7e2ea97",
   "metadata": {},
   "outputs": [
    {
     "name": "stdout",
     "output_type": "stream",
     "text": [
      "[1, 2, 3]\n",
      "[4, 5, 6, 7]\n",
      "[1, 2, 3, 4, 5, 6, 7]\n",
      "[4, 5, 6, 7]\n"
     ]
    }
   ],
   "source": [
    "a = [1, 2, 3]\n",
    "b = [4, 5, 6, 7]\n",
    "\n",
    "print(a)\n",
    "print(b)\n",
    "\n",
    "a.extend(b) # a is going to extend with b\n",
    "\n",
    "print(a)\n",
    "print(b)"
   ]
  },
  {
   "cell_type": "code",
   "execution_count": 1,
   "id": "01e062ce",
   "metadata": {},
   "outputs": [],
   "source": [
    "# Multiple Assignments with = in Python"
   ]
  },
  {
   "cell_type": "code",
   "execution_count": 2,
   "id": "3cf78150",
   "metadata": {},
   "outputs": [
    {
     "name": "stdout",
     "output_type": "stream",
     "text": [
      "[5, -10, 7, 11, 100]\n",
      "[99, -10, 7, 88, 100]\n"
     ]
    }
   ],
   "source": [
    "numbers = [5, -10, 7, 11, 100]\n",
    "print(numbers)\n",
    "\n",
    "numbers[0], numbers[3] = 99, 88  # replace bt 0-33 99 and 88\n",
    "print(numbers)"
   ]
  },
  {
   "cell_type": "code",
   "execution_count": 5,
   "id": "46a06f66",
   "metadata": {},
   "outputs": [
    {
     "name": "stdout",
     "output_type": "stream",
     "text": [
      "[5, -10, 7, 11, 100]\n",
      "[1, 2, 3, 4]\n"
     ]
    }
   ],
   "source": [
    "n1, n2 =[5, -10, 7, 11, 100],[1, 2, 3, 4]\n",
    "\n",
    "print(n1)\n",
    "print(n2)"
   ]
  },
  {
   "cell_type": "code",
   "execution_count": 7,
   "id": "48812070",
   "metadata": {},
   "outputs": [],
   "source": [
    "# Python List Methods - pop(), remove(), clear()\n",
    "\n",
    "# Deleting the elements by\n",
    "# Python List Methods - pop(), remove(), clear()"
   ]
  },
  {
   "cell_type": "code",
   "execution_count": 8,
   "id": "0a23f776",
   "metadata": {},
   "outputs": [
    {
     "name": "stdout",
     "output_type": "stream",
     "text": [
      "[1, 2, 7, 4, 5, 33, 7, 88, 99]\n",
      "[1, 2, 7, 4, 5, 33, 7, 88]\n",
      "[1, 2, 7, 4, 5, 33, 7]\n",
      "[1, 2, 7, 4, 5, 7]\n",
      "[]\n"
     ]
    }
   ],
   "source": [
    "a = [1, 2, 7, 4, 5, 33, 7, 88, 99]\n",
    "print(a)\n",
    "\n",
    "a.pop()\n",
    "print(a)\n",
    "a.pop()\n",
    "print(a)\n",
    "\n",
    "a.remove(33)\n",
    "print(a)\n",
    "\n",
    "a.clear()\n",
    "print(a)"
   ]
  },
  {
   "cell_type": "code",
   "execution_count": 9,
   "id": "8e7a5cd7",
   "metadata": {},
   "outputs": [
    {
     "name": "stdout",
     "output_type": "stream",
     "text": [
      "[5, -10, 7, 11, 100]\n",
      "[5, 7, 11, 100]\n"
     ]
    },
    {
     "ename": "NameError",
     "evalue": "name 'numbers' is not defined",
     "output_type": "error",
     "traceback": [
      "\u001b[1;31m---------------------------------------------------------------------------\u001b[0m",
      "\u001b[1;31mNameError\u001b[0m                                 Traceback (most recent call last)",
      "\u001b[1;32m~\\AppData\\Local\\Temp\\ipykernel_15768\\2169717488.py\u001b[0m in \u001b[0;36m<module>\u001b[1;34m\u001b[0m\n\u001b[0;32m      6\u001b[0m \u001b[1;33m\u001b[0m\u001b[0m\n\u001b[0;32m      7\u001b[0m \u001b[1;32mdel\u001b[0m \u001b[0mnumbers\u001b[0m\u001b[1;33m\u001b[0m\u001b[1;33m\u001b[0m\u001b[0m\n\u001b[1;32m----> 8\u001b[1;33m \u001b[0mprint\u001b[0m\u001b[1;33m(\u001b[0m\u001b[0mnumbers\u001b[0m\u001b[1;33m)\u001b[0m\u001b[1;33m\u001b[0m\u001b[1;33m\u001b[0m\u001b[0m\n\u001b[0m",
      "\u001b[1;31mNameError\u001b[0m: name 'numbers' is not defined"
     ]
    }
   ],
   "source": [
    "numbers = [5, -10, 7, 11, 100]\n",
    "print(numbers)\n",
    "\n",
    "del numbers[1]\n",
    "print(numbers)\n",
    "\n",
    "del numbers\n",
    "print(numbers)"
   ]
  },
  {
   "cell_type": "code",
   "execution_count": 10,
   "id": "2473f4a3",
   "metadata": {},
   "outputs": [],
   "source": [
    "# Python Lists - Concatenation(+), Repetition(*), Membership(in) and copy()"
   ]
  },
  {
   "cell_type": "code",
   "execution_count": 11,
   "id": "835520cd",
   "metadata": {},
   "outputs": [
    {
     "name": "stdout",
     "output_type": "stream",
     "text": [
      "[1, 2, 3]\n",
      "[4, 5, 6, 7]\n",
      "[1, 2, 3, 4, 5, 6, 7]\n",
      "[1, 2, 3, 4, 5, 6, 7, 8, 9]\n"
     ]
    }
   ],
   "source": [
    "a = [1, 2, 3]\n",
    "b = [4, 5, 6, 7]\n",
    "\n",
    "c = a + b\n",
    "\n",
    "print(a)\n",
    "print(b)\n",
    "print(c)\n",
    "\n",
    "c += [8, 9]\n",
    "print(c)"
   ]
  },
  {
   "cell_type": "code",
   "execution_count": 12,
   "id": "e94424a7",
   "metadata": {},
   "outputs": [
    {
     "name": "stdout",
     "output_type": "stream",
     "text": [
      "[1, 2, 3, 4]\n",
      "[1, 2, 3, 4]\n"
     ]
    }
   ],
   "source": [
    "a = [1, 2, 3, 4]\n",
    "print(a)\n",
    "\n",
    "b = a.copy()\n",
    "print(b)"
   ]
  },
  {
   "cell_type": "code",
   "execution_count": 13,
   "id": "a4357ad8",
   "metadata": {},
   "outputs": [
    {
     "name": "stdout",
     "output_type": "stream",
     "text": [
      "['O']\n",
      "['O', 'O', 'O', 'O', 'O']\n",
      "['1Q']\n",
      "['1Q', '1Q', '1Q', '1Q', '1Q']\n"
     ]
    }
   ],
   "source": [
    "text = [\"O\"]\n",
    "longtext = text * 5   # Not multiplication coz its with variable its repitation\n",
    "\n",
    "print(text)\n",
    "print(longtext)\n",
    "\n",
    "text = [\"1Q\"]\n",
    "longtext = text * 5\n",
    "\n",
    "print(text)\n",
    "print(longtext)"
   ]
  },
  {
   "cell_type": "code",
   "execution_count": 14,
   "id": "c17bc3de",
   "metadata": {},
   "outputs": [
    {
     "name": "stdout",
     "output_type": "stream",
     "text": [
      "True\n",
      "False\n"
     ]
    }
   ],
   "source": [
    "b = [4, 5, 6, 7]\n",
    "\n",
    "print(5 in b)\n",
    "print(9 in b)"
   ]
  },
  {
   "cell_type": "code",
   "execution_count": 15,
   "id": "282e9755",
   "metadata": {},
   "outputs": [],
   "source": [
    "# Python List - min(), max() and Comparison of 2 Lists\n",
    "# List Functions and Comparision of 2 lists"
   ]
  },
  {
   "cell_type": "code",
   "execution_count": 16,
   "id": "36282e34",
   "metadata": {},
   "outputs": [
    {
     "name": "stdout",
     "output_type": "stream",
     "text": [
      "[1, -4, -7, 3, 9, 2]\n",
      "-7\n",
      "9\n"
     ]
    }
   ],
   "source": [
    "a = [1, -4, -7, 3, 9, 2]\n",
    "print(a)\n",
    "\n",
    "print(min(a))\n",
    "print(max(a))"
   ]
  },
  {
   "cell_type": "code",
   "execution_count": 17,
   "id": "a6f9bd0e",
   "metadata": {},
   "outputs": [
    {
     "name": "stdout",
     "output_type": "stream",
     "text": [
      "a =  [1, -4, -7, 3, 9, 2]\n",
      "b =  [1, 2, 3, 4]\n",
      "c =  [1, 2, 3, 4]\n",
      "d =  [-7, -4, 1, 2, 3, 9]\n",
      "Both Lists are Different\n",
      "Both Lists are Same\n",
      "Both Lists are Different\n"
     ]
    }
   ],
   "source": [
    "a = [1, -4, -7, 3, 9, 2]\n",
    "b = [1, 2, 3, 4]\n",
    "c = [1, 2, 3, 4]\n",
    "d = [-7, -4, 1, 2, 3, 9]\n",
    "\n",
    "print(\"a = \", a)\n",
    "print(\"b = \", b)\n",
    "print(\"c = \", c)\n",
    "print(\"d = \", d)\n",
    "\n",
    "if a == b : print(\"Both Lists are Same\")\n",
    "else : print(\"Both Lists are Different\")\n",
    "    \n",
    "if b == c : print(\"Both Lists are Same\")\n",
    "else : print(\"Both Lists are Different\")  \n",
    "    \n",
    "if a == d : print(\"Both Lists are Same\")\n",
    "else : print(\"Both Lists are Different\")       "
   ]
  },
  {
   "cell_type": "code",
   "execution_count": 18,
   "id": "130da636",
   "metadata": {},
   "outputs": [],
   "source": [
    "# Python List comprehension syntax"
   ]
  },
  {
   "cell_type": "code",
   "execution_count": 19,
   "id": "76370e70",
   "metadata": {},
   "outputs": [
    {
     "name": "stdout",
     "output_type": "stream",
     "text": [
      "[0, 1, 2, 3, 4]\n",
      "[0, 1, 2, 3, 4]\n",
      "[0, 1, 4, 9, 16]\n",
      "[1, 8, 27, 64, 125, 216, 343, 512, 729, 1000]\n"
     ]
    }
   ],
   "source": [
    "a = []\n",
    "\n",
    "for i in range(5) :\n",
    "    a.append(i)\n",
    "    \n",
    "print(a)\n",
    "\n",
    "b = [i for i in range(5)]\n",
    "print(b)\n",
    "\n",
    "c = [i*i for i in range(5)]\n",
    "print(c)\n",
    "\n",
    "d = [pow(i+1,3) for i in range(10)]\n",
    "print(d) "
   ]
  },
  {
   "cell_type": "code",
   "execution_count": 20,
   "id": "df7f84f3",
   "metadata": {},
   "outputs": [],
   "source": [
    "# List comprehension syntax\n",
    "\n",
    "# b = [i for i in range(5)]\n",
    "\n",
    "# b = all values of i such that expression\n",
    "\n",
    "# b = all values of i such that for i in range(5)\n",
    "\n",
    "# b = all values of i such that 0, 1, 2, 3, 4"
   ]
  },
  {
   "cell_type": "code",
   "execution_count": 22,
   "id": "0c4499fb",
   "metadata": {},
   "outputs": [
    {
     "name": "stdout",
     "output_type": "stream",
     "text": [
      "[0, 1, 2, 3, 4, 5, 6, 7, 8, 9, 10, 11, 12, 13, 14, 15, 16, 17, 18, 19]\n",
      "[0, 1, 2, 3, 4, 5, 6, 7, 8, 9, 10, 11, 12, 13, 14, 15, 16, 17, 18, 19]\n",
      "[0, 2, 4, 6, 8, 10, 12, 14, 16, 18]\n"
     ]
    }
   ],
   "source": [
    "a = [i for i in range(20)]\n",
    "print(a)\n",
    "\n",
    "b = [i for i in a]\n",
    "print(b)\n",
    "\n",
    "b = [i for i in a if i%2==0]\n",
    "print(b)"
   ]
  },
  {
   "cell_type": "code",
   "execution_count": 23,
   "id": "1d9fe75d",
   "metadata": {},
   "outputs": [
    {
     "name": "stdout",
     "output_type": "stream",
     "text": [
      "[0, 1, 2, 3, 4, 5, 6, 7, 8, 9, 10, 11, 12, 13, 14, 15, 16, 17, 18, 19]\n",
      "[0, 1, 2, 3, 4, 5, 6, 7, 8, 9, 10, 11, 12, 13, 14, 15, 16, 17, 18, 19]\n",
      "[0, 3, 6, 9, 12, 15, 18]\n"
     ]
    }
   ],
   "source": [
    "a = [i for i in range(20)]\n",
    "print(a)\n",
    "\n",
    "b = [i for i in a]\n",
    "print(b)\n",
    "\n",
    "b = [i for i in a if i%3==0]\n",
    "print(b)"
   ]
  },
  {
   "cell_type": "code",
   "execution_count": 24,
   "id": "c5c42937",
   "metadata": {},
   "outputs": [],
   "source": [
    "# How to debug Python Codes? at Command line and using Anaconda Spyder - Pending"
   ]
  },
  {
   "cell_type": "code",
   "execution_count": 25,
   "id": "3c963755",
   "metadata": {},
   "outputs": [],
   "source": [
    "# Introduction to Tuples - Indexing and Slicing the tuples"
   ]
  },
  {
   "cell_type": "code",
   "execution_count": 26,
   "id": "96bb08f7",
   "metadata": {},
   "outputs": [],
   "source": [
    "# Python Collections(Tuples) \n",
    "\n",
    "# Collection Name    Ordered   Changeable   Indexed   Duplicate Members  Syntax\n",
    "# lists                YES       YES         YES        YES                []\n",
    "# Tuple                YES       NO          YES        YES                ()\n",
    "# Set                  NO        NO          NO         NO                 {}\n",
    "# Dictionary           NO        YES         YES        NO                 {:}\n",
    "\n",
    "# Tuples is a collection of objects which ordered and immutable.\n",
    "# Tuples are sequences, just like lists.\n",
    "# The difference between Tuples and list are, \n",
    "# the tuples cannot be changed unlike lists and tuples use parentheses, whereas lists use [] objects."
   ]
  },
  {
   "cell_type": "code",
   "execution_count": 27,
   "id": "066120ec",
   "metadata": {},
   "outputs": [],
   "source": [
    "#  Indexing and Slicing the tuples\n",
    "\n",
    "#           0        1      2     3     4\n",
    "#  tup = (\"Sun\", \"Earth\", 2019, 2020, 75.2)\n",
    "#          -5     -4       -3     -2    -1"
   ]
  },
  {
   "cell_type": "code",
   "execution_count": 29,
   "id": "099565fb",
   "metadata": {},
   "outputs": [
    {
     "name": "stdout",
     "output_type": "stream",
     "text": [
      "('Sun', 'Earth', 2019, 2020, 75.2)\n",
      "Sun\n",
      "2019\n",
      "75.2\n",
      "75.2\n",
      "2019\n",
      "Sun\n"
     ]
    }
   ],
   "source": [
    "tup = (\"Sun\", \"Earth\", 2019, 2020, 75.2)\n",
    "\n",
    "print(tup)\n",
    "print(tup[0])\n",
    "print(tup[2])\n",
    "print(tup[4])\n",
    "print(tup[-1])\n",
    "print(tup[-3])\n",
    "print(tup[-5])"
   ]
  },
  {
   "cell_type": "code",
   "execution_count": 31,
   "id": "65ad36cf",
   "metadata": {},
   "outputs": [],
   "source": [
    "#  Indexing and Slicing the tuples\n",
    "\n",
    "#           0        1      2     3     4\n",
    "#  tup = (\"Sun\", \"Earth\", 2019, 2020, 75.2)\n",
    "#          -5     -4       -3     -2    -1"
   ]
  },
  {
   "cell_type": "code",
   "execution_count": 30,
   "id": "239a59b9",
   "metadata": {},
   "outputs": [
    {
     "name": "stdout",
     "output_type": "stream",
     "text": [
      "('Sun', 'Earth', 2019, 2020, 75.2)\n",
      "('Sun', 'Earth', 2019)\n",
      "('Earth', 2019, 2020)\n",
      "('Sun', 'Earth', 2019, 2020)\n",
      "('Sun', 'Earth', 2019, 2020, 75.2)\n",
      "('Sun', 'Earth')\n",
      "()\n",
      "(2019, 'Earth')\n",
      "()\n",
      "(75.2, 2020, 2019, 'Earth', 'Sun')\n"
     ]
    }
   ],
   "source": [
    "tup = (\"Sun\", \"Earth\", 2019, 2020, 75.2)\n",
    "\n",
    "print(tup)\n",
    "print(tup[0:3])\n",
    "print(tup[1:4])\n",
    "print(tup[:4])\n",
    "print(tup[:])\n",
    "print(tup[-5:-3])\n",
    "print(tup[-3:-5])\n",
    "print(tup[-3:-5:-1])\n",
    "print(tup[1:4:-1])\n",
    "print(tup[::-1])"
   ]
  },
  {
   "cell_type": "code",
   "execution_count": 33,
   "id": "e21ea9ec",
   "metadata": {},
   "outputs": [
    {
     "name": "stdout",
     "output_type": "stream",
     "text": [
      "('Sun', 'Earth', 2019, 2020, 75.2)\n",
      "\n",
      "Using For Loop\n",
      "Sun Earth 2019 2020 75.2 \n",
      "Using For Loop and range()\n",
      "Sun Earth 2019 2020 75.2 "
     ]
    }
   ],
   "source": [
    "tup = (\"Sun\", \"Earth\", 2019, 2020, 75.2)\n",
    "print(tup)\n",
    "\n",
    "print(\"\\nUsing For Loop\")\n",
    "for i in tup :\n",
    "    print(i, end=\" \")\n",
    "    \n",
    "print(\"\\nUsing For Loop and range()\")\n",
    "for i in range(len(tup)) :\n",
    "    print(tup[i], end=\" \")"
   ]
  },
  {
   "cell_type": "code",
   "execution_count": 34,
   "id": "26b142d7",
   "metadata": {},
   "outputs": [],
   "source": [
    "# Tuples are immutable - Updating tuple elements is not allowed\n",
    "# updating the Tuples NOT Allowed"
   ]
  },
  {
   "cell_type": "code",
   "execution_count": 35,
   "id": "5bab1712",
   "metadata": {},
   "outputs": [
    {
     "name": "stdout",
     "output_type": "stream",
     "text": [
      "('Sun', 'Earth', 2019, 2020, 75.2)\n"
     ]
    },
    {
     "ename": "TypeError",
     "evalue": "'tuple' object does not support item assignment",
     "output_type": "error",
     "traceback": [
      "\u001b[1;31m---------------------------------------------------------------------------\u001b[0m",
      "\u001b[1;31mTypeError\u001b[0m                                 Traceback (most recent call last)",
      "\u001b[1;32m~\\AppData\\Local\\Temp\\ipykernel_15768\\3234156356.py\u001b[0m in \u001b[0;36m<module>\u001b[1;34m\u001b[0m\n\u001b[0;32m      2\u001b[0m \u001b[0mprint\u001b[0m\u001b[1;33m(\u001b[0m\u001b[0mtup\u001b[0m\u001b[1;33m)\u001b[0m\u001b[1;33m\u001b[0m\u001b[1;33m\u001b[0m\u001b[0m\n\u001b[0;32m      3\u001b[0m \u001b[1;33m\u001b[0m\u001b[0m\n\u001b[1;32m----> 4\u001b[1;33m \u001b[0mtup\u001b[0m\u001b[1;33m[\u001b[0m\u001b[1;36m1\u001b[0m\u001b[1;33m]\u001b[0m \u001b[1;33m=\u001b[0m \u001b[1;36m111\u001b[0m\u001b[1;33m\u001b[0m\u001b[1;33m\u001b[0m\u001b[0m\n\u001b[0m\u001b[0;32m      5\u001b[0m \u001b[0mprint\u001b[0m\u001b[1;33m(\u001b[0m\u001b[0mtup\u001b[0m\u001b[1;33m)\u001b[0m\u001b[1;33m\u001b[0m\u001b[1;33m\u001b[0m\u001b[0m\n",
      "\u001b[1;31mTypeError\u001b[0m: 'tuple' object does not support item assignment"
     ]
    }
   ],
   "source": [
    "tup = (\"Sun\", \"Earth\", 2019, 2020, 75.2)\n",
    "print(tup)\n",
    "\n",
    "tup[1] = 111\n",
    "print(tup)"
   ]
  },
  {
   "cell_type": "code",
   "execution_count": 36,
   "id": "125899a7",
   "metadata": {},
   "outputs": [
    {
     "name": "stdout",
     "output_type": "stream",
     "text": [
      "('Sun', 'Earth', 2019, 2020, 75.2)\n"
     ]
    },
    {
     "ename": "TypeError",
     "evalue": "'tuple' object doesn't support item deletion",
     "output_type": "error",
     "traceback": [
      "\u001b[1;31m---------------------------------------------------------------------------\u001b[0m",
      "\u001b[1;31mTypeError\u001b[0m                                 Traceback (most recent call last)",
      "\u001b[1;32m~\\AppData\\Local\\Temp\\ipykernel_15768\\1846223134.py\u001b[0m in \u001b[0;36m<module>\u001b[1;34m\u001b[0m\n\u001b[0;32m      2\u001b[0m \u001b[0mprint\u001b[0m\u001b[1;33m(\u001b[0m\u001b[0mtup\u001b[0m\u001b[1;33m)\u001b[0m\u001b[1;33m\u001b[0m\u001b[1;33m\u001b[0m\u001b[0m\n\u001b[0;32m      3\u001b[0m \u001b[1;33m\u001b[0m\u001b[0m\n\u001b[1;32m----> 4\u001b[1;33m \u001b[1;32mdel\u001b[0m\u001b[1;33m(\u001b[0m\u001b[0mtup\u001b[0m\u001b[1;33m[\u001b[0m\u001b[1;36m1\u001b[0m\u001b[1;33m]\u001b[0m\u001b[1;33m)\u001b[0m\u001b[1;33m\u001b[0m\u001b[1;33m\u001b[0m\u001b[0m\n\u001b[0m\u001b[0;32m      5\u001b[0m \u001b[0mprint\u001b[0m\u001b[1;33m(\u001b[0m\u001b[0mtup\u001b[0m\u001b[1;33m)\u001b[0m\u001b[1;33m\u001b[0m\u001b[1;33m\u001b[0m\u001b[0m\n",
      "\u001b[1;31mTypeError\u001b[0m: 'tuple' object doesn't support item deletion"
     ]
    }
   ],
   "source": [
    "tup = (\"Sun\", \"Earth\", 2019, 2020, 75.2)\n",
    "print(tup)\n",
    "\n",
    "del(tup[1])\n",
    "print(tup)"
   ]
  },
  {
   "cell_type": "code",
   "execution_count": 37,
   "id": "458e27d4",
   "metadata": {},
   "outputs": [],
   "source": [
    "# Python Collections - Tuples - Concatenation(+), Repetition(*), Membership(in and not in)\n",
    "# Concatenation(+), Repetition(*), Membership(in)"
   ]
  },
  {
   "cell_type": "code",
   "execution_count": 38,
   "id": "0ca46afa",
   "metadata": {},
   "outputs": [],
   "source": [
    "#  Indexing and Slicing the tuples\n",
    "\n",
    "#           0        1      2     3     4\n",
    "#  tup = (\"Sun\", \"Earth\", 2019, 2020, 75.2)\n",
    "#          -5     -4       -3     -2    -1"
   ]
  },
  {
   "cell_type": "code",
   "execution_count": 39,
   "id": "b9b44814",
   "metadata": {},
   "outputs": [
    {
     "name": "stdout",
     "output_type": "stream",
     "text": [
      "[1, 2, 3]\n",
      "[4, 5, 6, 7]\n",
      "[1, 2, 3, 4, 5, 6, 7]\n",
      "[1, 2, 3, 4, 5, 6, 7, 8, 9]\n"
     ]
    }
   ],
   "source": [
    "a = [1, 2, 3]\n",
    "b = [4, 5, 6, 7]\n",
    "\n",
    "c = a + b\n",
    "\n",
    "print(a)\n",
    "print(b)\n",
    "print(c)\n",
    "\n",
    "c += (8, 9)\n",
    "print(c)"
   ]
  },
  {
   "cell_type": "code",
   "execution_count": 40,
   "id": "b36feb19",
   "metadata": {},
   "outputs": [
    {
     "name": "stdout",
     "output_type": "stream",
     "text": [
      "11\n",
      "55\n",
      "(11,)\n",
      "(11, 11, 11, 11, 11)\n",
      "(11, 12)\n",
      "(11, 12, 11, 12, 11, 12, 11, 12, 11, 12)\n"
     ]
    }
   ],
   "source": [
    "text = (11)\n",
    "longtext = text * 5   # Not multiplication coz its with variable its repitation\n",
    "\n",
    "print(text)\n",
    "print(longtext)\n",
    "\n",
    "text = (11,)\n",
    "longtext = text * 5\n",
    "\n",
    "print(text)\n",
    "print(longtext)\n",
    "\n",
    "text = (11, 12)\n",
    "longtext = text * 5\n",
    "\n",
    "print(text)\n",
    "print(longtext)"
   ]
  },
  {
   "cell_type": "code",
   "execution_count": 41,
   "id": "f864af45",
   "metadata": {},
   "outputs": [
    {
     "name": "stdout",
     "output_type": "stream",
     "text": [
      "True\n",
      "False\n"
     ]
    }
   ],
   "source": [
    "b = [4, 5, 6, 7]\n",
    "\n",
    "print(5 in b)\n",
    "print(9 in b)"
   ]
  },
  {
   "cell_type": "code",
   "execution_count": 42,
   "id": "a1697c9a",
   "metadata": {},
   "outputs": [],
   "source": [
    "# Tuple methods - count() and index()"
   ]
  },
  {
   "cell_type": "code",
   "execution_count": 43,
   "id": "56775e10",
   "metadata": {},
   "outputs": [
    {
     "name": "stdout",
     "output_type": "stream",
     "text": [
      "(1, 2, 4, 4, 5, -4, 7, 111, 9)\n",
      "2\n",
      "0\n",
      "5\n"
     ]
    },
    {
     "ename": "ValueError",
     "evalue": "tuple.index(x): x not in tuple",
     "output_type": "error",
     "traceback": [
      "\u001b[1;31m---------------------------------------------------------------------------\u001b[0m",
      "\u001b[1;31mValueError\u001b[0m                                Traceback (most recent call last)",
      "\u001b[1;32m~\\AppData\\Local\\Temp\\ipykernel_15768\\3887746497.py\u001b[0m in \u001b[0;36m<module>\u001b[1;34m\u001b[0m\n\u001b[0;32m      5\u001b[0m \u001b[0mprint\u001b[0m\u001b[1;33m(\u001b[0m\u001b[0mtup\u001b[0m\u001b[1;33m.\u001b[0m\u001b[0mcount\u001b[0m\u001b[1;33m(\u001b[0m\u001b[1;36m3\u001b[0m\u001b[1;33m)\u001b[0m\u001b[1;33m)\u001b[0m\u001b[1;33m\u001b[0m\u001b[1;33m\u001b[0m\u001b[0m\n\u001b[0;32m      6\u001b[0m \u001b[0mprint\u001b[0m\u001b[1;33m(\u001b[0m\u001b[0mtup\u001b[0m\u001b[1;33m.\u001b[0m\u001b[0mindex\u001b[0m\u001b[1;33m(\u001b[0m\u001b[1;33m-\u001b[0m\u001b[1;36m4\u001b[0m\u001b[1;33m)\u001b[0m\u001b[1;33m)\u001b[0m\u001b[1;33m\u001b[0m\u001b[1;33m\u001b[0m\u001b[0m\n\u001b[1;32m----> 7\u001b[1;33m \u001b[0mprint\u001b[0m\u001b[1;33m(\u001b[0m\u001b[0mtup\u001b[0m\u001b[1;33m.\u001b[0m\u001b[0mindex\u001b[0m\u001b[1;33m(\u001b[0m\u001b[1;36m10\u001b[0m\u001b[1;33m)\u001b[0m\u001b[1;33m)\u001b[0m\u001b[1;33m\u001b[0m\u001b[1;33m\u001b[0m\u001b[0m\n\u001b[0m",
      "\u001b[1;31mValueError\u001b[0m: tuple.index(x): x not in tuple"
     ]
    }
   ],
   "source": [
    "tup = (1, 2, 4, 4, 5, -4, 7, 111, 9)\n",
    "print(tup)\n",
    "\n",
    "print(tup.count(4))\n",
    "print(tup.count(3))\n",
    "print(tup.index(-4))  # 5th index : output 5\n",
    "print(tup.index(10))  # if value is not placed will give an error"
   ]
  },
  {
   "cell_type": "code",
   "execution_count": 44,
   "id": "e55bc5c9",
   "metadata": {},
   "outputs": [
    {
     "name": "stdout",
     "output_type": "stream",
     "text": [
      "(1, 2, 4, 4, 5, -4, 7, 111, 9)\n",
      "2\n",
      "0\n",
      "5\n",
      "10 Not Present\n"
     ]
    }
   ],
   "source": [
    "tup = (1, 2, 4, 4, 5, -4, 7, 111, 9)\n",
    "print(tup)\n",
    "\n",
    "print(tup.count(4))\n",
    "print(tup.count(3))\n",
    "print(tup.index(-4))  # 5th index : output 5\n",
    "\n",
    "if tup.count(10) != 0 : print(tup.index(10))\n",
    "else : print(\"10 Not Present\")    "
   ]
  },
  {
   "cell_type": "code",
   "execution_count": 45,
   "id": "2c1a0ef5",
   "metadata": {},
   "outputs": [],
   "source": [
    "# Python Collections - Tuples - Multiple assignments with Tuples And Tuple functions - min(), max()"
   ]
  },
  {
   "cell_type": "code",
   "execution_count": 46,
   "id": "62c17d00",
   "metadata": {},
   "outputs": [
    {
     "name": "stdout",
     "output_type": "stream",
     "text": [
      "(11, 22, 33) ('A', 'B', 'C', 'D')\n",
      "('A', 'B', 'C', 'D') (1, 2, 3)\n"
     ]
    }
   ],
   "source": [
    "a = (11, 22, 33)\n",
    "b = (\"A\", \"B\", \"C\", \"D\")\n",
    "\n",
    "print(a, b)\n",
    "\n",
    "a, b = (1, 2, 3) , (\"A\", \"B\", \"C\", \"D\")\n",
    "\n",
    "# swap 2 tuples\n",
    "a, b = b, a\n",
    "print(a, b)"
   ]
  },
  {
   "cell_type": "code",
   "execution_count": 48,
   "id": "7ea26b9e",
   "metadata": {},
   "outputs": [],
   "source": [
    "# Tuple functions - min(), max()"
   ]
  },
  {
   "cell_type": "code",
   "execution_count": 49,
   "id": "6fed7aa2",
   "metadata": {},
   "outputs": [
    {
     "name": "stdout",
     "output_type": "stream",
     "text": [
      "(1, 2, 4, 4, 5, -4, 7, 111, 9)\n",
      "-4\n",
      "111\n"
     ]
    }
   ],
   "source": [
    "tup = (1, 2, 4, 4, 5, -4, 7, 111, 9)\n",
    "print(tup)\n",
    "\n",
    "print(min(tup))\n",
    "print(max(tup))"
   ]
  },
  {
   "cell_type": "code",
   "execution_count": 50,
   "id": "0820b19a",
   "metadata": {},
   "outputs": [],
   "source": [
    "# Python Collections(Arrays)\n",
    "\n",
    "# Collection Name    Ordered   Changeable   Indexed   Duplicate Members  Syntax\n",
    "# lists                YES       YES         YES        YES                []\n",
    "# Tuple                YES       NO          YES        YES                ()\n",
    "# Set                  NO        NO          NO         NO                 {}\n",
    "# Dictionary           NO        YES         YES        NO                 {:}\n",
    "\n",
    "# A set is a collection of data types in Python, same as the list and tuple.\n",
    "# It is not an ordered of Collection of objects.\n",
    "#The Set is Python Implementation of the set in Mathematics. A set object has suitable methods to perform \n",
    "# mathematical set operations like union,intersection, difference etc.\n",
    "# A set object contains one or more items, not necessarily of the same type, which are separted by comma and enclosed in {}\n",
    "# Indexing and Slicing operations cannot be done on a set object."
   ]
  },
  {
   "cell_type": "code",
   "execution_count": 51,
   "id": "3633cd0e",
   "metadata": {},
   "outputs": [],
   "source": [
    "# creating the Set objects and using copy()"
   ]
  },
  {
   "cell_type": "code",
   "execution_count": 52,
   "id": "2fcd2734",
   "metadata": {},
   "outputs": [
    {
     "name": "stdout",
     "output_type": "stream",
     "text": [
      "Set Demo\n",
      "{1, 2, 3, 4}\n"
     ]
    }
   ],
   "source": [
    "s = {1, 2, 3, 4}\n",
    "\n",
    "print(\"Set Demo\")\n",
    "print(s)"
   ]
  },
  {
   "cell_type": "code",
   "execution_count": 53,
   "id": "64401ee3",
   "metadata": {},
   "outputs": [
    {
     "name": "stdout",
     "output_type": "stream",
     "text": [
      "Duplication of Items not allowed in a Set\n",
      "{1, 2, 3, 4}\n"
     ]
    }
   ],
   "source": [
    "s = {1, 2, 2, 2, 3, 4}\n",
    "\n",
    "print(\"Duplication of Items not allowed in a Set\")\n",
    "print(s)"
   ]
  },
  {
   "cell_type": "code",
   "execution_count": 54,
   "id": "281c7bd0",
   "metadata": {},
   "outputs": [
    {
     "name": "stdout",
     "output_type": "stream",
     "text": [
      "Using For Loop\n",
      "1\n",
      "2\n",
      "3\n",
      "4\n"
     ]
    }
   ],
   "source": [
    "s = {1, 2, 3, 4}\n",
    "\n",
    "print(\"Using For Loop\")\n",
    "\n",
    "for i in s :\n",
    "    print(i)"
   ]
  },
  {
   "cell_type": "code",
   "execution_count": 55,
   "id": "02df4387",
   "metadata": {},
   "outputs": [
    {
     "name": "stdout",
     "output_type": "stream",
     "text": [
      "Set is not a Index data type\n",
      "4\n"
     ]
    },
    {
     "ename": "TypeError",
     "evalue": "'set' object is not subscriptable",
     "output_type": "error",
     "traceback": [
      "\u001b[1;31m---------------------------------------------------------------------------\u001b[0m",
      "\u001b[1;31mTypeError\u001b[0m                                 Traceback (most recent call last)",
      "\u001b[1;32m~\\AppData\\Local\\Temp\\ipykernel_15768\\3236642354.py\u001b[0m in \u001b[0;36m<module>\u001b[1;34m\u001b[0m\n\u001b[0;32m      5\u001b[0m \u001b[0mprint\u001b[0m\u001b[1;33m(\u001b[0m\u001b[0mlen\u001b[0m\u001b[1;33m(\u001b[0m\u001b[0ms\u001b[0m\u001b[1;33m)\u001b[0m\u001b[1;33m)\u001b[0m\u001b[1;33m\u001b[0m\u001b[1;33m\u001b[0m\u001b[0m\n\u001b[0;32m      6\u001b[0m \u001b[1;32mfor\u001b[0m \u001b[0mi\u001b[0m \u001b[1;32min\u001b[0m \u001b[0mrange\u001b[0m\u001b[1;33m(\u001b[0m\u001b[0mlen\u001b[0m\u001b[1;33m(\u001b[0m\u001b[0ms\u001b[0m\u001b[1;33m)\u001b[0m\u001b[1;33m)\u001b[0m \u001b[1;33m:\u001b[0m\u001b[1;33m\u001b[0m\u001b[1;33m\u001b[0m\u001b[0m\n\u001b[1;32m----> 7\u001b[1;33m     \u001b[0mprint\u001b[0m\u001b[1;33m(\u001b[0m\u001b[0ms\u001b[0m\u001b[1;33m[\u001b[0m\u001b[0mi\u001b[0m\u001b[1;33m]\u001b[0m\u001b[1;33m)\u001b[0m\u001b[1;33m\u001b[0m\u001b[1;33m\u001b[0m\u001b[0m\n\u001b[0m",
      "\u001b[1;31mTypeError\u001b[0m: 'set' object is not subscriptable"
     ]
    }
   ],
   "source": [
    "s = {1, 2, 3, 4}\n",
    "\n",
    "print(\"Set is not a Index data type\")\n",
    "\n",
    "print(len(s))\n",
    "for i in range(len(s)) :\n",
    "    print(s[i])   # it is not indexed"
   ]
  },
  {
   "cell_type": "code",
   "execution_count": 57,
   "id": "640abccf",
   "metadata": {},
   "outputs": [
    {
     "name": "stdout",
     "output_type": "stream",
     "text": [
      "{'Maharastra', 'Mumbai', 'Kashi'}\n",
      "{'Maharastra', 'Mumbai', 'Kashi'}\n"
     ]
    }
   ],
   "source": [
    "city1 = {\"Mumbai\", \"Maharastra\", \"Kashi\"}\n",
    "\n",
    "city2 = city1\n",
    "city3 = city1.copy()\n",
    "\n",
    "print(city2)\n",
    "print(city3)"
   ]
  },
  {
   "cell_type": "code",
   "execution_count": 1,
   "id": "ad3538be",
   "metadata": {},
   "outputs": [
    {
     "name": "stdout",
     "output_type": "stream",
     "text": [
      "{'Mumbai', 'Maharastra'}\n",
      "{'Mumbai', 'Maharastra'}\n"
     ]
    }
   ],
   "source": [
    "city1 = {\"Mumbai\", \"Maharastra\", \"Mumbai\"}\n",
    "\n",
    "city2 = city1\n",
    "city3 = city1.copy()\n",
    "\n",
    "print(city2)\n",
    "print(city3)"
   ]
  },
  {
   "cell_type": "code",
   "execution_count": 2,
   "id": "e2d80ae7",
   "metadata": {},
   "outputs": [],
   "source": [
    "# Python Collections - Set - Adding and updating Set objects - Using add(), update()\n",
    "\n",
    "# Once a set is created, you cannot change its item, but you can add new items"
   ]
  },
  {
   "cell_type": "code",
   "execution_count": 4,
   "id": "ac054faf",
   "metadata": {},
   "outputs": [
    {
     "name": "stdout",
     "output_type": "stream",
     "text": [
      "{'Mumbai', 'Kashi', 'Maharashtra'}\n",
      "\n",
      "add a single element using add()\n",
      "{'Himachal', 'Mumbai', 'Kashi', 'Maharashtra'}\n",
      "{'Himachal', 'Mumbai', 'Kashi', 'Maharashtra'}\n"
     ]
    }
   ],
   "source": [
    "city = {\"Mumbai\", \"Maharashtra\", \"Kashi\"}\n",
    "print(city)\n",
    "\n",
    "print(\"\\nadd a single element using add()\")\n",
    "city.add(\"Himachal\")\n",
    "print(city)\n",
    "\n",
    "city.add(\"Maharashtra\")\n",
    "print(city)"
   ]
  },
  {
   "cell_type": "code",
   "execution_count": 5,
   "id": "1d5d6d06",
   "metadata": {},
   "outputs": [
    {
     "name": "stdout",
     "output_type": "stream",
     "text": [
      "{'Mumbai', 'Kashi', 'Maharashtra'}\n",
      "\n",
      "dont add a single element using update()\n",
      "{'h', 'i', 'Maharashtra', 'H', 'Kashi', 'a', 'm', 'c', 'l', 'Mumbai'}\n",
      "\n",
      "add multiple elements using update()\n",
      "{'Surat', 'Maharashtra', 'Kashi', 'Mumbai', 'Chennai'}\n",
      "{'Surat', 'Maharashtra', 'Kashi', 'Kochin', 'Mumbai', 'Chennai'}\n"
     ]
    }
   ],
   "source": [
    "city = {\"Mumbai\", \"Maharashtra\", \"Kashi\"}\n",
    "print(city)\n",
    "\n",
    "print(\"\\ndont add a single element using update()\")\n",
    "city.update(\"Himachal\")\n",
    "print(city)\n",
    "\n",
    "city = {\"Mumbai\", \"Maharashtra\", \"Kashi\"}\n",
    "\n",
    "print(\"\\nadd multiple elements using update()\")\n",
    "city.update([\"Surat\", \"Chennai\"])\n",
    "print(city)\n",
    "\n",
    "city.update([\"Mumbai\", \"Chennai\", \"Kochin\"])\n",
    "print(city)"
   ]
  },
  {
   "cell_type": "code",
   "execution_count": 6,
   "id": "7a09fc04",
   "metadata": {},
   "outputs": [],
   "source": [
    "# Removing items from Set object- Using remove(), discard(), pop(), clear(), del"
   ]
  },
  {
   "cell_type": "code",
   "execution_count": 7,
   "id": "e306dfdc",
   "metadata": {},
   "outputs": [
    {
     "name": "stdout",
     "output_type": "stream",
     "text": [
      "{'Surat', 'Kashi', 'Himachal', 'Maharashtra', 'Chennai', 'Mumbai'}\n"
     ]
    },
    {
     "ename": "KeyError",
     "evalue": "'Maharastra'",
     "output_type": "error",
     "traceback": [
      "\u001b[1;31m---------------------------------------------------------------------------\u001b[0m",
      "\u001b[1;31mKeyError\u001b[0m                                  Traceback (most recent call last)",
      "\u001b[1;32m~\\AppData\\Local\\Temp\\ipykernel_16996\\2896707065.py\u001b[0m in \u001b[0;36m<module>\u001b[1;34m\u001b[0m\n\u001b[0;32m      2\u001b[0m \u001b[0mprint\u001b[0m\u001b[1;33m(\u001b[0m\u001b[0mcity\u001b[0m\u001b[1;33m)\u001b[0m\u001b[1;33m\u001b[0m\u001b[1;33m\u001b[0m\u001b[0m\n\u001b[0;32m      3\u001b[0m \u001b[1;33m\u001b[0m\u001b[0m\n\u001b[1;32m----> 4\u001b[1;33m \u001b[0mcity\u001b[0m\u001b[1;33m.\u001b[0m\u001b[0mremove\u001b[0m\u001b[1;33m(\u001b[0m\u001b[1;34m\"Maharastra\"\u001b[0m\u001b[1;33m)\u001b[0m\u001b[1;33m\u001b[0m\u001b[1;33m\u001b[0m\u001b[0m\n\u001b[0m\u001b[0;32m      5\u001b[0m \u001b[0mprint\u001b[0m\u001b[1;33m(\u001b[0m\u001b[0mcity\u001b[0m\u001b[1;33m)\u001b[0m\u001b[1;33m\u001b[0m\u001b[1;33m\u001b[0m\u001b[0m\n\u001b[0;32m      6\u001b[0m \u001b[1;33m\u001b[0m\u001b[0m\n",
      "\u001b[1;31mKeyError\u001b[0m: 'Maharastra'"
     ]
    }
   ],
   "source": [
    "city = {\"Mumbai\", \"Maharashtra\", \"Kashi\", \"Surat\", \"Himachal\", \"Chennai\"}\n",
    "print(city)\n",
    "\n",
    "city.remove(\"Maharastra\")\n",
    "print(city)\n",
    "\n",
    "print(\"\\nIf item dont exist, remove() will raise an error\\n\")\n",
    "city.remove(\"Amritsar\")\n",
    "print(city)"
   ]
  },
  {
   "cell_type": "code",
   "execution_count": 8,
   "id": "f044ad7a",
   "metadata": {},
   "outputs": [
    {
     "name": "stdout",
     "output_type": "stream",
     "text": [
      "{'Surat', 'Kashi', 'Himachal', 'Maharashtra', 'Chennai', 'Mumbai'}\n",
      "{'Surat', 'Kashi', 'Himachal', 'Chennai', 'Mumbai'}\n",
      "\n",
      "If item dont exist, discard() will NOT raise an error.\n",
      "\n",
      "{'Surat', 'Kashi', 'Himachal', 'Chennai', 'Mumbai'}\n"
     ]
    }
   ],
   "source": [
    "city = {\"Mumbai\", \"Maharashtra\", \"Kashi\", \"Surat\", \"Himachal\", \"Chennai\"}\n",
    "print(city)\n",
    "\n",
    "city.discard(\"Maharashtra\")\n",
    "print(city)\n",
    "\n",
    "print(\"\\nIf item dont exist, discard() will NOT raise an error.\\n\")\n",
    "city.discard(\"Amritsar\")\n",
    "print(city)"
   ]
  },
  {
   "cell_type": "code",
   "execution_count": 9,
   "id": "580a0f48",
   "metadata": {},
   "outputs": [],
   "source": [
    "# Removing items from Set object- Using remove(), discard(), pop(), clear(), del"
   ]
  },
  {
   "cell_type": "code",
   "execution_count": 11,
   "id": "dc5362a7",
   "metadata": {},
   "outputs": [
    {
     "name": "stdout",
     "output_type": "stream",
     "text": [
      "{'Surat', 'Kashi', 'Himachal', 'Maharashtra', 'Chennai', 'Mumbai'}\n",
      "\n",
      "You can also use the pop(), method to remove an item, \n",
      "    but this method will remove the last item.\n",
      "    Remember that sets are unordered,\n",
      "    so you will not know what item that gets removed.\n",
      "    The return value of the pop() method is the remove item \n",
      "    \n",
      "Surat\n",
      "{'Kashi', 'Himachal', 'Maharashtra', 'Chennai', 'Mumbai'}\n"
     ]
    }
   ],
   "source": [
    "city = {\"Mumbai\", \"Maharashtra\", \"Kashi\", \"Surat\", \"Himachal\", \"Chennai\"}\n",
    "print(city)\n",
    "\n",
    "print(\"\"\"\\nYou can also use the pop(), method to remove an item, \n",
    "    but this method will remove the last item.\n",
    "    Remember that sets are unordered,\n",
    "    so you will not know what item that gets removed.\n",
    "    The return value of the pop() method is the remove item \n",
    "    \"\"\")\n",
    "\n",
    "c = city.pop()\n",
    "print(c)\n",
    "print(city)"
   ]
  },
  {
   "cell_type": "code",
   "execution_count": 12,
   "id": "c1516cd2",
   "metadata": {},
   "outputs": [
    {
     "name": "stdout",
     "output_type": "stream",
     "text": [
      "{'Surat', 'Kashi', 'Himachal', 'Maharashtra', 'Chennai', 'Mumbai'}\n",
      "set()\n"
     ]
    }
   ],
   "source": [
    "city = {\"Mumbai\", \"Maharashtra\", \"Kashi\", \"Surat\", \"Himachal\", \"Chennai\"}\n",
    "print(city)\n",
    "\n",
    "city.clear()\n",
    "print(city)"
   ]
  },
  {
   "cell_type": "code",
   "execution_count": 13,
   "id": "77cfb003",
   "metadata": {},
   "outputs": [
    {
     "name": "stdout",
     "output_type": "stream",
     "text": [
      "{'Surat', 'Kashi', 'Himachal', 'Maharashtra', 'Chennai', 'Mumbai'}\n"
     ]
    },
    {
     "ename": "NameError",
     "evalue": "name 'city' is not defined",
     "output_type": "error",
     "traceback": [
      "\u001b[1;31m---------------------------------------------------------------------------\u001b[0m",
      "\u001b[1;31mNameError\u001b[0m                                 Traceback (most recent call last)",
      "\u001b[1;32m~\\AppData\\Local\\Temp\\ipykernel_16996\\3727710021.py\u001b[0m in \u001b[0;36m<module>\u001b[1;34m\u001b[0m\n\u001b[0;32m      3\u001b[0m \u001b[1;33m\u001b[0m\u001b[0m\n\u001b[0;32m      4\u001b[0m \u001b[1;32mdel\u001b[0m\u001b[1;33m(\u001b[0m\u001b[0mcity\u001b[0m\u001b[1;33m)\u001b[0m\u001b[1;33m\u001b[0m\u001b[1;33m\u001b[0m\u001b[0m\n\u001b[1;32m----> 5\u001b[1;33m \u001b[0mprint\u001b[0m\u001b[1;33m(\u001b[0m\u001b[0mcity\u001b[0m\u001b[1;33m)\u001b[0m\u001b[1;33m\u001b[0m\u001b[1;33m\u001b[0m\u001b[0m\n\u001b[0m",
      "\u001b[1;31mNameError\u001b[0m: name 'city' is not defined"
     ]
    }
   ],
   "source": [
    "city = {\"Mumbai\", \"Maharashtra\", \"Kashi\", \"Surat\", \"Himachal\", \"Chennai\"}\n",
    "print(city)\n",
    "\n",
    "del(city)\n",
    "print(city)"
   ]
  },
  {
   "cell_type": "code",
   "execution_count": 14,
   "id": "6a6cd793",
   "metadata": {},
   "outputs": [],
   "source": [
    "#  Union and Intersection of two Set objects using union() or | and Using intersection() or &"
   ]
  },
  {
   "cell_type": "code",
   "execution_count": 15,
   "id": "8ad78df8",
   "metadata": {},
   "outputs": [
    {
     "name": "stdout",
     "output_type": "stream",
     "text": [
      "s1>  {0, 2, 4, 6}\n",
      "s2>  {1, 3, 5, 7, 9}\n",
      "\n",
      "s1.union(s2)\n",
      "{0, 1, 2, 3, 4, 5, 6, 7, 9}\n",
      "\n",
      "s1 | s2\n",
      "{0, 1, 2, 3, 4, 5, 6, 7, 9}\n",
      "\n",
      "\n",
      "{0, 1, 2, 3, 4, 5, 6, 7, 9, 11, 12}\n"
     ]
    }
   ],
   "source": [
    "s1 = {0, 2, 4, 6}\n",
    "s2 = {1, 3, 5, 7, 9}\n",
    "\n",
    "print(\"s1> \", s1)\n",
    "print(\"s2> \", s2)\n",
    "\n",
    "print(\"\\ns1.union(s2)\")\n",
    "s3 = s1.union(s2)\n",
    "print(s3)\n",
    "\n",
    "print(\"\\ns1 | s2\")\n",
    "s4 = s1 | s2\n",
    "\n",
    "print(s4)\n",
    "\n",
    "print(\"\\n\")\n",
    "s5 = s4 | {1, 2, 3, 4, 11, 12}\n",
    "print(s5)"
   ]
  },
  {
   "cell_type": "code",
   "execution_count": 16,
   "id": "0e21db83",
   "metadata": {},
   "outputs": [
    {
     "name": "stdout",
     "output_type": "stream",
     "text": [
      "s1>  {0, 1, 2, 3, 4, 5, 6, 7, 9}\n",
      "s2>  {1, 3, 5, 7, 9}\n",
      "\n",
      "s1.intersection(s2)\n",
      "{1, 3, 5, 7, 9}\n",
      "\n",
      "s1 | s2\n",
      "{1, 3, 5, 7, 9}\n",
      "\n",
      "\n",
      "set()\n"
     ]
    }
   ],
   "source": [
    "s1 = {0, 1, 2, 3, 4, 5, 6, 7, 9}\n",
    "s2 = {1, 3, 5, 7, 9}\n",
    "\n",
    "print(\"s1> \", s1)\n",
    "print(\"s2> \", s2)\n",
    "\n",
    "print(\"\\ns1.intersection(s2)\")\n",
    "s3 = s1.intersection(s2)\n",
    "print(s3)\n",
    "\n",
    "print(\"\\ns1 | s2\")\n",
    "s4 = s1 & s2\n",
    "print(s4)\n",
    "\n",
    "print(\"\\n\")\n",
    "s5 = s1 & {11, 12}\n",
    "print(s5)"
   ]
  },
  {
   "cell_type": "code",
   "execution_count": 17,
   "id": "83bd98eb",
   "metadata": {},
   "outputs": [],
   "source": [
    "# Difference, Symmetric Difference of Set objects with difference(), symmetric_difference() or ^"
   ]
  },
  {
   "cell_type": "code",
   "execution_count": 18,
   "id": "657a8519",
   "metadata": {},
   "outputs": [
    {
     "name": "stdout",
     "output_type": "stream",
     "text": [
      "s1>  {0, 1, 2, 3, 4, 5, 6, 7, 8, 9, 10, 11}\n",
      "s2>  {1, 3, 5, 7, 9, 11, 13}\n",
      "\n",
      "s1 - s2 {0, 2, 4, 6, 8, 10}\n",
      "\n",
      "s2 - s1 {13}\n",
      "\n",
      "s1.difference(s2)\n",
      "{0, 2, 4, 6, 8, 10}\n",
      "\n",
      "s2.difference(s1)\n",
      "{13}\n"
     ]
    }
   ],
   "source": [
    "s1 = {0, 1, 2, 3, 4, 5, 6, 7, 8, 9, 10, 11}\n",
    "s2 = {1, 3, 5, 7, 9, 11, 13}\n",
    "\n",
    "print(\"s1> \", s1)\n",
    "print(\"s2> \", s2)\n",
    "\n",
    "s4 = s1 - s2\n",
    "print(\"\\ns1 - s2\", s4)\n",
    "\n",
    "s4 = s2 - s1\n",
    "print(\"\\ns2 - s1\", s4)\n",
    "\n",
    "print(\"\\ns1.difference(s2)\")\n",
    "s4 = s1.difference(s2)\n",
    "print(s4)\n",
    "\n",
    "print(\"\\ns2.difference(s1)\")\n",
    "s4 = s2.difference(s1)\n",
    "print(s4)"
   ]
  },
  {
   "cell_type": "code",
   "execution_count": 21,
   "id": "8f7be36c",
   "metadata": {},
   "outputs": [
    {
     "name": "stdout",
     "output_type": "stream",
     "text": [
      "The result of symmetric difference is a set\n",
      "consisting of element in both sets, excluding the common elements.\n",
      "\n",
      "s1>  {0, 1, 2, 3, 4, 5, 6, 7}\n",
      "s2>  {1, 3, 5, 7, 9, 11, 13}\n",
      "\n",
      "s1.symmetric_difference(s2)\n",
      "{0, 2, 4, 6, 9, 11, 13}\n",
      "\n",
      "s1^s2\n",
      "{0, 2, 4, 6, 9, 11, 13}\n"
     ]
    }
   ],
   "source": [
    "print(\"\"\"The result of symmetric difference is a set\n",
    "consisting of element in both sets, excluding the common elements.\\n\"\"\")\n",
    "\n",
    "s1 = {0, 1, 2, 3, 4, 5, 6, 7}\n",
    "s2 = {1, 3, 5, 7, 9, 11, 13}\n",
    "\n",
    "print(\"s1> \", s1)\n",
    "print(\"s2> \", s2)\n",
    "\n",
    "print(\"\\ns1.symmetric_difference(s2)\")\n",
    "s3 = s1.symmetric_difference(s2)\n",
    "print(s3)\n",
    "\n",
    "print(\"\\ns1^s2\")\n",
    "s3 = s1^s2\n",
    "print(s3)"
   ]
  },
  {
   "cell_type": "code",
   "execution_count": 25,
   "id": "ea5173a8",
   "metadata": {},
   "outputs": [],
   "source": [
    "# Set Methods- difference_update(), intersection_update(), "
   ]
  },
  {
   "cell_type": "code",
   "execution_count": 23,
   "id": "abc94712",
   "metadata": {},
   "outputs": [
    {
     "name": "stdout",
     "output_type": "stream",
     "text": [
      "s1>  {0, 1, 2, 3, 4, 5, 6, 7, 8, 9, 10, 11}\n",
      "s2>  {1, 3, 5, 7, 9, 11, 13}\n",
      "\n",
      "s1.difference(s2) ->  {0, 2, 4, 6, 8, 10}\n",
      "\n",
      "\n",
      "s1>  {0, 1, 2, 3, 4, 5, 6, 7, 8, 9, 10, 11}\n",
      "s2>  {1, 3, 5, 7, 9, 11, 13}\n",
      "\n",
      "s1.difference_update(s2)\n",
      "s1>  {0, 2, 4, 6, 8, 10}\n",
      "s2>  {1, 3, 5, 7, 9, 11, 13}\n"
     ]
    }
   ],
   "source": [
    "s1 = {0, 1, 2, 3, 4, 5, 6, 7, 8, 9, 10, 11}\n",
    "s2 = {1, 3, 5, 7, 9, 11, 13}\n",
    "\n",
    "print(\"s1> \", s1)\n",
    "print(\"s2> \", s2)\n",
    "\n",
    "print(\"\\ns1.difference(s2) -> \", s1.difference(s2))\n",
    "print(\"\\n\")\n",
    "print(\"s1> \", s1)\n",
    "print(\"s2> \", s2)\n",
    "\n",
    "print(\"\\ns1.difference_update(s2)\")\n",
    "s1.difference_update(s2)\n",
    "\n",
    "print(\"s1> \", s1)\n",
    "print(\"s2> \", s2)"
   ]
  },
  {
   "cell_type": "code",
   "execution_count": 24,
   "id": "6434ebad",
   "metadata": {},
   "outputs": [
    {
     "name": "stdout",
     "output_type": "stream",
     "text": [
      "s1>  {0, 1, 2, 3, 4, 5, 6, 7, 9}\n",
      "s2>  {1, 3, 5, 7, 9, 10}\n",
      "\n",
      "s1.intersection(s2) ->  {1, 3, 5, 7, 9}\n",
      "\n",
      "\n",
      "s1>  {0, 1, 2, 3, 4, 5, 6, 7, 9}\n",
      "s2>  {1, 3, 5, 7, 9, 10}\n",
      "\n",
      "s1.intersection_update(s2)\n",
      "s1>  {1, 3, 5, 7, 9}\n",
      "s2>  {1, 3, 5, 7, 9, 10}\n"
     ]
    }
   ],
   "source": [
    "s1 = {0, 1, 2, 3, 4, 5, 6, 7, 9}\n",
    "s2 = {1, 3, 5, 7, 9, 10}\n",
    "\n",
    "print(\"s1> \", s1)\n",
    "print(\"s2> \", s2)\n",
    "\n",
    "print(\"\\ns1.intersection(s2) -> \", s1.intersection(s2))\n",
    "print(\"\\n\")\n",
    "print(\"s1> \", s1)\n",
    "print(\"s2> \", s2)\n",
    "\n",
    "print(\"\\ns1.intersection_update(s2)\")\n",
    "s1.intersection_update(s2)\n",
    "\n",
    "print(\"s1> \", s1)\n",
    "print(\"s2> \", s2)"
   ]
  },
  {
   "cell_type": "code",
   "execution_count": 26,
   "id": "7cddf5cc",
   "metadata": {},
   "outputs": [],
   "source": [
    "# symmetric_difference_update()"
   ]
  },
  {
   "cell_type": "code",
   "execution_count": 27,
   "id": "68ea23af",
   "metadata": {},
   "outputs": [
    {
     "name": "stdout",
     "output_type": "stream",
     "text": [
      "s1>  {1, 2, 3, 4, 5, 6, 7}\n",
      "s2>  {1, 3, 5, 7, 9, 11, 13}\n",
      "\n",
      "s1.symmetric_difference(s2) ->  {2, 4, 6, 9, 11, 13}\n",
      "\n",
      "\n",
      "s1>  {1, 2, 3, 4, 5, 6, 7}\n",
      "s2>  {1, 3, 5, 7, 9, 11, 13}\n",
      "\n",
      "s1.symmetric_difference_update(s2)\n",
      "s1>  {2, 4, 6, 9, 11, 13}\n",
      "s2>  {1, 3, 5, 7, 9, 11, 13}\n"
     ]
    }
   ],
   "source": [
    "s1 = {1, 2, 3, 4, 5, 6, 7}\n",
    "s2 = {1, 3, 5, 7, 9, 11, 13}\n",
    "\n",
    "print(\"s1> \", s1)\n",
    "print(\"s2> \", s2)\n",
    "\n",
    "print(\"\\ns1.symmetric_difference(s2) -> \", s1.symmetric_difference(s2))\n",
    "print(\"\\n\")\n",
    "\n",
    "print(\"s1> \", s1)\n",
    "print(\"s2> \", s2)\n",
    "\n",
    "print(\"\\ns1.symmetric_difference_update(s2)\")\n",
    "s1.symmetric_difference_update(s2)\n",
    "\n",
    "print(\"s1> \", s1)\n",
    "print(\"s2> \", s2)"
   ]
  },
  {
   "cell_type": "code",
   "execution_count": 28,
   "id": "bbc1c18d",
   "metadata": {},
   "outputs": [],
   "source": [
    "# Set Methods – Using issubset(), issuperset(), isdisjoint()"
   ]
  },
  {
   "cell_type": "code",
   "execution_count": 29,
   "id": "1fea8490",
   "metadata": {},
   "outputs": [
    {
     "name": "stdout",
     "output_type": "stream",
     "text": [
      "s1>  {1, 2, 3, 4, 5, 6, 7, 8, 9}\n",
      "s2>  {1, 3, 5, 7}\n",
      "\n",
      "\n",
      "s2 is a subset of s1 ->  True\n",
      "s3 is a subset of s1 ->  True\n"
     ]
    }
   ],
   "source": [
    "s1 = {1, 2, 3, 4, 5, 6, 7, 8, 9}\n",
    "s2 = {1, 3, 5, 7}\n",
    "s3 = {0, 2, 4, 6, 8}\n",
    "\n",
    "print(\"s1> \", s1)\n",
    "print(\"s2> \", s2)\n",
    "print(\"\\n\")\n",
    "print(\"s2 is a subset of s1 -> \", s2.issubset(s1))\n",
    "print(\"s3 is a subset of s1 -> \", s2.issubset(s1))\n"
   ]
  },
  {
   "cell_type": "code",
   "execution_count": 30,
   "id": "f09e67ce",
   "metadata": {},
   "outputs": [
    {
     "name": "stdout",
     "output_type": "stream",
     "text": [
      "s1>  {1, 2, 3, 4, 5, 6, 7, 8, 9}\n",
      "s2>  {1, 3, 5, 7}\n",
      "\n",
      "\n",
      "s1 is superset of s2 ->  True\n",
      "s1 is superset of s3 ->  False\n"
     ]
    }
   ],
   "source": [
    "s1 = {1, 2, 3, 4, 5, 6, 7, 8, 9}\n",
    "s2 = {1, 3, 5, 7}\n",
    "s3 = {0, 2, 4, 6, 8}\n",
    "\n",
    "print(\"s1> \", s1)\n",
    "print(\"s2> \", s2)\n",
    "print(\"\\n\")\n",
    "\n",
    "print(\"s1 is superset of s2 -> \", s1.issuperset(s2))\n",
    "print(\"s1 is superset of s3 -> \", s1.issuperset(s3))"
   ]
  },
  {
   "cell_type": "code",
   "execution_count": 31,
   "id": "51bd008e",
   "metadata": {},
   "outputs": [
    {
     "name": "stdout",
     "output_type": "stream",
     "text": [
      "s1>  {1, 2, 3, 4, 5, 6, 7, 8, 9}\n",
      "s2>  {1, 3, 5, 7}\n",
      "\n",
      "\n",
      "s2 and s3 are disjoint sets ->  True\n",
      "s2 and {3, 6, 9} are disjoint sets ->  False\n"
     ]
    }
   ],
   "source": [
    "s1 = {1, 2, 3, 4, 5, 6, 7, 8, 9}\n",
    "s2 = {1, 3, 5, 7}\n",
    "s3 = {0, 2, 4, 6, 8}\n",
    "\n",
    "print(\"s1> \", s1)\n",
    "print(\"s2> \", s2)\n",
    "print(\"\\n\")\n",
    "\n",
    "print(\"s2 and s3 are disjoint sets -> \", s2.isdisjoint(s3))\n",
    "print(\"s2 and {3, 6, 9} are disjoint sets -> \", s2.isdisjoint({3, 6, 9}))"
   ]
  },
  {
   "cell_type": "code",
   "execution_count": 34,
   "id": "31d7755f",
   "metadata": {},
   "outputs": [
    {
     "name": "stdout",
     "output_type": "stream",
     "text": [
      "['Mumbai', 'Delhi', 'Chennai', 'Amritsar']\n",
      "['Amritsar', 'Chennai', 'Delhi', 'Mumbai']\n"
     ]
    }
   ],
   "source": [
    "# Python lists:\n",
    "# 1. Display a list in the reverse order without using reverse()\n",
    "\n",
    "city = [\"Mumbai\", \"Delhi\", \"Chennai\", \"Amritsar\"]\n",
    "print(city)\n",
    "\n",
    "city.reverse()\n",
    "print(city)  # reverse with order"
   ]
  },
  {
   "cell_type": "code",
   "execution_count": 38,
   "id": "6956260a",
   "metadata": {},
   "outputs": [
    {
     "name": "stdout",
     "output_type": "stream",
     "text": [
      "['Mumbai', 'Delhi', 'Chennai', 'Amritsar']\n",
      "Amritsar Chennai Delhi \n",
      "\n"
     ]
    }
   ],
   "source": [
    "#2. With reverese order\n",
    "\n",
    "city = [\"Mumbai\", \"Delhi\", \"Chennai\", \"Amritsar\"]  # 0,1,2,3\n",
    "print(city)\n",
    "\n",
    "#city.reverse()\n",
    "\n",
    "for i in range(len(city) -1, 0, -1):\n",
    "    print(city[i], end=\" \")\n",
    "    \n",
    "print(\"\\n\")    "
   ]
  },
  {
   "cell_type": "code",
   "execution_count": 42,
   "id": "933a0fff",
   "metadata": {},
   "outputs": [
    {
     "name": "stdout",
     "output_type": "stream",
     "text": [
      "['Mumbai', 'Delhi', 'Chennai', 'Amritsar', 'Kochin', 'Surat']\n",
      "['Mumbai', 'Delhi', 'Chennai', 'Amritsar', 'Kochin', 'Surat']\n",
      "['Delhi', 'Chennai', 'Amritsar']\n",
      "Delhi\n",
      "Chennai\n",
      "Amritsar\n",
      "\n",
      "New City List\n",
      "['Delhi', 'Chennai', 'Amritsar']\n",
      "\n",
      "\n"
     ]
    }
   ],
   "source": [
    "#2. Create a slice of the list without using slicing syntax [:]\n",
    "\n",
    "city = [\"Mumbai\", \"Delhi\", \"Chennai\", \"Amritsar\", \"Kochin\", \"Surat\"] \n",
    "print(city)\n",
    "\n",
    "print(city[:]) # all 6 cities will appear\n",
    "print(city[1:4])\n",
    "\n",
    "a = 1\n",
    "b = 4\n",
    "\n",
    "newcity = []\n",
    "\n",
    "for i in range(a, b):\n",
    "    print(city[i]) # will appear in Vertical\n",
    "    newcity.append(city[i])\n",
    "    \n",
    "print(\"\\nNew City List\")\n",
    "print(newcity)\n",
    "\n",
    "print(\"\\n\")  # dont know the purpose"
   ]
  },
  {
   "cell_type": "code",
   "execution_count": 44,
   "id": "cf315174",
   "metadata": {},
   "outputs": [
    {
     "name": "stdout",
     "output_type": "stream",
     "text": [
      "8\n",
      "\n",
      "New City list\n",
      " ['Mumbai', 'Delhi', 'Chennai', 'Amritsar', 'Kochin', 'Surat']\n",
      "\n",
      "\n"
     ]
    }
   ],
   "source": [
    "# 3. Create a list of strings. Remove empty strings from the list of strings.\n",
    "\n",
    "city = [\"Mumbai\", \"\" ,\"Delhi\", \"Chennai\", \"Amritsar\", \"Kochin\", \"\" ,\"Surat\"] \n",
    "\n",
    "print(len(city)) # 8\n",
    "\n",
    "newcity = []\n",
    "\n",
    "for c in city:\n",
    "    if c == \"\" : pass\n",
    "    else : newcity.append(c)\n",
    "\n",
    "print(\"\\nNew City list\\n\", newcity) # from list of strings we have removed the blank strings\n",
    "\n",
    "print(\"\\n\")\n"
   ]
  },
  {
   "cell_type": "code",
   "execution_count": 46,
   "id": "1e5cc0bb",
   "metadata": {},
   "outputs": [
    {
     "name": "stdout",
     "output_type": "stream",
     "text": [
      "[10, 12, 13, 11, 14, 999, 15, 16, 999, 17]\n",
      "\n",
      "\n"
     ]
    }
   ],
   "source": [
    "#4. Find a value in the list of integers, and if it is present, replace it with 999. \n",
    "# Update all the occurrences except the first.\n",
    "\n",
    "nos = [10, 12, 13, 11, 14, 11, 15, 16, 11, 17]\n",
    "\n",
    "val = 11\n",
    "count = 0\n",
    "\n",
    "for i in range(len(nos)):\n",
    "    if nos[i] == val:\n",
    "        if count == 0:\n",
    "            count += 1\n",
    "            continue\n",
    "        else:\n",
    "            nos[i] = 999\n",
    "                 \n",
    "print(nos)\n",
    "\n",
    "print(\"\\n\")"
   ]
  },
  {
   "cell_type": "code",
   "execution_count": 49,
   "id": "75e91d57",
   "metadata": {},
   "outputs": [
    {
     "name": "stdout",
     "output_type": "stream",
     "text": [
      "\n",
      "Minimum =  -1000 -1000\n",
      "\n",
      "Maximum =  1000 1000\n",
      "\n",
      "Total =  8\n",
      "\n",
      "Lenght =  10\n"
     ]
    }
   ],
   "source": [
    "#5. Create a list of integers. Find sum of all elements, minimum,\n",
    "# maximum and length without using any built-in python function.\n",
    "\n",
    "nos = [1, 1, 1, 1000, 1, 1, 1, -1000, 1, 1]\n",
    "\n",
    "mn = mx = total = nos[0]\n",
    "count = 1\n",
    "\n",
    "for i in range(1, len(nos)):\n",
    "    if mn > nos[i] : mn = nos[i]\n",
    "    if mx < nos[i] : mx = nos[i]\n",
    "    total += nos[i]\n",
    "    count += 1\n",
    "    \n",
    "print(\"\\nMinimum = \", mn, min(nos)) # both are valid\n",
    "print(\"\\nMaximum = \", mx, max(nos)) # both are valid\n",
    "print(\"\\nTotal = \", total)\n",
    "print(\"\\nLenght = \", count)    \n"
   ]
  },
  {
   "cell_type": "code",
   "execution_count": 58,
   "id": "092db856",
   "metadata": {},
   "outputs": [
    {
     "name": "stdout",
     "output_type": "stream",
     "text": [
      "[]\n",
      "\n",
      "\n"
     ]
    }
   ],
   "source": [
    "# 6. Write a Python program to remove duplicates from a list.\n",
    "\n",
    "nos = [1, 12, 13, 1000, 1, 12, 33, -1000, 13, 19]\n",
    "\n",
    "newnos = []\n",
    "found = 0\n",
    "\n",
    "for i in range(len(nos)):\n",
    "    for j in range(i + 1, len(nos)):\n",
    "        if nos[i] == nos[j]:\n",
    "            found = 1\n",
    "            break\n",
    "            \n",
    "    if found == 0: newnos.append(nos[i])\n",
    "        \n",
    "    found == 0\n",
    "        \n",
    "print(newnos)\n",
    "print(\"\\n\")"
   ]
  },
  {
   "cell_type": "code",
   "execution_count": 10,
   "id": "0fc57972",
   "metadata": {},
   "outputs": [
    {
     "name": "stdout",
     "output_type": "stream",
     "text": [
      "[1, 12, 13, 1000, 1, 12, 33, -1000, 13, 19]\n",
      "-1000 7\n",
      "[-1000, 12, 13, 1000, 1, 12, 33, 1, 13, 19]\n",
      "Second Minimum =  1\n"
     ]
    }
   ],
   "source": [
    "# 7. Write a Python program to find the second smallest number in a list.\n",
    "\n",
    "# After next minimum - the next numhas to be 2nd smallest\n",
    "\n",
    "nos = [1, 12, 13, 1000, 1, 12, 33, -1000, 13, 19]\n",
    "\n",
    "# nos.sort()\n",
    "print(nos)  # 1st min\n",
    "\n",
    "# print(nos[1]) # 2nd min  / Also can finf 2nd min without using any library function\n",
    "\n",
    "#without sort find min\n",
    "\n",
    "mn = min(nos) # will store the current min value is -1000\n",
    "mnpos = nos.index(mn) # position of mn value\n",
    "\n",
    "print(mn, mnpos)  # -1000 7 loc\n",
    "\n",
    "nos[mnpos], nos[0] = nos[0], nos[mnpos]\n",
    "print(nos)\n",
    "\n",
    "mn = nos[1]\n",
    "\n",
    "for i in range(2, len(nos)):\n",
    "    if mn>nos[i] : mn = nos[i]\n",
    "        \n",
    "print(\"Second Minimum = \", mn)  # 2nd min is-12 \n"
   ]
  },
  {
   "cell_type": "code",
   "execution_count": 14,
   "id": "2145aa24",
   "metadata": {},
   "outputs": [
    {
     "ename": "SyntaxError",
     "evalue": "invalid syntax (788961098.py, line 18)",
     "output_type": "error",
     "traceback": [
      "\u001b[1;36m  File \u001b[1;32m\"C:\\Users\\deept\\AppData\\Local\\Temp\\ipykernel_1492\\788961098.py\"\u001b[1;36m, line \u001b[1;32m18\u001b[0m\n\u001b[1;33m    if N1<len(nos)\u001b[0m\n\u001b[1;37m                  ^\u001b[0m\n\u001b[1;31mSyntaxError\u001b[0m\u001b[1;31m:\u001b[0m invalid syntax\n"
     ]
    }
   ],
   "source": [
    "# 8. Write a Python program to split a list at every Nth element.\n",
    "\n",
    "nos = [1, 2, 3, 4, 5, 6, 7, 8, 9, 10, 11, 12, 13, 14, 15]\n",
    "\n",
    "newnos = []\n",
    "Nth = 3   # Means split by 3 element\n",
    "\n",
    "N1, N2 = 0, Nth\n",
    "\n",
    "# while True:  # in loop structure\n",
    "while N2<len(nos) + 1:\n",
    "    temp = nos[N1 : N2]\n",
    "    newnos.append(temp)\n",
    "    N1, N2 = (N1+Nth), (N2+Nth)\n",
    "\n",
    "# print(nos[N1 : N2]) # printing slice of 4 elements - [1, 2, 3, 4]\n",
    "\n",
    "if N1<len(nos)\n",
    "\n",
    "print(newnos) # [[1, 2, 3, 4], [5, 6, 7, 8], [9, 10, 11, 12]] # [[1, 2, 3], [4, 5, 6], [7, 8, 9], [10, 11, 12], [13, 14, 15]]\n",
    "\n",
    "\n",
    "\n",
    "\n",
    "\n",
    "\n",
    "\n",
    "\n",
    "\n"
   ]
  },
  {
   "cell_type": "code",
   "execution_count": 15,
   "id": "dbb14e15",
   "metadata": {},
   "outputs": [
    {
     "name": "stdout",
     "output_type": "stream",
     "text": [
      "[10, 12, 13, 15, 999]\n"
     ]
    }
   ],
   "source": [
    "# 9. Write a Python program to extend a list without append()\n",
    "\n",
    "# without append()\n",
    "\n",
    "\n",
    "nos = [10, 12, 13, 15]\n",
    "\n",
    "val = 999\n",
    "\n",
    "nos.insert(len(nos), val)\n",
    "\n",
    "print(nos)\n",
    "\n"
   ]
  },
  {
   "cell_type": "code",
   "execution_count": 21,
   "id": "6e9df150",
   "metadata": {},
   "outputs": [
    {
     "name": "stdout",
     "output_type": "stream",
     "text": [
      "\n",
      "Matrix 1\n",
      "1 \n",
      "\n",
      "1 \n",
      "\n",
      "1 \n",
      "\n",
      "1 \n",
      "\n",
      "1 \n",
      "\n",
      "1 \n",
      "\n",
      "1 \n",
      "\n",
      "1 \n",
      "\n",
      "1 \n",
      "\n",
      "\n",
      "Matrix 2\n",
      "2 \n",
      "\n",
      "2 \n",
      "\n",
      "2 \n",
      "\n",
      "2 \n",
      "\n",
      "2 \n",
      "\n",
      "2 \n",
      "\n",
      "2 \n",
      "\n",
      "2 \n",
      "\n",
      "2 \n",
      "\n"
     ]
    }
   ],
   "source": [
    "# 10. Write a Python program to create and add two 3X3 matrices using lists.\n",
    "\n",
    "# Comprehension Syntax and mulitiple element\n",
    "\n",
    "M1 = []\n",
    "M2 = []\n",
    "\n",
    "for i in range(3):\n",
    "    row = [1 for j in range(3)]\n",
    "    M1.append(row)\n",
    "    \n",
    "for i in range(3):\n",
    "    row = [2 for j in range(3)]\n",
    "    M2.append(row)    \n",
    "    \n",
    "# for i in range(3):\n",
    "#     for j in range(3):\n",
    "#         print(M[i][j], end =\" \")\n",
    "#         print(\"\\n\")   # Matrix format\n",
    "\n",
    "print(\"\\nMatrix 1\")     \n",
    "for i in range(3):\n",
    "     for j in range(3):\n",
    "        print(M1[i][j], end =\" \")\n",
    "        print(\"\\n\")  \n",
    "        \n",
    "print(\"\\nMatrix 2\")         \n",
    "for i in range(3):\n",
    "     for j in range(3):\n",
    "        print(M2[i][j], end =\" \")\n",
    "        print(\"\\n\")         \n",
    "    \n",
    "# print(M) # [[0, 0, 0], [0, 0, 0], [0, 0, 0]]\n",
    "\n",
    "\n"
   ]
  },
  {
   "cell_type": "code",
   "execution_count": null,
   "id": "985c475a",
   "metadata": {},
   "outputs": [],
   "source": [
    "# Python Collections(Arrays) - Dictionary\n",
    "\n",
    "# Collection Name    Ordered   Changeable   Indexed   Duplicate Members  Syntax\n",
    "# lists                YES       YES         YES        YES                []\n",
    "# Tuple                YES       NO          YES        YES                ()\n",
    "# Set                  NO        NO          NO         NO                 {}\n",
    "# Dictionary           NO        YES         YES        NO                 {:}\n",
    "\n",
    "# A Dictionary is a collection which is unordered, chnageable and indexed.\n",
    "# In Python Dictionaries are written with curly brackets, and they have keys and values.\n",
    "# Each key is separated from its value by a colon (:), the items are separated by commas.\n",
    "# Keys are unique with a dictionary whilw values may not be.\n",
    "# The values of a Dictionary can be of any type, but the keys must be of an immmutable data type such as strings, numbers or tuples. "
   ]
  },
  {
   "cell_type": "code",
   "execution_count": 22,
   "id": "195cac89",
   "metadata": {},
   "outputs": [],
   "source": [
    "# Introduction to Dictionary - Creating and using Dictionary Using keys, dict() and fromkeys()"
   ]
  },
  {
   "cell_type": "code",
   "execution_count": null,
   "id": "ae87fe7f",
   "metadata": {},
   "outputs": [],
   "source": [
    "#  Key      Value     Type\n",
    "    \n",
    "#  Name     Deepti   <str>\n",
    "#  Roll      12      <int>\n",
    "#  city     Mumbai   <str>"
   ]
  },
  {
   "cell_type": "code",
   "execution_count": 23,
   "id": "b77e2998",
   "metadata": {},
   "outputs": [
    {
     "name": "stdout",
     "output_type": "stream",
     "text": [
      "{'name': 'Deepti', 'roll': 12, 'city': 'Mumbai'}\n",
      "{'name': 'Deepti', 'roll': 12, 'city': 'Mumbai'}\n",
      "Deepti\n",
      "12\n",
      "Mumbai\n"
     ]
    }
   ],
   "source": [
    "# creating and Using the Dictionary\n",
    "\n",
    "d = {\"name\":\"Deepti\", \"roll\":12, \"city\":\"Mumbai\"}\n",
    "print(d)\n",
    "\n",
    "d = {\n",
    "    \"name\":\"Deepti\",\n",
    "    \"roll\":12,\n",
    "    \"city\":\"Mumbai\"  \n",
    "}\n",
    "print(d)\n",
    "\n",
    "\n",
    "print(d[\"name\"])\n",
    "print(d[\"roll\"])\n",
    "print(d[\"city\"])"
   ]
  },
  {
   "cell_type": "code",
   "execution_count": 24,
   "id": "d11d1ff6",
   "metadata": {},
   "outputs": [
    {
     "name": "stdout",
     "output_type": "stream",
     "text": [
      "{'name': 'Deepti', 'roll': 'NEW003', 'city': 'Mumbai'}\n"
     ]
    }
   ],
   "source": [
    "d = {\n",
    "    \"name\":\"Deepti\",\n",
    "    \"roll\":12,\n",
    "    \"roll\":\"NEW003\",\n",
    "    \"city\":\"Mumbai\"  \n",
    "}\n",
    "print(d)"
   ]
  },
  {
   "cell_type": "code",
   "execution_count": 25,
   "id": "86359e91",
   "metadata": {},
   "outputs": [
    {
     "name": "stdout",
     "output_type": "stream",
     "text": [
      "{1: 'Deepti', 2: 12, 3: 'NEW003', 4: 'Mumbai'}\n"
     ]
    }
   ],
   "source": [
    "d = {\n",
    "    1 :\"Deepti\",\n",
    "    2 :12,\n",
    "    3 :\"NEW003\",\n",
    "    4 :\"Mumbai\"  \n",
    "    }\n",
    "print(d)"
   ]
  },
  {
   "cell_type": "code",
   "execution_count": 26,
   "id": "63d9b209",
   "metadata": {},
   "outputs": [
    {
     "name": "stdout",
     "output_type": "stream",
     "text": [
      "{1: 'Deepti', 2: 'NEW003', 4: 'Mumbai'}\n"
     ]
    }
   ],
   "source": [
    "# other method\n",
    "\n",
    "d = {\n",
    "    1 :\"Deepti\",\n",
    "    2 :12,\n",
    "    2 :\"NEW003\",\n",
    "    4 :\"Mumbai\"  \n",
    "    }\n",
    "print(d)"
   ]
  },
  {
   "cell_type": "code",
   "execution_count": 27,
   "id": "f0429c2c",
   "metadata": {},
   "outputs": [
    {
     "name": "stdout",
     "output_type": "stream",
     "text": [
      "{}\n",
      "{'name': 'ABC', 'roll': 123, 'city': 'Mumbai'}\n",
      "{'name': 'ABC', 'roll': 123, 'city': 'Mumbai'}\n"
     ]
    }
   ],
   "source": [
    "# Using dict() constructor\n",
    "\n",
    "d1 = dict()\n",
    "print(d1)\n",
    "\n",
    "d2 = dict(name = \"ABC\", roll = 123, city = \"Mumbai\")\n",
    "print(d2)\n",
    "\n",
    "d3 = dict(d2)\n",
    "print(d3)"
   ]
  },
  {
   "cell_type": "code",
   "execution_count": 28,
   "id": "c8e436c4",
   "metadata": {},
   "outputs": [
    {
     "name": "stdout",
     "output_type": "stream",
     "text": [
      "{'Mumbai': 12, 'Kashi': 12, 'Shahar': 12}\n"
     ]
    }
   ],
   "source": [
    "# Using fromkeys()\n",
    "\n",
    "d = {}\n",
    "x = {\"Mumbai\", \"Shahar\", \"Kashi\"}\n",
    "y = 12\n",
    "\n",
    "print(d.fromkeys(x, y))"
   ]
  },
  {
   "cell_type": "code",
   "execution_count": 1,
   "id": "e51e5072",
   "metadata": {},
   "outputs": [],
   "source": [
    "# Accessing the Dictionary – Using keys and using get()"
   ]
  },
  {
   "cell_type": "code",
   "execution_count": 2,
   "id": "26da7538",
   "metadata": {},
   "outputs": [
    {
     "name": "stdout",
     "output_type": "stream",
     "text": [
      "{'name': 'Deepti', 'roll': 12, 'city': 'Mumbai'}\n",
      "Deepti\n"
     ]
    },
    {
     "ename": "KeyError",
     "evalue": "'lastname'",
     "output_type": "error",
     "traceback": [
      "\u001b[1;31m---------------------------------------------------------------------------\u001b[0m",
      "\u001b[1;31mKeyError\u001b[0m                                  Traceback (most recent call last)",
      "\u001b[1;32m~\\AppData\\Local\\Temp\\ipykernel_22576\\169408106.py\u001b[0m in \u001b[0;36m<module>\u001b[1;34m\u001b[0m\n\u001b[0;32m      7\u001b[0m \u001b[1;33m\u001b[0m\u001b[0m\n\u001b[0;32m      8\u001b[0m \u001b[0mprint\u001b[0m\u001b[1;33m(\u001b[0m\u001b[0md\u001b[0m\u001b[1;33m[\u001b[0m\u001b[1;34m\"name\"\u001b[0m\u001b[1;33m]\u001b[0m\u001b[1;33m)\u001b[0m\u001b[1;33m\u001b[0m\u001b[1;33m\u001b[0m\u001b[0m\n\u001b[1;32m----> 9\u001b[1;33m \u001b[0mprint\u001b[0m\u001b[1;33m(\u001b[0m\u001b[0md\u001b[0m\u001b[1;33m[\u001b[0m\u001b[1;34m\"lastname\"\u001b[0m\u001b[1;33m]\u001b[0m\u001b[1;33m)\u001b[0m\u001b[1;33m\u001b[0m\u001b[1;33m\u001b[0m\u001b[0m\n\u001b[0m",
      "\u001b[1;31mKeyError\u001b[0m: 'lastname'"
     ]
    }
   ],
   "source": [
    "d = {\n",
    "    \"name\":\"Deepti\",\n",
    "    \"roll\":12,\n",
    "    \"city\":\"Mumbai\"  \n",
    "}\n",
    "print(d)\n",
    "\n",
    "print(d[\"name\"])\n",
    "print(d[\"lastname\"])"
   ]
  },
  {
   "cell_type": "code",
   "execution_count": 3,
   "id": "9f6ed7cc",
   "metadata": {},
   "outputs": [
    {
     "name": "stdout",
     "output_type": "stream",
     "text": [
      "{'name': 'Deepti', 'roll': 12, 'city': 'Mumbai'}\n",
      "Deepti\n",
      "12\n",
      "Mumbai\n",
      "\n",
      "Using get()\n",
      "Deepti\n",
      "None\n",
      "Not Available\n"
     ]
    }
   ],
   "source": [
    "d = {\n",
    "    \"name\":\"Deepti\",\n",
    "    \"roll\":12,\n",
    "    \"city\":\"Mumbai\"  \n",
    "}\n",
    "print(d)\n",
    "\n",
    "print(d[\"name\"])\n",
    "print(d[\"roll\"])\n",
    "print(d[\"city\"])\n",
    "\n",
    "print(\"\\nUsing get()\")\n",
    "\n",
    "n = d.get(\"name\")\n",
    "print(n)\n",
    "\n",
    "n = d.get(\"lastname\")\n",
    "print(n)\n",
    "\n",
    "# You can mention default return value\n",
    "# If the key is not present\n",
    "\n",
    "n = d.get(\"lastname\", \"Not Available\")\n",
    "print(n)"
   ]
  },
  {
   "cell_type": "code",
   "execution_count": 5,
   "id": "7cfec596",
   "metadata": {},
   "outputs": [
    {
     "name": "stdout",
     "output_type": "stream",
     "text": [
      "{'name': 'Deepti', 'roll': 12, 'city': 'Mumbai'}\n",
      "Deepti\n",
      "12\n",
      "Mumbai\n",
      "\n",
      "Using get()\n",
      "Deepti\n",
      "None\n",
      "\n"
     ]
    }
   ],
   "source": [
    "d = {\n",
    "    \"name\":\"Deepti\",\n",
    "    \"roll\":12,\n",
    "    \"city\":\"Mumbai\"  \n",
    "}\n",
    "print(d)\n",
    "\n",
    "print(d[\"name\"])\n",
    "print(d[\"roll\"])\n",
    "print(d[\"city\"])\n",
    "\n",
    "print(\"\\nUsing get()\")\n",
    "\n",
    "n = d.get(\"name\")\n",
    "print(n)\n",
    "\n",
    "n = d.get(\"lastname\")\n",
    "print(n)\n",
    "\n",
    "# You can mention default return value\n",
    "# If the key is not present\n",
    "\n",
    "n = d.get(\"lastname\", \"\")\n",
    "print(n)"
   ]
  },
  {
   "cell_type": "code",
   "execution_count": 6,
   "id": "45b5ebe8",
   "metadata": {},
   "outputs": [],
   "source": [
    "# Dictionary functions - min(), max(), len(), type()"
   ]
  },
  {
   "cell_type": "code",
   "execution_count": 7,
   "id": "bc93f32d",
   "metadata": {},
   "outputs": [
    {
     "name": "stdout",
     "output_type": "stream",
     "text": [
      "\n",
      "d1\n",
      "\n",
      "Minimum 1\n",
      "Maximum 3\n",
      "Length  3\n",
      "Type    <class 'dict'>\n",
      "\n",
      "d2\n",
      "\n",
      "Minimum Kashi\n",
      "Maximum Shiv\n",
      "Length  3\n",
      "Type    <class 'dict'>\n"
     ]
    }
   ],
   "source": [
    "d1 = {1:\"zx\", 2:\"zy\", 3:\"xy\"}\n",
    "d2 = {\"Mumbai\":12, \"Shiv\":17, \"Kashi\":17}\n",
    "\n",
    "print(\"\\nd1\\n\")\n",
    "print(\"Minimum %d\" % (min(d1)))\n",
    "print(\"Maximum %d\" % (max(d1)))\n",
    "print(\"Length  %d\" % (len(d1)))\n",
    "print(\"Type    %s\" % (type(d1)))\n",
    "\n",
    "print(\"\\nd2\\n\")\n",
    "print(\"Minimum %s\" % (min(d2)))\n",
    "print(\"Maximum %s\" % (max(d2)))\n",
    "print(\"Length  %d\" % (len(d2)))\n",
    "print(\"Type    %s\" % (type(d2)))"
   ]
  },
  {
   "cell_type": "code",
   "execution_count": 8,
   "id": "96267f92",
   "metadata": {},
   "outputs": [],
   "source": [
    "# Adding and Updating the Dictionary - Using key element and using setdefault()"
   ]
  },
  {
   "cell_type": "code",
   "execution_count": null,
   "id": "e4a62a2e",
   "metadata": {},
   "outputs": [],
   "source": [
    "# below is case sensitive"
   ]
  },
  {
   "cell_type": "code",
   "execution_count": 9,
   "id": "d8173123",
   "metadata": {},
   "outputs": [
    {
     "name": "stdout",
     "output_type": "stream",
     "text": [
      "{'Name': 'Deepti', 'Roll': 12, 'State': 'New Jersey'}\n",
      "3\n",
      "{'Name': 'Deepti', 'Roll': 12, 'State': 'New Jersey', 'name': 'Shiv'}\n",
      "4\n"
     ]
    }
   ],
   "source": [
    "d = {\"Name\":\"Deepti\", \"Roll\":12, \"State\":\"New Jersey\"}\n",
    "\n",
    "print(d)\n",
    "print(len(d))\n",
    "\n",
    "d[\"name\"] = \"Shiv\"\n",
    "print(d)\n",
    "print(len(d))"
   ]
  },
  {
   "cell_type": "code",
   "execution_count": 10,
   "id": "4d937b4f",
   "metadata": {},
   "outputs": [
    {
     "name": "stdout",
     "output_type": "stream",
     "text": [
      "{'Name': 'Deepti', 'Roll': 12, 'State': 'New Jersey'}\n",
      "3\n",
      "{'Name': 'Shiv', 'Roll': 12, 'State': 'New Jersey'}\n",
      "3\n"
     ]
    }
   ],
   "source": [
    "d = {\"Name\":\"Deepti\", \"Roll\":12, \"State\":\"New Jersey\"}\n",
    "\n",
    "print(d)\n",
    "print(len(d))\n",
    "\n",
    "d[\"Name\"] = \"Shiv\"\n",
    "print(d)\n",
    "print(len(d))"
   ]
  },
  {
   "cell_type": "code",
   "execution_count": 11,
   "id": "9bbe607c",
   "metadata": {},
   "outputs": [
    {
     "name": "stdout",
     "output_type": "stream",
     "text": [
      "{'Name': 'Deepti', 'Roll': 12, 'State': 'New Jersey'}\n",
      "3\n",
      "{'Name': 'Deepti', 'Roll': 12, 'State': 'New Jersey', 'CGPA': 7}\n",
      "4\n"
     ]
    }
   ],
   "source": [
    "d = {\"Name\":\"Deepti\", \"Roll\":12, \"State\":\"New Jersey\"}\n",
    "\n",
    "print(d)\n",
    "print(len(d))\n",
    "\n",
    "d[\"CGPA\"] = 7\n",
    "print(d)\n",
    "print(len(d))"
   ]
  },
  {
   "cell_type": "code",
   "execution_count": 12,
   "id": "10af012f",
   "metadata": {},
   "outputs": [
    {
     "name": "stdout",
     "output_type": "stream",
     "text": [
      "{}\n",
      "{'Name': 'EnterName', 'Roll': 0, 'State': 'EnterState', 'CGPA': 0}\n",
      "EnterName: Shiv\n",
      "Shiv\n"
     ]
    }
   ],
   "source": [
    "d = {}\n",
    "print(d)\n",
    "\n",
    "d.setdefault(\"Name\", \"EnterName\")\n",
    "d.setdefault(\"Roll\", 0)\n",
    "d.setdefault(\"State\", \"EnterState\")\n",
    "d.setdefault(\"CGPA\", 0)\n",
    "print(d)\n",
    "\n",
    "n = input(\"EnterName: \")\n",
    "d[\"Name\"] = n\n",
    "\n",
    "print(n)"
   ]
  },
  {
   "cell_type": "code",
   "execution_count": 13,
   "id": "90523bdb",
   "metadata": {},
   "outputs": [],
   "source": [
    "# Deleting the Dictionary elements - Using del, pop(), popitem() and clear()"
   ]
  },
  {
   "cell_type": "code",
   "execution_count": 14,
   "id": "2fba121c",
   "metadata": {},
   "outputs": [
    {
     "name": "stdout",
     "output_type": "stream",
     "text": [
      "{'Name': 'Deepti', 'Roll': 12, 'State': 'New Jersey'}\n",
      "{'Name': 'Deepti', 'Roll': 12}\n"
     ]
    },
    {
     "ename": "KeyError",
     "evalue": "'Country'",
     "output_type": "error",
     "traceback": [
      "\u001b[1;31m---------------------------------------------------------------------------\u001b[0m",
      "\u001b[1;31mKeyError\u001b[0m                                  Traceback (most recent call last)",
      "\u001b[1;32m~\\AppData\\Local\\Temp\\ipykernel_22576\\3223518996.py\u001b[0m in \u001b[0;36m<module>\u001b[1;34m\u001b[0m\n\u001b[0;32m      5\u001b[0m \u001b[0mprint\u001b[0m\u001b[1;33m(\u001b[0m\u001b[0md\u001b[0m\u001b[1;33m)\u001b[0m\u001b[1;33m\u001b[0m\u001b[1;33m\u001b[0m\u001b[0m\n\u001b[0;32m      6\u001b[0m \u001b[1;33m\u001b[0m\u001b[0m\n\u001b[1;32m----> 7\u001b[1;33m \u001b[1;32mdel\u001b[0m \u001b[0md\u001b[0m\u001b[1;33m[\u001b[0m\u001b[1;34m\"Country\"\u001b[0m\u001b[1;33m]\u001b[0m\u001b[1;33m\u001b[0m\u001b[1;33m\u001b[0m\u001b[0m\n\u001b[0m\u001b[0;32m      8\u001b[0m \u001b[0mprint\u001b[0m\u001b[1;33m(\u001b[0m\u001b[0md\u001b[0m\u001b[1;33m)\u001b[0m\u001b[1;33m\u001b[0m\u001b[1;33m\u001b[0m\u001b[0m\n",
      "\u001b[1;31mKeyError\u001b[0m: 'Country'"
     ]
    }
   ],
   "source": [
    "d = {\"Name\":\"Deepti\", \"Roll\":12, \"State\":\"New Jersey\"}\n",
    "print(d)\n",
    "\n",
    "del d[\"State\"]\n",
    "print(d)\n",
    "\n",
    "del d[\"Country\"]\n",
    "print(d)"
   ]
  },
  {
   "cell_type": "code",
   "execution_count": 15,
   "id": "da219bea",
   "metadata": {},
   "outputs": [
    {
     "name": "stdout",
     "output_type": "stream",
     "text": [
      "{'Name': 'Deepti', 'Roll': 12, 'State': 'New Jersey'}\n",
      "{'Name': 'Deepti', 'State': 'New Jersey'}\n",
      "{'Name': 'Deepti'}\n",
      "{}\n"
     ]
    }
   ],
   "source": [
    "d = {\"Name\":\"Deepti\", \"Roll\":12, \"State\":\"New Jersey\"}\n",
    "print(d)\n",
    "\n",
    "d.pop(\"Roll\")\n",
    "print(d)\n",
    "\n",
    "d.popitem()\n",
    "print(d)\n",
    "\n",
    "d.clear()\n",
    "print(d)"
   ]
  },
  {
   "cell_type": "code",
   "execution_count": 16,
   "id": "5870dc5e",
   "metadata": {},
   "outputs": [
    {
     "name": "stdout",
     "output_type": "stream",
     "text": [
      "{'Name': 'Deepti', 'Roll': 12, 'State': 'New Jersey'}\n"
     ]
    },
    {
     "ename": "NameError",
     "evalue": "name 'd' is not defined",
     "output_type": "error",
     "traceback": [
      "\u001b[1;31m---------------------------------------------------------------------------\u001b[0m",
      "\u001b[1;31mNameError\u001b[0m                                 Traceback (most recent call last)",
      "\u001b[1;32m~\\AppData\\Local\\Temp\\ipykernel_22576\\4055876622.py\u001b[0m in \u001b[0;36m<module>\u001b[1;34m\u001b[0m\n\u001b[0;32m      3\u001b[0m \u001b[1;33m\u001b[0m\u001b[0m\n\u001b[0;32m      4\u001b[0m \u001b[1;32mdel\u001b[0m\u001b[1;33m(\u001b[0m\u001b[0md\u001b[0m\u001b[1;33m)\u001b[0m\u001b[1;33m\u001b[0m\u001b[1;33m\u001b[0m\u001b[0m\n\u001b[1;32m----> 5\u001b[1;33m \u001b[0mprint\u001b[0m\u001b[1;33m(\u001b[0m\u001b[0md\u001b[0m\u001b[1;33m)\u001b[0m\u001b[1;33m\u001b[0m\u001b[1;33m\u001b[0m\u001b[0m\n\u001b[0m",
      "\u001b[1;31mNameError\u001b[0m: name 'd' is not defined"
     ]
    }
   ],
   "source": [
    "d = {\"Name\":\"Deepti\", \"Roll\":12, \"State\":\"New Jersey\"}\n",
    "print(d)\n",
    "\n",
    "del(d)\n",
    "print(d)"
   ]
  },
  {
   "cell_type": "code",
   "execution_count": 1,
   "id": "76effef8",
   "metadata": {},
   "outputs": [],
   "source": [
    "# Copying a Dictionary - Using copy() and update()"
   ]
  },
  {
   "cell_type": "code",
   "execution_count": 2,
   "id": "87ecd208",
   "metadata": {},
   "outputs": [
    {
     "name": "stdout",
     "output_type": "stream",
     "text": [
      "{'Name': 'Deepti', 'Roll': 12, 'State': 'New Jersey'}\n",
      "{'Name': 'Deepti', 'Roll': 12, 'State': 'New Jersey'}\n",
      "{'Name': 'Deepti', 'Roll': 12, 'State': 'New Jersey'}\n"
     ]
    }
   ],
   "source": [
    "d1 = {\"Name\":\"Deepti\", \"Roll\":12, \"State\":\"New Jersey\"}\n",
    "print(d1)\n",
    "\n",
    "d2 = d1\n",
    "print(d2)\n",
    "\n",
    "d3 = d1.copy()\n",
    "print(d3)"
   ]
  },
  {
   "cell_type": "code",
   "execution_count": 3,
   "id": "5a3cbcce",
   "metadata": {},
   "outputs": [
    {
     "name": "stdout",
     "output_type": "stream",
     "text": [
      "{'Name': 'Deepti', 'Roll': 12, 'State': 'New Jersey'}\n",
      "{'Name': 'Deepti', 'Roll': 12, 'State': 'New Jersey'}\n"
     ]
    }
   ],
   "source": [
    "d1 = {\"Name\":\"Deepti\", \"Roll\":12, \"State\":\"New Jersey\"}\n",
    "print(d1)\n",
    "\n",
    "d2 = {}\n",
    "\n",
    "d2.update(d1)\n",
    "print(d2)"
   ]
  },
  {
   "cell_type": "code",
   "execution_count": 4,
   "id": "a2f0676a",
   "metadata": {},
   "outputs": [],
   "source": [
    "# Dictionary methods - keys() and values()"
   ]
  },
  {
   "cell_type": "code",
   "execution_count": 5,
   "id": "f02c854e",
   "metadata": {},
   "outputs": [
    {
     "name": "stdout",
     "output_type": "stream",
     "text": [
      "{'Name': 'Deepti', 'Roll': 12, 'State': 'New Jersey'}\n",
      "dict_keys(['Name', 'Roll', 'State'])\n",
      "dict_values(['Deepti', 12, 'New Jersey'])\n",
      "\n",
      "Printing the String format of the Dictionary\n",
      "{'Name': 'Deepti', 'Roll': 12, 'State': 'New Jersey'}\n",
      "e\n",
      "\n",
      "Printing Dictionary Using Keys\n",
      "Name Deepti\n",
      "Roll 12\n",
      "State New Jersey\n"
     ]
    }
   ],
   "source": [
    "d = {\"Name\":\"Deepti\", \"Roll\":12, \"State\":\"New Jersey\"}\n",
    "print(d)\n",
    "\n",
    "k = d.keys()\n",
    "print(k)\n",
    "\n",
    "v = d.values()\n",
    "print(v)\n",
    "\n",
    "print(\"\\nPrinting the String format of the Dictionary\")\n",
    "s = str(d)\n",
    "print(s)\n",
    "print(s[5])\n",
    "\n",
    "print(\"\\nPrinting Dictionary Using Keys\")\n",
    "for i in d.keys():\n",
    "    print(i, d[i])"
   ]
  },
  {
   "cell_type": "code",
   "execution_count": 6,
   "id": "87f037be",
   "metadata": {},
   "outputs": [
    {
     "name": "stdout",
     "output_type": "stream",
     "text": [
      "{'Name': 'Deepti', 'Roll': 12, 'State': 'New Jersey'}\n",
      "dict_keys(['Name', 'Roll', 'State'])\n",
      "dict_values(['Deepti', 12, 'New Jersey'])\n",
      "Printing the String format of the Dictionary\n",
      "{'Name': 'Deepti', 'Roll': 12, 'State': 'New Jersey'}\n",
      "e\n",
      "Printing Dictionary Using Keys\n",
      "Name Deepti\n",
      "Roll 12\n",
      "State New Jersey\n"
     ]
    }
   ],
   "source": [
    "d = {\"Name\":\"Deepti\", \"Roll\":12, \"State\":\"New Jersey\"}\n",
    "print(d)\n",
    "\n",
    "k = d.keys()\n",
    "print(k)\n",
    "\n",
    "v = d.values()\n",
    "print(v)\n",
    "\n",
    "print(\"Printing the String format of the Dictionary\")\n",
    "s = str(d)\n",
    "print(s)\n",
    "print(s[5])\n",
    "\n",
    "print(\"Printing Dictionary Using Keys\")\n",
    "for i in d.keys():\n",
    "    print(i, d[i])"
   ]
  },
  {
   "cell_type": "code",
   "execution_count": 3,
   "id": "2a0ce7ed",
   "metadata": {},
   "outputs": [
    {
     "name": "stdout",
     "output_type": "stream",
     "text": [
      "{'Name': 'Deepti', 'Roll': 12, 'State': 'New Jersey'}\n",
      "dict_items([('Name', 'Deepti'), ('Roll', 12), ('State', 'New Jersey')])\n",
      "12\n",
      "country not available\n"
     ]
    }
   ],
   "source": [
    "d = {\"Name\":\"Deepti\", \"Roll\":12, \"State\":\"New Jersey\"}\n",
    "print(d)\n",
    "\n",
    "print(d.items())\n",
    "\n",
    "if \"Roll\" in d.keys() : print(d[\"Roll\"])\n",
    "else: print(\"Roll not available\")\n",
    "    \n",
    "if \"country\" in d.keys() : print(d[\"country\"])\n",
    "else: print(\"country not available\")      "
   ]
  },
  {
   "cell_type": "code",
   "execution_count": 4,
   "id": "83c5c4ae",
   "metadata": {},
   "outputs": [],
   "source": [
    "# Dictionary methods - Using items()"
   ]
  },
  {
   "cell_type": "code",
   "execution_count": 6,
   "id": "6181a56c",
   "metadata": {},
   "outputs": [
    {
     "name": "stdout",
     "output_type": "stream",
     "text": [
      "{'Name': 'Deepti', 'Roll': 12, 'State': 'New Jersey'}\n",
      "dict_items([('Name', 'Deepti'), ('Roll', 12), ('State', 'New Jersey')])\n",
      "\n",
      "Using for Loop with items()\n",
      "('Name', 'Deepti')\n",
      "('Roll', 12)\n",
      "('State', 'New Jersey')\n",
      "\n",
      "Using for Loop with items()\n",
      "Key - Name\tValue -Deepti\n",
      "Key - Roll\tValue -12\n",
      "Key - State\tValue -New Jersey\n"
     ]
    }
   ],
   "source": [
    "d = {\"Name\":\"Deepti\", \"Roll\":12, \"State\":\"New Jersey\"}\n",
    "print(d)\n",
    "\n",
    "print(d.items())\n",
    "\n",
    "print(\"\\nUsing for Loop with items()\")\n",
    "for I in d.items():\n",
    "    print(I)\n",
    "    \n",
    "print(\"\\nUsing for Loop with items()\")\n",
    "for I in d.items():\n",
    "    print(\"Key - %s\\tValue -%s\" %(I[0], I[1]))"
   ]
  },
  {
   "cell_type": "code",
   "execution_count": 7,
   "id": "a7d7141f",
   "metadata": {},
   "outputs": [
    {
     "name": "stdout",
     "output_type": "stream",
     "text": [
      "{'Name': 'Deepti', 'Roll': 12, 'State': 'New Jersey'}\n",
      "\n",
      "Using for Loop with items()\n",
      "Name Deepti\n",
      "Roll 12\n",
      "State New Jersey\n"
     ]
    }
   ],
   "source": [
    "d = {\"Name\":\"Deepti\", \"Roll\":12, \"State\":\"New Jersey\"}\n",
    "print(d)\n",
    "\n",
    "print(\"\\nUsing for Loop with items()\")\n",
    "for x , y in d.items():\n",
    "    print(x , y)\n"
   ]
  },
  {
   "cell_type": "code",
   "execution_count": 8,
   "id": "d1bee3d5",
   "metadata": {},
   "outputs": [],
   "source": [
    "# Comparison of Dictionary variables - Using == and !="
   ]
  },
  {
   "cell_type": "code",
   "execution_count": 11,
   "id": "2dc818be",
   "metadata": {},
   "outputs": [
    {
     "name": "stdout",
     "output_type": "stream",
     "text": [
      "False\n",
      "True\n",
      "False\n"
     ]
    }
   ],
   "source": [
    "d1 = {\"New Jersey\" :12, \"Mumbai\" :12, \"Kashi\" :12}\n",
    "d2 = {\"New Jersey\" :13, \"Mumbai\" :13, \"Kashi\" :13}\n",
    "d3 = {\"Kashi\" :12, \"New Jersey\" :12, \"Mumbai\" :12}\n",
    "d4 = {\"New York\" :12, \"Mumbai\" :12, \"Kashi\" :12}\n",
    "\n",
    "print(d1 == d2)\n",
    "print(d1 == d3)\n",
    "print(d1 == d4)"
   ]
  },
  {
   "cell_type": "code",
   "execution_count": 12,
   "id": "ec0aefb4",
   "metadata": {},
   "outputs": [
    {
     "ename": "TypeError",
     "evalue": "'>' not supported between instances of 'dict' and 'dict'",
     "output_type": "error",
     "traceback": [
      "\u001b[1;31m---------------------------------------------------------------------------\u001b[0m",
      "\u001b[1;31mTypeError\u001b[0m                                 Traceback (most recent call last)",
      "\u001b[1;32m~\\AppData\\Local\\Temp\\ipykernel_22816\\3980529477.py\u001b[0m in \u001b[0;36m<module>\u001b[1;34m\u001b[0m\n\u001b[0;32m      4\u001b[0m \u001b[0md4\u001b[0m \u001b[1;33m=\u001b[0m \u001b[1;33m{\u001b[0m\u001b[1;34m\"New York\"\u001b[0m \u001b[1;33m:\u001b[0m\u001b[1;36m12\u001b[0m\u001b[1;33m,\u001b[0m \u001b[1;34m\"Mumbai\"\u001b[0m \u001b[1;33m:\u001b[0m\u001b[1;36m12\u001b[0m\u001b[1;33m,\u001b[0m \u001b[1;34m\"Kashi\"\u001b[0m \u001b[1;33m:\u001b[0m\u001b[1;36m12\u001b[0m\u001b[1;33m}\u001b[0m\u001b[1;33m\u001b[0m\u001b[1;33m\u001b[0m\u001b[0m\n\u001b[0;32m      5\u001b[0m \u001b[1;33m\u001b[0m\u001b[0m\n\u001b[1;32m----> 6\u001b[1;33m \u001b[0mprint\u001b[0m\u001b[1;33m(\u001b[0m\u001b[0md1\u001b[0m\u001b[1;33m>\u001b[0m\u001b[0md2\u001b[0m\u001b[1;33m)\u001b[0m\u001b[1;33m\u001b[0m\u001b[1;33m\u001b[0m\u001b[0m\n\u001b[0m",
      "\u001b[1;31mTypeError\u001b[0m: '>' not supported between instances of 'dict' and 'dict'"
     ]
    }
   ],
   "source": [
    "d1 = {\"New Jersey\" :12, \"Mumbai\" :12, \"Kashi\" :12}\n",
    "d2 = {\"New Jersey\" :13, \"Mumbai\" :13, \"Kashi\" :13}\n",
    "d3 = {\"Kashi\" :12, \"New Jersey\" :12, \"Mumbai\" :12}\n",
    "d4 = {\"New York\" :12, \"Mumbai\" :12, \"Kashi\" :12}\n",
    "\n",
    "print(d1>d2)"
   ]
  },
  {
   "cell_type": "code",
   "execution_count": 13,
   "id": "2889099c",
   "metadata": {},
   "outputs": [],
   "source": [
    "# Nested Dictionaries"
   ]
  },
  {
   "cell_type": "code",
   "execution_count": 15,
   "id": "a7c31d69",
   "metadata": {},
   "outputs": [
    {
     "name": "stdout",
     "output_type": "stream",
     "text": [
      "{1: {'name': 'Shiv', 'age': 19}, 2: {'name': 'Shyam', 'age': 20}, 3: {'name': 'Ram', 'age': 18}, 4: {'name': 'Som', 'age': 19}}\n",
      "\n",
      "Using Loops\n",
      "\n",
      "1 {'name': 'Shiv', 'age': 19}\n",
      "2 {'name': 'Shyam', 'age': 20}\n",
      "3 {'name': 'Ram', 'age': 18}\n",
      "4 {'name': 'Som', 'age': 19}\n"
     ]
    }
   ],
   "source": [
    "s1 = {\"name\" : \"Shiv\", \"age\" : 19}\n",
    "s2 = {\"name\" : \"Shyam\", \"age\" : 20}\n",
    "s3 = {\"name\" : \"Ram\", \"age\" : 18}\n",
    "s4 = {\"name\" : \"Som\", \"age\" : 19}\n",
    "\n",
    "stud = {1:s1, 2:s2, 3:s3, 4:s4}\n",
    "\n",
    "print(stud)\n",
    "\n",
    "print(\"\\nUsing Loops\\n\")\n",
    "for s in stud:\n",
    "    print(s, stud[s])"
   ]
  },
  {
   "cell_type": "code",
   "execution_count": 16,
   "id": "68ee7f19",
   "metadata": {},
   "outputs": [
    {
     "name": "stdout",
     "output_type": "stream",
     "text": [
      "{1: [{'name': 'Shiv', 'age': 19, 'city': 'Kashi'}, {10: 75, 12: 81, 'Grad': 72}], 2: [{'name': 'Shyam', 'age': 20, 'city': 'Mathura'}, {10: 66, 12: 60, 'Grad': 62, 'PGrad': 58}], 3: [{'name': 'Ram', 'age': 18, 'city': 'Ayodhya'}, {10: 85, 12: 61}], 4: [{'name': 'Som', 'age': 19, 'city': 'Kailash'}, {10: 55, 12: 57, 'Grad': 73}]}\n",
      "\n",
      "Using Loops\n",
      "\n",
      "1 [{'name': 'Shiv', 'age': 19, 'city': 'Kashi'}, {10: 75, 12: 81, 'Grad': 72}]\n",
      "2 [{'name': 'Shyam', 'age': 20, 'city': 'Mathura'}, {10: 66, 12: 60, 'Grad': 62, 'PGrad': 58}]\n",
      "3 [{'name': 'Ram', 'age': 18, 'city': 'Ayodhya'}, {10: 85, 12: 61}]\n",
      "4 [{'name': 'Som', 'age': 19, 'city': 'Kailash'}, {10: 55, 12: 57, 'Grad': 73}]\n"
     ]
    }
   ],
   "source": [
    "s1_personal_details = {\"name\":\"Shiv\", \"age\":19, \"city\":\"Kashi\"}\n",
    "s2_personal_details = {\"name\":\"Shyam\", \"age\":20, \"city\":\"Mathura\"}\n",
    "s3_personal_details = {\"name\":\"Ram\", \"age\":18, \"city\":\"Ayodhya\"}\n",
    "s4_personal_details = {\"name\":\"Som\", \"age\":19, \"city\":\"Kailash\"}\n",
    "\n",
    "s1_10_12_grad = {10:75, 12:81, \"Grad\":72}\n",
    "s2_10_12_grad = {10:66, 12:60, \"Grad\":62, \"PGrad\":58}\n",
    "s3_10_12_grad = {10:85, 12:61}\n",
    "s4_10_12_grad = {10:55, 12:57, \"Grad\":73}\n",
    "\n",
    "s1 = [s1_personal_details, s1_10_12_grad]\n",
    "s2 = [s2_personal_details, s2_10_12_grad]\n",
    "s3 = [s3_personal_details, s3_10_12_grad]\n",
    "s4 = [s4_personal_details, s4_10_12_grad]\n",
    "\n",
    "stud = {1:s1, 2:s2, 3:s3, 4:s4}\n",
    "\n",
    "print(stud)\n",
    "\n",
    "print(\"\\nUsing Loops\\n\")\n",
    "for s in stud:\n",
    "    print(s, stud[s])"
   ]
  },
  {
   "cell_type": "code",
   "execution_count": 17,
   "id": "3733c305",
   "metadata": {},
   "outputs": [],
   "source": [
    "# User defined functions (UDF) in Python"
   ]
  },
  {
   "cell_type": "code",
   "execution_count": 18,
   "id": "0e2a426a",
   "metadata": {},
   "outputs": [
    {
     "name": "stdout",
     "output_type": "stream",
     "text": [
      "A\n",
      "B\n",
      "C\n",
      "\n",
      "\n"
     ]
    }
   ],
   "source": [
    "print(\"A\")\n",
    "print(\"B\")\n",
    "print(\"C\")\n",
    "\n",
    "print(\"\\n\")"
   ]
  },
  {
   "cell_type": "code",
   "execution_count": 19,
   "id": "bab19f39",
   "metadata": {},
   "outputs": [
    {
     "name": "stdout",
     "output_type": "stream",
     "text": [
      "A\n",
      "B\n",
      "C\n",
      "\n",
      "\n"
     ]
    }
   ],
   "source": [
    "# Create a function: name should not be existing keywords\n",
    "\n",
    "def f(): # function header\n",
    "    print(\"B\") # function body\n",
    "\n",
    "\n",
    "print(\"A\")\n",
    "f() # function call\n",
    "print(\"C\")\n",
    "\n",
    "print(\"\\n\")"
   ]
  },
  {
   "cell_type": "code",
   "execution_count": 20,
   "id": "1388fa7e",
   "metadata": {},
   "outputs": [
    {
     "name": "stdout",
     "output_type": "stream",
     "text": [
      "Enter A Number: \n",
      "13\n",
      "Odd\n",
      "\n",
      "\n"
     ]
    }
   ],
   "source": [
    "print(\"Enter A Number: \")\n",
    "n = int(input())\n",
    "\n",
    "if n%2 == 0 : print(\"Even\")\n",
    "else : print(\"Odd\")\n",
    "    \n",
    "print(\"\\n\")    "
   ]
  },
  {
   "cell_type": "code",
   "execution_count": null,
   "id": "a728e6f9",
   "metadata": {},
   "outputs": [],
   "source": []
  }
 ],
 "metadata": {
  "kernelspec": {
   "display_name": "Python 3 (ipykernel)",
   "language": "python",
   "name": "python3"
  },
  "language_info": {
   "codemirror_mode": {
    "name": "ipython",
    "version": 3
   },
   "file_extension": ".py",
   "mimetype": "text/x-python",
   "name": "python",
   "nbconvert_exporter": "python",
   "pygments_lexer": "ipython3",
   "version": "3.9.13"
  }
 },
 "nbformat": 4,
 "nbformat_minor": 5
}

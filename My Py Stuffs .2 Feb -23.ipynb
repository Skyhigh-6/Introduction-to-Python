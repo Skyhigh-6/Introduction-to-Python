{
 "cells": [
  {
   "cell_type": "markdown",
   "id": "45ee6803",
   "metadata": {},
   "source": [
    "Working with CSV files in PY"
   ]
  },
  {
   "cell_type": "markdown",
   "id": "27e96174",
   "metadata": {},
   "source": [
    "PDFs adn Spreadsheets"
   ]
  },
  {
   "cell_type": "code",
   "execution_count": 1,
   "id": "40374056",
   "metadata": {},
   "outputs": [
    {
     "data": {
      "text/plain": [
       "'C:\\\\Users\\\\deept'"
      ]
     },
     "execution_count": 1,
     "metadata": {},
     "output_type": "execute_result"
    }
   ],
   "source": [
    "pwd"
   ]
  },
  {
   "cell_type": "code",
   "execution_count": 2,
   "id": "8b9f7095",
   "metadata": {},
   "outputs": [],
   "source": [
    "import csv"
   ]
  },
  {
   "cell_type": "markdown",
   "id": "70cec758",
   "metadata": {},
   "source": [
    "below the cell input num didnt reflect bcoz- we split the cell"
   ]
  },
  {
   "cell_type": "code",
   "execution_count": 3,
   "id": "8eae5b75",
   "metadata": {},
   "outputs": [
    {
     "ename": "FileNotFoundError",
     "evalue": "[Errno 2] No such file or directory: 'example.csv'",
     "output_type": "error",
     "traceback": [
      "\u001b[1;31m---------------------------------------------------------------------------\u001b[0m",
      "\u001b[1;31mFileNotFoundError\u001b[0m                         Traceback (most recent call last)",
      "Input \u001b[1;32mIn [3]\u001b[0m, in \u001b[0;36m<cell line: 2>\u001b[1;34m()\u001b[0m\n\u001b[0;32m      1\u001b[0m \u001b[38;5;66;03m# Open the file\u001b[39;00m\n\u001b[1;32m----> 2\u001b[0m data \u001b[38;5;241m=\u001b[39m \u001b[38;5;28;43mopen\u001b[39;49m\u001b[43m(\u001b[49m\u001b[38;5;124;43m'\u001b[39;49m\u001b[38;5;124;43mexample.csv\u001b[39;49m\u001b[38;5;124;43m'\u001b[39;49m\u001b[43m,\u001b[49m\u001b[43mencoding\u001b[49m\u001b[38;5;241;43m=\u001b[39;49m\u001b[38;5;124;43m'\u001b[39;49m\u001b[38;5;124;43mutf-8\u001b[39;49m\u001b[38;5;124;43m'\u001b[39;49m\u001b[43m)\u001b[49m\n",
      "\u001b[1;31mFileNotFoundError\u001b[0m: [Errno 2] No such file or directory: 'example.csv'"
     ]
    }
   ],
   "source": [
    "# Open the file\n",
    "data = open('example.csv',encoding='utf-8')"
   ]
  },
  {
   "cell_type": "markdown",
   "id": "17cdce58",
   "metadata": {},
   "source": [
    "Convert into csv data"
   ]
  },
  {
   "cell_type": "code",
   "execution_count": null,
   "id": "d85e225c",
   "metadata": {},
   "outputs": [],
   "source": [
    "# csv.reader\n",
    "csv_data = csv.reader(data)"
   ]
  },
  {
   "cell_type": "code",
   "execution_count": null,
   "id": "0350dae3",
   "metadata": {},
   "outputs": [],
   "source": [
    "# reformat it into a Python object list of Lists\n",
    "data_lines = list(csv_data) "
   ]
  },
  {
   "cell_type": "code",
   "execution_count": null,
   "id": "a0042807",
   "metadata": {},
   "outputs": [],
   "source": [
    "data_lines"
   ]
  },
  {
   "cell_type": "markdown",
   "id": "c41efe7e",
   "metadata": {},
   "source": [
    "Working with PDF files"
   ]
  },
  {
   "cell_type": "code",
   "execution_count": null,
   "id": "2d990cc3",
   "metadata": {},
   "outputs": [],
   "source": [
    "import PyPDF2"
   ]
  },
  {
   "cell_type": "code",
   "execution_count": null,
   "id": "6d03d995",
   "metadata": {},
   "outputs": [],
   "source": [
    "f = open('Working_Buisness_Proposal.pdf', 'rb')"
   ]
  },
  {
   "cell_type": "code",
   "execution_count": null,
   "id": "0e9303e1",
   "metadata": {},
   "outputs": [],
   "source": [
    "pdf_reader = PyPDF2.PdfFileReader(f)"
   ]
  },
  {
   "cell_type": "code",
   "execution_count": null,
   "id": "668daecf",
   "metadata": {},
   "outputs": [],
   "source": [
    "pdf_reader.numPages"
   ]
  },
  {
   "cell_type": "markdown",
   "id": "fa88f68e",
   "metadata": {},
   "source": [
    "Sending emails"
   ]
  },
  {
   "cell_type": "markdown",
   "id": "5de9832c",
   "metadata": {},
   "source": [
    "Simple mail transfer protocol - smtp lib - library"
   ]
  },
  {
   "cell_type": "code",
   "execution_count": 1,
   "id": "7dc61542",
   "metadata": {},
   "outputs": [],
   "source": [
    "import smtplib"
   ]
  },
  {
   "cell_type": "markdown",
   "id": "c3f7c622",
   "metadata": {},
   "source": [
    "smtp - object for Server as per the domain name - we will be using Gmail"
   ]
  },
  {
   "cell_type": "markdown",
   "id": "474256b1",
   "metadata": {},
   "source": [
    "Pass in port number"
   ]
  },
  {
   "cell_type": "code",
   "execution_count": 2,
   "id": "58ae260c",
   "metadata": {},
   "outputs": [],
   "source": [
    "smtp_object = smtplib.SMTP('smtp.gmail.com', 587)"
   ]
  },
  {
   "cell_type": "markdown",
   "id": "ba85659a",
   "metadata": {},
   "source": [
    "Establishs the connection - Directly after creating the objects"
   ]
  },
  {
   "cell_type": "markdown",
   "id": "b3238d19",
   "metadata": {},
   "source": [
    "Grab our object and run - it will say 250 and have a successful connection"
   ]
  },
  {
   "cell_type": "code",
   "execution_count": 3,
   "id": "9f86aabe",
   "metadata": {},
   "outputs": [
    {
     "data": {
      "text/plain": [
       "(250,\n",
       " b'smtp.gmail.com at your service, [68.194.199.219]\\nSIZE 35882577\\n8BITMIME\\nSTARTTLS\\nENHANCEDSTATUSCODES\\nPIPELINING\\nCHUNKING\\nSMTPUTF8')"
      ]
     },
     "execution_count": 3,
     "metadata": {},
     "output_type": "execute_result"
    }
   ],
   "source": [
    "smtp_object.ehlo()"
   ]
  },
  {
   "cell_type": "code",
   "execution_count": 4,
   "id": "0d86224c",
   "metadata": {},
   "outputs": [
    {
     "data": {
      "text/plain": [
       "(220, b'2.0.0 Ready to start TLS')"
      ]
     },
     "execution_count": 4,
     "metadata": {},
     "output_type": "execute_result"
    }
   ],
   "source": [
    "smtp_object.starttls()"
   ]
  },
  {
   "cell_type": "markdown",
   "id": "ed6bdf66",
   "metadata": {},
   "source": [
    "Never save the raw password script"
   ]
  },
  {
   "cell_type": "markdown",
   "id": "1c035509",
   "metadata": {},
   "source": [
    "built-in get pass library to hide the password - not visible\n"
   ]
  },
  {
   "cell_type": "markdown",
   "id": "b1d3d744",
   "metadata": {},
   "source": [
    "Lets say use input function to save your password"
   ]
  },
  {
   "cell_type": "code",
   "execution_count": 5,
   "id": "8c45bbb2",
   "metadata": {},
   "outputs": [
    {
     "name": "stdout",
     "output_type": "stream",
     "text": [
      "What is your password: dkd\n"
     ]
    }
   ],
   "source": [
    "password = input('What is your password: ')\n"
   ]
  },
  {
   "cell_type": "markdown",
   "id": "eb0f7c6e",
   "metadata": {},
   "source": [
    "better way of doing the password - hide"
   ]
  },
  {
   "cell_type": "code",
   "execution_count": 6,
   "id": "d9e31208",
   "metadata": {},
   "outputs": [],
   "source": [
    "import getpass"
   ]
  },
  {
   "cell_type": "code",
   "execution_count": 7,
   "id": "a4a49af8",
   "metadata": {},
   "outputs": [
    {
     "name": "stdout",
     "output_type": "stream",
     "text": [
      "Password please:········\n"
     ]
    }
   ],
   "source": [
    "password = getpass.getpass('Password please:')"
   ]
  },
  {
   "cell_type": "markdown",
   "id": "c18ca5e5",
   "metadata": {},
   "source": [
    "Gmail secure password - 2 step authentication"
   ]
  },
  {
   "cell_type": "code",
   "execution_count": 8,
   "id": "057fe9bf",
   "metadata": {},
   "outputs": [
    {
     "name": "stdout",
     "output_type": "stream",
     "text": [
      "Email: ········\n",
      "Password: ········\n"
     ]
    },
    {
     "data": {
      "text/plain": [
       "(235, b'2.7.0 Accepted')"
      ]
     },
     "execution_count": 8,
     "metadata": {},
     "output_type": "execute_result"
    }
   ],
   "source": [
    "email = getpass.getpass(\"Email: \")\n",
    "password = getpass.getpass(\"Password: \")\n",
    "smtp_object.login(email,password)"
   ]
  },
  {
   "cell_type": "markdown",
   "id": "a0408435",
   "metadata": {},
   "source": [
    "if you receive any empty Bar bracket - Mission success"
   ]
  },
  {
   "cell_type": "code",
   "execution_count": 9,
   "id": "3eddd1ff",
   "metadata": {},
   "outputs": [
    {
     "name": "stdout",
     "output_type": "stream",
     "text": [
      "enter the subject line: NEW TEST PYTHON\n",
      "enter the body message: hello this is a test\n"
     ]
    },
    {
     "data": {
      "text/plain": [
       "{}"
      ]
     },
     "execution_count": 9,
     "metadata": {},
     "output_type": "execute_result"
    }
   ],
   "source": [
    "from_address = email\n",
    "to_address = email\n",
    "subject = input(\"enter the subject line: \")\n",
    "message = input(\"enter the body message: \")\n",
    "msg = \"Subject: \"+subject+'\\n'+message\n",
    "\n",
    "smtp_object.sendmail(from_address,to_address,msg)"
   ]
  },
  {
   "cell_type": "code",
   "execution_count": 10,
   "id": "e1b4f4bd",
   "metadata": {},
   "outputs": [
    {
     "data": {
      "text/plain": [
       "(221,\n",
       " b'2.0.0 closing connection 11-20020a37060b000000b00741921f3f60sm3742036qkg.42 - gsmtp')"
      ]
     },
     "execution_count": 10,
     "metadata": {},
     "output_type": "execute_result"
    }
   ],
   "source": [
    "smtp_object.quit()"
   ]
  },
  {
   "cell_type": "markdown",
   "id": "c65a00a2",
   "metadata": {},
   "source": [
    "Receiving Emails with PY\n",
    "# We can use build in imaplib and email lib\n",
    "# imaplib have special syntax for searching your inbox"
   ]
  },
  {
   "cell_type": "markdown",
   "id": "3df9ea7d",
   "metadata": {},
   "source": [
    "Viewing emails"
   ]
  },
  {
   "cell_type": "code",
   "execution_count": 11,
   "id": "97b31d15",
   "metadata": {},
   "outputs": [],
   "source": [
    "import imaplib"
   ]
  },
  {
   "cell_type": "code",
   "execution_count": 12,
   "id": "33c92593",
   "metadata": {},
   "outputs": [],
   "source": [
    "M = imaplib.IMAP4_SSL('imap.gmail.com')"
   ]
  },
  {
   "cell_type": "code",
   "execution_count": 13,
   "id": "63d317f2",
   "metadata": {},
   "outputs": [],
   "source": [
    "import getpass"
   ]
  },
  {
   "cell_type": "code",
   "execution_count": 14,
   "id": "c6f7eb20",
   "metadata": {},
   "outputs": [
    {
     "name": "stdout",
     "output_type": "stream",
     "text": [
      "Email: ········\n",
      "Password: ········\n"
     ]
    }
   ],
   "source": [
    "email = getpass.getpass(\"Email: \")\n",
    "password = getpass.getpass('Password: ')\n"
   ]
  },
  {
   "cell_type": "code",
   "execution_count": 15,
   "id": "b37f945e",
   "metadata": {},
   "outputs": [
    {
     "data": {
      "text/plain": [
       "('OK', [b'deepti.more4@gmail.com authenticated (Success)'])"
      ]
     },
     "execution_count": 15,
     "metadata": {},
     "output_type": "execute_result"
    }
   ],
   "source": [
    "M.login(email,password)"
   ]
  },
  {
   "cell_type": "code",
   "execution_count": 16,
   "id": "100fada3",
   "metadata": {},
   "outputs": [
    {
     "data": {
      "text/plain": [
       "('OK',\n",
       " [b'(\\\\HasNoChildren) \"/\" \"CBRE\"',\n",
       "  b'(\\\\HasNoChildren) \"/\" \"Dee &- Ruc\"',\n",
       "  b'(\\\\HasNoChildren) \"/\" \"HDFC -NEW\"',\n",
       "  b'(\\\\HasNoChildren) \"/\" \"INBOX\"',\n",
       "  b'(\\\\HasNoChildren) \"/\" \"Only Dee\"',\n",
       "  b'(\\\\HasNoChildren) \"/\" \"Telecom\"',\n",
       "  b'(\\\\HasChildren) \"/\" \"Travel\"',\n",
       "  b'(\\\\HasNoChildren) \"/\" \"Travel Kit\"',\n",
       "  b'(\\\\HasNoChildren) \"/\" \"Travel/HUNT - ART\"',\n",
       "  b'(\\\\HasNoChildren) \"/\" \"Travelex\"',\n",
       "  b'(\\\\HasChildren \\\\Noselect) \"/\" \"[Gmail]\"',\n",
       "  b'(\\\\All \\\\HasNoChildren) \"/\" \"[Gmail]/All Mail\"',\n",
       "  b'(\\\\Drafts \\\\HasNoChildren) \"/\" \"[Gmail]/Drafts\"',\n",
       "  b'(\\\\HasNoChildren \\\\Important) \"/\" \"[Gmail]/Important\"',\n",
       "  b'(\\\\HasNoChildren \\\\Sent) \"/\" \"[Gmail]/Sent Mail\"',\n",
       "  b'(\\\\HasNoChildren \\\\Junk) \"/\" \"[Gmail]/Spam\"',\n",
       "  b'(\\\\Flagged \\\\HasNoChildren) \"/\" \"[Gmail]/Starred\"',\n",
       "  b'(\\\\HasNoChildren \\\\Trash) \"/\" \"[Gmail]/Trash\"'])"
      ]
     },
     "execution_count": 16,
     "metadata": {},
     "output_type": "execute_result"
    }
   ],
   "source": [
    "M.list()"
   ]
  },
  {
   "cell_type": "markdown",
   "id": "5fe15466",
   "metadata": {},
   "source": [
    "Some connected number below"
   ]
  },
  {
   "cell_type": "code",
   "execution_count": 17,
   "id": "79cea398",
   "metadata": {},
   "outputs": [
    {
     "data": {
      "text/plain": [
       "('OK', [b'2065'])"
      ]
     },
     "execution_count": 17,
     "metadata": {},
     "output_type": "execute_result"
    }
   ],
   "source": [
    "M.select('inbox')"
   ]
  },
  {
   "cell_type": "code",
   "execution_count": 18,
   "id": "5ea8f370",
   "metadata": {},
   "outputs": [],
   "source": [
    "typ, data = M.search(None,'SUBJECT \"NEW TEST PYTHON\"')"
   ]
  },
  {
   "cell_type": "code",
   "execution_count": 19,
   "id": "dce8e07d",
   "metadata": {},
   "outputs": [
    {
     "data": {
      "text/plain": [
       "'OK'"
      ]
     },
     "execution_count": 19,
     "metadata": {},
     "output_type": "execute_result"
    }
   ],
   "source": [
    "typ"
   ]
  },
  {
   "cell_type": "code",
   "execution_count": 20,
   "id": "d907a78a",
   "metadata": {},
   "outputs": [
    {
     "data": {
      "text/plain": [
       "[b'2065']"
      ]
     },
     "execution_count": 20,
     "metadata": {},
     "output_type": "execute_result"
    }
   ],
   "source": [
    "data"
   ]
  },
  {
   "cell_type": "markdown",
   "id": "0b9ee2a4",
   "metadata": {},
   "source": [
    "Fetch the data"
   ]
  },
  {
   "cell_type": "code",
   "execution_count": 21,
   "id": "c97466ef",
   "metadata": {},
   "outputs": [
    {
     "data": {
      "text/plain": [
       "b'2065'"
      ]
     },
     "execution_count": 21,
     "metadata": {},
     "output_type": "execute_result"
    }
   ],
   "source": [
    "data[0]"
   ]
  },
  {
   "cell_type": "code",
   "execution_count": 22,
   "id": "8f671b86",
   "metadata": {},
   "outputs": [],
   "source": [
    "email_id = data[0]"
   ]
  },
  {
   "cell_type": "code",
   "execution_count": 23,
   "id": "0be01acc",
   "metadata": {},
   "outputs": [],
   "source": [
    "result, email_data = M.fetch(email_id,'(RFC822)')"
   ]
  },
  {
   "cell_type": "code",
   "execution_count": 24,
   "id": "187bae0b",
   "metadata": {},
   "outputs": [
    {
     "data": {
      "text/plain": [
       "[(b'2065 (RFC822 {603}',\n",
       "  b'Bcc: deepti.more4@gmail.com\\r\\nReturn-Path: <deepti.more4@gmail.com>\\r\\nReceived: from [192.168.1.239] (ool-44c2c7db.dyn.optonline.net. [68.194.199.219])\\r\\n        by smtp.gmail.com with ESMTPSA id 11-20020a37060b000000b00741921f3f60sm3742036qkg.42.2023.02.22.11.26.30\\r\\n        for <deepti.more4@gmail.com>\\r\\n        (version=TLS1_3 cipher=TLS_AES_256_GCM_SHA384 bits=256/256);\\r\\n        Wed, 22 Feb 2023 11:26:30 -0800 (PST)\\r\\nMessage-ID: <63f66c66.370a0220.71156.003f@mx.google.com>\\r\\nDate: Wed, 22 Feb 2023 11:26:30 -0800 (PST)\\r\\nFrom: deepti.more4@gmail.com\\r\\nSubject: NEW TEST PYTHON\\r\\n\\r\\nhello this is a test\\r\\n'),\n",
       " b')']"
      ]
     },
     "execution_count": 24,
     "metadata": {},
     "output_type": "execute_result"
    }
   ],
   "source": [
    "email_data"
   ]
  },
  {
   "cell_type": "markdown",
   "id": "cf428d06",
   "metadata": {},
   "source": [
    "Index for it"
   ]
  },
  {
   "cell_type": "code",
   "execution_count": 25,
   "id": "7f612b54",
   "metadata": {},
   "outputs": [],
   "source": [
    "# email_data"
   ]
  },
  {
   "cell_type": "code",
   "execution_count": 26,
   "id": "1e4d037b",
   "metadata": {},
   "outputs": [],
   "source": [
    "raw_email = email_data[0][1] "
   ]
  },
  {
   "cell_type": "code",
   "execution_count": 27,
   "id": "a1f3e5ba",
   "metadata": {},
   "outputs": [],
   "source": [
    "raw_email_string = raw_email.decode('utf-8')"
   ]
  },
  {
   "cell_type": "code",
   "execution_count": 28,
   "id": "068c24e4",
   "metadata": {},
   "outputs": [],
   "source": [
    "import email"
   ]
  },
  {
   "cell_type": "code",
   "execution_count": 29,
   "id": "a8111360",
   "metadata": {},
   "outputs": [],
   "source": [
    "email_message = email.message_from_string(raw_email_string)"
   ]
  },
  {
   "cell_type": "markdown",
   "id": "9cd18d6b",
   "metadata": {},
   "source": [
    "iterate"
   ]
  },
  {
   "cell_type": "code",
   "execution_count": 30,
   "id": "427f4197",
   "metadata": {},
   "outputs": [
    {
     "data": {
      "text/plain": [
       "<email.message.Message at 0x1a76e35d310>"
      ]
     },
     "execution_count": 30,
     "metadata": {},
     "output_type": "execute_result"
    }
   ],
   "source": [
    "email_message"
   ]
  },
  {
   "cell_type": "markdown",
   "id": "9b0fb7b6",
   "metadata": {},
   "source": [
    "Byte string"
   ]
  },
  {
   "cell_type": "code",
   "execution_count": 31,
   "id": "bfaf8f60",
   "metadata": {},
   "outputs": [
    {
     "name": "stdout",
     "output_type": "stream",
     "text": [
      "b'hello this is a test\\r\\n'\n"
     ]
    }
   ],
   "source": [
    "for part in email_message.walk():\n",
    "    \n",
    "    if part.get_content_type() == 'text/plain':\n",
    "        body = part.get_payload(decode=True)\n",
    "        print(body)"
   ]
  },
  {
   "cell_type": "markdown",
   "id": "91bb9833",
   "metadata": {},
   "source": [
    "Advanced Numbers\n",
    "# Hexa decimal num"
   ]
  },
  {
   "cell_type": "code",
   "execution_count": 1,
   "id": "cc44eccc",
   "metadata": {},
   "outputs": [
    {
     "data": {
      "text/plain": [
       "'0xc'"
      ]
     },
     "execution_count": 1,
     "metadata": {},
     "output_type": "execute_result"
    }
   ],
   "source": [
    "hex(12)"
   ]
  },
  {
   "cell_type": "code",
   "execution_count": 2,
   "id": "5462816c",
   "metadata": {},
   "outputs": [
    {
     "data": {
      "text/plain": [
       "'0x200'"
      ]
     },
     "execution_count": 2,
     "metadata": {},
     "output_type": "execute_result"
    }
   ],
   "source": [
    "hex(512)"
   ]
  },
  {
   "cell_type": "markdown",
   "id": "d41d3f74",
   "metadata": {},
   "source": [
    "# Binary decimal num"
   ]
  },
  {
   "cell_type": "code",
   "execution_count": 4,
   "id": "9b846ee6",
   "metadata": {},
   "outputs": [
    {
     "data": {
      "text/plain": [
       "'0b10011010010'"
      ]
     },
     "execution_count": 4,
     "metadata": {},
     "output_type": "execute_result"
    }
   ],
   "source": [
    "bin(1234)"
   ]
  },
  {
   "cell_type": "code",
   "execution_count": 7,
   "id": "f7832a76",
   "metadata": {},
   "outputs": [
    {
     "data": {
      "text/plain": [
       "'0b10000000'"
      ]
     },
     "execution_count": 7,
     "metadata": {},
     "output_type": "execute_result"
    }
   ],
   "source": [
    "bin(128)"
   ]
  },
  {
   "cell_type": "code",
   "execution_count": 6,
   "id": "0867b133",
   "metadata": {},
   "outputs": [
    {
     "data": {
      "text/plain": [
       "'0b1000000000'"
      ]
     },
     "execution_count": 6,
     "metadata": {},
     "output_type": "execute_result"
    }
   ],
   "source": [
    "bin(512)"
   ]
  },
  {
   "cell_type": "markdown",
   "id": "bf4700e0",
   "metadata": {},
   "source": [
    "# More common build in functions"
   ]
  },
  {
   "cell_type": "code",
   "execution_count": 8,
   "id": "b4ba95d0",
   "metadata": {},
   "outputs": [
    {
     "data": {
      "text/plain": [
       "16"
      ]
     },
     "execution_count": 8,
     "metadata": {},
     "output_type": "execute_result"
    }
   ],
   "source": [
    "2**4"
   ]
  },
  {
   "cell_type": "markdown",
   "id": "90958c49",
   "metadata": {},
   "source": [
    "# 2 Arguments to the power"
   ]
  },
  {
   "cell_type": "code",
   "execution_count": 9,
   "id": "2835e4e8",
   "metadata": {},
   "outputs": [
    {
     "data": {
      "text/plain": [
       "16"
      ]
     },
     "execution_count": 9,
     "metadata": {},
     "output_type": "execute_result"
    }
   ],
   "source": [
    "pow(2,4)"
   ]
  },
  {
   "cell_type": "markdown",
   "id": "28ea8907",
   "metadata": {},
   "source": [
    "# 3 Arguments to the power - 3rd is the % Mod "
   ]
  },
  {
   "cell_type": "code",
   "execution_count": 10,
   "id": "261b3ae0",
   "metadata": {},
   "outputs": [
    {
     "data": {
      "text/plain": [
       "1"
      ]
     },
     "execution_count": 10,
     "metadata": {},
     "output_type": "execute_result"
    }
   ],
   "source": [
    "pow(2,4,3)"
   ]
  },
  {
   "cell_type": "markdown",
   "id": "33d99f27",
   "metadata": {},
   "source": [
    "# Absolute value function"
   ]
  },
  {
   "cell_type": "code",
   "execution_count": 11,
   "id": "2a597266",
   "metadata": {},
   "outputs": [
    {
     "data": {
      "text/plain": [
       "3"
      ]
     },
     "execution_count": 11,
     "metadata": {},
     "output_type": "execute_result"
    }
   ],
   "source": [
    "abs(-3)"
   ]
  },
  {
   "cell_type": "code",
   "execution_count": 12,
   "id": "daa50b00",
   "metadata": {},
   "outputs": [
    {
     "data": {
      "text/plain": [
       "2"
      ]
     },
     "execution_count": 12,
     "metadata": {},
     "output_type": "execute_result"
    }
   ],
   "source": [
    "abs(2)"
   ]
  },
  {
   "cell_type": "markdown",
   "id": "f411f872",
   "metadata": {},
   "source": [
    "# round function - decimal point to zero"
   ]
  },
  {
   "cell_type": "code",
   "execution_count": 13,
   "id": "b4708d65",
   "metadata": {},
   "outputs": [
    {
     "data": {
      "text/plain": [
       "3"
      ]
     },
     "execution_count": 13,
     "metadata": {},
     "output_type": "execute_result"
    }
   ],
   "source": [
    "round(3.1)"
   ]
  },
  {
   "cell_type": "code",
   "execution_count": 14,
   "id": "fa6248c3",
   "metadata": {},
   "outputs": [
    {
     "data": {
      "text/plain": [
       "3"
      ]
     },
     "execution_count": 14,
     "metadata": {},
     "output_type": "execute_result"
    }
   ],
   "source": [
    "round(3)"
   ]
  },
  {
   "cell_type": "code",
   "execution_count": 15,
   "id": "0941f817",
   "metadata": {},
   "outputs": [
    {
     "data": {
      "text/plain": [
       "4"
      ]
     },
     "execution_count": 15,
     "metadata": {},
     "output_type": "execute_result"
    }
   ],
   "source": [
    "round(3.9)"
   ]
  },
  {
   "cell_type": "markdown",
   "id": "459d9434",
   "metadata": {},
   "source": [
    "# you ca also specify how many points you want after decimal point"
   ]
  },
  {
   "cell_type": "code",
   "execution_count": 16,
   "id": "6b1e0974",
   "metadata": {},
   "outputs": [
    {
     "data": {
      "text/plain": [
       "3.14"
      ]
     },
     "execution_count": 16,
     "metadata": {},
     "output_type": "execute_result"
    }
   ],
   "source": [
    "round(3.141592,2)"
   ]
  },
  {
   "cell_type": "markdown",
   "id": "19a96cbf",
   "metadata": {},
   "source": [
    "# advanced Strings"
   ]
  },
  {
   "cell_type": "code",
   "execution_count": 17,
   "id": "9ae18b63",
   "metadata": {},
   "outputs": [],
   "source": [
    "s = 'hello world'"
   ]
  },
  {
   "cell_type": "markdown",
   "id": "2e72eb8f",
   "metadata": {},
   "source": [
    "# changing case - upper nad Lower"
   ]
  },
  {
   "cell_type": "code",
   "execution_count": 18,
   "id": "1bdaa2de",
   "metadata": {},
   "outputs": [
    {
     "data": {
      "text/plain": [
       "'Hello world'"
      ]
     },
     "execution_count": 18,
     "metadata": {},
     "output_type": "execute_result"
    }
   ],
   "source": [
    "s.capitalize()"
   ]
  },
  {
   "cell_type": "code",
   "execution_count": 19,
   "id": "57897271",
   "metadata": {},
   "outputs": [
    {
     "data": {
      "text/plain": [
       "'HELLO WORLD'"
      ]
     },
     "execution_count": 19,
     "metadata": {},
     "output_type": "execute_result"
    }
   ],
   "source": [
    "s.upper()"
   ]
  },
  {
   "cell_type": "code",
   "execution_count": 20,
   "id": "46189257",
   "metadata": {},
   "outputs": [
    {
     "data": {
      "text/plain": [
       "'hello world'"
      ]
     },
     "execution_count": 20,
     "metadata": {},
     "output_type": "execute_result"
    }
   ],
   "source": [
    "s.lower()"
   ]
  },
  {
   "cell_type": "markdown",
   "id": "210593c4",
   "metadata": {},
   "source": [
    "# Location in counting methods"
   ]
  },
  {
   "cell_type": "code",
   "execution_count": 21,
   "id": "e0b3a66d",
   "metadata": {},
   "outputs": [
    {
     "data": {
      "text/plain": [
       "2"
      ]
     },
     "execution_count": 21,
     "metadata": {},
     "output_type": "execute_result"
    }
   ],
   "source": [
    "s.count('o')"
   ]
  },
  {
   "cell_type": "markdown",
   "id": "c1a1dcb3",
   "metadata": {},
   "source": [
    "Find the first occurance of O"
   ]
  },
  {
   "cell_type": "code",
   "execution_count": 22,
   "id": "46e764d3",
   "metadata": {},
   "outputs": [
    {
     "data": {
      "text/plain": [
       "4"
      ]
     },
     "execution_count": 22,
     "metadata": {},
     "output_type": "execute_result"
    }
   ],
   "source": [
    "s.find('o')"
   ]
  },
  {
   "cell_type": "markdown",
   "id": "e6990ada",
   "metadata": {},
   "source": [
    "# Center method - just a string"
   ]
  },
  {
   "cell_type": "code",
   "execution_count": 23,
   "id": "36149182",
   "metadata": {},
   "outputs": [
    {
     "data": {
      "text/plain": [
       "'hello world'"
      ]
     },
     "execution_count": 23,
     "metadata": {},
     "output_type": "execute_result"
    }
   ],
   "source": [
    "s"
   ]
  },
  {
   "cell_type": "code",
   "execution_count": 24,
   "id": "3e662f6a",
   "metadata": {},
   "outputs": [
    {
     "data": {
      "text/plain": [
       "'zzzzhello worldzzzzz'"
      ]
     },
     "execution_count": 24,
     "metadata": {},
     "output_type": "execute_result"
    }
   ],
   "source": [
    "s.center(20,'z')"
   ]
  },
  {
   "cell_type": "markdown",
   "id": "6001d3e4",
   "metadata": {},
   "source": [
    "# may or may not be used- Expanded tab method"
   ]
  },
  {
   "cell_type": "code",
   "execution_count": 25,
   "id": "91c286ea",
   "metadata": {},
   "outputs": [
    {
     "data": {
      "text/plain": [
       "'hello\\thi'"
      ]
     },
     "execution_count": 25,
     "metadata": {},
     "output_type": "execute_result"
    }
   ],
   "source": [
    "'hello\\thi'"
   ]
  },
  {
   "cell_type": "code",
   "execution_count": 26,
   "id": "ef4e3e70",
   "metadata": {},
   "outputs": [
    {
     "ename": "SyntaxError",
     "evalue": "Missing parentheses in call to 'print'. Did you mean print('hello\\thi')? (97603089.py, line 1)",
     "output_type": "error",
     "traceback": [
      "\u001b[1;36m  Input \u001b[1;32mIn [26]\u001b[1;36m\u001b[0m\n\u001b[1;33m    print 'hello\\thi'\u001b[0m\n\u001b[1;37m          ^\u001b[0m\n\u001b[1;31mSyntaxError\u001b[0m\u001b[1;31m:\u001b[0m Missing parentheses in call to 'print'. Did you mean print('hello\\thi')?\n"
     ]
    }
   ],
   "source": [
    "print 'hello\\thi'"
   ]
  },
  {
   "cell_type": "code",
   "execution_count": 27,
   "id": "e1b983ab",
   "metadata": {},
   "outputs": [
    {
     "data": {
      "text/plain": [
       "'hello   hi'"
      ]
     },
     "execution_count": 27,
     "metadata": {},
     "output_type": "execute_result"
    }
   ],
   "source": [
    "'hello\\thi'.expandtabs()"
   ]
  },
  {
   "cell_type": "code",
   "execution_count": 28,
   "id": "016a9fdb",
   "metadata": {},
   "outputs": [],
   "source": [
    "s = 'hello'"
   ]
  },
  {
   "cell_type": "markdown",
   "id": "78229416",
   "metadata": {},
   "source": [
    "3 All the characters are Alphanumeric - isalnum"
   ]
  },
  {
   "cell_type": "code",
   "execution_count": 29,
   "id": "bf0e9b59",
   "metadata": {},
   "outputs": [
    {
     "data": {
      "text/plain": [
       "True"
      ]
     },
     "execution_count": 29,
     "metadata": {},
     "output_type": "execute_result"
    }
   ],
   "source": [
    "s.isalnum()"
   ]
  },
  {
   "cell_type": "code",
   "execution_count": 30,
   "id": "7a822aca",
   "metadata": {},
   "outputs": [
    {
     "data": {
      "text/plain": [
       "True"
      ]
     },
     "execution_count": 30,
     "metadata": {},
     "output_type": "execute_result"
    }
   ],
   "source": [
    "s.isalpha()"
   ]
  },
  {
   "cell_type": "markdown",
   "id": "8578dd54",
   "metadata": {},
   "source": [
    "All the characters are lower case"
   ]
  },
  {
   "cell_type": "code",
   "execution_count": 31,
   "id": "d626318f",
   "metadata": {},
   "outputs": [
    {
     "data": {
      "text/plain": [
       "True"
      ]
     },
     "execution_count": 31,
     "metadata": {},
     "output_type": "execute_result"
    }
   ],
   "source": [
    "s.islower()"
   ]
  },
  {
   "cell_type": "code",
   "execution_count": 32,
   "id": "da0e88fe",
   "metadata": {},
   "outputs": [
    {
     "data": {
      "text/plain": [
       "'hello'"
      ]
     },
     "execution_count": 32,
     "metadata": {},
     "output_type": "execute_result"
    }
   ],
   "source": [
    "s"
   ]
  },
  {
   "cell_type": "code",
   "execution_count": 33,
   "id": "5124e2ad",
   "metadata": {},
   "outputs": [
    {
     "data": {
      "text/plain": [
       "False"
      ]
     },
     "execution_count": 33,
     "metadata": {},
     "output_type": "execute_result"
    }
   ],
   "source": [
    "s.isspace()"
   ]
  },
  {
   "cell_type": "code",
   "execution_count": 34,
   "id": "70159f29",
   "metadata": {},
   "outputs": [
    {
     "data": {
      "text/plain": [
       "False"
      ]
     },
     "execution_count": 34,
     "metadata": {},
     "output_type": "execute_result"
    }
   ],
   "source": [
    "s.istitle()"
   ]
  },
  {
   "cell_type": "code",
   "execution_count": 35,
   "id": "e0ec3f76",
   "metadata": {},
   "outputs": [
    {
     "data": {
      "text/plain": [
       "False"
      ]
     },
     "execution_count": 35,
     "metadata": {},
     "output_type": "execute_result"
    }
   ],
   "source": [
    "s.isupper()"
   ]
  },
  {
   "cell_type": "code",
   "execution_count": 36,
   "id": "caeca2b0",
   "metadata": {},
   "outputs": [
    {
     "data": {
      "text/plain": [
       "True"
      ]
     },
     "execution_count": 36,
     "metadata": {},
     "output_type": "execute_result"
    }
   ],
   "source": [
    "'HELLO'.isupper()"
   ]
  },
  {
   "cell_type": "code",
   "execution_count": 37,
   "id": "52de9c61",
   "metadata": {},
   "outputs": [
    {
     "data": {
      "text/plain": [
       "'hello'"
      ]
     },
     "execution_count": 37,
     "metadata": {},
     "output_type": "execute_result"
    }
   ],
   "source": [
    "s"
   ]
  },
  {
   "cell_type": "code",
   "execution_count": 38,
   "id": "c4ba4430",
   "metadata": {},
   "outputs": [
    {
     "data": {
      "text/plain": [
       "True"
      ]
     },
     "execution_count": 38,
     "metadata": {},
     "output_type": "execute_result"
    }
   ],
   "source": [
    "s.endswith('o')"
   ]
  },
  {
   "cell_type": "code",
   "execution_count": 39,
   "id": "c86fed7d",
   "metadata": {},
   "outputs": [
    {
     "data": {
      "text/plain": [
       "True"
      ]
     },
     "execution_count": 39,
     "metadata": {},
     "output_type": "execute_result"
    }
   ],
   "source": [
    "s[-1] == 'o'"
   ]
  },
  {
   "cell_type": "markdown",
   "id": "d723464e",
   "metadata": {},
   "source": [
    "# Build in regular expression operation"
   ]
  },
  {
   "cell_type": "markdown",
   "id": "1e3f753b",
   "metadata": {},
   "source": [
    "# commonly use split"
   ]
  },
  {
   "cell_type": "code",
   "execution_count": 40,
   "id": "12ca47fa",
   "metadata": {},
   "outputs": [
    {
     "data": {
      "text/plain": [
       "'hello'"
      ]
     },
     "execution_count": 40,
     "metadata": {},
     "output_type": "execute_result"
    }
   ],
   "source": [
    "s"
   ]
  },
  {
   "cell_type": "code",
   "execution_count": 41,
   "id": "d0f2ab39",
   "metadata": {},
   "outputs": [
    {
     "data": {
      "text/plain": [
       "['h', 'llo']"
      ]
     },
     "execution_count": 41,
     "metadata": {},
     "output_type": "execute_result"
    }
   ],
   "source": [
    "s.split('e')"
   ]
  },
  {
   "cell_type": "code",
   "execution_count": 42,
   "id": "01914de6",
   "metadata": {},
   "outputs": [],
   "source": [
    "s = 'hihihihihhi'"
   ]
  },
  {
   "cell_type": "code",
   "execution_count": 43,
   "id": "6767dbe7",
   "metadata": {},
   "outputs": [
    {
     "data": {
      "text/plain": [
       "['h', 'h', 'h', 'h', 'hh', '']"
      ]
     },
     "execution_count": 43,
     "metadata": {},
     "output_type": "execute_result"
    }
   ],
   "source": [
    "s.split('i')"
   ]
  },
  {
   "cell_type": "markdown",
   "id": "b98539fc",
   "metadata": {},
   "source": [
    "# particion i spretty similar to split"
   ]
  },
  {
   "cell_type": "markdown",
   "id": "537718c6",
   "metadata": {},
   "source": [
    "Below is the seperator in the middle"
   ]
  },
  {
   "cell_type": "code",
   "execution_count": 44,
   "id": "c2c5685c",
   "metadata": {},
   "outputs": [
    {
     "data": {
      "text/plain": [
       "('h', 'i', 'hihihihhi')"
      ]
     },
     "execution_count": 44,
     "metadata": {},
     "output_type": "execute_result"
    }
   ],
   "source": [
    "s.partition('i')"
   ]
  },
  {
   "cell_type": "code",
   "execution_count": 45,
   "id": "74d2fb33",
   "metadata": {},
   "outputs": [
    {
     "data": {
      "text/plain": [
       "'hihihihihhi'"
      ]
     },
     "execution_count": 45,
     "metadata": {},
     "output_type": "execute_result"
    }
   ],
   "source": [
    "s"
   ]
  },
  {
   "cell_type": "markdown",
   "id": "db9b5ec1",
   "metadata": {},
   "source": [
    "# Advanced Sets"
   ]
  },
  {
   "cell_type": "markdown",
   "id": "eb9e2363",
   "metadata": {},
   "source": [
    "Basic set"
   ]
  },
  {
   "cell_type": "code",
   "execution_count": 46,
   "id": "f12d32cd",
   "metadata": {},
   "outputs": [],
   "source": [
    "s = set()"
   ]
  },
  {
   "cell_type": "markdown",
   "id": "b89ee5e7",
   "metadata": {},
   "source": [
    "Add method\n"
   ]
  },
  {
   "cell_type": "code",
   "execution_count": 47,
   "id": "9202ceb4",
   "metadata": {},
   "outputs": [],
   "source": [
    "s.add(1)"
   ]
  },
  {
   "cell_type": "code",
   "execution_count": 48,
   "id": "4d37c724",
   "metadata": {},
   "outputs": [],
   "source": [
    "s.add(2)"
   ]
  },
  {
   "cell_type": "code",
   "execution_count": 49,
   "id": "b4bc7064",
   "metadata": {},
   "outputs": [
    {
     "data": {
      "text/plain": [
       "{1, 2}"
      ]
     },
     "execution_count": 49,
     "metadata": {},
     "output_type": "execute_result"
    }
   ],
   "source": [
    "s"
   ]
  },
  {
   "cell_type": "markdown",
   "id": "8535e5c5",
   "metadata": {},
   "source": [
    "# set donot take any duplicate items - only takes 1"
   ]
  },
  {
   "cell_type": "code",
   "execution_count": 50,
   "id": "e2c7567a",
   "metadata": {},
   "outputs": [],
   "source": [
    "s.add(2)"
   ]
  },
  {
   "cell_type": "code",
   "execution_count": 51,
   "id": "587c244a",
   "metadata": {},
   "outputs": [
    {
     "data": {
      "text/plain": [
       "{1, 2}"
      ]
     },
     "execution_count": 51,
     "metadata": {},
     "output_type": "execute_result"
    }
   ],
   "source": [
    "s"
   ]
  },
  {
   "cell_type": "code",
   "execution_count": 52,
   "id": "ad40c86e",
   "metadata": {},
   "outputs": [],
   "source": [
    "s.clear()"
   ]
  },
  {
   "cell_type": "code",
   "execution_count": 53,
   "id": "92512c55",
   "metadata": {},
   "outputs": [
    {
     "data": {
      "text/plain": [
       "set()"
      ]
     },
     "execution_count": 53,
     "metadata": {},
     "output_type": "execute_result"
    }
   ],
   "source": [
    "s"
   ]
  },
  {
   "cell_type": "markdown",
   "id": "ea14b7fa",
   "metadata": {},
   "source": [
    "Copy of a set"
   ]
  },
  {
   "cell_type": "code",
   "execution_count": 54,
   "id": "c07576db",
   "metadata": {},
   "outputs": [],
   "source": [
    "s = {1,2,3}"
   ]
  },
  {
   "cell_type": "code",
   "execution_count": 55,
   "id": "f928c744",
   "metadata": {},
   "outputs": [],
   "source": [
    "sc = s.copy()"
   ]
  },
  {
   "cell_type": "code",
   "execution_count": 56,
   "id": "f46870a9",
   "metadata": {},
   "outputs": [
    {
     "data": {
      "text/plain": [
       "{1, 2, 3}"
      ]
     },
     "execution_count": 56,
     "metadata": {},
     "output_type": "execute_result"
    }
   ],
   "source": [
    "sc"
   ]
  },
  {
   "cell_type": "code",
   "execution_count": 60,
   "id": "2f23c4a9",
   "metadata": {},
   "outputs": [],
   "source": [
    "s.add(4)"
   ]
  },
  {
   "cell_type": "markdown",
   "id": "f962bf2f",
   "metadata": {},
   "source": [
    "original set"
   ]
  },
  {
   "cell_type": "code",
   "execution_count": 61,
   "id": "6e99350c",
   "metadata": {},
   "outputs": [
    {
     "data": {
      "text/plain": [
       "{1, 2, 3, 4}"
      ]
     },
     "execution_count": 61,
     "metadata": {},
     "output_type": "execute_result"
    }
   ],
   "source": [
    "s"
   ]
  },
  {
   "cell_type": "markdown",
   "id": "80c26df6",
   "metadata": {},
   "source": [
    "Copy of a set"
   ]
  },
  {
   "cell_type": "code",
   "execution_count": 62,
   "id": "604f25ce",
   "metadata": {},
   "outputs": [
    {
     "data": {
      "text/plain": [
       "{1, 2, 3}"
      ]
     },
     "execution_count": 62,
     "metadata": {},
     "output_type": "execute_result"
    }
   ],
   "source": [
    "sc"
   ]
  },
  {
   "cell_type": "markdown",
   "id": "376ebffa",
   "metadata": {},
   "source": [
    "# couple of more methods - Difference method"
   ]
  },
  {
   "cell_type": "code",
   "execution_count": 63,
   "id": "dd669bbf",
   "metadata": {},
   "outputs": [
    {
     "data": {
      "text/plain": [
       "{4}"
      ]
     },
     "execution_count": 63,
     "metadata": {},
     "output_type": "execute_result"
    }
   ],
   "source": [
    "s.difference(sc)"
   ]
  },
  {
   "cell_type": "markdown",
   "id": "cfc0f00b",
   "metadata": {},
   "source": [
    "Related update- element 1 to element 2"
   ]
  },
  {
   "cell_type": "code",
   "execution_count": 64,
   "id": "fcefbbc0",
   "metadata": {},
   "outputs": [],
   "source": [
    "s1 = {1,2,3}"
   ]
  },
  {
   "cell_type": "markdown",
   "id": "bf39e1d5",
   "metadata": {},
   "source": [
    "Above and Below 1 is common element"
   ]
  },
  {
   "cell_type": "code",
   "execution_count": 65,
   "id": "ce5104b2",
   "metadata": {},
   "outputs": [],
   "source": [
    "s2 = {1,4,5}"
   ]
  },
  {
   "cell_type": "code",
   "execution_count": 66,
   "id": "ef6aa1f7",
   "metadata": {},
   "outputs": [],
   "source": [
    "s1.difference_update(s2)"
   ]
  },
  {
   "cell_type": "markdown",
   "id": "c0600a43",
   "metadata": {},
   "source": [
    "1 was picked up"
   ]
  },
  {
   "cell_type": "code",
   "execution_count": 67,
   "id": "28a099dd",
   "metadata": {},
   "outputs": [
    {
     "data": {
      "text/plain": [
       "{2, 3}"
      ]
     },
     "execution_count": 67,
     "metadata": {},
     "output_type": "execute_result"
    }
   ],
   "source": [
    "s1"
   ]
  },
  {
   "cell_type": "markdown",
   "id": "3c85dd62",
   "metadata": {},
   "source": [
    "# Discard method"
   ]
  },
  {
   "cell_type": "code",
   "execution_count": 68,
   "id": "7a814228",
   "metadata": {},
   "outputs": [
    {
     "data": {
      "text/plain": [
       "{1, 2, 3, 4}"
      ]
     },
     "execution_count": 68,
     "metadata": {},
     "output_type": "execute_result"
    }
   ],
   "source": [
    "s"
   ]
  },
  {
   "cell_type": "code",
   "execution_count": 69,
   "id": "47b10e1b",
   "metadata": {},
   "outputs": [],
   "source": [
    "s.discard(2)"
   ]
  },
  {
   "cell_type": "code",
   "execution_count": 70,
   "id": "9bffc19c",
   "metadata": {},
   "outputs": [
    {
     "data": {
      "text/plain": [
       "{1, 3, 4}"
      ]
     },
     "execution_count": 70,
     "metadata": {},
     "output_type": "execute_result"
    }
   ],
   "source": [
    "s"
   ]
  },
  {
   "cell_type": "code",
   "execution_count": 71,
   "id": "b3535108",
   "metadata": {},
   "outputs": [],
   "source": [
    "s.discard(12)"
   ]
  },
  {
   "cell_type": "code",
   "execution_count": 72,
   "id": "ce8415ed",
   "metadata": {},
   "outputs": [
    {
     "data": {
      "text/plain": [
       "{1, 3, 4}"
      ]
     },
     "execution_count": 72,
     "metadata": {},
     "output_type": "execute_result"
    }
   ],
   "source": [
    "s"
   ]
  },
  {
   "cell_type": "markdown",
   "id": "de2d9169",
   "metadata": {},
   "source": [
    "# intersection is the element common to all set"
   ]
  },
  {
   "cell_type": "code",
   "execution_count": 73,
   "id": "d93b2b6f",
   "metadata": {},
   "outputs": [],
   "source": [
    "s1 = {1,2,3}"
   ]
  },
  {
   "cell_type": "code",
   "execution_count": 74,
   "id": "c4d6db6a",
   "metadata": {},
   "outputs": [],
   "source": [
    "s2 = {1,2,4}"
   ]
  },
  {
   "cell_type": "code",
   "execution_count": 75,
   "id": "ee1b9f59",
   "metadata": {},
   "outputs": [
    {
     "data": {
      "text/plain": [
       "{1, 2}"
      ]
     },
     "execution_count": 75,
     "metadata": {},
     "output_type": "execute_result"
    }
   ],
   "source": [
    "s1.intersection(s2)"
   ]
  },
  {
   "cell_type": "markdown",
   "id": "61a280ff",
   "metadata": {},
   "source": [
    "# intersection update will intersect and update in cell"
   ]
  },
  {
   "cell_type": "code",
   "execution_count": 79,
   "id": "a1ba4458",
   "metadata": {},
   "outputs": [
    {
     "data": {
      "text/plain": [
       "{1, 2}"
      ]
     },
     "execution_count": 79,
     "metadata": {},
     "output_type": "execute_result"
    }
   ],
   "source": [
    "s1"
   ]
  },
  {
   "cell_type": "code",
   "execution_count": 80,
   "id": "f541b3d0",
   "metadata": {},
   "outputs": [],
   "source": [
    "s1.intersection_update(s2)"
   ]
  },
  {
   "cell_type": "code",
   "execution_count": 81,
   "id": "3466823b",
   "metadata": {},
   "outputs": [
    {
     "data": {
      "text/plain": [
       "{1, 2}"
      ]
     },
     "execution_count": 81,
     "metadata": {},
     "output_type": "execute_result"
    }
   ],
   "source": [
    "s1"
   ]
  },
  {
   "cell_type": "markdown",
   "id": "76d97434",
   "metadata": {},
   "source": [
    "Chk the method is this Joint"
   ]
  },
  {
   "cell_type": "code",
   "execution_count": 82,
   "id": "02fde53d",
   "metadata": {},
   "outputs": [],
   "source": [
    "s1 = {1,2}\n",
    "s2 = {1,2,4}\n",
    "s3 = {5}"
   ]
  },
  {
   "cell_type": "code",
   "execution_count": 83,
   "id": "5c95b00d",
   "metadata": {},
   "outputs": [
    {
     "data": {
      "text/plain": [
       "False"
      ]
     },
     "execution_count": 83,
     "metadata": {},
     "output_type": "execute_result"
    }
   ],
   "source": [
    "s1.isdisjoint(s2)"
   ]
  },
  {
   "cell_type": "code",
   "execution_count": 84,
   "id": "352889a7",
   "metadata": {},
   "outputs": [
    {
     "data": {
      "text/plain": [
       "True"
      ]
     },
     "execution_count": 84,
     "metadata": {},
     "output_type": "execute_result"
    }
   ],
   "source": [
    "s1.isdisjoint(s3)"
   ]
  },
  {
   "cell_type": "markdown",
   "id": "d733f00d",
   "metadata": {},
   "source": [
    " # subset - whether or not contains a set"
   ]
  },
  {
   "cell_type": "code",
   "execution_count": 85,
   "id": "3cfa0045",
   "metadata": {},
   "outputs": [
    {
     "data": {
      "text/plain": [
       "{1, 2}"
      ]
     },
     "execution_count": 85,
     "metadata": {},
     "output_type": "execute_result"
    }
   ],
   "source": [
    "s1"
   ]
  },
  {
   "cell_type": "code",
   "execution_count": 86,
   "id": "ebe2654c",
   "metadata": {},
   "outputs": [
    {
     "data": {
      "text/plain": [
       "{1, 2, 4}"
      ]
     },
     "execution_count": 86,
     "metadata": {},
     "output_type": "execute_result"
    }
   ],
   "source": [
    "s2"
   ]
  },
  {
   "cell_type": "code",
   "execution_count": 87,
   "id": "89084d9e",
   "metadata": {},
   "outputs": [
    {
     "data": {
      "text/plain": [
       "True"
      ]
     },
     "execution_count": 87,
     "metadata": {},
     "output_type": "execute_result"
    }
   ],
   "source": [
    "s1.issubset(s2)"
   ]
  },
  {
   "cell_type": "markdown",
   "id": "816b4859",
   "metadata": {},
   "source": [
    "# Superset Whether contains another set"
   ]
  },
  {
   "cell_type": "markdown",
   "id": "3c71e55b",
   "metadata": {},
   "source": [
    "Reversing the method"
   ]
  },
  {
   "cell_type": "code",
   "execution_count": 88,
   "id": "f2d77583",
   "metadata": {},
   "outputs": [
    {
     "data": {
      "text/plain": [
       "True"
      ]
     },
     "execution_count": 88,
     "metadata": {},
     "output_type": "execute_result"
    }
   ],
   "source": [
    "s2.issuperset(s2)"
   ]
  },
  {
   "cell_type": "code",
   "execution_count": 89,
   "id": "98da943c",
   "metadata": {},
   "outputs": [
    {
     "data": {
      "text/plain": [
       "False"
      ]
     },
     "execution_count": 89,
     "metadata": {},
     "output_type": "execute_result"
    }
   ],
   "source": [
    "s1.issuperset(s2)"
   ]
  },
  {
   "cell_type": "code",
   "execution_count": 90,
   "id": "1e7adf71",
   "metadata": {},
   "outputs": [
    {
     "data": {
      "text/plain": [
       "True"
      ]
     },
     "execution_count": 90,
     "metadata": {},
     "output_type": "execute_result"
    }
   ],
   "source": [
    "s2.issuperset(s1)"
   ]
  },
  {
   "cell_type": "markdown",
   "id": "dac6ad9e",
   "metadata": {},
   "source": [
    "# method called Symetric difference"
   ]
  },
  {
   "cell_type": "markdown",
   "id": "d693cd45",
   "metadata": {},
   "source": [
    "Symetric diff of 2 set"
   ]
  },
  {
   "cell_type": "code",
   "execution_count": 91,
   "id": "9eb2457d",
   "metadata": {},
   "outputs": [
    {
     "data": {
      "text/plain": [
       "{1, 2}"
      ]
     },
     "execution_count": 91,
     "metadata": {},
     "output_type": "execute_result"
    }
   ],
   "source": [
    "s1"
   ]
  },
  {
   "cell_type": "code",
   "execution_count": 92,
   "id": "ca17bae2",
   "metadata": {},
   "outputs": [
    {
     "data": {
      "text/plain": [
       "{1, 2, 4}"
      ]
     },
     "execution_count": 92,
     "metadata": {},
     "output_type": "execute_result"
    }
   ],
   "source": [
    "s2"
   ]
  },
  {
   "cell_type": "code",
   "execution_count": 94,
   "id": "71f7c2f2",
   "metadata": {},
   "outputs": [
    {
     "data": {
      "text/plain": [
       "{4}"
      ]
     },
     "execution_count": 94,
     "metadata": {},
     "output_type": "execute_result"
    }
   ],
   "source": [
    "s1.symmetric_difference(s2)"
   ]
  },
  {
   "cell_type": "markdown",
   "id": "c88794c9",
   "metadata": {},
   "source": [
    "# Union method"
   ]
  },
  {
   "cell_type": "code",
   "execution_count": 95,
   "id": "27837f59",
   "metadata": {},
   "outputs": [
    {
     "data": {
      "text/plain": [
       "{1, 2, 4}"
      ]
     },
     "execution_count": 95,
     "metadata": {},
     "output_type": "execute_result"
    }
   ],
   "source": [
    "s1.union(s2)"
   ]
  },
  {
   "cell_type": "markdown",
   "id": "666ec850",
   "metadata": {},
   "source": [
    "# update method with a Union method"
   ]
  },
  {
   "cell_type": "code",
   "execution_count": 96,
   "id": "4de54c31",
   "metadata": {},
   "outputs": [],
   "source": [
    "s1.update(s2)"
   ]
  },
  {
   "cell_type": "code",
   "execution_count": 97,
   "id": "06301f63",
   "metadata": {},
   "outputs": [
    {
     "data": {
      "text/plain": [
       "{1, 2, 4}"
      ]
     },
     "execution_count": 97,
     "metadata": {},
     "output_type": "execute_result"
    }
   ],
   "source": [
    "s1"
   ]
  },
  {
   "cell_type": "markdown",
   "id": "7f6af3b5",
   "metadata": {},
   "source": [
    "# Advanced Dictionaries"
   ]
  },
  {
   "cell_type": "code",
   "execution_count": 98,
   "id": "4a73bfda",
   "metadata": {},
   "outputs": [],
   "source": [
    "d = {'k1':1, 'k2':2}"
   ]
  },
  {
   "cell_type": "markdown",
   "id": "ebb84fb7",
   "metadata": {},
   "source": [
    "Dict consists of list comprehensions"
   ]
  },
  {
   "cell_type": "markdown",
   "id": "1ba5d19c",
   "metadata": {},
   "source": [
    "Learn a syntax for it"
   ]
  },
  {
   "cell_type": "code",
   "execution_count": 99,
   "id": "ca8a4999",
   "metadata": {},
   "outputs": [
    {
     "data": {
      "text/plain": [
       "{0: 0, 1: 1, 2: 4, 3: 9, 4: 16, 5: 25, 6: 36, 7: 49, 8: 64, 9: 81}"
      ]
     },
     "execution_count": 99,
     "metadata": {},
     "output_type": "execute_result"
    }
   ],
   "source": [
    "{x:x**2 for x in range(10)}"
   ]
  },
  {
   "cell_type": "markdown",
   "id": "ba14c86a",
   "metadata": {},
   "source": [
    "Assign keys not based on values"
   ]
  },
  {
   "cell_type": "code",
   "execution_count": 100,
   "id": "f62c772a",
   "metadata": {},
   "outputs": [
    {
     "data": {
      "text/plain": [
       "{'a': 0, 'b': 1}"
      ]
     },
     "execution_count": 100,
     "metadata": {},
     "output_type": "execute_result"
    }
   ],
   "source": [
    "{k:v**2 for k,v in zip(['a','b'],range(2))}"
   ]
  },
  {
   "cell_type": "markdown",
   "id": "1b7031ef",
   "metadata": {},
   "source": [
    "# iteration of keys, values and items"
   ]
  },
  {
   "cell_type": "code",
   "execution_count": 104,
   "id": "3ec94378",
   "metadata": {},
   "outputs": [
    {
     "ename": "SyntaxError",
     "evalue": "Missing parentheses in call to 'print'. Did you mean print(k)? (1474447069.py, line 2)",
     "output_type": "error",
     "traceback": [
      "\u001b[1;36m  Input \u001b[1;32mIn [104]\u001b[1;36m\u001b[0m\n\u001b[1;33m    print k\u001b[0m\n\u001b[1;37m          ^\u001b[0m\n\u001b[1;31mSyntaxError\u001b[0m\u001b[1;31m:\u001b[0m Missing parentheses in call to 'print'. Did you mean print(k)?\n"
     ]
    }
   ],
   "source": [
    "for k in d.iterkeys():\n",
    "    print k"
   ]
  },
  {
   "cell_type": "code",
   "execution_count": 119,
   "id": "f87dccb4",
   "metadata": {},
   "outputs": [
    {
     "ename": "SyntaxError",
     "evalue": "Missing parentheses in call to 'print'. Did you mean print(k)? (1474447069.py, line 2)",
     "output_type": "error",
     "traceback": [
      "\u001b[1;36m  Input \u001b[1;32mIn [119]\u001b[1;36m\u001b[0m\n\u001b[1;33m    print k\u001b[0m\n\u001b[1;37m          ^\u001b[0m\n\u001b[1;31mSyntaxError\u001b[0m\u001b[1;31m:\u001b[0m Missing parentheses in call to 'print'. Did you mean print(k)?\n"
     ]
    }
   ],
   "source": [
    "for k in d.iterkeys():\n",
    "    print k"
   ]
  },
  {
   "cell_type": "markdown",
   "id": "0be4cfac",
   "metadata": {},
   "source": [
    "View methodhs for item, keys and value"
   ]
  },
  {
   "cell_type": "code",
   "execution_count": 108,
   "id": "49c0ff2e",
   "metadata": {},
   "outputs": [
    {
     "ename": "AttributeError",
     "evalue": "'dict' object has no attribute 'viewkeys'",
     "output_type": "error",
     "traceback": [
      "\u001b[1;31m---------------------------------------------------------------------------\u001b[0m",
      "\u001b[1;31mAttributeError\u001b[0m                            Traceback (most recent call last)",
      "Input \u001b[1;32mIn [108]\u001b[0m, in \u001b[0;36m<cell line: 1>\u001b[1;34m()\u001b[0m\n\u001b[1;32m----> 1\u001b[0m \u001b[43md\u001b[49m\u001b[38;5;241;43m.\u001b[39;49m\u001b[43mviewkeys\u001b[49m()\n",
      "\u001b[1;31mAttributeError\u001b[0m: 'dict' object has no attribute 'viewkeys'"
     ]
    }
   ],
   "source": [
    "d.viewkeys()"
   ]
  },
  {
   "cell_type": "code",
   "execution_count": 109,
   "id": "f0dca742",
   "metadata": {},
   "outputs": [
    {
     "ename": "AttributeError",
     "evalue": "'dict' object has no attribute 'viewvalues'",
     "output_type": "error",
     "traceback": [
      "\u001b[1;31m---------------------------------------------------------------------------\u001b[0m",
      "\u001b[1;31mAttributeError\u001b[0m                            Traceback (most recent call last)",
      "Input \u001b[1;32mIn [109]\u001b[0m, in \u001b[0;36m<cell line: 1>\u001b[1;34m()\u001b[0m\n\u001b[1;32m----> 1\u001b[0m \u001b[43md\u001b[49m\u001b[38;5;241;43m.\u001b[39;49m\u001b[43mviewvalues\u001b[49m()\n",
      "\u001b[1;31mAttributeError\u001b[0m: 'dict' object has no attribute 'viewvalues'"
     ]
    }
   ],
   "source": [
    "d.viewvalues()"
   ]
  },
  {
   "cell_type": "markdown",
   "id": "1ab9de5f",
   "metadata": {},
   "source": [
    "# advanced Lists"
   ]
  },
  {
   "cell_type": "markdown",
   "id": "505c8a6f",
   "metadata": {},
   "source": [
    "Lists = l"
   ]
  },
  {
   "cell_type": "code",
   "execution_count": 110,
   "id": "078f76e2",
   "metadata": {},
   "outputs": [],
   "source": [
    "l = [1,2,3]"
   ]
  },
  {
   "cell_type": "code",
   "execution_count": 111,
   "id": "ec1e12fc",
   "metadata": {},
   "outputs": [],
   "source": [
    "l.append(4)"
   ]
  },
  {
   "cell_type": "code",
   "execution_count": 112,
   "id": "098c3b67",
   "metadata": {},
   "outputs": [
    {
     "data": {
      "text/plain": [
       "[1, 2, 3, 4]"
      ]
     },
     "execution_count": 112,
     "metadata": {},
     "output_type": "execute_result"
    }
   ],
   "source": [
    "l"
   ]
  },
  {
   "cell_type": "code",
   "execution_count": 113,
   "id": "e0f7e24f",
   "metadata": {},
   "outputs": [
    {
     "data": {
      "text/plain": [
       "0"
      ]
     },
     "execution_count": 113,
     "metadata": {},
     "output_type": "execute_result"
    }
   ],
   "source": [
    "l.count(10)"
   ]
  },
  {
   "cell_type": "code",
   "execution_count": 114,
   "id": "b07b3a55",
   "metadata": {},
   "outputs": [
    {
     "data": {
      "text/plain": [
       "1"
      ]
     },
     "execution_count": 114,
     "metadata": {},
     "output_type": "execute_result"
    }
   ],
   "source": [
    "l.count(1)"
   ]
  },
  {
   "cell_type": "markdown",
   "id": "d77e6264",
   "metadata": {},
   "source": [
    "Extend"
   ]
  },
  {
   "cell_type": "code",
   "execution_count": 116,
   "id": "54651e68",
   "metadata": {},
   "outputs": [
    {
     "name": "stdout",
     "output_type": "stream",
     "text": [
      "[1, 2, 3, [4, 5]]\n"
     ]
    }
   ],
   "source": [
    "x = [1,2,3]\n",
    "x.append([4,5])\n",
    "print (x)"
   ]
  },
  {
   "cell_type": "markdown",
   "id": "a0283705",
   "metadata": {},
   "source": [
    "Below what happens if you wanna extend your org list"
   ]
  },
  {
   "cell_type": "code",
   "execution_count": 121,
   "id": "7e3392f4",
   "metadata": {},
   "outputs": [
    {
     "name": "stdout",
     "output_type": "stream",
     "text": [
      "[1, 2, 3, 4, 5]\n"
     ]
    }
   ],
   "source": [
    "x = [1,2,3]\n",
    "x.extend([4,5])\n",
    "print (x)"
   ]
  },
  {
   "cell_type": "code",
   "execution_count": 122,
   "id": "db4f1b04",
   "metadata": {},
   "outputs": [
    {
     "data": {
      "text/plain": [
       "[1, 2, 3, 4]"
      ]
     },
     "execution_count": 122,
     "metadata": {},
     "output_type": "execute_result"
    }
   ],
   "source": [
    "l"
   ]
  },
  {
   "cell_type": "code",
   "execution_count": 123,
   "id": "085e2bb3",
   "metadata": {},
   "outputs": [
    {
     "data": {
      "text/plain": [
       "1"
      ]
     },
     "execution_count": 123,
     "metadata": {},
     "output_type": "execute_result"
    }
   ],
   "source": [
    "l.index(2)"
   ]
  },
  {
   "cell_type": "code",
   "execution_count": 124,
   "id": "2e90038a",
   "metadata": {},
   "outputs": [
    {
     "ename": "ValueError",
     "evalue": "10 is not in list",
     "output_type": "error",
     "traceback": [
      "\u001b[1;31m---------------------------------------------------------------------------\u001b[0m",
      "\u001b[1;31mValueError\u001b[0m                                Traceback (most recent call last)",
      "Input \u001b[1;32mIn [124]\u001b[0m, in \u001b[0;36m<cell line: 1>\u001b[1;34m()\u001b[0m\n\u001b[1;32m----> 1\u001b[0m \u001b[43ml\u001b[49m\u001b[38;5;241;43m.\u001b[39;49m\u001b[43mindex\u001b[49m\u001b[43m(\u001b[49m\u001b[38;5;241;43m10\u001b[39;49m\u001b[43m)\u001b[49m\n",
      "\u001b[1;31mValueError\u001b[0m: 10 is not in list"
     ]
    }
   ],
   "source": [
    "l.index(10)"
   ]
  },
  {
   "cell_type": "code",
   "execution_count": 125,
   "id": "57c6ef88",
   "metadata": {},
   "outputs": [
    {
     "data": {
      "text/plain": [
       "[1, 2, 3, 4]"
      ]
     },
     "execution_count": 125,
     "metadata": {},
     "output_type": "execute_result"
    }
   ],
   "source": [
    "l"
   ]
  },
  {
   "cell_type": "code",
   "execution_count": 126,
   "id": "3c735f49",
   "metadata": {},
   "outputs": [],
   "source": [
    "l.insert(2,'insert')"
   ]
  },
  {
   "cell_type": "code",
   "execution_count": 127,
   "id": "40e6c102",
   "metadata": {},
   "outputs": [
    {
     "data": {
      "text/plain": [
       "[1, 2, 'insert', 3, 4]"
      ]
     },
     "execution_count": 127,
     "metadata": {},
     "output_type": "execute_result"
    }
   ],
   "source": [
    "l"
   ]
  },
  {
   "cell_type": "markdown",
   "id": "6f170a68",
   "metadata": {},
   "source": [
    "Pop - pop off the last element of the list"
   ]
  },
  {
   "cell_type": "code",
   "execution_count": 128,
   "id": "5b7f6b30",
   "metadata": {},
   "outputs": [
    {
     "data": {
      "text/plain": [
       "[1, 2, 'insert', 3, 4]"
      ]
     },
     "execution_count": 128,
     "metadata": {},
     "output_type": "execute_result"
    }
   ],
   "source": [
    "l"
   ]
  },
  {
   "cell_type": "code",
   "execution_count": 129,
   "id": "7cbbaa6d",
   "metadata": {},
   "outputs": [],
   "source": [
    "ele =l.pop()"
   ]
  },
  {
   "cell_type": "code",
   "execution_count": 132,
   "id": "8ca0999d",
   "metadata": {},
   "outputs": [
    {
     "data": {
      "text/plain": [
       "4"
      ]
     },
     "execution_count": 132,
     "metadata": {},
     "output_type": "execute_result"
    }
   ],
   "source": [
    "ele"
   ]
  },
  {
   "cell_type": "markdown",
   "id": "902707ef",
   "metadata": {},
   "source": [
    "Below change is permanent"
   ]
  },
  {
   "cell_type": "code",
   "execution_count": 133,
   "id": "c689464d",
   "metadata": {},
   "outputs": [
    {
     "data": {
      "text/plain": [
       "[1, 2, 'insert', 3]"
      ]
     },
     "execution_count": 133,
     "metadata": {},
     "output_type": "execute_result"
    }
   ],
   "source": [
    "l"
   ]
  },
  {
   "cell_type": "markdown",
   "id": "6d028e3b",
   "metadata": {},
   "source": [
    "U can pass in index to pop"
   ]
  },
  {
   "cell_type": "code",
   "execution_count": 134,
   "id": "e25f5c75",
   "metadata": {},
   "outputs": [
    {
     "data": {
      "text/plain": [
       "1"
      ]
     },
     "execution_count": 134,
     "metadata": {},
     "output_type": "execute_result"
    }
   ],
   "source": [
    "l.pop(0)"
   ]
  },
  {
   "cell_type": "code",
   "execution_count": 138,
   "id": "3f1b2c61",
   "metadata": {},
   "outputs": [
    {
     "data": {
      "text/plain": [
       "[2, 'insert', 3]"
      ]
     },
     "execution_count": 138,
     "metadata": {},
     "output_type": "execute_result"
    }
   ],
   "source": [
    "l"
   ]
  },
  {
   "cell_type": "code",
   "execution_count": 139,
   "id": "a8b2d714",
   "metadata": {},
   "outputs": [
    {
     "ename": "ValueError",
     "evalue": "list.remove(x): x not in list",
     "output_type": "error",
     "traceback": [
      "\u001b[1;31m---------------------------------------------------------------------------\u001b[0m",
      "\u001b[1;31mValueError\u001b[0m                                Traceback (most recent call last)",
      "Input \u001b[1;32mIn [139]\u001b[0m, in \u001b[0;36m<cell line: 1>\u001b[1;34m()\u001b[0m\n\u001b[1;32m----> 1\u001b[0m \u001b[43ml\u001b[49m\u001b[38;5;241;43m.\u001b[39;49m\u001b[43mremove\u001b[49m\u001b[43m(\u001b[49m\u001b[38;5;124;43m'\u001b[39;49m\u001b[38;5;124;43minserted\u001b[39;49m\u001b[38;5;124;43m'\u001b[39;49m\u001b[43m)\u001b[49m\n",
      "\u001b[1;31mValueError\u001b[0m: list.remove(x): x not in list"
     ]
    }
   ],
   "source": [
    "l.remove('inserted')"
   ]
  },
  {
   "cell_type": "code",
   "execution_count": 140,
   "id": "aeefc647",
   "metadata": {},
   "outputs": [
    {
     "data": {
      "text/plain": [
       "[2, 'insert', 3]"
      ]
     },
     "execution_count": 140,
     "metadata": {},
     "output_type": "execute_result"
    }
   ],
   "source": [
    "l"
   ]
  },
  {
   "cell_type": "code",
   "execution_count": 141,
   "id": "a9dbd6ba",
   "metadata": {},
   "outputs": [],
   "source": [
    "l =[1,2,3,4,3]"
   ]
  },
  {
   "cell_type": "code",
   "execution_count": 142,
   "id": "2e84b212",
   "metadata": {},
   "outputs": [],
   "source": [
    "l.remove(3)"
   ]
  },
  {
   "cell_type": "markdown",
   "id": "d98ad8ee",
   "metadata": {},
   "source": [
    "its not going to remove the first instance of it"
   ]
  },
  {
   "cell_type": "code",
   "execution_count": 143,
   "id": "b6eb937a",
   "metadata": {},
   "outputs": [
    {
     "data": {
      "text/plain": [
       "[1, 2, 4, 3]"
      ]
     },
     "execution_count": 143,
     "metadata": {},
     "output_type": "execute_result"
    }
   ],
   "source": [
    "l"
   ]
  },
  {
   "cell_type": "code",
   "execution_count": 144,
   "id": "314bd516",
   "metadata": {},
   "outputs": [
    {
     "data": {
      "text/plain": [
       "[1, 2, 4, 3]"
      ]
     },
     "execution_count": 144,
     "metadata": {},
     "output_type": "execute_result"
    }
   ],
   "source": [
    "l"
   ]
  },
  {
   "cell_type": "code",
   "execution_count": 145,
   "id": "8fa78305",
   "metadata": {},
   "outputs": [],
   "source": [
    "l.reverse()"
   ]
  },
  {
   "cell_type": "code",
   "execution_count": 146,
   "id": "e3c61d3c",
   "metadata": {},
   "outputs": [
    {
     "data": {
      "text/plain": [
       "[3, 4, 2, 1]"
      ]
     },
     "execution_count": 146,
     "metadata": {},
     "output_type": "execute_result"
    }
   ],
   "source": [
    "l"
   ]
  },
  {
   "cell_type": "code",
   "execution_count": 147,
   "id": "f50b6c50",
   "metadata": {},
   "outputs": [],
   "source": [
    "l.sort()"
   ]
  },
  {
   "cell_type": "code",
   "execution_count": 148,
   "id": "8d5ad66e",
   "metadata": {},
   "outputs": [
    {
     "data": {
      "text/plain": [
       "[1, 2, 3, 4]"
      ]
     },
     "execution_count": 148,
     "metadata": {},
     "output_type": "execute_result"
    }
   ],
   "source": [
    "l"
   ]
  },
  {
   "cell_type": "markdown",
   "id": "5ad7fccd",
   "metadata": {},
   "source": [
    "# Advanced Python Objects Test\n",
    "Advanced Numbers\n",
    "Problem 1: Convert 1024 to binary and hexadecimal representation"
   ]
  },
  {
   "cell_type": "code",
   "execution_count": 149,
   "id": "2b74e28e",
   "metadata": {},
   "outputs": [
    {
     "name": "stdout",
     "output_type": "stream",
     "text": [
      "0b10000000000\n",
      "0x400\n"
     ]
    }
   ],
   "source": [
    "print(bin(1024))\n",
    "print(hex(1024))"
   ]
  },
  {
   "cell_type": "markdown",
   "id": "a5ddbc1e",
   "metadata": {},
   "source": [
    "Problem 2: Round 5.23222 to two decimal places"
   ]
  },
  {
   "cell_type": "code",
   "execution_count": 150,
   "id": "b3aad4b0",
   "metadata": {},
   "outputs": [
    {
     "data": {
      "text/plain": [
       "5.23"
      ]
     },
     "execution_count": 150,
     "metadata": {},
     "output_type": "execute_result"
    }
   ],
   "source": [
    "round(5.23222,2)"
   ]
  },
  {
   "cell_type": "markdown",
   "id": "cd8344f6",
   "metadata": {},
   "source": [
    "# Advanced Strings\n",
    "# Problem 3: Check if every letter in the string s is lower case"
   ]
  },
  {
   "cell_type": "code",
   "execution_count": 151,
   "id": "e3613a71",
   "metadata": {},
   "outputs": [
    {
     "data": {
      "text/plain": [
       "False"
      ]
     },
     "execution_count": 151,
     "metadata": {},
     "output_type": "execute_result"
    }
   ],
   "source": [
    "s = 'hello how are you Mary, are you feeling okay?'\n",
    "\n",
    "s.islower()"
   ]
  },
  {
   "cell_type": "markdown",
   "id": "3a9cce5b",
   "metadata": {},
   "source": [
    "Problem 4: How many times does the letter 'w' show up in the string below?"
   ]
  },
  {
   "cell_type": "code",
   "execution_count": 152,
   "id": "29d44f84",
   "metadata": {},
   "outputs": [
    {
     "data": {
      "text/plain": [
       "12"
      ]
     },
     "execution_count": 152,
     "metadata": {},
     "output_type": "execute_result"
    }
   ],
   "source": [
    "s = 'twywywtwywbwhsjhwuwshshwuwwwjdjdid'\n",
    "s.count('w')"
   ]
  },
  {
   "cell_type": "markdown",
   "id": "7ee5284c",
   "metadata": {},
   "source": [
    "# Advanced\n",
    "# Problem 5: Find the elements in set1 that are not in set2:"
   ]
  },
  {
   "cell_type": "code",
   "execution_count": 153,
   "id": "520370b3",
   "metadata": {},
   "outputs": [
    {
     "data": {
      "text/plain": [
       "{2}"
      ]
     },
     "execution_count": 153,
     "metadata": {},
     "output_type": "execute_result"
    }
   ],
   "source": [
    "set1 = {2,3,1,5,6,8}\n",
    "set2 = {3,1,7,5,6,8}\n",
    "\n",
    "set1.difference(set2)"
   ]
  },
  {
   "cell_type": "markdown",
   "id": "46c37b56",
   "metadata": {},
   "source": [
    "Problem 6: Find all elements that are in either set:"
   ]
  },
  {
   "cell_type": "code",
   "execution_count": 154,
   "id": "7f4e08e6",
   "metadata": {},
   "outputs": [
    {
     "data": {
      "text/plain": [
       "{1, 2, 3, 5, 6, 7, 8}"
      ]
     },
     "execution_count": 154,
     "metadata": {},
     "output_type": "execute_result"
    }
   ],
   "source": [
    "set1.union(set2)"
   ]
  },
  {
   "cell_type": "markdown",
   "id": "36d2a411",
   "metadata": {},
   "source": [
    "# Advanced Dictionaries\n",
    "# Problem 7: Create this dictionary: {0: 0, 1: 1, 2: 8, 3: 27, 4: 64} using a dictionary comprehension."
   ]
  },
  {
   "cell_type": "code",
   "execution_count": 155,
   "id": "4b6d7fd7",
   "metadata": {},
   "outputs": [
    {
     "data": {
      "text/plain": [
       "{0: 0, 1: 1, 2: 8, 3: 27, 4: 64}"
      ]
     },
     "execution_count": 155,
     "metadata": {},
     "output_type": "execute_result"
    }
   ],
   "source": [
    "{x:x**3 for x in range(5)}"
   ]
  },
  {
   "cell_type": "markdown",
   "id": "65142500",
   "metadata": {},
   "source": [
    "# Advanced Lists\n",
    "# Problem 8: Reverse the list below:"
   ]
  },
  {
   "cell_type": "code",
   "execution_count": 156,
   "id": "7ea6fa05",
   "metadata": {},
   "outputs": [
    {
     "data": {
      "text/plain": [
       "[4, 3, 2, 1]"
      ]
     },
     "execution_count": 156,
     "metadata": {},
     "output_type": "execute_result"
    }
   ],
   "source": [
    "list1 = [1,2,3,4]\n",
    "\n",
    "list1.reverse()\n",
    "\n",
    "list1"
   ]
  },
  {
   "cell_type": "markdown",
   "id": "d47a2d93",
   "metadata": {},
   "source": [
    "# Problem 9: Sort the list below:"
   ]
  },
  {
   "cell_type": "code",
   "execution_count": 157,
   "id": "f619084e",
   "metadata": {},
   "outputs": [
    {
     "data": {
      "text/plain": [
       "[1, 2, 3, 4, 5]"
      ]
     },
     "execution_count": 157,
     "metadata": {},
     "output_type": "execute_result"
    }
   ],
   "source": [
    "list2 = [3,4,2,5,1]\n",
    "\n",
    "list2.sort()\n",
    "\n",
    "list2"
   ]
  },
  {
   "cell_type": "code",
   "execution_count": null,
   "id": "c158298f",
   "metadata": {},
   "outputs": [],
   "source": []
  }
 ],
 "metadata": {
  "kernelspec": {
   "display_name": "Python 3 (ipykernel)",
   "language": "python",
   "name": "python3"
  },
  "language_info": {
   "codemirror_mode": {
    "name": "ipython",
    "version": 3
   },
   "file_extension": ".py",
   "mimetype": "text/x-python",
   "name": "python",
   "nbconvert_exporter": "python",
   "pygments_lexer": "ipython3",
   "version": "3.9.12"
  }
 },
 "nbformat": 4,
 "nbformat_minor": 5
}

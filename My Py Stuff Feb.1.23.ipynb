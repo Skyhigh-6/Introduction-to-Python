{
 "cells": [
  {
   "cell_type": "markdown",
   "id": "bb9ba225",
   "metadata": {},
   "source": [
    "Shutil and OS Model\n",
    "# Adv py module\n",
    "# Opening and Reading files Folder"
   ]
  },
  {
   "cell_type": "code",
   "execution_count": 1,
   "id": "1ac7f4ed",
   "metadata": {},
   "outputs": [
    {
     "data": {
      "text/plain": [
       "'C:\\\\Users\\\\deept'"
      ]
     },
     "execution_count": 1,
     "metadata": {},
     "output_type": "execute_result"
    }
   ],
   "source": [
    "pwd"
   ]
  },
  {
   "cell_type": "code",
   "execution_count": 2,
   "id": "848361b8",
   "metadata": {},
   "outputs": [],
   "source": [
    "f = open('practice.txt','w+')\n",
    "f.write('This is a test string')\n",
    "f.close()"
   ]
  },
  {
   "cell_type": "code",
   "execution_count": 3,
   "id": "a0dbc0f6",
   "metadata": {},
   "outputs": [],
   "source": [
    "import os"
   ]
  },
  {
   "cell_type": "markdown",
   "id": "65cd66d7",
   "metadata": {},
   "source": [
    "cwd- Current working directory"
   ]
  },
  {
   "cell_type": "code",
   "execution_count": 4,
   "id": "2f76fad7",
   "metadata": {},
   "outputs": [
    {
     "data": {
      "text/plain": [
       "'C:\\\\Users\\\\deept'"
      ]
     },
     "execution_count": 4,
     "metadata": {},
     "output_type": "execute_result"
    }
   ],
   "source": [
    "os.getcwd()"
   ]
  },
  {
   "cell_type": "code",
   "execution_count": 5,
   "id": "4c754b9f",
   "metadata": {},
   "outputs": [
    {
     "data": {
      "text/plain": [
       "['.anaconda',\n",
       " '.bash_history',\n",
       " '.cache',\n",
       " '.conda',\n",
       " '.condarc',\n",
       " '.continuum',\n",
       " '.eclipse',\n",
       " '.gitconfig',\n",
       " '.idlerc',\n",
       " '.ipynb_checkpoints',\n",
       " '.ipython',\n",
       " '.jupyter',\n",
       " '.lesshst',\n",
       " '.ms-ad',\n",
       " '.openjfx',\n",
       " '.p2',\n",
       " '.soapuios',\n",
       " '.vscode',\n",
       " '3D Objects',\n",
       " 'anaconda3',\n",
       " 'AppData',\n",
       " 'Application Data',\n",
       " 'Cookies',\n",
       " 'Deepti-3',\n",
       " 'default-soapui-workspace.xml',\n",
       " 'Downloads',\n",
       " 'eclipse-workspace',\n",
       " 'Favorites',\n",
       " 'Google Drive',\n",
       " 'Links',\n",
       " 'Local Settings',\n",
       " 'mkdir',\n",
       " 'Music',\n",
       " 'My Documents',\n",
       " 'My Py Stuff Feb.1.23.ipynb',\n",
       " 'My python Stuffs Feb 23.ipynb',\n",
       " 'My Python Stuffs Jan 23..ipynb',\n",
       " 'My Python Stuffs Jan23.ipynb',\n",
       " 'My Python Stuffs Nov.ipynb',\n",
       " 'My Python Stuffs Nov1.ipynb',\n",
       " 'myfile.txt',\n",
       " 'my_new_file.txt',\n",
       " 'NetHood',\n",
       " 'New Python1.ipynb',\n",
       " 'NTUSER.DAT',\n",
       " 'ntuser.dat.LOG1',\n",
       " 'ntuser.dat.LOG2',\n",
       " 'NTUSER.DAT{a2332f18-cdbf-11ec-8680-002248483d79}.TM.blf',\n",
       " 'NTUSER.DAT{a2332f18-cdbf-11ec-8680-002248483d79}.TMContainer00000000000000000001.regtrans-ms',\n",
       " 'NTUSER.DAT{a2332f18-cdbf-11ec-8680-002248483d79}.TMContainer00000000000000000002.regtrans-ms',\n",
       " 'ntuser.ini',\n",
       " 'OneDrive',\n",
       " 'practice.txt',\n",
       " 'PrintHood',\n",
       " 'Py Oct.ipynb',\n",
       " 'PycharmProjects',\n",
       " 'Python Classes',\n",
       " 'Python Stuff1.ipynb',\n",
       " 'Recent',\n",
       " 'Saved Games',\n",
       " 'ScStore',\n",
       " 'Searches',\n",
       " 'SendTo',\n",
       " 'soapui-settings.xml',\n",
       " 'SoapUI-Tutorials',\n",
       " 'Start Menu',\n",
       " 'Templates',\n",
       " 'testfile',\n",
       " 'VB - OG 1',\n",
       " 'Videos',\n",
       " 'VS Code']"
      ]
     },
     "execution_count": 5,
     "metadata": {},
     "output_type": "execute_result"
    }
   ],
   "source": [
    "os.listdir()"
   ]
  },
  {
   "cell_type": "code",
   "execution_count": 6,
   "id": "d04f310f",
   "metadata": {},
   "outputs": [
    {
     "data": {
      "text/plain": [
       "['All Users', 'deept', 'Default', 'Default User', 'desktop.ini', 'Public']"
      ]
     },
     "execution_count": 6,
     "metadata": {},
     "output_type": "execute_result"
    }
   ],
   "source": [
    "os.listdir('C:\\\\Users')"
   ]
  },
  {
   "cell_type": "code",
   "execution_count": 7,
   "id": "6101dba4",
   "metadata": {},
   "outputs": [],
   "source": [
    "import shutil"
   ]
  },
  {
   "cell_type": "markdown",
   "id": "44101892",
   "metadata": {},
   "source": [
    "# Shutil - Shut utilities"
   ]
  },
  {
   "cell_type": "code",
   "execution_count": 8,
   "id": "515332cb",
   "metadata": {},
   "outputs": [
    {
     "ename": "Error",
     "evalue": "Destination path 'C:\\Users\\deept\\practice.txt' already exists",
     "output_type": "error",
     "traceback": [
      "\u001b[1;31m---------------------------------------------------------------------------\u001b[0m",
      "\u001b[1;31mError\u001b[0m                                     Traceback (most recent call last)",
      "Input \u001b[1;32mIn [8]\u001b[0m, in \u001b[0;36m<cell line: 1>\u001b[1;34m()\u001b[0m\n\u001b[1;32m----> 1\u001b[0m \u001b[43mshutil\u001b[49m\u001b[38;5;241;43m.\u001b[39;49m\u001b[43mmove\u001b[49m\u001b[43m(\u001b[49m\u001b[38;5;124;43m'\u001b[39;49m\u001b[38;5;124;43mpractice.txt\u001b[39;49m\u001b[38;5;124;43m'\u001b[39;49m\u001b[43m,\u001b[49m\u001b[38;5;124;43m'\u001b[39;49m\u001b[38;5;124;43mC:\u001b[39;49m\u001b[38;5;130;43;01m\\\\\u001b[39;49;00m\u001b[38;5;124;43mUsers\u001b[39;49m\u001b[38;5;130;43;01m\\\\\u001b[39;49;00m\u001b[38;5;124;43mdeept\u001b[39;49m\u001b[38;5;124;43m'\u001b[39;49m\u001b[43m)\u001b[49m\n",
      "File \u001b[1;32m~\\anaconda3\\lib\\shutil.py:821\u001b[0m, in \u001b[0;36mmove\u001b[1;34m(src, dst, copy_function)\u001b[0m\n\u001b[0;32m    818\u001b[0m     real_dst \u001b[38;5;241m=\u001b[39m os\u001b[38;5;241m.\u001b[39mpath\u001b[38;5;241m.\u001b[39mjoin(dst, _basename(src))\n\u001b[0;32m    820\u001b[0m     \u001b[38;5;28;01mif\u001b[39;00m os\u001b[38;5;241m.\u001b[39mpath\u001b[38;5;241m.\u001b[39mexists(real_dst):\n\u001b[1;32m--> 821\u001b[0m         \u001b[38;5;28;01mraise\u001b[39;00m Error(\u001b[38;5;124m\"\u001b[39m\u001b[38;5;124mDestination path \u001b[39m\u001b[38;5;124m'\u001b[39m\u001b[38;5;132;01m%s\u001b[39;00m\u001b[38;5;124m'\u001b[39m\u001b[38;5;124m already exists\u001b[39m\u001b[38;5;124m\"\u001b[39m \u001b[38;5;241m%\u001b[39m real_dst)\n\u001b[0;32m    822\u001b[0m \u001b[38;5;28;01mtry\u001b[39;00m:\n\u001b[0;32m    823\u001b[0m     os\u001b[38;5;241m.\u001b[39mrename(src, real_dst)\n",
      "\u001b[1;31mError\u001b[0m: Destination path 'C:\\Users\\deept\\practice.txt' already exists"
     ]
    }
   ],
   "source": [
    "shutil.move('practice.txt','C:\\\\Users\\\\deept')"
   ]
  },
  {
   "cell_type": "code",
   "execution_count": 9,
   "id": "81e333a5",
   "metadata": {},
   "outputs": [
    {
     "data": {
      "text/plain": [
       "['.anaconda',\n",
       " '.bash_history',\n",
       " '.cache',\n",
       " '.conda',\n",
       " '.condarc',\n",
       " '.continuum',\n",
       " '.eclipse',\n",
       " '.gitconfig',\n",
       " '.idlerc',\n",
       " '.ipynb_checkpoints',\n",
       " '.ipython',\n",
       " '.jupyter',\n",
       " '.lesshst',\n",
       " '.ms-ad',\n",
       " '.openjfx',\n",
       " '.p2',\n",
       " '.soapuios',\n",
       " '.vscode',\n",
       " '3D Objects',\n",
       " 'anaconda3',\n",
       " 'AppData',\n",
       " 'Application Data',\n",
       " 'Cookies',\n",
       " 'Deepti-3',\n",
       " 'default-soapui-workspace.xml',\n",
       " 'Downloads',\n",
       " 'eclipse-workspace',\n",
       " 'Favorites',\n",
       " 'Google Drive',\n",
       " 'Links',\n",
       " 'Local Settings',\n",
       " 'mkdir',\n",
       " 'Music',\n",
       " 'My Documents',\n",
       " 'My Py Stuff Feb.1.23.ipynb',\n",
       " 'My python Stuffs Feb 23.ipynb',\n",
       " 'My Python Stuffs Jan 23..ipynb',\n",
       " 'My Python Stuffs Jan23.ipynb',\n",
       " 'My Python Stuffs Nov.ipynb',\n",
       " 'My Python Stuffs Nov1.ipynb',\n",
       " 'myfile.txt',\n",
       " 'my_new_file.txt',\n",
       " 'NetHood',\n",
       " 'New Python1.ipynb',\n",
       " 'NTUSER.DAT',\n",
       " 'ntuser.dat.LOG1',\n",
       " 'ntuser.dat.LOG2',\n",
       " 'NTUSER.DAT{a2332f18-cdbf-11ec-8680-002248483d79}.TM.blf',\n",
       " 'NTUSER.DAT{a2332f18-cdbf-11ec-8680-002248483d79}.TMContainer00000000000000000001.regtrans-ms',\n",
       " 'NTUSER.DAT{a2332f18-cdbf-11ec-8680-002248483d79}.TMContainer00000000000000000002.regtrans-ms',\n",
       " 'ntuser.ini',\n",
       " 'OneDrive',\n",
       " 'practice.txt',\n",
       " 'PrintHood',\n",
       " 'Py Oct.ipynb',\n",
       " 'PycharmProjects',\n",
       " 'Python Classes',\n",
       " 'Python Stuff1.ipynb',\n",
       " 'Recent',\n",
       " 'Saved Games',\n",
       " 'ScStore',\n",
       " 'Searches',\n",
       " 'SendTo',\n",
       " 'soapui-settings.xml',\n",
       " 'SoapUI-Tutorials',\n",
       " 'Start Menu',\n",
       " 'Templates',\n",
       " 'testfile',\n",
       " 'VB - OG 1',\n",
       " 'Videos',\n",
       " 'VS Code']"
      ]
     },
     "execution_count": 9,
     "metadata": {},
     "output_type": "execute_result"
    }
   ],
   "source": [
    "os.listdir('C:\\\\Users\\\\deept')"
   ]
  },
  {
   "cell_type": "markdown",
   "id": "ffa8791a",
   "metadata": {},
   "source": [
    "Os have large files"
   ]
  },
  {
   "cell_type": "code",
   "execution_count": 10,
   "id": "9d3d2ff7",
   "metadata": {},
   "outputs": [
    {
     "ename": "TypeError",
     "evalue": "access() missing required argument 'path' (pos 1)",
     "output_type": "error",
     "traceback": [
      "\u001b[1;31m---------------------------------------------------------------------------\u001b[0m",
      "\u001b[1;31mTypeError\u001b[0m                                 Traceback (most recent call last)",
      "Input \u001b[1;32mIn [10]\u001b[0m, in \u001b[0;36m<cell line: 1>\u001b[1;34m()\u001b[0m\n\u001b[1;32m----> 1\u001b[0m \u001b[43mos\u001b[49m\u001b[38;5;241;43m.\u001b[39;49m\u001b[43maccess\u001b[49m\u001b[43m(\u001b[49m\u001b[43m)\u001b[49m\n",
      "\u001b[1;31mTypeError\u001b[0m: access() missing required argument 'path' (pos 1)"
     ]
    }
   ],
   "source": [
    "os.access()"
   ]
  },
  {
   "cell_type": "code",
   "execution_count": 11,
   "id": "d81f6362",
   "metadata": {},
   "outputs": [
    {
     "data": {
      "text/plain": [
       "<function nt.access(path, mode, *, dir_fd=None, effective_ids=False, follow_symlinks=True)>"
      ]
     },
     "execution_count": 11,
     "metadata": {},
     "output_type": "execute_result"
    }
   ],
   "source": [
    "os.access"
   ]
  },
  {
   "cell_type": "code",
   "execution_count": 12,
   "id": "f89b8098",
   "metadata": {},
   "outputs": [],
   "source": [
    "import send2trash"
   ]
  },
  {
   "cell_type": "code",
   "execution_count": 13,
   "id": "9934d9b1",
   "metadata": {},
   "outputs": [
    {
     "data": {
      "text/plain": [
       "['.anaconda',\n",
       " '.bash_history',\n",
       " '.cache',\n",
       " '.conda',\n",
       " '.condarc',\n",
       " '.continuum',\n",
       " '.eclipse',\n",
       " '.gitconfig',\n",
       " '.idlerc',\n",
       " '.ipynb_checkpoints',\n",
       " '.ipython',\n",
       " '.jupyter',\n",
       " '.lesshst',\n",
       " '.ms-ad',\n",
       " '.openjfx',\n",
       " '.p2',\n",
       " '.soapuios',\n",
       " '.vscode',\n",
       " '3D Objects',\n",
       " 'anaconda3',\n",
       " 'AppData',\n",
       " 'Application Data',\n",
       " 'Cookies',\n",
       " 'Deepti-3',\n",
       " 'default-soapui-workspace.xml',\n",
       " 'Downloads',\n",
       " 'eclipse-workspace',\n",
       " 'Favorites',\n",
       " 'Google Drive',\n",
       " 'Links',\n",
       " 'Local Settings',\n",
       " 'mkdir',\n",
       " 'Music',\n",
       " 'My Documents',\n",
       " 'My Py Stuff Feb.1.23.ipynb',\n",
       " 'My python Stuffs Feb 23.ipynb',\n",
       " 'My Python Stuffs Jan 23..ipynb',\n",
       " 'My Python Stuffs Jan23.ipynb',\n",
       " 'My Python Stuffs Nov.ipynb',\n",
       " 'My Python Stuffs Nov1.ipynb',\n",
       " 'myfile.txt',\n",
       " 'my_new_file.txt',\n",
       " 'NetHood',\n",
       " 'New Python1.ipynb',\n",
       " 'NTUSER.DAT',\n",
       " 'ntuser.dat.LOG1',\n",
       " 'ntuser.dat.LOG2',\n",
       " 'NTUSER.DAT{a2332f18-cdbf-11ec-8680-002248483d79}.TM.blf',\n",
       " 'NTUSER.DAT{a2332f18-cdbf-11ec-8680-002248483d79}.TMContainer00000000000000000001.regtrans-ms',\n",
       " 'NTUSER.DAT{a2332f18-cdbf-11ec-8680-002248483d79}.TMContainer00000000000000000002.regtrans-ms',\n",
       " 'ntuser.ini',\n",
       " 'OneDrive',\n",
       " 'practice.txt',\n",
       " 'PrintHood',\n",
       " 'Py Oct.ipynb',\n",
       " 'PycharmProjects',\n",
       " 'Python Classes',\n",
       " 'Python Stuff1.ipynb',\n",
       " 'Recent',\n",
       " 'Saved Games',\n",
       " 'ScStore',\n",
       " 'Searches',\n",
       " 'SendTo',\n",
       " 'soapui-settings.xml',\n",
       " 'SoapUI-Tutorials',\n",
       " 'Start Menu',\n",
       " 'Templates',\n",
       " 'testfile',\n",
       " 'VB - OG 1',\n",
       " 'Videos',\n",
       " 'VS Code']"
      ]
     },
     "execution_count": 13,
     "metadata": {},
     "output_type": "execute_result"
    }
   ],
   "source": [
    "os.listdir()"
   ]
  },
  {
   "cell_type": "code",
   "execution_count": 14,
   "id": "e1cb4470",
   "metadata": {},
   "outputs": [
    {
     "ename": "Error",
     "evalue": "Destination path 'C:\\Users\\deept\\practice.txt' already exists",
     "output_type": "error",
     "traceback": [
      "\u001b[1;31m---------------------------------------------------------------------------\u001b[0m",
      "\u001b[1;31mError\u001b[0m                                     Traceback (most recent call last)",
      "Input \u001b[1;32mIn [14]\u001b[0m, in \u001b[0;36m<cell line: 1>\u001b[1;34m()\u001b[0m\n\u001b[1;32m----> 1\u001b[0m \u001b[43mshutil\u001b[49m\u001b[38;5;241;43m.\u001b[39;49m\u001b[43mmove\u001b[49m\u001b[43m(\u001b[49m\u001b[38;5;124;43m'\u001b[39;49m\u001b[38;5;124;43mC:\u001b[39;49m\u001b[38;5;130;43;01m\\\\\u001b[39;49;00m\u001b[38;5;124;43mUsers\u001b[39;49m\u001b[38;5;130;43;01m\\\\\u001b[39;49;00m\u001b[38;5;124;43mdeept\u001b[39;49m\u001b[38;5;130;43;01m\\\\\u001b[39;49;00m\u001b[38;5;124;43mpractice.txt\u001b[39;49m\u001b[38;5;124;43m'\u001b[39;49m\u001b[43m,\u001b[49m\u001b[43mos\u001b[49m\u001b[38;5;241;43m.\u001b[39;49m\u001b[43mgetcwd\u001b[49m\u001b[43m(\u001b[49m\u001b[43m)\u001b[49m\u001b[43m)\u001b[49m\n",
      "File \u001b[1;32m~\\anaconda3\\lib\\shutil.py:821\u001b[0m, in \u001b[0;36mmove\u001b[1;34m(src, dst, copy_function)\u001b[0m\n\u001b[0;32m    818\u001b[0m     real_dst \u001b[38;5;241m=\u001b[39m os\u001b[38;5;241m.\u001b[39mpath\u001b[38;5;241m.\u001b[39mjoin(dst, _basename(src))\n\u001b[0;32m    820\u001b[0m     \u001b[38;5;28;01mif\u001b[39;00m os\u001b[38;5;241m.\u001b[39mpath\u001b[38;5;241m.\u001b[39mexists(real_dst):\n\u001b[1;32m--> 821\u001b[0m         \u001b[38;5;28;01mraise\u001b[39;00m Error(\u001b[38;5;124m\"\u001b[39m\u001b[38;5;124mDestination path \u001b[39m\u001b[38;5;124m'\u001b[39m\u001b[38;5;132;01m%s\u001b[39;00m\u001b[38;5;124m'\u001b[39m\u001b[38;5;124m already exists\u001b[39m\u001b[38;5;124m\"\u001b[39m \u001b[38;5;241m%\u001b[39m real_dst)\n\u001b[0;32m    822\u001b[0m \u001b[38;5;28;01mtry\u001b[39;00m:\n\u001b[0;32m    823\u001b[0m     os\u001b[38;5;241m.\u001b[39mrename(src, real_dst)\n",
      "\u001b[1;31mError\u001b[0m: Destination path 'C:\\Users\\deept\\practice.txt' already exists"
     ]
    }
   ],
   "source": [
    "shutil.move('C:\\\\Users\\\\deept\\\\practice.txt',os.getcwd())"
   ]
  },
  {
   "cell_type": "code",
   "execution_count": 15,
   "id": "a74a0b3d",
   "metadata": {},
   "outputs": [],
   "source": [
    "send2trash.send2trash('practice.txt')"
   ]
  },
  {
   "cell_type": "code",
   "execution_count": 16,
   "id": "f09cbd53",
   "metadata": {},
   "outputs": [
    {
     "data": {
      "text/plain": [
       "['.anaconda',\n",
       " '.bash_history',\n",
       " '.cache',\n",
       " '.conda',\n",
       " '.condarc',\n",
       " '.continuum',\n",
       " '.eclipse',\n",
       " '.gitconfig',\n",
       " '.idlerc',\n",
       " '.ipynb_checkpoints',\n",
       " '.ipython',\n",
       " '.jupyter',\n",
       " '.lesshst',\n",
       " '.ms-ad',\n",
       " '.openjfx',\n",
       " '.p2',\n",
       " '.soapuios',\n",
       " '.vscode',\n",
       " '3D Objects',\n",
       " 'anaconda3',\n",
       " 'AppData',\n",
       " 'Application Data',\n",
       " 'Cookies',\n",
       " 'Deepti-3',\n",
       " 'default-soapui-workspace.xml',\n",
       " 'Downloads',\n",
       " 'eclipse-workspace',\n",
       " 'Favorites',\n",
       " 'Google Drive',\n",
       " 'Links',\n",
       " 'Local Settings',\n",
       " 'mkdir',\n",
       " 'Music',\n",
       " 'My Documents',\n",
       " 'My Py Stuff Feb.1.23.ipynb',\n",
       " 'My python Stuffs Feb 23.ipynb',\n",
       " 'My Python Stuffs Jan 23..ipynb',\n",
       " 'My Python Stuffs Jan23.ipynb',\n",
       " 'My Python Stuffs Nov.ipynb',\n",
       " 'My Python Stuffs Nov1.ipynb',\n",
       " 'myfile.txt',\n",
       " 'my_new_file.txt',\n",
       " 'NetHood',\n",
       " 'New Python1.ipynb',\n",
       " 'NTUSER.DAT',\n",
       " 'ntuser.dat.LOG1',\n",
       " 'ntuser.dat.LOG2',\n",
       " 'NTUSER.DAT{a2332f18-cdbf-11ec-8680-002248483d79}.TM.blf',\n",
       " 'NTUSER.DAT{a2332f18-cdbf-11ec-8680-002248483d79}.TMContainer00000000000000000001.regtrans-ms',\n",
       " 'NTUSER.DAT{a2332f18-cdbf-11ec-8680-002248483d79}.TMContainer00000000000000000002.regtrans-ms',\n",
       " 'ntuser.ini',\n",
       " 'OneDrive',\n",
       " 'PrintHood',\n",
       " 'Py Oct.ipynb',\n",
       " 'PycharmProjects',\n",
       " 'Python Classes',\n",
       " 'Python Stuff1.ipynb',\n",
       " 'Recent',\n",
       " 'Saved Games',\n",
       " 'ScStore',\n",
       " 'Searches',\n",
       " 'SendTo',\n",
       " 'soapui-settings.xml',\n",
       " 'SoapUI-Tutorials',\n",
       " 'Start Menu',\n",
       " 'Templates',\n",
       " 'testfile',\n",
       " 'VB - OG 1',\n",
       " 'Videos',\n",
       " 'VS Code']"
      ]
     },
     "execution_count": 16,
     "metadata": {},
     "output_type": "execute_result"
    }
   ],
   "source": [
    "os.listdir()"
   ]
  },
  {
   "cell_type": "code",
   "execution_count": 17,
   "id": "2b14be2b",
   "metadata": {},
   "outputs": [
    {
     "data": {
      "text/plain": [
       "'C:\\\\Users\\\\deept'"
      ]
     },
     "execution_count": 17,
     "metadata": {},
     "output_type": "execute_result"
    }
   ],
   "source": [
    "os.getcwd()"
   ]
  },
  {
   "cell_type": "code",
   "execution_count": null,
   "id": "f6d7ff20",
   "metadata": {},
   "outputs": [],
   "source": [
    "file_path = 'C:\\\\Users\\\\deept\\\\Example_Top_Level'"
   ]
  },
  {
   "cell_type": "code",
   "execution_count": 21,
   "id": "b53dd8ae",
   "metadata": {},
   "outputs": [
    {
     "ename": "NameError",
     "evalue": "name 'file_path' is not defined",
     "output_type": "error",
     "traceback": [
      "\u001b[1;31m---------------------------------------------------------------------------\u001b[0m",
      "\u001b[1;31mNameError\u001b[0m                                 Traceback (most recent call last)",
      "Input \u001b[1;32mIn [21]\u001b[0m, in \u001b[0;36m<cell line: 1>\u001b[1;34m()\u001b[0m\n\u001b[1;32m----> 1\u001b[0m \u001b[38;5;28;01mfor\u001b[39;00m folder, sub_folders, files \u001b[38;5;129;01min\u001b[39;00m os\u001b[38;5;241m.\u001b[39mwalk(\u001b[43mfile_path\u001b[49m):\n\u001b[0;32m      3\u001b[0m     \u001b[38;5;28mprint\u001b[39m(\u001b[38;5;124mf\u001b[39m\u001b[38;5;124m\"\u001b[39m\u001b[38;5;124mCurrently looking at \u001b[39m\u001b[38;5;132;01m{\u001b[39;00mfolder\u001b[38;5;132;01m}\u001b[39;00m\u001b[38;5;124m\"\u001b[39m)\n\u001b[0;32m      4\u001b[0m     \u001b[38;5;28mprint\u001b[39m(\u001b[38;5;124m'\u001b[39m\u001b[38;5;130;01m\\n\u001b[39;00m\u001b[38;5;124m'\u001b[39m)\n",
      "\u001b[1;31mNameError\u001b[0m: name 'file_path' is not defined"
     ]
    }
   ],
   "source": [
    "for folder, sub_folders, files in os.walk(file_path):\n",
    "    \n",
    "    print(f\"Currently looking at {folder}\")\n",
    "    print('\\n')\n",
    "    print('The subfolders are: ')\n",
    "    for sub_fold in sub_folders:\n",
    "        print(f\"\\t Subfolder: {sub_fold}\")\n",
    "        \n",
    "    print('\\n')\n",
    "    print(\"the files are: \")\n",
    "    for f in files:\n",
    "        print(f\"\\t File: {f}\")\n",
    "    print('\\n')    \n"
   ]
  },
  {
   "cell_type": "markdown",
   "id": "bac16e69",
   "metadata": {},
   "source": [
    "# Datetime Module"
   ]
  },
  {
   "cell_type": "code",
   "execution_count": 22,
   "id": "f41140c8",
   "metadata": {},
   "outputs": [],
   "source": [
    "import datetime"
   ]
  },
  {
   "cell_type": "markdown",
   "id": "95c3d0e4",
   "metadata": {},
   "source": [
    "Create datetime Object"
   ]
  },
  {
   "cell_type": "code",
   "execution_count": 23,
   "id": "d8feaeda",
   "metadata": {},
   "outputs": [],
   "source": [
    "mytime = datetime.time(2,20)"
   ]
  },
  {
   "cell_type": "markdown",
   "id": "40b1c9f5",
   "metadata": {},
   "source": [
    "Access the time like Attribute"
   ]
  },
  {
   "cell_type": "code",
   "execution_count": 24,
   "id": "e535857a",
   "metadata": {},
   "outputs": [
    {
     "data": {
      "text/plain": [
       "20"
      ]
     },
     "execution_count": 24,
     "metadata": {},
     "output_type": "execute_result"
    }
   ],
   "source": [
    "mytime.minute"
   ]
  },
  {
   "cell_type": "code",
   "execution_count": 25,
   "id": "54d37249",
   "metadata": {},
   "outputs": [
    {
     "data": {
      "text/plain": [
       "2"
      ]
     },
     "execution_count": 25,
     "metadata": {},
     "output_type": "execute_result"
    }
   ],
   "source": [
    "mytime.hour"
   ]
  },
  {
   "cell_type": "code",
   "execution_count": 30,
   "id": "9b0a62be",
   "metadata": {},
   "outputs": [
    {
     "name": "stdout",
     "output_type": "stream",
     "text": [
      "13:50:01.000030\n"
     ]
    }
   ],
   "source": [
    "print(mytime)"
   ]
  },
  {
   "cell_type": "code",
   "execution_count": 31,
   "id": "924ba93d",
   "metadata": {},
   "outputs": [
    {
     "data": {
      "text/plain": [
       "30"
      ]
     },
     "execution_count": 31,
     "metadata": {},
     "output_type": "execute_result"
    }
   ],
   "source": [
    "mytime.microsecond"
   ]
  },
  {
   "cell_type": "markdown",
   "id": "8dd3ff8c",
   "metadata": {},
   "source": [
    "Can have all in one time"
   ]
  },
  {
   "cell_type": "code",
   "execution_count": 32,
   "id": "62af3486",
   "metadata": {},
   "outputs": [],
   "source": [
    "mytime = datetime.time(13,50,1,30)"
   ]
  },
  {
   "cell_type": "code",
   "execution_count": 33,
   "id": "41a81791",
   "metadata": {},
   "outputs": [
    {
     "data": {
      "text/plain": [
       "50"
      ]
     },
     "execution_count": 33,
     "metadata": {},
     "output_type": "execute_result"
    }
   ],
   "source": [
    "mytime.minute"
   ]
  },
  {
   "cell_type": "code",
   "execution_count": 34,
   "id": "8210a04b",
   "metadata": {},
   "outputs": [
    {
     "name": "stdout",
     "output_type": "stream",
     "text": [
      "13:50:01.000030\n"
     ]
    }
   ],
   "source": [
    "print(mytime)"
   ]
  },
  {
   "cell_type": "code",
   "execution_count": 36,
   "id": "ed692969",
   "metadata": {},
   "outputs": [
    {
     "data": {
      "text/plain": [
       "datetime.time"
      ]
     },
     "execution_count": 36,
     "metadata": {},
     "output_type": "execute_result"
    }
   ],
   "source": [
    "type(mytime)"
   ]
  },
  {
   "cell_type": "code",
   "execution_count": 37,
   "id": "8474739a",
   "metadata": {},
   "outputs": [],
   "source": [
    "today = datetime.date.today()"
   ]
  },
  {
   "cell_type": "code",
   "execution_count": 38,
   "id": "3aed605f",
   "metadata": {},
   "outputs": [
    {
     "name": "stdout",
     "output_type": "stream",
     "text": [
      "2023-02-14\n"
     ]
    }
   ],
   "source": [
    "print(today)"
   ]
  },
  {
   "cell_type": "code",
   "execution_count": 39,
   "id": "f14f35f6",
   "metadata": {},
   "outputs": [
    {
     "data": {
      "text/plain": [
       "2023"
      ]
     },
     "execution_count": 39,
     "metadata": {},
     "output_type": "execute_result"
    }
   ],
   "source": [
    "today.year"
   ]
  },
  {
   "cell_type": "code",
   "execution_count": 40,
   "id": "1c9c6c46",
   "metadata": {},
   "outputs": [
    {
     "data": {
      "text/plain": [
       "2"
      ]
     },
     "execution_count": 40,
     "metadata": {},
     "output_type": "execute_result"
    }
   ],
   "source": [
    "today.month"
   ]
  },
  {
   "cell_type": "code",
   "execution_count": 41,
   "id": "50e8a24f",
   "metadata": {},
   "outputs": [
    {
     "data": {
      "text/plain": [
       "14"
      ]
     },
     "execution_count": 41,
     "metadata": {},
     "output_type": "execute_result"
    }
   ],
   "source": [
    "today.day"
   ]
  },
  {
   "cell_type": "code",
   "execution_count": 42,
   "id": "de85999f",
   "metadata": {},
   "outputs": [
    {
     "ename": "AttributeError",
     "evalue": "'int' object has no attribute 'day'",
     "output_type": "error",
     "traceback": [
      "\u001b[1;31m---------------------------------------------------------------------------\u001b[0m",
      "\u001b[1;31mAttributeError\u001b[0m                            Traceback (most recent call last)",
      "Input \u001b[1;32mIn [42]\u001b[0m, in \u001b[0;36m<cell line: 1>\u001b[1;34m()\u001b[0m\n\u001b[1;32m----> 1\u001b[0m \u001b[43mtoday\u001b[49m\u001b[38;5;241;43m.\u001b[39;49m\u001b[43mmonth\u001b[49m\u001b[38;5;241;43m.\u001b[39;49m\u001b[43mday\u001b[49m\n",
      "\u001b[1;31mAttributeError\u001b[0m: 'int' object has no attribute 'day'"
     ]
    }
   ],
   "source": [
    "today.month.day"
   ]
  },
  {
   "cell_type": "code",
   "execution_count": 43,
   "id": "bf67db15",
   "metadata": {},
   "outputs": [
    {
     "name": "stdout",
     "output_type": "stream",
     "text": [
      "2023-02-14\n"
     ]
    }
   ],
   "source": [
    "print(today)"
   ]
  },
  {
   "cell_type": "code",
   "execution_count": 44,
   "id": "bfd74447",
   "metadata": {},
   "outputs": [
    {
     "ename": "NameError",
     "evalue": "name 'tomorrow' is not defined",
     "output_type": "error",
     "traceback": [
      "\u001b[1;31m---------------------------------------------------------------------------\u001b[0m",
      "\u001b[1;31mNameError\u001b[0m                                 Traceback (most recent call last)",
      "Input \u001b[1;32mIn [44]\u001b[0m, in \u001b[0;36m<cell line: 1>\u001b[1;34m()\u001b[0m\n\u001b[1;32m----> 1\u001b[0m \u001b[38;5;28mprint\u001b[39m(\u001b[43mtomorrow\u001b[49m)\n",
      "\u001b[1;31mNameError\u001b[0m: name 'tomorrow' is not defined"
     ]
    }
   ],
   "source": [
    "print(tomorrow)"
   ]
  },
  {
   "cell_type": "code",
   "execution_count": 45,
   "id": "244fad03",
   "metadata": {},
   "outputs": [
    {
     "ename": "NameError",
     "evalue": "name 'now' is not defined",
     "output_type": "error",
     "traceback": [
      "\u001b[1;31m---------------------------------------------------------------------------\u001b[0m",
      "\u001b[1;31mNameError\u001b[0m                                 Traceback (most recent call last)",
      "Input \u001b[1;32mIn [45]\u001b[0m, in \u001b[0;36m<cell line: 1>\u001b[1;34m()\u001b[0m\n\u001b[1;32m----> 1\u001b[0m \u001b[38;5;28mprint\u001b[39m(\u001b[43mnow\u001b[49m)\n",
      "\u001b[1;31mNameError\u001b[0m: name 'now' is not defined"
     ]
    }
   ],
   "source": [
    "print(now)"
   ]
  },
  {
   "cell_type": "markdown",
   "id": "95eabcee",
   "metadata": {},
   "source": [
    "PY allows you C type formatting"
   ]
  },
  {
   "cell_type": "code",
   "execution_count": 46,
   "id": "ba93e419",
   "metadata": {},
   "outputs": [
    {
     "data": {
      "text/plain": [
       "'Tue Feb 14 00:00:00 2023'"
      ]
     },
     "execution_count": 46,
     "metadata": {},
     "output_type": "execute_result"
    }
   ],
   "source": [
    "today.ctime()"
   ]
  },
  {
   "cell_type": "code",
   "execution_count": 47,
   "id": "9d836e10",
   "metadata": {},
   "outputs": [],
   "source": [
    "from datetime import datetime"
   ]
  },
  {
   "cell_type": "code",
   "execution_count": 48,
   "id": "4ed0e764",
   "metadata": {},
   "outputs": [
    {
     "data": {
      "text/plain": [
       "datetime.datetime(2024, 10, 3, 18, 15)"
      ]
     },
     "execution_count": 48,
     "metadata": {},
     "output_type": "execute_result"
    }
   ],
   "source": [
    "datetime(2024,10,3,18,15)"
   ]
  },
  {
   "cell_type": "code",
   "execution_count": 49,
   "id": "40a6e1b4",
   "metadata": {},
   "outputs": [],
   "source": [
    "mydatetime = datetime(2024,10,3,18,15)"
   ]
  },
  {
   "cell_type": "code",
   "execution_count": 50,
   "id": "7f971b7f",
   "metadata": {},
   "outputs": [
    {
     "name": "stdout",
     "output_type": "stream",
     "text": [
      "2024-10-03 18:15:00\n"
     ]
    }
   ],
   "source": [
    "print(mydatetime)"
   ]
  },
  {
   "cell_type": "code",
   "execution_count": 51,
   "id": "4a43b98f",
   "metadata": {},
   "outputs": [
    {
     "ename": "NameError",
     "evalue": "name 'mydatedaytime' is not defined",
     "output_type": "error",
     "traceback": [
      "\u001b[1;31m---------------------------------------------------------------------------\u001b[0m",
      "\u001b[1;31mNameError\u001b[0m                                 Traceback (most recent call last)",
      "Input \u001b[1;32mIn [51]\u001b[0m, in \u001b[0;36m<cell line: 1>\u001b[1;34m()\u001b[0m\n\u001b[1;32m----> 1\u001b[0m \u001b[38;5;28mprint\u001b[39m(\u001b[43mmydatedaytime\u001b[49m)\n",
      "\u001b[1;31mNameError\u001b[0m: name 'mydatedaytime' is not defined"
     ]
    }
   ],
   "source": [
    "print(mydatedaytime)"
   ]
  },
  {
   "cell_type": "code",
   "execution_count": 52,
   "id": "27eb45d2",
   "metadata": {},
   "outputs": [
    {
     "ename": "NameError",
     "evalue": "name 'mydatedaytimeday' is not defined",
     "output_type": "error",
     "traceback": [
      "\u001b[1;31m---------------------------------------------------------------------------\u001b[0m",
      "\u001b[1;31mNameError\u001b[0m                                 Traceback (most recent call last)",
      "Input \u001b[1;32mIn [52]\u001b[0m, in \u001b[0;36m<cell line: 1>\u001b[1;34m()\u001b[0m\n\u001b[1;32m----> 1\u001b[0m \u001b[38;5;28mprint\u001b[39m(\u001b[43mmydatedaytimeday\u001b[49m)\n",
      "\u001b[1;31mNameError\u001b[0m: name 'mydatedaytimeday' is not defined"
     ]
    }
   ],
   "source": [
    "print(mydatedaytimeday)"
   ]
  },
  {
   "cell_type": "markdown",
   "id": "7d842772",
   "metadata": {},
   "source": [
    "# In replace datetime-yo can replace by yr"
   ]
  },
  {
   "cell_type": "code",
   "execution_count": 54,
   "id": "cab31efc",
   "metadata": {},
   "outputs": [
    {
     "data": {
      "text/plain": [
       "datetime.datetime(2023, 10, 3, 18, 15)"
      ]
     },
     "execution_count": 54,
     "metadata": {},
     "output_type": "execute_result"
    }
   ],
   "source": [
    "mydatetime.replace(year=2023)"
   ]
  },
  {
   "cell_type": "code",
   "execution_count": 55,
   "id": "6e8447c3",
   "metadata": {},
   "outputs": [
    {
     "ename": "ValueError",
     "evalue": "day is out of range for month",
     "output_type": "error",
     "traceback": [
      "\u001b[1;31m---------------------------------------------------------------------------\u001b[0m",
      "\u001b[1;31mValueError\u001b[0m                                Traceback (most recent call last)",
      "Input \u001b[1;32mIn [55]\u001b[0m, in \u001b[0;36m<cell line: 1>\u001b[1;34m()\u001b[0m\n\u001b[1;32m----> 1\u001b[0m \u001b[43mmydatetime\u001b[49m\u001b[38;5;241;43m.\u001b[39;49m\u001b[43mreplace\u001b[49m\u001b[43m(\u001b[49m\u001b[43mday\u001b[49m\u001b[38;5;241;43m=\u001b[39;49m\u001b[38;5;241;43m2023\u001b[39;49m\u001b[43m)\u001b[49m\n",
      "\u001b[1;31mValueError\u001b[0m: day is out of range for month"
     ]
    }
   ],
   "source": [
    "mydatetime.replace(day=2023)"
   ]
  },
  {
   "cell_type": "markdown",
   "id": "5d89346d",
   "metadata": {},
   "source": [
    "# Update my datetime = this"
   ]
  },
  {
   "cell_type": "code",
   "execution_count": 56,
   "id": "a6a718bc",
   "metadata": {},
   "outputs": [],
   "source": [
    "mydatetime = mydatetime.replace(year=2023)"
   ]
  },
  {
   "cell_type": "code",
   "execution_count": 57,
   "id": "5f0bd298",
   "metadata": {},
   "outputs": [
    {
     "name": "stdout",
     "output_type": "stream",
     "text": [
      "2023-10-03 18:15:00\n"
     ]
    }
   ],
   "source": [
    "print(mydatetime)"
   ]
  },
  {
   "cell_type": "code",
   "execution_count": 58,
   "id": "8572ba08",
   "metadata": {},
   "outputs": [],
   "source": [
    "# DATE"
   ]
  },
  {
   "cell_type": "code",
   "execution_count": 59,
   "id": "f68ad566",
   "metadata": {},
   "outputs": [],
   "source": [
    "from datetime import date"
   ]
  },
  {
   "cell_type": "code",
   "execution_count": 62,
   "id": "e14e9f18",
   "metadata": {},
   "outputs": [],
   "source": [
    "date1 = date(2024,5,2)\n",
    "date2 = date(2023,12,3)"
   ]
  },
  {
   "cell_type": "code",
   "execution_count": 63,
   "id": "35a0d33f",
   "metadata": {},
   "outputs": [
    {
     "data": {
      "text/plain": [
       "datetime.timedelta(days=151)"
      ]
     },
     "execution_count": 63,
     "metadata": {},
     "output_type": "execute_result"
    }
   ],
   "source": [
    "date1 - date2"
   ]
  },
  {
   "cell_type": "code",
   "execution_count": 64,
   "id": "52c89576",
   "metadata": {},
   "outputs": [],
   "source": [
    "result = date1 - date2"
   ]
  },
  {
   "cell_type": "code",
   "execution_count": 65,
   "id": "4e852b9f",
   "metadata": {},
   "outputs": [
    {
     "data": {
      "text/plain": [
       "datetime.timedelta"
      ]
     },
     "execution_count": 65,
     "metadata": {},
     "output_type": "execute_result"
    }
   ],
   "source": [
    "type(result)"
   ]
  },
  {
   "cell_type": "code",
   "execution_count": 66,
   "id": "4e791b15",
   "metadata": {},
   "outputs": [
    {
     "data": {
      "text/plain": [
       "151"
      ]
     },
     "execution_count": 66,
     "metadata": {},
     "output_type": "execute_result"
    }
   ],
   "source": [
    "result.days"
   ]
  },
  {
   "cell_type": "code",
   "execution_count": 67,
   "id": "ec416113",
   "metadata": {},
   "outputs": [],
   "source": [
    "datetime1 = datetime(2024,5,2,21,0)"
   ]
  },
  {
   "cell_type": "code",
   "execution_count": 70,
   "id": "30a6f0f7",
   "metadata": {},
   "outputs": [],
   "source": [
    "datetime2 = datetime(2023,12,3,19,0)"
   ]
  },
  {
   "cell_type": "code",
   "execution_count": 71,
   "id": "a2b38049",
   "metadata": {},
   "outputs": [
    {
     "data": {
      "text/plain": [
       "datetime.timedelta(days=151, seconds=7200)"
      ]
     },
     "execution_count": 71,
     "metadata": {},
     "output_type": "execute_result"
    }
   ],
   "source": [
    "datetime1 - datetime2"
   ]
  },
  {
   "cell_type": "markdown",
   "id": "391e39e6",
   "metadata": {},
   "source": [
    "Dividing hours -21 and 19 - 2hrs diff"
   ]
  },
  {
   "cell_type": "code",
   "execution_count": 72,
   "id": "885ff59e",
   "metadata": {},
   "outputs": [
    {
     "data": {
      "text/plain": [
       "2.0"
      ]
     },
     "execution_count": 72,
     "metadata": {},
     "output_type": "execute_result"
    }
   ],
   "source": [
    "7200/60/60"
   ]
  },
  {
   "cell_type": "code",
   "execution_count": 73,
   "id": "07e93054",
   "metadata": {},
   "outputs": [
    {
     "ename": "SyntaxError",
     "evalue": "invalid syntax (2001761169.py, line 1)",
     "output_type": "error",
     "traceback": [
      "\u001b[1;36m  Input \u001b[1;32mIn [73]\u001b[1;36m\u001b[0m\n\u001b[1;33m    my diff = datetime1 - datetime2\u001b[0m\n\u001b[1;37m       ^\u001b[0m\n\u001b[1;31mSyntaxError\u001b[0m\u001b[1;31m:\u001b[0m invalid syntax\n"
     ]
    }
   ],
   "source": [
    "my diff = datetime1 - datetime2"
   ]
  },
  {
   "cell_type": "markdown",
   "id": "25f387f6",
   "metadata": {},
   "source": [
    "# Math and random modules"
   ]
  },
  {
   "cell_type": "code",
   "execution_count": 1,
   "id": "03c628be",
   "metadata": {},
   "outputs": [],
   "source": [
    "import math"
   ]
  },
  {
   "cell_type": "code",
   "execution_count": 2,
   "id": "5ba0e181",
   "metadata": {},
   "outputs": [
    {
     "name": "stdout",
     "output_type": "stream",
     "text": [
      "Help on built-in module math:\n",
      "\n",
      "NAME\n",
      "    math\n",
      "\n",
      "DESCRIPTION\n",
      "    This module provides access to the mathematical functions\n",
      "    defined by the C standard.\n",
      "\n",
      "FUNCTIONS\n",
      "    acos(x, /)\n",
      "        Return the arc cosine (measured in radians) of x.\n",
      "        \n",
      "        The result is between 0 and pi.\n",
      "    \n",
      "    acosh(x, /)\n",
      "        Return the inverse hyperbolic cosine of x.\n",
      "    \n",
      "    asin(x, /)\n",
      "        Return the arc sine (measured in radians) of x.\n",
      "        \n",
      "        The result is between -pi/2 and pi/2.\n",
      "    \n",
      "    asinh(x, /)\n",
      "        Return the inverse hyperbolic sine of x.\n",
      "    \n",
      "    atan(x, /)\n",
      "        Return the arc tangent (measured in radians) of x.\n",
      "        \n",
      "        The result is between -pi/2 and pi/2.\n",
      "    \n",
      "    atan2(y, x, /)\n",
      "        Return the arc tangent (measured in radians) of y/x.\n",
      "        \n",
      "        Unlike atan(y/x), the signs of both x and y are considered.\n",
      "    \n",
      "    atanh(x, /)\n",
      "        Return the inverse hyperbolic tangent of x.\n",
      "    \n",
      "    ceil(x, /)\n",
      "        Return the ceiling of x as an Integral.\n",
      "        \n",
      "        This is the smallest integer >= x.\n",
      "    \n",
      "    comb(n, k, /)\n",
      "        Number of ways to choose k items from n items without repetition and without order.\n",
      "        \n",
      "        Evaluates to n! / (k! * (n - k)!) when k <= n and evaluates\n",
      "        to zero when k > n.\n",
      "        \n",
      "        Also called the binomial coefficient because it is equivalent\n",
      "        to the coefficient of k-th term in polynomial expansion of the\n",
      "        expression (1 + x)**n.\n",
      "        \n",
      "        Raises TypeError if either of the arguments are not integers.\n",
      "        Raises ValueError if either of the arguments are negative.\n",
      "    \n",
      "    copysign(x, y, /)\n",
      "        Return a float with the magnitude (absolute value) of x but the sign of y.\n",
      "        \n",
      "        On platforms that support signed zeros, copysign(1.0, -0.0)\n",
      "        returns -1.0.\n",
      "    \n",
      "    cos(x, /)\n",
      "        Return the cosine of x (measured in radians).\n",
      "    \n",
      "    cosh(x, /)\n",
      "        Return the hyperbolic cosine of x.\n",
      "    \n",
      "    degrees(x, /)\n",
      "        Convert angle x from radians to degrees.\n",
      "    \n",
      "    dist(p, q, /)\n",
      "        Return the Euclidean distance between two points p and q.\n",
      "        \n",
      "        The points should be specified as sequences (or iterables) of\n",
      "        coordinates.  Both inputs must have the same dimension.\n",
      "        \n",
      "        Roughly equivalent to:\n",
      "            sqrt(sum((px - qx) ** 2.0 for px, qx in zip(p, q)))\n",
      "    \n",
      "    erf(x, /)\n",
      "        Error function at x.\n",
      "    \n",
      "    erfc(x, /)\n",
      "        Complementary error function at x.\n",
      "    \n",
      "    exp(x, /)\n",
      "        Return e raised to the power of x.\n",
      "    \n",
      "    expm1(x, /)\n",
      "        Return exp(x)-1.\n",
      "        \n",
      "        This function avoids the loss of precision involved in the direct evaluation of exp(x)-1 for small x.\n",
      "    \n",
      "    fabs(x, /)\n",
      "        Return the absolute value of the float x.\n",
      "    \n",
      "    factorial(x, /)\n",
      "        Find x!.\n",
      "        \n",
      "        Raise a ValueError if x is negative or non-integral.\n",
      "    \n",
      "    floor(x, /)\n",
      "        Return the floor of x as an Integral.\n",
      "        \n",
      "        This is the largest integer <= x.\n",
      "    \n",
      "    fmod(x, y, /)\n",
      "        Return fmod(x, y), according to platform C.\n",
      "        \n",
      "        x % y may differ.\n",
      "    \n",
      "    frexp(x, /)\n",
      "        Return the mantissa and exponent of x, as pair (m, e).\n",
      "        \n",
      "        m is a float and e is an int, such that x = m * 2.**e.\n",
      "        If x is 0, m and e are both 0.  Else 0.5 <= abs(m) < 1.0.\n",
      "    \n",
      "    fsum(seq, /)\n",
      "        Return an accurate floating point sum of values in the iterable seq.\n",
      "        \n",
      "        Assumes IEEE-754 floating point arithmetic.\n",
      "    \n",
      "    gamma(x, /)\n",
      "        Gamma function at x.\n",
      "    \n",
      "    gcd(*integers)\n",
      "        Greatest Common Divisor.\n",
      "    \n",
      "    hypot(...)\n",
      "        hypot(*coordinates) -> value\n",
      "        \n",
      "        Multidimensional Euclidean distance from the origin to a point.\n",
      "        \n",
      "        Roughly equivalent to:\n",
      "            sqrt(sum(x**2 for x in coordinates))\n",
      "        \n",
      "        For a two dimensional point (x, y), gives the hypotenuse\n",
      "        using the Pythagorean theorem:  sqrt(x*x + y*y).\n",
      "        \n",
      "        For example, the hypotenuse of a 3/4/5 right triangle is:\n",
      "        \n",
      "            >>> hypot(3.0, 4.0)\n",
      "            5.0\n",
      "    \n",
      "    isclose(a, b, *, rel_tol=1e-09, abs_tol=0.0)\n",
      "        Determine whether two floating point numbers are close in value.\n",
      "        \n",
      "          rel_tol\n",
      "            maximum difference for being considered \"close\", relative to the\n",
      "            magnitude of the input values\n",
      "          abs_tol\n",
      "            maximum difference for being considered \"close\", regardless of the\n",
      "            magnitude of the input values\n",
      "        \n",
      "        Return True if a is close in value to b, and False otherwise.\n",
      "        \n",
      "        For the values to be considered close, the difference between them\n",
      "        must be smaller than at least one of the tolerances.\n",
      "        \n",
      "        -inf, inf and NaN behave similarly to the IEEE 754 Standard.  That\n",
      "        is, NaN is not close to anything, even itself.  inf and -inf are\n",
      "        only close to themselves.\n",
      "    \n",
      "    isfinite(x, /)\n",
      "        Return True if x is neither an infinity nor a NaN, and False otherwise.\n",
      "    \n",
      "    isinf(x, /)\n",
      "        Return True if x is a positive or negative infinity, and False otherwise.\n",
      "    \n",
      "    isnan(x, /)\n",
      "        Return True if x is a NaN (not a number), and False otherwise.\n",
      "    \n",
      "    isqrt(n, /)\n",
      "        Return the integer part of the square root of the input.\n",
      "    \n",
      "    lcm(*integers)\n",
      "        Least Common Multiple.\n",
      "    \n",
      "    ldexp(x, i, /)\n",
      "        Return x * (2**i).\n",
      "        \n",
      "        This is essentially the inverse of frexp().\n",
      "    \n",
      "    lgamma(x, /)\n",
      "        Natural logarithm of absolute value of Gamma function at x.\n",
      "    \n",
      "    log(...)\n",
      "        log(x, [base=math.e])\n",
      "        Return the logarithm of x to the given base.\n",
      "        \n",
      "        If the base not specified, returns the natural logarithm (base e) of x.\n",
      "    \n",
      "    log10(x, /)\n",
      "        Return the base 10 logarithm of x.\n",
      "    \n",
      "    log1p(x, /)\n",
      "        Return the natural logarithm of 1+x (base e).\n",
      "        \n",
      "        The result is computed in a way which is accurate for x near zero.\n",
      "    \n",
      "    log2(x, /)\n",
      "        Return the base 2 logarithm of x.\n",
      "    \n",
      "    modf(x, /)\n",
      "        Return the fractional and integer parts of x.\n",
      "        \n",
      "        Both results carry the sign of x and are floats.\n",
      "    \n",
      "    nextafter(x, y, /)\n",
      "        Return the next floating-point value after x towards y.\n",
      "    \n",
      "    perm(n, k=None, /)\n",
      "        Number of ways to choose k items from n items without repetition and with order.\n",
      "        \n",
      "        Evaluates to n! / (n - k)! when k <= n and evaluates\n",
      "        to zero when k > n.\n",
      "        \n",
      "        If k is not specified or is None, then k defaults to n\n",
      "        and the function returns n!.\n",
      "        \n",
      "        Raises TypeError if either of the arguments are not integers.\n",
      "        Raises ValueError if either of the arguments are negative.\n",
      "    \n",
      "    pow(x, y, /)\n",
      "        Return x**y (x to the power of y).\n",
      "    \n",
      "    prod(iterable, /, *, start=1)\n",
      "        Calculate the product of all the elements in the input iterable.\n",
      "        \n",
      "        The default start value for the product is 1.\n",
      "        \n",
      "        When the iterable is empty, return the start value.  This function is\n",
      "        intended specifically for use with numeric values and may reject\n",
      "        non-numeric types.\n",
      "    \n",
      "    radians(x, /)\n",
      "        Convert angle x from degrees to radians.\n",
      "    \n",
      "    remainder(x, y, /)\n",
      "        Difference between x and the closest integer multiple of y.\n",
      "        \n",
      "        Return x - n*y where n*y is the closest integer multiple of y.\n",
      "        In the case where x is exactly halfway between two multiples of\n",
      "        y, the nearest even value of n is used. The result is always exact.\n",
      "    \n",
      "    sin(x, /)\n",
      "        Return the sine of x (measured in radians).\n",
      "    \n",
      "    sinh(x, /)\n",
      "        Return the hyperbolic sine of x.\n",
      "    \n",
      "    sqrt(x, /)\n",
      "        Return the square root of x.\n",
      "    \n",
      "    tan(x, /)\n",
      "        Return the tangent of x (measured in radians).\n",
      "    \n",
      "    tanh(x, /)\n",
      "        Return the hyperbolic tangent of x.\n",
      "    \n",
      "    trunc(x, /)\n",
      "        Truncates the Real x to the nearest Integral toward 0.\n",
      "        \n",
      "        Uses the __trunc__ magic method.\n",
      "    \n",
      "    ulp(x, /)\n",
      "        Return the value of the least significant bit of the float x.\n",
      "\n",
      "DATA\n",
      "    e = 2.718281828459045\n",
      "    inf = inf\n",
      "    nan = nan\n",
      "    pi = 3.141592653589793\n",
      "    tau = 6.283185307179586\n",
      "\n",
      "FILE\n",
      "    (built-in)\n",
      "\n",
      "\n"
     ]
    }
   ],
   "source": [
    "help(math)"
   ]
  },
  {
   "cell_type": "code",
   "execution_count": 3,
   "id": "c76fbf13",
   "metadata": {},
   "outputs": [],
   "source": [
    "# help(math)"
   ]
  },
  {
   "cell_type": "code",
   "execution_count": 4,
   "id": "c6e5a998",
   "metadata": {},
   "outputs": [],
   "source": [
    "value = 4.35"
   ]
  },
  {
   "cell_type": "code",
   "execution_count": 5,
   "id": "cdeebd6d",
   "metadata": {},
   "outputs": [
    {
     "data": {
      "text/plain": [
       "4"
      ]
     },
     "execution_count": 5,
     "metadata": {},
     "output_type": "execute_result"
    }
   ],
   "source": [
    "math.floor(value)"
   ]
  },
  {
   "cell_type": "code",
   "execution_count": 6,
   "id": "8453757a",
   "metadata": {},
   "outputs": [
    {
     "data": {
      "text/plain": [
       "5"
      ]
     },
     "execution_count": 6,
     "metadata": {},
     "output_type": "execute_result"
    }
   ],
   "source": [
    "math.ceil(value)"
   ]
  },
  {
   "cell_type": "code",
   "execution_count": 7,
   "id": "844b9120",
   "metadata": {},
   "outputs": [
    {
     "data": {
      "text/plain": [
       "4"
      ]
     },
     "execution_count": 7,
     "metadata": {},
     "output_type": "execute_result"
    }
   ],
   "source": [
    "round(4.35)"
   ]
  },
  {
   "cell_type": "code",
   "execution_count": 8,
   "id": "bafbbdae",
   "metadata": {},
   "outputs": [
    {
     "data": {
      "text/plain": [
       "4"
      ]
     },
     "execution_count": 8,
     "metadata": {},
     "output_type": "execute_result"
    }
   ],
   "source": [
    "round(4.5)"
   ]
  },
  {
   "cell_type": "code",
   "execution_count": 9,
   "id": "96f5334f",
   "metadata": {},
   "outputs": [
    {
     "data": {
      "text/plain": [
       "6"
      ]
     },
     "execution_count": 9,
     "metadata": {},
     "output_type": "execute_result"
    }
   ],
   "source": [
    "round(5.5)"
   ]
  },
  {
   "cell_type": "code",
   "execution_count": 10,
   "id": "8143c7aa",
   "metadata": {},
   "outputs": [
    {
     "data": {
      "text/plain": [
       "3.141592653589793"
      ]
     },
     "execution_count": 10,
     "metadata": {},
     "output_type": "execute_result"
    }
   ],
   "source": [
    "math.pi"
   ]
  },
  {
   "cell_type": "code",
   "execution_count": 11,
   "id": "ad04b8de",
   "metadata": {},
   "outputs": [],
   "source": [
    "from math import pi"
   ]
  },
  {
   "cell_type": "code",
   "execution_count": 12,
   "id": "451a9af0",
   "metadata": {},
   "outputs": [
    {
     "data": {
      "text/plain": [
       "3.141592653589793"
      ]
     },
     "execution_count": 12,
     "metadata": {},
     "output_type": "execute_result"
    }
   ],
   "source": [
    "pi"
   ]
  },
  {
   "cell_type": "code",
   "execution_count": 13,
   "id": "711dc9b4",
   "metadata": {},
   "outputs": [
    {
     "data": {
      "text/plain": [
       "2.718281828459045"
      ]
     },
     "execution_count": 13,
     "metadata": {},
     "output_type": "execute_result"
    }
   ],
   "source": [
    "math.e"
   ]
  },
  {
   "cell_type": "markdown",
   "id": "ede4919e",
   "metadata": {},
   "source": [
    "Math infinity"
   ]
  },
  {
   "cell_type": "code",
   "execution_count": 14,
   "id": "9842f824",
   "metadata": {},
   "outputs": [
    {
     "data": {
      "text/plain": [
       "inf"
      ]
     },
     "execution_count": 14,
     "metadata": {},
     "output_type": "execute_result"
    }
   ],
   "source": [
    "math.inf"
   ]
  },
  {
   "cell_type": "markdown",
   "id": "5c5c7aee",
   "metadata": {},
   "source": [
    "Math Not a Number"
   ]
  },
  {
   "cell_type": "code",
   "execution_count": 15,
   "id": "01fe7c87",
   "metadata": {},
   "outputs": [
    {
     "data": {
      "text/plain": [
       "nan"
      ]
     },
     "execution_count": 15,
     "metadata": {},
     "output_type": "execute_result"
    }
   ],
   "source": [
    "math.nan"
   ]
  },
  {
   "cell_type": "code",
   "execution_count": 16,
   "id": "b0f3af68",
   "metadata": {},
   "outputs": [],
   "source": [
    "# Numpy"
   ]
  },
  {
   "cell_type": "markdown",
   "id": "6429723d",
   "metadata": {},
   "source": [
    "Liabray specifically design for Numeric processing"
   ]
  },
  {
   "cell_type": "code",
   "execution_count": 17,
   "id": "3e0ab4ee",
   "metadata": {},
   "outputs": [
    {
     "data": {
      "text/plain": [
       "2.718281828459045"
      ]
     },
     "execution_count": 17,
     "metadata": {},
     "output_type": "execute_result"
    }
   ],
   "source": [
    "math.e"
   ]
  },
  {
   "cell_type": "code",
   "execution_count": 18,
   "id": "63aaeda2",
   "metadata": {},
   "outputs": [
    {
     "data": {
      "text/plain": [
       "1.0"
      ]
     },
     "execution_count": 18,
     "metadata": {},
     "output_type": "execute_result"
    }
   ],
   "source": [
    "math.log(math.e)"
   ]
  },
  {
   "cell_type": "markdown",
   "id": "0d8dbe97",
   "metadata": {},
   "source": [
    "Custom log based"
   ]
  },
  {
   "cell_type": "code",
   "execution_count": 19,
   "id": "4f06d4f3",
   "metadata": {},
   "outputs": [
    {
     "data": {
      "text/plain": [
       "2.0"
      ]
     },
     "execution_count": 19,
     "metadata": {},
     "output_type": "execute_result"
    }
   ],
   "source": [
    "math.log(100,10)"
   ]
  },
  {
   "cell_type": "code",
   "execution_count": 20,
   "id": "042f60c2",
   "metadata": {},
   "outputs": [
    {
     "data": {
      "text/plain": [
       "100"
      ]
     },
     "execution_count": 20,
     "metadata": {},
     "output_type": "execute_result"
    }
   ],
   "source": [
    "10**2"
   ]
  },
  {
   "cell_type": "code",
   "execution_count": 21,
   "id": "c882b012",
   "metadata": {},
   "outputs": [
    {
     "data": {
      "text/plain": [
       "-0.5440211108893698"
      ]
     },
     "execution_count": 21,
     "metadata": {},
     "output_type": "execute_result"
    }
   ],
   "source": [
    "math.sin(10)"
   ]
  },
  {
   "cell_type": "code",
   "execution_count": 22,
   "id": "cf955b3f",
   "metadata": {},
   "outputs": [
    {
     "data": {
      "text/plain": [
       "90.0"
      ]
     },
     "execution_count": 22,
     "metadata": {},
     "output_type": "execute_result"
    }
   ],
   "source": [
    "math.degrees(pi/2)"
   ]
  },
  {
   "cell_type": "markdown",
   "id": "29ef29cf",
   "metadata": {},
   "source": [
    "Math radians"
   ]
  },
  {
   "cell_type": "code",
   "execution_count": 23,
   "id": "d0d4d61e",
   "metadata": {},
   "outputs": [
    {
     "data": {
      "text/plain": [
       "3.141592653589793"
      ]
     },
     "execution_count": 23,
     "metadata": {},
     "output_type": "execute_result"
    }
   ],
   "source": [
    "math.radians(180)"
   ]
  },
  {
   "cell_type": "code",
   "execution_count": 24,
   "id": "b61bf9aa",
   "metadata": {},
   "outputs": [],
   "source": [
    "import random"
   ]
  },
  {
   "cell_type": "markdown",
   "id": "9f624312",
   "metadata": {},
   "source": [
    "# it always gives you a random num"
   ]
  },
  {
   "cell_type": "code",
   "execution_count": 25,
   "id": "99689bbb",
   "metadata": {},
   "outputs": [
    {
     "data": {
      "text/plain": [
       "53"
      ]
     },
     "execution_count": 25,
     "metadata": {},
     "output_type": "execute_result"
    }
   ],
   "source": [
    "random.randint(0,100)"
   ]
  },
  {
   "cell_type": "code",
   "execution_count": 26,
   "id": "90c9c881",
   "metadata": {},
   "outputs": [
    {
     "data": {
      "text/plain": [
       "74"
      ]
     },
     "execution_count": 26,
     "metadata": {},
     "output_type": "execute_result"
    }
   ],
   "source": [
    "random.seed(101)\n",
    "\n",
    "random.randint(0,100)"
   ]
  },
  {
   "cell_type": "code",
   "execution_count": 27,
   "id": "9c2a0638",
   "metadata": {},
   "outputs": [
    {
     "data": {
      "text/plain": [
       "24"
      ]
     },
     "execution_count": 27,
     "metadata": {},
     "output_type": "execute_result"
    }
   ],
   "source": [
    "random.randint(0,100)"
   ]
  },
  {
   "cell_type": "code",
   "execution_count": 28,
   "id": "78f1b9d2",
   "metadata": {},
   "outputs": [
    {
     "name": "stdout",
     "output_type": "stream",
     "text": [
      "69\n"
     ]
    }
   ],
   "source": [
    "print(random.randint(0,100))"
   ]
  },
  {
   "cell_type": "code",
   "execution_count": 29,
   "id": "07fa3c21",
   "metadata": {},
   "outputs": [
    {
     "name": "stdout",
     "output_type": "stream",
     "text": [
      "45\n",
      "59\n",
      "6\n",
      "84\n"
     ]
    }
   ],
   "source": [
    "print(random.randint(0,100))\n",
    "print(random.randint(0,100))\n",
    "print(random.randint(0,100))\n",
    "print(random.randint(0,100))"
   ]
  },
  {
   "cell_type": "code",
   "execution_count": 30,
   "id": "294222ae",
   "metadata": {},
   "outputs": [
    {
     "name": "stdout",
     "output_type": "stream",
     "text": [
      "74\n",
      "24\n",
      "69\n",
      "45\n"
     ]
    }
   ],
   "source": [
    "random.seed(101)\n",
    "print(random.randint(0,100)) # 45\n",
    "print(random.randint(0,100)) # 59\n",
    "print(random.randint(0,100)) # 6\n",
    "print(random.randint(0,100)) # 84"
   ]
  },
  {
   "cell_type": "code",
   "execution_count": 31,
   "id": "ca3049f5",
   "metadata": {},
   "outputs": [],
   "source": [
    "mylist = list(range(0,20))"
   ]
  },
  {
   "cell_type": "code",
   "execution_count": 32,
   "id": "86221f36",
   "metadata": {},
   "outputs": [
    {
     "data": {
      "text/plain": [
       "[0, 1, 2, 3, 4, 5, 6, 7, 8, 9, 10, 11, 12, 13, 14, 15, 16, 17, 18, 19]"
      ]
     },
     "execution_count": 32,
     "metadata": {},
     "output_type": "execute_result"
    }
   ],
   "source": [
    "mylist"
   ]
  },
  {
   "cell_type": "code",
   "execution_count": 33,
   "id": "57f149e6",
   "metadata": {},
   "outputs": [
    {
     "data": {
      "text/plain": [
       "14"
      ]
     },
     "execution_count": 33,
     "metadata": {},
     "output_type": "execute_result"
    }
   ],
   "source": [
    "random.choice(mylist)"
   ]
  },
  {
   "cell_type": "code",
   "execution_count": 34,
   "id": "f6688025",
   "metadata": {},
   "outputs": [
    {
     "data": {
      "text/plain": [
       "[0, 1, 2, 3, 4, 5, 6, 7, 8, 9, 10, 11, 12, 13, 14, 15, 16, 17, 18, 19]"
      ]
     },
     "execution_count": 34,
     "metadata": {},
     "output_type": "execute_result"
    }
   ],
   "source": [
    "mylist"
   ]
  },
  {
   "cell_type": "code",
   "execution_count": 35,
   "id": "51fe18a9",
   "metadata": {},
   "outputs": [],
   "source": [
    "# SAMPLE WITH REPLACEMENT"
   ]
  },
  {
   "cell_type": "code",
   "execution_count": 39,
   "id": "d036b7f1",
   "metadata": {},
   "outputs": [
    {
     "data": {
      "text/plain": [
       "[13, 12, 6, 17, 5, 15, 4, 1, 14, 8]"
      ]
     },
     "execution_count": 39,
     "metadata": {},
     "output_type": "execute_result"
    }
   ],
   "source": [
    "random.choices(population=mylist,k=10)"
   ]
  },
  {
   "cell_type": "markdown",
   "id": "6ae502bf",
   "metadata": {},
   "source": [
    "Below once you pick the number, next you are not allowed to pick the same num"
   ]
  },
  {
   "cell_type": "code",
   "execution_count": 40,
   "id": "c32caf70",
   "metadata": {},
   "outputs": [
    {
     "data": {
      "text/plain": [
       "[17, 4, 1, 15, 7, 7, 5, 16, 19, 8]"
      ]
     },
     "execution_count": 40,
     "metadata": {},
     "output_type": "execute_result"
    }
   ],
   "source": [
    "# SAMPLE WITHOUT REPLACEMENT\n",
    "random.choices(population=mylist,k=10)"
   ]
  },
  {
   "cell_type": "code",
   "execution_count": 41,
   "id": "b27b4aae",
   "metadata": {},
   "outputs": [
    {
     "data": {
      "text/plain": [
       "[0, 1, 2, 3, 4, 5, 6, 7, 8, 9, 10, 11, 12, 13, 14, 15, 16, 17, 18, 19]"
      ]
     },
     "execution_count": 41,
     "metadata": {},
     "output_type": "execute_result"
    }
   ],
   "source": [
    "mylist"
   ]
  },
  {
   "cell_type": "code",
   "execution_count": 42,
   "id": "30fee077",
   "metadata": {},
   "outputs": [],
   "source": [
    "random.shuffle(mylist)"
   ]
  },
  {
   "cell_type": "code",
   "execution_count": 43,
   "id": "268c0bdd",
   "metadata": {},
   "outputs": [
    {
     "data": {
      "text/plain": [
       "[5, 13, 3, 0, 16, 1, 6, 17, 19, 15, 18, 7, 9, 10, 14, 11, 12, 4, 2, 8]"
      ]
     },
     "execution_count": 43,
     "metadata": {},
     "output_type": "execute_result"
    }
   ],
   "source": [
    "mylist"
   ]
  },
  {
   "cell_type": "markdown",
   "id": "ad9833fd",
   "metadata": {},
   "source": [
    "Probability distribution available in liabrary"
   ]
  },
  {
   "cell_type": "markdown",
   "id": "ce2a1436",
   "metadata": {},
   "source": [
    "Below you can take int and floating numbers too"
   ]
  },
  {
   "cell_type": "code",
   "execution_count": 44,
   "id": "7605b63f",
   "metadata": {},
   "outputs": [
    {
     "data": {
      "text/plain": [
       "3.199293148275606"
      ]
     },
     "execution_count": 44,
     "metadata": {},
     "output_type": "execute_result"
    }
   ],
   "source": [
    "random.uniform(a=0,b=100)"
   ]
  },
  {
   "cell_type": "markdown",
   "id": "bd00c31b",
   "metadata": {},
   "source": [
    "Callable"
   ]
  },
  {
   "cell_type": "code",
   "execution_count": 45,
   "id": "09cfc52d",
   "metadata": {},
   "outputs": [
    {
     "data": {
      "text/plain": [
       "-1.3680719011332"
      ]
     },
     "execution_count": 45,
     "metadata": {},
     "output_type": "execute_result"
    }
   ],
   "source": [
    "random.gauss(mu=0,sigma=1)"
   ]
  },
  {
   "cell_type": "code",
   "execution_count": 46,
   "id": "722c9d8f",
   "metadata": {},
   "outputs": [],
   "source": [
    "# NUMPY"
   ]
  },
  {
   "cell_type": "markdown",
   "id": "4dcb9147",
   "metadata": {},
   "source": [
    "PY Debugger"
   ]
  },
  {
   "cell_type": "markdown",
   "id": "163f0aee",
   "metadata": {},
   "source": [
    "Creating a list"
   ]
  },
  {
   "cell_type": "code",
   "execution_count": 47,
   "id": "e18d60c2",
   "metadata": {},
   "outputs": [
    {
     "ename": "TypeError",
     "evalue": "can only concatenate list (not \"int\") to list",
     "output_type": "error",
     "traceback": [
      "\u001b[1;31m---------------------------------------------------------------------------\u001b[0m",
      "\u001b[1;31mTypeError\u001b[0m                                 Traceback (most recent call last)",
      "Input \u001b[1;32mIn [47]\u001b[0m, in \u001b[0;36m<cell line: 6>\u001b[1;34m()\u001b[0m\n\u001b[0;32m      3\u001b[0m z \u001b[38;5;241m=\u001b[39m \u001b[38;5;241m3\u001b[39m\n\u001b[0;32m      5\u001b[0m result \u001b[38;5;241m=\u001b[39m y \u001b[38;5;241m+\u001b[39m z\n\u001b[1;32m----> 6\u001b[0m result2 \u001b[38;5;241m=\u001b[39m \u001b[43mx\u001b[49m\u001b[43m \u001b[49m\u001b[38;5;241;43m+\u001b[39;49m\u001b[43m \u001b[49m\u001b[43my\u001b[49m\n",
      "\u001b[1;31mTypeError\u001b[0m: can only concatenate list (not \"int\") to list"
     ]
    }
   ],
   "source": [
    "x = [1,2,3]\n",
    "y = 2\n",
    "z = 3\n",
    "\n",
    "result = y + z\n",
    "result2 = x + y"
   ]
  },
  {
   "cell_type": "code",
   "execution_count": 48,
   "id": "c7cf9c55",
   "metadata": {},
   "outputs": [
    {
     "name": "stdout",
     "output_type": "stream",
     "text": [
      "5\n"
     ]
    },
    {
     "ename": "TypeError",
     "evalue": "can only concatenate list (not \"int\") to list",
     "output_type": "error",
     "traceback": [
      "\u001b[1;31m---------------------------------------------------------------------------\u001b[0m",
      "\u001b[1;31mTypeError\u001b[0m                                 Traceback (most recent call last)",
      "Input \u001b[1;32mIn [48]\u001b[0m, in \u001b[0;36m<cell line: 7>\u001b[1;34m()\u001b[0m\n\u001b[0;32m      5\u001b[0m result \u001b[38;5;241m=\u001b[39m y \u001b[38;5;241m+\u001b[39m z\n\u001b[0;32m      6\u001b[0m \u001b[38;5;28mprint\u001b[39m(result)\n\u001b[1;32m----> 7\u001b[0m result2 \u001b[38;5;241m=\u001b[39m \u001b[43mx\u001b[49m\u001b[43m \u001b[49m\u001b[38;5;241;43m+\u001b[39;49m\u001b[43m \u001b[49m\u001b[43my\u001b[49m\n\u001b[0;32m      8\u001b[0m \u001b[38;5;28mprint\u001b[39m(y)\n\u001b[0;32m      9\u001b[0m \u001b[38;5;28mprint\u001b[39m(result2)\n",
      "\u001b[1;31mTypeError\u001b[0m: can only concatenate list (not \"int\") to list"
     ]
    }
   ],
   "source": [
    "x = [1,2,3]\n",
    "y = 2\n",
    "z = 3\n",
    "\n",
    "result = y + z\n",
    "print(result)\n",
    "result2 = x + y\n",
    "print(y)\n",
    "print(result2)"
   ]
  },
  {
   "cell_type": "markdown",
   "id": "a865c0b0",
   "metadata": {},
   "source": [
    "# Set a PY debugger to set a trace\n"
   ]
  },
  {
   "cell_type": "markdown",
   "id": "59afc85e",
   "metadata": {},
   "source": [
    "below is the variable-pdb is Python debugger"
   ]
  },
  {
   "cell_type": "code",
   "execution_count": 49,
   "id": "23d0d864",
   "metadata": {},
   "outputs": [],
   "source": [
    "x = [1,2,3]\n",
    "y = 2\n",
    "z = 3"
   ]
  },
  {
   "cell_type": "code",
   "execution_count": 50,
   "id": "ecd5e6cb",
   "metadata": {},
   "outputs": [],
   "source": [
    "import pdb"
   ]
  },
  {
   "cell_type": "code",
   "execution_count": 51,
   "id": "e6d3e67b",
   "metadata": {},
   "outputs": [
    {
     "ename": "TypeError",
     "evalue": "unsupported operand type(s) for +: 'int' and 'list'",
     "output_type": "error",
     "traceback": [
      "\u001b[1;31m---------------------------------------------------------------------------\u001b[0m",
      "\u001b[1;31mTypeError\u001b[0m                                 Traceback (most recent call last)",
      "Input \u001b[1;32mIn [51]\u001b[0m, in \u001b[0;36m<cell line: 7>\u001b[1;34m()\u001b[0m\n\u001b[0;32m      3\u001b[0m z \u001b[38;5;241m=\u001b[39m \u001b[38;5;241m3\u001b[39m\n\u001b[0;32m      5\u001b[0m result_one \u001b[38;5;241m=\u001b[39m y \u001b[38;5;241m+\u001b[39m z\n\u001b[1;32m----> 7\u001b[0m result_two \u001b[38;5;241m=\u001b[39m \u001b[43my\u001b[49m\u001b[43m \u001b[49m\u001b[38;5;241;43m+\u001b[39;49m\u001b[43m \u001b[49m\u001b[43mx\u001b[49m\n",
      "\u001b[1;31mTypeError\u001b[0m: unsupported operand type(s) for +: 'int' and 'list'"
     ]
    }
   ],
   "source": [
    "x = [1,2,3]\n",
    "y = 2\n",
    "z = 3\n",
    "\n",
    "result_one = y + z\n",
    "\n",
    "result_two = y + x"
   ]
  },
  {
   "cell_type": "markdown",
   "id": "7491077d",
   "metadata": {},
   "source": [
    "Set a trace with debugger below"
   ]
  },
  {
   "cell_type": "markdown",
   "id": "bfdae2a3",
   "metadata": {},
   "source": [
    "# q is to Quit the debugger"
   ]
  },
  {
   "cell_type": "code",
   "execution_count": 52,
   "id": "ac71cec5",
   "metadata": {},
   "outputs": [
    {
     "name": "stdout",
     "output_type": "stream",
     "text": [
      "--Return--\n",
      "None\n",
      "> \u001b[1;32mc:\\users\\deept\\appdata\\local\\temp\\ipykernel_16988\\1912475531.py\u001b[0m(7)\u001b[0;36m<cell line: 7>\u001b[1;34m()\u001b[0m\n",
      "\n",
      "ipdb> x\n",
      "[1, 2, 3]\n",
      "ipdb> y\n",
      "2\n",
      "ipdb> result_one\n",
      "5\n",
      "ipdb> result_two\n",
      "*** NameError: name 'result_two' is not defined\n",
      "ipdb> y\n",
      "2\n",
      "ipdb> x\n",
      "[1, 2, 3]\n",
      "ipdb> q\n"
     ]
    },
    {
     "ename": "BdbQuit",
     "evalue": "",
     "output_type": "error",
     "traceback": [
      "\u001b[1;31m---------------------------------------------------------------------------\u001b[0m",
      "\u001b[1;31mBdbQuit\u001b[0m                                   Traceback (most recent call last)",
      "Input \u001b[1;32mIn [52]\u001b[0m, in \u001b[0;36m<cell line: 7>\u001b[1;34m()\u001b[0m\n\u001b[0;32m      3\u001b[0m z \u001b[38;5;241m=\u001b[39m \u001b[38;5;241m3\u001b[39m\n\u001b[0;32m      5\u001b[0m result_one \u001b[38;5;241m=\u001b[39m y \u001b[38;5;241m+\u001b[39m z\n\u001b[1;32m----> 7\u001b[0m pdb\u001b[38;5;241m.\u001b[39mset_trace()\n\u001b[0;32m      9\u001b[0m result_two \u001b[38;5;241m=\u001b[39m y \u001b[38;5;241m+\u001b[39m x\n",
      "File \u001b[1;32m~\\anaconda3\\lib\\bdb.py:92\u001b[0m, in \u001b[0;36mBdb.trace_dispatch\u001b[1;34m(self, frame, event, arg)\u001b[0m\n\u001b[0;32m     90\u001b[0m     \u001b[38;5;28;01mreturn\u001b[39;00m \u001b[38;5;28mself\u001b[39m\u001b[38;5;241m.\u001b[39mdispatch_call(frame, arg)\n\u001b[0;32m     91\u001b[0m \u001b[38;5;28;01mif\u001b[39;00m event \u001b[38;5;241m==\u001b[39m \u001b[38;5;124m'\u001b[39m\u001b[38;5;124mreturn\u001b[39m\u001b[38;5;124m'\u001b[39m:\n\u001b[1;32m---> 92\u001b[0m     \u001b[38;5;28;01mreturn\u001b[39;00m \u001b[38;5;28;43mself\u001b[39;49m\u001b[38;5;241;43m.\u001b[39;49m\u001b[43mdispatch_return\u001b[49m\u001b[43m(\u001b[49m\u001b[43mframe\u001b[49m\u001b[43m,\u001b[49m\u001b[43m \u001b[49m\u001b[43marg\u001b[49m\u001b[43m)\u001b[49m\n\u001b[0;32m     93\u001b[0m \u001b[38;5;28;01mif\u001b[39;00m event \u001b[38;5;241m==\u001b[39m \u001b[38;5;124m'\u001b[39m\u001b[38;5;124mexception\u001b[39m\u001b[38;5;124m'\u001b[39m:\n\u001b[0;32m     94\u001b[0m     \u001b[38;5;28;01mreturn\u001b[39;00m \u001b[38;5;28mself\u001b[39m\u001b[38;5;241m.\u001b[39mdispatch_exception(frame, arg)\n",
      "File \u001b[1;32m~\\anaconda3\\lib\\bdb.py:154\u001b[0m, in \u001b[0;36mBdb.dispatch_return\u001b[1;34m(self, frame, arg)\u001b[0m\n\u001b[0;32m    152\u001b[0m \u001b[38;5;28;01mfinally\u001b[39;00m:\n\u001b[0;32m    153\u001b[0m     \u001b[38;5;28mself\u001b[39m\u001b[38;5;241m.\u001b[39mframe_returning \u001b[38;5;241m=\u001b[39m \u001b[38;5;28;01mNone\u001b[39;00m\n\u001b[1;32m--> 154\u001b[0m \u001b[38;5;28;01mif\u001b[39;00m \u001b[38;5;28mself\u001b[39m\u001b[38;5;241m.\u001b[39mquitting: \u001b[38;5;28;01mraise\u001b[39;00m BdbQuit\n\u001b[0;32m    155\u001b[0m \u001b[38;5;66;03m# The user issued a 'next' or 'until' command.\u001b[39;00m\n\u001b[0;32m    156\u001b[0m \u001b[38;5;28;01mif\u001b[39;00m \u001b[38;5;28mself\u001b[39m\u001b[38;5;241m.\u001b[39mstopframe \u001b[38;5;129;01mis\u001b[39;00m frame \u001b[38;5;129;01mand\u001b[39;00m \u001b[38;5;28mself\u001b[39m\u001b[38;5;241m.\u001b[39mstoplineno \u001b[38;5;241m!=\u001b[39m \u001b[38;5;241m-\u001b[39m\u001b[38;5;241m1\u001b[39m:\n",
      "\u001b[1;31mBdbQuit\u001b[0m: "
     ]
    }
   ],
   "source": [
    "x = [1,2,3]\n",
    "y = 2\n",
    "z = 3\n",
    "\n",
    "result_one = y + z\n",
    "\n",
    "pdb.set_trace()\n",
    "\n",
    "result_two = y + x"
   ]
  },
  {
   "cell_type": "markdown",
   "id": "dff2bce9",
   "metadata": {},
   "source": [
    "PY Regular expression -part 1"
   ]
  },
  {
   "cell_type": "code",
   "execution_count": 53,
   "id": "5e1ca39b",
   "metadata": {},
   "outputs": [],
   "source": [
    "text = \"The agent's phone number is 408-555-1234. Call soon!\""
   ]
  },
  {
   "cell_type": "code",
   "execution_count": 54,
   "id": "fa181287",
   "metadata": {},
   "outputs": [
    {
     "data": {
      "text/plain": [
       "True"
      ]
     },
     "execution_count": 54,
     "metadata": {},
     "output_type": "execute_result"
    }
   ],
   "source": [
    "'phone' in text"
   ]
  },
  {
   "cell_type": "markdown",
   "id": "53302957",
   "metadata": {},
   "source": [
    "Regular expression Module - re"
   ]
  },
  {
   "cell_type": "code",
   "execution_count": 55,
   "id": "6c459258",
   "metadata": {},
   "outputs": [],
   "source": [
    "import re"
   ]
  },
  {
   "cell_type": "code",
   "execution_count": 56,
   "id": "afbf86f5",
   "metadata": {},
   "outputs": [],
   "source": [
    "pattern = 'phone'"
   ]
  },
  {
   "cell_type": "markdown",
   "id": "1e773bd6",
   "metadata": {},
   "source": [
    "Below match object will also help you to find the index location and mod"
   ]
  },
  {
   "cell_type": "code",
   "execution_count": 57,
   "id": "d70c9d3b",
   "metadata": {},
   "outputs": [
    {
     "data": {
      "text/plain": [
       "<re.Match object; span=(12, 17), match='phone'>"
      ]
     },
     "execution_count": 57,
     "metadata": {},
     "output_type": "execute_result"
    }
   ],
   "source": [
    "re.search(pattern,text)"
   ]
  },
  {
   "cell_type": "code",
   "execution_count": 58,
   "id": "3ab824a0",
   "metadata": {},
   "outputs": [],
   "source": [
    "pattern = 'NOT IN TEXT'"
   ]
  },
  {
   "cell_type": "markdown",
   "id": "182712a3",
   "metadata": {},
   "source": [
    "NO pattern is found, none is return"
   ]
  },
  {
   "cell_type": "code",
   "execution_count": 59,
   "id": "e74b11d6",
   "metadata": {},
   "outputs": [],
   "source": [
    "re.search(pattern,text)"
   ]
  },
  {
   "cell_type": "code",
   "execution_count": 60,
   "id": "685117a7",
   "metadata": {},
   "outputs": [],
   "source": [
    "pattern = 'phone'"
   ]
  },
  {
   "cell_type": "code",
   "execution_count": 61,
   "id": "78b94540",
   "metadata": {},
   "outputs": [],
   "source": [
    "match = re.search(pattern,text)"
   ]
  },
  {
   "cell_type": "code",
   "execution_count": 62,
   "id": "3fa6dbb8",
   "metadata": {},
   "outputs": [
    {
     "data": {
      "text/plain": [
       "<re.Match object; span=(12, 17), match='phone'>"
      ]
     },
     "execution_count": 62,
     "metadata": {},
     "output_type": "execute_result"
    }
   ],
   "source": [
    "match"
   ]
  },
  {
   "cell_type": "code",
   "execution_count": 63,
   "id": "1101250c",
   "metadata": {},
   "outputs": [
    {
     "data": {
      "text/plain": [
       "(12, 17)"
      ]
     },
     "execution_count": 63,
     "metadata": {},
     "output_type": "execute_result"
    }
   ],
   "source": [
    "match.span()"
   ]
  },
  {
   "cell_type": "code",
   "execution_count": 64,
   "id": "d02255eb",
   "metadata": {},
   "outputs": [
    {
     "data": {
      "text/plain": [
       "<function Match.start(group=0, /)>"
      ]
     },
     "execution_count": 64,
     "metadata": {},
     "output_type": "execute_result"
    }
   ],
   "source": [
    "match.start"
   ]
  },
  {
   "cell_type": "code",
   "execution_count": 65,
   "id": "733134dd",
   "metadata": {},
   "outputs": [
    {
     "data": {
      "text/plain": [
       "<function Match.end(group=0, /)>"
      ]
     },
     "execution_count": 65,
     "metadata": {},
     "output_type": "execute_result"
    }
   ],
   "source": [
    "match.end"
   ]
  },
  {
   "cell_type": "code",
   "execution_count": 66,
   "id": "f5f11649",
   "metadata": {},
   "outputs": [
    {
     "data": {
      "text/plain": [
       "12"
      ]
     },
     "execution_count": 66,
     "metadata": {},
     "output_type": "execute_result"
    }
   ],
   "source": [
    "match.start()"
   ]
  },
  {
   "cell_type": "code",
   "execution_count": 67,
   "id": "429bdda2",
   "metadata": {},
   "outputs": [
    {
     "data": {
      "text/plain": [
       "17"
      ]
     },
     "execution_count": 67,
     "metadata": {},
     "output_type": "execute_result"
    }
   ],
   "source": [
    "match.end()"
   ]
  },
  {
   "cell_type": "code",
   "execution_count": 68,
   "id": "41d0d88d",
   "metadata": {},
   "outputs": [],
   "source": [
    "text = 'my phone once, my phone twice'"
   ]
  },
  {
   "cell_type": "code",
   "execution_count": 69,
   "id": "99bec6f8",
   "metadata": {},
   "outputs": [],
   "source": [
    "match = re.search('phone',text)"
   ]
  },
  {
   "cell_type": "code",
   "execution_count": 70,
   "id": "ece8cb11",
   "metadata": {},
   "outputs": [
    {
     "data": {
      "text/plain": [
       "<re.Match object; span=(3, 8), match='phone'>"
      ]
     },
     "execution_count": 70,
     "metadata": {},
     "output_type": "execute_result"
    }
   ],
   "source": [
    "match"
   ]
  },
  {
   "cell_type": "code",
   "execution_count": 71,
   "id": "ffb92b91",
   "metadata": {},
   "outputs": [],
   "source": [
    "matches = re.findall('phone',text)"
   ]
  },
  {
   "cell_type": "code",
   "execution_count": 73,
   "id": "3eca5b3e",
   "metadata": {},
   "outputs": [
    {
     "data": {
      "text/plain": [
       "['phone', 'phone']"
      ]
     },
     "execution_count": 73,
     "metadata": {},
     "output_type": "execute_result"
    }
   ],
   "source": [
    "matches"
   ]
  },
  {
   "cell_type": "code",
   "execution_count": 74,
   "id": "5a74a96c",
   "metadata": {},
   "outputs": [
    {
     "data": {
      "text/plain": [
       "2"
      ]
     },
     "execution_count": 74,
     "metadata": {},
     "output_type": "execute_result"
    }
   ],
   "source": [
    "len(matches)"
   ]
  },
  {
   "cell_type": "code",
   "execution_count": 76,
   "id": "ed7ab461",
   "metadata": {},
   "outputs": [
    {
     "name": "stdout",
     "output_type": "stream",
     "text": [
      "<re.Match object; span=(3, 8), match='phone'>\n",
      "<re.Match object; span=(18, 23), match='phone'>\n"
     ]
    }
   ],
   "source": [
    "for match in re.finditer('phone',text):\n",
    "    print(match)"
   ]
  },
  {
   "cell_type": "code",
   "execution_count": 77,
   "id": "6ea1de1e",
   "metadata": {},
   "outputs": [
    {
     "name": "stdout",
     "output_type": "stream",
     "text": [
      "(3, 8)\n",
      "(18, 23)\n"
     ]
    }
   ],
   "source": [
    "for match in re.finditer('phone',text):\n",
    "    print(match.span())"
   ]
  },
  {
   "cell_type": "markdown",
   "id": "a3028937",
   "metadata": {},
   "source": [
    "Want to match all the text- use group method"
   ]
  },
  {
   "cell_type": "code",
   "execution_count": 78,
   "id": "d1efd4e9",
   "metadata": {},
   "outputs": [
    {
     "name": "stdout",
     "output_type": "stream",
     "text": [
      "phone\n",
      "phone\n"
     ]
    }
   ],
   "source": [
    "for match in re.finditer('phone',text):\n",
    "    print(match.group())"
   ]
  },
  {
   "cell_type": "markdown",
   "id": "b1b468e3",
   "metadata": {},
   "source": [
    "PY Regular expression -part 1\n",
    "# in build in patterns"
   ]
  },
  {
   "cell_type": "code",
   "execution_count": 79,
   "id": "21cd3e19",
   "metadata": {},
   "outputs": [],
   "source": [
    "text = \"My telephone number is 408-555-1234\""
   ]
  },
  {
   "cell_type": "code",
   "execution_count": 80,
   "id": "95359e4d",
   "metadata": {},
   "outputs": [],
   "source": [
    "phone = re.search('408-555-1234',text)"
   ]
  },
  {
   "cell_type": "code",
   "execution_count": 81,
   "id": "601a8ced",
   "metadata": {},
   "outputs": [
    {
     "data": {
      "text/plain": [
       "<re.Match object; span=(23, 35), match='408-555-1234'>"
      ]
     },
     "execution_count": 81,
     "metadata": {},
     "output_type": "execute_result"
    }
   ],
   "source": [
    "phone"
   ]
  },
  {
   "cell_type": "markdown",
   "id": "5d52db96",
   "metadata": {},
   "source": [
    "Build in Character Identifiers"
   ]
  },
  {
   "cell_type": "markdown",
   "id": "4c3d0990",
   "metadata": {},
   "source": [
    "# We may not always know the number"
   ]
  },
  {
   "cell_type": "markdown",
   "id": "2ba7fe75",
   "metadata": {},
   "source": [
    "\\ - Backslashes indicates special escape character"
   ]
  },
  {
   "cell_type": "code",
   "execution_count": 82,
   "id": "395156df",
   "metadata": {},
   "outputs": [],
   "source": [
    "phone = re.search(r'\\d\\d\\d-\\d\\d\\d-\\d\\d\\d\\d',text)"
   ]
  },
  {
   "cell_type": "code",
   "execution_count": 83,
   "id": "966c11d6",
   "metadata": {},
   "outputs": [
    {
     "data": {
      "text/plain": [
       "<re.Match object; span=(23, 35), match='408-555-1234'>"
      ]
     },
     "execution_count": 83,
     "metadata": {},
     "output_type": "execute_result"
    }
   ],
   "source": [
    "phone\n"
   ]
  },
  {
   "cell_type": "markdown",
   "id": "5c04acb9",
   "metadata": {},
   "source": [
    "If you wanna change the numbers- still it will get a match"
   ]
  },
  {
   "cell_type": "code",
   "execution_count": 84,
   "id": "c2a5cc8c",
   "metadata": {},
   "outputs": [],
   "source": [
    "text = \"My telephone number is 408-555-7777\""
   ]
  },
  {
   "cell_type": "code",
   "execution_count": 85,
   "id": "7a66a18b",
   "metadata": {},
   "outputs": [],
   "source": [
    "phone = re.search('408-555-7777',text)"
   ]
  },
  {
   "cell_type": "code",
   "execution_count": 86,
   "id": "29154ca4",
   "metadata": {},
   "outputs": [
    {
     "data": {
      "text/plain": [
       "<re.Match object; span=(23, 35), match='408-555-7777'>"
      ]
     },
     "execution_count": 86,
     "metadata": {},
     "output_type": "execute_result"
    }
   ],
   "source": [
    "phone"
   ]
  },
  {
   "cell_type": "code",
   "execution_count": 87,
   "id": "b8c762c8",
   "metadata": {},
   "outputs": [
    {
     "data": {
      "text/plain": [
       "'408-555-7777'"
      ]
     },
     "execution_count": 87,
     "metadata": {},
     "output_type": "execute_result"
    }
   ],
   "source": [
    "phone.group()"
   ]
  },
  {
   "cell_type": "markdown",
   "id": "0db613c3",
   "metadata": {},
   "source": [
    "Quantifiers"
   ]
  },
  {
   "cell_type": "markdown",
   "id": "78f69a6e",
   "metadata": {},
   "source": [
    "Let's rewrite our pattern using these quantifiers:"
   ]
  },
  {
   "cell_type": "markdown",
   "id": "3079415a",
   "metadata": {},
   "source": [
    "Using Character Identifiers"
   ]
  },
  {
   "cell_type": "code",
   "execution_count": 88,
   "id": "70e15035",
   "metadata": {},
   "outputs": [
    {
     "data": {
      "text/plain": [
       "<re.Match object; span=(23, 35), match='408-555-7777'>"
      ]
     },
     "execution_count": 88,
     "metadata": {},
     "output_type": "execute_result"
    }
   ],
   "source": [
    "re.search(r'\\d{3}-\\d{3}-\\d{4}',text)"
   ]
  },
  {
   "cell_type": "code",
   "execution_count": 89,
   "id": "bf9379ad",
   "metadata": {},
   "outputs": [],
   "source": [
    "phone = re.search(r'\\d{3}-\\d{3}-\\d{4}',text)"
   ]
  },
  {
   "cell_type": "code",
   "execution_count": 90,
   "id": "f38bfc9a",
   "metadata": {},
   "outputs": [
    {
     "data": {
      "text/plain": [
       "<re.Match object; span=(23, 35), match='408-555-7777'>"
      ]
     },
     "execution_count": 90,
     "metadata": {},
     "output_type": "execute_result"
    }
   ],
   "source": [
    "phone"
   ]
  },
  {
   "cell_type": "markdown",
   "id": "26916c8e",
   "metadata": {},
   "source": [
    "Groups\n",
    "# Using the phone number example, we can separate groups of regular expressions using parenthesis:"
   ]
  },
  {
   "cell_type": "code",
   "execution_count": 91,
   "id": "42f7091d",
   "metadata": {},
   "outputs": [],
   "source": [
    "phone_pattern = re.compile(r'(\\d{3})-(\\d{3})-(\\d{4})')"
   ]
  },
  {
   "cell_type": "code",
   "execution_count": 92,
   "id": "6e0e6466",
   "metadata": {},
   "outputs": [],
   "source": [
    "results = re.search(phone_pattern,text)"
   ]
  },
  {
   "cell_type": "code",
   "execution_count": 93,
   "id": "529ef925",
   "metadata": {},
   "outputs": [
    {
     "data": {
      "text/plain": [
       "'408-555-7777'"
      ]
     },
     "execution_count": 93,
     "metadata": {},
     "output_type": "execute_result"
    }
   ],
   "source": [
    "# The entire result\n",
    "results.group()"
   ]
  },
  {
   "cell_type": "code",
   "execution_count": 94,
   "id": "764e8caf",
   "metadata": {},
   "outputs": [
    {
     "data": {
      "text/plain": [
       "'408'"
      ]
     },
     "execution_count": 94,
     "metadata": {},
     "output_type": "execute_result"
    }
   ],
   "source": [
    "# Can then also call by group position.\n",
    "# remember groups were separated by parenthesis ()\n",
    "# Something to note is that group ordering starts at 1. Passing in 0 returns everything\n",
    "results.group(1)"
   ]
  },
  {
   "cell_type": "code",
   "execution_count": 95,
   "id": "22c39920",
   "metadata": {},
   "outputs": [
    {
     "data": {
      "text/plain": [
       "'555'"
      ]
     },
     "execution_count": 95,
     "metadata": {},
     "output_type": "execute_result"
    }
   ],
   "source": [
    "results.group(2)"
   ]
  },
  {
   "cell_type": "code",
   "execution_count": 96,
   "id": "8649b92a",
   "metadata": {},
   "outputs": [
    {
     "data": {
      "text/plain": [
       "'7777'"
      ]
     },
     "execution_count": 96,
     "metadata": {},
     "output_type": "execute_result"
    }
   ],
   "source": [
    "results.group(3)"
   ]
  },
  {
   "cell_type": "markdown",
   "id": "5bd5deea",
   "metadata": {},
   "source": [
    "PY Regular expression -part 3\n",
    "# Additional Regex Syntax\n",
    "# Or operator | to find multiple terms\n",
    "# Use the pipe operator to have an or statment. For example"
   ]
  },
  {
   "cell_type": "code",
   "execution_count": 97,
   "id": "908e5406",
   "metadata": {},
   "outputs": [],
   "source": [
    "re.search(r'cat','The dog is here')"
   ]
  },
  {
   "cell_type": "code",
   "execution_count": 99,
   "id": "50b2d8cc",
   "metadata": {},
   "outputs": [
    {
     "data": {
      "text/plain": [
       "<re.Match object; span=(4, 7), match='cat'>"
      ]
     },
     "execution_count": 99,
     "metadata": {},
     "output_type": "execute_result"
    }
   ],
   "source": [
    "re.search(r'cat|dog','The cat is here')"
   ]
  },
  {
   "cell_type": "markdown",
   "id": "e42fb182",
   "metadata": {},
   "source": [
    "The Wildcard Character\n",
    "Use a \"wildcard\" as a placement that will match any character placed there. You can use a simple period . for this. For example:"
   ]
  },
  {
   "cell_type": "code",
   "execution_count": 103,
   "id": "1f1e14a8",
   "metadata": {},
   "outputs": [
    {
     "data": {
      "text/plain": [
       "['cat', 'hat', 'sat']"
      ]
     },
     "execution_count": 103,
     "metadata": {},
     "output_type": "execute_result"
    }
   ],
   "source": [
    "re.findall(r\".at\",\"The cat in the hat sat here.\")"
   ]
  },
  {
   "cell_type": "markdown",
   "id": "adf4371f",
   "metadata": {},
   "source": [
    "Look at the diff below- simple - Wild card -.at - 'at'"
   ]
  },
  {
   "cell_type": "code",
   "execution_count": 102,
   "id": "2deabc6d",
   "metadata": {},
   "outputs": [
    {
     "data": {
      "text/plain": [
       "['at', 'at', 'at']"
      ]
     },
     "execution_count": 102,
     "metadata": {},
     "output_type": "execute_result"
    }
   ],
   "source": [
    "re.findall(r'at','The cat in the hat sat there')"
   ]
  },
  {
   "cell_type": "markdown",
   "id": "09c67d84",
   "metadata": {},
   "source": [
    "Counts the space and e cat - 4"
   ]
  },
  {
   "cell_type": "code",
   "execution_count": 104,
   "id": "1f9d19e3",
   "metadata": {},
   "outputs": [
    {
     "data": {
      "text/plain": [
       "['e cat', 'e hat', 'splat']"
      ]
     },
     "execution_count": 104,
     "metadata": {},
     "output_type": "execute_result"
    }
   ],
   "source": [
    "re.findall(r'...at','The cat in the hat went splat')"
   ]
  },
  {
   "cell_type": "code",
   "execution_count": 105,
   "id": "7b44f343",
   "metadata": {},
   "outputs": [
    {
     "data": {
      "text/plain": [
       "['1']"
      ]
     },
     "execution_count": 105,
     "metadata": {},
     "output_type": "execute_result"
    }
   ],
   "source": [
    "\n",
    "# Starts with a number\n",
    "re.findall(r'^\\d','1 is a number')"
   ]
  },
  {
   "cell_type": "code",
   "execution_count": 106,
   "id": "97746920",
   "metadata": {},
   "outputs": [
    {
     "data": {
      "text/plain": [
       "[]"
      ]
     },
     "execution_count": 106,
     "metadata": {},
     "output_type": "execute_result"
    }
   ],
   "source": [
    "re.findall(r'^\\d','The 2 is a number')"
   ]
  },
  {
   "cell_type": "code",
   "execution_count": 107,
   "id": "faa7ba03",
   "metadata": {},
   "outputs": [
    {
     "data": {
      "text/plain": [
       "['2']"
      ]
     },
     "execution_count": 107,
     "metadata": {},
     "output_type": "execute_result"
    }
   ],
   "source": [
    "re.findall(r'^\\d','2 is a number')"
   ]
  },
  {
   "cell_type": "code",
   "execution_count": 108,
   "id": "02a8f09a",
   "metadata": {},
   "outputs": [
    {
     "data": {
      "text/plain": [
       "[]"
      ]
     },
     "execution_count": 108,
     "metadata": {},
     "output_type": "execute_result"
    }
   ],
   "source": [
    "re.findall(r'\\d$','2 is a number')"
   ]
  },
  {
   "cell_type": "code",
   "execution_count": 110,
   "id": "f8614538",
   "metadata": {},
   "outputs": [
    {
     "data": {
      "text/plain": [
       "['2']"
      ]
     },
     "execution_count": 110,
     "metadata": {},
     "output_type": "execute_result"
    }
   ],
   "source": [
    "re.findall(r'\\d$','The number is 2')"
   ]
  },
  {
   "cell_type": "code",
   "execution_count": 111,
   "id": "8fb9536e",
   "metadata": {},
   "outputs": [
    {
     "data": {
      "text/plain": [
       "[]"
      ]
     },
     "execution_count": 111,
     "metadata": {},
     "output_type": "execute_result"
    }
   ],
   "source": [
    "re.findall(r'^\\d','The number is 2')"
   ]
  },
  {
   "cell_type": "code",
   "execution_count": 112,
   "id": "06b07d9a",
   "metadata": {},
   "outputs": [],
   "source": [
    "phrase = 'there are 3 numbers 34 inside 5 this sentence'"
   ]
  },
  {
   "cell_type": "markdown",
   "id": "0a4d2d21",
   "metadata": {},
   "source": [
    "Excludes Digits"
   ]
  },
  {
   "cell_type": "code",
   "execution_count": 113,
   "id": "fc4882d3",
   "metadata": {},
   "outputs": [],
   "source": [
    "pattern = r'[^\\d]'"
   ]
  },
  {
   "cell_type": "code",
   "execution_count": 114,
   "id": "288b1686",
   "metadata": {},
   "outputs": [
    {
     "data": {
      "text/plain": [
       "['t',\n",
       " 'h',\n",
       " 'e',\n",
       " 'r',\n",
       " 'e',\n",
       " ' ',\n",
       " 'a',\n",
       " 'r',\n",
       " 'e',\n",
       " ' ',\n",
       " ' ',\n",
       " 'n',\n",
       " 'u',\n",
       " 'm',\n",
       " 'b',\n",
       " 'e',\n",
       " 'r',\n",
       " 's',\n",
       " ' ',\n",
       " ' ',\n",
       " 'i',\n",
       " 'n',\n",
       " 's',\n",
       " 'i',\n",
       " 'd',\n",
       " 'e',\n",
       " ' ',\n",
       " ' ',\n",
       " 't',\n",
       " 'h',\n",
       " 'i',\n",
       " 's',\n",
       " ' ',\n",
       " 's',\n",
       " 'e',\n",
       " 'n',\n",
       " 't',\n",
       " 'e',\n",
       " 'n',\n",
       " 'c',\n",
       " 'e']"
      ]
     },
     "execution_count": 114,
     "metadata": {},
     "output_type": "execute_result"
    }
   ],
   "source": [
    "re.findall(pattern,phrase)"
   ]
  },
  {
   "cell_type": "markdown",
   "id": "c9b28ac4",
   "metadata": {},
   "source": [
    "To get the words back together, use a + sign"
   ]
  },
  {
   "cell_type": "code",
   "execution_count": 115,
   "id": "07c69371",
   "metadata": {},
   "outputs": [
    {
     "data": {
      "text/plain": [
       "['there are ', ' numbers ', ' inside ', ' this sentence']"
      ]
     },
     "execution_count": 115,
     "metadata": {},
     "output_type": "execute_result"
    }
   ],
   "source": [
    "re.findall(r'[^\\d]+',phrase)"
   ]
  },
  {
   "cell_type": "code",
   "execution_count": 116,
   "id": "8750d66d",
   "metadata": {},
   "outputs": [
    {
     "data": {
      "text/plain": [
       "['t',\n",
       " 'h',\n",
       " 'e',\n",
       " 'r',\n",
       " 'e',\n",
       " ' ',\n",
       " 'a',\n",
       " 'r',\n",
       " 'e',\n",
       " ' ',\n",
       " ' ',\n",
       " 'n',\n",
       " 'u',\n",
       " 'm',\n",
       " 'b',\n",
       " 'e',\n",
       " 'r',\n",
       " 's',\n",
       " ' ',\n",
       " ' ',\n",
       " 'i',\n",
       " 'n',\n",
       " 's',\n",
       " 'i',\n",
       " 'd',\n",
       " 'e',\n",
       " ' ',\n",
       " ' ',\n",
       " 't',\n",
       " 'h',\n",
       " 'i',\n",
       " 's',\n",
       " ' ',\n",
       " 's',\n",
       " 'e',\n",
       " 'n',\n",
       " 't',\n",
       " 'e',\n",
       " 'n',\n",
       " 'c',\n",
       " 'e']"
      ]
     },
     "execution_count": 116,
     "metadata": {},
     "output_type": "execute_result"
    }
   ],
   "source": [
    "re.findall(pattern,phrase)"
   ]
  },
  {
   "cell_type": "markdown",
   "id": "0891390b",
   "metadata": {},
   "source": [
    "way to get rid-off punctutation"
   ]
  },
  {
   "cell_type": "code",
   "execution_count": 117,
   "id": "0c1716db",
   "metadata": {},
   "outputs": [],
   "source": [
    "test_phrase = 'This is a string! But it has punctuation. How can we remove it?'"
   ]
  },
  {
   "cell_type": "code",
   "execution_count": 119,
   "id": "f5d260db",
   "metadata": {},
   "outputs": [
    {
     "data": {
      "text/plain": [
       "['This is a string', ' But it has punctuation', ' How can we remove it']"
      ]
     },
     "execution_count": 119,
     "metadata": {},
     "output_type": "execute_result"
    }
   ],
   "source": [
    "re.findall(r'[^!.?]+',test_phrase)"
   ]
  },
  {
   "cell_type": "markdown",
   "id": "f03fbdfc",
   "metadata": {},
   "source": [
    "Get rid-off -re.findall(r'[^!.? ]+',test_phrase) -one space tab creates whole lot of difference"
   ]
  },
  {
   "cell_type": "code",
   "execution_count": 120,
   "id": "c65f6f36",
   "metadata": {},
   "outputs": [
    {
     "data": {
      "text/plain": [
       "['This',\n",
       " 'is',\n",
       " 'a',\n",
       " 'string',\n",
       " 'But',\n",
       " 'it',\n",
       " 'has',\n",
       " 'punctuation',\n",
       " 'How',\n",
       " 'can',\n",
       " 'we',\n",
       " 'remove',\n",
       " 'it']"
      ]
     },
     "execution_count": 120,
     "metadata": {},
     "output_type": "execute_result"
    }
   ],
   "source": [
    "re.findall(r'[^!.? ]+',test_phrase)"
   ]
  },
  {
   "cell_type": "code",
   "execution_count": 121,
   "id": "ae220048",
   "metadata": {},
   "outputs": [],
   "source": [
    "clean = re.findall(r'[^!.? ]+',test_phrase)"
   ]
  },
  {
   "cell_type": "code",
   "execution_count": 122,
   "id": "3cfcf0ef",
   "metadata": {},
   "outputs": [
    {
     "data": {
      "text/plain": [
       "['This',\n",
       " 'is',\n",
       " 'a',\n",
       " 'string',\n",
       " 'But',\n",
       " 'it',\n",
       " 'has',\n",
       " 'punctuation',\n",
       " 'How',\n",
       " 'can',\n",
       " 'we',\n",
       " 'remove',\n",
       " 'it']"
      ]
     },
     "execution_count": 122,
     "metadata": {},
     "output_type": "execute_result"
    }
   ],
   "source": [
    "clean"
   ]
  },
  {
   "cell_type": "code",
   "execution_count": 123,
   "id": "75dcdcb7",
   "metadata": {},
   "outputs": [
    {
     "data": {
      "text/plain": [
       "'This is a string But it has punctuation How can we remove it'"
      ]
     },
     "execution_count": 123,
     "metadata": {},
     "output_type": "execute_result"
    }
   ],
   "source": [
    "' '.join(clean)"
   ]
  },
  {
   "cell_type": "code",
   "execution_count": 125,
   "id": "7ed982eb",
   "metadata": {},
   "outputs": [
    {
     "ename": "NameError",
     "evalue": "name 'join' is not defined",
     "output_type": "error",
     "traceback": [
      "\u001b[1;31m---------------------------------------------------------------------------\u001b[0m",
      "\u001b[1;31mNameError\u001b[0m                                 Traceback (most recent call last)",
      "Input \u001b[1;32mIn [125]\u001b[0m, in \u001b[0;36m<cell line: 1>\u001b[1;34m()\u001b[0m\n\u001b[1;32m----> 1\u001b[0m \u001b[43mjoin\u001b[49m(clean)\n",
      "\u001b[1;31mNameError\u001b[0m: name 'join' is not defined"
     ]
    }
   ],
   "source": [
    "join(clean)"
   ]
  },
  {
   "cell_type": "markdown",
   "id": "f9843d4e",
   "metadata": {},
   "source": [
    "Brackets for Grouping\n",
    "As we showed above we can use brackets to group together options, for example if we wanted to find hyphenated words"
   ]
  },
  {
   "cell_type": "code",
   "execution_count": 126,
   "id": "ae7bf234",
   "metadata": {},
   "outputs": [],
   "source": [
    "text = 'Only find the hypen-words in this sentence. But you do not know how long-ish they are'"
   ]
  },
  {
   "cell_type": "code",
   "execution_count": 127,
   "id": "eb446357",
   "metadata": {},
   "outputs": [],
   "source": [
    "pattern = r'[\\w]+'"
   ]
  },
  {
   "cell_type": "code",
   "execution_count": 128,
   "id": "6e0ccce6",
   "metadata": {},
   "outputs": [
    {
     "data": {
      "text/plain": [
       "['Only',\n",
       " 'find',\n",
       " 'the',\n",
       " 'hypen',\n",
       " 'words',\n",
       " 'in',\n",
       " 'this',\n",
       " 'sentence',\n",
       " 'But',\n",
       " 'you',\n",
       " 'do',\n",
       " 'not',\n",
       " 'know',\n",
       " 'how',\n",
       " 'long',\n",
       " 'ish',\n",
       " 'they',\n",
       " 'are']"
      ]
     },
     "execution_count": 128,
     "metadata": {},
     "output_type": "execute_result"
    }
   ],
   "source": [
    "re.findall(pattern,text)"
   ]
  },
  {
   "cell_type": "code",
   "execution_count": 129,
   "id": "51417293",
   "metadata": {},
   "outputs": [],
   "source": [
    "pattern = r'[\\w]+-[\\w]+'"
   ]
  },
  {
   "cell_type": "code",
   "execution_count": 132,
   "id": "cb89076b",
   "metadata": {},
   "outputs": [
    {
     "data": {
      "text/plain": [
       "['hypen-words', 'long-ish']"
      ]
     },
     "execution_count": 132,
     "metadata": {},
     "output_type": "execute_result"
    }
   ],
   "source": [
    "re.findall(pattern,text)"
   ]
  },
  {
   "cell_type": "markdown",
   "id": "fc070582",
   "metadata": {},
   "source": [
    "If you remove the Braces"
   ]
  },
  {
   "cell_type": "code",
   "execution_count": 131,
   "id": "bf489c34",
   "metadata": {},
   "outputs": [],
   "source": [
    "pattern = r'\\w+-\\w+'"
   ]
  },
  {
   "cell_type": "code",
   "execution_count": 133,
   "id": "404761bc",
   "metadata": {},
   "outputs": [
    {
     "data": {
      "text/plain": [
       "['hypen-words', 'long-ish']"
      ]
     },
     "execution_count": 133,
     "metadata": {},
     "output_type": "execute_result"
    }
   ],
   "source": [
    "re.findall(pattern,text)"
   ]
  },
  {
   "cell_type": "markdown",
   "id": "d5f45652",
   "metadata": {},
   "source": [
    "Parenthesis for Multiple Options\n",
    "If we have multiple options for matching, we can use parenthesis to list out these options. For Example:"
   ]
  },
  {
   "cell_type": "code",
   "execution_count": 134,
   "id": "262beaef",
   "metadata": {},
   "outputs": [],
   "source": [
    "# Find words that start with cat and end with one of these options: 'fish','nap', or 'claw'\n",
    "text = 'Hello, would you like some catfish?'\n",
    "texttwo = \"Hello, would you like to take a catnap?\"\n",
    "textthree = \"Hello, have you seen this caterpillar?\""
   ]
  },
  {
   "cell_type": "code",
   "execution_count": 135,
   "id": "9e2eaa70",
   "metadata": {},
   "outputs": [
    {
     "data": {
      "text/plain": [
       "<re.Match object; span=(27, 34), match='catfish'>"
      ]
     },
     "execution_count": 135,
     "metadata": {},
     "output_type": "execute_result"
    }
   ],
   "source": [
    "re.search(r'cat(fish|nap|claw)',text)"
   ]
  },
  {
   "cell_type": "code",
   "execution_count": 136,
   "id": "a028e707",
   "metadata": {},
   "outputs": [
    {
     "data": {
      "text/plain": [
       "<re.Match object; span=(32, 38), match='catnap'>"
      ]
     },
     "execution_count": 136,
     "metadata": {},
     "output_type": "execute_result"
    }
   ],
   "source": [
    "re.search(r'cat(fish|nap|claw)',texttwo)"
   ]
  },
  {
   "cell_type": "code",
   "execution_count": 137,
   "id": "b52129c1",
   "metadata": {},
   "outputs": [
    {
     "data": {
      "text/plain": [
       "<re.Match object; span=(26, 37), match='caterpillar'>"
      ]
     },
     "execution_count": 137,
     "metadata": {},
     "output_type": "execute_result"
    }
   ],
   "source": [
    "re.search(r'cat(fish|nap|erpillar)',textthree)"
   ]
  },
  {
   "cell_type": "markdown",
   "id": "9a822354",
   "metadata": {},
   "source": [
    "datetime module # Timing with PY Code\n",
    "\n",
    "# time\n",
    "Let's take a look at how we can extract time information from the datetime module. We can create a timestamp by specifying datetime.time(hour,minute,second,microsecond)"
   ]
  },
  {
   "cell_type": "code",
   "execution_count": 1,
   "id": "326565e9",
   "metadata": {},
   "outputs": [
    {
     "data": {
      "text/plain": [
       "10"
      ]
     },
     "execution_count": 1,
     "metadata": {},
     "output_type": "execute_result"
    }
   ],
   "source": [
    "10"
   ]
  },
  {
   "cell_type": "code",
   "execution_count": 2,
   "id": "9d17a870",
   "metadata": {},
   "outputs": [
    {
     "data": {
      "text/plain": [
       "3"
      ]
     },
     "execution_count": 2,
     "metadata": {},
     "output_type": "execute_result"
    }
   ],
   "source": [
    "3"
   ]
  },
  {
   "cell_type": "code",
   "execution_count": 3,
   "id": "47e9871a",
   "metadata": {},
   "outputs": [
    {
     "data": {
      "text/plain": [
       "['1', '2', '3']"
      ]
     },
     "execution_count": 3,
     "metadata": {},
     "output_type": "execute_result"
    }
   ],
   "source": [
    "['1','2','3']"
   ]
  },
  {
   "cell_type": "markdown",
   "id": "a3b0c4f4",
   "metadata": {},
   "source": [
    "Doing this below with List Comprehension"
   ]
  },
  {
   "cell_type": "markdown",
   "id": "c1840469",
   "metadata": {},
   "source": [
    "Grabbing in range and concerting in String"
   ]
  },
  {
   "cell_type": "code",
   "execution_count": 4,
   "id": "9a138ce1",
   "metadata": {},
   "outputs": [],
   "source": [
    "def func_one(n):\n",
    "    return [str(num) for num in range(n)]"
   ]
  },
  {
   "cell_type": "code",
   "execution_count": 5,
   "id": "501b6606",
   "metadata": {},
   "outputs": [
    {
     "data": {
      "text/plain": [
       "['0', '1', '2', '3', '4', '5', '6', '7', '8', '9']"
      ]
     },
     "execution_count": 5,
     "metadata": {},
     "output_type": "execute_result"
    }
   ],
   "source": [
    "func_one(10)"
   ]
  },
  {
   "cell_type": "markdown",
   "id": "bcb33a8a",
   "metadata": {},
   "source": [
    "In Alternative way returning to mapping function"
   ]
  },
  {
   "cell_type": "code",
   "execution_count": 6,
   "id": "d9f721be",
   "metadata": {},
   "outputs": [],
   "source": [
    "def func_two(n):\n",
    "    return list(map(str,range(n)))\n",
    "    "
   ]
  },
  {
   "cell_type": "code",
   "execution_count": 7,
   "id": "68907127",
   "metadata": {},
   "outputs": [
    {
     "data": {
      "text/plain": [
       "['0', '1', '2', '3', '4', '5', '6', '7', '8', '9']"
      ]
     },
     "execution_count": 7,
     "metadata": {},
     "output_type": "execute_result"
    }
   ],
   "source": [
    "func_one(10)"
   ]
  },
  {
   "cell_type": "markdown",
   "id": "c1131419",
   "metadata": {},
   "source": [
    "Marking the start time and calculating the difference"
   ]
  },
  {
   "cell_type": "code",
   "execution_count": 8,
   "id": "829aa66a",
   "metadata": {},
   "outputs": [],
   "source": [
    "import time"
   ]
  },
  {
   "cell_type": "code",
   "execution_count": 9,
   "id": "c612157d",
   "metadata": {},
   "outputs": [
    {
     "name": "stdout",
     "output_type": "stream",
     "text": [
      "0.36327672004699707\n"
     ]
    }
   ],
   "source": [
    "# CURRENT TIME BEFORE\n",
    "start_time = time.time()\n",
    "# RUN CODE\n",
    "result = func_one(1000000)\n",
    "# CURRENT TIME AFTER RUNNING CODE\n",
    "end_time = time.time()\n",
    "# ELAPSED TIME\n",
    "elapsed_time = end_time - start_time\n",
    "\n",
    "print(elapsed_time)"
   ]
  },
  {
   "cell_type": "markdown",
   "id": "ddb2f02b",
   "metadata": {},
   "source": [
    "Try for func two"
   ]
  },
  {
   "cell_type": "code",
   "execution_count": 10,
   "id": "b0457513",
   "metadata": {},
   "outputs": [
    {
     "name": "stdout",
     "output_type": "stream",
     "text": [
      "0.34751248359680176\n"
     ]
    }
   ],
   "source": [
    "# CURRENT TIME BEFORE\n",
    "start_time = time.time()\n",
    "# RUN CODE\n",
    "result = func_two(1000000)\n",
    "# CURRENT TIME AFTER RUNNING CODE\n",
    "end_time = time.time()\n",
    "# ELAPSED TIME\n",
    "elapsed_time = end_time - start_time\n",
    "\n",
    "print(elapsed_time)"
   ]
  },
  {
   "cell_type": "markdown",
   "id": "7c12f886",
   "metadata": {},
   "source": [
    "If you change the time"
   ]
  },
  {
   "cell_type": "code",
   "execution_count": 11,
   "id": "eb13e66e",
   "metadata": {},
   "outputs": [
    {
     "name": "stdout",
     "output_type": "stream",
     "text": [
      "0.032265663146972656\n"
     ]
    }
   ],
   "source": [
    "# CURRENT TIME BEFORE\n",
    "start_time = time.time()\n",
    "# RUN CODE\n",
    "result = func_two(10)\n",
    "# CURRENT TIME AFTER RUNNING CODE\n",
    "end_time = time.time()\n",
    "# ELAPSED TIME\n",
    "elapsed_time = end_time - start_time\n",
    "\n",
    "print(elapsed_time)"
   ]
  },
  {
   "cell_type": "code",
   "execution_count": 12,
   "id": "15ba85c2",
   "metadata": {},
   "outputs": [],
   "source": [
    "import timeit"
   ]
  },
  {
   "cell_type": "code",
   "execution_count": 13,
   "id": "43929c13",
   "metadata": {},
   "outputs": [
    {
     "data": {
      "text/plain": [
       "<function timeit.timeit(stmt='pass', setup='pass', timer=<built-in function perf_counter>, number=1000000, globals=None)>"
      ]
     },
     "execution_count": 13,
     "metadata": {},
     "output_type": "execute_result"
    }
   ],
   "source": [
    "timeit.timeit"
   ]
  },
  {
   "cell_type": "markdown",
   "id": "5ff63981",
   "metadata": {},
   "source": [
    "Triple quotes in order to hav multiline string in statement"
   ]
  },
  {
   "cell_type": "markdown",
   "id": "69ba64b0",
   "metadata": {},
   "source": [
    "Stage1 - func_one"
   ]
  },
  {
   "cell_type": "code",
   "execution_count": 14,
   "id": "1de2a76b",
   "metadata": {},
   "outputs": [],
   "source": [
    "stmt = '''\n",
    "func_one(100)\n",
    "'''"
   ]
  },
  {
   "cell_type": "markdown",
   "id": "342bd2ec",
   "metadata": {},
   "source": [
    "Next step is set up"
   ]
  },
  {
   "cell_type": "code",
   "execution_count": 15,
   "id": "e056596d",
   "metadata": {},
   "outputs": [],
   "source": [
    "setup = '''\n",
    "def func_one(n):\n",
    "    return [str(num) for num in range(n)]\n",
    "'''"
   ]
  },
  {
   "cell_type": "code",
   "execution_count": 16,
   "id": "09f50f30",
   "metadata": {},
   "outputs": [
    {
     "data": {
      "text/plain": [
       "2.6594208000001345"
      ]
     },
     "execution_count": 16,
     "metadata": {},
     "output_type": "execute_result"
    }
   ],
   "source": [
    "timeit.timeit(stmt,setup,number=100000)"
   ]
  },
  {
   "cell_type": "markdown",
   "id": "0314db0d",
   "metadata": {},
   "source": [
    "Stage-2 -func_two"
   ]
  },
  {
   "cell_type": "code",
   "execution_count": 17,
   "id": "f321b804",
   "metadata": {},
   "outputs": [],
   "source": [
    "stmt2 = '''\n",
    "func_two(100)\n",
    "'''"
   ]
  },
  {
   "cell_type": "code",
   "execution_count": 18,
   "id": "01eedd59",
   "metadata": {},
   "outputs": [],
   "source": [
    "setup2 = '''\n",
    "def func_two(n):\n",
    "    return list(map(str,range(n)))   \n",
    "'''"
   ]
  },
  {
   "cell_type": "code",
   "execution_count": 19,
   "id": "f68b35cb",
   "metadata": {},
   "outputs": [
    {
     "data": {
      "text/plain": [
       "2.2229075999998713"
      ]
     },
     "execution_count": 19,
     "metadata": {},
     "output_type": "execute_result"
    }
   ],
   "source": [
    "timeit.timeit(stmt2,setup2,number=100000)"
   ]
  },
  {
   "cell_type": "code",
   "execution_count": 20,
   "id": "27255939",
   "metadata": {},
   "outputs": [
    {
     "name": "stdout",
     "output_type": "stream",
     "text": [
      "27.5 µs ± 3.08 µs per loop (mean ± std. dev. of 7 runs, 10,000 loops each)\n"
     ]
    }
   ],
   "source": [
    "%%timeit\n",
    "func_one(100)"
   ]
  },
  {
   "cell_type": "code",
   "execution_count": 21,
   "id": "5ad0b9cb",
   "metadata": {},
   "outputs": [
    {
     "name": "stdout",
     "output_type": "stream",
     "text": [
      "20 µs ± 594 ns per loop (mean ± std. dev. of 7 runs, 10,000 loops each)\n"
     ]
    }
   ],
   "source": [
    "%%timeit\n",
    "func_two(100)"
   ]
  },
  {
   "cell_type": "markdown",
   "id": "b38d49ae",
   "metadata": {},
   "source": [
    "Unzipping and Zipping Files\n",
    "As you are probably aware, files can be compressed to a zip format. Often people use special programs on their computer to unzip these files, luckily for us, Python can do the same task with just a few simple lines of code."
   ]
  },
  {
   "cell_type": "markdown",
   "id": "8094d329",
   "metadata": {},
   "source": [
    "Zip file compress to save space inside a dot file"
   ]
  },
  {
   "cell_type": "markdown",
   "id": "7160039e",
   "metadata": {},
   "source": [
    "Test files to make and compress\n",
    "# Individual file and to compressed them\n",
    "OPen w mode"
   ]
  },
  {
   "cell_type": "code",
   "execution_count": 22,
   "id": "676eb6e8",
   "metadata": {},
   "outputs": [],
   "source": [
    "f = open('fileone.txt','w+')\n",
    "f.write('ONE FILE')\n",
    "f.close()"
   ]
  },
  {
   "cell_type": "code",
   "execution_count": 23,
   "id": "a4c8d2ee",
   "metadata": {},
   "outputs": [],
   "source": [
    "f = open('filetwo.txt','w+')\n",
    "f.write('TWO FILE')\n",
    "f.close()"
   ]
  },
  {
   "cell_type": "markdown",
   "id": "6e5ba3a1",
   "metadata": {},
   "source": [
    "Incase if the files are too large, wanna compressed them in an email"
   ]
  },
  {
   "cell_type": "code",
   "execution_count": 24,
   "id": "267ed329",
   "metadata": {},
   "outputs": [],
   "source": [
    "import zipfile"
   ]
  },
  {
   "cell_type": "markdown",
   "id": "ed8bd844",
   "metadata": {},
   "source": [
    "Create a Zip file first - mode = w write"
   ]
  },
  {
   "cell_type": "code",
   "execution_count": 25,
   "id": "5fc10156",
   "metadata": {},
   "outputs": [],
   "source": [
    "comp_file = zipfile.ZipFile('comp_file.zip','w')"
   ]
  },
  {
   "cell_type": "code",
   "execution_count": 26,
   "id": "2099fb61",
   "metadata": {},
   "outputs": [],
   "source": [
    "comp_file.write('fileone.txt',compress_type=zipfile.ZIP_DEFLATED)"
   ]
  },
  {
   "cell_type": "code",
   "execution_count": 27,
   "id": "dc23e532",
   "metadata": {},
   "outputs": [],
   "source": [
    "comp_file.write('filetwo.txt',compress_type=zipfile.ZIP_DEFLATED)"
   ]
  },
  {
   "cell_type": "code",
   "execution_count": 29,
   "id": "d88c5acd",
   "metadata": {},
   "outputs": [],
   "source": [
    "comp_file.close()"
   ]
  },
  {
   "cell_type": "markdown",
   "id": "3dc647ad",
   "metadata": {},
   "source": [
    "Below r is read method"
   ]
  },
  {
   "cell_type": "code",
   "execution_count": 30,
   "id": "c6fcffe7",
   "metadata": {},
   "outputs": [],
   "source": [
    "zip_obj = zipfile.ZipFile('comp_file.zip','r')"
   ]
  },
  {
   "cell_type": "code",
   "execution_count": 31,
   "id": "03ddadef",
   "metadata": {},
   "outputs": [],
   "source": [
    "zip_obj.extractall('extracted_content')"
   ]
  },
  {
   "cell_type": "code",
   "execution_count": 32,
   "id": "a650190c",
   "metadata": {},
   "outputs": [
    {
     "data": {
      "text/plain": [
       "'C:\\\\Users\\\\deept'"
      ]
     },
     "execution_count": 32,
     "metadata": {},
     "output_type": "execute_result"
    }
   ],
   "source": [
    "pwd"
   ]
  },
  {
   "cell_type": "markdown",
   "id": "3a6c5f93",
   "metadata": {},
   "source": [
    "Shutil utility liabrary"
   ]
  },
  {
   "cell_type": "code",
   "execution_count": 33,
   "id": "f5b99fea",
   "metadata": {},
   "outputs": [],
   "source": [
    "import shutil"
   ]
  },
  {
   "cell_type": "code",
   "execution_count": 34,
   "id": "e98c2d6f",
   "metadata": {},
   "outputs": [],
   "source": [
    "dir_to_zip = 'C:\\\\Users\\\\deept\\\\extracted_content'"
   ]
  },
  {
   "cell_type": "code",
   "execution_count": 35,
   "id": "791d7543",
   "metadata": {},
   "outputs": [],
   "source": [
    "output_filename = 'example'"
   ]
  },
  {
   "cell_type": "code",
   "execution_count": 36,
   "id": "5f9f3b64",
   "metadata": {},
   "outputs": [
    {
     "data": {
      "text/plain": [
       "'C:\\\\Users\\\\deept\\\\example.zip'"
      ]
     },
     "execution_count": 36,
     "metadata": {},
     "output_type": "execute_result"
    }
   ],
   "source": [
    "shutil.make_archive(output_filename,'zip',dir_to_zip)"
   ]
  },
  {
   "cell_type": "code",
   "execution_count": 37,
   "id": "9e593b08",
   "metadata": {},
   "outputs": [],
   "source": [
    "shutil.unpack_archive('example.zip','final_unzip','zip')"
   ]
  },
  {
   "cell_type": "markdown",
   "id": "d24bf544",
   "metadata": {},
   "source": [
    "diff folder u hav eto provide the full path"
   ]
  },
  {
   "cell_type": "markdown",
   "id": "830900af",
   "metadata": {},
   "source": [
    "Advance Module Puzzle Solving"
   ]
  },
  {
   "cell_type": "code",
   "execution_count": 41,
   "id": "94b014ea",
   "metadata": {},
   "outputs": [],
   "source": [
    "import shutil"
   ]
  },
  {
   "cell_type": "code",
   "execution_count": 45,
   "id": "8e5a20e0",
   "metadata": {},
   "outputs": [
    {
     "ename": "ReadError",
     "evalue": "unzip_me_for_instructions.zip is not a zip file",
     "output_type": "error",
     "traceback": [
      "\u001b[1;31m---------------------------------------------------------------------------\u001b[0m",
      "\u001b[1;31mReadError\u001b[0m                                 Traceback (most recent call last)",
      "Input \u001b[1;32mIn [45]\u001b[0m, in \u001b[0;36m<cell line: 1>\u001b[1;34m()\u001b[0m\n\u001b[1;32m----> 1\u001b[0m \u001b[43mshutil\u001b[49m\u001b[38;5;241;43m.\u001b[39;49m\u001b[43munpack_archive\u001b[49m\u001b[43m(\u001b[49m\u001b[38;5;124;43m'\u001b[39;49m\u001b[38;5;124;43munzip_me_for_instructions.zip\u001b[39;49m\u001b[38;5;124;43m'\u001b[39;49m\u001b[43m,\u001b[49m\u001b[38;5;124;43m'\u001b[39;49m\u001b[38;5;124;43m'\u001b[39;49m\u001b[43m,\u001b[49m\u001b[38;5;124;43m'\u001b[39;49m\u001b[38;5;124;43mzip\u001b[39;49m\u001b[38;5;124;43m'\u001b[39;49m\u001b[43m)\u001b[49m\n",
      "File \u001b[1;32m~\\anaconda3\\lib\\shutil.py:1260\u001b[0m, in \u001b[0;36munpack_archive\u001b[1;34m(filename, extract_dir, format)\u001b[0m\n\u001b[0;32m   1257\u001b[0m         \u001b[38;5;28;01mraise\u001b[39;00m \u001b[38;5;167;01mValueError\u001b[39;00m(\u001b[38;5;124m\"\u001b[39m\u001b[38;5;124mUnknown unpack format \u001b[39m\u001b[38;5;124m'\u001b[39m\u001b[38;5;132;01m{0}\u001b[39;00m\u001b[38;5;124m'\u001b[39m\u001b[38;5;124m\"\u001b[39m\u001b[38;5;241m.\u001b[39mformat(\u001b[38;5;28mformat\u001b[39m)) \u001b[38;5;28;01mfrom\u001b[39;00m \u001b[38;5;28mNone\u001b[39m\n\u001b[0;32m   1259\u001b[0m     func \u001b[38;5;241m=\u001b[39m format_info[\u001b[38;5;241m1\u001b[39m]\n\u001b[1;32m-> 1260\u001b[0m     func(filename, extract_dir, \u001b[38;5;241m*\u001b[39m\u001b[38;5;241m*\u001b[39m\u001b[38;5;28mdict\u001b[39m(format_info[\u001b[38;5;241m2\u001b[39m]))\n\u001b[0;32m   1261\u001b[0m \u001b[38;5;28;01melse\u001b[39;00m:\n\u001b[0;32m   1262\u001b[0m     \u001b[38;5;66;03m# we need to look at the registered unpackers supported extensions\u001b[39;00m\n\u001b[0;32m   1263\u001b[0m     \u001b[38;5;28mformat\u001b[39m \u001b[38;5;241m=\u001b[39m _find_unpack_format(filename)\n",
      "File \u001b[1;32m~\\anaconda3\\lib\\shutil.py:1168\u001b[0m, in \u001b[0;36m_unpack_zipfile\u001b[1;34m(filename, extract_dir)\u001b[0m\n\u001b[0;32m   1165\u001b[0m \u001b[38;5;28;01mimport\u001b[39;00m \u001b[38;5;21;01mzipfile\u001b[39;00m  \u001b[38;5;66;03m# late import for breaking circular dependency\u001b[39;00m\n\u001b[0;32m   1167\u001b[0m \u001b[38;5;28;01mif\u001b[39;00m \u001b[38;5;129;01mnot\u001b[39;00m zipfile\u001b[38;5;241m.\u001b[39mis_zipfile(filename):\n\u001b[1;32m-> 1168\u001b[0m     \u001b[38;5;28;01mraise\u001b[39;00m ReadError(\u001b[38;5;124m\"\u001b[39m\u001b[38;5;132;01m%s\u001b[39;00m\u001b[38;5;124m is not a zip file\u001b[39m\u001b[38;5;124m\"\u001b[39m \u001b[38;5;241m%\u001b[39m filename)\n\u001b[0;32m   1170\u001b[0m \u001b[38;5;28mzip\u001b[39m \u001b[38;5;241m=\u001b[39m zipfile\u001b[38;5;241m.\u001b[39mZipFile(filename)\n\u001b[0;32m   1171\u001b[0m \u001b[38;5;28;01mtry\u001b[39;00m:\n",
      "\u001b[1;31mReadError\u001b[0m: unzip_me_for_instructions.zip is not a zip file"
     ]
    }
   ],
   "source": [
    "shutil.unpack_archive('unzip_me_for_instructions.zip','','zip')"
   ]
  },
  {
   "cell_type": "code",
   "execution_count": 43,
   "id": "6a1474a0",
   "metadata": {},
   "outputs": [
    {
     "ename": "FileNotFoundError",
     "evalue": "[Errno 2] No such file or directory: 'extracted_content/Instructions.txt'",
     "output_type": "error",
     "traceback": [
      "\u001b[1;31m---------------------------------------------------------------------------\u001b[0m",
      "\u001b[1;31mFileNotFoundError\u001b[0m                         Traceback (most recent call last)",
      "Input \u001b[1;32mIn [43]\u001b[0m, in \u001b[0;36m<cell line: 1>\u001b[1;34m()\u001b[0m\n\u001b[1;32m----> 1\u001b[0m \u001b[38;5;28;01mwith\u001b[39;00m \u001b[38;5;28;43mopen\u001b[39;49m\u001b[43m(\u001b[49m\u001b[38;5;124;43m'\u001b[39;49m\u001b[38;5;124;43mextracted_content/Instructions.txt\u001b[39;49m\u001b[38;5;124;43m'\u001b[39;49m\u001b[43m)\u001b[49m \u001b[38;5;28;01mas\u001b[39;00m f:\n\u001b[0;32m      2\u001b[0m     content \u001b[38;5;241m=\u001b[39m f\u001b[38;5;241m.\u001b[39mread()\n\u001b[0;32m      3\u001b[0m     \u001b[38;5;28mprint\u001b[39m(content)\n",
      "\u001b[1;31mFileNotFoundError\u001b[0m: [Errno 2] No such file or directory: 'extracted_content/Instructions.txt'"
     ]
    }
   ],
   "source": [
    "with open('extracted_content/Instructions.txt') as f:\n",
    "    content = f.read()\n",
    "    print(content)"
   ]
  },
  {
   "cell_type": "markdown",
   "id": "d1edf921",
   "metadata": {},
   "source": [
    "Regular Expression to Find the Link"
   ]
  },
  {
   "cell_type": "code",
   "execution_count": 44,
   "id": "6deced8a",
   "metadata": {},
   "outputs": [],
   "source": [
    "import re"
   ]
  },
  {
   "cell_type": "code",
   "execution_count": 46,
   "id": "8df276c1",
   "metadata": {},
   "outputs": [],
   "source": [
    "pattern = r'\\d{3}-\\d{3}-\\d{4}'"
   ]
  },
  {
   "cell_type": "code",
   "execution_count": 47,
   "id": "d2427eb3",
   "metadata": {},
   "outputs": [],
   "source": [
    "test_string = \"here is a random number 1231231234 , here is phone number formatted 123-123-1234\""
   ]
  },
  {
   "cell_type": "code",
   "execution_count": 48,
   "id": "087cf539",
   "metadata": {},
   "outputs": [
    {
     "data": {
      "text/plain": [
       "['123-123-1234']"
      ]
     },
     "execution_count": 48,
     "metadata": {},
     "output_type": "execute_result"
    }
   ],
   "source": [
    "re.findall(pattern,test_string)"
   ]
  },
  {
   "cell_type": "markdown",
   "id": "a65bb039",
   "metadata": {},
   "source": [
    "Create a function for regex\n",
    "Let's put this inside a function that applies it to the contents of a .txt file, this way we can apply this function to all the txt files in the extracted_content folder."
   ]
  },
  {
   "cell_type": "code",
   "execution_count": 49,
   "id": "8efd619d",
   "metadata": {},
   "outputs": [],
   "source": [
    "def search(file,pattern= r'\\d{3}-\\d{3}-\\d{4}'):\n",
    "    f = open(file,'r')\n",
    "    text = f.read()\n",
    "    \n",
    "    if re.search(pattern,text):\n",
    "        return re.search(pattern,text)\n",
    "    else:\n",
    "        return ''"
   ]
  },
  {
   "cell_type": "markdown",
   "id": "4763e10e",
   "metadata": {},
   "source": [
    "OS Walk through the Files to Get the Link\n",
    "Now that we have a basic function to search through the text of the files, let's perform an os.walk through the unzipped directory to find the links hidden somewhere in one of the text files."
   ]
  },
  {
   "cell_type": "code",
   "execution_count": 50,
   "id": "776b2c15",
   "metadata": {},
   "outputs": [],
   "source": [
    "import os"
   ]
  },
  {
   "cell_type": "code",
   "execution_count": 51,
   "id": "83153b58",
   "metadata": {},
   "outputs": [],
   "source": [
    "results = []"
   ]
  },
  {
   "cell_type": "code",
   "execution_count": 52,
   "id": "b96e0000",
   "metadata": {},
   "outputs": [
    {
     "data": {
      "text/plain": [
       "'C:\\\\Users\\\\deept\\\\extracted_content'"
      ]
     },
     "execution_count": 52,
     "metadata": {},
     "output_type": "execute_result"
    }
   ],
   "source": [
    "os.getcwd()+'\\\\extracted_content'"
   ]
  },
  {
   "cell_type": "code",
   "execution_count": 60,
   "id": "dd174ec3",
   "metadata": {},
   "outputs": [],
   "source": [
    "for folder,sub_folders,files in os.walk(os.getcwd()+'\\\\extracted_content'):\n",
    "    \n",
    "    for f in files:\n",
    "        full_path = folder+'\\\\'+f\n",
    "         \n",
    "        results.append(search(full_path)) "
   ]
  },
  {
   "cell_type": "code",
   "execution_count": 62,
   "id": "c78c81af",
   "metadata": {},
   "outputs": [],
   "source": [
    "for r in results:\n",
    "    if r != '':\n",
    "        print(r.group())"
   ]
  },
  {
   "cell_type": "markdown",
   "id": "d5751ec3",
   "metadata": {},
   "source": [
    "Web Scraping with Python"
   ]
  },
  {
   "cell_type": "code",
   "execution_count": 63,
   "id": "3a91f974",
   "metadata": {},
   "outputs": [],
   "source": [
    "import requests"
   ]
  },
  {
   "cell_type": "code",
   "execution_count": 64,
   "id": "e8496f05",
   "metadata": {},
   "outputs": [],
   "source": [
    "import bs4"
   ]
  },
  {
   "cell_type": "markdown",
   "id": "324eb9e9",
   "metadata": {},
   "source": [
    "Grabbing the title of a page\n",
    "Let's start very simple, we will grab the title of a page. Remember that this is the HTML block with the title tag. For this task we will use www.example.com which is a website specifically made to serve as an example domain. Let's go through the main steps:"
   ]
  },
  {
   "cell_type": "code",
   "execution_count": 65,
   "id": "ada9e22a",
   "metadata": {},
   "outputs": [],
   "source": [
    "import requests"
   ]
  },
  {
   "cell_type": "code",
   "execution_count": 66,
   "id": "bbe731b6",
   "metadata": {},
   "outputs": [],
   "source": [
    "result = requests.get(\"http://www.example.com\")"
   ]
  },
  {
   "cell_type": "markdown",
   "id": "4487f082",
   "metadata": {},
   "source": [
    "This object is a requests.models.Response object and it actually contains the information from the website, for example:"
   ]
  },
  {
   "cell_type": "code",
   "execution_count": 67,
   "id": "c651fa7f",
   "metadata": {},
   "outputs": [
    {
     "data": {
      "text/plain": [
       "requests.models.Response"
      ]
     },
     "execution_count": 67,
     "metadata": {},
     "output_type": "execute_result"
    }
   ],
   "source": [
    "type(result)"
   ]
  },
  {
   "cell_type": "code",
   "execution_count": 68,
   "id": "47258c49",
   "metadata": {},
   "outputs": [
    {
     "data": {
      "text/plain": [
       "'<!doctype html>\\n<html>\\n<head>\\n    <title>Example Domain</title>\\n\\n    <meta charset=\"utf-8\" />\\n    <meta http-equiv=\"Content-type\" content=\"text/html; charset=utf-8\" />\\n    <meta name=\"viewport\" content=\"width=device-width, initial-scale=1\" />\\n    <style type=\"text/css\">\\n    body {\\n        background-color: #f0f0f2;\\n        margin: 0;\\n        padding: 0;\\n        font-family: -apple-system, system-ui, BlinkMacSystemFont, \"Segoe UI\", \"Open Sans\", \"Helvetica Neue\", Helvetica, Arial, sans-serif;\\n        \\n    }\\n    div {\\n        width: 600px;\\n        margin: 5em auto;\\n        padding: 2em;\\n        background-color: #fdfdff;\\n        border-radius: 0.5em;\\n        box-shadow: 2px 3px 7px 2px rgba(0,0,0,0.02);\\n    }\\n    a:link, a:visited {\\n        color: #38488f;\\n        text-decoration: none;\\n    }\\n    @media (max-width: 700px) {\\n        div {\\n            margin: 0 auto;\\n            width: auto;\\n        }\\n    }\\n    </style>    \\n</head>\\n\\n<body>\\n<div>\\n    <h1>Example Domain</h1>\\n    <p>This domain is for use in illustrative examples in documents. You may use this\\n    domain in literature without prior coordination or asking for permission.</p>\\n    <p><a href=\"https://www.iana.org/domains/example\">More information...</a></p>\\n</div>\\n</body>\\n</html>\\n'"
      ]
     },
     "execution_count": 68,
     "metadata": {},
     "output_type": "execute_result"
    }
   ],
   "source": [
    "result.text"
   ]
  },
  {
   "cell_type": "code",
   "execution_count": 69,
   "id": "1315dd43",
   "metadata": {},
   "outputs": [],
   "source": [
    "result = requests.get(\"https://www.example.com\")"
   ]
  },
  {
   "cell_type": "markdown",
   "id": "361228a2",
   "metadata": {},
   "source": [
    "Below is just a string from html"
   ]
  },
  {
   "cell_type": "code",
   "execution_count": 70,
   "id": "28153b67",
   "metadata": {},
   "outputs": [
    {
     "data": {
      "text/plain": [
       "'<!doctype html>\\n<html>\\n<head>\\n    <title>Example Domain</title>\\n\\n    <meta charset=\"utf-8\" />\\n    <meta http-equiv=\"Content-type\" content=\"text/html; charset=utf-8\" />\\n    <meta name=\"viewport\" content=\"width=device-width, initial-scale=1\" />\\n    <style type=\"text/css\">\\n    body {\\n        background-color: #f0f0f2;\\n        margin: 0;\\n        padding: 0;\\n        font-family: -apple-system, system-ui, BlinkMacSystemFont, \"Segoe UI\", \"Open Sans\", \"Helvetica Neue\", Helvetica, Arial, sans-serif;\\n        \\n    }\\n    div {\\n        width: 600px;\\n        margin: 5em auto;\\n        padding: 2em;\\n        background-color: #fdfdff;\\n        border-radius: 0.5em;\\n        box-shadow: 2px 3px 7px 2px rgba(0,0,0,0.02);\\n    }\\n    a:link, a:visited {\\n        color: #38488f;\\n        text-decoration: none;\\n    }\\n    @media (max-width: 700px) {\\n        div {\\n            margin: 0 auto;\\n            width: auto;\\n        }\\n    }\\n    </style>    \\n</head>\\n\\n<body>\\n<div>\\n    <h1>Example Domain</h1>\\n    <p>This domain is for use in illustrative examples in documents. You may use this\\n    domain in literature without prior coordination or asking for permission.</p>\\n    <p><a href=\"https://www.iana.org/domains/example\">More information...</a></p>\\n</div>\\n</body>\\n</html>\\n'"
      ]
     },
     "execution_count": 70,
     "metadata": {},
     "output_type": "execute_result"
    }
   ],
   "source": [
    "result.text"
   ]
  },
  {
   "cell_type": "markdown",
   "id": "e937b840",
   "metadata": {},
   "source": [
    "Now we use BeautifulSoup to analyze the extracted page. Technically we could use our own custom script to loook for items in the string of res.text but the BeautifulSoup library already has lots of built-in tools and methods to grab information from a string of this nature (basically an HTML file). Using BeautifulSoup we can create a \"soup\" object that contains all the \"ingredients\" of the webpage. Don't ask me about the weird library names, I didn't choose them! :)"
   ]
  },
  {
   "cell_type": "code",
   "execution_count": 71,
   "id": "ad0049e5",
   "metadata": {},
   "outputs": [],
   "source": [
    "import bs4"
   ]
  },
  {
   "cell_type": "code",
   "execution_count": 72,
   "id": "b481e86b",
   "metadata": {},
   "outputs": [],
   "source": [
    "soup = bs4.BeautifulSoup(result.text,\"lxml\")"
   ]
  },
  {
   "cell_type": "code",
   "execution_count": 73,
   "id": "61106783",
   "metadata": {},
   "outputs": [
    {
     "data": {
      "text/plain": [
       "<!DOCTYPE html>\n",
       "<html>\n",
       "<head>\n",
       "<title>Example Domain</title>\n",
       "<meta charset=\"utf-8\"/>\n",
       "<meta content=\"text/html; charset=utf-8\" http-equiv=\"Content-type\"/>\n",
       "<meta content=\"width=device-width, initial-scale=1\" name=\"viewport\"/>\n",
       "<style type=\"text/css\">\n",
       "    body {\n",
       "        background-color: #f0f0f2;\n",
       "        margin: 0;\n",
       "        padding: 0;\n",
       "        font-family: -apple-system, system-ui, BlinkMacSystemFont, \"Segoe UI\", \"Open Sans\", \"Helvetica Neue\", Helvetica, Arial, sans-serif;\n",
       "        \n",
       "    }\n",
       "    div {\n",
       "        width: 600px;\n",
       "        margin: 5em auto;\n",
       "        padding: 2em;\n",
       "        background-color: #fdfdff;\n",
       "        border-radius: 0.5em;\n",
       "        box-shadow: 2px 3px 7px 2px rgba(0,0,0,0.02);\n",
       "    }\n",
       "    a:link, a:visited {\n",
       "        color: #38488f;\n",
       "        text-decoration: none;\n",
       "    }\n",
       "    @media (max-width: 700px) {\n",
       "        div {\n",
       "            margin: 0 auto;\n",
       "            width: auto;\n",
       "        }\n",
       "    }\n",
       "    </style>\n",
       "</head>\n",
       "<body>\n",
       "<div>\n",
       "<h1>Example Domain</h1>\n",
       "<p>This domain is for use in illustrative examples in documents. You may use this\n",
       "    domain in literature without prior coordination or asking for permission.</p>\n",
       "<p><a href=\"https://www.iana.org/domains/example\">More information...</a></p>\n",
       "</div>\n",
       "</body>\n",
       "</html>"
      ]
     },
     "execution_count": 73,
     "metadata": {},
     "output_type": "execute_result"
    }
   ],
   "source": [
    "soup"
   ]
  },
  {
   "cell_type": "code",
   "execution_count": 74,
   "id": "34263993",
   "metadata": {},
   "outputs": [
    {
     "data": {
      "text/plain": [
       "[<title>Example Domain</title>]"
      ]
     },
     "execution_count": 74,
     "metadata": {},
     "output_type": "execute_result"
    }
   ],
   "source": [
    "soup.select('title')"
   ]
  },
  {
   "cell_type": "markdown",
   "id": "35ee6d5d",
   "metadata": {},
   "source": [
    "P - paragraph Tag"
   ]
  },
  {
   "cell_type": "code",
   "execution_count": 75,
   "id": "f52152d8",
   "metadata": {},
   "outputs": [
    {
     "data": {
      "text/plain": [
       "[<p>This domain is for use in illustrative examples in documents. You may use this\n",
       "     domain in literature without prior coordination or asking for permission.</p>,\n",
       " <p><a href=\"https://www.iana.org/domains/example\">More information...</a></p>]"
      ]
     },
     "execution_count": 75,
     "metadata": {},
     "output_type": "execute_result"
    }
   ],
   "source": [
    "soup.select('p')"
   ]
  },
  {
   "cell_type": "code",
   "execution_count": 76,
   "id": "04e2852a",
   "metadata": {},
   "outputs": [
    {
     "data": {
      "text/plain": [
       "[<h1>Example Domain</h1>]"
      ]
     },
     "execution_count": 76,
     "metadata": {},
     "output_type": "execute_result"
    }
   ],
   "source": [
    "soup.select('h1')"
   ]
  },
  {
   "cell_type": "code",
   "execution_count": 77,
   "id": "fe53a70c",
   "metadata": {},
   "outputs": [
    {
     "data": {
      "text/plain": [
       "<title>Example Domain</title>"
      ]
     },
     "execution_count": 77,
     "metadata": {},
     "output_type": "execute_result"
    }
   ],
   "source": [
    "soup.select('title')[0]"
   ]
  },
  {
   "cell_type": "code",
   "execution_count": 78,
   "id": "85bdc166",
   "metadata": {},
   "outputs": [
    {
     "data": {
      "text/plain": [
       "'Example Domain'"
      ]
     },
     "execution_count": 78,
     "metadata": {},
     "output_type": "execute_result"
    }
   ],
   "source": [
    "soup.select('title')[0].getText()"
   ]
  },
  {
   "cell_type": "code",
   "execution_count": 79,
   "id": "9850a59a",
   "metadata": {},
   "outputs": [],
   "source": [
    "site_paragraphs = soup.select(\"p\")"
   ]
  },
  {
   "cell_type": "code",
   "execution_count": 80,
   "id": "67ea8843",
   "metadata": {},
   "outputs": [
    {
     "data": {
      "text/plain": [
       "[<p>This domain is for use in illustrative examples in documents. You may use this\n",
       "     domain in literature without prior coordination or asking for permission.</p>,\n",
       " <p><a href=\"https://www.iana.org/domains/example\">More information...</a></p>]"
      ]
     },
     "execution_count": 80,
     "metadata": {},
     "output_type": "execute_result"
    }
   ],
   "source": [
    "site_paragraphs"
   ]
  },
  {
   "cell_type": "markdown",
   "id": "6cd15062",
   "metadata": {},
   "source": [
    "You can also go ahead and index with [0]"
   ]
  },
  {
   "cell_type": "code",
   "execution_count": 81,
   "id": "05e003be",
   "metadata": {},
   "outputs": [
    {
     "data": {
      "text/plain": [
       "<p>This domain is for use in illustrative examples in documents. You may use this\n",
       "    domain in literature without prior coordination or asking for permission.</p>"
      ]
     },
     "execution_count": 81,
     "metadata": {},
     "output_type": "execute_result"
    }
   ],
   "source": [
    "site_paragraphs[0]"
   ]
  },
  {
   "cell_type": "code",
   "execution_count": 82,
   "id": "80720da5",
   "metadata": {},
   "outputs": [
    {
     "data": {
      "text/plain": [
       "bs4.element.Tag"
      ]
     },
     "execution_count": 82,
     "metadata": {},
     "output_type": "execute_result"
    }
   ],
   "source": [
    "type(site_paragraphs[0])"
   ]
  },
  {
   "cell_type": "code",
   "execution_count": 83,
   "id": "ec5e2ea9",
   "metadata": {},
   "outputs": [
    {
     "data": {
      "text/plain": [
       "'This domain is for use in illustrative examples in documents. You may use this\\n    domain in literature without prior coordination or asking for permission.'"
      ]
     },
     "execution_count": 83,
     "metadata": {},
     "output_type": "execute_result"
    }
   ],
   "source": [
    "site_paragraphs[0].getText()"
   ]
  },
  {
   "cell_type": "markdown",
   "id": "3ac820b8",
   "metadata": {},
   "source": [
    "Web Scrapping - Grabbing a Class /\n",
    "Grabbing all elements of a class"
   ]
  },
  {
   "cell_type": "code",
   "execution_count": 84,
   "id": "57c29ccd",
   "metadata": {},
   "outputs": [],
   "source": [
    "res = requests.get('https://en.wikipedia.org/wiki/Grace_Hopper')"
   ]
  },
  {
   "cell_type": "code",
   "execution_count": 85,
   "id": "e8ce4b2c",
   "metadata": {},
   "outputs": [],
   "source": [
    "soup = bs4.BeautifulSoup(res.text,\"lxml\")"
   ]
  },
  {
   "cell_type": "code",
   "execution_count": 86,
   "id": "7d0e70a9",
   "metadata": {},
   "outputs": [
    {
     "data": {
      "text/plain": [
       "<!DOCTYPE html>\n",
       "<html class=\"client-nojs vector-feature-language-in-header-enabled vector-feature-language-in-main-page-header-disabled vector-feature-language-alert-in-sidebar-enabled vector-feature-sticky-header-disabled vector-feature-page-tools-disabled vector-feature-page-tools-pinned-disabled vector-feature-main-menu-pinned-disabled vector-feature-limited-width-enabled vector-feature-limited-width-content-enabled\" dir=\"ltr\" lang=\"en\">\n",
       "<head>\n",
       "<meta charset=\"utf-8\"/>\n",
       "<title>Grace Hopper - Wikipedia</title>\n",
       "<script>document.documentElement.className=\"client-js vector-feature-language-in-header-enabled vector-feature-language-in-main-page-header-disabled vector-feature-language-alert-in-sidebar-enabled vector-feature-sticky-header-disabled vector-feature-page-tools-disabled vector-feature-page-tools-pinned-disabled vector-feature-main-menu-pinned-disabled vector-feature-limited-width-enabled vector-feature-limited-width-content-enabled\";(function(){var cookie=document.cookie.match(/(?:^|; )enwikimwclientprefs=([^;]+)/);if(cookie){var featureName=cookie[1];document.documentElement.className=document.documentElement.className.replace(featureName+'-enabled',featureName+'-disabled');}}());RLCONF={\"wgBreakFrames\":false,\"wgSeparatorTransformTable\":[\"\",\"\"],\"wgDigitTransformTable\":[\"\",\"\"],\"wgDefaultDateFormat\":\"dmy\",\"wgMonthNames\":[\"\",\"January\",\"February\",\"March\",\"April\",\"May\",\"June\",\"July\",\"August\",\"September\",\"October\",\"November\",\"December\"],\"wgRequestId\":\"1c94a3e0-509e-4590-be38-6180c15af99e\",\n",
       "\"wgCSPNonce\":false,\"wgCanonicalNamespace\":\"\",\"wgCanonicalSpecialPageName\":false,\"wgNamespaceNumber\":0,\"wgPageName\":\"Grace_Hopper\",\"wgTitle\":\"Grace Hopper\",\"wgCurRevisionId\":1134605957,\"wgRevisionId\":1134605957,\"wgArticleId\":12590,\"wgIsArticle\":true,\"wgIsRedirect\":false,\"wgAction\":\"view\",\"wgUserName\":null,\"wgUserGroups\":[\"*\"],\"wgCategories\":[\"All pages needing factual verification\",\"Wikipedia articles needing factual verification from November 2013\",\"IMDb ID not in Wikidata\",\"Articles with short description\",\"Short description is different from Wikidata\",\"Use mdy dates from October 2017\",\"Articles needing cleanup from May 2021\",\"All pages needing cleanup\",\"Articles with sections that need to be turned into prose from May 2021\",\"Commons category link from Wikidata\",\"Webarchive template wayback links\",\"Articles with ISNI identifiers\",\"Articles with VIAF identifiers\",\"Articles with WorldCat identifiers\",\"Articles with BIBSYS identifiers\",\"Articles with BNF identifiers\",\n",
       "\"Articles with GND identifiers\",\"Articles with J9U identifiers\",\"Articles with LCCN identifiers\",\"Articles with NKC identifiers\",\"Articles with NLA identifiers\",\"Articles with NTA identifiers\",\"Articles with PLWABN identifiers\",\"Articles with ACM-DL identifiers\",\"Articles with DBLP identifiers\",\"Articles with MATHSN identifiers\",\"Articles with MGP identifiers\",\"Articles with ZBMATH identifiers\",\"Articles with FAST identifiers\",\"Articles with SNAC-ID identifiers\",\"Articles with SUDOC identifiers\",\"Articles with Trove identifiers\",\"1906 births\",\"1992 deaths\",\"American computer programmers\",\"American computer scientists\",\"COBOL\",\"Programming language designers\",\"American women computer scientists\",\"Women inventors\",\"American women mathematicians\",\"United States Navy rear admirals (lower half)\",\"Female admirals of the United States Navy\",\"Fellows of the American Academy of Arts and Sciences\",\"Fellows of the British Computer Society\",\"National Medal of Technology recipients\",\n",
       "\"Recipients of the Defense Distinguished Service Medal\",\"Recipients of the Legion of Merit\",\"Recipients of the Meritorious Service Medal (United States)\",\"Harvard University people\",\"Vassar College faculty\",\"Military personnel from New York City\",\"Vassar College alumni\",\"Yale University alumni\",\"American people of Dutch descent\",\"American people of Scottish descent\",\"Burials at Arlington National Cemetery\",\"20th-century American engineers\",\"20th-century American mathematicians\",\"20th-century American scientists\",\"20th-century American women scientists\",\"Presidential Medal of Freedom recipients\",\"Computer science educators\",\"American software engineers\",\"20th-century women mathematicians\",\"Mathematicians from New York (state)\",\"Wardlaw-Hartridge School alumni\",\"WAVES personnel\"],\"wgPageContentLanguage\":\"en\",\"wgPageContentModel\":\"wikitext\",\"wgRelevantPageName\":\"Grace_Hopper\",\"wgRelevantArticleId\":12590,\"wgIsProbablyEditable\":true,\"wgRelevantPageIsProbablyEditable\":true,\n",
       "\"wgRestrictionEdit\":[],\"wgRestrictionMove\":[],\"wgFlaggedRevsParams\":{\"tags\":{\"status\":{\"levels\":1}}},\"wgVisualEditor\":{\"pageLanguageCode\":\"en\",\"pageLanguageDir\":\"ltr\",\"pageVariantFallbacks\":\"en\"},\"wgMFDisplayWikibaseDescriptions\":{\"search\":true,\"watchlist\":true,\"tagline\":false,\"nearby\":true},\"wgWMESchemaEditAttemptStepOversample\":false,\"wgWMEPageLength\":70000,\"wgNoticeProject\":\"wikipedia\",\"wgVector2022PreviewPages\":[],\"wgMediaViewerOnClick\":true,\"wgMediaViewerEnabledByDefault\":true,\"wgPopupsFlags\":10,\"wgULSCurrentAutonym\":\"English\",\"wgEditSubmitButtonLabelPublish\":true,\"wgCentralAuthMobileDomain\":false,\"wgULSPosition\":\"interlanguage\",\"wgULSisCompactLinksEnabled\":true,\"wgULSisLanguageSelectorEmpty\":false,\"wgWikibaseItemId\":\"Q11641\",\"GEHomepageSuggestedEditsEnableTopics\":true,\"wgGETopicsMatchModeEnabled\":false,\"wgGEStructuredTaskRejectionReasonTextInputEnabled\":false};RLSTATE={\"skins.vector.user.styles\":\"ready\",\"ext.globalCssJs.user.styles\":\"ready\",\"site.styles\":\"ready\",\"user.styles\":\n",
       "\"ready\",\"skins.vector.user\":\"ready\",\"ext.globalCssJs.user\":\"ready\",\"user\":\"ready\",\"user.options\":\"loading\",\"ext.cite.styles\":\"ready\",\"mediawiki.ui.button\":\"ready\",\"skins.vector.styles\":\"ready\",\"skins.vector.icons\":\"ready\",\"mediawiki.ui.icon\":\"ready\",\"jquery.makeCollapsible.styles\":\"ready\",\"ext.visualEditor.desktopArticleTarget.noscript\":\"ready\",\"ext.wikimediaBadges\":\"ready\",\"ext.uls.interlanguage\":\"ready\",\"wikibase.client.init\":\"ready\"};RLPAGEMODULES=[\"ext.cite.ux-enhancements\",\"site\",\"mediawiki.page.ready\",\"jquery.makeCollapsible\",\"mediawiki.toc\",\"skins.vector.js\",\"skins.vector.es6\",\"mmv.head\",\"mmv.bootstrap.autostart\",\"ext.visualEditor.desktopArticleTarget.init\",\"ext.visualEditor.targetLoader\",\"ext.eventLogging\",\"ext.wikimediaEvents\",\"ext.navigationTiming\",\"ext.cx.eventlogging.campaigns\",\"ext.centralNotice.geoIP\",\"ext.centralNotice.startUp\",\"ext.gadget.ReferenceTooltips\",\"ext.gadget.charinsert\",\"ext.gadget.extra-toolbar-buttons\",\"ext.gadget.switcher\",\n",
       "\"ext.centralauth.centralautologin\",\"ext.popups\",\"ext.echo.centralauth\",\"ext.uls.compactlinks\",\"ext.uls.interface\",\"ext.cx.uls.quick.actions\",\"wikibase.client.vector-2022\",\"ext.growthExperiments.SuggestedEditSession\"];</script>\n",
       "<script>(RLQ=window.RLQ||[]).push(function(){mw.loader.implement(\"user.options@12s5i\",function($,jQuery,require,module){mw.user.tokens.set({\"patrolToken\":\"+\\\\\",\"watchToken\":\"+\\\\\",\"csrfToken\":\"+\\\\\"});});});</script>\n",
       "<link href=\"/w/load.php?lang=en&amp;modules=ext.cite.styles%7Cext.uls.interlanguage%7Cext.visualEditor.desktopArticleTarget.noscript%7Cext.wikimediaBadges%7Cjquery.makeCollapsible.styles%7Cmediawiki.ui.button%2Cicon%7Cskins.vector.icons%2Cstyles%7Cwikibase.client.init&amp;only=styles&amp;skin=vector-2022\" rel=\"stylesheet\"/>\n",
       "<script async=\"\" src=\"/w/load.php?lang=en&amp;modules=startup&amp;only=scripts&amp;raw=1&amp;skin=vector-2022\"></script>\n",
       "<meta content=\"\" name=\"ResourceLoaderDynamicStyles\"/>\n",
       "<link href=\"/w/load.php?lang=en&amp;modules=site.styles&amp;only=styles&amp;skin=vector-2022\" rel=\"stylesheet\"/>\n",
       "<meta content=\"MediaWiki 1.40.0-wmf.22\" name=\"generator\"/>\n",
       "<meta content=\"origin\" name=\"referrer\"/>\n",
       "<meta content=\"origin-when-crossorigin\" name=\"referrer\"/>\n",
       "<meta content=\"origin-when-cross-origin\" name=\"referrer\"/>\n",
       "<meta content=\"max-image-preview:standard\" name=\"robots\"/>\n",
       "<meta content=\"telephone=no\" name=\"format-detection\"/>\n",
       "<meta content=\"https://upload.wikimedia.org/wikipedia/commons/thumb/a/ad/Commodore_Grace_M._Hopper%2C_USN_%28covered%29.jpg/1200px-Commodore_Grace_M._Hopper%2C_USN_%28covered%29.jpg\" property=\"og:image\"/>\n",
       "<meta content=\"1200\" property=\"og:image:width\"/>\n",
       "<meta content=\"1500\" property=\"og:image:height\"/>\n",
       "<meta content=\"https://upload.wikimedia.org/wikipedia/commons/thumb/a/ad/Commodore_Grace_M._Hopper%2C_USN_%28covered%29.jpg/800px-Commodore_Grace_M._Hopper%2C_USN_%28covered%29.jpg\" property=\"og:image\"/>\n",
       "<meta content=\"800\" property=\"og:image:width\"/>\n",
       "<meta content=\"1000\" property=\"og:image:height\"/>\n",
       "<meta content=\"https://upload.wikimedia.org/wikipedia/commons/thumb/a/ad/Commodore_Grace_M._Hopper%2C_USN_%28covered%29.jpg/640px-Commodore_Grace_M._Hopper%2C_USN_%28covered%29.jpg\" property=\"og:image\"/>\n",
       "<meta content=\"640\" property=\"og:image:width\"/>\n",
       "<meta content=\"800\" property=\"og:image:height\"/>\n",
       "<meta content=\"width=1000\" name=\"viewport\"/>\n",
       "<meta content=\"Grace Hopper - Wikipedia\" property=\"og:title\"/>\n",
       "<meta content=\"website\" property=\"og:type\"/>\n",
       "<link href=\"//upload.wikimedia.org\" rel=\"preconnect\"/>\n",
       "<link href=\"//en.m.wikipedia.org/wiki/Grace_Hopper\" media=\"only screen and (max-width: 720px)\" rel=\"alternate\"/>\n",
       "<link href=\"/w/index.php?title=Grace_Hopper&amp;action=edit\" rel=\"alternate\" title=\"Edit this page\" type=\"application/x-wiki\"/>\n",
       "<link href=\"/static/apple-touch/wikipedia.png\" rel=\"apple-touch-icon\"/>\n",
       "<link href=\"/static/favicon/wikipedia.ico\" rel=\"icon\"/>\n",
       "<link href=\"/w/opensearch_desc.php\" rel=\"search\" title=\"Wikipedia (en)\" type=\"application/opensearchdescription+xml\"/>\n",
       "<link href=\"//en.wikipedia.org/w/api.php?action=rsd\" rel=\"EditURI\" type=\"application/rsd+xml\"/>\n",
       "<link href=\"https://creativecommons.org/licenses/by-sa/3.0/\" rel=\"license\"/>\n",
       "<link href=\"https://en.wikipedia.org/wiki/Grace_Hopper\" rel=\"canonical\"/>\n",
       "<link href=\"//meta.wikimedia.org\" rel=\"dns-prefetch\"/>\n",
       "<link href=\"//login.wikimedia.org\" rel=\"dns-prefetch\"/>\n",
       "</head>\n",
       "<body class=\"skin-vector skin-vector-search-vue vector-toc-pinned mediawiki ltr sitedir-ltr mw-hide-empty-elt ns-0 ns-subject mw-editable page-Grace_Hopper rootpage-Grace_Hopper skin-vector-2022 action-view\"><div class=\"mw-page-container\">\n",
       "<a class=\"mw-jump-link\" href=\"#bodyContent\">Jump to content</a>\n",
       "<div class=\"mw-page-container-inner\">\n",
       "<input class=\"mw-checkbox-hack-checkbox\" id=\"mw-sidebar-checkbox\" type=\"checkbox\"/>\n",
       "<header class=\"mw-header mw-ui-icon-flush-left mw-ui-icon-flush-right\">\n",
       "<div class=\"vector-header-start\">\n",
       "<label aria-controls=\"mw-panel\" class=\"mw-checkbox-hack-button mw-ui-icon mw-ui-button mw-ui-quiet mw-ui-icon-element mw-ui-icon-flush-right\" data-event-name=\"ui.sidebar\" for=\"mw-sidebar-checkbox\" id=\"mw-sidebar-button\" role=\"button\" tabindex=\"0\" title=\"Main menu\">\n",
       "<span>Toggle sidebar</span>\n",
       "</label>\n",
       "<a class=\"mw-logo\" href=\"/wiki/Main_Page\">\n",
       "<img alt=\"\" aria-hidden=\"true\" class=\"mw-logo-icon\" height=\"50\" src=\"/static/images/icons/wikipedia.png\" width=\"50\"/>\n",
       "<span class=\"mw-logo-container\">\n",
       "<img alt=\"Wikipedia\" class=\"mw-logo-wordmark\" src=\"/static/images/mobile/copyright/wikipedia-wordmark-en.svg\" style=\"width: 7.5em; height: 1.125em;\"/>\n",
       "<img alt=\"The Free Encyclopedia\" class=\"mw-logo-tagline\" height=\"13\" src=\"/static/images/mobile/copyright/wikipedia-tagline-en.svg\" style=\"width: 7.3125em; height: 0.8125em;\" width=\"117\"/>\n",
       "</span>\n",
       "</a>\n",
       "</div>\n",
       "<div class=\"vector-header-end\">\n",
       "<div class=\"vector-search-box-vue vector-search-box-collapses vector-search-box-show-thumbnail vector-search-box-auto-expand-width vector-search-box\" id=\"p-search\" role=\"search\">\n",
       "<a accesskey=\"f\" class=\"mw-ui-button mw-ui-quiet mw-ui-icon mw-ui-icon-element mw-ui-icon-wikimedia-search search-toggle\" href=\"/wiki/Special:Search\" title=\"Search Wikipedia [f]\">\n",
       "<span>Search</span>\n",
       "</a>\n",
       "<div>\n",
       "<form action=\"/w/index.php\" class=\"vector-search-box-form\" id=\"searchform\">\n",
       "<div class=\"vector-search-box-inner\" data-search-loc=\"header-moved\" id=\"simpleSearch\">\n",
       "<input accesskey=\"f\" aria-label=\"Search Wikipedia\" autocapitalize=\"sentences\" class=\"vector-search-box-input\" id=\"searchInput\" name=\"search\" placeholder=\"Search Wikipedia\" title=\"Search Wikipedia [f]\" type=\"search\"/>\n",
       "<input name=\"title\" type=\"hidden\" value=\"Special:Search\"/>\n",
       "<input class=\"searchButton mw-fallbackSearchButton\" id=\"mw-searchButton\" name=\"fulltext\" title=\"Search Wikipedia for this text\" type=\"submit\" value=\"Search\"/>\n",
       "<input class=\"searchButton\" id=\"searchButton\" name=\"go\" title=\"Go to a page with this exact name if it exists\" type=\"submit\" value=\"Go\"/>\n",
       "</div>\n",
       "</form>\n",
       "</div>\n",
       "</div>\n",
       "<nav aria-label=\"Personal tools\" class=\"vector-user-links\" role=\"navigation\">\n",
       "<div class=\"vector-menu mw-portlet mw-portlet-vector-user-menu-overflow\" id=\"p-vector-user-menu-overflow\">\n",
       "<div class=\"vector-menu-heading\">\n",
       "</div>\n",
       "<div class=\"vector-menu-content\">\n",
       "<ul class=\"vector-menu-content-list\"><li class=\"user-links-collapsible-item mw-list-item\" id=\"pt-createaccount-2\"><a href=\"/w/index.php?title=Special:CreateAccount&amp;returnto=Grace+Hopper\" title=\"You are encouraged to create an account and log in; however, it is not mandatory\"><span>Create account</span></a></li><li class=\"user-links-collapsible-item mw-list-item\" id=\"pt-login-2\"><a accesskey=\"o\" href=\"/w/index.php?title=Special:UserLogin&amp;returnto=Grace+Hopper\" title=\"You're encouraged to log in; however, it's not mandatory. [o]\"><span>Log in</span></a></li></ul>\n",
       "</div>\n",
       "</div>\n",
       "<div class=\"vector-menu vector-dropdown vector-menu-dropdown mw-portlet mw-portlet-personal vector-user-menu vector-user-menu-logged-out\" id=\"p-personal\" title=\"Log in and more options\">\n",
       "<input aria-haspopup=\"true\" class=\"vector-menu-checkbox\" data-event-name=\"ui.dropdown-p-personal\" id=\"p-personal-checkbox\" role=\"button\" type=\"checkbox\"/>\n",
       "<label class=\"vector-menu-heading mw-checkbox-hack-button mw-ui-icon mw-ui-button mw-ui-quiet mw-ui-icon-element mw-ui-icon-wikimedia-ellipsis\" for=\"p-personal-checkbox\" id=\"p-personal-label\">\n",
       "<span class=\"vector-menu-heading-label\">Personal tools</span>\n",
       "</label>\n",
       "<div class=\"vector-menu-content\">\n",
       "<div class=\"vector-menu-content\">\n",
       "<ul class=\"vector-menu-content-list\"><li class=\"vector-user-menu-create-account user-links-collapsible-item\" id=\"pt-createaccount\"><a data-mw=\"interface\" href=\"/w/index.php?title=Special:CreateAccount&amp;returnto=Grace+Hopper\" title=\"You are encouraged to create an account and log in; however, it is not mandatory\"><span class=\"mw-ui-icon mw-ui-icon-userAdd mw-ui-icon-wikimedia-userAdd\"></span><span>Create account</span></a>\n",
       "</li><li class=\"vector-user-menu-login user-links-collapsible-item\" id=\"pt-login\"><a accesskey=\"o\" data-mw=\"interface\" href=\"/w/index.php?title=Special:UserLogin&amp;returnto=Grace+Hopper\" title=\"You're encouraged to log in; however, it's not mandatory. [o]\"><span class=\"mw-ui-icon mw-ui-icon-logIn mw-ui-icon-wikimedia-logIn\"></span><span>Log in</span></a>\n",
       "</li></ul>\n",
       "</div>\n",
       "<div class=\"vector-user-menu-anon-editor\">\n",
       "<p>\n",
       "\t\t\tPages for logged out editors <a aria-label=\"Learn more about editing\" data-mw=\"interface\" href=\"/wiki/Help:Introduction\"><span>learn more</span></a>\n",
       "</p>\n",
       "</div>\n",
       "<div class=\"vector-menu-content\">\n",
       "<ul class=\"vector-menu-content-list\"><li class=\"mw-list-item\" id=\"pt-anontalk\"><a accesskey=\"n\" href=\"/wiki/Special:MyTalk\" title=\"Discussion about edits from this IP address [n]\"><span>Talk</span></a></li><li class=\"mw-list-item\" id=\"pt-anoncontribs\"><a accesskey=\"y\" href=\"/wiki/Special:MyContributions\" title=\"A list of edits made from this IP address [y]\"><span>Contributions</span></a></li></ul>\n",
       "</div>\n",
       "</div>\n",
       "</div>\n",
       "</nav>\n",
       "</div>\n",
       "</header>\n",
       "<div class=\"vector-main-menu-container\">\n",
       "<div id=\"mw-navigation\">\n",
       "<nav aria-label=\"Site\" class=\"vector-main-menu-landmark\" id=\"mw-panel\" role=\"navigation\">\n",
       "<div class=\"vector-main-menu vector-pinnable-element\" id=\"vector-main-menu\">\n",
       "<div class=\"vector-main-menu-group vector-menu mw-portlet mw-portlet-navigation\" id=\"p-navigation\">\n",
       "<div class=\"vector-menu-heading\" id=\"p-navigation-label\">\n",
       "<span class=\"vector-menu-heading-label\">Navigation</span>\n",
       "</div>\n",
       "<div class=\"vector-menu-content\">\n",
       "<ul class=\"vector-menu-content-list\"><li class=\"mw-list-item\" id=\"n-mainpage-description\"><a accesskey=\"z\" href=\"/wiki/Main_Page\" title=\"Visit the main page [z]\"><span>Main page</span></a></li><li class=\"mw-list-item\" id=\"n-contents\"><a href=\"/wiki/Wikipedia:Contents\" title=\"Guides to browsing Wikipedia\"><span>Contents</span></a></li><li class=\"mw-list-item\" id=\"n-currentevents\"><a href=\"/wiki/Portal:Current_events\" title=\"Articles related to current events\"><span>Current events</span></a></li><li class=\"mw-list-item\" id=\"n-randompage\"><a accesskey=\"x\" href=\"/wiki/Special:Random\" title=\"Visit a randomly selected article [x]\"><span>Random article</span></a></li><li class=\"mw-list-item\" id=\"n-aboutsite\"><a href=\"/wiki/Wikipedia:About\" title=\"Learn about Wikipedia and how it works\"><span>About Wikipedia</span></a></li><li class=\"mw-list-item\" id=\"n-contactpage\"><a href=\"//en.wikipedia.org/wiki/Wikipedia:Contact_us\" title=\"How to contact Wikipedia\"><span>Contact us</span></a></li><li class=\"mw-list-item\" id=\"n-sitesupport\"><a href=\"https://donate.wikimedia.org/wiki/Special:FundraiserRedirector?utm_source=donate&amp;utm_medium=sidebar&amp;utm_campaign=C13_en.wikipedia.org&amp;uselang=en\" title=\"Support us by donating to the Wikimedia Foundation\"><span>Donate</span></a></li></ul>\n",
       "</div>\n",
       "</div>\n",
       "<div class=\"vector-main-menu-group vector-menu mw-portlet mw-portlet-interaction\" id=\"p-interaction\">\n",
       "<div class=\"vector-menu-heading\" id=\"p-interaction-label\">\n",
       "<span class=\"vector-menu-heading-label\">Contribute</span>\n",
       "</div>\n",
       "<div class=\"vector-menu-content\">\n",
       "<ul class=\"vector-menu-content-list\"><li class=\"mw-list-item\" id=\"n-help\"><a href=\"/wiki/Help:Contents\" title=\"Guidance on how to use and edit Wikipedia\"><span>Help</span></a></li><li class=\"mw-list-item\" id=\"n-introduction\"><a href=\"/wiki/Help:Introduction\" title=\"Learn how to edit Wikipedia\"><span>Learn to edit</span></a></li><li class=\"mw-list-item\" id=\"n-portal\"><a href=\"/wiki/Wikipedia:Community_portal\" title=\"The hub for editors\"><span>Community portal</span></a></li><li class=\"mw-list-item\" id=\"n-recentchanges\"><a accesskey=\"r\" href=\"/wiki/Special:RecentChanges\" title=\"A list of recent changes to Wikipedia [r]\"><span>Recent changes</span></a></li><li class=\"mw-list-item\" id=\"n-upload\"><a href=\"/wiki/Wikipedia:File_upload_wizard\" title=\"Add images or other media for use on Wikipedia\"><span>Upload file</span></a></li></ul>\n",
       "</div>\n",
       "</div>\n",
       "<div class=\"vector-main-menu-group vector-menu mw-portlet mw-portlet-tb\" id=\"p-tb\">\n",
       "<div class=\"vector-menu-heading\" id=\"p-tb-label\">\n",
       "<span class=\"vector-menu-heading-label\">Tools</span>\n",
       "</div>\n",
       "<div class=\"vector-menu-content\">\n",
       "<ul class=\"vector-menu-content-list\"><li class=\"mw-list-item\" id=\"t-whatlinkshere\"><a accesskey=\"j\" href=\"/wiki/Special:WhatLinksHere/Grace_Hopper\" title=\"List of all English Wikipedia pages containing links to this page [j]\"><span>What links here</span></a></li><li class=\"mw-list-item\" id=\"t-recentchangeslinked\"><a accesskey=\"k\" href=\"/wiki/Special:RecentChangesLinked/Grace_Hopper\" rel=\"nofollow\" title=\"Recent changes in pages linked from this page [k]\"><span>Related changes</span></a></li><li class=\"mw-list-item\" id=\"t-upload\"><a accesskey=\"u\" href=\"/wiki/Wikipedia:File_Upload_Wizard\" title=\"Upload files [u]\"><span>Upload file</span></a></li><li class=\"mw-list-item\" id=\"t-specialpages\"><a accesskey=\"q\" href=\"/wiki/Special:SpecialPages\" title=\"A list of all special pages [q]\"><span>Special pages</span></a></li><li class=\"mw-list-item\" id=\"t-permalink\"><a href=\"/w/index.php?title=Grace_Hopper&amp;oldid=1134605957\" title=\"Permanent link to this revision of this page\"><span>Permanent link</span></a></li><li class=\"mw-list-item\" id=\"t-info\"><a href=\"/w/index.php?title=Grace_Hopper&amp;action=info\" title=\"More information about this page\"><span>Page information</span></a></li><li class=\"mw-list-item\" id=\"t-cite\"><a href=\"/w/index.php?title=Special:CiteThisPage&amp;page=Grace_Hopper&amp;id=1134605957&amp;wpFormIdentifier=titleform\" title=\"Information on how to cite this page\"><span>Cite this page</span></a></li><li class=\"mw-list-item\" id=\"t-wikibase\"><a accesskey=\"g\" href=\"https://www.wikidata.org/wiki/Special:EntityPage/Q11641\" title=\"Structured data on this page hosted by Wikidata [g]\"><span>Wikidata item</span></a></li></ul>\n",
       "</div>\n",
       "</div>\n",
       "<div class=\"vector-main-menu-group vector-menu mw-portlet mw-portlet-coll-print_export\" id=\"p-coll-print_export\">\n",
       "<div class=\"vector-menu-heading\" id=\"p-coll-print_export-label\">\n",
       "<span class=\"vector-menu-heading-label\">Print/export</span>\n",
       "</div>\n",
       "<div class=\"vector-menu-content\">\n",
       "<ul class=\"vector-menu-content-list\"><li class=\"mw-list-item\" id=\"coll-download-as-rl\"><a href=\"/w/index.php?title=Special:DownloadAsPdf&amp;page=Grace_Hopper&amp;action=show-download-screen\" title=\"Download this page as a PDF file\"><span>Download as PDF</span></a></li><li class=\"mw-list-item\" id=\"t-print\"><a accesskey=\"p\" href=\"/w/index.php?title=Grace_Hopper&amp;printable=yes\" title=\"Printable version of this page [p]\"><span>Printable version</span></a></li></ul>\n",
       "</div>\n",
       "</div>\n",
       "<div class=\"vector-main-menu-group vector-menu mw-portlet mw-portlet-wikibase-otherprojects\" id=\"p-wikibase-otherprojects\">\n",
       "<div class=\"vector-menu-heading\" id=\"p-wikibase-otherprojects-label\">\n",
       "<span class=\"vector-menu-heading-label\">In other projects</span>\n",
       "</div>\n",
       "<div class=\"vector-menu-content\">\n",
       "<ul class=\"vector-menu-content-list\"><li class=\"wb-otherproject-link wb-otherproject-commons mw-list-item\"><a href=\"https://commons.wikimedia.org/wiki/Grace_Hopper\" hreflang=\"en\"><span>Wikimedia Commons</span></a></li><li class=\"wb-otherproject-link wb-otherproject-wikiquote mw-list-item\"><a href=\"https://en.wikiquote.org/wiki/Grace_Hopper\" hreflang=\"en\"><span>Wikiquote</span></a></li></ul>\n",
       "</div>\n",
       "</div>\n",
       "<div class=\"vector-main-menu-action vector-main-menu-action-lang-alert\">\n",
       "<div class=\"vector-main-menu-action-item\">\n",
       "<div class=\"vector-main-menu-action-heading vector-menu-heading\">Languages</div>\n",
       "<div class=\"vector-main-menu-action-content vector-menu-content\">\n",
       "<div class=\"mw-message-box-notice vector-language-sidebar-alert mw-message-box\">On this Wikipedia the language links are at the top of the page across from the article title. <a href=\"#p-lang-btn\">Go to top</a>.</div>\n",
       "</div>\n",
       "</div>\n",
       "</div>\n",
       "</div>\n",
       "</nav>\n",
       "</div>\n",
       "</div>\n",
       "<div class=\"vector-sitenotice-container\">\n",
       "<div id=\"siteNotice\"><!-- CentralNotice --></div>\n",
       "</div>\n",
       "<input class=\"mw-checkbox-hack-checkbox\" id=\"vector-toc-collapsed-checkbox\" type=\"checkbox\"/>\n",
       "<nav aria-label=\"Contents\" class=\"mw-table-of-contents-container\" data-event-name=\"ui.sidebar-toc\" id=\"mw-panel-toc\" role=\"navigation\">\n",
       "<div class=\"vector-pinned-container\" id=\"vector-toc-pinned-container\">\n",
       "<div class=\"vector-toc vector-pinnable-element\" id=\"vector-toc\">\n",
       "<div class=\"vector-pinnable-header vector-toc-pinnable-header vector-pinnable-header-pinned\" data-name=\"vector-toc\">\n",
       "<h2 class=\"vector-pinnable-header-label\">Contents</h2>\n",
       "<button class=\"vector-pinnable-header-toggle-button vector-pinnable-header-pin-button\" data-event-name=\"pinnable-header.vector-toc.pin\">move to sidebar</button>\n",
       "<button class=\"vector-pinnable-header-toggle-button vector-pinnable-header-unpin-button\" data-event-name=\"pinnable-header.vector-toc.unpin\">hide</button>\n",
       "</div>\n",
       "<ul class=\"vector-toc-contents\" id=\"mw-panel-toc-list\">\n",
       "<li class=\"vector-toc-list-item vector-toc-level-1\" id=\"toc-mw-content-text\">\n",
       "<a class=\"vector-toc-link\" href=\"#\">\n",
       "<div class=\"vector-toc-text\">(Top)</div>\n",
       "</a>\n",
       "</li>\n",
       "<li class=\"vector-toc-list-item vector-toc-level-1 vector-toc-list-item-expanded\" id=\"toc-Early_life_and_education\">\n",
       "<a class=\"vector-toc-link\" href=\"#Early_life_and_education\">\n",
       "<div class=\"vector-toc-text\">\n",
       "<span class=\"vector-toc-numb\">1</span>Early life and education</div>\n",
       "</a>\n",
       "<ul class=\"vector-toc-list\" id=\"toc-Early_life_and_education-sublist\">\n",
       "</ul>\n",
       "</li>\n",
       "<li class=\"vector-toc-list-item vector-toc-level-1 vector-toc-list-item-expanded\" id=\"toc-Career\">\n",
       "<a class=\"vector-toc-link\" href=\"#Career\">\n",
       "<div class=\"vector-toc-text\">\n",
       "<span class=\"vector-toc-numb\">2</span>Career</div>\n",
       "</a>\n",
       "<button aria-controls=\"toc-Career-sublist\" class=\"mw-ui-icon mw-ui-icon-wikimedia-expand mw-ui-icon-small vector-toc-toggle\">\n",
       "</button>\n",
       "<ul class=\"vector-toc-list\" id=\"toc-Career-sublist\">\n",
       "<li class=\"vector-toc-list-item vector-toc-level-2\" id=\"toc-World_War_II\">\n",
       "<a class=\"vector-toc-link\" href=\"#World_War_II\">\n",
       "<div class=\"vector-toc-text\">\n",
       "<span class=\"vector-toc-numb\">2.1</span>World War II</div>\n",
       "</a>\n",
       "<ul class=\"vector-toc-list\" id=\"toc-World_War_II-sublist\">\n",
       "</ul>\n",
       "</li>\n",
       "<li class=\"vector-toc-list-item vector-toc-level-2\" id=\"toc-UNIVAC\">\n",
       "<a class=\"vector-toc-link\" href=\"#UNIVAC\">\n",
       "<div class=\"vector-toc-text\">\n",
       "<span class=\"vector-toc-numb\">2.2</span>UNIVAC</div>\n",
       "</a>\n",
       "<ul class=\"vector-toc-list\" id=\"toc-UNIVAC-sublist\">\n",
       "</ul>\n",
       "</li>\n",
       "<li class=\"vector-toc-list-item vector-toc-level-2\" id=\"toc-COBOL\">\n",
       "<a class=\"vector-toc-link\" href=\"#COBOL\">\n",
       "<div class=\"vector-toc-text\">\n",
       "<span class=\"vector-toc-numb\">2.3</span>COBOL</div>\n",
       "</a>\n",
       "<ul class=\"vector-toc-list\" id=\"toc-COBOL-sublist\">\n",
       "</ul>\n",
       "</li>\n",
       "<li class=\"vector-toc-list-item vector-toc-level-2\" id=\"toc-Standards\">\n",
       "<a class=\"vector-toc-link\" href=\"#Standards\">\n",
       "<div class=\"vector-toc-text\">\n",
       "<span class=\"vector-toc-numb\">2.4</span>Standards</div>\n",
       "</a>\n",
       "<ul class=\"vector-toc-list\" id=\"toc-Standards-sublist\">\n",
       "</ul>\n",
       "</li>\n",
       "</ul>\n",
       "</li>\n",
       "<li class=\"vector-toc-list-item vector-toc-level-1 vector-toc-list-item-expanded\" id=\"toc-Retirement\">\n",
       "<a class=\"vector-toc-link\" href=\"#Retirement\">\n",
       "<div class=\"vector-toc-text\">\n",
       "<span class=\"vector-toc-numb\">3</span>Retirement</div>\n",
       "</a>\n",
       "<ul class=\"vector-toc-list\" id=\"toc-Retirement-sublist\">\n",
       "</ul>\n",
       "</li>\n",
       "<li class=\"vector-toc-list-item vector-toc-level-1 vector-toc-list-item-expanded\" id=\"toc-Post-retirement\">\n",
       "<a class=\"vector-toc-link\" href=\"#Post-retirement\">\n",
       "<div class=\"vector-toc-text\">\n",
       "<span class=\"vector-toc-numb\">4</span>Post-retirement</div>\n",
       "</a>\n",
       "<ul class=\"vector-toc-list\" id=\"toc-Post-retirement-sublist\">\n",
       "</ul>\n",
       "</li>\n",
       "<li class=\"vector-toc-list-item vector-toc-level-1 vector-toc-list-item-expanded\" id=\"toc-Anecdotes\">\n",
       "<a class=\"vector-toc-link\" href=\"#Anecdotes\">\n",
       "<div class=\"vector-toc-text\">\n",
       "<span class=\"vector-toc-numb\">5</span>Anecdotes</div>\n",
       "</a>\n",
       "<ul class=\"vector-toc-list\" id=\"toc-Anecdotes-sublist\">\n",
       "</ul>\n",
       "</li>\n",
       "<li class=\"vector-toc-list-item vector-toc-level-1 vector-toc-list-item-expanded\" id=\"toc-Death\">\n",
       "<a class=\"vector-toc-link\" href=\"#Death\">\n",
       "<div class=\"vector-toc-text\">\n",
       "<span class=\"vector-toc-numb\">6</span>Death</div>\n",
       "</a>\n",
       "<ul class=\"vector-toc-list\" id=\"toc-Death-sublist\">\n",
       "</ul>\n",
       "</li>\n",
       "<li class=\"vector-toc-list-item vector-toc-level-1 vector-toc-list-item-expanded\" id=\"toc-Dates_of_rank\">\n",
       "<a class=\"vector-toc-link\" href=\"#Dates_of_rank\">\n",
       "<div class=\"vector-toc-text\">\n",
       "<span class=\"vector-toc-numb\">7</span>Dates of rank</div>\n",
       "</a>\n",
       "<ul class=\"vector-toc-list\" id=\"toc-Dates_of_rank-sublist\">\n",
       "</ul>\n",
       "</li>\n",
       "<li class=\"vector-toc-list-item vector-toc-level-1 vector-toc-list-item-expanded\" id=\"toc-Awards_and_honors\">\n",
       "<a class=\"vector-toc-link\" href=\"#Awards_and_honors\">\n",
       "<div class=\"vector-toc-text\">\n",
       "<span class=\"vector-toc-numb\">8</span>Awards and honors</div>\n",
       "</a>\n",
       "<button aria-controls=\"toc-Awards_and_honors-sublist\" class=\"mw-ui-icon mw-ui-icon-wikimedia-expand mw-ui-icon-small vector-toc-toggle\">\n",
       "</button>\n",
       "<ul class=\"vector-toc-list\" id=\"toc-Awards_and_honors-sublist\">\n",
       "<li class=\"vector-toc-list-item vector-toc-level-2\" id=\"toc-Military_awards\">\n",
       "<a class=\"vector-toc-link\" href=\"#Military_awards\">\n",
       "<div class=\"vector-toc-text\">\n",
       "<span class=\"vector-toc-numb\">8.1</span>Military awards</div>\n",
       "</a>\n",
       "<ul class=\"vector-toc-list\" id=\"toc-Military_awards-sublist\">\n",
       "</ul>\n",
       "</li>\n",
       "<li class=\"vector-toc-list-item vector-toc-level-2\" id=\"toc-Other_awards\">\n",
       "<a class=\"vector-toc-link\" href=\"#Other_awards\">\n",
       "<div class=\"vector-toc-text\">\n",
       "<span class=\"vector-toc-numb\">8.2</span>Other awards</div>\n",
       "</a>\n",
       "<ul class=\"vector-toc-list\" id=\"toc-Other_awards-sublist\">\n",
       "</ul>\n",
       "</li>\n",
       "</ul>\n",
       "</li>\n",
       "<li class=\"vector-toc-list-item vector-toc-level-1 vector-toc-list-item-expanded\" id=\"toc-Legacy\">\n",
       "<a class=\"vector-toc-link\" href=\"#Legacy\">\n",
       "<div class=\"vector-toc-text\">\n",
       "<span class=\"vector-toc-numb\">9</span>Legacy</div>\n",
       "</a>\n",
       "<button aria-controls=\"toc-Legacy-sublist\" class=\"mw-ui-icon mw-ui-icon-wikimedia-expand mw-ui-icon-small vector-toc-toggle\">\n",
       "</button>\n",
       "<ul class=\"vector-toc-list\" id=\"toc-Legacy-sublist\">\n",
       "<li class=\"vector-toc-list-item vector-toc-level-2\" id=\"toc-Places\">\n",
       "<a class=\"vector-toc-link\" href=\"#Places\">\n",
       "<div class=\"vector-toc-text\">\n",
       "<span class=\"vector-toc-numb\">9.1</span>Places</div>\n",
       "</a>\n",
       "<ul class=\"vector-toc-list\" id=\"toc-Places-sublist\">\n",
       "</ul>\n",
       "</li>\n",
       "<li class=\"vector-toc-list-item vector-toc-level-2\" id=\"toc-Programs\">\n",
       "<a class=\"vector-toc-link\" href=\"#Programs\">\n",
       "<div class=\"vector-toc-text\">\n",
       "<span class=\"vector-toc-numb\">9.2</span>Programs</div>\n",
       "</a>\n",
       "<ul class=\"vector-toc-list\" id=\"toc-Programs-sublist\">\n",
       "</ul>\n",
       "</li>\n",
       "<li class=\"vector-toc-list-item vector-toc-level-2\" id=\"toc-In_popular_culture\">\n",
       "<a class=\"vector-toc-link\" href=\"#In_popular_culture\">\n",
       "<div class=\"vector-toc-text\">\n",
       "<span class=\"vector-toc-numb\">9.3</span>In popular culture</div>\n",
       "</a>\n",
       "<ul class=\"vector-toc-list\" id=\"toc-In_popular_culture-sublist\">\n",
       "<li class=\"vector-toc-list-item vector-toc-level-3\" id=\"toc-Grace_Hopper_Celebration_of_Women_in_Computing\">\n",
       "<a class=\"vector-toc-link\" href=\"#Grace_Hopper_Celebration_of_Women_in_Computing\">\n",
       "<div class=\"vector-toc-text\">\n",
       "<span class=\"vector-toc-numb\">9.3.1</span>Grace Hopper Celebration of Women in Computing</div>\n",
       "</a>\n",
       "<ul class=\"vector-toc-list\" id=\"toc-Grace_Hopper_Celebration_of_Women_in_Computing-sublist\">\n",
       "</ul>\n",
       "</li>\n",
       "</ul>\n",
       "</li>\n",
       "</ul>\n",
       "</li>\n",
       "<li class=\"vector-toc-list-item vector-toc-level-1 vector-toc-list-item-expanded\" id=\"toc-See_also\">\n",
       "<a class=\"vector-toc-link\" href=\"#See_also\">\n",
       "<div class=\"vector-toc-text\">\n",
       "<span class=\"vector-toc-numb\">10</span>See also</div>\n",
       "</a>\n",
       "<ul class=\"vector-toc-list\" id=\"toc-See_also-sublist\">\n",
       "</ul>\n",
       "</li>\n",
       "<li class=\"vector-toc-list-item vector-toc-level-1 vector-toc-list-item-expanded\" id=\"toc-Notes\">\n",
       "<a class=\"vector-toc-link\" href=\"#Notes\">\n",
       "<div class=\"vector-toc-text\">\n",
       "<span class=\"vector-toc-numb\">11</span>Notes</div>\n",
       "</a>\n",
       "<ul class=\"vector-toc-list\" id=\"toc-Notes-sublist\">\n",
       "</ul>\n",
       "</li>\n",
       "<li class=\"vector-toc-list-item vector-toc-level-1 vector-toc-list-item-expanded\" id=\"toc-Obituary_notices\">\n",
       "<a class=\"vector-toc-link\" href=\"#Obituary_notices\">\n",
       "<div class=\"vector-toc-text\">\n",
       "<span class=\"vector-toc-numb\">12</span>Obituary notices</div>\n",
       "</a>\n",
       "<ul class=\"vector-toc-list\" id=\"toc-Obituary_notices-sublist\">\n",
       "</ul>\n",
       "</li>\n",
       "<li class=\"vector-toc-list-item vector-toc-level-1 vector-toc-list-item-expanded\" id=\"toc-References\">\n",
       "<a class=\"vector-toc-link\" href=\"#References\">\n",
       "<div class=\"vector-toc-text\">\n",
       "<span class=\"vector-toc-numb\">13</span>References</div>\n",
       "</a>\n",
       "<ul class=\"vector-toc-list\" id=\"toc-References-sublist\">\n",
       "</ul>\n",
       "</li>\n",
       "<li class=\"vector-toc-list-item vector-toc-level-1 vector-toc-list-item-expanded\" id=\"toc-Further_reading\">\n",
       "<a class=\"vector-toc-link\" href=\"#Further_reading\">\n",
       "<div class=\"vector-toc-text\">\n",
       "<span class=\"vector-toc-numb\">14</span>Further reading</div>\n",
       "</a>\n",
       "<ul class=\"vector-toc-list\" id=\"toc-Further_reading-sublist\">\n",
       "</ul>\n",
       "</li>\n",
       "<li class=\"vector-toc-list-item vector-toc-level-1 vector-toc-list-item-expanded\" id=\"toc-External_links\">\n",
       "<a class=\"vector-toc-link\" href=\"#External_links\">\n",
       "<div class=\"vector-toc-text\">\n",
       "<span class=\"vector-toc-numb\">15</span>External links</div>\n",
       "</a>\n",
       "<ul class=\"vector-toc-list\" id=\"toc-External_links-sublist\">\n",
       "</ul>\n",
       "</li>\n",
       "</ul>\n",
       "</div>\n",
       "</div>\n",
       "</nav>\n",
       "<div class=\"mw-content-container\">\n",
       "<main class=\"mw-body\" id=\"content\" role=\"main\">\n",
       "<header class=\"mw-body-header vector-page-titlebar\">\n",
       "<label aria-controls=\"toc-toggle-list\" class=\"mw-ui-button mw-ui-quiet mw-ui-icon mw-ui-icon-flush-left mw-ui-icon-element mw-ui-icon-wikimedia-listBullet mw-checkbox-hack-button\" data-event-name=\"vector.toc-toggle-list\" for=\"vector-toc-collapsed-checkbox\" id=\"vector-toc-collapsed-button\" role=\"button\" tabindex=\"0\" title=\"Table of Contents\">\n",
       "\t\t\t\t\t\tToggle the table of contents\n",
       "\t\t\t\t\t</label>\n",
       "<div class=\"vector-menu vector-dropdown vector-menu-dropdown vector-page-titlebar-toc mw-ui-icon-flush-left\" id=\"vector-page-titlebar-toc\">\n",
       "<input aria-haspopup=\"true\" class=\"vector-menu-checkbox\" data-event-name=\"ui.dropdown-vector-page-titlebar-toc\" id=\"vector-page-titlebar-toc-checkbox\" role=\"button\" type=\"checkbox\"/>\n",
       "<label class=\"vector-menu-heading mw-checkbox-hack-button mw-ui-icon mw-ui-button mw-ui-quiet mw-ui-icon-element mw-ui-icon-wikimedia-listBullet\" for=\"vector-page-titlebar-toc-checkbox\" id=\"vector-page-titlebar-toc-label\">\n",
       "<span class=\"vector-menu-heading-label\"></span>\n",
       "</label>\n",
       "<div class=\"vector-menu-content\">\n",
       "<div class=\"vector-unpinned-container\" id=\"vector-page-titlebar-toc-unpinned-container\">\n",
       "</div>\n",
       "</div>\n",
       "</div>\n",
       "<h1 class=\"firstHeading mw-first-heading\" id=\"firstHeading\"><span class=\"mw-page-title-main\">Grace Hopper</span></h1>\n",
       "<div class=\"vector-menu vector-dropdown vector-menu-dropdown mw-portlet mw-portlet-lang mw-ui-icon-flush-right\" id=\"p-lang-btn\">\n",
       "<input aria-haspopup=\"true\" aria-label=\"Go to an article in another language. Available in 66 languages\" class=\"vector-menu-checkbox mw-interlanguage-selector\" data-event-name=\"ui.dropdown-p-lang-btn\" id=\"p-lang-btn-checkbox\" role=\"button\" type=\"checkbox\"/>\n",
       "<label class=\"vector-menu-heading mw-ui-button mw-ui-quiet mw-ui-progressive mw-portlet-lang-heading-66\" for=\"p-lang-btn-checkbox\" id=\"p-lang-btn-label\">\n",
       "<span class=\"mw-ui-icon mw-ui-icon-wikimedia-language-progressive\"></span><span class=\"vector-menu-heading-label\">66 languages</span>\n",
       "</label>\n",
       "<div class=\"vector-menu-content\">\n",
       "<div class=\"vector-menu-content\">\n",
       "<ul class=\"vector-menu-content-list\"><li class=\"interlanguage-link interwiki-af mw-list-item\"><a class=\"interlanguage-link-target\" href=\"https://af.wikipedia.org/wiki/Grace_Hopper\" hreflang=\"af\" lang=\"af\" title=\"Grace Hopper – Afrikaans\"><span>Afrikaans</span></a></li><li class=\"interlanguage-link interwiki-ar mw-list-item\"><a class=\"interlanguage-link-target\" href=\"https://ar.wikipedia.org/wiki/%D8%AC%D8%B1%D9%8A%D8%B3_%D9%87%D9%88%D8%A8%D8%B1\" hreflang=\"ar\" lang=\"ar\" title=\"جريس هوبر – Arabic\"><span>العربية</span></a></li><li class=\"interlanguage-link interwiki-ast mw-list-item\"><a class=\"interlanguage-link-target\" href=\"https://ast.wikipedia.org/wiki/Grace_Murray_Hopper\" hreflang=\"ast\" lang=\"ast\" title=\"Grace Murray Hopper – Asturian\"><span>Asturianu</span></a></li><li class=\"interlanguage-link interwiki-az mw-list-item\"><a class=\"interlanguage-link-target\" href=\"https://az.wikipedia.org/wiki/Qreys_M%C3%BCrrey_Hopper\" hreflang=\"az\" lang=\"az\" title=\"Qreys Mürrey Hopper – Azerbaijani\"><span>Azərbaycanca</span></a></li><li class=\"interlanguage-link interwiki-bn mw-list-item\"><a class=\"interlanguage-link-target\" href=\"https://bn.wikipedia.org/wiki/%E0%A6%97%E0%A7%8D%E0%A6%B0%E0%A7%87%E0%A6%B8_%E0%A6%B9%E0%A6%AA%E0%A6%BE%E0%A6%B0\" hreflang=\"bn\" lang=\"bn\" title=\"গ্রেস হপার – Bangla\"><span>বাংলা</span></a></li><li class=\"interlanguage-link interwiki-zh-min-nan mw-list-item\"><a class=\"interlanguage-link-target\" href=\"https://zh-min-nan.wikipedia.org/wiki/Grace_Hopper\" hreflang=\"nan\" lang=\"nan\" title=\"Grace Hopper – Chinese (Min Nan)\"><span>Bân-lâm-gú</span></a></li><li class=\"interlanguage-link interwiki-bcl mw-list-item\"><a class=\"interlanguage-link-target\" href=\"https://bcl.wikipedia.org/wiki/Grace_Hopper\" hreflang=\"bcl\" lang=\"bcl\" title=\"Grace Hopper – Central Bikol\"><span>Bikol Central</span></a></li><li class=\"interlanguage-link interwiki-bg mw-list-item\"><a class=\"interlanguage-link-target\" href=\"https://bg.wikipedia.org/wiki/%D0%93%D1%80%D0%B5%D0%B9%D1%81_%D0%A5%D0%BE%D0%BF%D1%8A%D1%80\" hreflang=\"bg\" lang=\"bg\" title=\"Грейс Хопър – Bulgarian\"><span>Български</span></a></li><li class=\"interlanguage-link interwiki-ca mw-list-item\"><a class=\"interlanguage-link-target\" href=\"https://ca.wikipedia.org/wiki/Grace_Hopper\" hreflang=\"ca\" lang=\"ca\" title=\"Grace Hopper – Catalan\"><span>Català</span></a></li><li class=\"interlanguage-link interwiki-cs mw-list-item\"><a class=\"interlanguage-link-target\" href=\"https://cs.wikipedia.org/wiki/Grace_Hopperov%C3%A1\" hreflang=\"cs\" lang=\"cs\" title=\"Grace Hopperová – Czech\"><span>Čeština</span></a></li><li class=\"interlanguage-link interwiki-cy mw-list-item\"><a class=\"interlanguage-link-target\" href=\"https://cy.wikipedia.org/wiki/Grace_Hopper\" hreflang=\"cy\" lang=\"cy\" title=\"Grace Hopper – Welsh\"><span>Cymraeg</span></a></li><li class=\"interlanguage-link interwiki-da mw-list-item\"><a class=\"interlanguage-link-target\" href=\"https://da.wikipedia.org/wiki/Grace_Hopper\" hreflang=\"da\" lang=\"da\" title=\"Grace Hopper – Danish\"><span>Dansk</span></a></li><li class=\"interlanguage-link interwiki-de mw-list-item\"><a class=\"interlanguage-link-target\" href=\"https://de.wikipedia.org/wiki/Grace_Hopper\" hreflang=\"de\" lang=\"de\" title=\"Grace Hopper – German\"><span>Deutsch</span></a></li><li class=\"interlanguage-link interwiki-el mw-list-item\"><a class=\"interlanguage-link-target\" href=\"https://el.wikipedia.org/wiki/%CE%93%CE%BA%CF%81%CE%AD%CE%B9%CF%82_%CE%9C%CE%AC%CF%81%CE%B5%CF%8A_%CE%A7%CF%8C%CF%80%CE%B5%CF%81\" hreflang=\"el\" lang=\"el\" title=\"Γκρέις Μάρεϊ Χόπερ – Greek\"><span>Ελληνικά</span></a></li><li class=\"interlanguage-link interwiki-es mw-list-item\"><a class=\"interlanguage-link-target\" href=\"https://es.wikipedia.org/wiki/Grace_Murray_Hopper\" hreflang=\"es\" lang=\"es\" title=\"Grace Murray Hopper – Spanish\"><span>Español</span></a></li><li class=\"interlanguage-link interwiki-eu mw-list-item\"><a class=\"interlanguage-link-target\" href=\"https://eu.wikipedia.org/wiki/Grace_Hopper\" hreflang=\"eu\" lang=\"eu\" title=\"Grace Hopper – Basque\"><span>Euskara</span></a></li><li class=\"interlanguage-link interwiki-fa mw-list-item\"><a class=\"interlanguage-link-target\" href=\"https://fa.wikipedia.org/wiki/%DA%AF%D8%B1%DB%8C%D8%B3_%D9%87%D8%A7%D9%BE%D8%B1\" hreflang=\"fa\" lang=\"fa\" title=\"گریس هاپر – Persian\"><span>فارسی</span></a></li><li class=\"interlanguage-link interwiki-fr mw-list-item\"><a class=\"interlanguage-link-target\" href=\"https://fr.wikipedia.org/wiki/Grace_Hopper\" hreflang=\"fr\" lang=\"fr\" title=\"Grace Hopper – French\"><span>Français</span></a></li><li class=\"interlanguage-link interwiki-ga mw-list-item\"><a class=\"interlanguage-link-target\" href=\"https://ga.wikipedia.org/wiki/Grace_Hopper\" hreflang=\"ga\" lang=\"ga\" title=\"Grace Hopper – Irish\"><span>Gaeilge</span></a></li><li class=\"interlanguage-link interwiki-gl mw-list-item\"><a class=\"interlanguage-link-target\" href=\"https://gl.wikipedia.org/wiki/Grace_Hopper\" hreflang=\"gl\" lang=\"gl\" title=\"Grace Hopper – Galician\"><span>Galego</span></a></li><li class=\"interlanguage-link interwiki-ko mw-list-item\"><a class=\"interlanguage-link-target\" href=\"https://ko.wikipedia.org/wiki/%EA%B7%B8%EB%A0%88%EC%9D%B4%EC%8A%A4_%ED%98%B8%ED%8D%BC\" hreflang=\"ko\" lang=\"ko\" title=\"그레이스 호퍼 – Korean\"><span>한국어</span></a></li><li class=\"interlanguage-link interwiki-hy mw-list-item\"><a class=\"interlanguage-link-target\" href=\"https://hy.wikipedia.org/wiki/%D4%B3%D6%80%D5%A5%D5%B5%D5%BD_%D5%80%D5%B8%D6%83%D5%A5%D6%80\" hreflang=\"hy\" lang=\"hy\" title=\"Գրեյս Հոփեր – Armenian\"><span>Հայերեն</span></a></li><li class=\"interlanguage-link interwiki-hi mw-list-item\"><a class=\"interlanguage-link-target\" href=\"https://hi.wikipedia.org/wiki/%E0%A4%97%E0%A5%8D%E0%A4%B0%E0%A5%87%E0%A4%B8_%E0%A4%B9%E0%A5%82%E0%A4%AA%E0%A4%B0\" hreflang=\"hi\" lang=\"hi\" title=\"ग्रेस हूपर – Hindi\"><span>हिन्दी</span></a></li><li class=\"interlanguage-link interwiki-id mw-list-item\"><a class=\"interlanguage-link-target\" href=\"https://id.wikipedia.org/wiki/Grace_Hopper\" hreflang=\"id\" lang=\"id\" title=\"Grace Hopper – Indonesian\"><span>Bahasa Indonesia</span></a></li><li class=\"interlanguage-link interwiki-is mw-list-item\"><a class=\"interlanguage-link-target\" href=\"https://is.wikipedia.org/wiki/Grace_Hopper\" hreflang=\"is\" lang=\"is\" title=\"Grace Hopper – Icelandic\"><span>Íslenska</span></a></li><li class=\"interlanguage-link interwiki-it mw-list-item\"><a class=\"interlanguage-link-target\" href=\"https://it.wikipedia.org/wiki/Grace_Murray_Hopper\" hreflang=\"it\" lang=\"it\" title=\"Grace Murray Hopper – Italian\"><span>Italiano</span></a></li><li class=\"interlanguage-link interwiki-he mw-list-item\"><a class=\"interlanguage-link-target\" href=\"https://he.wikipedia.org/wiki/%D7%92%D7%A8%D7%99%D7%99%D7%A1_%D7%94%D7%95%D7%A4%D7%A8\" hreflang=\"he\" lang=\"he\" title=\"גרייס הופר – Hebrew\"><span>עברית</span></a></li><li class=\"interlanguage-link interwiki-kn mw-list-item\"><a class=\"interlanguage-link-target\" href=\"https://kn.wikipedia.org/wiki/%E0%B2%97%E0%B3%8D%E0%B2%B0%E0%B3%87%E0%B2%B8%E0%B3%8D_%E0%B2%AC%E0%B3%8D%E0%B2%B0%E0%B3%86%E0%B2%B5%E0%B3%8D%E0%B2%B8%E0%B3%8D%E0%B2%9F%E0%B2%B0%E0%B3%8D_%E0%B2%AE%E0%B3%81%E0%B2%B0%E0%B3%8D%E0%B2%B0%E0%B3%86_%E0%B2%B9%E0%B2%BE%E0%B2%AA%E0%B2%B0%E0%B3%8D\" hreflang=\"kn\" lang=\"kn\" title=\"ಗ್ರೇಸ್ ಬ್ರೆವ್ಸ್ಟರ್ ಮುರ್ರೆ ಹಾಪರ್ – Kannada\"><span>ಕನ್ನಡ</span></a></li><li class=\"interlanguage-link interwiki-ka mw-list-item\"><a class=\"interlanguage-link-target\" href=\"https://ka.wikipedia.org/wiki/%E1%83%92%E1%83%A0%E1%83%94%E1%83%98%E1%83%A1_%E1%83%B0%E1%83%9D%E1%83%9E%E1%83%94%E1%83%A0%E1%83%98\" hreflang=\"ka\" lang=\"ka\" title=\"გრეის ჰოპერი – Georgian\"><span>ქართული</span></a></li><li class=\"interlanguage-link interwiki-kk mw-list-item\"><a class=\"interlanguage-link-target\" href=\"https://kk.wikipedia.org/wiki/%D0%93%D1%80%D0%B5%D0%B9%D1%81_%D0%A5%D0%BE%D0%BF%D0%BF%D0%B5%D1%80\" hreflang=\"kk\" lang=\"kk\" title=\"Грейс Хоппер – Kazakh\"><span>Қазақша</span></a></li><li class=\"interlanguage-link interwiki-kw mw-list-item\"><a class=\"interlanguage-link-target\" href=\"https://kw.wikipedia.org/wiki/Grace_Hopper\" hreflang=\"kw\" lang=\"kw\" title=\"Grace Hopper – Cornish\"><span>Kernowek</span></a></li><li class=\"interlanguage-link interwiki-ht mw-list-item\"><a class=\"interlanguage-link-target\" href=\"https://ht.wikipedia.org/wiki/Grace_Hopper\" hreflang=\"ht\" lang=\"ht\" title=\"Grace Hopper – Haitian Creole\"><span>Kreyòl ayisyen</span></a></li><li class=\"interlanguage-link interwiki-la mw-list-item\"><a class=\"interlanguage-link-target\" href=\"https://la.wikipedia.org/wiki/Gratia_Hopper\" hreflang=\"la\" lang=\"la\" title=\"Gratia Hopper – Latin\"><span>Latina</span></a></li><li class=\"interlanguage-link interwiki-lv mw-list-item\"><a class=\"interlanguage-link-target\" href=\"https://lv.wikipedia.org/wiki/Greisa_Hopera\" hreflang=\"lv\" lang=\"lv\" title=\"Greisa Hopera – Latvian\"><span>Latviešu</span></a></li><li class=\"interlanguage-link interwiki-lt mw-list-item\"><a class=\"interlanguage-link-target\" href=\"https://lt.wikipedia.org/wiki/Grace_Hopper\" hreflang=\"lt\" lang=\"lt\" title=\"Grace Hopper – Lithuanian\"><span>Lietuvių</span></a></li><li class=\"interlanguage-link interwiki-hu mw-list-item\"><a class=\"interlanguage-link-target\" href=\"https://hu.wikipedia.org/wiki/Grace_Hopper\" hreflang=\"hu\" lang=\"hu\" title=\"Grace Hopper – Hungarian\"><span>Magyar</span></a></li><li class=\"interlanguage-link interwiki-mai mw-list-item\"><a class=\"interlanguage-link-target\" href=\"https://mai.wikipedia.org/wiki/%E0%A4%97%E0%A5%8D%E0%A4%B0%E0%A5%87%E0%A4%B8_%E0%A4%B9%E0%A5%82%E0%A4%AA%E0%A4%B0\" hreflang=\"mai\" lang=\"mai\" title=\"ग्रेस हूपर – Maithili\"><span>मैथिली</span></a></li><li class=\"interlanguage-link interwiki-mk mw-list-item\"><a class=\"interlanguage-link-target\" href=\"https://mk.wikipedia.org/wiki/%D0%93%D1%80%D0%B5%D1%98%D1%81_%D0%A5%D0%BE%D0%BF%D0%B5%D1%80\" hreflang=\"mk\" lang=\"mk\" title=\"Грејс Хопер – Macedonian\"><span>Македонски</span></a></li><li class=\"interlanguage-link interwiki-ml mw-list-item\"><a class=\"interlanguage-link-target\" href=\"https://ml.wikipedia.org/wiki/%E0%B4%97%E0%B5%8D%E0%B4%B0%E0%B5%87%E0%B4%B8%E0%B5%8D_%E0%B4%AE%E0%B5%81%E0%B4%B1%E0%B5%87_%E0%B4%B9%E0%B5%8B%E0%B4%AA%E0%B5%8D%E0%B4%AA%E0%B5%BC\" hreflang=\"ml\" lang=\"ml\" title=\"ഗ്രേസ് മുറേ ഹോപ്പർ – Malayalam\"><span>മലയാളം</span></a></li><li class=\"interlanguage-link interwiki-xmf mw-list-item\"><a class=\"interlanguage-link-target\" href=\"https://xmf.wikipedia.org/wiki/%E1%83%92%E1%83%A0%E1%83%94%E1%83%98%E1%83%A1_%E1%83%B0%E1%83%9D%E1%83%9E%E1%83%94%E1%83%A0%E1%83%98\" hreflang=\"xmf\" lang=\"xmf\" title=\"გრეის ჰოპერი – Mingrelian\"><span>მარგალური</span></a></li><li class=\"interlanguage-link interwiki-arz mw-list-item\"><a class=\"interlanguage-link-target\" href=\"https://arz.wikipedia.org/wiki/%D8%AC%D8%B1%D9%8A%D8%B3_%D9%87%D9%88%D8%A8%D8%B1\" hreflang=\"arz\" lang=\"arz\" title=\"جريس هوبر – Egyptian Arabic\"><span>مصرى</span></a></li><li class=\"interlanguage-link interwiki-nl mw-list-item\"><a class=\"interlanguage-link-target\" href=\"https://nl.wikipedia.org/wiki/Grace_Hopper\" hreflang=\"nl\" lang=\"nl\" title=\"Grace Hopper – Dutch\"><span>Nederlands</span></a></li><li class=\"interlanguage-link interwiki-ja mw-list-item\"><a class=\"interlanguage-link-target\" href=\"https://ja.wikipedia.org/wiki/%E3%82%B0%E3%83%AC%E3%83%BC%E3%82%B9%E3%83%BB%E3%83%9B%E3%83%83%E3%83%91%E3%83%BC\" hreflang=\"ja\" lang=\"ja\" title=\"グレース・ホッパー – Japanese\"><span>日本語</span></a></li><li class=\"interlanguage-link interwiki-no mw-list-item\"><a class=\"interlanguage-link-target\" href=\"https://no.wikipedia.org/wiki/Grace_Hopper\" hreflang=\"nb\" lang=\"nb\" title=\"Grace Hopper – Norwegian Bokmål\"><span>Norsk bokmål</span></a></li><li class=\"interlanguage-link interwiki-pnb mw-list-item\"><a class=\"interlanguage-link-target\" href=\"https://pnb.wikipedia.org/wiki/%DA%AF%D8%B1%DB%8C%D8%B3_%DB%81%D8%A7%D9%BE%D8%B1\" hreflang=\"pnb\" lang=\"pnb\" title=\"گریس ہاپر – Western Punjabi\"><span>پنجابی</span></a></li><li class=\"interlanguage-link interwiki-ps mw-list-item\"><a class=\"interlanguage-link-target\" href=\"https://ps.wikipedia.org/wiki/%DA%AB%D8%B1%DB%90%D8%B3_%D9%87%D9%88%D9%BE%D8%B1\" hreflang=\"ps\" lang=\"ps\" title=\"ګرېس هوپر – Pashto\"><span>پښتو</span></a></li><li class=\"interlanguage-link interwiki-pms mw-list-item\"><a class=\"interlanguage-link-target\" href=\"https://pms.wikipedia.org/wiki/Grace_Murray_Hopper\" hreflang=\"pms\" lang=\"pms\" title=\"Grace Murray Hopper – Piedmontese\"><span>Piemontèis</span></a></li><li class=\"interlanguage-link interwiki-pl mw-list-item\"><a class=\"interlanguage-link-target\" href=\"https://pl.wikipedia.org/wiki/Grace_Hopper\" hreflang=\"pl\" lang=\"pl\" title=\"Grace Hopper – Polish\"><span>Polski</span></a></li><li class=\"interlanguage-link interwiki-pt mw-list-item\"><a class=\"interlanguage-link-target\" href=\"https://pt.wikipedia.org/wiki/Grace_Hopper\" hreflang=\"pt\" lang=\"pt\" title=\"Grace Hopper – Portuguese\"><span>Português</span></a></li><li class=\"interlanguage-link interwiki-ru mw-list-item\"><a class=\"interlanguage-link-target\" href=\"https://ru.wikipedia.org/wiki/%D0%A5%D0%BE%D0%BF%D0%BF%D0%B5%D1%80,_%D0%93%D1%80%D0%B5%D0%B9%D1%81\" hreflang=\"ru\" lang=\"ru\" title=\"Хоппер, Грейс – Russian\"><span>Русский</span></a></li><li class=\"interlanguage-link interwiki-sco mw-list-item\"><a class=\"interlanguage-link-target\" href=\"https://sco.wikipedia.org/wiki/Grace_Hopper\" hreflang=\"sco\" lang=\"sco\" title=\"Grace Hopper – Scots\"><span>Scots</span></a></li><li class=\"interlanguage-link interwiki-sq mw-list-item\"><a class=\"interlanguage-link-target\" href=\"https://sq.wikipedia.org/wiki/Grace_Hopper\" hreflang=\"sq\" lang=\"sq\" title=\"Grace Hopper – Albanian\"><span>Shqip</span></a></li><li class=\"interlanguage-link interwiki-si mw-list-item\"><a class=\"interlanguage-link-target\" href=\"https://si.wikipedia.org/wiki/%E0%B6%9C%E0%B7%8A%E2%80%8D%E0%B6%BB%E0%B7%9A%E0%B7%83%E0%B7%8A_%E0%B7%84%E0%B7%9C%E0%B6%B4%E0%B6%BB%E0%B7%8A\" hreflang=\"si\" lang=\"si\" title=\"ග්‍රේස් හොපර් – Sinhala\"><span>සිංහල</span></a></li><li class=\"interlanguage-link interwiki-simple mw-list-item\"><a class=\"interlanguage-link-target\" href=\"https://simple.wikipedia.org/wiki/Grace_Hopper\" hreflang=\"en-simple\" lang=\"en-simple\" title=\"Grace Hopper – Simple English\"><span>Simple English</span></a></li><li class=\"interlanguage-link interwiki-sk mw-list-item\"><a class=\"interlanguage-link-target\" href=\"https://sk.wikipedia.org/wiki/Grace_Hopperov%C3%A1\" hreflang=\"sk\" lang=\"sk\" title=\"Grace Hopperová – Slovak\"><span>Slovenčina</span></a></li><li class=\"interlanguage-link interwiki-sl mw-list-item\"><a class=\"interlanguage-link-target\" href=\"https://sl.wikipedia.org/wiki/Grace_Hopper\" hreflang=\"sl\" lang=\"sl\" title=\"Grace Hopper – Slovenian\"><span>Slovenščina</span></a></li><li class=\"interlanguage-link interwiki-sr mw-list-item\"><a class=\"interlanguage-link-target\" href=\"https://sr.wikipedia.org/wiki/%D0%93%D1%80%D0%B5%D1%98%D1%81_%D0%A5%D0%BE%D0%BF%D0%B5%D1%80\" hreflang=\"sr\" lang=\"sr\" title=\"Грејс Хопер – Serbian\"><span>Српски / srpski</span></a></li><li class=\"interlanguage-link interwiki-fi mw-list-item\"><a class=\"interlanguage-link-target\" href=\"https://fi.wikipedia.org/wiki/Grace_Hopper\" hreflang=\"fi\" lang=\"fi\" title=\"Grace Hopper – Finnish\"><span>Suomi</span></a></li><li class=\"interlanguage-link interwiki-sv mw-list-item\"><a class=\"interlanguage-link-target\" href=\"https://sv.wikipedia.org/wiki/Grace_Hopper\" hreflang=\"sv\" lang=\"sv\" title=\"Grace Hopper – Swedish\"><span>Svenska</span></a></li><li class=\"interlanguage-link interwiki-ta mw-list-item\"><a class=\"interlanguage-link-target\" href=\"https://ta.wikipedia.org/wiki/%E0%AE%95%E0%AE%BF%E0%AE%B0%E0%AF%87%E0%AE%9A%E0%AF%81_%E0%AE%B9%E0%AE%BE%E0%AE%AA%E0%AF%8D%E0%AE%AA%E0%AE%B0%E0%AF%8D\" hreflang=\"ta\" lang=\"ta\" title=\"கிரேசு ஹாப்பர் – Tamil\"><span>தமிழ்</span></a></li><li class=\"interlanguage-link interwiki-th mw-list-item\"><a class=\"interlanguage-link-target\" href=\"https://th.wikipedia.org/wiki/%E0%B9%80%E0%B8%81%E0%B8%A3%E0%B8%8B_%E0%B8%AE%E0%B8%AD%E0%B8%9B%E0%B9%80%E0%B8%9B%E0%B8%AD%E0%B8%A3%E0%B9%8C\" hreflang=\"th\" lang=\"th\" title=\"เกรซ ฮอปเปอร์ – Thai\"><span>ไทย</span></a></li><li class=\"interlanguage-link interwiki-tr mw-list-item\"><a class=\"interlanguage-link-target\" href=\"https://tr.wikipedia.org/wiki/Grace_Hopper\" hreflang=\"tr\" lang=\"tr\" title=\"Grace Hopper – Turkish\"><span>Türkçe</span></a></li><li class=\"interlanguage-link interwiki-uk mw-list-item\"><a class=\"interlanguage-link-target\" href=\"https://uk.wikipedia.org/wiki/%D2%90%D1%80%D0%B5%D0%B9%D1%81_%D0%93%D0%BE%D0%BF%D0%BF%D0%B5%D1%80\" hreflang=\"uk\" lang=\"uk\" title=\"Ґрейс Гоппер – Ukrainian\"><span>Українська</span></a></li><li class=\"interlanguage-link interwiki-vi mw-list-item\"><a class=\"interlanguage-link-target\" href=\"https://vi.wikipedia.org/wiki/Grace_Hopper\" hreflang=\"vi\" lang=\"vi\" title=\"Grace Hopper – Vietnamese\"><span>Tiếng Việt</span></a></li><li class=\"interlanguage-link interwiki-wuu mw-list-item\"><a class=\"interlanguage-link-target\" href=\"https://wuu.wikipedia.org/wiki/%E6%A0%BC%E8%95%BE%E4%B8%9D%C2%B7%E8%B5%AB%E6%9F%8F\" hreflang=\"wuu\" lang=\"wuu\" title=\"格蕾丝·赫柏 – Wu Chinese\"><span>吴语</span></a></li><li class=\"interlanguage-link interwiki-zh mw-list-item\"><a class=\"interlanguage-link-target\" href=\"https://zh.wikipedia.org/wiki/%E8%91%9B%E9%BA%97%E7%B5%B2%C2%B7%E9%9C%8D%E6%99%AE\" hreflang=\"zh\" lang=\"zh\" title=\"葛麗絲·霍普 – Chinese\"><span>中文</span></a></li></ul>\n",
       "<div class=\"after-portlet after-portlet-lang\"><span class=\"wb-langlinks-edit wb-langlinks-link\"><a class=\"wbc-editpage\" href=\"https://www.wikidata.org/wiki/Special:EntityPage/Q11641#sitelinks-wikipedia\" title=\"Edit interlanguage links\">Edit links</a></span></div>\n",
       "</div>\n",
       "</div>\n",
       "</div>\n",
       "</header>\n",
       "<div class=\"vector-page-toolbar\">\n",
       "<div class=\"vector-page-toolbar-container\">\n",
       "<div id=\"left-navigation\">\n",
       "<nav aria-label=\"Namespaces\">\n",
       "<div class=\"vector-menu vector-menu-tabs mw-portlet mw-portlet-associated-pages\" id=\"p-associated-pages\">\n",
       "<div class=\"vector-menu-content\">\n",
       "<ul class=\"vector-menu-content-list\"><li class=\"selected vector-tab-noicon mw-list-item\" id=\"ca-nstab-main\"><a accesskey=\"c\" href=\"/wiki/Grace_Hopper\" title=\"View the content page [c]\"><span>Article</span></a></li><li class=\"vector-tab-noicon mw-list-item\" id=\"ca-talk\"><a accesskey=\"t\" href=\"/wiki/Talk:Grace_Hopper\" rel=\"discussion\" title=\"Discuss improvements to the content page [t]\"><span>Talk</span></a></li></ul>\n",
       "</div>\n",
       "</div>\n",
       "<div class=\"vector-menu vector-dropdown vector-menu-dropdown mw-portlet mw-portlet-variants emptyPortlet\" id=\"p-variants\">\n",
       "<input aria-haspopup=\"true\" aria-label=\"Change language variant\" class=\"vector-menu-checkbox\" data-event-name=\"ui.dropdown-p-variants\" id=\"p-variants-checkbox\" role=\"button\" type=\"checkbox\"/>\n",
       "<label class=\"vector-menu-heading\" for=\"p-variants-checkbox\" id=\"p-variants-label\">\n",
       "<span class=\"vector-menu-heading-label\">English</span>\n",
       "</label>\n",
       "<div class=\"vector-menu-content\">\n",
       "<div class=\"vector-menu-content\">\n",
       "<ul class=\"vector-menu-content-list\"></ul>\n",
       "</div>\n",
       "</div>\n",
       "</div>\n",
       "</nav>\n",
       "</div>\n",
       "<div class=\"vector-collapsible\" id=\"right-navigation\">\n",
       "<nav aria-label=\"Views\">\n",
       "<div class=\"vector-menu vector-menu-tabs mw-portlet mw-portlet-views\" id=\"p-views\">\n",
       "<div class=\"vector-menu-content\">\n",
       "<ul class=\"vector-menu-content-list\"><li class=\"selected vector-tab-noicon mw-list-item\" id=\"ca-view\"><a href=\"/wiki/Grace_Hopper\"><span>Read</span></a></li><li class=\"vector-tab-noicon mw-list-item\" id=\"ca-edit\"><a accesskey=\"e\" href=\"/w/index.php?title=Grace_Hopper&amp;action=edit\" title=\"Edit this page [e]\"><span>Edit</span></a></li><li class=\"vector-tab-noicon mw-list-item\" id=\"ca-history\"><a accesskey=\"h\" href=\"/w/index.php?title=Grace_Hopper&amp;action=history\" title=\"Past revisions of this page [h]\"><span>View history</span></a></li></ul>\n",
       "</div>\n",
       "</div>\n",
       "</nav>\n",
       "<nav aria-label=\"More options\" class=\"vector-page-tools-landmark\">\n",
       "<div class=\"vector-menu vector-dropdown vector-menu-dropdown mw-portlet mw-portlet-cactions emptyPortlet vector-has-collapsible-items\" id=\"p-cactions\" title=\"More options\">\n",
       "<input aria-haspopup=\"true\" class=\"vector-menu-checkbox\" data-event-name=\"ui.dropdown-p-cactions\" id=\"p-cactions-checkbox\" role=\"button\" type=\"checkbox\"/>\n",
       "<label class=\"vector-menu-heading\" for=\"p-cactions-checkbox\" id=\"p-cactions-label\">\n",
       "<span class=\"vector-menu-heading-label\">More</span>\n",
       "</label>\n",
       "<div class=\"vector-menu-content\">\n",
       "<div class=\"vector-menu-content\">\n",
       "<ul class=\"vector-menu-content-list\"><li class=\"selected vector-more-collapsible-item mw-list-item\" id=\"ca-more-view\"><a href=\"/wiki/Grace_Hopper\"><span>Read</span></a></li><li class=\"vector-more-collapsible-item mw-list-item\" id=\"ca-more-edit\"><a href=\"/w/index.php?title=Grace_Hopper&amp;action=edit\"><span>Edit</span></a></li><li class=\"vector-more-collapsible-item mw-list-item\" id=\"ca-more-history\"><a href=\"/w/index.php?title=Grace_Hopper&amp;action=history\"><span>View history</span></a></li></ul>\n",
       "</div>\n",
       "</div>\n",
       "</div>\n",
       "</nav>\n",
       "</div>\n",
       "</div>\n",
       "</div>\n",
       "<div aria-labelledby=\"firstHeading\" class=\"vector-body\" data-mw-ve-target-container=\"\" id=\"bodyContent\">\n",
       "<div class=\"vector-body-before-content\">\n",
       "<div class=\"mw-indicators\">\n",
       "</div>\n",
       "<div class=\"noprint\" id=\"siteSub\">From Wikipedia, the free encyclopedia</div>\n",
       "</div>\n",
       "<div id=\"contentSub\"><div id=\"mw-content-subtitle\"></div></div>\n",
       "<div class=\"mw-body-content mw-content-ltr\" dir=\"ltr\" id=\"mw-content-text\" lang=\"en\"><div class=\"mw-parser-output\"><div class=\"shortdescription nomobile noexcerpt noprint searchaux\" style=\"display:none\">American computer scientist, mathematician, and US Navy admiral (1906–1992)</div>\n",
       "<p class=\"mw-empty-elt\">\n",
       "</p>\n",
       "<style data-mw-deduplicate=\"TemplateStyles:r1066479718\">.mw-parser-output .infobox-subbox{padding:0;border:none;margin:-3px;width:auto;min-width:100%;font-size:100%;clear:none;float:none;background-color:transparent}.mw-parser-output .infobox-3cols-child{margin:auto}.mw-parser-output .infobox .navbar{font-size:100%}body.skin-minerva .mw-parser-output .infobox-header,body.skin-minerva .mw-parser-output .infobox-subheader,body.skin-minerva .mw-parser-output .infobox-above,body.skin-minerva .mw-parser-output .infobox-title,body.skin-minerva .mw-parser-output .infobox-image,body.skin-minerva .mw-parser-output .infobox-full-data,body.skin-minerva .mw-parser-output .infobox-below{text-align:center}</style><table class=\"infobox vcard\" style=\"width:25.5em;border-spacing:2px;\"><tbody><tr><th class=\"infobox-above\" colspan=\"2\" style=\"font-size:125%; background-color:#C3D6EF;\"><div class=\"fn\" style=\"display:inline\">Grace Murray Hopper</div></th></tr><tr><td class=\"infobox-image\" colspan=\"2\" style=\"border-bottom: 1px solid #aaa;; line-height: 1.5em\"><a class=\"image\" href=\"/wiki/File:Commodore_Grace_M._Hopper,_USN_(covered).jpg\"><img alt=\"Commodore Grace M. Hopper, USN (covered).jpg\" data-file-height=\"3000\" data-file-width=\"2400\" decoding=\"async\" height=\"275\" src=\"//upload.wikimedia.org/wikipedia/commons/thumb/a/ad/Commodore_Grace_M._Hopper%2C_USN_%28covered%29.jpg/220px-Commodore_Grace_M._Hopper%2C_USN_%28covered%29.jpg\" srcset=\"//upload.wikimedia.org/wikipedia/commons/thumb/a/ad/Commodore_Grace_M._Hopper%2C_USN_%28covered%29.jpg/330px-Commodore_Grace_M._Hopper%2C_USN_%28covered%29.jpg 1.5x, //upload.wikimedia.org/wikipedia/commons/thumb/a/ad/Commodore_Grace_M._Hopper%2C_USN_%28covered%29.jpg/440px-Commodore_Grace_M._Hopper%2C_USN_%28covered%29.jpg 2x\" width=\"220\"/></a><div class=\"infobox-caption\" style=\"font-size: 100%\">Photograph from 1984</div></td></tr><tr><th class=\"infobox-label\" scope=\"row\" style=\"padding-right: 1em\">Birth name</th><td class=\"infobox-data nickname\">Grace Brewster Murray</td></tr><tr><th class=\"infobox-label\" scope=\"row\" style=\"padding-right: 1em\">Born</th><td class=\"infobox-data\"><span style=\"display:none\">(<span class=\"bday\">1906-12-09</span>)</span>December 9, 1906<br/><a href=\"/wiki/New_York_City\" title=\"New York City\">New York City</a>, U.S.</td></tr><tr><th class=\"infobox-label\" scope=\"row\" style=\"padding-right: 1em\">Died</th><td class=\"infobox-data\">January 1, 1992<span style=\"display:none\">(1992-01-01)</span> (aged 85)<br/><a href=\"/wiki/Arlington_County,_Virginia\" title=\"Arlington County, Virginia\">Arlington County, Virginia</a>, U.S.</td></tr><tr><th class=\"infobox-label\" scope=\"row\" style=\"padding-right: 1em\">Place of burial</th><td class=\"infobox-data\"><div class=\"label\" style=\"display:inline\"><a href=\"/wiki/Arlington_National_Cemetery\" title=\"Arlington National Cemetery\">Arlington National Cemetery</a></div></td></tr><tr><th class=\"infobox-label\" scope=\"row\" style=\"padding-right: 1em\">Allegiance</th><td class=\"infobox-data\">United States</td></tr><tr><th class=\"infobox-label\" scope=\"row\" style=\"padding-right: 1em\">Service/<wbr/>branch</th><td class=\"infobox-data\"><a href=\"/wiki/United_States_Navy\" title=\"United States Navy\">United States Navy</a></td></tr><tr><th class=\"infobox-label\" scope=\"row\" style=\"padding-right: 1em\">Years of service</th><td class=\"infobox-data\">1943–1986</td></tr><tr><th class=\"infobox-label\" scope=\"row\" style=\"padding-right: 1em\">Rank</th><td class=\"infobox-data\"><a href=\"/wiki/Rear_admiral_(United_States)#Rear_admiral_(lower_half)\" title=\"Rear admiral (United States)\">Rear admiral (lower half)</a></td></tr><tr><th class=\"infobox-label\" scope=\"row\" style=\"padding-right: 1em\">Awards</th><td class=\"infobox-data\"><style data-mw-deduplicate=\"TemplateStyles:r1126788409\">.mw-parser-output .plainlist ol,.mw-parser-output .plainlist ul{line-height:inherit;list-style:none;margin:0;padding:0}.mw-parser-output .plainlist ol li,.mw-parser-output .plainlist ul li{margin-bottom:0}</style><div class=\"plainlist\">\n",
       "<ul><li><a href=\"/wiki/Defense_Distinguished_Service_Medal\" title=\"Defense Distinguished Service Medal\">Defense Distinguished Service Medal</a></li>\n",
       "<li><a href=\"/wiki/Legion_of_Merit\" title=\"Legion of Merit\">Legion of Merit</a></li>\n",
       "<li><a class=\"mw-redirect\" href=\"/wiki/Meritorious_Service_Medal_(USA)\" title=\"Meritorious Service Medal (USA)\">Meritorious Service Medal</a></li>\n",
       "<li><a href=\"/wiki/American_Campaign_Medal\" title=\"American Campaign Medal\">American Campaign Medal</a></li>\n",
       "<li><a href=\"/wiki/World_War_II_Victory_Medal\" title=\"World War II Victory Medal\">World War II Victory Medal</a></li>\n",
       "<li><a href=\"/wiki/National_Defense_Service_Medal\" title=\"National Defense Service Medal\">National Defense Service Medal</a></li>\n",
       "<li><a href=\"/wiki/Armed_Forces_Reserve_Medal\" title=\"Armed Forces Reserve Medal\">Armed Forces Reserve Medal</a> with two <a class=\"mw-redirect\" href=\"/wiki/Hourglass_Device\" title=\"Hourglass Device\">Hourglass Devices</a></li>\n",
       "<li><a href=\"/wiki/Naval_Reserve_Medal\" title=\"Naval Reserve Medal\">Naval Reserve Medal</a></li>\n",
       "<li><a href=\"/wiki/Presidential_Medal_of_Freedom\" title=\"Presidential Medal of Freedom\">Presidential Medal of Freedom</a> (posthumous)</li></ul>\n",
       "</div></td></tr><tr><th class=\"infobox-label\" scope=\"row\" style=\"padding-right: 1em\"><a href=\"/wiki/Alma_mater\" title=\"Alma mater\">Alma mater</a></th><td class=\"infobox-data\"><a href=\"/wiki/Vassar_College\" title=\"Vassar College\">Vassar College</a> (<a href=\"/wiki/Bachelor_of_Arts\" title=\"Bachelor of Arts\">BA</a>)<br/><a href=\"/wiki/Yale_University\" title=\"Yale University\">Yale University</a> (<a href=\"/wiki/Master_of_Science\" title=\"Master of Science\">MS</a>, <a href=\"/wiki/Doctor_of_Philosophy\" title=\"Doctor of Philosophy\">Ph.D.</a>)</td></tr></tbody></table>\n",
       "<style data-mw-deduplicate=\"TemplateStyles:r1033289096\">.mw-parser-output .hatnote{font-style:italic}.mw-parser-output div.hatnote{padding-left:1.6em;margin-bottom:0.5em}.mw-parser-output .hatnote i{font-style:normal}.mw-parser-output .hatnote+link+.hatnote{margin-top:-0.5em}</style><div class=\"hatnote navigation-not-searchable\" role=\"note\">For the residential college, see <a href=\"/wiki/Grace_Hopper_College\" title=\"Grace Hopper College\">Grace Hopper College</a>. For the submarine cable, see <a href=\"/wiki/Grace_Hopper_(submarine_communications_cable)\" title=\"Grace Hopper (submarine communications cable)\">Grace Hopper (submarine communications cable)</a>.</div>\n",
       "<p><b>Grace Brewster Hopper</b> (<span class=\"avoidwrap\" style=\"display:inline-block;\" title=\"Name at birth\"><a class=\"mw-redirect\" href=\"/wiki/N%C3%A9e\" title=\"Née\">née</a> <b>Murray</b></span>; December 9, 1906 – January 1, 1992) was an American <a href=\"/wiki/Computer_scientist\" title=\"Computer scientist\">computer scientist</a>, <a href=\"/wiki/Mathematician\" title=\"Mathematician\">mathematician</a>, and <a href=\"/wiki/United_States_Navy\" title=\"United States Navy\">United States Navy</a> <a href=\"/wiki/Rear_admiral_(United_States)\" title=\"Rear admiral (United States)\">rear admiral</a>.<sup class=\"reference\" id=\"cite_ref-1\"><a href=\"#cite_note-1\">[1]</a></sup> One of the first programmers of the <a href=\"/wiki/Harvard_Mark_I\" title=\"Harvard Mark I\">Harvard Mark I</a> computer, she was a pioneer of computer programming who invented one of the first <a href=\"/wiki/Linker_(computing)\" title=\"Linker (computing)\">linkers</a>. Hopper was the first to devise the theory of machine-independent programming languages, and the <a href=\"/wiki/FLOW-MATIC\" title=\"FLOW-MATIC\">FLOW-MATIC</a> programming language she created using this theory was later extended to create <a href=\"/wiki/COBOL\" title=\"COBOL\">COBOL</a>, an early <a href=\"/wiki/High-level_programming_language\" title=\"High-level programming language\">high-level programming language</a> still in use today.\n",
       "</p><p>Prior to joining the Navy, Hopper earned a Ph.D. in mathematics from <a href=\"/wiki/Yale_University\" title=\"Yale University\">Yale University</a> and was a professor of mathematics at <a href=\"/wiki/Vassar_College\" title=\"Vassar College\">Vassar College</a>. Hopper attempted to enlist in the Navy during <a href=\"/wiki/World_War_II\" title=\"World War II\">World War II</a> but was rejected because she was 34 years old. She instead joined the Navy Reserves. Hopper began her computing career in 1944 when she worked on the Harvard Mark I team led by <a href=\"/wiki/Howard_H._Aiken\" title=\"Howard H. Aiken\">Howard H. Aiken</a>. In 1949, she joined the <a href=\"/wiki/Eckert%E2%80%93Mauchly_Computer_Corporation\" title=\"Eckert–Mauchly Computer Corporation\">Eckert–Mauchly Computer Corporation</a> and was part of the team that developed the <a href=\"/wiki/UNIVAC_I\" title=\"UNIVAC I\">UNIVAC I</a> computer. At Eckert–Mauchly she managed the development of one of the first <a href=\"/wiki/COBOL\" title=\"COBOL\">COBOL</a> compilers. She believed that a programming language based on English was possible.  Her compiler converted English terms into <a href=\"/wiki/Machine_code\" title=\"Machine code\">machine code</a> understood by computers. By 1952, Hopper had finished her program linker (originally called a <a href=\"/wiki/Compiler\" title=\"Compiler\">compiler</a>), which was written for the <a href=\"/wiki/A-0_System\" title=\"A-0 System\">A-0 System</a>.<sup class=\"reference\" id=\"cite_ref-Spencer85_2-0\"><a href=\"#cite_note-Spencer85-2\">[2]</a></sup><sup class=\"reference\" id=\"cite_ref-Laplante01_3-0\"><a href=\"#cite_note-Laplante01-3\">[3]</a></sup><sup class=\"reference\" id=\"cite_ref-Bunch93_4-0\"><a href=\"#cite_note-Bunch93-4\">[4]</a></sup><sup class=\"reference\" id=\"cite_ref-Booss03_5-0\"><a href=\"#cite_note-Booss03-5\">[5]</a></sup> During her wartime service, she co-authored three papers based on her work on the Harvard Mark 1.\n",
       "</p><p>In 1954, Eckert–Mauchly chose Hopper to lead their department for automatic programming, and she led the release of some of the first compiled languages like <a href=\"/wiki/FLOW-MATIC\" title=\"FLOW-MATIC\">FLOW-MATIC</a>. In 1959, she participated in the <a href=\"/wiki/CODASYL\" title=\"CODASYL\">CODASYL</a> consortium, which consulted Hopper to guide them in creating a machine-independent programming language. This led to the <a href=\"/wiki/COBOL\" title=\"COBOL\">COBOL</a> language, which was inspired by her idea of a language being based on English words. In 1966, she retired from the Naval Reserve, but in 1967 the Navy recalled her to active duty. She retired from the Navy in 1986 and found work as a consultant for the <a href=\"/wiki/Digital_Equipment_Corporation\" title=\"Digital Equipment Corporation\">Digital Equipment Corporation</a>, sharing her computing experiences.\n",
       "</p><p>The U.S. Navy <a href=\"/wiki/Arleigh_Burke-class_destroyer\" title=\"Arleigh Burke-class destroyer\"><i> Arleigh Burke</i>-class</a> guided-missile destroyer <a href=\"/wiki/USS_Hopper\" title=\"USS Hopper\">USS <i>Hopper</i></a> was named for her, as was the <a href=\"/wiki/Cray_XE6\" title=\"Cray XE6\">Cray XE6</a> \"Hopper\" supercomputer at <a class=\"mw-redirect\" href=\"/wiki/NERSC\" title=\"NERSC\">NERSC</a>.<sup class=\"reference\" id=\"cite_ref-6\"><a href=\"#cite_note-6\">[6]</a></sup> During her lifetime, Hopper was awarded 40 honorary degrees from universities across the world. A <a class=\"mw-redirect\" href=\"/wiki/Hopper_College\" title=\"Hopper College\">college</a> at <a href=\"/wiki/Yale_University\" title=\"Yale University\">Yale University</a> was renamed in her honor.  In 1991, she received the <a href=\"/wiki/National_Medal_of_Technology_and_Innovation\" title=\"National Medal of Technology and Innovation\">National Medal of Technology</a>. On November 22, 2016, she was posthumously awarded the <a href=\"/wiki/Presidential_Medal_of_Freedom\" title=\"Presidential Medal of Freedom\">Presidential Medal of Freedom</a> by President <a href=\"/wiki/Barack_Obama\" title=\"Barack Obama\">Barack Obama</a>.<sup class=\"reference\" id=\"cite_ref-7\"><a href=\"#cite_note-7\">[7]</a></sup>\n",
       "</p>\n",
       "<meta property=\"mw:PageProp/toc\"/>\n",
       "<h2><span class=\"mw-headline\" id=\"Early_life_and_education\">Early life and education</span><span class=\"mw-editsection\"><span class=\"mw-editsection-bracket\">[</span><a href=\"/w/index.php?title=Grace_Hopper&amp;action=edit&amp;section=1\" title=\"Edit section: Early life and education\">edit</a><span class=\"mw-editsection-bracket\">]</span></span></h2>\n",
       "<p>Grace Brewster Murray was born in New York City. She was the eldest of three children. Her parents, Walter Fletcher Murray and Mary Campbell Van Horne, were of <a href=\"/wiki/Scottish_people\" title=\"Scottish people\">Scottish</a> and <a href=\"/wiki/Dutch_people\" title=\"Dutch people\">Dutch</a> descent, and attended <a href=\"/wiki/West_End_Collegiate_Church\" title=\"West End Collegiate Church\">West End Collegiate Church</a>.<sup class=\"reference\" id=\"cite_ref-Williams_8-0\"><a href=\"#cite_note-Williams-8\">[8]</a></sup> Her great-grandfather, Alexander Wilson Russell, an admiral in the US Navy, fought in the <a href=\"/wiki/Battle_of_Mobile_Bay\" title=\"Battle of Mobile Bay\">Battle of Mobile Bay</a> during the <a href=\"/wiki/American_Civil_War\" title=\"American Civil War\">Civil War</a>.<sup class=\"reference\" id=\"cite_ref-Williams_8-1\"><a href=\"#cite_note-Williams-8\">[8]</a></sup><sup class=\"reference nowrap\"><span title=\"Page / location: 2–3\">: 2–3 </span></sup>\n",
       "</p><p>Grace was very curious as a child; this was a lifelong trait. At the age of seven, she decided to determine how an alarm clock worked and dismantled seven alarm clocks before her mother realized what she was doing (she was then limited to one clock).<sup class=\"reference\" id=\"cite_ref-9\"><a href=\"#cite_note-9\">[9]</a></sup> For her <a class=\"mw-redirect\" href=\"/wiki/University-preparatory_school\" title=\"University-preparatory school\">preparatory school</a> education, she attended the <a class=\"new\" href=\"/w/index.php?title=Wardlaw_Cartridge_School&amp;action=edit&amp;redlink=1\" title=\"Wardlaw Cartridge School (page does not exist)\">Hartridge School</a> in <a href=\"/wiki/Plainfield,_New_Jersey\" title=\"Plainfield, New Jersey\">Plainfield, New Jersey</a>. Grace was initially rejected for early admission to <a href=\"/wiki/Vassar_College\" title=\"Vassar College\">Vassar College</a> at age 16 (because her test scores in Latin were too low), but she was admitted the following year. She graduated <a class=\"mw-redirect\" href=\"/wiki/Phi_Beta_Kappa_Society\" title=\"Phi Beta Kappa Society\">Phi Beta Kappa</a> from Vassar in 1928 with a bachelor's degree in mathematics and physics and earned her master's degree at <a href=\"/wiki/Yale_University\" title=\"Yale University\">Yale University</a> in 1930.\n",
       "</p><p>In 1930, Grace Murray married <a href=\"/wiki/New_York_University\" title=\"New York University\">New York University</a> professor Vincent Foster Hopper (1906–1976); they divorced in 1945.<sup class=\"reference\" id=\"cite_ref-greenladuke09_10-0\"><a href=\"#cite_note-greenladuke09-10\">[10]</a></sup><sup class=\"reference\" id=\"cite_ref-11\"><a href=\"#cite_note-11\">[11]</a></sup> Although she did not marry again, she retained his surname.\n",
       "</p><p>In 1934, Hopper earned a Ph.D. in mathematics from Yale<sup class=\"reference\" id=\"cite_ref-NWHM_12-0\"><a href=\"#cite_note-NWHM-12\">[12]</a></sup> under the direction of <a href=\"/wiki/%C3%98ystein_Ore\" title=\"Øystein Ore\">Øystein Ore</a>.<sup class=\"reference\" id=\"cite_ref-greenladuke09_10-1\"><a href=\"#cite_note-greenladuke09-10\">[10]</a></sup><sup class=\"reference\" id=\"cite_ref-13\"><a href=\"#cite_note-13\">[13]</a></sup> Her <a class=\"mw-redirect\" href=\"/wiki/Dissertation\" title=\"Dissertation\">dissertation</a>, \"New Types of Irreducibility Criteria\",<sup class=\"reference\" id=\"cite_ref-14\"><a href=\"#cite_note-14\">[14]</a></sup> was published that same year.<sup class=\"reference\" id=\"cite_ref-15\"><a href=\"#cite_note-15\">[15]</a></sup> She began teaching mathematics at Vassar in 1931, and was promoted to associate professor in 1941.<sup class=\"reference\" id=\"cite_ref-Ogilvie_16-0\"><a href=\"#cite_note-Ogilvie-16\">[16]</a></sup>\n",
       "</p>\n",
       "<h2><span class=\"mw-headline\" id=\"Career\">Career</span><span class=\"mw-editsection\"><span class=\"mw-editsection-bracket\">[</span><a href=\"/w/index.php?title=Grace_Hopper&amp;action=edit&amp;section=2\" title=\"Edit section: Career\">edit</a><span class=\"mw-editsection-bracket\">]</span></span></h2>\n",
       "<h3><span class=\"mw-headline\" id=\"World_War_II\">World War II</span><span class=\"mw-editsection\"><span class=\"mw-editsection-bracket\">[</span><a href=\"/w/index.php?title=Grace_Hopper&amp;action=edit&amp;section=3\" title=\"Edit section: World War II\">edit</a><span class=\"mw-editsection-bracket\">]</span></span></h3>\n",
       "<div class=\"thumb tright\"><div class=\"thumbinner\" style=\"width:222px;\"><a class=\"image\" href=\"/wiki/File:Harvard_Mark_I_sign-up.agr.jpg\"><img alt=\"\" class=\"thumbimage\" data-file-height=\"2448\" data-file-width=\"3264\" decoding=\"async\" height=\"165\" src=\"//upload.wikimedia.org/wikipedia/commons/thumb/a/aa/Harvard_Mark_I_sign-up.agr.jpg/220px-Harvard_Mark_I_sign-up.agr.jpg\" srcset=\"//upload.wikimedia.org/wikipedia/commons/thumb/a/aa/Harvard_Mark_I_sign-up.agr.jpg/330px-Harvard_Mark_I_sign-up.agr.jpg 1.5x, //upload.wikimedia.org/wikipedia/commons/thumb/a/aa/Harvard_Mark_I_sign-up.agr.jpg/440px-Harvard_Mark_I_sign-up.agr.jpg 2x\" width=\"220\"/></a> <div class=\"thumbcaption\"><div class=\"magnify\"><a class=\"internal\" href=\"/wiki/File:Harvard_Mark_I_sign-up.agr.jpg\" title=\"Enlarge\"></a></div>Hopper's name on a duty roster for the Bureau of Ships Computation Project at Harvard, which built and operated the <a href=\"/wiki/Harvard_Mark_I\" title=\"Harvard Mark I\">Mark I</a></div></div></div>\n",
       "<p>Hopper tried to enlist in the Navy early in <a href=\"/wiki/World_War_II\" title=\"World War II\">World War II</a>. She was rejected for a few reasons. At age 34, she was too old to enlist, and her weight to height ratio was too low. She was also denied on the basis that her job as a mathematician and mathematics professor at Vassar College was valuable to the war effort.<sup class=\"reference\" id=\"cite_ref-17\"><a href=\"#cite_note-17\">[17]</a></sup> During the war in 1943, Hopper obtained a leave of absence from Vassar and was sworn into the <a href=\"/wiki/United_States_Navy_Reserve\" title=\"United States Navy Reserve\">United States Navy Reserve</a>; she was one of many women who volunteered to serve in the <a href=\"/wiki/WAVES\" title=\"WAVES\">WAVES</a>. \n",
       "</p><p>She had to get an exemption to enlist; she was 15 pounds (6.8 kg) below the Navy minimum weight of 120 pounds (54 kg). She reported in December and trained at the Naval Reserve Midshipmen's School at <a href=\"/wiki/Smith_College\" title=\"Smith College\">Smith College</a> in <a href=\"/wiki/Northampton,_Massachusetts\" title=\"Northampton, Massachusetts\">Northampton, Massachusetts</a>. Hopper graduated first in her class in 1944, and was assigned to the <a href=\"/wiki/Bureau_of_Ships\" title=\"Bureau of Ships\">Bureau of Ships</a> Computation Project at <a href=\"/wiki/Harvard_University\" title=\"Harvard University\">Harvard University</a> as a lieutenant, junior grade. She served on the <a href=\"/wiki/Harvard_Mark_I\" title=\"Harvard Mark I\">Mark I computer</a> programming staff headed by <a href=\"/wiki/Howard_H._Aiken\" title=\"Howard H. Aiken\">Howard H. Aiken</a>. \n",
       "</p><p>Hopper and Aiken co-authored three papers on the Mark I, also known as the Automatic Sequence Controlled Calculator. Hopper's request to transfer to the regular Navy at the end of the war was declined due to her advanced age of 38. She continued to serve in the Navy Reserve. Hopper remained at the Harvard Computation Lab until 1949, turning down a full professorship at Vassar in favor of working as a research fellow under a Navy contract at Harvard.<sup class=\"reference\" id=\"cite_ref-KBW_18-0\"><a href=\"#cite_note-KBW-18\">[18]</a></sup>\n",
       "</p>\n",
       "<div class=\"thumb tleft\"><div class=\"thumbinner\" style=\"width:172px;\"><a class=\"image\" href=\"/wiki/File:Grace_Murray_Hopper,_in_her_office_in_Washington_DC,_1978,_%C2%A9Lynn_Gilbert.jpg\"><img alt=\"\" class=\"thumbimage\" data-file-height=\"1200\" data-file-width=\"782\" decoding=\"async\" height=\"261\" src=\"//upload.wikimedia.org/wikipedia/commons/thumb/2/21/Grace_Murray_Hopper%2C_in_her_office_in_Washington_DC%2C_1978%2C_%C2%A9Lynn_Gilbert.jpg/170px-Grace_Murray_Hopper%2C_in_her_office_in_Washington_DC%2C_1978%2C_%C2%A9Lynn_Gilbert.jpg\" srcset=\"//upload.wikimedia.org/wikipedia/commons/thumb/2/21/Grace_Murray_Hopper%2C_in_her_office_in_Washington_DC%2C_1978%2C_%C2%A9Lynn_Gilbert.jpg/255px-Grace_Murray_Hopper%2C_in_her_office_in_Washington_DC%2C_1978%2C_%C2%A9Lynn_Gilbert.jpg 1.5x, //upload.wikimedia.org/wikipedia/commons/thumb/2/21/Grace_Murray_Hopper%2C_in_her_office_in_Washington_DC%2C_1978%2C_%C2%A9Lynn_Gilbert.jpg/340px-Grace_Murray_Hopper%2C_in_her_office_in_Washington_DC%2C_1978%2C_%C2%A9Lynn_Gilbert.jpg 2x\" width=\"170\"/></a> <div class=\"thumbcaption\"><div class=\"magnify\"><a class=\"internal\" href=\"/wiki/File:Grace_Murray_Hopper,_in_her_office_in_Washington_DC,_1978,_%C2%A9Lynn_Gilbert.jpg\" title=\"Enlarge\"></a></div>Hopper in a computer room in <a href=\"/wiki/Washington,_D.C.\" title=\"Washington, D.C.\">Washington, D.C.</a>, 1978, photographed by <a href=\"/wiki/Lynn_Gilbert\" title=\"Lynn Gilbert\">Lynn Gilbert</a></div></div></div>\n",
       "<h3><span class=\"mw-headline\" id=\"UNIVAC\">UNIVAC</span><span class=\"mw-editsection\"><span class=\"mw-editsection-bracket\">[</span><a href=\"/w/index.php?title=Grace_Hopper&amp;action=edit&amp;section=4\" title=\"Edit section: UNIVAC\">edit</a><span class=\"mw-editsection-bracket\">]</span></span></h3>\n",
       "<p>In 1949, Hopper became an employee of the <a href=\"/wiki/Eckert%E2%80%93Mauchly_Computer_Corporation\" title=\"Eckert–Mauchly Computer Corporation\">Eckert–Mauchly Computer Corporation</a> as a senior mathematician and joined the team developing the <a href=\"/wiki/UNIVAC_I\" title=\"UNIVAC I\">UNIVAC I</a>.<sup class=\"reference\" id=\"cite_ref-Ogilvie_16-1\"><a href=\"#cite_note-Ogilvie-16\">[16]</a></sup> Hopper also served as UNIVAC director of Automatic Programming Development for Remington Rand. The UNIVAC was the first known large-scale electronic computer to be on the market in 1950, and was more competitive at processing information than the Mark I.<sup class=\"reference\" id=\"cite_ref-19\"><a href=\"#cite_note-19\">[19]</a></sup>\n",
       "</p><p>When Hopper recommended the development of a new programming language that would use entirely English words, she \"was told very quickly that [she] couldn't do this because computers didn't understand English.\" Still, she persisted. \"It's much easier for most people to write an English statement than it is to use symbols,\" she explained. \"So I decided data processors ought to be able to write their programs in English, and the computers would translate them into machine code.\"<sup class=\"reference\" id=\"cite_ref-20\"><a href=\"#cite_note-20\">[20]</a></sup>\n",
       "</p><p>Her idea was not accepted for three years. In the meantime, she published her first paper on the subject, compilers, in 1952. In the early 1950s, the company was taken over by the <a href=\"/wiki/Remington_Rand\" title=\"Remington Rand\">Remington Rand</a> corporation, and it was while she was working for them that her original <a href=\"/wiki/Compiler\" title=\"Compiler\">compiler</a> work was done. The program was known as the A compiler and its first version was <a class=\"mw-redirect\" href=\"/wiki/A-0_programming_language\" title=\"A-0 programming language\">A-0</a>.<sup class=\"reference\" id=\"cite_ref-mcgee2004_21-0\"><a href=\"#cite_note-mcgee2004-21\">[21]</a></sup><sup class=\"reference nowrap\"><span title=\"Page / location: 11\">: 11 </span></sup>\n",
       "</p><p>In 1952, she had an operational link-loader, which at the time was referred to as a compiler. She later said that \"Nobody believed that,\" and that she \"had a running compiler and nobody would touch it. They told me computers could only do arithmetic.\"<sup class=\"reference\" id=\"cite_ref-22\"><a href=\"#cite_note-22\">[22]</a></sup>\n",
       "</p><p>In 1954 Hopper was named the company's first director of automatic programming.<sup class=\"reference\" id=\"cite_ref-Ogilvie_16-2\"><a href=\"#cite_note-Ogilvie-16\">[16]</a></sup> Beginning in 1954, Hopper's work was influenced by the <a href=\"/wiki/Laning_and_Zierler_system\" title=\"Laning and Zierler system\">Laning and Zierler system</a>, which was the first compiler to accept algebraic notation as input.<sup class=\"reference\" id=\"cite_ref-Beyer_ch10_23-0\"><a href=\"#cite_note-Beyer_ch10-23\">[23]</a></sup> Her department released some of the first compiler-based programming languages, including <a href=\"/wiki/MATH-MATIC\" title=\"MATH-MATIC\">MATH-MATIC</a> and <a href=\"/wiki/FLOW-MATIC\" title=\"FLOW-MATIC\">FLOW-MATIC</a>.<sup class=\"reference\" id=\"cite_ref-Ogilvie_16-3\"><a href=\"#cite_note-Ogilvie-16\">[16]</a></sup>\n",
       "</p><p>Hopper said that her compiler <a href=\"/wiki/A-0_System\" title=\"A-0 System\"> A-0</a>, \"translated mathematical notation into machine code. Manipulating symbols was fine for mathematicians but it was no good for data processors who were not symbol manipulators. Very few people are really symbol manipulators. If they are, they become professional mathematicians, not data processors. It's much easier for most people to write an English statement than it is to use symbols. So I decided data processors ought to be able to write their programs in English, and the computers would translate them into machine code. That was the beginning of <a href=\"/wiki/COBOL\" title=\"COBOL\">COBOL</a>, a <a href=\"/wiki/Computer_language\" title=\"Computer language\">computer language</a> for data processors. I could say 'Subtract income tax from pay' instead of trying to write that in octal code or using all kinds of symbols. <a href=\"/wiki/COBOL\" title=\"COBOL\">COBOL</a> is the major language used today in data processing.\"<sup class=\"reference\" id=\"cite_ref-24\"><a href=\"#cite_note-24\">[24]</a></sup>\n",
       "</p>\n",
       "<h3><span class=\"mw-headline\" id=\"COBOL\">COBOL</span><span class=\"mw-editsection\"><span class=\"mw-editsection-bracket\">[</span><a href=\"/w/index.php?title=Grace_Hopper&amp;action=edit&amp;section=5\" title=\"Edit section: COBOL\">edit</a><span class=\"mw-editsection-bracket\">]</span></span></h3>\n",
       "<div class=\"thumb tright\"><div class=\"thumbinner\" style=\"width:222px;\"><a class=\"image\" href=\"/wiki/File:Grace_Hopper_and_UNIVAC.jpg\"><img alt=\"\" class=\"thumbimage\" data-file-height=\"450\" data-file-width=\"513\" decoding=\"async\" height=\"193\" src=\"//upload.wikimedia.org/wikipedia/commons/thumb/3/37/Grace_Hopper_and_UNIVAC.jpg/220px-Grace_Hopper_and_UNIVAC.jpg\" srcset=\"//upload.wikimedia.org/wikipedia/commons/thumb/3/37/Grace_Hopper_and_UNIVAC.jpg/330px-Grace_Hopper_and_UNIVAC.jpg 1.5x, //upload.wikimedia.org/wikipedia/commons/thumb/3/37/Grace_Hopper_and_UNIVAC.jpg/440px-Grace_Hopper_and_UNIVAC.jpg 2x\" width=\"220\"/></a> <div class=\"thumbcaption\"><div class=\"magnify\"><a class=\"internal\" href=\"/wiki/File:Grace_Hopper_and_UNIVAC.jpg\" title=\"Enlarge\"></a></div>Hopper at the <a href=\"/wiki/UNIVAC_I\" title=\"UNIVAC I\">UNIVAC I</a> console, c. 1960</div></div></div>\n",
       "<p>In the spring of 1959, computer experts from industry and government were brought together in a two-day conference known as the Conference on Data Systems Languages (<a href=\"/wiki/CODASYL\" title=\"CODASYL\">CODASYL</a>). Hopper served as a technical consultant to the committee, and many of her former employees served on the short-term committee that defined the new language <a href=\"/wiki/COBOL\" title=\"COBOL\">COBOL</a> (an acronym for <b>CO</b>mmon <b>B</b>usiness-<b>O</b>riented <b>L</b>anguage). The new language extended Hopper's FLOW-MATIC language with some ideas from the <a href=\"/wiki/IBM\" title=\"IBM\">IBM</a> equivalent, <a href=\"/wiki/COMTRAN\" title=\"COMTRAN\">COMTRAN</a>.  Hopper's belief that programs should be written in a language that was close to English (rather than in <a href=\"/wiki/Machine_code\" title=\"Machine code\">machine code</a> or in languages close to machine code, such as <a href=\"/wiki/Assembly_language\" title=\"Assembly language\">assembly languages</a>) was captured in the new business language, and COBOL went on to be the most ubiquitous business language to date.<sup class=\"reference\" id=\"cite_ref-KWB_25-0\"><a href=\"#cite_note-KWB-25\">[25]</a></sup> Among the members of the committee that worked on COBOL was <a href=\"/wiki/Mount_Holyoke_College\" title=\"Mount Holyoke College\">Mount Holyoke College</a> alumna <a href=\"/wiki/Jean_E._Sammet\" title=\"Jean E. Sammet\">Jean E. Sammet</a>.<sup class=\"reference\" id=\"cite_ref-26\"><a href=\"#cite_note-26\">[26]</a></sup>\n",
       "</p><p>From 1967 to 1977, Hopper served as the director of the Navy Programming Languages Group in the Navy's Office of Information Systems Planning and was promoted to the rank of <a href=\"/wiki/Captain_(United_States_O-6)\" title=\"Captain (United States O-6)\">captain</a> in 1973. She developed validation software for COBOL and its compiler as part of a COBOL standardization program for the entire Navy.<sup class=\"reference\" id=\"cite_ref-KBW_18-1\"><a href=\"#cite_note-KBW-18\">[18]</a></sup>\n",
       "</p>\n",
       "<h3><span class=\"mw-headline\" id=\"Standards\">Standards</span><span class=\"mw-editsection\"><span class=\"mw-editsection-bracket\">[</span><a href=\"/w/index.php?title=Grace_Hopper&amp;action=edit&amp;section=6\" title=\"Edit section: Standards\">edit</a><span class=\"mw-editsection-bracket\">]</span></span></h3>\n",
       "<p>In the 1970s, Hopper advocated for the Defense Department to replace large, centralized systems with networks of small, distributed computers. Any user on any computer node could access common databases located on the network.<sup class=\"reference\" id=\"cite_ref-mcgee2004_21-1\"><a href=\"#cite_note-mcgee2004-21\">[21]</a></sup><sup class=\"reference nowrap\"><span title=\"Page / location: 119\">: 119 </span></sup> She developed the implementation of <a href=\"/wiki/Standardization\" title=\"Standardization\">standards</a> for testing computer systems and components, most significantly for early <a href=\"/wiki/Programming_language\" title=\"Programming language\">programming languages</a> such as <a class=\"mw-redirect\" href=\"/wiki/FORTRAN\" title=\"FORTRAN\">FORTRAN</a> and COBOL. The Navy tests for conformance to these standards led to significant convergence among the programming language dialects of the major computer vendors. In the 1980s, these tests (and their official administration) were assumed by the National Bureau of Standards (NBS), known today as the <a href=\"/wiki/National_Institute_of_Standards_and_Technology\" title=\"National Institute of Standards and Technology\">National Institute of Standards and Technology</a> (NIST).\n",
       "</p>\n",
       "<h2><span class=\"mw-headline\" id=\"Retirement\">Retirement</span><span class=\"mw-editsection\"><span class=\"mw-editsection-bracket\">[</span><a href=\"/w/index.php?title=Grace_Hopper&amp;action=edit&amp;section=7\" title=\"Edit section: Retirement\">edit</a><span class=\"mw-editsection-bracket\">]</span></span></h2>\n",
       "<div class=\"thumb tleft\"><div class=\"thumbinner\" style=\"width:222px;\"><a class=\"image\" href=\"/wiki/File:Grace_Hopper_being_promoted_to_Commodore.JPEG\"><img alt=\"\" class=\"thumbimage\" data-file-height=\"2389\" data-file-width=\"3000\" decoding=\"async\" height=\"175\" src=\"//upload.wikimedia.org/wikipedia/commons/thumb/2/20/Grace_Hopper_being_promoted_to_Commodore.JPEG/220px-Grace_Hopper_being_promoted_to_Commodore.JPEG\" srcset=\"//upload.wikimedia.org/wikipedia/commons/thumb/2/20/Grace_Hopper_being_promoted_to_Commodore.JPEG/330px-Grace_Hopper_being_promoted_to_Commodore.JPEG 1.5x, //upload.wikimedia.org/wikipedia/commons/thumb/2/20/Grace_Hopper_being_promoted_to_Commodore.JPEG/440px-Grace_Hopper_being_promoted_to_Commodore.JPEG 2x\" width=\"220\"/></a> <div class=\"thumbcaption\"><div class=\"magnify\"><a class=\"internal\" href=\"/wiki/File:Grace_Hopper_being_promoted_to_Commodore.JPEG\" title=\"Enlarge\"></a></div>Hopper being promoted to the rank of commodore in 1983</div></div></div>\n",
       "<p>In accordance with Navy attrition regulations, Hopper retired from the Naval Reserve with the rank of <a href=\"/wiki/Commander_(United_States)\" title=\"Commander (United States)\">commander</a> at age 60 at the end of 1966.<sup class=\"reference\" id=\"cite_ref-urlAttrition/Retirement_27-0\"><a href=\"#cite_note-urlAttrition/Retirement-27\">[27]</a></sup> She was recalled to active duty in August 1967 for a six-month period that turned into an indefinite assignment. She again retired in 1971 but was again asked to return to active duty in 1972. She was promoted to <a href=\"/wiki/Captain_(United_States_O-6)\" title=\"Captain (United States O-6)\">captain</a> in 1973 by <a href=\"/wiki/Admiral_(United_States)\" title=\"Admiral (United States)\">Admiral</a> <a class=\"mw-redirect\" href=\"/wiki/Elmo_R._Zumwalt_Jr.\" title=\"Elmo R. Zumwalt Jr.\">Elmo R. Zumwalt Jr.</a><sup class=\"reference\" id=\"cite_ref-navybio_28-0\"><a href=\"#cite_note-navybio-28\">[28]</a></sup>\n",
       "</p><p>After <a href=\"/wiki/Republican_Party_(United_States)\" title=\"Republican Party (United States)\">Republican</a> Representative <a class=\"mw-redirect\" href=\"/wiki/Philip_Crane\" title=\"Philip Crane\">Philip Crane</a> saw her on a March 1983 segment of <i><a href=\"/wiki/60_Minutes\" title=\"60 Minutes\">60 Minutes</a></i>, he championed <a class=\"external text\" href=\"https://www.congress.gov/bill/98th-congress/house-joint-resolution/341\" rel=\"nofollow\">H.J.Res. 341</a>, a joint <a href=\"/wiki/Resolution_(law)\" title=\"Resolution (law)\">resolution</a> originating in the <a href=\"/wiki/United_States_House_of_Representatives\" title=\"United States House of Representatives\">House of Representatives</a>, which led to her promotion on 15 December 1983 to <a href=\"/wiki/Commodore_(United_States)\" title=\"Commodore (United States)\">commodore</a> by special Presidential appointment by President <a href=\"/wiki/Ronald_Reagan\" title=\"Ronald Reagan\">Ronald Reagan</a>.<sup class=\"reference\" id=\"cite_ref-navybio_28-1\"><a href=\"#cite_note-navybio-28\">[28]</a></sup><sup class=\"reference\" id=\"cite_ref-29\"><a href=\"#cite_note-29\">[29]</a></sup><sup class=\"reference\" id=\"cite_ref-commodore_30-0\"><a href=\"#cite_note-commodore-30\">[30]</a></sup><sup class=\"reference\" id=\"cite_ref-DavidLetterman86_31-0\"><a href=\"#cite_note-DavidLetterman86-31\">[31]</a></sup> She remained on active duty for several years beyond mandatory retirement by special approval of Congress.<sup class=\"reference\" id=\"cite_ref-32\"><a href=\"#cite_note-32\">[32]</a></sup> Effective November 8, 1985, the rank of commodore was renamed <a href=\"/wiki/Rear_admiral_(United_States)\" title=\"Rear admiral (United States)\">rear admiral</a> (lower half) and Hopper became one of the Navy's few female admirals.\n",
       "</p><p>Following a career that spanned more than 42 years, Rear Admiral Hopper took retirement from the Navy on August 14, 1986.<sup class=\"reference\" id=\"cite_ref-33\"><a href=\"#cite_note-33\">[33]</a></sup> At a celebration held in Boston on the <a href=\"/wiki/USS_Constitution\" title=\"USS Constitution\">USS <i>Constitution</i></a> to commemorate her retirement, Hopper was awarded the <a href=\"/wiki/Defense_Distinguished_Service_Medal\" title=\"Defense Distinguished Service Medal\">Defense Distinguished Service Medal</a>, the highest non-combat decoration awarded by the Department of Defense.<sup class=\"reference\" id=\"cite_ref-34\"><a href=\"#cite_note-34\">[34]</a></sup>\n",
       "</p><p>At the time of her retirement, she was the oldest active-duty commissioned officer in the United States Navy (79 years, eight months and five days), and had her retirement ceremony aboard the oldest commissioned ship in the United States Navy (188 years, nine months and 23 days).<sup class=\"reference\" id=\"cite_ref-35\"><a href=\"#cite_note-35\">[35]</a></sup>\n",
       "</p><p>Admirals <a href=\"/wiki/William_D._Leahy\" title=\"William D. Leahy\">William D. Leahy</a>, <a href=\"/wiki/Chester_W._Nimitz\" title=\"Chester W. Nimitz\">Chester W. Nimitz</a>, <a href=\"/wiki/Hyman_G._Rickover\" title=\"Hyman G. Rickover\">Hyman G. Rickover</a> and <a class=\"mw-redirect\" href=\"/wiki/Charles_Stewart_(1778%E2%80%931869)\" title=\"Charles Stewart (1778–1869)\">Charles Stewart</a> were the only other officers in the Navy's history to serve on active duty at a higher age. Leahy and Nimitz served on active duty for life due to their promotions to the rank of <a href=\"/wiki/Fleet_admiral_(United_States)\" title=\"Fleet admiral (United States)\">fleet admiral</a>.\n",
       "</p><p>Admiral Hopper was the first ever person to be profiled twice on <i>60 Minutes</i>, first in March of 1983, and the second on 24-August-1986.\n",
       "</p>\n",
       "<h2><span class=\"mw-headline\" id=\"Post-retirement\">Post-retirement</span><span class=\"mw-editsection\"><span class=\"mw-editsection-bracket\">[</span><a href=\"/w/index.php?title=Grace_Hopper&amp;action=edit&amp;section=8\" title=\"Edit section: Post-retirement\">edit</a><span class=\"mw-editsection-bracket\">]</span></span></h2>\n",
       "<p>Following her retirement from the Navy, she was hired as a senior consultant to <a href=\"/wiki/Digital_Equipment_Corporation\" title=\"Digital Equipment Corporation\">Digital Equipment Corporation</a> (DEC). Hopper was initially offered a position by Rita Yavinsky, but she insisted on going through the typical formal interview process. She then proposed in jest that she would be willing to accept a position which made her available on alternating Thursdays, exhibited at their museum of computing as a pioneer, in exchange for a generous salary and unlimited expense account. Instead, she was hired as a full-time Principal Corporate Consulting Engineer, a tech-track SVP-equivalent. In this position, Hopper represented the company at industry forums, serving on various industry committees, along with other obligations.<sup class=\"reference\" id=\"cite_ref-williams_36-0\"><a href=\"#cite_note-williams-36\">[36]</a></sup> She retained that position until her death at age 85 in 1992.\n",
       "</p><p>At DEC Hopper served primarily as a goodwill ambassador. She lectured widely about the early days of computing, her career, and on efforts that computer vendors could take to make life easier for their users. She visited most of Digital's engineering facilities, where she generally received a standing ovation at the conclusion of her remarks. Although no longer a serving officer, she always wore her Navy full dress uniform to these lectures contrary to U.S. Department of Defense policy.<sup class=\"reference\" id=\"cite_ref-32CFR53.2_37-0\"><a href=\"#cite_note-32CFR53.2-37\">[37]</a></sup> In 2016 Hopper received the Presidential Medal of Freedom, the nation’s highest civilian honor, in recognition of her remarkable contributions to the field of computer science.\n",
       "</p><p>\"The most important thing I've accomplished, other than building the compiler,\" she said, \"is training young people. They come to me, you know, and say, 'Do you think we can do this?' I say, 'Try it.' And I back 'em up. They need that. I keep track of them as they get older and I stir 'em up at intervals so they don't forget to take chances.\"<sup class=\"reference\" id=\"cite_ref-38\"><a href=\"#cite_note-38\">[38]</a></sup>\n",
       "</p>\n",
       "<h2><span class=\"mw-headline\" id=\"Anecdotes\">Anecdotes</span><span class=\"mw-editsection\"><span class=\"mw-editsection-bracket\">[</span><a href=\"/w/index.php?title=Grace_Hopper&amp;action=edit&amp;section=9\" title=\"Edit section: Anecdotes\">edit</a><span class=\"mw-editsection-bracket\">]</span></span></h2>\n",
       "<div class=\"thumb tright\"><div class=\"thumbinner\" style=\"width:302px;\"><a class=\"image\" href=\"/wiki/File:First_Computer_Bug,_1945.jpg\"><img alt=\"\" class=\"thumbimage\" data-file-height=\"2285\" data-file-width=\"2889\" decoding=\"async\" height=\"237\" src=\"//upload.wikimedia.org/wikipedia/commons/thumb/f/ff/First_Computer_Bug%2C_1945.jpg/300px-First_Computer_Bug%2C_1945.jpg\" srcset=\"//upload.wikimedia.org/wikipedia/commons/thumb/f/ff/First_Computer_Bug%2C_1945.jpg/450px-First_Computer_Bug%2C_1945.jpg 1.5x, //upload.wikimedia.org/wikipedia/commons/thumb/f/ff/First_Computer_Bug%2C_1945.jpg/600px-First_Computer_Bug%2C_1945.jpg 2x\" width=\"300\"/></a> <div class=\"thumbcaption\"><div class=\"magnify\"><a class=\"internal\" href=\"/wiki/File:First_Computer_Bug,_1945.jpg\" title=\"Enlarge\"></a></div>Log book showing the \"bug\" found caught in a Mark II relay</div></div></div>\n",
       "<ul><li>Throughout much of her later career, Hopper was much in demand as a speaker at various computer-related events. She was well known for her lively and irreverent speaking style, as well as a rich treasury of early war stories. She also received the nickname \"Grandma COBOL\".<sup class=\"reference\" id=\"cite_ref-39\"><a href=\"#cite_note-39\">[39]</a></sup></li>\n",
       "<li>While she was working on a <a href=\"/wiki/Harvard_Mark_II\" title=\"Harvard Mark II\">Mark II</a> Computer at Harvard University in 1947,<sup class=\"reference\" id=\"cite_ref-:0_40-0\"><a href=\"#cite_note-:0-40\">[40]</a></sup> her associates discovered a <a href=\"/wiki/Moth\" title=\"Moth\">moth</a> that was stuck in a <a href=\"/wiki/Relay\" title=\"Relay\">relay</a> and impeding the operation of the computer. Upon extraction, the insect was affixed to a log sheet for that day with the notation, “First actual case of bug being found”. While neither she nor her crew members mentioned the exact phrase, \"<a href=\"/wiki/Debugging\" title=\"Debugging\">debugging</a>\", in their log entries, the case is held as a historical instance of \"debugging\" a computer and Hopper is credited with popularizing the term in computing. For many decades, the term \"bug\" for a malfunction had been in use in several fields before being applied to <a class=\"mw-redirect\" href=\"/wiki/Computer_bug\" title=\"Computer bug\">computers</a>.<sup class=\"reference\" id=\"cite_ref-41\"><a href=\"#cite_note-41\">[41]</a></sup><sup class=\"reference\" id=\"cite_ref-42\"><a href=\"#cite_note-42\">[42]</a></sup> The remains of the moth can be found taped into the group's log book at the <a href=\"/wiki/Smithsonian_Institution\" title=\"Smithsonian Institution\">Smithsonian Institution</a>'s <a href=\"/wiki/National_Museum_of_American_History\" title=\"National Museum of American History\">National Museum of American History</a> in <a href=\"/wiki/Washington,_D.C.\" title=\"Washington, D.C.\">Washington, D.C.</a><sup class=\"reference\" id=\"cite_ref-:0_40-1\"><a href=\"#cite_note-:0-40\">[40]</a></sup></li>\n",
       "<li>Grace Hopper is famous for her <i>nanoseconds</i> visual aid. People (such as generals and admirals) used to ask her why <a href=\"/wiki/Satellite\" title=\"Satellite\">satellite</a> communication took so long.  She started handing out pieces of wire that were just under one foot long—11.8 inches (30 cm)—the distance that light travels in one <a href=\"/wiki/Nanosecond\" title=\"Nanosecond\">nanosecond</a>. She gave these pieces of wire the <a href=\"/wiki/Metonymy\" title=\"Metonymy\">metonym</a> \"nanoseconds.\"<sup class=\"reference\" id=\"cite_ref-DavidLetterman86_31-1\"><a href=\"#cite_note-DavidLetterman86-31\">[31]</a></sup> She was careful to tell her audience that the length of her nanoseconds was actually the maximum distance the signals would travel in a vacuum, and that signals would travel more slowly through the actual wires that were her teaching aids. Later she used the same pieces of wire to illustrate why computers had to be small to be fast. At many of her talks and visits, she handed out \"nanoseconds\" to everyone in the audience, contrasting them with a coil of wire 984 feet (300 meters) long,<sup class=\"reference\" id=\"cite_ref-43\"><a href=\"#cite_note-43\">[43]</a></sup> representing a <a href=\"/wiki/Microsecond\" title=\"Microsecond\">microsecond</a>. Later, while giving these lectures while working for DEC, she passed out packets of pepper, calling the individual grains of ground pepper <a href=\"/wiki/Picosecond\" title=\"Picosecond\">picoseconds</a>.<sup class=\"reference\" id=\"cite_ref-44\"><a href=\"#cite_note-44\">[44]</a></sup></li>\n",
       "<li>Jay Elliot described Grace Hopper as appearing to be \" 'all Navy', but when you reach inside, you find a 'Pirate' dying to be released.\"<sup class=\"reference\" id=\"cite_ref-45\"><a href=\"#cite_note-45\">[45]</a></sup></li></ul>\n",
       "<h2><span class=\"mw-headline\" id=\"Death\">Death</span><span class=\"mw-editsection\"><span class=\"mw-editsection-bracket\">[</span><a href=\"/w/index.php?title=Grace_Hopper&amp;action=edit&amp;section=10\" title=\"Edit section: Death\">edit</a><span class=\"mw-editsection-bracket\">]</span></span></h2>\n",
       "<p>On New Year's Day 1992, Hopper died in her sleep of natural causes at her home in Arlington County, Virginia;<sup class=\"reference\" id=\"cite_ref-46\"><a href=\"#cite_note-46\">[46]</a></sup> she was 85 years of age. She was interred with full military honors in <a href=\"/wiki/Arlington_National_Cemetery\" title=\"Arlington National Cemetery\">Arlington National Cemetery</a>.<sup class=\"reference\" id=\"cite_ref-47\"><a href=\"#cite_note-47\">[47]</a></sup>\n",
       "</p>\n",
       "<h2><span class=\"mw-headline\" id=\"Dates_of_rank\">Dates of rank</span><span class=\"mw-editsection\"><span class=\"mw-editsection-bracket\">[</span><a href=\"/w/index.php?title=Grace_Hopper&amp;action=edit&amp;section=11\" title=\"Edit section: Dates of rank\">edit</a><span class=\"mw-editsection-bracket\">]</span></span></h2>\n",
       "<table class=\"wikitable\" style=\"text-align:center;\">\n",
       "<tbody><tr>\n",
       "<th scope=\"row\">Rank\n",
       "</th>\n",
       "<th scope=\"col\"><a href=\"/wiki/Midshipman\" title=\"Midshipman\">Midshipman</a><br/>MIDN\n",
       "</th>\n",
       "<th scope=\"col\"><a href=\"/wiki/Lieutenant_(junior_grade)\" title=\"Lieutenant (junior grade)\">Lieutenant junior grade</a><br/>O-2\n",
       "</th>\n",
       "<th scope=\"col\"><a href=\"/wiki/Lieutenant_(navy)\" title=\"Lieutenant (navy)\">Lieutenant</a><br/>O-3\n",
       "</th>\n",
       "<th scope=\"col\"><a href=\"/wiki/Lieutenant_commander_(United_States)\" title=\"Lieutenant commander (United States)\">Lieutenant commander</a><br/>O-4\n",
       "</th>\n",
       "<th scope=\"col\"><a href=\"/wiki/Commander_(United_States)\" title=\"Commander (United States)\">Commander</a><br/>O-5\n",
       "</th>\n",
       "<th scope=\"col\"><a href=\"/wiki/Captain_(United_States_O-6)\" title=\"Captain (United States O-6)\">Captain</a><br/>O-6\n",
       "</th>\n",
       "<th scope=\"col\"><a href=\"/wiki/Commodore_(United_States)\" title=\"Commodore (United States)\">Commodore</a>/<br/><a href=\"/wiki/Rear_admiral_(United_States)\" title=\"Rear admiral (United States)\">Rear admiral (lower half)</a><br/>O-7\n",
       "</th></tr>\n",
       "<tr>\n",
       "<th scope=\"row\">Insignia\n",
       "</th>\n",
       "<td>N/A\n",
       "</td>\n",
       "<td><a class=\"image\" href=\"/wiki/File:US_Navy_O2_insignia.svg\"><img alt=\"US Navy O2 insignia.svg\" data-file-height=\"420\" data-file-width=\"245\" decoding=\"async\" height=\"103\" src=\"//upload.wikimedia.org/wikipedia/commons/thumb/3/38/US_Navy_O2_insignia.svg/60px-US_Navy_O2_insignia.svg.png\" srcset=\"//upload.wikimedia.org/wikipedia/commons/thumb/3/38/US_Navy_O2_insignia.svg/90px-US_Navy_O2_insignia.svg.png 1.5x, //upload.wikimedia.org/wikipedia/commons/thumb/3/38/US_Navy_O2_insignia.svg/120px-US_Navy_O2_insignia.svg.png 2x\" width=\"60\"/></a>\n",
       "</td>\n",
       "<td><a class=\"image\" href=\"/wiki/File:US_Navy_O3_insignia.svg\"><img alt=\"US Navy O3 insignia.svg\" data-file-height=\"420\" data-file-width=\"245\" decoding=\"async\" height=\"103\" src=\"//upload.wikimedia.org/wikipedia/commons/thumb/0/02/US_Navy_O3_insignia.svg/60px-US_Navy_O3_insignia.svg.png\" srcset=\"//upload.wikimedia.org/wikipedia/commons/thumb/0/02/US_Navy_O3_insignia.svg/90px-US_Navy_O3_insignia.svg.png 1.5x, //upload.wikimedia.org/wikipedia/commons/thumb/0/02/US_Navy_O3_insignia.svg/120px-US_Navy_O3_insignia.svg.png 2x\" width=\"60\"/></a>\n",
       "</td>\n",
       "<td><a class=\"image\" href=\"/wiki/File:U.S._Navy_O-4_insignia.svg\"><img alt=\"U.S. Navy O-4 insignia.svg\" data-file-height=\"420\" data-file-width=\"245\" decoding=\"async\" height=\"103\" src=\"//upload.wikimedia.org/wikipedia/commons/thumb/8/87/U.S._Navy_O-4_insignia.svg/60px-U.S._Navy_O-4_insignia.svg.png\" srcset=\"//upload.wikimedia.org/wikipedia/commons/thumb/8/87/U.S._Navy_O-4_insignia.svg/90px-U.S._Navy_O-4_insignia.svg.png 1.5x, //upload.wikimedia.org/wikipedia/commons/thumb/8/87/U.S._Navy_O-4_insignia.svg/120px-U.S._Navy_O-4_insignia.svg.png 2x\" width=\"60\"/></a>\n",
       "</td>\n",
       "<td><a class=\"image\" href=\"/wiki/File:US_Navy_O5_insignia.svg\"><img alt=\"US Navy O5 insignia.svg\" data-file-height=\"420\" data-file-width=\"245\" decoding=\"async\" height=\"103\" src=\"//upload.wikimedia.org/wikipedia/commons/thumb/b/be/US_Navy_O5_insignia.svg/60px-US_Navy_O5_insignia.svg.png\" srcset=\"//upload.wikimedia.org/wikipedia/commons/thumb/b/be/US_Navy_O5_insignia.svg/90px-US_Navy_O5_insignia.svg.png 1.5x, //upload.wikimedia.org/wikipedia/commons/thumb/b/be/US_Navy_O5_insignia.svg/120px-US_Navy_O5_insignia.svg.png 2x\" width=\"60\"/></a>\n",
       "</td>\n",
       "<td><a class=\"image\" href=\"/wiki/File:US_Navy_O6_insignia.svg\"><img alt=\"US Navy O6 insignia.svg\" data-file-height=\"420\" data-file-width=\"245\" decoding=\"async\" height=\"103\" src=\"//upload.wikimedia.org/wikipedia/commons/thumb/c/c0/US_Navy_O6_insignia.svg/60px-US_Navy_O6_insignia.svg.png\" srcset=\"//upload.wikimedia.org/wikipedia/commons/thumb/c/c0/US_Navy_O6_insignia.svg/90px-US_Navy_O6_insignia.svg.png 1.5x, //upload.wikimedia.org/wikipedia/commons/thumb/c/c0/US_Navy_O6_insignia.svg/120px-US_Navy_O6_insignia.svg.png 2x\" width=\"60\"/></a>\n",
       "</td>\n",
       "<td><a class=\"image\" href=\"/wiki/File:US_Navy_O7_insignia.svg\"><img alt=\"US Navy O7 insignia.svg\" data-file-height=\"420\" data-file-width=\"245\" decoding=\"async\" height=\"103\" src=\"//upload.wikimedia.org/wikipedia/commons/thumb/d/d9/US_Navy_O7_insignia.svg/60px-US_Navy_O7_insignia.svg.png\" srcset=\"//upload.wikimedia.org/wikipedia/commons/thumb/d/d9/US_Navy_O7_insignia.svg/90px-US_Navy_O7_insignia.svg.png 1.5x, //upload.wikimedia.org/wikipedia/commons/thumb/d/d9/US_Navy_O7_insignia.svg/120px-US_Navy_O7_insignia.svg.png 2x\" width=\"60\"/></a>\n",
       "</td></tr>\n",
       "<tr>\n",
       "<th scope=\"row\">Date\n",
       "</th>\n",
       "<td>May 4, 1944<sup class=\"reference\" id=\"cite_ref-USNavy_48-0\"><a href=\"#cite_note-USNavy-48\">[48]</a></sup>\n",
       "</td>\n",
       "<td>June 27, 1944<sup class=\"reference\" id=\"cite_ref-USNavy_48-1\"><a href=\"#cite_note-USNavy-48\">[48]</a></sup>\n",
       "</td>\n",
       "<td>June 1, 1946<sup class=\"reference\" id=\"cite_ref-USNavy_48-2\"><a href=\"#cite_note-USNavy-48\">[48]</a></sup>\n",
       "</td>\n",
       "<td>April 1, 1952<sup class=\"reference\" id=\"cite_ref-USNavy_48-3\"><a href=\"#cite_note-USNavy-48\">[48]</a></sup>\n",
       "</td>\n",
       "<td>July 1, 1957<sup class=\"reference\" id=\"cite_ref-USNavy_48-4\"><a href=\"#cite_note-USNavy-48\">[48]</a></sup><sup class=\"reference\" id=\"cite_ref-49\"><a href=\"#cite_note-49\">[n 1]</a></sup>\n",
       "</td>\n",
       "<td>August 2, 1973<sup class=\"reference\" id=\"cite_ref-USNavy_48-6\"><a href=\"#cite_note-USNavy-48\">[48]</a></sup>\n",
       "</td>\n",
       "<td>December 15, 1983<sup class=\"reference\" id=\"cite_ref-commodore_30-1\"><a href=\"#cite_note-commodore-30\">[30]</a></sup>/<br/>redesignated November 8, 1985<sup class=\"reference\" id=\"cite_ref-50\"><a href=\"#cite_note-50\">[49]</a></sup>\n",
       "</td></tr></tbody></table>\n",
       "<h2><span class=\"mw-headline\" id=\"Awards_and_honors\">Awards and honors</span><span class=\"mw-editsection\"><span class=\"mw-editsection-bracket\">[</span><a href=\"/w/index.php?title=Grace_Hopper&amp;action=edit&amp;section=12\" title=\"Edit section: Awards and honors\">edit</a><span class=\"mw-editsection-bracket\">]</span></span></h2>\n",
       "<h3><span class=\"mw-headline\" id=\"Military_awards\">Military awards</span><span class=\"mw-editsection\"><span class=\"mw-editsection-bracket\">[</span><a href=\"/w/index.php?title=Grace_Hopper&amp;action=edit&amp;section=13\" title=\"Edit section: Military awards\">edit</a><span class=\"mw-editsection-bracket\">]</span></span></h3>\n",
       "<table style=\"margin:1em auto; text-align:center;\">\n",
       "<tbody><tr>\n",
       "<td colspan=\"2\"><a class=\"image\" href=\"/wiki/File:Defense_Distinguished_Service_Medal_ribbon.svg\"><img alt=\"\" class=\"thumbborder\" data-file-height=\"279\" data-file-width=\"1024\" decoding=\"async\" height=\"29\" src=\"//upload.wikimedia.org/wikipedia/commons/thumb/3/34/Defense_Distinguished_Service_Medal_ribbon.svg/106px-Defense_Distinguished_Service_Medal_ribbon.svg.png\" srcset=\"//upload.wikimedia.org/wikipedia/commons/thumb/3/34/Defense_Distinguished_Service_Medal_ribbon.svg/159px-Defense_Distinguished_Service_Medal_ribbon.svg.png 1.5x, //upload.wikimedia.org/wikipedia/commons/thumb/3/34/Defense_Distinguished_Service_Medal_ribbon.svg/212px-Defense_Distinguished_Service_Medal_ribbon.svg.png 2x\" width=\"106\"/></a>\n",
       "</td>\n",
       "<td colspan=\"2\"><a class=\"image\" href=\"/wiki/File:Legion_of_Merit_ribbon.svg\"><img alt=\"\" class=\"thumbborder\" data-file-height=\"279\" data-file-width=\"1024\" decoding=\"async\" height=\"29\" src=\"//upload.wikimedia.org/wikipedia/commons/thumb/4/43/Legion_of_Merit_ribbon.svg/106px-Legion_of_Merit_ribbon.svg.png\" srcset=\"//upload.wikimedia.org/wikipedia/commons/thumb/4/43/Legion_of_Merit_ribbon.svg/159px-Legion_of_Merit_ribbon.svg.png 1.5x, //upload.wikimedia.org/wikipedia/commons/thumb/4/43/Legion_of_Merit_ribbon.svg/212px-Legion_of_Merit_ribbon.svg.png 2x\" width=\"106\"/></a>\n",
       "</td>\n",
       "<td colspan=\"2\"><a class=\"image\" href=\"/wiki/File:Meritorious_Service_Medal_ribbon.svg\"><img alt=\"\" class=\"thumbborder\" data-file-height=\"279\" data-file-width=\"1024\" decoding=\"async\" height=\"29\" src=\"//upload.wikimedia.org/wikipedia/commons/thumb/e/eb/Meritorious_Service_Medal_ribbon.svg/106px-Meritorious_Service_Medal_ribbon.svg.png\" srcset=\"//upload.wikimedia.org/wikipedia/commons/thumb/e/eb/Meritorious_Service_Medal_ribbon.svg/159px-Meritorious_Service_Medal_ribbon.svg.png 1.5x, //upload.wikimedia.org/wikipedia/commons/thumb/e/eb/Meritorious_Service_Medal_ribbon.svg/212px-Meritorious_Service_Medal_ribbon.svg.png 2x\" width=\"106\"/></a>\n",
       "</td></tr>\n",
       "<tr>\n",
       "<td colspan=\"2\"><a class=\"image\" href=\"/wiki/File:Presidential_Medal_of_Freedom_(ribbon).svg\"><img alt=\"\" class=\"thumbborder\" data-file-height=\"56\" data-file-width=\"204\" decoding=\"async\" height=\"29\" src=\"//upload.wikimedia.org/wikipedia/commons/thumb/e/ee/Presidential_Medal_of_Freedom_%28ribbon%29.svg/106px-Presidential_Medal_of_Freedom_%28ribbon%29.svg.png\" srcset=\"//upload.wikimedia.org/wikipedia/commons/thumb/e/ee/Presidential_Medal_of_Freedom_%28ribbon%29.svg/159px-Presidential_Medal_of_Freedom_%28ribbon%29.svg.png 1.5x, //upload.wikimedia.org/wikipedia/commons/thumb/e/ee/Presidential_Medal_of_Freedom_%28ribbon%29.svg/212px-Presidential_Medal_of_Freedom_%28ribbon%29.svg.png 2x\" width=\"106\"/></a>\n",
       "</td>\n",
       "<td colspan=\"2\"><a class=\"image\" href=\"/wiki/File:American_Campaign_Medal_ribbon.svg\"><img alt=\"\" class=\"thumbborder\" data-file-height=\"279\" data-file-width=\"1024\" decoding=\"async\" height=\"29\" src=\"//upload.wikimedia.org/wikipedia/commons/thumb/e/e0/American_Campaign_Medal_ribbon.svg/106px-American_Campaign_Medal_ribbon.svg.png\" srcset=\"//upload.wikimedia.org/wikipedia/commons/thumb/e/e0/American_Campaign_Medal_ribbon.svg/159px-American_Campaign_Medal_ribbon.svg.png 1.5x, //upload.wikimedia.org/wikipedia/commons/thumb/e/e0/American_Campaign_Medal_ribbon.svg/212px-American_Campaign_Medal_ribbon.svg.png 2x\" width=\"106\"/></a>\n",
       "</td>\n",
       "<td colspan=\"2\"><a class=\"image\" href=\"/wiki/File:World_War_II_Victory_Medal_ribbon.svg\"><img alt=\"\" class=\"thumbborder\" data-file-height=\"29\" data-file-width=\"106\" decoding=\"async\" height=\"29\" src=\"//upload.wikimedia.org/wikipedia/commons/thumb/0/06/World_War_II_Victory_Medal_ribbon.svg/106px-World_War_II_Victory_Medal_ribbon.svg.png\" srcset=\"//upload.wikimedia.org/wikipedia/commons/thumb/0/06/World_War_II_Victory_Medal_ribbon.svg/159px-World_War_II_Victory_Medal_ribbon.svg.png 1.5x, //upload.wikimedia.org/wikipedia/commons/thumb/0/06/World_War_II_Victory_Medal_ribbon.svg/212px-World_War_II_Victory_Medal_ribbon.svg.png 2x\" width=\"106\"/></a>\n",
       "</td></tr>\n",
       "<tr>\n",
       "<td colspan=\"2\"><div style=\"position:relative; width:106px; border:none; line-height:1.5em; display:-moz-inline-stack; display:inline-block; zoom:1; *display:inline;\"><div style=\"position:relative; display:inline-block;\"><div style=\"position: absolute; left: 43px; top: 5px; padding: 0;\"><a class=\"image\" href=\"/wiki/File:Bronze-service-star-3d-vector.svg\" title=\"Bronze service star\"><img alt=\"Bronze star\" data-file-height=\"489\" data-file-width=\"512\" decoding=\"async\" height=\"17\" src=\"//upload.wikimedia.org/wikipedia/commons/thumb/d/d6/Bronze-service-star-3d-vector.svg/18px-Bronze-service-star-3d-vector.svg.png\" srcset=\"//upload.wikimedia.org/wikipedia/commons/thumb/d/d6/Bronze-service-star-3d-vector.svg/27px-Bronze-service-star-3d-vector.svg.png 1.5x, //upload.wikimedia.org/wikipedia/commons/thumb/d/d6/Bronze-service-star-3d-vector.svg/36px-Bronze-service-star-3d-vector.svg.png 2x\" width=\"18\"/></a></div><a class=\"image\" href=\"/wiki/File:National_Defense_Service_Medal_ribbon.svg\"><img alt=\"\" class=\"thumbborder\" data-file-height=\"279\" data-file-width=\"1024\" decoding=\"async\" height=\"29\" src=\"//upload.wikimedia.org/wikipedia/commons/thumb/0/0d/National_Defense_Service_Medal_ribbon.svg/106px-National_Defense_Service_Medal_ribbon.svg.png\" srcset=\"//upload.wikimedia.org/wikipedia/commons/thumb/0/0d/National_Defense_Service_Medal_ribbon.svg/159px-National_Defense_Service_Medal_ribbon.svg.png 1.5x, //upload.wikimedia.org/wikipedia/commons/thumb/0/0d/National_Defense_Service_Medal_ribbon.svg/212px-National_Defense_Service_Medal_ribbon.svg.png 2x\" width=\"106\"/></a></div></div>\n",
       "</td>\n",
       "<td colspan=\"2\"><a class=\"image\" href=\"/wiki/File:Armed_Forces_Reserve_Medal_with_two_bronze_hourglass_devices.png\"><img alt=\"\" class=\"thumbborder\" data-file-height=\"47\" data-file-width=\"166\" decoding=\"async\" height=\"30\" src=\"//upload.wikimedia.org/wikipedia/commons/thumb/e/e2/Armed_Forces_Reserve_Medal_with_two_bronze_hourglass_devices.png/106px-Armed_Forces_Reserve_Medal_with_two_bronze_hourglass_devices.png\" srcset=\"//upload.wikimedia.org/wikipedia/commons/thumb/e/e2/Armed_Forces_Reserve_Medal_with_two_bronze_hourglass_devices.png/159px-Armed_Forces_Reserve_Medal_with_two_bronze_hourglass_devices.png 1.5x, //upload.wikimedia.org/wikipedia/commons/e/e2/Armed_Forces_Reserve_Medal_with_two_bronze_hourglass_devices.png 2x\" width=\"106\"/></a>\n",
       "</td>\n",
       "<td colspan=\"2\"><a class=\"image\" href=\"/wiki/File:U.S._Naval_Reserve_Medal_ribbon.svg\"><img alt=\"\" class=\"thumbborder\" data-file-height=\"279\" data-file-width=\"1024\" decoding=\"async\" height=\"29\" src=\"//upload.wikimedia.org/wikipedia/commons/thumb/7/7f/U.S._Naval_Reserve_Medal_ribbon.svg/106px-U.S._Naval_Reserve_Medal_ribbon.svg.png\" srcset=\"//upload.wikimedia.org/wikipedia/commons/thumb/7/7f/U.S._Naval_Reserve_Medal_ribbon.svg/159px-U.S._Naval_Reserve_Medal_ribbon.svg.png 1.5x, //upload.wikimedia.org/wikipedia/commons/thumb/7/7f/U.S._Naval_Reserve_Medal_ribbon.svg/212px-U.S._Naval_Reserve_Medal_ribbon.svg.png 2x\" width=\"106\"/></a>\n",
       "</td></tr></tbody></table>\n",
       "<table class=\"wikitable\" style=\"margin: 0 auto; text-align: center;\">\n",
       "<tbody><tr>\n",
       "<td colspan=\"2\"><a href=\"/wiki/Defense_Distinguished_Service_Medal\" title=\"Defense Distinguished Service Medal\">Defense Distinguished Service Medal</a><br/>(1986)\n",
       "</td>\n",
       "<td colspan=\"2\"><a href=\"/wiki/Legion_of_Merit\" title=\"Legion of Merit\">Legion of Merit</a><br/>(1967)\n",
       "</td>\n",
       "<td colspan=\"2\"><a href=\"/wiki/Meritorious_Service_Medal_(United_States)\" title=\"Meritorious Service Medal (United States)\">Meritorious Service Medal</a><br/>(1980)\n",
       "</td></tr>\n",
       "<tr>\n",
       "<td colspan=\"2\"><a href=\"/wiki/Presidential_Medal_of_Freedom\" title=\"Presidential Medal of Freedom\">Presidential Medal of Freedom</a><br/>(2016, Posthumous)\n",
       "</td>\n",
       "<td colspan=\"2\"><a href=\"/wiki/American_Campaign_Medal\" title=\"American Campaign Medal\">American Campaign Medal</a><br/>(1944)\n",
       "</td>\n",
       "<td colspan=\"2\"><a href=\"/wiki/World_War_II_Victory_Medal\" title=\"World War II Victory Medal\">World War II Victory Medal</a><br/>(1945)\n",
       "</td></tr>\n",
       "<tr>\n",
       "<td colspan=\"2\"><a href=\"/wiki/National_Defense_Service_Medal\" title=\"National Defense Service Medal\">National Defense Service Medal</a> <br/>with bronze service star<br/>(1953, 1966)\n",
       "</td>\n",
       "<td colspan=\"2\"><a href=\"/wiki/Armed_Forces_Reserve_Medal\" title=\"Armed Forces Reserve Medal\">Armed Forces Reserve Medal</a><br/>with two bronze hourglass devices<br/>(1963, 1973, 1983)\n",
       "</td>\n",
       "<td colspan=\"2\"><a href=\"/wiki/Naval_Reserve_Medal\" title=\"Naval Reserve Medal\">Naval Reserve Medal</a><br/>(1953)\n",
       "</td></tr></tbody></table>\n",
       "<h3><span class=\"mw-headline\" id=\"Other_awards\">Other awards</span><span class=\"mw-editsection\"><span class=\"mw-editsection-bracket\">[</span><a href=\"/w/index.php?title=Grace_Hopper&amp;action=edit&amp;section=14\" title=\"Edit section: Other awards\">edit</a><span class=\"mw-editsection-bracket\">]</span></span></h3>\n",
       "<ul><li>1964: Hopper was awarded the <a href=\"/wiki/Society_of_Women_Engineers\" title=\"Society of Women Engineers\">Society of Women Engineers</a> Achievement Award, the Society's highest honor, \"In recognition of her significant contributions to the burgeoning computer industry as an engineering manager and originator of automatic programming systems.\"<sup class=\"reference\" id=\"cite_ref-51\"><a href=\"#cite_note-51\">[50]</a></sup> In May 1955, Hopper was one of the founding members of the <a href=\"/wiki/Society_of_Women_Engineers#History\" title=\"Society of Women Engineers\">Society of Women Engineers</a>.<sup class=\"reference\" id=\"cite_ref-52\"><a href=\"#cite_note-52\">[51]</a></sup></li>\n",
       "<li>1969: Hopper was awarded the inaugural <a href=\"/wiki/Association_of_Information_Technology_Professionals\" title=\"Association of Information Technology Professionals\">Data Processing Management Association</a> Man of the Year award (now called the Distinguished Information Sciences Award).<sup class=\"reference\" id=\"cite_ref-53\"><a href=\"#cite_note-53\">[52]</a></sup></li>\n",
       "<li>1971: The annual <a href=\"/wiki/Grace_Murray_Hopper_Award\" title=\"Grace Murray Hopper Award\">Grace Murray Hopper Award for Outstanding Young Computer Professionals</a> was established in 1971 by the <a href=\"/wiki/Association_for_Computing_Machinery\" title=\"Association for Computing Machinery\">Association for Computing Machinery</a>.<sup class=\"reference\" id=\"cite_ref-USN_54-0\"><a href=\"#cite_note-USN-54\">[53]</a></sup></li>\n",
       "<li>1973: Elected to the <a href=\"/wiki/National_Academy_of_Engineering\" title=\"National Academy of Engineering\">U.S. National Academy of Engineering</a>.</li>\n",
       "<li>1973: First American and the first woman of any nationality to be made a <a class=\"mw-redirect\" href=\"/wiki/DFBCS\" title=\"DFBCS\">Distinguished Fellow of the British Computer Society</a>.<sup class=\"reference\" id=\"cite_ref-55\"><a href=\"#cite_note-55\">[54]</a></sup></li>\n",
       "<li>1981: Received an Honorary PhD from Clarkson University.</li>\n",
       "<li>1982: <a href=\"/wiki/American_Association_of_University_Women\" title=\"American Association of University Women\">American Association of University Women</a> Achievement Award and an Honorary Doctor of Science from <a href=\"/wiki/Marquette_University\" title=\"Marquette University\">Marquette University</a>.<sup class=\"reference\" id=\"cite_ref-56\"><a href=\"#cite_note-56\">[55]</a></sup></li>\n",
       "<li>1983: Golden Plate Award of the <a href=\"/wiki/Academy_of_Achievement\" title=\"Academy of Achievement\">American Academy of Achievement</a>.<sup class=\"reference\" id=\"cite_ref-57\"><a href=\"#cite_note-57\">[56]</a></sup></li>\n",
       "<li>1985: Honorary Doctor of Letters from <a class=\"mw-redirect\" href=\"/wiki/Western_New_England_College\" title=\"Western New England College\">Western New England College</a> (now <a href=\"/wiki/Western_New_England_University\" title=\"Western New England University\">Western New England University</a>).<sup class=\"reference\" id=\"cite_ref-58\"><a href=\"#cite_note-58\">[57]</a></sup><sup class=\"reference\" id=\"cite_ref-59\"><a href=\"#cite_note-59\">[58]</a></sup></li>\n",
       "<li>1986: Received the Defense Distinguished Service Medal at her retirement.</li>\n",
       "<li>1986: Received an Honorary Doctor of Science from Syracuse University.<sup class=\"reference\" id=\"cite_ref-60\"><a href=\"#cite_note-60\">[59]</a></sup></li>\n",
       "<li>1987: She became the first <a href=\"/wiki/Computer_History_Museum\" title=\"Computer History Museum\">Computer History Museum</a> Fellow Award Recipient \"for contributions to the development of programming languages, for standardization efforts, and for lifelong naval service.\"<sup class=\"reference\" id=\"cite_ref-61\"><a href=\"#cite_note-61\">[60]</a></sup></li>\n",
       "<li>1988: Received the Golden Gavel Award, <a href=\"/wiki/Toastmasters_International\" title=\"Toastmasters International\">Toastmasters International</a>.<sup class=\"reference\" id=\"cite_ref-62\"><a href=\"#cite_note-62\">[61]</a></sup></li>\n",
       "<li>1991: <a class=\"mw-redirect\" href=\"/wiki/National_Medal_of_Technology\" title=\"National Medal of Technology\">National Medal of Technology</a>.<sup class=\"reference\" id=\"cite_ref-:2_63-0\"><a href=\"#cite_note-:2-63\">[62]</a></sup></li>\n",
       "<li>1991: Elected a Fellow of the <a href=\"/wiki/American_Academy_of_Arts_and_Sciences\" title=\"American Academy of Arts and Sciences\">American Academy of Arts and Sciences</a>.<sup class=\"reference\" id=\"cite_ref-AAAS_64-0\"><a href=\"#cite_note-AAAS-64\">[63]</a></sup></li>\n",
       "<li>1992: The <a href=\"/wiki/Society_of_Women_Engineers\" title=\"Society of Women Engineers\">Society of Women Engineers</a> established three annual, renewable, \"Admiral Grace Murray Hopper Scholarships\"<sup class=\"reference\" id=\"cite_ref-65\"><a href=\"#cite_note-65\">[64]</a></sup></li>\n",
       "<li>1994: Inducted into the <a href=\"/wiki/National_Women%27s_Hall_of_Fame\" title=\"National Women's Hall of Fame\">National Women's Hall of Fame</a>.<sup class=\"reference\" id=\"cite_ref-66\"><a href=\"#cite_note-66\">[65]</a></sup></li>\n",
       "<li>1996: <a class=\"mw-redirect\" href=\"/wiki/USS_Hopper_(DDG-70)\" title=\"USS Hopper (DDG-70)\">USS <i>Hopper</i> <span class=\"nowrap\">(DDG-70)</span></a> was launched.<sup class=\"reference\" id=\"cite_ref-USN_54-1\"><a href=\"#cite_note-USN-54\">[53]</a></sup> Nicknamed <i>Amazing Grace</i>, it is on a very short <a href=\"/wiki/List_of_U.S._military_vessels_named_after_women\" title=\"List of U.S. military vessels named after women\">list of U.S. military vessels named after women</a>.</li>\n",
       "<li>2001: <a href=\"/wiki/Eavan_Boland\" title=\"Eavan Boland\">Eavan Boland</a> wrote a poem dedicated to Grace Hopper titled \"Code\" in her 2001 release <i>Against Love Poetry</i>.<sup class=\"reference\" id=\"cite_ref-67\"><a href=\"#cite_note-67\">[66]</a></sup></li>\n",
       "<li>2001: The Gracies, the Government Technology Leadership Award were named in her honor.<sup class=\"reference\" id=\"cite_ref-68\"><a href=\"#cite_note-68\">[67]</a></sup></li>\n",
       "<li>2009: The Department of Energy's <a href=\"/wiki/National_Energy_Research_Scientific_Computing_Center\" title=\"National Energy Research Scientific Computing Center\">National Energy Research Scientific Computing Center</a> named its flagship system \"Hopper\".<sup class=\"reference\" id=\"cite_ref-69\"><a href=\"#cite_note-69\">[68]</a></sup></li>\n",
       "<li>2009: <a href=\"/wiki/Office_of_Naval_Intelligence\" title=\"Office of Naval Intelligence\">Office of Naval Intelligence</a> creates the Grace Hopper Information Services Center.<sup class=\"reference\" id=\"cite_ref-70\"><a href=\"#cite_note-70\">[69]</a></sup></li>\n",
       "<li>2013: Google made the <a href=\"/wiki/Google_Doodle\" title=\"Google Doodle\">Google Doodle</a> for Hopper's 107th birthday an animation of her sitting at a computer, using COBOL to print out her age. At the end of the animation, a moth flies out of the computer.<sup class=\"reference\" id=\"cite_ref-Google_Doodle_71-0\"><a href=\"#cite_note-Google_Doodle-71\">[70]</a></sup><sup class=\"reference\" id=\"cite_ref-72\"><a href=\"#cite_note-72\">[71]</a></sup></li>\n",
       "<li>2016: On November 22, 2016, Hopper was posthumously awarded a <a href=\"/wiki/Presidential_Medal_of_Freedom\" title=\"Presidential Medal of Freedom\">Presidential Medal of Freedom</a> for her accomplishments in the field of computer science.<sup class=\"reference\" id=\"cite_ref-73\"><a href=\"#cite_note-73\">[72]</a></sup></li>\n",
       "<li>2017: <a class=\"mw-redirect\" href=\"/wiki/Hopper_College\" title=\"Hopper College\">Hopper College</a> at <a href=\"/wiki/Yale_University\" title=\"Yale University\">Yale University</a> was named in her honor.<sup class=\"reference\" id=\"cite_ref-74\"><a href=\"#cite_note-74\">[73]</a></sup></li>\n",
       "<li>2021: The Admiral Grace Hopper Award was established by the chancellor of the <a href=\"/wiki/College_of_Information_and_Cyberspace\" title=\"College of Information and Cyberspace\">College of Information and Cyberspace</a> (CIC) of the <a href=\"/wiki/National_Defense_University\" title=\"National Defense University\">National Defense University</a> to recognize leaders in the fields of information and cybersecurity throughout the National Security community.<sup class=\"reference\" id=\"cite_ref-75\"><a href=\"#cite_note-75\">[74]</a></sup></li></ul>\n",
       "<h2><span class=\"mw-headline\" id=\"Legacy\">Legacy</span><span class=\"mw-editsection\"><span class=\"mw-editsection-bracket\">[</span><a href=\"/w/index.php?title=Grace_Hopper&amp;action=edit&amp;section=15\" title=\"Edit section: Legacy\">edit</a><span class=\"mw-editsection-bracket\">]</span></span></h2>\n",
       "<style data-mw-deduplicate=\"TemplateStyles:r1097763485\">.mw-parser-output .ambox{border:1px solid #a2a9b1;border-left:10px solid #36c;background-color:#fbfbfb;box-sizing:border-box}.mw-parser-output .ambox+link+.ambox,.mw-parser-output .ambox+link+style+.ambox,.mw-parser-output .ambox+link+link+.ambox,.mw-parser-output .ambox+.mw-empty-elt+link+.ambox,.mw-parser-output .ambox+.mw-empty-elt+link+style+.ambox,.mw-parser-output .ambox+.mw-empty-elt+link+link+.ambox{margin-top:-1px}html body.mediawiki .mw-parser-output .ambox.mbox-small-left{margin:4px 1em 4px 0;overflow:hidden;width:238px;border-collapse:collapse;font-size:88%;line-height:1.25em}.mw-parser-output .ambox-speedy{border-left:10px solid #b32424;background-color:#fee7e6}.mw-parser-output .ambox-delete{border-left:10px solid #b32424}.mw-parser-output .ambox-content{border-left:10px solid #f28500}.mw-parser-output .ambox-style{border-left:10px solid #fc3}.mw-parser-output .ambox-move{border-left:10px solid #9932cc}.mw-parser-output .ambox-protection{border-left:10px solid #a2a9b1}.mw-parser-output .ambox .mbox-text{border:none;padding:0.25em 0.5em;width:100%}.mw-parser-output .ambox .mbox-image{border:none;padding:2px 0 2px 0.5em;text-align:center}.mw-parser-output .ambox .mbox-imageright{border:none;padding:2px 0.5em 2px 0;text-align:center}.mw-parser-output .ambox .mbox-empty-cell{border:none;padding:0;width:1px}.mw-parser-output .ambox .mbox-image-div{width:52px}html.client-js body.skin-minerva .mw-parser-output .mbox-text-span{margin-left:23px!important}@media(min-width:720px){.mw-parser-output .ambox{margin:0 10%}}</style><table class=\"box-Prose plainlinks metadata ambox ambox-style ambox-Prose\" role=\"presentation\"><tbody><tr><td class=\"mbox-image\"><div class=\"mbox-image-div\"><img alt=\"\" data-file-height=\"48\" data-file-width=\"48\" decoding=\"async\" height=\"40\" src=\"//upload.wikimedia.org/wikipedia/en/thumb/f/f2/Edit-clear.svg/40px-Edit-clear.svg.png\" srcset=\"//upload.wikimedia.org/wikipedia/en/thumb/f/f2/Edit-clear.svg/60px-Edit-clear.svg.png 1.5x, //upload.wikimedia.org/wikipedia/en/thumb/f/f2/Edit-clear.svg/80px-Edit-clear.svg.png 2x\" width=\"40\"/></div></td><td class=\"mbox-text\"><div class=\"mbox-text-span\">This section <b>is in <a class=\"mw-redirect\" href=\"/wiki/MOS:LIST\" title=\"MOS:LIST\">list</a> format but may read better as <a class=\"mw-redirect\" href=\"/wiki/MOS:PROSE\" title=\"MOS:PROSE\">prose</a></b>.<span class=\"hide-when-compact\"> You can help by <a class=\"external text\" href=\"https://en.wikipedia.org/w/index.php?title=Grace_Hopper&amp;action=edit\">converting this section</a>, if appropriate. <a href=\"/wiki/Help:Editing\" title=\"Help:Editing\">Editing help</a> is available.</span> <span class=\"date-container\"><i>(<span class=\"date\">May 2021</span>)</i></span></div></td></tr></tbody></table>\n",
       "<ul><li>Grace Hopper was awarded 40 honorary degrees from universities worldwide during her lifetime.<sup class=\"reference\" id=\"cite_ref-76\"><a href=\"#cite_note-76\">[75]</a></sup><sup class=\"reference\" id=\"cite_ref-77\"><a href=\"#cite_note-77\">[76]</a></sup><sup class=\"reference\" id=\"cite_ref-78\"><a href=\"#cite_note-78\">[77]</a></sup></li>\n",
       "<li><i>Born with Curiosity: The Grace Hopper Story</i> is an upcoming <a href=\"/wiki/Documentary_film\" title=\"Documentary film\">documentary film</a>.<sup class=\"reference\" id=\"cite_ref-79\"><a href=\"#cite_note-79\">[78]</a></sup></li>\n",
       "<li><a href=\"/wiki/Nvidia\" title=\"Nvidia\">Nvidia</a> is naming its upcoming <a class=\"mw-redirect\" href=\"/wiki/CPU\" title=\"CPU\">CPU</a> generation Grace<sup class=\"reference\" id=\"cite_ref-80\"><a href=\"#cite_note-80\">[79]</a></sup> and <a class=\"mw-redirect\" href=\"/wiki/GPU\" title=\"GPU\">GPU</a> generation <a href=\"/wiki/Hopper_(microarchitecture)\" title=\"Hopper (microarchitecture)\">Hopper</a> after Grace Hopper.</li>\n",
       "<li>The Navy's <a class=\"mw-redirect\" href=\"/wiki/Hopper_Information_Services_Center\" title=\"Hopper Information Services Center\">Hopper Information Services Center</a> is named for her.</li>\n",
       "<li>The Navy named a guided-missile destroyer <i><a href=\"/wiki/USS_Hopper\" title=\"USS Hopper\">Hopper</a></i> after her.<sup class=\"reference\" id=\"cite_ref-81\"><a href=\"#cite_note-81\">[80]</a></sup></li>\n",
       "<li>On 30 June 2021, a satellite named after her (<a href=\"/wiki/%C3%91uSat\" title=\"ÑuSat\">ÑuSat 20</a> or \"Grace\", COSPAR 2021-059AU) was launched into space.</li></ul>\n",
       "<h3><span class=\"mw-headline\" id=\"Places\">Places</span><span class=\"mw-editsection\"><span class=\"mw-editsection-bracket\">[</span><a href=\"/w/index.php?title=Grace_Hopper&amp;action=edit&amp;section=16\" title=\"Edit section: Places\">edit</a><span class=\"mw-editsection-bracket\">]</span></span></h3>\n",
       "<ul><li>Grace Hopper Avenue in <a href=\"/wiki/Monterey,_California\" title=\"Monterey, California\">Monterey, California</a>, is the location of the Navy's <a href=\"/wiki/Fleet_Numerical_Meteorology_and_Oceanography_Center\" title=\"Fleet Numerical Meteorology and Oceanography Center\">Fleet Numerical Meteorology and Oceanography Center</a><sup class=\"reference\" id=\"cite_ref-82\"><a href=\"#cite_note-82\">[81]</a></sup> as well as the <a href=\"/wiki/National_Weather_Service\" title=\"National Weather Service\">National Weather Service</a>'s San Francisco Bay Area forecast office.<sup class=\"reference\" id=\"cite_ref-83\"><a href=\"#cite_note-83\">[82]</a></sup></li>\n",
       "<li><a class=\"new\" href=\"/w/index.php?title=Grace_M._Hopper_Navy_Regional_Data_Automation_Center&amp;action=edit&amp;redlink=1\" title=\"Grace M. Hopper Navy Regional Data Automation Center (page does not exist)\">Grace M. Hopper Navy Regional Data Automation Center</a> at <a class=\"mw-redirect\" href=\"/wiki/Naval_Air_Station,_North_Island\" title=\"Naval Air Station, North Island\">Naval Air Station, North Island</a>, California.<sup class=\"reference\" id=\"cite_ref-84\"><a href=\"#cite_note-84\">[83]</a></sup></li>\n",
       "<li><a href=\"/wiki/Grace_Murray_Hopper_Park\" title=\"Grace Murray Hopper Park\">Grace Murray Hopper Park</a>, located on South Joyce Street in <a href=\"/wiki/Arlington_County,_Virginia\" title=\"Arlington County, Virginia\">Arlington County, Virginia</a>, is a small memorial park in front of her former residence (River House Apartments) and is now owned by <a href=\"/wiki/Arlington_County,_Virginia\" title=\"Arlington County, Virginia\">Arlington County, Virginia</a>.<sup class=\"reference\" id=\"cite_ref-85\"><a href=\"#cite_note-85\">[84]</a></sup></li>\n",
       "<li><a href=\"/wiki/Brewster_Academy\" title=\"Brewster Academy\">Brewster Academy</a>, a school located in <a href=\"/wiki/Wolfeboro,_New_Hampshire\" title=\"Wolfeboro, New Hampshire\">Wolfeboro, New Hampshire</a>, United States, dedicated their computer lab to her in 1985, calling it the Grace Murray Hopper Center for Computer Learning.<sup class=\"reference\" id=\"cite_ref-navybio_28-2\"><a href=\"#cite_note-navybio-28\">[28]</a></sup> The academy bestows a Grace Murray Hopper Prize to a graduate who excelled in the field of computer systems.<sup class=\"reference\" id=\"cite_ref-86\"><a href=\"#cite_note-86\">[85]</a></sup> Hopper had spent her childhood summers at a family home in Wolfeboro.</li>\n",
       "<li><a href=\"/wiki/Grace_Hopper_College\" title=\"Grace Hopper College\">Grace Hopper College</a>, one of the residential colleges of <a href=\"/wiki/Yale_University\" title=\"Yale University\">Yale University</a>.<sup class=\"reference\" id=\"cite_ref-yalenews_2017_87-0\"><a href=\"#cite_note-yalenews_2017-87\">[86]</a></sup></li>\n",
       "<li>An administration building on Naval Support Activity Annapolis (previously known as Naval Station Annapolis) in Annapolis, Maryland is named the Grace Hopper Building in her honor.<sup class=\"reference\" id=\"cite_ref-navybio_28-3\"><a href=\"#cite_note-navybio-28\">[28]</a></sup></li>\n",
       "<li><a href=\"/wiki/Walter_E._Carter_Jr.\" title=\"Walter E. Carter Jr.\">Vice Admiral Walter E. \"Ted\" Carter</a> announced on September 8, 2016 at the Athena Conference that the <a href=\"/wiki/United_States_Naval_Academy\" title=\"United States Naval Academy\">Naval Academy</a>'s newest Cyber Operations building would be named Hopper Hall after Admiral Grace Hopper. This is the first building at any service academy named after a woman. In his words, Grace Hopper was \"the admiral of the cyber seas.\"<sup class=\"reference\" id=\"cite_ref-88\"><a href=\"#cite_note-88\">[87]</a></sup></li>\n",
       "<li>The US Naval Academy also owns a Cray XC-30 supercomputer named \"Grace,\" hosted at the University of Maryland-College Park.<sup class=\"reference\" id=\"cite_ref-89\"><a href=\"#cite_note-89\">[88]</a></sup></li>\n",
       "<li>Building 1482 aboard Naval Air Station North Island, housing the Naval Computer and Telecommunication Station San Diego, is named the Grace Hopper Building, and also contains the History of Naval Communications Museum.<sup class=\"reference\" id=\"cite_ref-90\"><a href=\"#cite_note-90\">[89]</a></sup></li>\n",
       "<li>Building 6007, C2/CNT West in <a href=\"/wiki/Aberdeen_Proving_Ground\" title=\"Aberdeen Proving Ground\">Aberdeen Proving Ground</a>, Maryland, is named after her.<sup class=\"reference\" id=\"cite_ref-91\"><a href=\"#cite_note-91\">[90]</a></sup></li>\n",
       "<li>The street outside of the Nathan Deal Georgia Cyber Innovation and Training Center in Augusta, Georgia, is named Grace Hopper Lane.<sup class=\"reference\" id=\"cite_ref-92\"><a href=\"#cite_note-92\">[91]</a></sup></li>\n",
       "<li>Grace Hopper Academy is a for-profit immersive programming school in New York City named in Grace Hopper's honor. It opened in January 2016 with the goal of increasing the proportion of women in software engineering careers.<sup class=\"reference\" id=\"cite_ref-93\"><a href=\"#cite_note-93\">[92]</a></sup><sup class=\"reference\" id=\"cite_ref-94\"><a href=\"#cite_note-94\">[93]</a></sup></li>\n",
       "<li>A bridge over Goose Creek, to join the north and south sides of the <a href=\"/wiki/Naval_Support_Activity_Charleston\" title=\"Naval Support Activity Charleston\">Naval Support Activity Charleston</a> side of <a href=\"/wiki/Joint_Base_Charleston\" title=\"Joint Base Charleston\">Joint Base Charleston</a>, <a href=\"/wiki/South_Carolina\" title=\"South Carolina\">South Carolina</a>, is named the Grace Hopper Memorial Bridge in her honor.<sup class=\"reference\" id=\"cite_ref-95\"><a href=\"#cite_note-95\">[94]</a></sup></li>\n",
       "<li>Minor planet <a class=\"mw-redirect\" href=\"/wiki/5773_Hopper\" title=\"5773 Hopper\">5773 Hopper</a> discovered by <a class=\"mw-redirect\" href=\"/wiki/Eleanor_Helin\" title=\"Eleanor Helin\">Eleanor Helin</a> is named in her honor. The official naming citation was published by the <a href=\"/wiki/Minor_Planet_Center\" title=\"Minor Planet Center\">Minor Planet Center</a> on 8 November 2019 (<span style=\"font-size:85%;\"><a class=\"mw-redirect\" href=\"/wiki/Minor_Planet_Circulars\" title=\"Minor Planet Circulars\">M.P.C.</a> 117229</span>).<sup class=\"reference\" id=\"cite_ref-96\"><a href=\"#cite_note-96\">[95]</a></sup></li>\n",
       "<li>Grace Hopper Hall, a community meeting hall in Orlando, Florida (located on the site of the former Orlando Naval Training Center) is named for her.<sup class=\"reference\" id=\"cite_ref-97\"><a href=\"#cite_note-97\">[96]</a></sup></li></ul>\n",
       "<h3><span class=\"mw-headline\" id=\"Programs\">Programs</span><span class=\"mw-editsection\"><span class=\"mw-editsection-bracket\">[</span><a href=\"/w/index.php?title=Grace_Hopper&amp;action=edit&amp;section=17\" title=\"Edit section: Programs\">edit</a><span class=\"mw-editsection-bracket\">]</span></span></h3>\n",
       "<ul><li>Women at <a class=\"mw-redirect\" href=\"/wiki/Microsoft_Corporation\" title=\"Microsoft Corporation\">Microsoft Corporation</a> formed an employee group called Hoppers and established a scholarship in her honor.<sup class=\"reference\" id=\"cite_ref-98\"><a href=\"#cite_note-98\">[97]</a></sup></li>\n",
       "<li>Beginning in 2015, one of the nine competition fields at the <a href=\"/wiki/FIRST_Robotics_Competition\" title=\"FIRST Robotics Competition\">FIRST Robotics Competition</a> world championship is named for Hopper.<sup class=\"reference\" id=\"cite_ref-99\"><a href=\"#cite_note-99\">[98]</a></sup></li>\n",
       "<li>A named professorship in the Department of Computer Sciences was established at Yale University in her honor. <a href=\"/wiki/Joan_Feigenbaum\" title=\"Joan Feigenbaum\">Joan Feigenbaum</a> was named to this chair in 2008.<sup class=\"reference\" id=\"cite_ref-100\"><a href=\"#cite_note-100\">[99]</a></sup></li>\n",
       "<li>In 2020, <a href=\"/wiki/Google\" title=\"Google\">Google</a> named its new <a class=\"mw-redirect\" href=\"/wiki/Undersea_network_cable\" title=\"Undersea network cable\">undersea network cable</a> <a href=\"/wiki/Grace_Hopper_(submarine_communications_cable)\" title=\"Grace Hopper (submarine communications cable)\">'Grace Hopper'</a>. The cable will connect the US, UK and Spain and is estimated to be completed by 2022.<sup class=\"reference\" id=\"cite_ref-101\"><a href=\"#cite_note-101\">[100]</a></sup></li></ul>\n",
       "<h3><span class=\"mw-headline\" id=\"In_popular_culture\">In popular culture</span><span class=\"mw-editsection\"><span class=\"mw-editsection-bracket\">[</span><a href=\"/w/index.php?title=Grace_Hopper&amp;action=edit&amp;section=18\" title=\"Edit section: In popular culture\">edit</a><span class=\"mw-editsection-bracket\">]</span></span></h3>\n",
       "<ul><li>In his comic book series, <i>Secret Coders</i> by <a href=\"/wiki/Gene_Luen_Yang\" title=\"Gene Luen Yang\">Gene Luen Yang</a>, the main character is named Hopper Gracie-Hu.<sup class=\"reference\" id=\"cite_ref-102\"><a href=\"#cite_note-102\">[101]</a></sup></li>\n",
       "<li>Since 2013, Hopper's official portrait has been included in the <a href=\"/wiki/Matplotlib\" title=\"Matplotlib\">matplotlib</a> python library as sample data to replace the controversial <a href=\"/wiki/Lenna\" title=\"Lenna\">Lenna</a> image.<sup class=\"reference\" id=\"cite_ref-103\"><a href=\"#cite_note-103\">[102]</a></sup></li></ul>\n",
       "<h4><span class=\"mw-headline\" id=\"Grace_Hopper_Celebration_of_Women_in_Computing\">Grace Hopper Celebration of Women in Computing</span><span class=\"mw-editsection\"><span class=\"mw-editsection-bracket\">[</span><a href=\"/w/index.php?title=Grace_Hopper&amp;action=edit&amp;section=19\" title=\"Edit section: Grace Hopper Celebration of Women in Computing\">edit</a><span class=\"mw-editsection-bracket\">]</span></span></h4>\n",
       "<p>Her legacy was an inspiring factor in the creation of the <a href=\"/wiki/Grace_Hopper_Celebration_of_Women_in_Computing\" title=\"Grace Hopper Celebration of Women in Computing\">Grace Hopper Celebration of Women in Computing</a>.<sup class=\"reference\" id=\"cite_ref-104\"><a href=\"#cite_note-104\">[103]</a></sup> Held yearly, this conference is designed to bring the research and career interests of women in computing to the forefront.<sup class=\"reference\" id=\"cite_ref-105\"><a href=\"#cite_note-105\">[104]</a></sup>\n",
       "</p>\n",
       "<h2><span class=\"mw-headline\" id=\"See_also\">See also</span><span class=\"mw-editsection\"><span class=\"mw-editsection-bracket\">[</span><a href=\"/w/index.php?title=Grace_Hopper&amp;action=edit&amp;section=20\" title=\"Edit section: See also\">edit</a><span class=\"mw-editsection-bracket\">]</span></span></h2>\n",
       "<style data-mw-deduplicate=\"TemplateStyles:r1132942124\">.mw-parser-output .portalbox{padding:0;margin:0.5em 0;display:table;box-sizing:border-box;max-width:175px;list-style:none}.mw-parser-output .portalborder{border:solid #aaa 1px;padding:0.1em;background:#f9f9f9}.mw-parser-output .portalbox-entry{display:table-row;font-size:85%;line-height:110%;height:1.9em;font-style:italic;font-weight:bold}.mw-parser-output .portalbox-image{display:table-cell;padding:0.2em;vertical-align:middle;text-align:center}.mw-parser-output .portalbox-link{display:table-cell;padding:0.2em 0.2em 0.2em 0.3em;vertical-align:middle}@media(min-width:720px){.mw-parser-output .portalleft{clear:left;float:left;margin:0.5em 1em 0.5em 0}.mw-parser-output .portalright{clear:right;float:right;margin:0.5em 0 0.5em 1em}}</style><ul aria-label=\"Portals\" class=\"noprint portalbox portalborder portalright\" role=\"navigation\">\n",
       "<li class=\"portalbox-entry\"><span class=\"portalbox-image\"><img alt=\"\" class=\"noviewer\" data-file-height=\"1944\" data-file-width=\"1911\" decoding=\"async\" height=\"28\" src=\"//upload.wikimedia.org/wikipedia/en/thumb/6/69/P_vip.svg/28px-P_vip.svg.png\" srcset=\"//upload.wikimedia.org/wikipedia/en/thumb/6/69/P_vip.svg/41px-P_vip.svg.png 1.5x, //upload.wikimedia.org/wikipedia/en/thumb/6/69/P_vip.svg/55px-P_vip.svg.png 2x\" width=\"28\"/></span><span class=\"portalbox-link\"><a href=\"/wiki/Portal:Biography\" title=\"Portal:Biography\">Biography portal</a></span></li></ul>\n",
       "<ul><li><i><a href=\"/wiki/Code:_Debugging_the_Gender_Gap\" title=\"Code: Debugging the Gender Gap\">Code: Debugging the Gender Gap</a></i></li>\n",
       "<li><a href=\"/wiki/Grace_Hopper_Celebration_of_Women_in_Computing\" title=\"Grace Hopper Celebration of Women in Computing\">Grace Hopper Celebration of Women in Computing</a></li>\n",
       "<li><a href=\"/wiki/List_of_pioneers_in_computer_science\" title=\"List of pioneers in computer science\">List of pioneers in computer science</a></li>\n",
       "<li><a href=\"/wiki/Systems_engineering\" title=\"Systems engineering\">Systems engineering</a></li>\n",
       "<li><a href=\"/wiki/Women_in_computing\" title=\"Women in computing\">Women in computing</a></li>\n",
       "<li><a href=\"/wiki/Women_in_the_United_States_Navy\" title=\"Women in the United States Navy\">Women in the United States Navy</a></li>\n",
       "<li><a href=\"/wiki/List_of_female_United_States_military_generals_and_flag_officers\" title=\"List of female United States military generals and flag officers\">List of female United States military generals and flag officers</a></li>\n",
       "<li><a href=\"/wiki/Timeline_of_women_in_science\" title=\"Timeline of women in science\">Timeline of women in science</a></li></ul>\n",
       "<h2><span class=\"mw-headline\" id=\"Notes\">Notes</span><span class=\"mw-editsection\"><span class=\"mw-editsection-bracket\">[</span><a href=\"/w/index.php?title=Grace_Hopper&amp;action=edit&amp;section=21\" title=\"Edit section: Notes\">edit</a><span class=\"mw-editsection-bracket\">]</span></span></h2>\n",
       "<style data-mw-deduplicate=\"TemplateStyles:r1011085734\">.mw-parser-output .reflist{font-size:90%;margin-bottom:0.5em;list-style-type:decimal}.mw-parser-output .reflist .references{font-size:100%;margin-bottom:0;list-style-type:inherit}.mw-parser-output .reflist-columns-2{column-width:30em}.mw-parser-output .reflist-columns-3{column-width:25em}.mw-parser-output .reflist-columns{margin-top:0.3em}.mw-parser-output .reflist-columns ol{margin-top:0}.mw-parser-output .reflist-columns li{page-break-inside:avoid;break-inside:avoid-column}.mw-parser-output .reflist-upper-alpha{list-style-type:upper-alpha}.mw-parser-output .reflist-upper-roman{list-style-type:upper-roman}.mw-parser-output .reflist-lower-alpha{list-style-type:lower-alpha}.mw-parser-output .reflist-lower-greek{list-style-type:lower-greek}.mw-parser-output .reflist-lower-roman{list-style-type:lower-roman}</style><div class=\"reflist reflist-columns references-column-width\" style=\"column-width: 40em;\">\n",
       "<ol class=\"references\">\n",
       "<li id=\"cite_note-49\"><span class=\"mw-cite-backlink\"><b><a href=\"#cite_ref-49\">^</a></b></span> <span class=\"reference-text\">On the retired list from December 31, 1966 to August 1, 1967 and from 1971–1972.<sup class=\"reference\" id=\"cite_ref-USNavy_48-5\"><a href=\"#cite_note-USNavy-48\">[48]</a></sup> </span>\n",
       "</li>\n",
       "</ol></div>\n",
       "<h2><span class=\"mw-headline\" id=\"Obituary_notices\">Obituary notices</span><span class=\"mw-editsection\"><span class=\"mw-editsection-bracket\">[</span><a href=\"/w/index.php?title=Grace_Hopper&amp;action=edit&amp;section=22\" title=\"Edit section: Obituary notices\">edit</a><span class=\"mw-editsection-bracket\">]</span></span></h2>\n",
       "<ul><li>Betts, Mitch (<i><a href=\"/wiki/Computerworld\" title=\"Computerworld\">Computerworld</a></i> 26: 14, 1992)</li>\n",
       "<li>Bromberg, Howard (<i><a href=\"/wiki/IEEE_Software\" title=\"IEEE Software\">IEEE Software</a></i> 9: 103–104, 1992)</li>\n",
       "<li>Danca, Richard A. (<i>Federal Computer Week</i> 6: 26–27, 1992)</li>\n",
       "<li>Hancock, Bill (<i>Digital Review</i> 9: 40, 1992)</li>\n",
       "<li>Power, Kevin (<i>Government Computer News</i> 11: 70, 1992)</li>\n",
       "<li><a href=\"/wiki/Jean_E._Sammet\" title=\"Jean E. Sammet\">Sammet, J. E.</a>  (<i><a href=\"/wiki/Communications_of_the_ACM\" title=\"Communications of the ACM\">Communications of the ACM</a></i> 35 (4): 128–131, 1992)</li>\n",
       "<li>Weiss, Eric A. (<i><a href=\"/wiki/IEEE_Annals_of_the_History_of_Computing\" title=\"IEEE Annals of the History of Computing\">IEEE Annals of the History of Computing</a></i> 14: 56–58, 1992)</li></ul>\n",
       "<h2><span class=\"mw-headline\" id=\"References\">References</span><span class=\"mw-editsection\"><span class=\"mw-editsection-bracket\">[</span><a href=\"/w/index.php?title=Grace_Hopper&amp;action=edit&amp;section=23\" title=\"Edit section: References\">edit</a><span class=\"mw-editsection-bracket\">]</span></span></h2>\n",
       "<link href=\"mw-data:TemplateStyles:r1011085734\" rel=\"mw-deduplicated-inline-style\"/><div class=\"reflist reflist-columns references-column-width\" style=\"column-width: 30em;\">\n",
       "<ol class=\"references\">\n",
       "<li id=\"cite_note-1\"><span class=\"mw-cite-backlink\"><b><a href=\"#cite_ref-1\">^</a></b></span> <span class=\"reference-text\"><style data-mw-deduplicate=\"TemplateStyles:r1133582631\">.mw-parser-output cite.citation{font-style:inherit;word-wrap:break-word}.mw-parser-output .citation q{quotes:\"\\\"\"\"\\\"\"\"'\"\"'\"}.mw-parser-output .citation:target{background-color:rgba(0,127,255,0.133)}.mw-parser-output .id-lock-free a,.mw-parser-output .citation .cs1-lock-free a{background:url(\"//upload.wikimedia.org/wikipedia/commons/6/65/Lock-green.svg\")right 0.1em center/9px no-repeat}.mw-parser-output .id-lock-limited a,.mw-parser-output .id-lock-registration a,.mw-parser-output .citation .cs1-lock-limited a,.mw-parser-output .citation .cs1-lock-registration a{background:url(\"//upload.wikimedia.org/wikipedia/commons/d/d6/Lock-gray-alt-2.svg\")right 0.1em center/9px no-repeat}.mw-parser-output .id-lock-subscription a,.mw-parser-output .citation .cs1-lock-subscription a{background:url(\"//upload.wikimedia.org/wikipedia/commons/a/aa/Lock-red-alt-2.svg\")right 0.1em center/9px no-repeat}.mw-parser-output .cs1-ws-icon a{background:url(\"//upload.wikimedia.org/wikipedia/commons/4/4c/Wikisource-logo.svg\")right 0.1em center/12px no-repeat}.mw-parser-output .cs1-code{color:inherit;background:inherit;border:none;padding:inherit}.mw-parser-output .cs1-hidden-error{display:none;color:#d33}.mw-parser-output .cs1-visible-error{color:#d33}.mw-parser-output .cs1-maint{display:none;color:#3a3;margin-left:0.3em}.mw-parser-output .cs1-format{font-size:95%}.mw-parser-output .cs1-kern-left{padding-left:0.2em}.mw-parser-output .cs1-kern-right{padding-right:0.2em}.mw-parser-output .citation .mw-selflink{font-weight:inherit}</style><cite class=\"citation news cs1\" id=\"CITEREFCantrell2014\">Cantrell, Mark (March 1, 2014). <a class=\"external text\" href=\"http://content.yudu.com/A2qfj4/201403March/resources/3.htm\" rel=\"nofollow\">\"Amazing Grace: Rear Adm. Grace Hopper, USN, was a pioneer in computer science\"</a>. <i>Military Officer</i>. Vol. 12, no. 3. Military Officers Association of America. pp. 52–55, 106<span class=\"reference-accessdate\">. Retrieved <span class=\"nowrap\">March 1,</span> 2014</span>.</cite><span class=\"Z3988\" title=\"ctx_ver=Z39.88-2004&amp;rft_val_fmt=info%3Aofi%2Ffmt%3Akev%3Amtx%3Ajournal&amp;rft.genre=article&amp;rft.jtitle=Military+Officer&amp;rft.atitle=Amazing+Grace%3A+Rear+Adm.+Grace+Hopper%2C+USN%2C+was+a+pioneer+in+computer+science&amp;rft.volume=12&amp;rft.issue=3&amp;rft.pages=52-55%2C+106&amp;rft.date=2014-03-01&amp;rft.aulast=Cantrell&amp;rft.aufirst=Mark&amp;rft_id=http%3A%2F%2Fcontent.yudu.com%2FA2qfj4%2F201403March%2Fresources%2F3.htm&amp;rfr_id=info%3Asid%2Fen.wikipedia.org%3AGrace+Hopper\"></span></span>\n",
       "</li>\n",
       "<li id=\"cite_note-Spencer85-2\"><span class=\"mw-cite-backlink\"><b><a href=\"#cite_ref-Spencer85_2-0\">^</a></b></span> <span class=\"reference-text\"><link href=\"mw-data:TemplateStyles:r1133582631\" rel=\"mw-deduplicated-inline-style\"/><cite class=\"citation book cs1\" id=\"CITEREFDonald_D._Spencer1985\">Donald D. Spencer (1985). <i>Computers and Information Processing</i>. C.E. Merrill Publishing Co. <a class=\"mw-redirect\" href=\"/wiki/ISBN_(identifier)\" title=\"ISBN (identifier)\">ISBN</a> <a href=\"/wiki/Special:BookSources/978-0-675-20290-9\" title=\"Special:BookSources/978-0-675-20290-9\"><bdi>978-0-675-20290-9</bdi></a>.</cite><span class=\"Z3988\" title=\"ctx_ver=Z39.88-2004&amp;rft_val_fmt=info%3Aofi%2Ffmt%3Akev%3Amtx%3Abook&amp;rft.genre=book&amp;rft.btitle=Computers+and+Information+Processing&amp;rft.pub=C.E.+Merrill+Publishing+Co&amp;rft.date=1985&amp;rft.isbn=978-0-675-20290-9&amp;rft.au=Donald+D.+Spencer&amp;rfr_id=info%3Asid%2Fen.wikipedia.org%3AGrace+Hopper\"></span></span>\n",
       "</li>\n",
       "<li id=\"cite_note-Laplante01-3\"><span class=\"mw-cite-backlink\"><b><a href=\"#cite_ref-Laplante01_3-0\">^</a></b></span> <span class=\"reference-text\"><link href=\"mw-data:TemplateStyles:r1133582631\" rel=\"mw-deduplicated-inline-style\"/><cite class=\"citation book cs1\" id=\"CITEREFPhillip_A._Laplante2001\">Phillip A. Laplante (2001). <i>Dictionary of computer science, engineering, and technology</i>. CRC Press. <a class=\"mw-redirect\" href=\"/wiki/ISBN_(identifier)\" title=\"ISBN (identifier)\">ISBN</a> <a href=\"/wiki/Special:BookSources/978-0-8493-2691-2\" title=\"Special:BookSources/978-0-8493-2691-2\"><bdi>978-0-8493-2691-2</bdi></a>.</cite><span class=\"Z3988\" title=\"ctx_ver=Z39.88-2004&amp;rft_val_fmt=info%3Aofi%2Ffmt%3Akev%3Amtx%3Abook&amp;rft.genre=book&amp;rft.btitle=Dictionary+of+computer+science%2C+engineering%2C+and+technology&amp;rft.pub=CRC+Press&amp;rft.date=2001&amp;rft.isbn=978-0-8493-2691-2&amp;rft.au=Phillip+A.+Laplante&amp;rfr_id=info%3Asid%2Fen.wikipedia.org%3AGrace+Hopper\"></span></span>\n",
       "</li>\n",
       "<li id=\"cite_note-Bunch93-4\"><span class=\"mw-cite-backlink\"><b><a href=\"#cite_ref-Bunch93_4-0\">^</a></b></span> <span class=\"reference-text\"><link href=\"mw-data:TemplateStyles:r1133582631\" rel=\"mw-deduplicated-inline-style\"/><cite class=\"citation book cs1\" id=\"CITEREFBryan_H._Bunch,_Alexander_Hellemans1993\">Bryan H. Bunch, Alexander Hellemans (1993). <a class=\"external text\" href=\"https://archive.org/details/timetablesoftech00brya\" rel=\"nofollow\"><i>The Timetables of Technology: A Chronology of the Most Important People and Events in the History of Technology</i></a>. Simon &amp; Schuster. <a class=\"mw-redirect\" href=\"/wiki/ISBN_(identifier)\" title=\"ISBN (identifier)\">ISBN</a> <a href=\"/wiki/Special:BookSources/978-0-671-76918-5\" title=\"Special:BookSources/978-0-671-76918-5\"><bdi>978-0-671-76918-5</bdi></a>.</cite><span class=\"Z3988\" title=\"ctx_ver=Z39.88-2004&amp;rft_val_fmt=info%3Aofi%2Ffmt%3Akev%3Amtx%3Abook&amp;rft.genre=book&amp;rft.btitle=The+Timetables+of+Technology%3A+A+Chronology+of+the+Most+Important+People+and+Events+in+the+History+of+Technology&amp;rft.pub=Simon+%26+Schuster&amp;rft.date=1993&amp;rft.isbn=978-0-671-76918-5&amp;rft.au=Bryan+H.+Bunch%2C+Alexander+Hellemans&amp;rft_id=https%3A%2F%2Farchive.org%2Fdetails%2Ftimetablesoftech00brya&amp;rfr_id=info%3Asid%2Fen.wikipedia.org%3AGrace+Hopper\"></span></span>\n",
       "</li>\n",
       "<li id=\"cite_note-Booss03-5\"><span class=\"mw-cite-backlink\"><b><a href=\"#cite_ref-Booss03_5-0\">^</a></b></span> <span class=\"reference-text\"><link href=\"mw-data:TemplateStyles:r1133582631\" rel=\"mw-deduplicated-inline-style\"/><cite class=\"citation book cs1\" id=\"CITEREFBernhelm_Booss-Bavnbek,_Jens_Høyrup2003\">Bernhelm Booss-Bavnbek, Jens Høyrup (2003). <i>Mathematics and War</i>. Birkhäuser Verlag. <a class=\"mw-redirect\" href=\"/wiki/ISBN_(identifier)\" title=\"ISBN (identifier)\">ISBN</a> <a href=\"/wiki/Special:BookSources/978-3-7643-1634-1\" title=\"Special:BookSources/978-3-7643-1634-1\"><bdi>978-3-7643-1634-1</bdi></a>.</cite><span class=\"Z3988\" title=\"ctx_ver=Z39.88-2004&amp;rft_val_fmt=info%3Aofi%2Ffmt%3Akev%3Amtx%3Abook&amp;rft.genre=book&amp;rft.btitle=Mathematics+and+War&amp;rft.pub=Birkh%C3%A4user+Verlag&amp;rft.date=2003&amp;rft.isbn=978-3-7643-1634-1&amp;rft.au=Bernhelm+Booss-Bavnbek%2C+Jens+H%C3%B8yrup&amp;rfr_id=info%3Asid%2Fen.wikipedia.org%3AGrace+Hopper\"></span></span>\n",
       "</li>\n",
       "<li id=\"cite_note-6\"><span class=\"mw-cite-backlink\"><b><a href=\"#cite_ref-6\">^</a></b></span> <span class=\"reference-text\"><link href=\"mw-data:TemplateStyles:r1133582631\" rel=\"mw-deduplicated-inline-style\"/><cite class=\"citation web cs1\"><a class=\"external text\" href=\"https://web.archive.org/web/20160314142943/http://www.nersc.gov/users/computational-systems/retired-systems/hopper\" rel=\"nofollow\">\"Hopper\"</a>. <i>www.nersc.gov</i>. Archived from <a class=\"external text\" href=\"http://www.nersc.gov/users/computational-systems/retired-systems/hopper/\" rel=\"nofollow\">the original</a> on March 14, 2016<span class=\"reference-accessdate\">. Retrieved <span class=\"nowrap\">March 19,</span> 2016</span>.</cite><span class=\"Z3988\" title=\"ctx_ver=Z39.88-2004&amp;rft_val_fmt=info%3Aofi%2Ffmt%3Akev%3Amtx%3Ajournal&amp;rft.genre=unknown&amp;rft.jtitle=www.nersc.gov&amp;rft.atitle=Hopper&amp;rft_id=http%3A%2F%2Fwww.nersc.gov%2Fusers%2Fcomputational-systems%2Fretired-systems%2Fhopper%2F&amp;rfr_id=info%3Asid%2Fen.wikipedia.org%3AGrace+Hopper\"></span></span>\n",
       "</li>\n",
       "<li id=\"cite_note-7\"><span class=\"mw-cite-backlink\"><b><a href=\"#cite_ref-7\">^</a></b></span> <span class=\"reference-text\"><link href=\"mw-data:TemplateStyles:r1133582631\" rel=\"mw-deduplicated-inline-style\"/><cite class=\"citation web cs1\"><a class=\"external text\" href=\"http://www.cbsnews.com/news/white-house-medal-of-freedom-margaret-hamilton-grace-hopper/\" rel=\"nofollow\">\"White House honors two of tech's female pioneers\"</a>. <i>cbsnews.com</i><span class=\"reference-accessdate\">. Retrieved <span class=\"nowrap\">November 23,</span> 2016</span>.</cite><span class=\"Z3988\" title=\"ctx_ver=Z39.88-2004&amp;rft_val_fmt=info%3Aofi%2Ffmt%3Akev%3Amtx%3Ajournal&amp;rft.genre=unknown&amp;rft.jtitle=cbsnews.com&amp;rft.atitle=White+House+honors+two+of+tech%27s+female+pioneers&amp;rft_id=http%3A%2F%2Fwww.cbsnews.com%2Fnews%2Fwhite-house-medal-of-freedom-margaret-hamilton-grace-hopper%2F&amp;rfr_id=info%3Asid%2Fen.wikipedia.org%3AGrace+Hopper\"></span></span>\n",
       "</li>\n",
       "<li id=\"cite_note-Williams-8\"><span class=\"mw-cite-backlink\">^ <a href=\"#cite_ref-Williams_8-0\"><sup><i><b>a</b></i></sup></a> <a href=\"#cite_ref-Williams_8-1\"><sup><i><b>b</b></i></sup></a></span> <span class=\"reference-text\"><link href=\"mw-data:TemplateStyles:r1133582631\" rel=\"mw-deduplicated-inline-style\"/><cite class=\"citation book cs1\" id=\"CITEREFWilliams2004\">Williams, Kathleen (2004). <a class=\"external text\" href=\"https://books.google.com/books?id=KKmiw-_2gYIC&amp;q=%22Grace+Hooper%22+and+military+ranks&amp;pg=PR9\" rel=\"nofollow\"><i>Grace Hopper: Admiral of the Cyber Sea</i></a>. Naval Institute Press. <a class=\"mw-redirect\" href=\"/wiki/ISBN_(identifier)\" title=\"ISBN (identifier)\">ISBN</a> <a href=\"/wiki/Special:BookSources/978-1-61251-265-5\" title=\"Special:BookSources/978-1-61251-265-5\"><bdi>978-1-61251-265-5</bdi></a>.</cite><span class=\"Z3988\" title=\"ctx_ver=Z39.88-2004&amp;rft_val_fmt=info%3Aofi%2Ffmt%3Akev%3Amtx%3Abook&amp;rft.genre=book&amp;rft.btitle=Grace+Hopper%3A+Admiral+of+the+Cyber+Sea&amp;rft.pub=Naval+Institute+Press&amp;rft.date=2004&amp;rft.isbn=978-1-61251-265-5&amp;rft.aulast=Williams&amp;rft.aufirst=Kathleen&amp;rft_id=https%3A%2F%2Fbooks.google.com%2Fbooks%3Fid%3DKKmiw-_2gYIC%26q%3D%2522Grace%2BHooper%2522%2Band%2Bmilitary%2Branks%26pg%3DPR9&amp;rfr_id=info%3Asid%2Fen.wikipedia.org%3AGrace+Hopper\"></span></span>\n",
       "</li>\n",
       "<li id=\"cite_note-9\"><span class=\"mw-cite-backlink\"><b><a href=\"#cite_ref-9\">^</a></b></span> <span class=\"reference-text\"><link href=\"mw-data:TemplateStyles:r1133582631\" rel=\"mw-deduplicated-inline-style\"/><cite class=\"citation journal cs1\" id=\"CITEREFDickason1992\">Dickason, Elizabeth (April 1992). <a class=\"external text\" href=\"http://inventors.about.com/library/inventors/bl_Grace_Murray_Hopper.htm\" rel=\"nofollow\">\"Looking Back: Grace Murray Hopper's Younger Years\"</a>. <i>Chips</i>.</cite><span class=\"Z3988\" title=\"ctx_ver=Z39.88-2004&amp;rft_val_fmt=info%3Aofi%2Ffmt%3Akev%3Amtx%3Ajournal&amp;rft.genre=article&amp;rft.jtitle=Chips&amp;rft.atitle=Looking+Back%3A+Grace+Murray+Hopper%27s+Younger+Years&amp;rft.date=1992-04&amp;rft.aulast=Dickason&amp;rft.aufirst=Elizabeth&amp;rft_id=http%3A%2F%2Finventors.about.com%2Flibrary%2Finventors%2Fbl_Grace_Murray_Hopper.htm&amp;rfr_id=info%3Asid%2Fen.wikipedia.org%3AGrace+Hopper\"></span></span>\n",
       "</li>\n",
       "<li id=\"cite_note-greenladuke09-10\"><span class=\"mw-cite-backlink\">^ <a href=\"#cite_ref-greenladuke09_10-0\"><sup><i><b>a</b></i></sup></a> <a href=\"#cite_ref-greenladuke09_10-1\"><sup><i><b>b</b></i></sup></a></span> <span class=\"reference-text\"><link href=\"mw-data:TemplateStyles:r1133582631\" rel=\"mw-deduplicated-inline-style\"/><cite class=\"citation book cs1\" id=\"CITEREFGreenLaDuke2009\"><a href=\"/wiki/Judy_Green_(mathematician)\" title=\"Judy Green (mathematician)\">Green, Judy</a>; <a href=\"/wiki/Jeanne_LaDuke\" title=\"Jeanne LaDuke\">LaDuke, Jeanne</a> (2009). <a href=\"/wiki/Pioneering_Women_in_American_Mathematics\" title=\"Pioneering Women in American Mathematics\"><i>Pioneering Women in American Mathematics: The Pre-1940 PhD's</i></a>. Providence, Rhode Island: <a href=\"/wiki/American_Mathematical_Society\" title=\"American Mathematical Society\">American Mathematical Society</a>. <a class=\"mw-redirect\" href=\"/wiki/ISBN_(identifier)\" title=\"ISBN (identifier)\">ISBN</a> <a href=\"/wiki/Special:BookSources/978-0-8218-4376-5\" title=\"Special:BookSources/978-0-8218-4376-5\"><bdi>978-0-8218-4376-5</bdi></a>.</cite><span class=\"Z3988\" title=\"ctx_ver=Z39.88-2004&amp;rft_val_fmt=info%3Aofi%2Ffmt%3Akev%3Amtx%3Abook&amp;rft.genre=book&amp;rft.btitle=Pioneering+Women+in+American+Mathematics%3A+The+Pre-1940+PhD%27s&amp;rft.place=Providence%2C+Rhode+Island&amp;rft.pub=American+Mathematical+Society&amp;rft.date=2009&amp;rft.isbn=978-0-8218-4376-5&amp;rft.aulast=Green&amp;rft.aufirst=Judy&amp;rft.au=LaDuke%2C+Jeanne&amp;rfr_id=info%3Asid%2Fen.wikipedia.org%3AGrace+Hopper\"></span> Biography on p.281-289 of the <a class=\"external text\" href=\"https://www.ams.org/bookpages/hmath-34-PioneeringWomen.pdf\" rel=\"nofollow\">Supplementary Material</a> at <a class=\"external text\" href=\"https://www.ams.org/publications/authors/books/postpub/hmath-34\" rel=\"nofollow\">AMS</a></span>\n",
       "</li>\n",
       "<li id=\"cite_note-11\"><span class=\"mw-cite-backlink\"><b><a href=\"#cite_ref-11\">^</a></b></span> <span class=\"reference-text\"><link href=\"mw-data:TemplateStyles:r1133582631\" rel=\"mw-deduplicated-inline-style\"/><cite class=\"citation news cs1\"><a class=\"external text\" href=\"https://www.nytimes.com/1976/01/21/archives/prof-vincent-hopper-of-nyu-literature-teacher-dead-at-69.html\" rel=\"nofollow\">\"Prof. Vincent Hopper of N.Y U., Literature Teacher, Dead at 69\"</a>. <i>The New York Times</i>. January 21, 1976<span class=\"reference-accessdate\">. Retrieved <span class=\"nowrap\">February 14,</span> 2018</span>.</cite><span class=\"Z3988\" title=\"ctx_ver=Z39.88-2004&amp;rft_val_fmt=info%3Aofi%2Ffmt%3Akev%3Amtx%3Ajournal&amp;rft.genre=article&amp;rft.jtitle=The+New+York+Times&amp;rft.atitle=Prof.+Vincent+Hopper+of+N.Y+U.%2C+Literature+Teacher%2C+Dead+at+69&amp;rft.date=1976-01-21&amp;rft_id=https%3A%2F%2Fwww.nytimes.com%2F1976%2F01%2F21%2Farchives%2Fprof-vincent-hopper-of-nyu-literature-teacher-dead-at-69.html&amp;rfr_id=info%3Asid%2Fen.wikipedia.org%3AGrace+Hopper\"></span></span>\n",
       "</li>\n",
       "<li id=\"cite_note-NWHM-12\"><span class=\"mw-cite-backlink\"><b><a href=\"#cite_ref-NWHM_12-0\">^</a></b></span> <span class=\"reference-text\"><link href=\"mw-data:TemplateStyles:r1133582631\" rel=\"mw-deduplicated-inline-style\"/><cite class=\"citation web cs1\"><a class=\"external text\" href=\"https://www.womenshistory.org/education-resources/biographies/grace-hopper\" rel=\"nofollow\">\"Grace Hopper\"</a>. <i>womenshistory.org</i>. National Women's History Museum<span class=\"reference-accessdate\">. Retrieved <span class=\"nowrap\">July 11,</span> 2018</span>.</cite><span class=\"Z3988\" title=\"ctx_ver=Z39.88-2004&amp;rft_val_fmt=info%3Aofi%2Ffmt%3Akev%3Amtx%3Ajournal&amp;rft.genre=unknown&amp;rft.jtitle=womenshistory.org&amp;rft.atitle=Grace+Hopper&amp;rft_id=https%3A%2F%2Fwww.womenshistory.org%2Feducation-resources%2Fbiographies%2Fgrace-hopper&amp;rfr_id=info%3Asid%2Fen.wikipedia.org%3AGrace+Hopper\"></span></span>\n",
       "</li>\n",
       "<li id=\"cite_note-13\"><span class=\"mw-cite-backlink\"><b><a href=\"#cite_ref-13\">^</a></b></span> <span class=\"reference-text\">Though some books, including Kurt Beyer's <i>Grace Hopper and the Invention of the Information Age</i>, reported that Hopper was the first woman to earn a Yale PhD in mathematics, the first of ten women prior to 1934 was Charlotte Cynthia Barnum (1860–1934). <link href=\"mw-data:TemplateStyles:r1133582631\" rel=\"mw-deduplicated-inline-style\"/><cite class=\"citation news cs1\" id=\"CITEREFMurray2010\">Murray, Margaret A. M. (May–June 2010). \"The first lady of math?\". <i>Yale Alumni Magazine</i>. Vol. 73, no. 5. pp. 5–6. <a class=\"mw-redirect\" href=\"/wiki/ISSN_(identifier)\" title=\"ISSN (identifier)\">ISSN</a> <a class=\"external text\" href=\"https://www.worldcat.org/issn/0044-0051\" rel=\"nofollow\">0044-0051</a>.</cite><span class=\"Z3988\" title=\"ctx_ver=Z39.88-2004&amp;rft_val_fmt=info%3Aofi%2Ffmt%3Akev%3Amtx%3Ajournal&amp;rft.genre=article&amp;rft.jtitle=Yale+Alumni+Magazine&amp;rft.atitle=The+first+lady+of+math%3F&amp;rft.volume=73&amp;rft.issue=5&amp;rft.pages=5-6&amp;rft.date=2010-05%2F2010-06&amp;rft.issn=0044-0051&amp;rft.aulast=Murray&amp;rft.aufirst=Margaret+A.+M.&amp;rfr_id=info%3Asid%2Fen.wikipedia.org%3AGrace+Hopper\"></span></span>\n",
       "</li>\n",
       "<li id=\"cite_note-14\"><span class=\"mw-cite-backlink\"><b><a href=\"#cite_ref-14\">^</a></b></span> <span class=\"reference-text\"><link href=\"mw-data:TemplateStyles:r1133582631\" rel=\"mw-deduplicated-inline-style\"/><cite class=\"citation web cs1\" id=\"CITEREFMurray_Hopper1934\">Murray Hopper, Grace (1934). <a class=\"external text\" href=\"https://www.ams.org/journals/notices/201903/hopper_thesis.pdf\" rel=\"nofollow\">\"New Types of Irreducibility Criteria\"</a> <span class=\"cs1-format\">(PDF)</span>. <i>American Mathematical Society</i> (Thesis). <a href=\"/wiki/New_Haven,_Connecticut\" title=\"New Haven, Connecticut\">New Haven, Connecticut</a>: <a href=\"/wiki/Yale_University\" title=\"Yale University\">Yale University</a>. <a class=\"external text\" href=\"https://web.archive.org/web/20200218163518/https://www.ams.org/journals/notices/201903/hopper_thesis.pdf\" rel=\"nofollow\">Archived</a> <span class=\"cs1-format\">(PDF)</span> from the original on February 18, 2020.</cite><span class=\"Z3988\" title=\"ctx_ver=Z39.88-2004&amp;rft_val_fmt=info%3Aofi%2Ffmt%3Akev%3Amtx%3Ajournal&amp;rft.genre=unknown&amp;rft.jtitle=American+Mathematical+Society&amp;rft.atitle=New+Types+of+Irreducibility+Criteria&amp;rft.date=1934&amp;rft.aulast=Murray+Hopper&amp;rft.aufirst=Grace&amp;rft_id=https%3A%2F%2Fwww.ams.org%2Fjournals%2Fnotices%2F201903%2Fhopper_thesis.pdf&amp;rfr_id=info%3Asid%2Fen.wikipedia.org%3AGrace+Hopper\"></span></span>\n",
       "</li>\n",
       "<li id=\"cite_note-15\"><span class=\"mw-cite-backlink\"><b><a href=\"#cite_ref-15\">^</a></b></span> <span class=\"reference-text\">G. M. Hopper and O. Ore, \"New types of irreducibility criteria,\" <i>Bull. Amer. Math. Soc.</i> 40 (1934) 216 <link href=\"mw-data:TemplateStyles:r1133582631\" rel=\"mw-deduplicated-inline-style\"/><cite class=\"citation journal cs1\"><a class=\"external text\" href=\"https://doi.org/10.1090%2FS0002-9904-1934-05818-X\" rel=\"nofollow\">\"New types of irreducibility criteria\"</a>. <i>Bulletin of the American Mathematical Society</i>. <b>40</b> (3): 209–234. 1934. <a class=\"mw-redirect\" href=\"/wiki/Doi_(identifier)\" title=\"Doi (identifier)\">doi</a>:<span class=\"cs1-lock-free\" title=\"Freely accessible\"><a class=\"external text\" href=\"https://doi.org/10.1090%2FS0002-9904-1934-05818-X\" rel=\"nofollow\">10.1090/S0002-9904-1934-05818-X</a></span>.</cite><span class=\"Z3988\" title=\"ctx_ver=Z39.88-2004&amp;rft_val_fmt=info%3Aofi%2Ffmt%3Akev%3Amtx%3Ajournal&amp;rft.genre=article&amp;rft.jtitle=Bulletin+of+the+American+Mathematical+Society&amp;rft.atitle=New+types+of+irreducibility+criteria&amp;rft.volume=40&amp;rft.issue=3&amp;rft.pages=209-234&amp;rft.date=1934&amp;rft_id=info%3Adoi%2F10.1090%2FS0002-9904-1934-05818-X&amp;rft_id=https%3A%2F%2Fdoi.org%2F10.1090%252FS0002-9904-1934-05818-X&amp;rfr_id=info%3Asid%2Fen.wikipedia.org%3AGrace+Hopper\"></span></span>\n",
       "</li>\n",
       "<li id=\"cite_note-Ogilvie-16\"><span class=\"mw-cite-backlink\">^ <a href=\"#cite_ref-Ogilvie_16-0\"><sup><i><b>a</b></i></sup></a> <a href=\"#cite_ref-Ogilvie_16-1\"><sup><i><b>b</b></i></sup></a> <a href=\"#cite_ref-Ogilvie_16-2\"><sup><i><b>c</b></i></sup></a> <a href=\"#cite_ref-Ogilvie_16-3\"><sup><i><b>d</b></i></sup></a></span> <span class=\"reference-text\"><link href=\"mw-data:TemplateStyles:r1133582631\" rel=\"mw-deduplicated-inline-style\"/><cite class=\"citation book cs1\" id=\"CITEREFOgilvieJoy_Harvey2000\"><a class=\"mw-redirect\" href=\"/wiki/Marilyn_Ogilvie\" title=\"Marilyn Ogilvie\">Ogilvie, Marilyn</a>; <a href=\"/wiki/Joy_Harvey\" title=\"Joy Harvey\">Joy Harvey</a> (2000). <a class=\"external text\" href=\"https://books.google.com/books?id=I4hUAAAAMAAJ&amp;q=hopper\" rel=\"nofollow\"><i>The biographical dictionary of women in science: pioneering lives from ancient times to the mid-20th century</i></a>. New York: Routledge. <a class=\"mw-redirect\" href=\"/wiki/ISBN_(identifier)\" title=\"ISBN (identifier)\">ISBN</a> <a href=\"/wiki/Special:BookSources/978-0-415-92040-7\" title=\"Special:BookSources/978-0-415-92040-7\"><bdi>978-0-415-92040-7</bdi></a>.</cite><span class=\"Z3988\" title=\"ctx_ver=Z39.88-2004&amp;rft_val_fmt=info%3Aofi%2Ffmt%3Akev%3Amtx%3Abook&amp;rft.genre=book&amp;rft.btitle=The+biographical+dictionary+of+women+in+science%3A+pioneering+lives+from+ancient+times+to+the+mid-20th+century&amp;rft.place=New+York&amp;rft.pub=Routledge&amp;rft.date=2000&amp;rft.isbn=978-0-415-92040-7&amp;rft.aulast=Ogilvie&amp;rft.aufirst=Marilyn&amp;rft.au=Joy+Harvey&amp;rft_id=https%3A%2F%2Fbooks.google.com%2Fbooks%3Fid%3DI4hUAAAAMAAJ%26q%3Dhopper&amp;rfr_id=info%3Asid%2Fen.wikipedia.org%3AGrace+Hopper\"></span><sup class=\"noprint Inline-Template\" style=\"white-space:nowrap;\">[<i><a href=\"/wiki/Wikipedia:Verifiability\" title=\"Wikipedia:Verifiability\"><span title=\"doesn't seem to support those dates (November 2013)\">verification needed</span></a></i>]</sup></span>\n",
       "</li>\n",
       "<li id=\"cite_note-17\"><span class=\"mw-cite-backlink\"><b><a href=\"#cite_ref-17\">^</a></b></span> <span class=\"reference-text\"><link href=\"mw-data:TemplateStyles:r1133582631\" rel=\"mw-deduplicated-inline-style\"/><cite class=\"citation web cs1\"><a class=\"external text\" href=\"https://www.thocp.net/biographies/hopper_grace.html\" rel=\"nofollow\">\"Grace Hopper\"</a>. <i>www.thocp.net</i><span class=\"reference-accessdate\">. Retrieved <span class=\"nowrap\">December 12,</span> 2016</span>.</cite><span class=\"Z3988\" title=\"ctx_ver=Z39.88-2004&amp;rft_val_fmt=info%3Aofi%2Ffmt%3Akev%3Amtx%3Ajournal&amp;rft.genre=unknown&amp;rft.jtitle=www.thocp.net&amp;rft.atitle=Grace+Hopper&amp;rft_id=https%3A%2F%2Fwww.thocp.net%2Fbiographies%2Fhopper_grace.html&amp;rfr_id=info%3Asid%2Fen.wikipedia.org%3AGrace+Hopper\"></span></span>\n",
       "</li>\n",
       "<li id=\"cite_note-KBW-18\"><span class=\"mw-cite-backlink\">^ <a href=\"#cite_ref-KBW_18-0\"><sup><i><b>a</b></i></sup></a> <a href=\"#cite_ref-KBW_18-1\"><sup><i><b>b</b></i></sup></a></span> <span class=\"reference-text\"><link href=\"mw-data:TemplateStyles:r1133582631\" rel=\"mw-deduplicated-inline-style\"/><cite class=\"citation book cs1\" id=\"CITEREFWilliams2001\">Williams, Kathleen Broome (2001). <i>Improbable Warriors: Women Scientists and the U.S. Navy in World War II</i>. Annapolis, Maryland: Naval Institute Press. <a class=\"mw-redirect\" href=\"/wiki/ISBN_(identifier)\" title=\"ISBN (identifier)\">ISBN</a> <a href=\"/wiki/Special:BookSources/978-1-55750-961-1\" title=\"Special:BookSources/978-1-55750-961-1\"><bdi>978-1-55750-961-1</bdi></a>.</cite><span class=\"Z3988\" title=\"ctx_ver=Z39.88-2004&amp;rft_val_fmt=info%3Aofi%2Ffmt%3Akev%3Amtx%3Abook&amp;rft.genre=book&amp;rft.btitle=Improbable+Warriors%3A+Women+Scientists+and+the+U.S.+Navy+in+World+War+II&amp;rft.place=Annapolis%2C+Maryland&amp;rft.pub=Naval+Institute+Press&amp;rft.date=2001&amp;rft.isbn=978-1-55750-961-1&amp;rft.aulast=Williams&amp;rft.aufirst=Kathleen+Broome&amp;rfr_id=info%3Asid%2Fen.wikipedia.org%3AGrace+Hopper\"></span></span>\n",
       "</li>\n",
       "<li id=\"cite_note-19\"><span class=\"mw-cite-backlink\"><b><a href=\"#cite_ref-19\">^</a></b></span> <span class=\"reference-text\"><link href=\"mw-data:TemplateStyles:r1133582631\" rel=\"mw-deduplicated-inline-style\"/><cite class=\"citation book cs1\" id=\"CITEREFAnn.2004\">Ann., Camp, Carole (2004). <i>American women inventors</i>. Berkeley Heights, NJ: Enslow Publishers. <a class=\"mw-redirect\" href=\"/wiki/ISBN_(identifier)\" title=\"ISBN (identifier)\">ISBN</a> <a href=\"/wiki/Special:BookSources/978-0-7660-1538-8\" title=\"Special:BookSources/978-0-7660-1538-8\"><bdi>978-0-7660-1538-8</bdi></a>. <a class=\"mw-redirect\" href=\"/wiki/OCLC_(identifier)\" title=\"OCLC (identifier)\">OCLC</a> <a class=\"external text\" href=\"https://www.worldcat.org/oclc/48398924\" rel=\"nofollow\">48398924</a>.</cite><span class=\"Z3988\" title=\"ctx_ver=Z39.88-2004&amp;rft_val_fmt=info%3Aofi%2Ffmt%3Akev%3Amtx%3Abook&amp;rft.genre=book&amp;rft.btitle=American+women+inventors&amp;rft.place=Berkeley+Heights%2C+NJ&amp;rft.pub=Enslow+Publishers&amp;rft.date=2004&amp;rft_id=info%3Aoclcnum%2F48398924&amp;rft.isbn=978-0-7660-1538-8&amp;rft.aulast=Ann.&amp;rft.aufirst=Camp%2C+Carole&amp;rfr_id=info%3Asid%2Fen.wikipedia.org%3AGrace+Hopper\"></span></span>\n",
       "</li>\n",
       "<li id=\"cite_note-20\"><span class=\"mw-cite-backlink\"><b><a href=\"#cite_ref-20\">^</a></b></span> <span class=\"reference-text\"><link href=\"mw-data:TemplateStyles:r1133582631\" rel=\"mw-deduplicated-inline-style\"/><cite class=\"citation web cs1\"><a class=\"external text\" href=\"https://stories.vassar.edu/2017/assets/images/170706-legacy-of-grace-hopper-hopperpdf.pdf\" rel=\"nofollow\">\"Women in History\"</a> <span class=\"cs1-format\">(PDF)</span>. <a class=\"external text\" href=\"https://web.archive.org/web/20171006153044/http://stories.vassar.edu/2017/assets/images/170706-legacy-of-grace-hopper-hopperpdf.pdf\" rel=\"nofollow\">Archived</a> <span class=\"cs1-format\">(PDF)</span> from the original on October 6, 2017.</cite><span class=\"Z3988\" title=\"ctx_ver=Z39.88-2004&amp;rft_val_fmt=info%3Aofi%2Ffmt%3Akev%3Amtx%3Abook&amp;rft.genre=unknown&amp;rft.btitle=Women+in+History&amp;rft_id=https%3A%2F%2Fstories.vassar.edu%2F2017%2Fassets%2Fimages%2F170706-legacy-of-grace-hopper-hopperpdf.pdf&amp;rfr_id=info%3Asid%2Fen.wikipedia.org%3AGrace+Hopper\"></span></span>\n",
       "</li>\n",
       "<li id=\"cite_note-mcgee2004-21\"><span class=\"mw-cite-backlink\">^ <a href=\"#cite_ref-mcgee2004_21-0\"><sup><i><b>a</b></i></sup></a> <a href=\"#cite_ref-mcgee2004_21-1\"><sup><i><b>b</b></i></sup></a></span> <span class=\"reference-text\"><link href=\"mw-data:TemplateStyles:r1133582631\" rel=\"mw-deduplicated-inline-style\"/><cite class=\"citation book cs1\" id=\"CITEREFMcGee2004\">McGee, Russell C. (2004). <a class=\"external text\" href=\"http://www.cbi.umn.edu/hostedpublications/pdf/McGee_Book-4.2.2.pdf\" rel=\"nofollow\"><i>My Adventure with Dwarfs: A Personal History in Mainframe Computers</i></a> <span class=\"cs1-format\">(PDF)</span>. University of Minnesota: Charles Babbage Institute. <a class=\"external text\" href=\"https://web.archive.org/web/20070613163123/http://www.cbi.umn.edu/hostedpublications/pdf/McGee_Book-4.2.2.pdf\" rel=\"nofollow\">Archived</a> <span class=\"cs1-format\">(PDF)</span> from the original on June 13, 2007<span class=\"reference-accessdate\">. Retrieved <span class=\"nowrap\">May 7,</span> 2014</span>.</cite><span class=\"Z3988\" title=\"ctx_ver=Z39.88-2004&amp;rft_val_fmt=info%3Aofi%2Ffmt%3Akev%3Amtx%3Abook&amp;rft.genre=book&amp;rft.btitle=My+Adventure+with+Dwarfs%3A+A+Personal+History+in+Mainframe+Computers&amp;rft.place=University+of+Minnesota&amp;rft.pub=Charles+Babbage+Institute&amp;rft.date=2004&amp;rft.aulast=McGee&amp;rft.aufirst=Russell+C.&amp;rft_id=http%3A%2F%2Fwww.cbi.umn.edu%2Fhostedpublications%2Fpdf%2FMcGee_Book-4.2.2.pdf&amp;rfr_id=info%3Asid%2Fen.wikipedia.org%3AGrace+Hopper\"></span></span>\n",
       "</li>\n",
       "<li id=\"cite_note-22\"><span class=\"mw-cite-backlink\"><b><a href=\"#cite_ref-22\">^</a></b></span> <span class=\"reference-text\"><link href=\"mw-data:TemplateStyles:r1133582631\" rel=\"mw-deduplicated-inline-style\"/><cite class=\"citation web cs1\"><a class=\"external text\" href=\"http://www.cs.yale.edu/homes/tap/Files/hopper-wit.html\" rel=\"nofollow\">\"The Wit and Wisdom of Grace Hopper\"</a>.</cite><span class=\"Z3988\" title=\"ctx_ver=Z39.88-2004&amp;rft_val_fmt=info%3Aofi%2Ffmt%3Akev%3Amtx%3Abook&amp;rft.genre=unknown&amp;rft.btitle=The+Wit+and+Wisdom+of+Grace+Hopper&amp;rft_id=http%3A%2F%2Fwww.cs.yale.edu%2Fhomes%2Ftap%2FFiles%2Fhopper-wit.html&amp;rfr_id=info%3Asid%2Fen.wikipedia.org%3AGrace+Hopper\"></span></span>\n",
       "</li>\n",
       "<li id=\"cite_note-Beyer_ch10-23\"><span class=\"mw-cite-backlink\"><b><a href=\"#cite_ref-Beyer_ch10_23-0\">^</a></b></span> <span class=\"reference-text\"><link href=\"mw-data:TemplateStyles:r1133582631\" rel=\"mw-deduplicated-inline-style\"/><cite class=\"citation book cs1\" id=\"CITEREFBeyer2012\">Beyer, Kurt (February 10, 2012). \"10\". <i>Grace Hopper and the Invention of the Information Age</i>. MIT Press. <a class=\"mw-redirect\" href=\"/wiki/ISBN_(identifier)\" title=\"ISBN (identifier)\">ISBN</a> <a href=\"/wiki/Special:BookSources/9780262517263\" title=\"Special:BookSources/9780262517263\"><bdi>9780262517263</bdi></a>.</cite><span class=\"Z3988\" title=\"ctx_ver=Z39.88-2004&amp;rft_val_fmt=info%3Aofi%2Ffmt%3Akev%3Amtx%3Abook&amp;rft.genre=bookitem&amp;rft.atitle=10&amp;rft.btitle=Grace+Hopper+and+the+Invention+of+the+Information+Age&amp;rft.pub=MIT+Press&amp;rft.date=2012-02-10&amp;rft.isbn=9780262517263&amp;rft.aulast=Beyer&amp;rft.aufirst=Kurt&amp;rfr_id=info%3Asid%2Fen.wikipedia.org%3AGrace+Hopper\"></span></span>\n",
       "</li>\n",
       "<li id=\"cite_note-24\"><span class=\"mw-cite-backlink\"><b><a href=\"#cite_ref-24\">^</a></b></span> <span class=\"reference-text\"><link href=\"mw-data:TemplateStyles:r1133582631\" rel=\"mw-deduplicated-inline-style\"/><cite class=\"citation book cs1\" id=\"CITEREFGilbert1981\">Gilbert, Lynn (1981). <a class=\"external text\" href=\"https://itunes.apple.com/us/book/grace-murray-hopper/id1197529986?mt=11\" rel=\"nofollow\"><i>Women of Wisdom: Grace Murray Hopper</i></a>. Lynn Gilbert, Inc.</cite><span class=\"Z3988\" title=\"ctx_ver=Z39.88-2004&amp;rft_val_fmt=info%3Aofi%2Ffmt%3Akev%3Amtx%3Abook&amp;rft.genre=book&amp;rft.btitle=Women+of+Wisdom%3A+Grace+Murray+Hopper&amp;rft.pub=Lynn+Gilbert%2C+Inc.&amp;rft.date=1981&amp;rft.aulast=Gilbert&amp;rft.aufirst=Lynn&amp;rft_id=https%3A%2F%2Fitunes.apple.com%2Fus%2Fbook%2Fgrace-murray-hopper%2Fid1197529986%3Fmt%3D11&amp;rfr_id=info%3Asid%2Fen.wikipedia.org%3AGrace+Hopper\"></span></span>\n",
       "</li>\n",
       "<li id=\"cite_note-KWB-25\"><span class=\"mw-cite-backlink\"><b><a href=\"#cite_ref-KWB_25-0\">^</a></b></span> <span class=\"reference-text\"><link href=\"mw-data:TemplateStyles:r1133582631\" rel=\"mw-deduplicated-inline-style\"/><cite class=\"citation book cs1\" id=\"CITEREFBeyer2009\">Beyer, Kurt W. (2009). <i>Grace Hopper and the Invention of the Information Age</i>. Cambridge, Massachusetts: MIT Press. <a class=\"mw-redirect\" href=\"/wiki/ISBN_(identifier)\" title=\"ISBN (identifier)\">ISBN</a> <a href=\"/wiki/Special:BookSources/978-0-262-01310-9\" title=\"Special:BookSources/978-0-262-01310-9\"><bdi>978-0-262-01310-9</bdi></a>.</cite><span class=\"Z3988\" title=\"ctx_ver=Z39.88-2004&amp;rft_val_fmt=info%3Aofi%2Ffmt%3Akev%3Amtx%3Abook&amp;rft.genre=book&amp;rft.btitle=Grace+Hopper+and+the+Invention+of+the+Information+Age&amp;rft.place=Cambridge%2C+Massachusetts&amp;rft.pub=MIT+Press&amp;rft.date=2009&amp;rft.isbn=978-0-262-01310-9&amp;rft.aulast=Beyer&amp;rft.aufirst=Kurt+W.&amp;rfr_id=info%3Asid%2Fen.wikipedia.org%3AGrace+Hopper\"></span></span>\n",
       "</li>\n",
       "<li id=\"cite_note-26\"><span class=\"mw-cite-backlink\"><b><a href=\"#cite_ref-26\">^</a></b></span> <span class=\"reference-text\"><link href=\"mw-data:TemplateStyles:r1133582631\" rel=\"mw-deduplicated-inline-style\"/><cite class=\"citation news cs1\" id=\"CITEREFLohr2017\">Lohr, Steve (June 4, 2017). <span class=\"cs1-lock-limited\" title=\"Free access subject to limited trial, subscription normally required\"><a class=\"external text\" href=\"https://www.nytimes.com/2017/06/04/technology/obituary-jean-sammet-software-designer-cobol.html\" rel=\"nofollow\">\"Jean Sammet, Co-Designer of a Pioneering Computer Language, Dies at 89\"</a></span>. <i>The New York Times</i>. <a class=\"external text\" href=\"https://ghostarchive.org/archive/20220102/https://www.nytimes.com/2017/06/04/technology/obituary-jean-sammet-software-designer-cobol.html\" rel=\"nofollow\">Archived</a> from the original on January 2, 2022.</cite><span class=\"Z3988\" title=\"ctx_ver=Z39.88-2004&amp;rft_val_fmt=info%3Aofi%2Ffmt%3Akev%3Amtx%3Ajournal&amp;rft.genre=article&amp;rft.jtitle=The+New+York+Times&amp;rft.atitle=Jean+Sammet%2C+Co-Designer+of+a+Pioneering+Computer+Language%2C+Dies+at+89&amp;rft.date=2017-06-04&amp;rft.aulast=Lohr&amp;rft.aufirst=Steve&amp;rft_id=https%3A%2F%2Fwww.nytimes.com%2F2017%2F06%2F04%2Ftechnology%2Fobituary-jean-sammet-software-designer-cobol.html&amp;rfr_id=info%3Asid%2Fen.wikipedia.org%3AGrace+Hopper\"></span></span>\n",
       "</li>\n",
       "<li id=\"cite_note-urlAttrition/Retirement-27\"><span class=\"mw-cite-backlink\"><b><a href=\"#cite_ref-urlAttrition/Retirement_27-0\">^</a></b></span> <span class=\"reference-text\"><link href=\"mw-data:TemplateStyles:r1133582631\" rel=\"mw-deduplicated-inline-style\"/><cite class=\"citation web cs1\"><a class=\"external text\" href=\"http://www.public.navy.mil/BUPERS-NPC/CAREER/RESERVEPERSONNELMGMT/OFFICERS/Pages/AttritionRetirement.aspx\" rel=\"nofollow\">\"Attrition/Retirement\"</a><span class=\"reference-accessdate\">. Retrieved <span class=\"nowrap\">April 29,</span> 2013</span>.</cite><span class=\"Z3988\" title=\"ctx_ver=Z39.88-2004&amp;rft_val_fmt=info%3Aofi%2Ffmt%3Akev%3Amtx%3Abook&amp;rft.genre=unknown&amp;rft.btitle=Attrition%2FRetirement&amp;rft_id=http%3A%2F%2Fwww.public.navy.mil%2FBUPERS-NPC%2FCAREER%2FRESERVEPERSONNELMGMT%2FOFFICERS%2FPages%2FAttritionRetirement.aspx&amp;rfr_id=info%3Asid%2Fen.wikipedia.org%3AGrace+Hopper\"></span></span>\n",
       "</li>\n",
       "<li id=\"cite_note-navybio-28\"><span class=\"mw-cite-backlink\">^ <a href=\"#cite_ref-navybio_28-0\"><sup><i><b>a</b></i></sup></a> <a href=\"#cite_ref-navybio_28-1\"><sup><i><b>b</b></i></sup></a> <a href=\"#cite_ref-navybio_28-2\"><sup><i><b>c</b></i></sup></a> <a href=\"#cite_ref-navybio_28-3\"><sup><i><b>d</b></i></sup></a></span> <span class=\"reference-text\"><link href=\"mw-data:TemplateStyles:r1133582631\" rel=\"mw-deduplicated-inline-style\"/><cite class=\"citation web cs1\"><a class=\"external text\" href=\"http://www.history.navy.mil/research/histories/bios/hopper-grace.html\" rel=\"nofollow\">\"Rear Admiral Grace Murray Hopper, USN\"</a>. <i>Biographies in Naval History</i>. United States Navy Naval Historical Center<span class=\"reference-accessdate\">. Retrieved <span class=\"nowrap\">May 28,</span> 2007</span>.</cite><span class=\"Z3988\" title=\"ctx_ver=Z39.88-2004&amp;rft_val_fmt=info%3Aofi%2Ffmt%3Akev%3Amtx%3Ajournal&amp;rft.genre=unknown&amp;rft.jtitle=Biographies+in+Naval+History&amp;rft.atitle=Rear+Admiral+Grace+Murray+Hopper%2C+USN&amp;rft_id=http%3A%2F%2Fwww.history.navy.mil%2Fresearch%2Fhistories%2Fbios%2Fhopper-grace.html&amp;rfr_id=info%3Asid%2Fen.wikipedia.org%3AGrace+Hopper\"></span></span>\n",
       "</li>\n",
       "<li id=\"cite_note-29\"><span class=\"mw-cite-backlink\"><b><a href=\"#cite_ref-29\">^</a></b></span> <span class=\"reference-text\"><link href=\"mw-data:TemplateStyles:r1133582631\" rel=\"mw-deduplicated-inline-style\"/><cite class=\"citation web cs1\"><a class=\"external text\" href=\"https://web.archive.org/web/20131211234638/http://www.history.navy.mil/photos/pers-us/uspers-h/g-hoppr7.htm\" rel=\"nofollow\">\"Rear Admiral Grace Murray Hopper, USNR, (1906–1992) Informal Images taken during the 1980s\"</a>. <i>Biographies in Naval History</i>. United States Navy Naval Historical Center. Archived from <a class=\"external text\" href=\"http://www.history.navy.mil/photos/pers-us/uspers-h/g-hoppr7.htm\" rel=\"nofollow\">the original</a> on December 11, 2013<span class=\"reference-accessdate\">. Retrieved <span class=\"nowrap\">July 2,</span> 2013</span>. <q>Commodore Grace M. Hopper, USNR. receives congratulations from President Ronald Reagan, following her promotion from the rank of Captain to Commodore in ceremonies at the White House, 15 December 1983</q></cite><span class=\"Z3988\" title=\"ctx_ver=Z39.88-2004&amp;rft_val_fmt=info%3Aofi%2Ffmt%3Akev%3Amtx%3Ajournal&amp;rft.genre=unknown&amp;rft.jtitle=Biographies+in+Naval+History&amp;rft.atitle=Rear+Admiral+Grace+Murray+Hopper%2C+USNR%2C+%281906%E2%80%931992%29+Informal+Images+taken+during+the+1980s&amp;rft_id=http%3A%2F%2Fwww.history.navy.mil%2Fphotos%2Fpers-us%2Fuspers-h%2Fg-hoppr7.htm&amp;rfr_id=info%3Asid%2Fen.wikipedia.org%3AGrace+Hopper\"></span></span>\n",
       "</li>\n",
       "<li id=\"cite_note-commodore-30\"><span class=\"mw-cite-backlink\">^ <a href=\"#cite_ref-commodore_30-0\"><sup><i><b>a</b></i></sup></a> <a href=\"#cite_ref-commodore_30-1\"><sup><i><b>b</b></i></sup></a></span> <span class=\"reference-text\"><link href=\"mw-data:TemplateStyles:r1133582631\" rel=\"mw-deduplicated-inline-style\"/><cite class=\"citation web cs1\"><a class=\"external text\" href=\"https://web.archive.org/web/20131019185550/http://www.defense.gov/specials/reagan/reaganphotoessay/grace_11.html\" rel=\"nofollow\">\"Historic Images of Ronald Reagan\"</a>. U.S. Defense Department. Archived from <a class=\"external text\" href=\"http://www.defense.gov/specials/reagan/reaganphotoessay/grace_11.html\" rel=\"nofollow\">the original</a> on October 19, 2013<span class=\"reference-accessdate\">. Retrieved <span class=\"nowrap\">March 7,</span> 2016</span>. <q>President Ronald Reagan greets Navy Capt. Grace Hopper as she arrives at the White House for her promotion to Commodore, Dec. 15, 1983. Hopper was a computer technology pioneer</q></cite><span class=\"Z3988\" title=\"ctx_ver=Z39.88-2004&amp;rft_val_fmt=info%3Aofi%2Ffmt%3Akev%3Amtx%3Abook&amp;rft.genre=unknown&amp;rft.btitle=Historic+Images+of+Ronald+Reagan&amp;rft.pub=U.S.+Defense+Department&amp;rft_id=http%3A%2F%2Fwww.defense.gov%2Fspecials%2Freagan%2Freaganphotoessay%2Fgrace_11.html&amp;rfr_id=info%3Asid%2Fen.wikipedia.org%3AGrace+Hopper\"></span></span>\n",
       "</li>\n",
       "<li id=\"cite_note-DavidLetterman86-31\"><span class=\"mw-cite-backlink\">^ <a href=\"#cite_ref-DavidLetterman86_31-0\"><sup><i><b>a</b></i></sup></a> <a href=\"#cite_ref-DavidLetterman86_31-1\"><sup><i><b>b</b></i></sup></a></span> <span class=\"reference-text\"><link href=\"mw-data:TemplateStyles:r1133582631\" rel=\"mw-deduplicated-inline-style\"/><cite class=\"citation episode cs1\">\"Late Night with David Letterman\". <a href=\"/wiki/Late_Night_with_David_Letterman\" title=\"Late Night with David Letterman\"><i>Late Night with David Letterman</i></a>. Season 5. Episode 771. New York City. October 2, 1986. <a href=\"/wiki/NBC\" title=\"NBC\">NBC</a>. <q><span class=\"cs1-kern-left\"></span>\"[to President Ronald Reagan on her promotion] Sir ... I'm older than you are ... YouTube title: Grace Hopper on Letterman</q></cite><span class=\"Z3988\" title=\"ctx_ver=Z39.88-2004&amp;rft_val_fmt=info%3Aofi%2Ffmt%3Akev%3Amtx%3Abook&amp;rft.genre=unknown&amp;rft.btitle=Late+Night+with+David+Letterman&amp;rft.place=New+York+City&amp;rft.series=Season+5.+Episode+771&amp;rft.date=1986-10-02&amp;rfr_id=info%3Asid%2Fen.wikipedia.org%3AGrace+Hopper\"></span></span>\n",
       "</li>\n",
       "<li id=\"cite_note-32\"><span class=\"mw-cite-backlink\"><b><a href=\"#cite_ref-32\">^</a></b></span> <span class=\"reference-text\"><link href=\"mw-data:TemplateStyles:r1133582631\" rel=\"mw-deduplicated-inline-style\"/><cite class=\"citation book cs1\" id=\"CITEREFHacker2006\">Hacker, Barton C. (2006). <a class=\"external text\" href=\"https://books.google.com/books?id=ufpinQqFJ_gC&amp;pg=PA131\" rel=\"nofollow\"><i>American Military Technology: The Life Story of a Technology</i></a>. Greenwood Publishing Group. p. 131. <a class=\"mw-redirect\" href=\"/wiki/ISBN_(identifier)\" title=\"ISBN (identifier)\">ISBN</a> <a href=\"/wiki/Special:BookSources/978-0-313-33308-8\" title=\"Special:BookSources/978-0-313-33308-8\"><bdi>978-0-313-33308-8</bdi></a>.</cite><span class=\"Z3988\" title=\"ctx_ver=Z39.88-2004&amp;rft_val_fmt=info%3Aofi%2Ffmt%3Akev%3Amtx%3Abook&amp;rft.genre=book&amp;rft.btitle=American+Military+Technology%3A+The+Life+Story+of+a+Technology&amp;rft.pages=131&amp;rft.pub=Greenwood+Publishing+Group&amp;rft.date=2006&amp;rft.isbn=978-0-313-33308-8&amp;rft.aulast=Hacker&amp;rft.aufirst=Barton+C.&amp;rft_id=https%3A%2F%2Fbooks.google.com%2Fbooks%3Fid%3DufpinQqFJ_gC%26pg%3DPA131&amp;rfr_id=info%3Asid%2Fen.wikipedia.org%3AGrace+Hopper\"></span></span>\n",
       "</li>\n",
       "<li id=\"cite_note-33\"><span class=\"mw-cite-backlink\"><b><a href=\"#cite_ref-33\">^</a></b></span> <span class=\"reference-text\"><link href=\"mw-data:TemplateStyles:r1133582631\" rel=\"mw-deduplicated-inline-style\"/><cite class=\"citation news cs1\" id=\"CITEREFTaffe1986\">Taffe, Richard Jr. (August 14, 1986). <a class=\"external text\" href=\"https://www.upi.com/Archives/1986/08/14/Navy-Admiral-Grace-Hopper-retires/2916524376000/\" rel=\"nofollow\">\"Navy Admiral Grace Hopper retires\"</a>. <i><a href=\"/wiki/United_Press_International\" title=\"United Press International\">United Press International</a></i><span class=\"reference-accessdate\">. Retrieved <span class=\"nowrap\">December 7,</span> 2018</span>.</cite><span class=\"Z3988\" title=\"ctx_ver=Z39.88-2004&amp;rft_val_fmt=info%3Aofi%2Ffmt%3Akev%3Amtx%3Ajournal&amp;rft.genre=article&amp;rft.jtitle=United+Press+International&amp;rft.atitle=Navy+Admiral+Grace+Hopper+retires&amp;rft.date=1986-08-14&amp;rft.aulast=Taffe&amp;rft.aufirst=Richard+Jr.&amp;rft_id=https%3A%2F%2Fwww.upi.com%2FArchives%2F1986%2F08%2F14%2FNavy-Admiral-Grace-Hopper-retires%2F2916524376000%2F&amp;rfr_id=info%3Asid%2Fen.wikipedia.org%3AGrace+Hopper\"></span></span>\n",
       "</li>\n",
       "<li id=\"cite_note-34\"><span class=\"mw-cite-backlink\"><b><a href=\"#cite_ref-34\">^</a></b></span> <span class=\"reference-text\"><link href=\"mw-data:TemplateStyles:r1133582631\" rel=\"mw-deduplicated-inline-style\"/><cite class=\"citation pressrelease cs1\"><a class=\"external text\" href=\"http://www.cs.yale.edu/homes/tap/Files/hopper-medal.html\" rel=\"nofollow\">\"Admiral Hopper Awarded the National Medal of Technology\"</a> (Press release). <a href=\"/wiki/Digital_Equipment_Corporation\" title=\"Digital Equipment Corporation\">Digital Equipment Corporation</a>. September 16, 1991<span class=\"reference-accessdate\">. Retrieved <span class=\"nowrap\">December 7,</span> 2018</span>.</cite><span class=\"Z3988\" title=\"ctx_ver=Z39.88-2004&amp;rft_val_fmt=info%3Aofi%2Ffmt%3Akev%3Amtx%3Abook&amp;rft.genre=unknown&amp;rft.btitle=Admiral+Hopper+Awarded+the+National+Medal+of+Technology&amp;rft.pub=Digital+Equipment+Corporation&amp;rft.date=1991-09-16&amp;rft_id=http%3A%2F%2Fwww.cs.yale.edu%2Fhomes%2Ftap%2FFiles%2Fhopper-medal.html&amp;rfr_id=info%3Asid%2Fen.wikipedia.org%3AGrace+Hopper\"></span></span>\n",
       "</li>\n",
       "<li id=\"cite_note-35\"><span class=\"mw-cite-backlink\"><b><a href=\"#cite_ref-35\">^</a></b></span> <span class=\"reference-text\"><link href=\"mw-data:TemplateStyles:r1133582631\" rel=\"mw-deduplicated-inline-style\"/><cite class=\"citation news cs1\"><a class=\"external text\" href=\"https://web.archive.org/web/20140222204821/http://www.waterholes.com/~dennette/1996/hopper/860815.htm\" rel=\"nofollow\">\"Computer Whiz Retires from Navy\"</a>. <i><a href=\"/wiki/Detroit_Free_Press\" title=\"Detroit Free Press\">Detroit Free Press</a></i>. United Press International. August 15, 1986. p. 4A. Archived from <a class=\"external text\" href=\"http://www.waterholes.com/~dennette/1996/hopper/860815.htm\" rel=\"nofollow\">the original</a> on February 22, 2014<span class=\"reference-accessdate\">. Retrieved <span class=\"nowrap\">June 3,</span> 2010</span>.</cite><span class=\"Z3988\" title=\"ctx_ver=Z39.88-2004&amp;rft_val_fmt=info%3Aofi%2Ffmt%3Akev%3Amtx%3Ajournal&amp;rft.genre=article&amp;rft.jtitle=Detroit+Free+Press&amp;rft.atitle=Computer+Whiz+Retires+from+Navy&amp;rft.pages=4A&amp;rft.date=1986-08-15&amp;rft_id=http%3A%2F%2Fwww.waterholes.com%2F~dennette%2F1996%2Fhopper%2F860815.htm&amp;rfr_id=info%3Asid%2Fen.wikipedia.org%3AGrace+Hopper\"></span></span>\n",
       "</li>\n",
       "<li id=\"cite_note-williams-36\"><span class=\"mw-cite-backlink\"><b><a href=\"#cite_ref-williams_36-0\">^</a></b></span> <span class=\"reference-text\"><link href=\"mw-data:TemplateStyles:r1133582631\" rel=\"mw-deduplicated-inline-style\"/><cite class=\"citation book cs1\" id=\"CITEREFWilliams2004\">Williams, Kathleen (2004). <a class=\"external text\" href=\"https://books.google.com/books?id=KKmiw-_2gYIC&amp;q=%22Grace+Hooper%22+and+military+ranks&amp;pg=PR9\" rel=\"nofollow\"><i>Grace Hopper: Admiral of the Cyber Sea</i></a>. Naval Institute Press. <a class=\"mw-redirect\" href=\"/wiki/ISBN_(identifier)\" title=\"ISBN (identifier)\">ISBN</a> <a href=\"/wiki/Special:BookSources/978-1-61251-265-5\" title=\"Special:BookSources/978-1-61251-265-5\"><bdi>978-1-61251-265-5</bdi></a>.</cite><span class=\"Z3988\" title=\"ctx_ver=Z39.88-2004&amp;rft_val_fmt=info%3Aofi%2Ffmt%3Akev%3Amtx%3Abook&amp;rft.genre=book&amp;rft.btitle=Grace+Hopper%3A+Admiral+of+the+Cyber+Sea&amp;rft.pub=Naval+Institute+Press&amp;rft.date=2004&amp;rft.isbn=978-1-61251-265-5&amp;rft.aulast=Williams&amp;rft.aufirst=Kathleen&amp;rft_id=https%3A%2F%2Fbooks.google.com%2Fbooks%3Fid%3DKKmiw-_2gYIC%26q%3D%2522Grace%2BHooper%2522%2Band%2Bmilitary%2Branks%26pg%3DPR9&amp;rfr_id=info%3Asid%2Fen.wikipedia.org%3AGrace+Hopper\"></span></span>\n",
       "</li>\n",
       "<li id=\"cite_note-32CFR53.2-37\"><span class=\"mw-cite-backlink\"><b><a href=\"#cite_ref-32CFR53.2_37-0\">^</a></b></span> <span class=\"reference-text\"><link href=\"mw-data:TemplateStyles:r1133582631\" rel=\"mw-deduplicated-inline-style\"/><cite class=\"citation web cs1\"><a class=\"external text\" href=\"https://www.law.cornell.edu/cfr/text/32/53.2\" rel=\"nofollow\">\"32 CFR § 53.2 – Policy\"</a>. <i>Legal Information Institute</i>. Cornell University<span class=\"reference-accessdate\">. Retrieved <span class=\"nowrap\">November 26,</span> 2019</span>.</cite><span class=\"Z3988\" title=\"ctx_ver=Z39.88-2004&amp;rft_val_fmt=info%3Aofi%2Ffmt%3Akev%3Amtx%3Ajournal&amp;rft.genre=unknown&amp;rft.jtitle=Legal+Information+Institute&amp;rft.atitle=32+CFR+%C2%A7+53.2+%E2%80%93+Policy.&amp;rft_id=https%3A%2F%2Fwww.law.cornell.edu%2Fcfr%2Ftext%2F32%2F53.2&amp;rfr_id=info%3Asid%2Fen.wikipedia.org%3AGrace+Hopper\"></span></span>\n",
       "</li>\n",
       "<li id=\"cite_note-38\"><span class=\"mw-cite-backlink\"><b><a href=\"#cite_ref-38\">^</a></b></span> <span class=\"reference-text\"><link href=\"mw-data:TemplateStyles:r1133582631\" rel=\"mw-deduplicated-inline-style\"/><cite class=\"citation book cs1\" id=\"CITEREFGilbert2012\">Gilbert, Lynn (December 10, 2012). <i>Particular Passions: Grace Murray Hopper</i>. Women of Wisdom Series (1st ed.). New York City: Lynn Gilbert Inc. <a class=\"mw-redirect\" href=\"/wiki/ISBN_(identifier)\" title=\"ISBN (identifier)\">ISBN</a> <a href=\"/wiki/Special:BookSources/978-1-61979-403-0\" title=\"Special:BookSources/978-1-61979-403-0\"><bdi>978-1-61979-403-0</bdi></a>.</cite><span class=\"Z3988\" title=\"ctx_ver=Z39.88-2004&amp;rft_val_fmt=info%3Aofi%2Ffmt%3Akev%3Amtx%3Abook&amp;rft.genre=book&amp;rft.btitle=Particular+Passions%3A+Grace+Murray+Hopper&amp;rft.place=New+York+City&amp;rft.series=Women+of+Wisdom+Series&amp;rft.edition=1st&amp;rft.pub=Lynn+Gilbert+Inc.&amp;rft.date=2012-12-10&amp;rft.isbn=978-1-61979-403-0&amp;rft.aulast=Gilbert&amp;rft.aufirst=Lynn&amp;rfr_id=info%3Asid%2Fen.wikipedia.org%3AGrace+Hopper\"></span></span>\n",
       "</li>\n",
       "<li id=\"cite_note-39\"><span class=\"mw-cite-backlink\"><b><a href=\"#cite_ref-39\">^</a></b></span> <span class=\"reference-text\"><link href=\"mw-data:TemplateStyles:r1133582631\" rel=\"mw-deduplicated-inline-style\"/><cite class=\"citation news cs1\" id=\"CITEREFCavna2013\">Cavna, Michael (December 9, 2013). <a class=\"external text\" href=\"https://www.washingtonpost.com/blogs/comic-riffs/post/grace-hopper-doodle-by-writing-computer-language-pioneering-grandma-cobol-helped-rewrite-the-history-books/2013/12/09/72a80e36-60bf-11e3-8beb-3f9a9942850f_blog.html\" rel=\"nofollow\">\"Grace Hopper: Google Doodle honors computing pioneer\"</a>. <i><a href=\"/wiki/The_Washington_Post\" title=\"The Washington Post\">The Washington Post</a></i><span class=\"reference-accessdate\">. Retrieved <span class=\"nowrap\">December 7,</span> 2018</span>.</cite><span class=\"Z3988\" title=\"ctx_ver=Z39.88-2004&amp;rft_val_fmt=info%3Aofi%2Ffmt%3Akev%3Amtx%3Ajournal&amp;rft.genre=article&amp;rft.jtitle=The+Washington+Post&amp;rft.atitle=Grace+Hopper%3A+Google+Doodle+honors+computing+pioneer&amp;rft.date=2013-12-09&amp;rft.aulast=Cavna&amp;rft.aufirst=Michael&amp;rft_id=https%3A%2F%2Fwww.washingtonpost.com%2Fblogs%2Fcomic-riffs%2Fpost%2Fgrace-hopper-doodle-by-writing-computer-language-pioneering-grandma-cobol-helped-rewrite-the-history-books%2F2013%2F12%2F09%2F72a80e36-60bf-11e3-8beb-3f9a9942850f_blog.html&amp;rfr_id=info%3Asid%2Fen.wikipedia.org%3AGrace+Hopper\"></span></span>\n",
       "</li>\n",
       "<li id=\"cite_note-:0-40\"><span class=\"mw-cite-backlink\">^ <a href=\"#cite_ref-:0_40-0\"><sup><i><b>a</b></i></sup></a> <a href=\"#cite_ref-:0_40-1\"><sup><i><b>b</b></i></sup></a></span> <span class=\"reference-text\"><link href=\"mw-data:TemplateStyles:r1133582631\" rel=\"mw-deduplicated-inline-style\"/><cite class=\"citation web cs1\"><a class=\"external text\" href=\"http://americanhistory.si.edu/collections/search/object/nmah_334663\" rel=\"nofollow\">\"Log Book With Computer Bug\"</a>. <i><a href=\"/wiki/National_Museum_of_American_History\" title=\"National Museum of American History\">National Museum of American History</a></i><span class=\"reference-accessdate\">. Retrieved <span class=\"nowrap\">May 7,</span> 2014</span>.</cite><span class=\"Z3988\" title=\"ctx_ver=Z39.88-2004&amp;rft_val_fmt=info%3Aofi%2Ffmt%3Akev%3Amtx%3Ajournal&amp;rft.genre=unknown&amp;rft.jtitle=National+Museum+of+American+History&amp;rft.atitle=Log+Book+With+Computer+Bug&amp;rft_id=http%3A%2F%2Famericanhistory.si.edu%2Fcollections%2Fsearch%2Fobject%2Fnmah_334663&amp;rfr_id=info%3Asid%2Fen.wikipedia.org%3AGrace+Hopper\"></span></span>\n",
       "</li>\n",
       "<li id=\"cite_note-41\"><span class=\"mw-cite-backlink\"><b><a href=\"#cite_ref-41\">^</a></b></span> <span class=\"reference-text\">Edison to Puskas, November 13, 1878, Edison papers, Edison National Laboratory, U.S. National Park Service, West Orange, N.J., cited in Thomas P. Hughes, <i>American Genesis: A History of the American Genius for Invention,</i> Penguin Books, 1989, <link href=\"mw-data:TemplateStyles:r1133582631\" rel=\"mw-deduplicated-inline-style\"/><a class=\"mw-redirect\" href=\"/wiki/ISBN_(identifier)\" title=\"ISBN (identifier)\">ISBN</a> <a href=\"/wiki/Special:BookSources/0-14-009741-4\" title=\"Special:BookSources/0-14-009741-4\">0-14-009741-4</a>, on page 75.</span>\n",
       "</li>\n",
       "<li id=\"cite_note-42\"><span class=\"mw-cite-backlink\"><b><a href=\"#cite_ref-42\">^</a></b></span> <span class=\"reference-text\"><link href=\"mw-data:TemplateStyles:r1133582631\" rel=\"mw-deduplicated-inline-style\"/><cite class=\"citation web cs1\" id=\"CITEREFAlexander_Magoun_and_Paul_Israel2013\">Alexander Magoun and Paul Israel (August 1, 2013). <a class=\"external text\" href=\"https://spectrum.ieee.org/did-you-know-edison-coined-the-term-bug\" rel=\"nofollow\">\"Did You Know? Edison Coined the Term \"Bug\"<span class=\"cs1-kern-right\"></span>\"</a>. <i>IEEE Spectrum</i>. <a class=\"external text\" href=\"https://web.archive.org/web/20210810151640/https://spectrum.ieee.org/did-you-know-edison-coined-the-term-bug\" rel=\"nofollow\">Archived</a> from the original on August 10, 2021<span class=\"reference-accessdate\">. Retrieved <span class=\"nowrap\">August 27,</span> 2013</span>.</cite><span class=\"Z3988\" title=\"ctx_ver=Z39.88-2004&amp;rft_val_fmt=info%3Aofi%2Ffmt%3Akev%3Amtx%3Ajournal&amp;rft.genre=unknown&amp;rft.jtitle=IEEE+Spectrum&amp;rft.atitle=Did+You+Know%3F+Edison+Coined+the+Term+%22Bug%22&amp;rft.date=2013-08-01&amp;rft.au=Alexander+Magoun+and+Paul+Israel&amp;rft_id=https%3A%2F%2Fspectrum.ieee.org%2Fdid-you-know-edison-coined-the-term-bug&amp;rfr_id=info%3Asid%2Fen.wikipedia.org%3AGrace+Hopper\"></span></span>\n",
       "</li>\n",
       "<li id=\"cite_note-43\"><span class=\"mw-cite-backlink\"><b><a href=\"#cite_ref-43\">^</a></b></span> <span class=\"reference-text\"><link href=\"mw-data:TemplateStyles:r1133582631\" rel=\"mw-deduplicated-inline-style\"/><cite class=\"citation web cs1\"><a class=\"external text\" href=\"https://web.archive.org/web/20120225235722/http://www.youtube.com/watch?v=JEpsKnWZrJ8&amp;gl=US&amp;hl=en\" rel=\"nofollow\">\"YouTube\"</a>. <i>www.youtube.com</i>. Archived from <a class=\"external text\" href=\"https://www.youtube.com/watch?v=JEpsKnWZrJ8\" rel=\"nofollow\">the original</a> on February 25, 2012.</cite><span class=\"Z3988\" title=\"ctx_ver=Z39.88-2004&amp;rft_val_fmt=info%3Aofi%2Ffmt%3Akev%3Amtx%3Ajournal&amp;rft.genre=unknown&amp;rft.jtitle=www.youtube.com&amp;rft.atitle=YouTube&amp;rft_id=https%3A%2F%2Fwww.youtube.com%2Fwatch%3Fv%3DJEpsKnWZrJ8&amp;rfr_id=info%3Asid%2Fen.wikipedia.org%3AGrace+Hopper\"></span></span>\n",
       "</li>\n",
       "<li id=\"cite_note-44\"><span class=\"mw-cite-backlink\"><b><a href=\"#cite_ref-44\">^</a></b></span> <span class=\"reference-text\"><link href=\"mw-data:TemplateStyles:r1133582631\" rel=\"mw-deduplicated-inline-style\"/><cite class=\"citation magazine cs1\">\"Good-Bye and Good Wishes\". <i>InformationWeek</i>. January 6, 1992. p. 4.</cite><span class=\"Z3988\" title=\"ctx_ver=Z39.88-2004&amp;rft_val_fmt=info%3Aofi%2Ffmt%3Akev%3Amtx%3Ajournal&amp;rft.genre=article&amp;rft.jtitle=InformationWeek&amp;rft.atitle=Good-Bye+and+Good+Wishes&amp;rft.pages=4&amp;rft.date=1992-01-06&amp;rfr_id=info%3Asid%2Fen.wikipedia.org%3AGrace+Hopper\"></span></span>\n",
       "</li>\n",
       "<li id=\"cite_note-45\"><span class=\"mw-cite-backlink\"><b><a href=\"#cite_ref-45\">^</a></b></span> <span class=\"reference-text\"><link href=\"mw-data:TemplateStyles:r1133582631\" rel=\"mw-deduplicated-inline-style\"/><cite class=\"citation book cs1\" id=\"CITEREFElliottSimon2011\">Elliott, Jay; Simon, William L. (2011). <i>The Steve Jobs way: iLeadership for a new generation</i>. Philadelphia: Vanguard. p. 71. <a class=\"mw-redirect\" href=\"/wiki/ISBN_(identifier)\" title=\"ISBN (identifier)\">ISBN</a> <a href=\"/wiki/Special:BookSources/978-1-59315-639-8\" title=\"Special:BookSources/978-1-59315-639-8\"><bdi>978-1-59315-639-8</bdi></a>.</cite><span class=\"Z3988\" title=\"ctx_ver=Z39.88-2004&amp;rft_val_fmt=info%3Aofi%2Ffmt%3Akev%3Amtx%3Abook&amp;rft.genre=book&amp;rft.btitle=The+Steve+Jobs+way%3A+iLeadership+for+a+new+generation&amp;rft.place=Philadelphia&amp;rft.pages=71&amp;rft.pub=Vanguard&amp;rft.date=2011&amp;rft.isbn=978-1-59315-639-8&amp;rft.aulast=Elliott&amp;rft.aufirst=Jay&amp;rft.au=Simon%2C+William+L.&amp;rfr_id=info%3Asid%2Fen.wikipedia.org%3AGrace+Hopper\"></span></span>\n",
       "</li>\n",
       "<li id=\"cite_note-46\"><span class=\"mw-cite-backlink\"><b><a href=\"#cite_ref-46\">^</a></b></span> <span class=\"reference-text\"><link href=\"mw-data:TemplateStyles:r1133582631\" rel=\"mw-deduplicated-inline-style\"/><cite class=\"citation web cs1\" id=\"CITEREFCastellanos-Monfil2015\">Castellanos-Monfil, Román (December 9, 2015). <a class=\"external text\" href=\"https://news.yale.edu/2015/12/09/happy-109th-birthday-yale-alumna-grace-hopper-pioneer-computer-science\" rel=\"nofollow\">\"Happy 109th birthday to Yale alumna Grace Hopper, a pioneer in computer science\"</a>. <i>YaleNews</i>.</cite><span class=\"Z3988\" title=\"ctx_ver=Z39.88-2004&amp;rft_val_fmt=info%3Aofi%2Ffmt%3Akev%3Amtx%3Ajournal&amp;rft.genre=unknown&amp;rft.jtitle=YaleNews&amp;rft.atitle=Happy+109th+birthday+to+Yale+alumna+Grace+Hopper%2C+a+pioneer+in+computer+science&amp;rft.date=2015-12-09&amp;rft.aulast=Castellanos-Monfil&amp;rft.aufirst=Rom%C3%A1n&amp;rft_id=https%3A%2F%2Fnews.yale.edu%2F2015%2F12%2F09%2Fhappy-109th-birthday-yale-alumna-grace-hopper-pioneer-computer-science&amp;rfr_id=info%3Asid%2Fen.wikipedia.org%3AGrace+Hopper\"></span></span>\n",
       "</li>\n",
       "<li id=\"cite_note-47\"><span class=\"mw-cite-backlink\"><b><a href=\"#cite_ref-47\">^</a></b></span> <span class=\"reference-text\"><link href=\"mw-data:TemplateStyles:r1133582631\" rel=\"mw-deduplicated-inline-style\"/><cite class=\"citation web cs1\"><a class=\"external text\" href=\"https://news.yale.edu/2017/02/10/grace-murray-hopper-1906-1992-legacy-innovation-and-service\" rel=\"nofollow\">\"Grace Murray Hopper (1906–1992): A legacy of innovation and service\"</a>. <i>YaleNews</i>. February 10, 2017.</cite><span class=\"Z3988\" title=\"ctx_ver=Z39.88-2004&amp;rft_val_fmt=info%3Aofi%2Ffmt%3Akev%3Amtx%3Ajournal&amp;rft.genre=unknown&amp;rft.jtitle=YaleNews&amp;rft.atitle=Grace+Murray+Hopper+%281906%E2%80%931992%29%3A+A+legacy+of+innovation+and+service&amp;rft.date=2017-02-10&amp;rft_id=https%3A%2F%2Fnews.yale.edu%2F2017%2F02%2F10%2Fgrace-murray-hopper-1906-1992-legacy-innovation-and-service&amp;rfr_id=info%3Asid%2Fen.wikipedia.org%3AGrace+Hopper\"></span></span>\n",
       "</li>\n",
       "<li id=\"cite_note-USNavy-48\"><span class=\"mw-cite-backlink\">^ <a href=\"#cite_ref-USNavy_48-0\"><sup><i><b>a</b></i></sup></a> <a href=\"#cite_ref-USNavy_48-1\"><sup><i><b>b</b></i></sup></a> <a href=\"#cite_ref-USNavy_48-2\"><sup><i><b>c</b></i></sup></a> <a href=\"#cite_ref-USNavy_48-3\"><sup><i><b>d</b></i></sup></a> <a href=\"#cite_ref-USNavy_48-4\"><sup><i><b>e</b></i></sup></a> <a href=\"#cite_ref-USNavy_48-5\"><sup><i><b>f</b></i></sup></a> <a href=\"#cite_ref-USNavy_48-6\"><sup><i><b>g</b></i></sup></a></span> <span class=\"reference-text\"><link href=\"mw-data:TemplateStyles:r1133582631\" rel=\"mw-deduplicated-inline-style\"/><cite class=\"citation web cs1\"><a class=\"external text\" href=\"https://www.history.navy.mil/content/dam/nhhc/research/histories/bios/HopperGrace/Hopper.pdf\" rel=\"nofollow\">\"Captain Grace Murray Hopper\"</a> <span class=\"cs1-format\">(PDF)</span>. <i>U.S. Naval Reserve</i>. July 1981.</cite><span class=\"Z3988\" title=\"ctx_ver=Z39.88-2004&amp;rft_val_fmt=info%3Aofi%2Ffmt%3Akev%3Amtx%3Ajournal&amp;rft.genre=unknown&amp;rft.jtitle=U.S.+Naval+Reserve&amp;rft.atitle=Captain+Grace+Murray+Hopper&amp;rft.date=1981-07&amp;rft_id=https%3A%2F%2Fwww.history.navy.mil%2Fcontent%2Fdam%2Fnhhc%2Fresearch%2Fhistories%2Fbios%2FHopperGrace%2FHopper.pdf&amp;rfr_id=info%3Asid%2Fen.wikipedia.org%3AGrace+Hopper\"></span></span>\n",
       "</li>\n",
       "<li id=\"cite_note-50\"><span class=\"mw-cite-backlink\"><b><a href=\"#cite_ref-50\">^</a></b></span> <span class=\"reference-text\"><link href=\"mw-data:TemplateStyles:r1133582631\" rel=\"mw-deduplicated-inline-style\"/><cite class=\"citation web cs1\"><a class=\"external text\" href=\"https://www.govtrack.us/congress/bills/99/s1160/text\" rel=\"nofollow\">\"Pub.L. 99–145: Department of Defense Authorization Act, 1986\"</a>. <i>GovTrack.us</i>. November 8, 2020<span class=\"reference-accessdate\">. Retrieved <span class=\"nowrap\">September 18,</span> 2020</span>.</cite><span class=\"Z3988\" title=\"ctx_ver=Z39.88-2004&amp;rft_val_fmt=info%3Aofi%2Ffmt%3Akev%3Amtx%3Ajournal&amp;rft.genre=unknown&amp;rft.jtitle=GovTrack.us&amp;rft.atitle=Pub.L.+99%E2%80%93145%3A+Department+of+Defense+Authorization+Act%2C+1986&amp;rft.date=2020-11-08&amp;rft_id=https%3A%2F%2Fwww.govtrack.us%2Fcongress%2Fbills%2F99%2Fs1160%2Ftext&amp;rfr_id=info%3Asid%2Fen.wikipedia.org%3AGrace+Hopper\"></span></span>\n",
       "</li>\n",
       "<li id=\"cite_note-51\"><span class=\"mw-cite-backlink\"><b><a href=\"#cite_ref-51\">^</a></b></span> <span class=\"reference-text\"><link href=\"mw-data:TemplateStyles:r1133582631\" rel=\"mw-deduplicated-inline-style\"/><cite class=\"citation web cs1\"><a class=\"external text\" href=\"http://philadelphia.swe.org/first-ladies.html\" rel=\"nofollow\">\"First Ladies\"</a>. <i>SWE Philadelphia Section</i><span class=\"reference-accessdate\">. Retrieved <span class=\"nowrap\">March 27,</span> 2020</span>.</cite><span class=\"Z3988\" title=\"ctx_ver=Z39.88-2004&amp;rft_val_fmt=info%3Aofi%2Ffmt%3Akev%3Amtx%3Ajournal&amp;rft.genre=unknown&amp;rft.jtitle=SWE+Philadelphia+Section&amp;rft.atitle=First+Ladies&amp;rft_id=http%3A%2F%2Fphiladelphia.swe.org%2Ffirst-ladies.html&amp;rfr_id=info%3Asid%2Fen.wikipedia.org%3AGrace+Hopper\"></span></span>\n",
       "</li>\n",
       "<li id=\"cite_note-52\"><span class=\"mw-cite-backlink\"><b><a href=\"#cite_ref-52\">^</a></b></span> <span class=\"reference-text\"><link href=\"mw-data:TemplateStyles:r1133582631\" rel=\"mw-deduplicated-inline-style\"/><cite class=\"citation journal cs1\"><a class=\"external text\" href=\"http://oldswesite.swe.org/images/swemagazine/2015/swe_spring15_links.pdf#page=40\" rel=\"nofollow\">\"The Founders\"</a> <span class=\"cs1-format\">(PDF)</span>. <i>SWE Magazine of the Society of Women Engineers</i>: 34. Spring 2015. <a class=\"mw-redirect\" href=\"/wiki/ISSN_(identifier)\" title=\"ISSN (identifier)\">ISSN</a> <a class=\"external text\" href=\"https://www.worldcat.org/issn/1070-6232\" rel=\"nofollow\">1070-6232</a>. <a class=\"external text\" href=\"https://web.archive.org/web/20200320104131/http://oldswesite.swe.org/images/swemagazine/2015/swe_spring15_links.pdf\" rel=\"nofollow\">Archived</a> <span class=\"cs1-format\">(PDF)</span> from the original on March 20, 2020. <q>Gathering at the <a href=\"/wiki/Cooper_Union\" title=\"Cooper Union\">Cooper Union</a>'s Green Engineering Camp on a spring weekend, the following women founded the Society of Women Engineers on May 27, 1950, known as Founders' Day: ... <a href=\"/wiki/Mary_Blade\" title=\"Mary Blade\">Mary Blade</a> ... <a class=\"mw-redirect\" href=\"/wiki/Beatrice_Alice_Hicks\" title=\"Beatrice Alice Hicks\">Beatrice Alice Hicks</a> ... <a class=\"mw-redirect\" href=\"/wiki/Grace_M._Hopper\" title=\"Grace M. Hopper\">Grace M. Hopper</a></q></cite><span class=\"Z3988\" title=\"ctx_ver=Z39.88-2004&amp;rft_val_fmt=info%3Aofi%2Ffmt%3Akev%3Amtx%3Ajournal&amp;rft.genre=article&amp;rft.jtitle=SWE+Magazine+of+the+Society+of+Women+Engineers&amp;rft.atitle=The+Founders&amp;rft.ssn=spring&amp;rft.pages=34&amp;rft.date=2015&amp;rft.issn=1070-6232&amp;rft_id=http%3A%2F%2Foldswesite.swe.org%2Fimages%2Fswemagazine%2F2015%2Fswe_spring15_links.pdf%23page%3D40&amp;rfr_id=info%3Asid%2Fen.wikipedia.org%3AGrace+Hopper\"></span></span>\n",
       "</li>\n",
       "<li id=\"cite_note-53\"><span class=\"mw-cite-backlink\"><b><a href=\"#cite_ref-53\">^</a></b></span> <span class=\"reference-text\"><link href=\"mw-data:TemplateStyles:r1133582631\" rel=\"mw-deduplicated-inline-style\"/><cite class=\"citation web cs1\"><a class=\"external text\" href=\"http://www.aitp.org/?DISA\" rel=\"nofollow\">\"DISA Recipients – Association of Information Technology Professionals\"</a><span class=\"reference-accessdate\">. Retrieved <span class=\"nowrap\">June 28,</span> 2016</span>.</cite><span class=\"Z3988\" title=\"ctx_ver=Z39.88-2004&amp;rft_val_fmt=info%3Aofi%2Ffmt%3Akev%3Amtx%3Abook&amp;rft.genre=unknown&amp;rft.btitle=DISA+Recipients+%E2%80%93+Association+of+Information+Technology+Professionals&amp;rft_id=http%3A%2F%2Fwww.aitp.org%2F%3FDISA&amp;rfr_id=info%3Asid%2Fen.wikipedia.org%3AGrace+Hopper\"></span></span>\n",
       "</li>\n",
       "<li id=\"cite_note-USN-54\"><span class=\"mw-cite-backlink\">^ <a href=\"#cite_ref-USN_54-0\"><sup><i><b>a</b></i></sup></a> <a href=\"#cite_ref-USN_54-1\"><sup><i><b>b</b></i></sup></a></span> <span class=\"reference-text\"><link href=\"mw-data:TemplateStyles:r1133582631\" rel=\"mw-deduplicated-inline-style\"/><cite class=\"citation web cs1\" id=\"CITEREFGrant2016\">Grant, April (November 22, 2016). <a class=\"external text\" href=\"https://www.navy.mil/submit/display.asp?story_id=97807\" rel=\"nofollow\">\"Computer Science Legend, Rear Adm. Grace Hopper, Posthumously Receives Presidential Medal of Freedom\"</a>. <i>United States Navy</i><span class=\"reference-accessdate\">. Retrieved <span class=\"nowrap\">December 7,</span> 2018</span>.</cite><span class=\"Z3988\" title=\"ctx_ver=Z39.88-2004&amp;rft_val_fmt=info%3Aofi%2Ffmt%3Akev%3Amtx%3Ajournal&amp;rft.genre=unknown&amp;rft.jtitle=United+States+Navy&amp;rft.atitle=Computer+Science+Legend%2C+Rear+Adm.+Grace+Hopper%2C+Posthumously+Receives+Presidential+Medal+of+Freedom&amp;rft.date=2016-11-22&amp;rft.aulast=Grant&amp;rft.aufirst=April&amp;rft_id=https%3A%2F%2Fwww.navy.mil%2Fsubmit%2Fdisplay.asp%3Fstory_id%3D97807&amp;rfr_id=info%3Asid%2Fen.wikipedia.org%3AGrace+Hopper\"></span></span>\n",
       "</li>\n",
       "<li id=\"cite_note-55\"><span class=\"mw-cite-backlink\"><b><a href=\"#cite_ref-55\">^</a></b></span> <span class=\"reference-text\"><link href=\"mw-data:TemplateStyles:r1133582631\" rel=\"mw-deduplicated-inline-style\"/><cite class=\"citation web cs1\" id=\"CITEREFAnon2016\">Anon (2016). <a class=\"external text\" href=\"https://web.archive.org/web/20160304025814/http://www.bcs.org/content/conWebDoc/1650\" rel=\"nofollow\">\"Roll of Distinguished Fellows\"</a>. British Computer Society. Archived from <a class=\"external text\" href=\"http://www.bcs.org/content/conWebDoc/1650\" rel=\"nofollow\">the original</a> on March 4, 2016<span class=\"reference-accessdate\">. Retrieved <span class=\"nowrap\">September 10,</span> 2014</span>.</cite><span class=\"Z3988\" title=\"ctx_ver=Z39.88-2004&amp;rft_val_fmt=info%3Aofi%2Ffmt%3Akev%3Amtx%3Abook&amp;rft.genre=unknown&amp;rft.btitle=Roll+of+Distinguished+Fellows&amp;rft.pub=British+Computer+Society&amp;rft.date=2016&amp;rft.au=Anon&amp;rft_id=http%3A%2F%2Fwww.bcs.org%2Fcontent%2FconWebDoc%2F1650&amp;rfr_id=info%3Asid%2Fen.wikipedia.org%3AGrace+Hopper\"></span></span>\n",
       "</li>\n",
       "<li id=\"cite_note-56\"><span class=\"mw-cite-backlink\"><b><a href=\"#cite_ref-56\">^</a></b></span> <span class=\"reference-text\"><link href=\"mw-data:TemplateStyles:r1133582631\" rel=\"mw-deduplicated-inline-style\"/><cite class=\"citation web cs1\"><a class=\"external text\" href=\"http://www.marquette.edu/universityhonors/honorary_degrees_recipients_year.shtml\" rel=\"nofollow\">\"Honorary Degrees | University Honors\"</a>. Marquette University<span class=\"reference-accessdate\">. Retrieved <span class=\"nowrap\">August 19,</span> 2014</span>.</cite><span class=\"Z3988\" title=\"ctx_ver=Z39.88-2004&amp;rft_val_fmt=info%3Aofi%2Ffmt%3Akev%3Amtx%3Abook&amp;rft.genre=unknown&amp;rft.btitle=Honorary+Degrees+%7C+University+Honors&amp;rft.pub=Marquette+University&amp;rft_id=http%3A%2F%2Fwww.marquette.edu%2Funiversityhonors%2Fhonorary_degrees_recipients_year.shtml&amp;rfr_id=info%3Asid%2Fen.wikipedia.org%3AGrace+Hopper\"></span></span>\n",
       "</li>\n",
       "<li id=\"cite_note-57\"><span class=\"mw-cite-backlink\"><b><a href=\"#cite_ref-57\">^</a></b></span> <span class=\"reference-text\"><link href=\"mw-data:TemplateStyles:r1133582631\" rel=\"mw-deduplicated-inline-style\"/><cite class=\"citation web cs1\"><a class=\"external text\" href=\"https://achievement.org/our-history/golden-plate-awards/#science-exploration\" rel=\"nofollow\">\"Golden Plate Awardees of the American Academy of Achievement\"</a>. <i>www.achievement.org</i>. <a class=\"mw-redirect\" href=\"/wiki/American_Academy_of_Achievement\" title=\"American Academy of Achievement\">American Academy of Achievement</a>.</cite><span class=\"Z3988\" title=\"ctx_ver=Z39.88-2004&amp;rft_val_fmt=info%3Aofi%2Ffmt%3Akev%3Amtx%3Ajournal&amp;rft.genre=unknown&amp;rft.jtitle=www.achievement.org&amp;rft.atitle=Golden+Plate+Awardees+of+the+American+Academy+of+Achievement&amp;rft_id=https%3A%2F%2Fachievement.org%2Four-history%2Fgolden-plate-awards%2F%23science-exploration&amp;rfr_id=info%3Asid%2Fen.wikipedia.org%3AGrace+Hopper\"></span></span>\n",
       "</li>\n",
       "<li id=\"cite_note-58\"><span class=\"mw-cite-backlink\"><b><a href=\"#cite_ref-58\">^</a></b></span> <span class=\"reference-text\"><link href=\"mw-data:TemplateStyles:r1133582631\" rel=\"mw-deduplicated-inline-style\"/><cite class=\"citation web cs1\" id=\"CITEREFLee\">Lee, J.A.N. <a class=\"external text\" href=\"http://history.computer.org/pioneers/hopper.html\" rel=\"nofollow\">\"Computer Pioneers — Grace Brewster Murray Hopper\"</a>. IEEE Computer Society and the Institute of Electrical and Electronics Engineers<span class=\"reference-accessdate\">. Retrieved <span class=\"nowrap\">April 29,</span> 2017</span>.</cite><span class=\"Z3988\" title=\"ctx_ver=Z39.88-2004&amp;rft_val_fmt=info%3Aofi%2Ffmt%3Akev%3Amtx%3Abook&amp;rft.genre=unknown&amp;rft.btitle=Computer+Pioneers+%E2%80%94+Grace+Brewster+Murray+Hopper&amp;rft.pub=IEEE+Computer+Society+and+the+Institute+of+Electrical+and+Electronics+Engineers&amp;rft.aulast=Lee&amp;rft.aufirst=J.A.N.&amp;rft_id=http%3A%2F%2Fhistory.computer.org%2Fpioneers%2Fhopper.html&amp;rfr_id=info%3Asid%2Fen.wikipedia.org%3AGrace+Hopper\"></span></span>\n",
       "</li>\n",
       "<li id=\"cite_note-59\"><span class=\"mw-cite-backlink\"><b><a href=\"#cite_ref-59\">^</a></b></span> <span class=\"reference-text\"><link href=\"mw-data:TemplateStyles:r1133582631\" rel=\"mw-deduplicated-inline-style\"/><cite class=\"citation web cs1\"><a class=\"external text\" href=\"https://web.archive.org/web/20150502110209/http://www1.wne.edu/assets/10/WNE_History.pdf\" rel=\"nofollow\">\"Western New England: From College to University A Retrospective: 1919–2011\"</a> <span class=\"cs1-format\">(PDF)</span>. Western New England University. Archived from <a class=\"external text\" href=\"http://www1.wne.edu/assets/10/WNE_History.pdf\" rel=\"nofollow\">the original</a> <span class=\"cs1-format\">(PDF)</span> on May 2, 2015<span class=\"reference-accessdate\">. Retrieved <span class=\"nowrap\">May 21,</span> 2014</span>.</cite><span class=\"Z3988\" title=\"ctx_ver=Z39.88-2004&amp;rft_val_fmt=info%3Aofi%2Ffmt%3Akev%3Amtx%3Abook&amp;rft.genre=unknown&amp;rft.btitle=Western+New+England%3A+From+College+to+University+A+Retrospective%3A+1919%E2%80%932011&amp;rft.pub=Western+New+England+University&amp;rft_id=http%3A%2F%2Fwww1.wne.edu%2Fassets%2F10%2FWNE_History.pdf&amp;rfr_id=info%3Asid%2Fen.wikipedia.org%3AGrace+Hopper\"></span></span>\n",
       "</li>\n",
       "<li id=\"cite_note-60\"><span class=\"mw-cite-backlink\"><b><a href=\"#cite_ref-60\">^</a></b></span> <span class=\"reference-text\"><link href=\"mw-data:TemplateStyles:r1133582631\" rel=\"mw-deduplicated-inline-style\"/><cite class=\"citation web cs1\"><a class=\"external text\" href=\"http://adminmanual.syr.edu/awards/honorary_1.html\" rel=\"nofollow\">\"SU Archives: Awards and Honors – Recipient of Honorary Degrees\"</a>. <i>adminmanual.syr.edu</i><span class=\"reference-accessdate\">. Retrieved <span class=\"nowrap\">September 28,</span> 2018</span>.</cite><span class=\"Z3988\" title=\"ctx_ver=Z39.88-2004&amp;rft_val_fmt=info%3Aofi%2Ffmt%3Akev%3Amtx%3Ajournal&amp;rft.genre=unknown&amp;rft.jtitle=adminmanual.syr.edu&amp;rft.atitle=SU+Archives%3A+Awards+and+Honors+%E2%80%93+Recipient+of+Honorary+Degrees&amp;rft_id=http%3A%2F%2Fadminmanual.syr.edu%2Fawards%2Fhonorary_1.html&amp;rfr_id=info%3Asid%2Fen.wikipedia.org%3AGrace+Hopper\"></span></span>\n",
       "</li>\n",
       "<li id=\"cite_note-61\"><span class=\"mw-cite-backlink\"><b><a href=\"#cite_ref-61\">^</a></b></span> <span class=\"reference-text\"><link href=\"mw-data:TemplateStyles:r1133582631\" rel=\"mw-deduplicated-inline-style\"/><cite class=\"citation web cs1\"><a class=\"external text\" href=\"https://web.archive.org/web/20150403184702/http://www.computerhistory.org/fellowawards/hall/bios/Grace,Hopper/\" rel=\"nofollow\">\"Grace Hopper – Computer History Museum Fellow Award Recipient\"</a>. Computerhistory.org. Archived from <a class=\"external text\" href=\"http://www.computerhistory.org/fellowawards/hall/bios/Grace,Hopper/\" rel=\"nofollow\">the original</a> on April 3, 2015<span class=\"reference-accessdate\">. Retrieved <span class=\"nowrap\">March 30,</span> 2015</span>.</cite><span class=\"Z3988\" title=\"ctx_ver=Z39.88-2004&amp;rft_val_fmt=info%3Aofi%2Ffmt%3Akev%3Amtx%3Abook&amp;rft.genre=unknown&amp;rft.btitle=Grace+Hopper+%E2%80%93+Computer+History+Museum+Fellow+Award+Recipient&amp;rft.pub=Computerhistory.org&amp;rft_id=http%3A%2F%2Fwww.computerhistory.org%2Ffellowawards%2Fhall%2Fbios%2FGrace%2CHopper%2F&amp;rfr_id=info%3Asid%2Fen.wikipedia.org%3AGrace+Hopper\"></span></span>\n",
       "</li>\n",
       "<li id=\"cite_note-62\"><span class=\"mw-cite-backlink\"><b><a href=\"#cite_ref-62\">^</a></b></span> <span class=\"reference-text\"><link href=\"mw-data:TemplateStyles:r1133582631\" rel=\"mw-deduplicated-inline-style\"/><cite class=\"citation web cs1\"><a class=\"external text\" href=\"https://www.toastmasters.org/Events/2014-International-Convention/~/media/843165263C024C3FB0AB1DC082FA61F7.ashx\" rel=\"nofollow\">\"Past Golden Gavel Recipients\"</a> <span class=\"cs1-format\">(PDF)</span>. Toastmasters International<span class=\"reference-accessdate\">. Retrieved <span class=\"nowrap\">December 7,</span> 2018</span>.</cite><span class=\"Z3988\" title=\"ctx_ver=Z39.88-2004&amp;rft_val_fmt=info%3Aofi%2Ffmt%3Akev%3Amtx%3Abook&amp;rft.genre=unknown&amp;rft.btitle=Past+Golden+Gavel+Recipients&amp;rft.pub=Toastmasters+International&amp;rft_id=https%3A%2F%2Fwww.toastmasters.org%2FEvents%2F2014-International-Convention%2F~%2Fmedia%2F843165263C024C3FB0AB1DC082FA61F7.ashx&amp;rfr_id=info%3Asid%2Fen.wikipedia.org%3AGrace+Hopper\"></span></span>\n",
       "</li>\n",
       "<li id=\"cite_note-:2-63\"><span class=\"mw-cite-backlink\"><b><a href=\"#cite_ref-:2_63-0\">^</a></b></span> <span class=\"reference-text\"><link href=\"mw-data:TemplateStyles:r1133582631\" rel=\"mw-deduplicated-inline-style\"/><cite class=\"citation book cs1\" id=\"CITEREFMitchell1994\">Mitchell, Carmen (1994). <i>The contributions of Grace Murray Hopper to computer science and computer education</i>. University of North Texas.</cite><span class=\"Z3988\" title=\"ctx_ver=Z39.88-2004&amp;rft_val_fmt=info%3Aofi%2Ffmt%3Akev%3Amtx%3Abook&amp;rft.genre=book&amp;rft.btitle=The+contributions+of+Grace+Murray+Hopper+to+computer+science+and+computer+education&amp;rft.pub=University+of+North+Texas&amp;rft.date=1994&amp;rft.aulast=Mitchell&amp;rft.aufirst=Carmen&amp;rfr_id=info%3Asid%2Fen.wikipedia.org%3AGrace+Hopper\"></span></span>\n",
       "</li>\n",
       "<li id=\"cite_note-AAAS-64\"><span class=\"mw-cite-backlink\"><b><a href=\"#cite_ref-AAAS_64-0\">^</a></b></span> <span class=\"reference-text\"><link href=\"mw-data:TemplateStyles:r1133582631\" rel=\"mw-deduplicated-inline-style\"/><cite class=\"citation web cs1\"><a class=\"external text\" href=\"https://web.archive.org/web/20181008160232/http://www.amacad.org/publications/BookofMembers/ChapterH.pdf\" rel=\"nofollow\">\"Book of Members, 1780–2010: Chapter H\"</a> <span class=\"cs1-format\">(PDF)</span>. American Academy of Arts and Sciences. Archived from <a class=\"external text\" href=\"http://www.amacad.org/publications/BookofMembers/ChapterH.pdf\" rel=\"nofollow\">the original</a> <span class=\"cs1-format\">(PDF)</span> on October 8, 2018.</cite><span class=\"Z3988\" title=\"ctx_ver=Z39.88-2004&amp;rft_val_fmt=info%3Aofi%2Ffmt%3Akev%3Amtx%3Abook&amp;rft.genre=unknown&amp;rft.btitle=Book+of+Members%2C+1780%E2%80%932010%3A+Chapter+H&amp;rft.pub=American+Academy+of+Arts+and+Sciences&amp;rft_id=http%3A%2F%2Fwww.amacad.org%2Fpublications%2FBookofMembers%2FChapterH.pdf&amp;rfr_id=info%3Asid%2Fen.wikipedia.org%3AGrace+Hopper\"></span></span>\n",
       "</li>\n",
       "<li id=\"cite_note-65\"><span class=\"mw-cite-backlink\"><b><a href=\"#cite_ref-65\">^</a></b></span> <span class=\"reference-text\"><link href=\"mw-data:TemplateStyles:r1133582631\" rel=\"mw-deduplicated-inline-style\"/><cite class=\"citation web cs1\"><a class=\"external text\" href=\"https://swe.org/scholarships/admiral-grace-murray-hopper-scholarship-est-1992/\" rel=\"nofollow\">\"Admiral Grace Murray Hopper Scholarship (Est. 1992)\"</a>. <i>Society of Women Engineers</i>. February 8, 2019<span class=\"reference-accessdate\">. Retrieved <span class=\"nowrap\">March 27,</span> 2020</span>.</cite><span class=\"Z3988\" title=\"ctx_ver=Z39.88-2004&amp;rft_val_fmt=info%3Aofi%2Ffmt%3Akev%3Amtx%3Ajournal&amp;rft.genre=unknown&amp;rft.jtitle=Society+of+Women+Engineers&amp;rft.atitle=Admiral+Grace+Murray+Hopper+Scholarship+%28Est.+1992%29&amp;rft.date=2019-02-08&amp;rft_id=https%3A%2F%2Fswe.org%2Fscholarships%2Fadmiral-grace-murray-hopper-scholarship-est-1992%2F&amp;rfr_id=info%3Asid%2Fen.wikipedia.org%3AGrace+Hopper\"></span></span>\n",
       "</li>\n",
       "<li id=\"cite_note-66\"><span class=\"mw-cite-backlink\"><b><a href=\"#cite_ref-66\">^</a></b></span> <span class=\"reference-text\"><link href=\"mw-data:TemplateStyles:r1133582631\" rel=\"mw-deduplicated-inline-style\"/><cite class=\"citation web cs1\"><a class=\"external text\" href=\"https://www.womenofthehall.org/inductee/grace-hopper/\" rel=\"nofollow\">\"Hopper, Grace\"</a>. <i>National Women’s Hall of Fame</i>.</cite><span class=\"Z3988\" title=\"ctx_ver=Z39.88-2004&amp;rft_val_fmt=info%3Aofi%2Ffmt%3Akev%3Amtx%3Ajournal&amp;rft.genre=unknown&amp;rft.jtitle=National+Women%E2%80%99s+Hall+of+Fame&amp;rft.atitle=Hopper%2C+Grace&amp;rft_id=https%3A%2F%2Fwww.womenofthehall.org%2Finductee%2Fgrace-hopper%2F&amp;rfr_id=info%3Asid%2Fen.wikipedia.org%3AGrace+Hopper\"></span></span>\n",
       "</li>\n",
       "<li id=\"cite_note-67\"><span class=\"mw-cite-backlink\"><b><a href=\"#cite_ref-67\">^</a></b></span> <span class=\"reference-text\"><link href=\"mw-data:TemplateStyles:r1133582631\" rel=\"mw-deduplicated-inline-style\"/><cite class=\"citation news cs1\" id=\"CITEREFRehak2001\">Rehak, Melanie (November 4, 2001). <a class=\"external text\" href=\"https://www.nytimes.com/2001/11/04/books/map-of-love.html\" rel=\"nofollow\">\"Map of Love\"</a>. <i>The New York Times</i>. <a class=\"mw-redirect\" href=\"/wiki/ISSN_(identifier)\" title=\"ISSN (identifier)\">ISSN</a> <a class=\"external text\" href=\"https://www.worldcat.org/issn/0362-4331\" rel=\"nofollow\">0362-4331</a><span class=\"reference-accessdate\">. Retrieved <span class=\"nowrap\">December 7,</span> 2018</span>.</cite><span class=\"Z3988\" title=\"ctx_ver=Z39.88-2004&amp;rft_val_fmt=info%3Aofi%2Ffmt%3Akev%3Amtx%3Ajournal&amp;rft.genre=article&amp;rft.jtitle=The+New+York+Times&amp;rft.atitle=Map+of+Love&amp;rft.date=2001-11-04&amp;rft.issn=0362-4331&amp;rft.aulast=Rehak&amp;rft.aufirst=Melanie&amp;rft_id=https%3A%2F%2Fwww.nytimes.com%2F2001%2F11%2F04%2Fbooks%2Fmap-of-love.html&amp;rfr_id=info%3Asid%2Fen.wikipedia.org%3AGrace+Hopper\"></span></span>\n",
       "</li>\n",
       "<li id=\"cite_note-68\"><span class=\"mw-cite-backlink\"><b><a href=\"#cite_ref-68\">^</a></b></span> <span class=\"reference-text\"><link href=\"mw-data:TemplateStyles:r1133582631\" rel=\"mw-deduplicated-inline-style\"/><cite class=\"citation web cs1\"><a class=\"external text\" href=\"http://www.govexec.com/technology/2002/04/the-2002-government-technology-leadership-awards/7622/\" rel=\"nofollow\">\"The 2002 Government Technology Leadership Awards\"</a>. Government Executive. April 1, 2002<span class=\"reference-accessdate\">. Retrieved <span class=\"nowrap\">May 20,</span> 2014</span>.</cite><span class=\"Z3988\" title=\"ctx_ver=Z39.88-2004&amp;rft_val_fmt=info%3Aofi%2Ffmt%3Akev%3Amtx%3Abook&amp;rft.genre=unknown&amp;rft.btitle=The+2002+Government+Technology+Leadership+Awards&amp;rft.pub=Government+Executive&amp;rft.date=2002-04-01&amp;rft_id=http%3A%2F%2Fwww.govexec.com%2Ftechnology%2F2002%2F04%2Fthe-2002-government-technology-leadership-awards%2F7622%2F&amp;rfr_id=info%3Asid%2Fen.wikipedia.org%3AGrace+Hopper\"></span></span>\n",
       "</li>\n",
       "<li id=\"cite_note-69\"><span class=\"mw-cite-backlink\"><b><a href=\"#cite_ref-69\">^</a></b></span> <span class=\"reference-text\"><link href=\"mw-data:TemplateStyles:r1133582631\" rel=\"mw-deduplicated-inline-style\"/><cite class=\"citation web cs1\"><a class=\"external text\" href=\"https://web.archive.org/web/20110325155710/http://www.nersc.gov/nusers/systems/hopper/\" rel=\"nofollow\">\"Hopper Home Page\"</a>. nersc.gov. Archived from <a class=\"external text\" href=\"http://www.nersc.gov/nusers/systems/hopper/\" rel=\"nofollow\">the original</a> on March 25, 2011<span class=\"reference-accessdate\">. Retrieved <span class=\"nowrap\">June 3,</span> 2010</span>.</cite><span class=\"Z3988\" title=\"ctx_ver=Z39.88-2004&amp;rft_val_fmt=info%3Aofi%2Ffmt%3Akev%3Amtx%3Abook&amp;rft.genre=unknown&amp;rft.btitle=Hopper+Home+Page&amp;rft.pub=nersc.gov&amp;rft_id=http%3A%2F%2Fwww.nersc.gov%2Fnusers%2Fsystems%2Fhopper%2F&amp;rfr_id=info%3Asid%2Fen.wikipedia.org%3AGrace+Hopper\"></span></span>\n",
       "</li>\n",
       "<li id=\"cite_note-70\"><span class=\"mw-cite-backlink\"><b><a href=\"#cite_ref-70\">^</a></b></span> <span class=\"reference-text\"><link href=\"mw-data:TemplateStyles:r1133582631\" rel=\"mw-deduplicated-inline-style\"/><cite class=\"citation cs2\" id=\"CITEREFRobert_K._Ackerman2009\">Robert K. Ackerman (February 2009), <a class=\"external text\" href=\"http://www.afcea.org/content/?q=node/1831\" rel=\"nofollow\">\"Naval Intelligence Ramps up Activities\"</a>, <i>Signals</i></cite><span class=\"Z3988\" title=\"ctx_ver=Z39.88-2004&amp;rft_val_fmt=info%3Aofi%2Ffmt%3Akev%3Amtx%3Ajournal&amp;rft.genre=article&amp;rft.jtitle=Signals&amp;rft.atitle=Naval+Intelligence+Ramps+up+Activities&amp;rft.date=2009-02&amp;rft.au=Robert+K.+Ackerman&amp;rft_id=http%3A%2F%2Fwww.afcea.org%2Fcontent%2F%3Fq%3Dnode%2F1831&amp;rfr_id=info%3Asid%2Fen.wikipedia.org%3AGrace+Hopper\"></span></span>\n",
       "</li>\n",
       "<li id=\"cite_note-Google_Doodle-71\"><span class=\"mw-cite-backlink\"><b><a href=\"#cite_ref-Google_Doodle_71-0\">^</a></b></span> <span class=\"reference-text\"><link href=\"mw-data:TemplateStyles:r1133582631\" rel=\"mw-deduplicated-inline-style\"/><cite class=\"citation web cs1\"><a class=\"external text\" href=\"https://www.google.com/doodles/grace-hoppers-107th-birthday\" rel=\"nofollow\">\"Grace Hopper's 107th Birthday\"</a><span class=\"reference-accessdate\">. Retrieved <span class=\"nowrap\">December 9,</span> 2013</span>.</cite><span class=\"Z3988\" title=\"ctx_ver=Z39.88-2004&amp;rft_val_fmt=info%3Aofi%2Ffmt%3Akev%3Amtx%3Abook&amp;rft.genre=unknown&amp;rft.btitle=Grace+Hopper%27s+107th+Birthday&amp;rft_id=https%3A%2F%2Fwww.google.com%2Fdoodles%2Fgrace-hoppers-107th-birthday&amp;rfr_id=info%3Asid%2Fen.wikipedia.org%3AGrace+Hopper\"></span></span>\n",
       "</li>\n",
       "<li id=\"cite_note-72\"><span class=\"mw-cite-backlink\"><b><a href=\"#cite_ref-72\">^</a></b></span> <span class=\"reference-text\"><link href=\"mw-data:TemplateStyles:r1133582631\" rel=\"mw-deduplicated-inline-style\"/><cite class=\"citation news cs1\" id=\"CITEREFMatthew_Sparkes2013\">Matthew Sparkes (December 9, 2013). <span class=\"cs1-lock-subscription\" title=\"Paid subscription required\"><a class=\"external text\" href=\"https://www.telegraph.co.uk/technology/google/google-doodle/10505145/Grace-Hopper-honoured-with-Google-doodle.html\" rel=\"nofollow\">\"Grace Hopper honoured with Google doodle\"</a></span>. <i>The Daily Telegraph</i>. London. <a class=\"external text\" href=\"https://ghostarchive.org/archive/20220112/https://www.telegraph.co.uk/technology/google/google-doodle/10505145/Grace-Hopper-honoured-with-Google-doodle.html\" rel=\"nofollow\">Archived</a> from the original on January 12, 2022<span class=\"reference-accessdate\">. Retrieved <span class=\"nowrap\">December 9,</span> 2013</span>.</cite><span class=\"Z3988\" title=\"ctx_ver=Z39.88-2004&amp;rft_val_fmt=info%3Aofi%2Ffmt%3Akev%3Amtx%3Ajournal&amp;rft.genre=article&amp;rft.jtitle=The+Daily+Telegraph&amp;rft.atitle=Grace+Hopper+honoured+with+Google+doodle&amp;rft.date=2013-12-09&amp;rft.au=Matthew+Sparkes&amp;rft_id=https%3A%2F%2Fwww.telegraph.co.uk%2Ftechnology%2Fgoogle%2Fgoogle-doodle%2F10505145%2FGrace-Hopper-honoured-with-Google-doodle.html&amp;rfr_id=info%3Asid%2Fen.wikipedia.org%3AGrace+Hopper\"></span></span>\n",
       "</li>\n",
       "<li id=\"cite_note-73\"><span class=\"mw-cite-backlink\"><b><a href=\"#cite_ref-73\">^</a></b></span> <span class=\"reference-text\"><link href=\"mw-data:TemplateStyles:r1133582631\" rel=\"mw-deduplicated-inline-style\"/><cite class=\"citation web cs1\"><a class=\"external text\" href=\"https://www.npr.org/sections/thetwo-way/2016/11/16/502347068/these-are-the-21-people-receiving-the-nations-highest-civilian-honor\" rel=\"nofollow\">\"These Are The 21 People Receiving The Nation's Highest Civilian Honor\"</a>. <i>NPR</i>. November 16, 2016<span class=\"reference-accessdate\">. Retrieved <span class=\"nowrap\">November 16,</span> 2016</span>.</cite><span class=\"Z3988\" title=\"ctx_ver=Z39.88-2004&amp;rft_val_fmt=info%3Aofi%2Ffmt%3Akev%3Amtx%3Ajournal&amp;rft.genre=unknown&amp;rft.jtitle=NPR&amp;rft.atitle=These+Are+The+21+People+Receiving+The+Nation%27s+Highest+Civilian+Honor&amp;rft.date=2016-11-16&amp;rft_id=https%3A%2F%2Fwww.npr.org%2Fsections%2Fthetwo-way%2F2016%2F11%2F16%2F502347068%2Fthese-are-the-21-people-receiving-the-nations-highest-civilian-honor&amp;rfr_id=info%3Asid%2Fen.wikipedia.org%3AGrace+Hopper\"></span></span>\n",
       "</li>\n",
       "<li id=\"cite_note-74\"><span class=\"mw-cite-backlink\"><b><a href=\"#cite_ref-74\">^</a></b></span> <span class=\"reference-text\"><link href=\"mw-data:TemplateStyles:r1133582631\" rel=\"mw-deduplicated-inline-style\"/><cite class=\"citation news cs1\"><span class=\"cs1-lock-limited\" title=\"Free access subject to limited trial, subscription normally required\"><a class=\"external text\" href=\"https://www.nytimes.com/2017/09/03/nyregion/yale-calhoun-college-grace-hopper.html\" rel=\"nofollow\">\"Calhoun Who? Yale Drops Name of Slavery Advocate for Computer Pioneer\"</a></span>. <i><a href=\"/wiki/The_New_York_Times\" title=\"The New York Times\">The New York Times</a></i>. September 3, 2017. <a class=\"external text\" href=\"https://ghostarchive.org/archive/20220102/https://www.nytimes.com/2017/09/03/nyregion/yale-calhoun-college-grace-hopper.html\" rel=\"nofollow\">Archived</a> from the original on January 2, 2022<span class=\"reference-accessdate\">. Retrieved <span class=\"nowrap\">September 3,</span> 2017</span>.</cite><span class=\"Z3988\" title=\"ctx_ver=Z39.88-2004&amp;rft_val_fmt=info%3Aofi%2Ffmt%3Akev%3Amtx%3Ajournal&amp;rft.genre=article&amp;rft.jtitle=The+New+York+Times&amp;rft.atitle=Calhoun+Who%3F+Yale+Drops+Name+of+Slavery+Advocate+for+Computer+Pioneer&amp;rft.date=2017-09-03&amp;rft_id=https%3A%2F%2Fwww.nytimes.com%2F2017%2F09%2F03%2Fnyregion%2Fyale-calhoun-college-grace-hopper.html&amp;rfr_id=info%3Asid%2Fen.wikipedia.org%3AGrace+Hopper\"></span></span>\n",
       "</li>\n",
       "<li id=\"cite_note-75\"><span class=\"mw-cite-backlink\"><b><a href=\"#cite_ref-75\">^</a></b></span> <span class=\"reference-text\"><link href=\"mw-data:TemplateStyles:r1133582631\" rel=\"mw-deduplicated-inline-style\"/><cite class=\"citation web cs1\"><a class=\"external text\" href=\"https://cic.ndu.edu/Events/Hopper-Award/\" rel=\"nofollow\">\"The Admiral Grace Hopper Award\"</a>. <i><a href=\"/wiki/College_of_Information_and_Cyberspace\" title=\"College of Information and Cyberspace\">College of Information and Cyberspace</a></i><span class=\"reference-accessdate\">. Retrieved <span class=\"nowrap\">July 14,</span> 2021</span>.</cite><span class=\"Z3988\" title=\"ctx_ver=Z39.88-2004&amp;rft_val_fmt=info%3Aofi%2Ffmt%3Akev%3Amtx%3Ajournal&amp;rft.genre=unknown&amp;rft.jtitle=College+of+Information+and+Cyberspace&amp;rft.atitle=The+Admiral+Grace+Hopper+Award&amp;rft_id=https%3A%2F%2Fcic.ndu.edu%2FEvents%2FHopper-Award%2F&amp;rfr_id=info%3Asid%2Fen.wikipedia.org%3AGrace+Hopper\"></span></span>\n",
       "</li>\n",
       "<li id=\"cite_note-76\"><span class=\"mw-cite-backlink\"><b><a href=\"#cite_ref-76\">^</a></b></span> <span class=\"reference-text\"><link href=\"mw-data:TemplateStyles:r1133582631\" rel=\"mw-deduplicated-inline-style\"/><cite class=\"citation web cs1\"><a class=\"external text\" href=\"https://web.archive.org/web/20030217215324/http://web.mit.edu/invent/iow/hopper.html\" rel=\"nofollow\">\"Inventor of the Week: Archive\"</a>. Web.mit.edu. Archived from <a class=\"external text\" href=\"http://web.mit.edu/invent/iow/hopper.html\" rel=\"nofollow\">the original</a> on February 17, 2003<span class=\"reference-accessdate\">. Retrieved <span class=\"nowrap\">December 9,</span> 2013</span>.</cite><span class=\"Z3988\" title=\"ctx_ver=Z39.88-2004&amp;rft_val_fmt=info%3Aofi%2Ffmt%3Akev%3Amtx%3Abook&amp;rft.genre=unknown&amp;rft.btitle=Inventor+of+the+Week%3A+Archive&amp;rft.pub=Web.mit.edu&amp;rft_id=http%3A%2F%2Fweb.mit.edu%2Finvent%2Fiow%2Fhopper.html&amp;rfr_id=info%3Asid%2Fen.wikipedia.org%3AGrace+Hopper\"></span></span>\n",
       "</li>\n",
       "<li id=\"cite_note-77\"><span class=\"mw-cite-backlink\"><b><a href=\"#cite_ref-77\">^</a></b></span> <span class=\"reference-text\"><link href=\"mw-data:TemplateStyles:r1133582631\" rel=\"mw-deduplicated-inline-style\"/><cite class=\"citation web cs1\"><a class=\"external text\" href=\"http://www-history.mcs.st-and.ac.uk/Biographies/Hopper.html\" rel=\"nofollow\">\"Hopper biography\"</a>. History.mcs.st-and.ac.uk<span class=\"reference-accessdate\">. Retrieved <span class=\"nowrap\">December 9,</span> 2013</span>.</cite><span class=\"Z3988\" title=\"ctx_ver=Z39.88-2004&amp;rft_val_fmt=info%3Aofi%2Ffmt%3Akev%3Amtx%3Abook&amp;rft.genre=unknown&amp;rft.btitle=Hopper+biography&amp;rft.pub=History.mcs.st-and.ac.uk&amp;rft_id=http%3A%2F%2Fwww-history.mcs.st-and.ac.uk%2FBiographies%2FHopper.html&amp;rfr_id=info%3Asid%2Fen.wikipedia.org%3AGrace+Hopper\"></span></span>\n",
       "</li>\n",
       "<li id=\"cite_note-78\"><span class=\"mw-cite-backlink\"><b><a href=\"#cite_ref-78\">^</a></b></span> <span class=\"reference-text\"><link href=\"mw-data:TemplateStyles:r1133582631\" rel=\"mw-deduplicated-inline-style\"/><cite class=\"citation web cs1\"><a class=\"external text\" href=\"https://web.archive.org/web/20130515000852/http://www.history.navy.mil/bios/hopper_grace.htm#honors\" rel=\"nofollow\">\"Biography – Rear Admiral Grace Murray Hopper, USN\"</a>. United States Navy. Archived from <a class=\"external text\" href=\"http://www.history.navy.mil/bios/hopper_grace.htm#honors\" rel=\"nofollow\">the original</a> on May 15, 2013<span class=\"reference-accessdate\">. Retrieved <span class=\"nowrap\">December 9,</span> 2013</span>.</cite><span class=\"Z3988\" title=\"ctx_ver=Z39.88-2004&amp;rft_val_fmt=info%3Aofi%2Ffmt%3Akev%3Amtx%3Abook&amp;rft.genre=unknown&amp;rft.btitle=Biography+%E2%80%93+Rear+Admiral+Grace+Murray+Hopper%2C+USN&amp;rft.pub=United+States+Navy&amp;rft_id=http%3A%2F%2Fwww.history.navy.mil%2Fbios%2Fhopper_grace.htm%23honors&amp;rfr_id=info%3Asid%2Fen.wikipedia.org%3AGrace+Hopper\"></span></span>\n",
       "</li>\n",
       "<li id=\"cite_note-79\"><span class=\"mw-cite-backlink\"><b><a href=\"#cite_ref-79\">^</a></b></span> <span class=\"reference-text\"><a class=\"external text\" href=\"https://www.imdb.com/title/tt3545258/\" rel=\"nofollow\"><i>Born with Curiosity: The Grace Hopper Story</i></a> at <a href=\"/wiki/IMDb\" title=\"IMDb\">IMDb</a></span>\n",
       "</li>\n",
       "<li id=\"cite_note-80\"><span class=\"mw-cite-backlink\"><b><a href=\"#cite_ref-80\">^</a></b></span> <span class=\"reference-text\"><link href=\"mw-data:TemplateStyles:r1133582631\" rel=\"mw-deduplicated-inline-style\"/><cite class=\"citation web cs1\"><a class=\"external text\" href=\"https://www.nvidia.com/en-us/data-center/grace-cpu/\" rel=\"nofollow\">\"Introducing Grace\"</a>.</cite><span class=\"Z3988\" title=\"ctx_ver=Z39.88-2004&amp;rft_val_fmt=info%3Aofi%2Ffmt%3Akev%3Amtx%3Abook&amp;rft.genre=unknown&amp;rft.btitle=Introducing+Grace&amp;rft_id=https%3A%2F%2Fwww.nvidia.com%2Fen-us%2Fdata-center%2Fgrace-cpu%2F&amp;rfr_id=info%3Asid%2Fen.wikipedia.org%3AGrace+Hopper\"></span></span>\n",
       "</li>\n",
       "<li id=\"cite_note-81\"><span class=\"mw-cite-backlink\"><b><a href=\"#cite_ref-81\">^</a></b></span> <span class=\"reference-text\">🖉<link href=\"mw-data:TemplateStyles:r1133582631\" rel=\"mw-deduplicated-inline-style\"/><cite class=\"citation web cs1\"><a class=\"external text\" href=\"https://www.military.com/daily-news/2021/04/07/navy-destroyer-hoppers-1st-female-commanding-officer-fired-over-morale-problems.html/amp\" rel=\"nofollow\">\"Navy Destroyer Hopper's Commanding Officer Fired Over Morale Problems\"</a>. <i>www.military.com</i>.</cite><span class=\"Z3988\" title=\"ctx_ver=Z39.88-2004&amp;rft_val_fmt=info%3Aofi%2Ffmt%3Akev%3Amtx%3Ajournal&amp;rft.genre=unknown&amp;rft.jtitle=www.military.com&amp;rft.atitle=Navy+Destroyer+Hopper%27s+Commanding+Officer+Fired+Over+Morale+Problems&amp;rft_id=https%3A%2F%2Fwww.military.com%2Fdaily-news%2F2021%2F04%2F07%2Fnavy-destroyer-hoppers-1st-female-commanding-officer-fired-over-morale-problems.html%2Famp&amp;rfr_id=info%3Asid%2Fen.wikipedia.org%3AGrace+Hopper\"></span></span>\n",
       "</li>\n",
       "<li id=\"cite_note-82\"><span class=\"mw-cite-backlink\"><b><a href=\"#cite_ref-82\">^</a></b></span> <span class=\"reference-text\"><link href=\"mw-data:TemplateStyles:r1133582631\" rel=\"mw-deduplicated-inline-style\"/><cite class=\"citation web cs1\"><a class=\"external text\" href=\"https://www.fnmoc.navy.mil/home/\" rel=\"nofollow\">\"Fleet Numerical Meteorology and Oceanography Center\"</a>. United States Navy<span class=\"reference-accessdate\">. Retrieved <span class=\"nowrap\">December 7,</span> 2018</span>.</cite><span class=\"Z3988\" title=\"ctx_ver=Z39.88-2004&amp;rft_val_fmt=info%3Aofi%2Ffmt%3Akev%3Amtx%3Abook&amp;rft.genre=unknown&amp;rft.btitle=Fleet+Numerical+Meteorology+and+Oceanography+Center&amp;rft.pub=United+States+Navy&amp;rft_id=https%3A%2F%2Fwww.fnmoc.navy.mil%2Fhome%2F&amp;rfr_id=info%3Asid%2Fen.wikipedia.org%3AGrace+Hopper\"></span></span>\n",
       "</li>\n",
       "<li id=\"cite_note-83\"><span class=\"mw-cite-backlink\"><b><a href=\"#cite_ref-83\">^</a></b></span> <span class=\"reference-text\"><link href=\"mw-data:TemplateStyles:r1133582631\" rel=\"mw-deduplicated-inline-style\"/><cite class=\"citation web cs1\"><a class=\"external text\" href=\"https://www.weather.gov/mtr/\" rel=\"nofollow\">\"San Francisco Bay Area, CA\"</a>. <i>National Weather Service</i>. <a class=\"mw-redirect\" href=\"/wiki/NOAA\" title=\"NOAA\">NOAA</a><span class=\"reference-accessdate\">. Retrieved <span class=\"nowrap\">December 7,</span> 2018</span>.</cite><span class=\"Z3988\" title=\"ctx_ver=Z39.88-2004&amp;rft_val_fmt=info%3Aofi%2Ffmt%3Akev%3Amtx%3Ajournal&amp;rft.genre=unknown&amp;rft.jtitle=National+Weather+Service&amp;rft.atitle=San+Francisco+Bay+Area%2C+CA&amp;rft_id=https%3A%2F%2Fwww.weather.gov%2Fmtr%2F&amp;rfr_id=info%3Asid%2Fen.wikipedia.org%3AGrace+Hopper\"></span></span>\n",
       "</li>\n",
       "<li id=\"cite_note-84\"><span class=\"mw-cite-backlink\"><b><a href=\"#cite_ref-84\">^</a></b></span> <span class=\"reference-text\"><link href=\"mw-data:TemplateStyles:r1133582631\" rel=\"mw-deduplicated-inline-style\"/><cite class=\"citation web cs1\"><a class=\"external text\" href=\"https://www.history.navy.mil/our-collections/photography/numerical-list-of-images/nhhc-series/nh-series/NH-96000/NH-96929.html\" rel=\"nofollow\">\"NH 96929 Commodore Grace M. Hopper, USNR\"</a>. <i>Naval History and Heritage Command</i>. United States Navy<span class=\"reference-accessdate\">. Retrieved <span class=\"nowrap\">December 7,</span> 2018</span>.</cite><span class=\"Z3988\" title=\"ctx_ver=Z39.88-2004&amp;rft_val_fmt=info%3Aofi%2Ffmt%3Akev%3Amtx%3Ajournal&amp;rft.genre=unknown&amp;rft.jtitle=Naval+History+and+Heritage+Command&amp;rft.atitle=NH+96929+Commodore+Grace+M.+Hopper%2C+USNR&amp;rft_id=https%3A%2F%2Fwww.history.navy.mil%2Four-collections%2Fphotography%2Fnumerical-list-of-images%2Fnhhc-series%2Fnh-series%2FNH-96000%2FNH-96929.html&amp;rfr_id=info%3Asid%2Fen.wikipedia.org%3AGrace+Hopper\"></span></span>\n",
       "</li>\n",
       "<li id=\"cite_note-85\"><span class=\"mw-cite-backlink\"><b><a href=\"#cite_ref-85\">^</a></b></span> <span class=\"reference-text\"><link href=\"mw-data:TemplateStyles:r1133582631\" rel=\"mw-deduplicated-inline-style\"/><cite class=\"citation web cs1\"><a class=\"external text\" href=\"https://parks.arlingtonva.us/locations/grace-murray-hopper-park/\" rel=\"nofollow\">\"Grace Murray Hopper Park\"</a>. <i>Parks &amp; Recreation</i>. Arlington County Government<span class=\"reference-accessdate\">. Retrieved <span class=\"nowrap\">December 7,</span> 2018</span>.</cite><span class=\"Z3988\" title=\"ctx_ver=Z39.88-2004&amp;rft_val_fmt=info%3Aofi%2Ffmt%3Akev%3Amtx%3Ajournal&amp;rft.genre=unknown&amp;rft.jtitle=Parks+%26+Recreation&amp;rft.atitle=Grace+Murray+Hopper+Park&amp;rft_id=https%3A%2F%2Fparks.arlingtonva.us%2Flocations%2Fgrace-murray-hopper-park%2F&amp;rfr_id=info%3Asid%2Fen.wikipedia.org%3AGrace+Hopper\"></span></span>\n",
       "</li>\n",
       "<li id=\"cite_note-86\"><span class=\"mw-cite-backlink\"><b><a href=\"#cite_ref-86\">^</a></b></span> <span class=\"reference-text\"><link href=\"mw-data:TemplateStyles:r1133582631\" rel=\"mw-deduplicated-inline-style\"/><cite class=\"citation web cs1\"><a class=\"external text\" href=\"https://web.archive.org/web/20140911001753/http://www.brewsteracademy.org/customized/uploads/documents/Summer2007CorrectedWithCovers.pdf\" rel=\"nofollow\">\"Brewster Connections: Summer 2007\"</a> <span class=\"cs1-format\">(PDF)</span>. Archived from <a class=\"external text\" href=\"http://www.brewsteracademy.org/customized/uploads/documents/Summer2007CorrectedWithCovers.pdf\" rel=\"nofollow\">the original</a> <span class=\"cs1-format\">(PDF)</span> on September 11, 2014<span class=\"reference-accessdate\">. Retrieved <span class=\"nowrap\">March 20,</span> 2013</span>.</cite><span class=\"Z3988\" title=\"ctx_ver=Z39.88-2004&amp;rft_val_fmt=info%3Aofi%2Ffmt%3Akev%3Amtx%3Abook&amp;rft.genre=unknown&amp;rft.btitle=Brewster+Connections%3A+Summer+2007&amp;rft_id=http%3A%2F%2Fwww.brewsteracademy.org%2Fcustomized%2Fuploads%2Fdocuments%2FSummer2007CorrectedWithCovers.pdf&amp;rfr_id=info%3Asid%2Fen.wikipedia.org%3AGrace+Hopper\"></span></span>\n",
       "</li>\n",
       "<li id=\"cite_note-yalenews_2017-87\"><span class=\"mw-cite-backlink\"><b><a href=\"#cite_ref-yalenews_2017_87-0\">^</a></b></span> <span class=\"reference-text\"><link href=\"mw-data:TemplateStyles:r1133582631\" rel=\"mw-deduplicated-inline-style\"/><cite class=\"citation web cs1\"><a class=\"external text\" href=\"http://news.yale.edu/2017/02/11/yale-change-calhoun-college-s-name-honor-grace-murray-hopper-0\" rel=\"nofollow\">\"Yale to change Calhoun College's name to honor Grace Murray Hopper\"</a>. <i>YaleNews</i>. February 11, 2017<span class=\"reference-accessdate\">. Retrieved <span class=\"nowrap\">February 12,</span> 2017</span>.</cite><span class=\"Z3988\" title=\"ctx_ver=Z39.88-2004&amp;rft_val_fmt=info%3Aofi%2Ffmt%3Akev%3Amtx%3Ajournal&amp;rft.genre=unknown&amp;rft.jtitle=YaleNews&amp;rft.atitle=Yale+to+change+Calhoun+College%27s+name+to+honor+Grace+Murray+Hopper&amp;rft.date=2017-02-11&amp;rft_id=http%3A%2F%2Fnews.yale.edu%2F2017%2F02%2F11%2Fyale-change-calhoun-college-s-name-honor-grace-murray-hopper-0&amp;rfr_id=info%3Asid%2Fen.wikipedia.org%3AGrace+Hopper\"></span></span>\n",
       "</li>\n",
       "<li id=\"cite_note-88\"><span class=\"mw-cite-backlink\"><b><a href=\"#cite_ref-88\">^</a></b></span> <span class=\"reference-text\"><link href=\"mw-data:TemplateStyles:r1133582631\" rel=\"mw-deduplicated-inline-style\"/><cite class=\"citation news cs1\" id=\"CITEREFWitte2017\">Witte, Brian (August 7, 2017). <a class=\"external text\" href=\"https://www.navy/%20times.com/pay-benefits/military-benefits/2016/09/08/naval-academy-to-honor-computer-scientist-grace-hopper/\" rel=\"nofollow\">\"Naval Academy to honor computer scientist Grace Hopper\"</a>. <i>Navy Times</i>. Associated Press<span class=\"reference-accessdate\">. Retrieved <span class=\"nowrap\">December 7,</span> 2018</span>.</cite><span class=\"Z3988\" title=\"ctx_ver=Z39.88-2004&amp;rft_val_fmt=info%3Aofi%2Ffmt%3Akev%3Amtx%3Ajournal&amp;rft.genre=article&amp;rft.jtitle=Navy+Times&amp;rft.atitle=Naval+Academy+to+honor+computer+scientist+Grace+Hopper&amp;rft.date=2017-08-07&amp;rft.aulast=Witte&amp;rft.aufirst=Brian&amp;rft_id=https%3A%2F%2Fwww.navy%2F%2520times.com%2Fpay-benefits%2Fmilitary-benefits%2F2016%2F09%2F08%2Fnaval-academy-to-honor-computer-scientist-grace-hopper%2F&amp;rfr_id=info%3Asid%2Fen.wikipedia.org%3AGrace+Hopper\"></span></span>\n",
       "</li>\n",
       "<li id=\"cite_note-89\"><span class=\"mw-cite-backlink\"><b><a href=\"#cite_ref-89\">^</a></b></span> <span class=\"reference-text\"><link href=\"mw-data:TemplateStyles:r1133582631\" rel=\"mw-deduplicated-inline-style\"/><cite class=\"citation pressrelease cs1\"><a class=\"external text\" href=\"https://www.hpc.mil/index.php/2013-08-29-16-06-21/press-releases/us-naval-academy-dedicates-new-supercomputer\" rel=\"nofollow\">\"US Naval Academy Dedicates New Supercomputer\"</a> (Press release). Department of Defense High Performance Computing Modernization Program. August 29, 2013<span class=\"reference-accessdate\">. Retrieved <span class=\"nowrap\">December 7,</span> 2018</span>.</cite><span class=\"Z3988\" title=\"ctx_ver=Z39.88-2004&amp;rft_val_fmt=info%3Aofi%2Ffmt%3Akev%3Amtx%3Abook&amp;rft.genre=unknown&amp;rft.btitle=US+Naval+Academy+Dedicates+New+Supercomputer&amp;rft.pub=Department+of+Defense+High+Performance+Computing+Modernization+Program&amp;rft.date=2013-08-29&amp;rft_id=https%3A%2F%2Fwww.hpc.mil%2Findex.php%2F2013-08-29-16-06-21%2Fpress-releases%2Fus-naval-academy-dedicates-new-supercomputer&amp;rfr_id=info%3Asid%2Fen.wikipedia.org%3AGrace+Hopper\"></span></span>\n",
       "</li>\n",
       "<li id=\"cite_note-90\"><span class=\"mw-cite-backlink\"><b><a href=\"#cite_ref-90\">^</a></b></span> <span class=\"reference-text\"><link href=\"mw-data:TemplateStyles:r1133582631\" rel=\"mw-deduplicated-inline-style\"/><cite class=\"citation web cs1\"><a class=\"external text\" href=\"https://www.public.navy.mil/fltfor/nctssandiego/Pages/Museums.aspx\" rel=\"nofollow\">\"Grace Hopper Museum\"</a>. <i>United States Navy</i><span class=\"reference-accessdate\">. Retrieved <span class=\"nowrap\">December 7,</span> 2018</span>.</cite><span class=\"Z3988\" title=\"ctx_ver=Z39.88-2004&amp;rft_val_fmt=info%3Aofi%2Ffmt%3Akev%3Amtx%3Ajournal&amp;rft.genre=unknown&amp;rft.jtitle=United+States+Navy&amp;rft.atitle=Grace+Hopper+Museum&amp;rft_id=https%3A%2F%2Fwww.public.navy.mil%2Ffltfor%2Fnctssandiego%2FPages%2FMuseums.aspx&amp;rfr_id=info%3Asid%2Fen.wikipedia.org%3AGrace+Hopper\"></span></span>\n",
       "</li>\n",
       "<li id=\"cite_note-91\"><span class=\"mw-cite-backlink\"><b><a href=\"#cite_ref-91\">^</a></b></span> <span class=\"reference-text\"><link href=\"mw-data:TemplateStyles:r1133582631\" rel=\"mw-deduplicated-inline-style\"/><cite class=\"citation web cs1\"><a class=\"external text\" href=\"https://www.army.mil/article/53927/new_campus_built_on_tradition_of_excellence\" rel=\"nofollow\">\"New campus built on tradition of excellence\"</a>. <i>United States Army</i><span class=\"reference-accessdate\">. Retrieved <span class=\"nowrap\">December 7,</span> 2018</span>.</cite><span class=\"Z3988\" title=\"ctx_ver=Z39.88-2004&amp;rft_val_fmt=info%3Aofi%2Ffmt%3Akev%3Amtx%3Ajournal&amp;rft.genre=unknown&amp;rft.jtitle=United+States+Army&amp;rft.atitle=New+campus+built+on+tradition+of+excellence&amp;rft_id=https%3A%2F%2Fwww.army.mil%2Farticle%2F53927%2Fnew_campus_built_on_tradition_of_excellence&amp;rfr_id=info%3Asid%2Fen.wikipedia.org%3AGrace+Hopper\"></span></span>\n",
       "</li>\n",
       "<li id=\"cite_note-92\"><span class=\"mw-cite-backlink\"><b><a href=\"#cite_ref-92\">^</a></b></span> <span class=\"reference-text\"><link href=\"mw-data:TemplateStyles:r1133582631\" rel=\"mw-deduplicated-inline-style\"/><cite class=\"citation news cs1\" id=\"CITEREFCline2018\">Cline, Damon (July 14, 2018). <a class=\"external text\" href=\"https://www.augustachronicle.com/business/20180714/scuttlebiz-ribbon-was-worthy-adversary-but-not-for-deals-penknife\" rel=\"nofollow\">\"Scuttlebiz: Ribbon was worthy adversary, but not for Deal's penknife\"</a>. <i><a href=\"/wiki/The_Augusta_Chronicle\" title=\"The Augusta Chronicle\">The Augusta Chronicle</a></i><span class=\"reference-accessdate\">. Retrieved <span class=\"nowrap\">December 7,</span> 2018</span>.</cite><span class=\"Z3988\" title=\"ctx_ver=Z39.88-2004&amp;rft_val_fmt=info%3Aofi%2Ffmt%3Akev%3Amtx%3Ajournal&amp;rft.genre=article&amp;rft.jtitle=The+Augusta+Chronicle&amp;rft.atitle=Scuttlebiz%3A+Ribbon+was+worthy+adversary%2C+but+not+for+Deal%27s+penknife&amp;rft.date=2018-07-14&amp;rft.aulast=Cline&amp;rft.aufirst=Damon&amp;rft_id=https%3A%2F%2Fwww.augustachronicle.com%2Fbusiness%2F20180714%2Fscuttlebiz-ribbon-was-worthy-adversary-but-not-for-deals-penknife&amp;rfr_id=info%3Asid%2Fen.wikipedia.org%3AGrace+Hopper\"></span></span>\n",
       "</li>\n",
       "<li id=\"cite_note-93\"><span class=\"mw-cite-backlink\"><b><a href=\"#cite_ref-93\">^</a></b></span> <span class=\"reference-text\"><link href=\"mw-data:TemplateStyles:r1133582631\" rel=\"mw-deduplicated-inline-style\"/><cite class=\"citation web cs1\"><a class=\"external text\" href=\"http://gracehopper.com/\" rel=\"nofollow\">\"Grace Hopper Academy\"</a>. <i>gracehopper.com</i><span class=\"reference-accessdate\">. Retrieved <span class=\"nowrap\">October 15,</span> 2015</span>.</cite><span class=\"Z3988\" title=\"ctx_ver=Z39.88-2004&amp;rft_val_fmt=info%3Aofi%2Ffmt%3Akev%3Amtx%3Ajournal&amp;rft.genre=unknown&amp;rft.jtitle=gracehopper.com&amp;rft.atitle=Grace+Hopper+Academy&amp;rft_id=http%3A%2F%2Fgracehopper.com%2F&amp;rfr_id=info%3Asid%2Fen.wikipedia.org%3AGrace+Hopper\"></span></span>\n",
       "</li>\n",
       "<li id=\"cite_note-94\"><span class=\"mw-cite-backlink\"><b><a href=\"#cite_ref-94\">^</a></b></span> <span class=\"reference-text\"><link href=\"mw-data:TemplateStyles:r1133582631\" rel=\"mw-deduplicated-inline-style\"/><cite class=\"citation web cs1\"><a class=\"external text\" href=\"http://www.ibtimes.com/exclusive-grace-hopper-academy-all-women-coding-school-open-new-york-2141588\" rel=\"nofollow\">\"Exclusive: Grace Hopper Academy, An All-Women Coding School, To Open in New York\"</a>. <i>International Business Times</i>. October 15, 2015<span class=\"reference-accessdate\">. Retrieved <span class=\"nowrap\">October 15,</span> 2015</span>.</cite><span class=\"Z3988\" title=\"ctx_ver=Z39.88-2004&amp;rft_val_fmt=info%3Aofi%2Ffmt%3Akev%3Amtx%3Ajournal&amp;rft.genre=unknown&amp;rft.jtitle=International+Business+Times&amp;rft.atitle=Exclusive%3A+Grace+Hopper+Academy%2C+An+All-Women+Coding+School%2C+To+Open+in+New+York&amp;rft.date=2015-10-15&amp;rft_id=http%3A%2F%2Fwww.ibtimes.com%2Fexclusive-grace-hopper-academy-all-women-coding-school-open-new-york-2141588&amp;rfr_id=info%3Asid%2Fen.wikipedia.org%3AGrace+Hopper\"></span></span>\n",
       "</li>\n",
       "<li id=\"cite_note-95\"><span class=\"mw-cite-backlink\"><b><a href=\"#cite_ref-95\">^</a></b></span> <span class=\"reference-text\"><link href=\"mw-data:TemplateStyles:r1133582631\" rel=\"mw-deduplicated-inline-style\"/><cite class=\"citation web cs1\" id=\"CITEREFBrading2012\">Brading, Tom (March 13, 2012). <a class=\"external text\" href=\"https://web.archive.org/web/20130317121222/http://www.charleston.af.mil/news/story.asp?id=123293768\" rel=\"nofollow\">\"Women's History Month: Beyond the bridge: Story of 'Amazing Grace' Hopper\"</a>. Archived from <a class=\"external text\" href=\"http://www.charleston.af.mil/news/story.asp?id=123293768\" rel=\"nofollow\">the original</a> on March 17, 2013<span class=\"reference-accessdate\">. Retrieved <span class=\"nowrap\">February 12,</span> 2013</span>.</cite><span class=\"Z3988\" title=\"ctx_ver=Z39.88-2004&amp;rft_val_fmt=info%3Aofi%2Ffmt%3Akev%3Amtx%3Abook&amp;rft.genre=unknown&amp;rft.btitle=Women%27s+History+Month%3A+Beyond+the+bridge%3A+Story+of+%27Amazing+Grace%27+Hopper&amp;rft.date=2012-03-13&amp;rft.aulast=Brading&amp;rft.aufirst=Tom&amp;rft_id=http%3A%2F%2Fwww.charleston.af.mil%2Fnews%2Fstory.asp%3Fid%3D123293768&amp;rfr_id=info%3Asid%2Fen.wikipedia.org%3AGrace+Hopper\"></span></span>\n",
       "</li>\n",
       "<li id=\"cite_note-96\"><span class=\"mw-cite-backlink\"><b><a href=\"#cite_ref-96\">^</a></b></span> <span class=\"reference-text\"><link href=\"mw-data:TemplateStyles:r1133582631\" rel=\"mw-deduplicated-inline-style\"/><cite class=\"citation web cs1\"><a class=\"external text\" href=\"https://www.minorplanetcenter.net/iau/ECS/MPCArchive/2019/MPC_20191108.pdf\" rel=\"nofollow\">\"MINOR PLANET CIRCULARS/MINOR PLANETS AND COMETS, M.P.C 117229\"</a> <span class=\"cs1-format\">(PDF)</span>. November 8, 2019.</cite><span class=\"Z3988\" title=\"ctx_ver=Z39.88-2004&amp;rft_val_fmt=info%3Aofi%2Ffmt%3Akev%3Amtx%3Abook&amp;rft.genre=unknown&amp;rft.btitle=MINOR+PLANET+CIRCULARS%2FMINOR+PLANETS+AND+COMETS%2C+M.P.C+117229&amp;rft.date=2019-11-08&amp;rft_id=https%3A%2F%2Fwww.minorplanetcenter.net%2Fiau%2FECS%2FMPCArchive%2F2019%2FMPC_20191108.pdf&amp;rfr_id=info%3Asid%2Fen.wikipedia.org%3AGrace+Hopper\"></span></span>\n",
       "</li>\n",
       "<li id=\"cite_note-97\"><span class=\"mw-cite-backlink\"><b><a href=\"#cite_ref-97\">^</a></b></span> <span class=\"reference-text\"><link href=\"mw-data:TemplateStyles:r1133582631\" rel=\"mw-deduplicated-inline-style\"/><cite class=\"citation web cs1\"><a class=\"external text\" href=\"https://www.gmouen.com/the-artesia-hotel\" rel=\"nofollow\">\"Grace Hopper Hall\"</a>.</cite><span class=\"Z3988\" title=\"ctx_ver=Z39.88-2004&amp;rft_val_fmt=info%3Aofi%2Ffmt%3Akev%3Amtx%3Abook&amp;rft.genre=unknown&amp;rft.btitle=Grace+Hopper+Hall&amp;rft_id=https%3A%2F%2Fwww.gmouen.com%2Fthe-artesia-hotel&amp;rfr_id=info%3Asid%2Fen.wikipedia.org%3AGrace+Hopper\"></span></span>\n",
       "</li>\n",
       "<li id=\"cite_note-98\"><span class=\"mw-cite-backlink\"><b><a href=\"#cite_ref-98\">^</a></b></span> <span class=\"reference-text\"><link href=\"mw-data:TemplateStyles:r1133582631\" rel=\"mw-deduplicated-inline-style\"/><cite class=\"citation news cs1\" id=\"CITEREFBuscher2001\">Buscher, Ranae (April 13, 2001). <a class=\"external text\" href=\"https://womensenews.org/2001/04/inside-microsoft-hoppers-writing-new-code/\" rel=\"nofollow\">\"Inside Microsoft, Hoppers Writing New Code\"</a>. <i>Women's eNews</i><span class=\"reference-accessdate\">. Retrieved <span class=\"nowrap\">December 7,</span> 2018</span>.</cite><span class=\"Z3988\" title=\"ctx_ver=Z39.88-2004&amp;rft_val_fmt=info%3Aofi%2Ffmt%3Akev%3Amtx%3Ajournal&amp;rft.genre=article&amp;rft.jtitle=Women%27s+eNews&amp;rft.atitle=Inside+Microsoft%2C+Hoppers+Writing+New+Code&amp;rft.date=2001-04-13&amp;rft.aulast=Buscher&amp;rft.aufirst=Ranae&amp;rft_id=https%3A%2F%2Fwomensenews.org%2F2001%2F04%2Finside-microsoft-hoppers-writing-new-code%2F&amp;rfr_id=info%3Asid%2Fen.wikipedia.org%3AGrace+Hopper\"></span></span>\n",
       "</li>\n",
       "<li id=\"cite_note-99\"><span class=\"mw-cite-backlink\"><b><a href=\"#cite_ref-99\">^</a></b></span> <span class=\"reference-text\"><link href=\"mw-data:TemplateStyles:r1133582631\" rel=\"mw-deduplicated-inline-style\"/><cite class=\"citation web cs1\"><a class=\"external text\" href=\"http://www.firstinspires.org/node/7951\" rel=\"nofollow\">\"New Subdivision Names\"</a>. <i>First Robotics Corporation</i>. February 9, 2015<span class=\"reference-accessdate\">. Retrieved <span class=\"nowrap\">March 16,</span> 2016</span>.</cite><span class=\"Z3988\" title=\"ctx_ver=Z39.88-2004&amp;rft_val_fmt=info%3Aofi%2Ffmt%3Akev%3Amtx%3Ajournal&amp;rft.genre=unknown&amp;rft.jtitle=First+Robotics+Corporation&amp;rft.atitle=New+Subdivision+Names&amp;rft.date=2015-02-09&amp;rft_id=http%3A%2F%2Fwww.firstinspires.org%2Fnode%2F7951&amp;rfr_id=info%3Asid%2Fen.wikipedia.org%3AGrace+Hopper\"></span></span>\n",
       "</li>\n",
       "<li id=\"cite_note-100\"><span class=\"mw-cite-backlink\"><b><a href=\"#cite_ref-100\">^</a></b></span> <span class=\"reference-text\">Yale News, July 18, 2008</span>\n",
       "</li>\n",
       "<li id=\"cite_note-101\"><span class=\"mw-cite-backlink\"><b><a href=\"#cite_ref-101\">^</a></b></span> <span class=\"reference-text\"><link href=\"mw-data:TemplateStyles:r1133582631\" rel=\"mw-deduplicated-inline-style\"/><cite class=\"citation news cs1\"><a class=\"external text\" href=\"https://www.bbc.com/news/technology-53553580\" rel=\"nofollow\">\"Google data cable to link US, UK and Spain\"</a>. <i>BBC News</i>. July 28, 2020<span class=\"reference-accessdate\">. Retrieved <span class=\"nowrap\">July 28,</span> 2020</span>.</cite><span class=\"Z3988\" title=\"ctx_ver=Z39.88-2004&amp;rft_val_fmt=info%3Aofi%2Ffmt%3Akev%3Amtx%3Ajournal&amp;rft.genre=article&amp;rft.jtitle=BBC+News&amp;rft.atitle=Google+data+cable+to+link+US%2C+UK+and+Spain&amp;rft.date=2020-07-28&amp;rft_id=https%3A%2F%2Fwww.bbc.com%2Fnews%2Ftechnology-53553580&amp;rfr_id=info%3Asid%2Fen.wikipedia.org%3AGrace+Hopper\"></span></span>\n",
       "</li>\n",
       "<li id=\"cite_note-102\"><span class=\"mw-cite-backlink\"><b><a href=\"#cite_ref-102\">^</a></b></span> <span class=\"reference-text\"><link href=\"mw-data:TemplateStyles:r1133582631\" rel=\"mw-deduplicated-inline-style\"/><cite class=\"citation news cs1\" id=\"CITEREFLehoczky2015\">Lehoczky, Etelka (October 7, 2015). <a class=\"external text\" href=\"https://www.npr.org/2015/10/07/446385092/robot-birds-teach-kids-to-program-in-secret-coders\" rel=\"nofollow\">\"Robot Birds Teach Kids To Program In 'Secret Coders'<span class=\"cs1-kern-right\"></span>\"</a>. <i><a href=\"/wiki/NPR\" title=\"NPR\">NPR</a></i><span class=\"reference-accessdate\">. Retrieved <span class=\"nowrap\">December 7,</span> 2018</span>.</cite><span class=\"Z3988\" title=\"ctx_ver=Z39.88-2004&amp;rft_val_fmt=info%3Aofi%2Ffmt%3Akev%3Amtx%3Ajournal&amp;rft.genre=article&amp;rft.jtitle=NPR&amp;rft.atitle=Robot+Birds+Teach+Kids+To+Program+In+%27Secret+Coders%27&amp;rft.date=2015-10-07&amp;rft.aulast=Lehoczky&amp;rft.aufirst=Etelka&amp;rft_id=https%3A%2F%2Fwww.npr.org%2F2015%2F10%2F07%2F446385092%2Frobot-birds-teach-kids-to-program-in-secret-coders&amp;rfr_id=info%3Asid%2Fen.wikipedia.org%3AGrace+Hopper\"></span></span>\n",
       "</li>\n",
       "<li id=\"cite_note-103\"><span class=\"mw-cite-backlink\"><b><a href=\"#cite_ref-103\">^</a></b></span> <span class=\"reference-text\"><link href=\"mw-data:TemplateStyles:r1133582631\" rel=\"mw-deduplicated-inline-style\"/><cite class=\"citation web cs1\"><a class=\"external text\" href=\"https://github.com/matplotlib/matplotlib/pull/1599\" rel=\"nofollow\">\"Ada Lovelace and Grace Murray Hopper images in place of Lena by ivanov · Pull Request #1599 · matplotlib/matplotlib\"</a>. <i>GitHub</i><span class=\"reference-accessdate\">. Retrieved <span class=\"nowrap\">July 9,</span> 2020</span>.</cite><span class=\"Z3988\" title=\"ctx_ver=Z39.88-2004&amp;rft_val_fmt=info%3Aofi%2Ffmt%3Akev%3Amtx%3Ajournal&amp;rft.genre=unknown&amp;rft.jtitle=GitHub&amp;rft.atitle=Ada+Lovelace+and+Grace+Murray+Hopper+images+in+place+of+Lena+by+ivanov+%C2%B7+Pull+Request+%231599+%C2%B7+matplotlib%2Fmatplotlib&amp;rft_id=https%3A%2F%2Fgithub.com%2Fmatplotlib%2Fmatplotlib%2Fpull%2F1599&amp;rfr_id=info%3Asid%2Fen.wikipedia.org%3AGrace+Hopper\"></span></span>\n",
       "</li>\n",
       "<li id=\"cite_note-104\"><span class=\"mw-cite-backlink\"><b><a href=\"#cite_ref-104\">^</a></b></span> <span class=\"reference-text\"><link href=\"mw-data:TemplateStyles:r1133582631\" rel=\"mw-deduplicated-inline-style\"/><cite class=\"citation web cs1\"><a class=\"external text\" href=\"https://web.archive.org/web/20140109154843/http://gracehopper.org/\" rel=\"nofollow\">\"Grace Hopper Celebration of Women in Computing\"</a>. Gracehopper.org. Archived from <a class=\"external text\" href=\"http://www.gracehopper.org/\" rel=\"nofollow\">the original</a> on January 9, 2014<span class=\"reference-accessdate\">. Retrieved <span class=\"nowrap\">December 9,</span> 2013</span>.</cite><span class=\"Z3988\" title=\"ctx_ver=Z39.88-2004&amp;rft_val_fmt=info%3Aofi%2Ffmt%3Akev%3Amtx%3Abook&amp;rft.genre=unknown&amp;rft.btitle=Grace+Hopper+Celebration+of+Women+in+Computing&amp;rft.pub=Gracehopper.org&amp;rft_id=http%3A%2F%2Fwww.gracehopper.org%2F&amp;rfr_id=info%3Asid%2Fen.wikipedia.org%3AGrace+Hopper\"></span></span>\n",
       "</li>\n",
       "<li id=\"cite_note-105\"><span class=\"mw-cite-backlink\"><b><a href=\"#cite_ref-105\">^</a></b></span> <span class=\"reference-text\"><link href=\"mw-data:TemplateStyles:r1133582631\" rel=\"mw-deduplicated-inline-style\"/><cite class=\"citation news cs1\"><a class=\"external text\" href=\"https://open.blogs.nytimes.com/2016/10/31/we-went-to-the-grace-hopper-celebration-heres-what-were-bringing-back\" rel=\"nofollow\">\"We Went to the Grace Hopper Celebration. Here's What We're Bringing Back\"</a>. <i>The New York Times</i>. October 31, 2016.</cite><span class=\"Z3988\" title=\"ctx_ver=Z39.88-2004&amp;rft_val_fmt=info%3Aofi%2Ffmt%3Akev%3Amtx%3Ajournal&amp;rft.genre=article&amp;rft.jtitle=The+New+York+Times&amp;rft.atitle=We+Went+to+the+Grace+Hopper+Celebration.+Here%27s+What+We%27re+Bringing+Back&amp;rft.date=2016-10-31&amp;rft_id=https%3A%2F%2Fopen.blogs.nytimes.com%2F2016%2F10%2F31%2Fwe-went-to-the-grace-hopper-celebration-heres-what-were-bringing-back&amp;rfr_id=info%3Asid%2Fen.wikipedia.org%3AGrace+Hopper\"></span></span>\n",
       "</li>\n",
       "</ol></div>\n",
       "<h2><span class=\"mw-headline\" id=\"Further_reading\">Further reading</span><span class=\"mw-editsection\"><span class=\"mw-editsection-bracket\">[</span><a href=\"/w/index.php?title=Grace_Hopper&amp;action=edit&amp;section=24\" title=\"Edit section: Further reading\">edit</a><span class=\"mw-editsection-bracket\">]</span></span></h2>\n",
       "<ul><li><link href=\"mw-data:TemplateStyles:r1133582631\" rel=\"mw-deduplicated-inline-style\"/><cite class=\"citation book cs1\" id=\"CITEREFBeyer2009\">Beyer, Kurt W. (September 30, 2009). <i>Grace Hopper and the Invention of the Information Age</i> (1st ed.). Cambridge, Massachusetts: MIT Press. <a class=\"mw-redirect\" href=\"/wiki/ISBN_(identifier)\" title=\"ISBN (identifier)\">ISBN</a> <a href=\"/wiki/Special:BookSources/978-0-262-01310-9\" title=\"Special:BookSources/978-0-262-01310-9\"><bdi>978-0-262-01310-9</bdi></a>.</cite><span class=\"Z3988\" title=\"ctx_ver=Z39.88-2004&amp;rft_val_fmt=info%3Aofi%2Ffmt%3Akev%3Amtx%3Abook&amp;rft.genre=book&amp;rft.btitle=Grace+Hopper+and+the+Invention+of+the+Information+Age&amp;rft.place=Cambridge%2C+Massachusetts&amp;rft.edition=1st&amp;rft.pub=MIT+Press&amp;rft.date=2009-09-30&amp;rft.isbn=978-0-262-01310-9&amp;rft.aulast=Beyer&amp;rft.aufirst=Kurt+W.&amp;rfr_id=info%3Asid%2Fen.wikipedia.org%3AGrace+Hopper\"></span></li>\n",
       "<li><link href=\"mw-data:TemplateStyles:r1133582631\" rel=\"mw-deduplicated-inline-style\"/><cite class=\"citation book cs1\" id=\"CITEREFMarx2003\"><a href=\"/wiki/Christy_Marx\" title=\"Christy Marx\">Marx, Christy</a> (August 2003). <i>Grace Hopper: the first woman to program the first computer in the United States</i>. Women hall of famers in mathematics and science (1st ed.). New York City: Rosen Publishing Group. <a class=\"mw-redirect\" href=\"/wiki/ISBN_(identifier)\" title=\"ISBN (identifier)\">ISBN</a> <a href=\"/wiki/Special:BookSources/978-0-8239-3877-3\" title=\"Special:BookSources/978-0-8239-3877-3\"><bdi>978-0-8239-3877-3</bdi></a>.</cite><span class=\"Z3988\" title=\"ctx_ver=Z39.88-2004&amp;rft_val_fmt=info%3Aofi%2Ffmt%3Akev%3Amtx%3Abook&amp;rft.genre=book&amp;rft.btitle=Grace+Hopper%3A+the+first+woman+to+program+the+first+computer+in+the+United+States&amp;rft.place=New+York+City&amp;rft.series=Women+hall+of+famers+in+mathematics+and+science&amp;rft.edition=1st&amp;rft.pub=Rosen+Publishing+Group&amp;rft.date=2003-08&amp;rft.isbn=978-0-8239-3877-3&amp;rft.aulast=Marx&amp;rft.aufirst=Christy&amp;rfr_id=info%3Asid%2Fen.wikipedia.org%3AGrace+Hopper\"></span></li>\n",
       "<li><link href=\"mw-data:TemplateStyles:r1133582631\" rel=\"mw-deduplicated-inline-style\"/><cite class=\"citation web cs1\" id=\"CITEREFNorman1997\">Norman, Rebecca (June 1997). <a class=\"external text\" href=\"http://www.agnesscott.edu/lriddle/women/hopper.htm\" rel=\"nofollow\">\"Biographies of Women Mathematicians: Grace Murray Hopper\"</a>. <a href=\"/wiki/Agnes_Scott_College\" title=\"Agnes Scott College\">Agnes Scott College</a><span class=\"reference-accessdate\">. Retrieved <span class=\"nowrap\">November 17,</span> 2014</span>.</cite><span class=\"Z3988\" title=\"ctx_ver=Z39.88-2004&amp;rft_val_fmt=info%3Aofi%2Ffmt%3Akev%3Amtx%3Abook&amp;rft.genre=unknown&amp;rft.btitle=Biographies+of+Women+Mathematicians%3A+Grace+Murray+Hopper&amp;rft.pub=Agnes+Scott+College&amp;rft.date=1997-06&amp;rft.aulast=Norman&amp;rft.aufirst=Rebecca&amp;rft_id=http%3A%2F%2Fwww.agnesscott.edu%2Flriddle%2Fwomen%2Fhopper.htm&amp;rfr_id=info%3Asid%2Fen.wikipedia.org%3AGrace+Hopper\"></span></li>\n",
       "<li><link href=\"mw-data:TemplateStyles:r1133582631\" rel=\"mw-deduplicated-inline-style\"/><cite class=\"citation book cs1\" id=\"CITEREFWilliams2004\">Williams, Kathleen Broome (November 15, 2004). <i>Grace Hopper: Admiral of the Cyber Sea</i> (1st ed.). Annapolis, Maryland: Naval Institute Press. <a class=\"mw-redirect\" href=\"/wiki/ISBN_(identifier)\" title=\"ISBN (identifier)\">ISBN</a> <a href=\"/wiki/Special:BookSources/978-1-55750-952-9\" title=\"Special:BookSources/978-1-55750-952-9\"><bdi>978-1-55750-952-9</bdi></a>.</cite><span class=\"Z3988\" title=\"ctx_ver=Z39.88-2004&amp;rft_val_fmt=info%3Aofi%2Ffmt%3Akev%3Amtx%3Abook&amp;rft.genre=book&amp;rft.btitle=Grace+Hopper%3A+Admiral+of+the+Cyber+Sea&amp;rft.place=Annapolis%2C+Maryland&amp;rft.edition=1st&amp;rft.pub=Naval+Institute+Press&amp;rft.date=2004-11-15&amp;rft.isbn=978-1-55750-952-9&amp;rft.aulast=Williams&amp;rft.aufirst=Kathleen+Broome&amp;rfr_id=info%3Asid%2Fen.wikipedia.org%3AGrace+Hopper\"></span></li>\n",
       "<li><link href=\"mw-data:TemplateStyles:r1133582631\" rel=\"mw-deduplicated-inline-style\"/><cite class=\"citation book cs1\" id=\"CITEREFWilliams2001\">Williams, Kathleen Broome (2001). <i>Improbable Warriors: Women Scientists and the U.S. Navy in World War II</i>. Annapolis, Maryland: Naval Institute Press. <a class=\"mw-redirect\" href=\"/wiki/ISBN_(identifier)\" title=\"ISBN (identifier)\">ISBN</a> <a href=\"/wiki/Special:BookSources/978-1-55750-961-1\" title=\"Special:BookSources/978-1-55750-961-1\"><bdi>978-1-55750-961-1</bdi></a>.</cite><span class=\"Z3988\" title=\"ctx_ver=Z39.88-2004&amp;rft_val_fmt=info%3Aofi%2Ffmt%3Akev%3Amtx%3Abook&amp;rft.genre=book&amp;rft.btitle=Improbable+Warriors%3A+Women+Scientists+and+the+U.S.+Navy+in+World+War+II&amp;rft.place=Annapolis%2C+Maryland&amp;rft.pub=Naval+Institute+Press&amp;rft.date=2001&amp;rft.isbn=978-1-55750-961-1&amp;rft.aulast=Williams&amp;rft.aufirst=Kathleen+Broome&amp;rfr_id=info%3Asid%2Fen.wikipedia.org%3AGrace+Hopper\"></span> Williams' book focuses on the lives and contributions of four notable women scientists: <a href=\"/wiki/Mary_Sears_(oceanographer)\" title=\"Mary Sears (oceanographer)\">Mary Sears</a> (1905–1997); <a href=\"/wiki/Florence_van_Straten\" title=\"Florence van Straten\">Florence van Straten</a> (1913–1992); Grace Murray Hopper (1906–1992); <a class=\"mw-redirect\" href=\"/wiki/Mina_Spiegel_Rees\" title=\"Mina Spiegel Rees\">Mina Spiegel Rees</a> (1902–1997).</li>\n",
       "<li><link href=\"mw-data:TemplateStyles:r1133582631\" rel=\"mw-deduplicated-inline-style\"/><cite class=\"citation book cs1\" id=\"CITEREFIgnotofsky2017\">Ignotofsky, Rachel (2017). <i>Women in Science: 50 fearless pioneers who changed the world</i>. London: Wren &amp; Rook. <a class=\"mw-redirect\" href=\"/wiki/ISBN_(identifier)\" title=\"ISBN (identifier)\">ISBN</a> <a href=\"/wiki/Special:BookSources/978-1-9848-5615-9\" title=\"Special:BookSources/978-1-9848-5615-9\"><bdi>978-1-9848-5615-9</bdi></a>.</cite><span class=\"Z3988\" title=\"ctx_ver=Z39.88-2004&amp;rft_val_fmt=info%3Aofi%2Ffmt%3Akev%3Amtx%3Abook&amp;rft.genre=book&amp;rft.btitle=Women+in+Science%3A+50+fearless+pioneers+who+changed+the+world&amp;rft.place=London&amp;rft.pub=Wren+%26+Rook&amp;rft.date=2017&amp;rft.isbn=978-1-9848-5615-9&amp;rft.aulast=Ignotofsky&amp;rft.aufirst=Rachel&amp;rfr_id=info%3Asid%2Fen.wikipedia.org%3AGrace+Hopper\"></span></li>\n",
       "<li><link href=\"mw-data:TemplateStyles:r1133582631\" rel=\"mw-deduplicated-inline-style\"/><cite class=\"citation journal cs1\" id=\"CITEREFVining2012\">Vining, Margaret (2012). \"Reviewed work: Grace Hopper and the Invention of the Information Age, Kurt W. Beyer\". <i>Technology and Culture</i>. <b>53</b> (2): 516–517. <a class=\"mw-redirect\" href=\"/wiki/Doi_(identifier)\" title=\"Doi (identifier)\">doi</a>:<a class=\"external text\" href=\"https://doi.org/10.1353%2Ftech.2012.0051\" rel=\"nofollow\">10.1353/tech.2012.0051</a>. <a class=\"mw-redirect\" href=\"/wiki/JSTOR_(identifier)\" title=\"JSTOR (identifier)\">JSTOR</a> <a class=\"external text\" href=\"https://www.jstor.org/stable/41475535\" rel=\"nofollow\">41475535</a>. <a class=\"mw-redirect\" href=\"/wiki/S2CID_(identifier)\" title=\"S2CID (identifier)\">S2CID</a> <a class=\"external text\" href=\"https://api.semanticscholar.org/CorpusID:111125455\" rel=\"nofollow\">111125455</a>.</cite><span class=\"Z3988\" title=\"ctx_ver=Z39.88-2004&amp;rft_val_fmt=info%3Aofi%2Ffmt%3Akev%3Amtx%3Ajournal&amp;rft.genre=article&amp;rft.jtitle=Technology+and+Culture&amp;rft.atitle=Reviewed+work%3A+Grace+Hopper+and+the+Invention+of+the+Information+Age%2C+Kurt+W.+Beyer&amp;rft.volume=53&amp;rft.issue=2&amp;rft.pages=516-517&amp;rft.date=2012&amp;rft_id=https%3A%2F%2Fapi.semanticscholar.org%2FCorpusID%3A111125455%23id-name%3DS2CID&amp;rft_id=https%3A%2F%2Fwww.jstor.org%2Fstable%2F41475535%23id-name%3DJSTOR&amp;rft_id=info%3Adoi%2F10.1353%2Ftech.2012.0051&amp;rft.aulast=Vining&amp;rft.aufirst=Margaret&amp;rfr_id=info%3Asid%2Fen.wikipedia.org%3AGrace+Hopper\"></span></li>\n",
       "<li><link href=\"mw-data:TemplateStyles:r1133582631\" rel=\"mw-deduplicated-inline-style\"/><cite class=\"citation journal cs1\" id=\"CITEREFWilliams1999\">Williams, Kathleen Broome (1999). \"Scientists in Uniform: The Harvard Computation Laboratory in World War II\". <i>Naval War College Review</i>. <b>52</b> (3): 90–110. <a class=\"mw-redirect\" href=\"/wiki/JSTOR_(identifier)\" title=\"JSTOR (identifier)\">JSTOR</a> <a class=\"external text\" href=\"https://www.jstor.org/stable/44643011\" rel=\"nofollow\">44643011</a>.</cite><span class=\"Z3988\" title=\"ctx_ver=Z39.88-2004&amp;rft_val_fmt=info%3Aofi%2Ffmt%3Akev%3Amtx%3Ajournal&amp;rft.genre=article&amp;rft.jtitle=Naval+War+College+Review&amp;rft.atitle=Scientists+in+Uniform%3A+The+Harvard+Computation+Laboratory+in+World+War+II&amp;rft.volume=52&amp;rft.issue=3&amp;rft.pages=90-110&amp;rft.date=1999&amp;rft_id=https%3A%2F%2Fwww.jstor.org%2Fstable%2F44643011%23id-name%3DJSTOR&amp;rft.aulast=Williams&amp;rft.aufirst=Kathleen+Broome&amp;rfr_id=info%3Asid%2Fen.wikipedia.org%3AGrace+Hopper\"></span></li>\n",
       "<li><link href=\"mw-data:TemplateStyles:r1133582631\" rel=\"mw-deduplicated-inline-style\"/><cite class=\"citation book cs1\" id=\"CITEREFBillings1989\">Billings, Charlene (1989). <span class=\"cs1-lock-registration\" title=\"Free registration required\"><a class=\"external text\" href=\"https://archive.org/details/gracehoppernavya0000bill\" rel=\"nofollow\"><i>Grace Hopper : Navy admiral and computer pioneer</i></a></span>. Enslow Publishers. <a class=\"mw-redirect\" href=\"/wiki/ISBN_(identifier)\" title=\"ISBN (identifier)\">ISBN</a> <a href=\"/wiki/Special:BookSources/0-89490-194-X\" title=\"Special:BookSources/0-89490-194-X\"><bdi>0-89490-194-X</bdi></a>.</cite><span class=\"Z3988\" title=\"ctx_ver=Z39.88-2004&amp;rft_val_fmt=info%3Aofi%2Ffmt%3Akev%3Amtx%3Abook&amp;rft.genre=book&amp;rft.btitle=Grace+Hopper+%3A+Navy+admiral+and+computer+pioneer&amp;rft.pub=Enslow+Publishers&amp;rft.date=1989&amp;rft.isbn=0-89490-194-X&amp;rft.aulast=Billings&amp;rft.aufirst=Charlene&amp;rft_id=https%3A%2F%2Farchive.org%2Fdetails%2Fgracehoppernavya0000bill&amp;rfr_id=info%3Asid%2Fen.wikipedia.org%3AGrace+Hopper\"></span></li></ul>\n",
       "<h2><span class=\"mw-headline\" id=\"External_links\">External links</span><span class=\"mw-editsection\"><span class=\"mw-editsection-bracket\">[</span><a href=\"/w/index.php?title=Grace_Hopper&amp;action=edit&amp;section=25\" title=\"Edit section: External links\">edit</a><span class=\"mw-editsection-bracket\">]</span></span></h2>\n",
       "<ul><li><a class=\"external text\" href=\"https://mathgenealogy.org/id.php?id=15664\" rel=\"nofollow\">Grace Murray Hopper</a> at the <a href=\"/wiki/Mathematics_Genealogy_Project\" title=\"Mathematics Genealogy Project\">Mathematics Genealogy Project</a></li></ul>\n",
       "<style data-mw-deduplicate=\"TemplateStyles:r1134653256\">.mw-parser-output .side-box{margin:4px 0;box-sizing:border-box;border:1px solid #aaa;font-size:88%;line-height:1.25em;background-color:#f9f9f9;display:flow-root}.mw-parser-output .side-box-abovebelow,.mw-parser-output .side-box-text{padding:0.25em 0.9em}.mw-parser-output .side-box-image{padding:2px 0 2px 0.9em;text-align:center}.mw-parser-output .side-box-imageright{padding:2px 0.9em 2px 0;text-align:center}@media(min-width:500px){.mw-parser-output .side-box-flex{display:flex;align-items:center}.mw-parser-output .side-box-text{flex:1}}@media(min-width:720px){.mw-parser-output .side-box{width:238px}.mw-parser-output .side-box-right{clear:right;float:right;margin-left:1em}.mw-parser-output .side-box-left{margin-right:1em}}</style><div class=\"side-box side-box-right plainlinks sistersitebox\"><link href=\"mw-data:TemplateStyles:r1126788409\" rel=\"mw-deduplicated-inline-style\"/>\n",
       "<div class=\"side-box-flex\">\n",
       "<div class=\"side-box-image\"><img alt=\"\" class=\"noviewer\" data-file-height=\"1376\" data-file-width=\"1024\" decoding=\"async\" height=\"40\" src=\"//upload.wikimedia.org/wikipedia/en/thumb/4/4a/Commons-logo.svg/30px-Commons-logo.svg.png\" srcset=\"//upload.wikimedia.org/wikipedia/en/thumb/4/4a/Commons-logo.svg/45px-Commons-logo.svg.png 1.5x, //upload.wikimedia.org/wikipedia/en/thumb/4/4a/Commons-logo.svg/59px-Commons-logo.svg.png 2x\" width=\"30\"/></div>\n",
       "<div class=\"side-box-text plainlist\">Wikimedia Commons has media related to <span style=\"font-weight: bold; font-style: italic;\"><a class=\"extiw\" href=\"https://commons.wikimedia.org/wiki/Category:Grace_Hopper\" title=\"commons:Category:Grace Hopper\">Grace Hopper</a></span>.</div></div>\n",
       "</div>\n",
       "<link href=\"mw-data:TemplateStyles:r1134653256\" rel=\"mw-deduplicated-inline-style\"/><div class=\"side-box side-box-right plainlinks sistersitebox\"><link href=\"mw-data:TemplateStyles:r1126788409\" rel=\"mw-deduplicated-inline-style\"/>\n",
       "<div class=\"side-box-flex\">\n",
       "<div class=\"side-box-image\"><img alt=\"\" class=\"noviewer\" data-file-height=\"355\" data-file-width=\"300\" decoding=\"async\" height=\"40\" src=\"//upload.wikimedia.org/wikipedia/commons/thumb/f/fa/Wikiquote-logo.svg/34px-Wikiquote-logo.svg.png\" srcset=\"//upload.wikimedia.org/wikipedia/commons/thumb/f/fa/Wikiquote-logo.svg/51px-Wikiquote-logo.svg.png 1.5x, //upload.wikimedia.org/wikipedia/commons/thumb/f/fa/Wikiquote-logo.svg/68px-Wikiquote-logo.svg.png 2x\" width=\"34\"/></div>\n",
       "<div class=\"side-box-text plainlist\">Wikiquote has quotations related to <i><b><a class=\"extiw\" href=\"https://en.wikiquote.org/wiki/Special:Search/Grace_Hopper\" title=\"q:Special:Search/Grace Hopper\">Grace Hopper</a></b></i>.</div></div>\n",
       "</div>\n",
       "<ul><li><a class=\"external text\" href=\"https://web.archive.org/web/20171225202555/http://archive.computerhistory.org/resources/text/Oral_History/Hopper_Grace/102702026.05.01.pdf\" rel=\"nofollow\">Oral History of Captain Grace Hopper – Interviewed by: Angeline Pantages</a> 1980, Naval Data Automation Command, Maryland.</li>\n",
       "<li><a class=\"external text\" href=\"https://web.archive.org/web/20100224101438/http://www.chips.navy.mil/links/grace_hopper/womn.htm\" rel=\"nofollow\">RADM Grace Hopper, USN Ret.</a> at the <a href=\"/wiki/Wayback_Machine\" title=\"Wayback Machine\">Wayback Machine</a> (archived February 24, 2010) from <i>Chips</i>, the United States Navy <a href=\"/wiki/Information_technology\" title=\"Information technology\">information technology</a> magazine.</li>\n",
       "<li><a class=\"external text\" href=\"http://usnhistory.navylive.dodlive.mil/2014/12/09/grace-hopper-navy-to-the-core-a-pirate-at-heart/\" rel=\"nofollow\"><i>Grace Hopper: Navy to the Core, a Pirate at Heart</i></a> <a class=\"external text\" href=\"https://web.archive.org/web/20170922165446/http://usnhistory.navylive.dodlive.mil/2014/12/09/grace-hopper-navy-to-the-core-a-pirate-at-heart/\" rel=\"nofollow\">Archived</a> September 22, 2017, at the <a href=\"/wiki/Wayback_Machine\" title=\"Wayback Machine\">Wayback Machine</a> (2014), To learn more about Hopper's story and Navy legacy <a class=\"mw-redirect\" href=\"/wiki/Navy.mil\" title=\"Navy.mil\">navy.mil</a>.</li>\n",
       "<li><a class=\"external text\" href=\"https://fivethirtyeight.com/features/the-queen-of-code/\" rel=\"nofollow\"><i>The Queen of Code</i></a> (2015), a documentary film about Grace Hopper produced by <a href=\"/wiki/FiveThirtyEight\" title=\"FiveThirtyEight\">FiveThirtyEight</a>.</li>\n",
       "<li>Norwood, Arlisha. <a class=\"external text\" href=\"https://www.womenshistory.org/education-resources/biographies/grace-hopper\" rel=\"nofollow\">\"Grace Hopper\"</a>. National Women's History Museum. 2017.</li>\n",
       "<li><link href=\"mw-data:TemplateStyles:r1133582631\" rel=\"mw-deduplicated-inline-style\"/><cite class=\"citation cs2\"><a class=\"mw-redirect\" href=\"/wiki/John_J._O%27Connor_(mathematician)\" title=\"John J. O'Connor (mathematician)\">O'Connor, John J.</a>; <a href=\"/wiki/Edmund_F._Robertson\" title=\"Edmund F. Robertson\">Robertson, Edmund F.</a>, <a class=\"external text\" href=\"https://mathshistory.st-andrews.ac.uk/Biographies/Hopper.html\" rel=\"nofollow\">\"Grace Hopper\"</a>, <i><a href=\"/wiki/MacTutor_History_of_Mathematics_archive\" title=\"MacTutor History of Mathematics archive\">MacTutor History of Mathematics archive</a></i>, <a href=\"/wiki/University_of_St_Andrews\" title=\"University of St Andrews\">University of St Andrews</a></cite><span class=\"Z3988\" title=\"ctx_ver=Z39.88-2004&amp;rft_val_fmt=info%3Aofi%2Ffmt%3Akev%3Amtx%3Abook&amp;rft.genre=bookitem&amp;rft.atitle=Grace+Hopper&amp;rft.btitle=MacTutor+History+of+Mathematics+archive&amp;rft.pub=University+of+St+Andrews&amp;rft.aulast=O%27Connor&amp;rft.aufirst=John+J.&amp;rft.au=Robertson%2C+Edmund+F.&amp;rft_id=https%3A%2F%2Fmathshistory.st-andrews.ac.uk%2FBiographies%2FHopper.html&amp;rfr_id=info%3Asid%2Fen.wikipedia.org%3AGrace+Hopper\"></span></li></ul>\n",
       "<div class=\"navbox-styles\"><style data-mw-deduplicate=\"TemplateStyles:r1061467846\">.mw-parser-output .navbox{box-sizing:border-box;border:1px solid #a2a9b1;width:100%;clear:both;font-size:88%;text-align:center;padding:1px;margin:1em auto 0}.mw-parser-output .navbox .navbox{margin-top:0}.mw-parser-output .navbox+.navbox,.mw-parser-output .navbox+.navbox-styles+.navbox{margin-top:-1px}.mw-parser-output .navbox-inner,.mw-parser-output .navbox-subgroup{width:100%}.mw-parser-output .navbox-group,.mw-parser-output .navbox-title,.mw-parser-output .navbox-abovebelow{padding:0.25em 1em;line-height:1.5em;text-align:center}.mw-parser-output .navbox-group{white-space:nowrap;text-align:right}.mw-parser-output .navbox,.mw-parser-output .navbox-subgroup{background-color:#fdfdfd}.mw-parser-output .navbox-list{line-height:1.5em;border-color:#fdfdfd}.mw-parser-output .navbox-list-with-group{text-align:left;border-left-width:2px;border-left-style:solid}.mw-parser-output tr+tr>.navbox-abovebelow,.mw-parser-output tr+tr>.navbox-group,.mw-parser-output tr+tr>.navbox-image,.mw-parser-output tr+tr>.navbox-list{border-top:2px solid #fdfdfd}.mw-parser-output .navbox-title{background-color:#ccf}.mw-parser-output .navbox-abovebelow,.mw-parser-output .navbox-group,.mw-parser-output .navbox-subgroup .navbox-title{background-color:#ddf}.mw-parser-output .navbox-subgroup .navbox-group,.mw-parser-output .navbox-subgroup .navbox-abovebelow{background-color:#e6e6ff}.mw-parser-output .navbox-even{background-color:#f7f7f7}.mw-parser-output .navbox-odd{background-color:transparent}.mw-parser-output .navbox .hlist td dl,.mw-parser-output .navbox .hlist td ol,.mw-parser-output .navbox .hlist td ul,.mw-parser-output .navbox td.hlist dl,.mw-parser-output .navbox td.hlist ol,.mw-parser-output .navbox td.hlist ul{padding:0.125em 0}.mw-parser-output .navbox .navbar{display:block;font-size:100%}.mw-parser-output .navbox-title .navbar{float:left;text-align:left;margin-right:0.5em}</style></div><div aria-labelledby=\"Articles_related_to_Grace_Hopper\" class=\"navbox\" role=\"navigation\" style=\"padding:3px\"><table class=\"nowraplinks mw-collapsible mw-collapsed navbox-inner\" style=\"border-spacing:0;background:transparent;color:inherit\"><tbody><tr><th class=\"navbox-title\" colspan=\"2\" scope=\"col\" style=\"background:#e8e8ff;\"><div id=\"Articles_related_to_Grace_Hopper\" style=\"font-size:114%;margin:0 4em\">Articles related to Grace Hopper</div></th></tr><tr><td class=\"navbox-list navbox-odd\" colspan=\"2\" style=\"width:100%;padding:0;font-size:114%\"><div style=\"padding:0px\">\n",
       "<div class=\"navbox-styles\"><style data-mw-deduplicate=\"TemplateStyles:r1129693374\">.mw-parser-output .hlist dl,.mw-parser-output .hlist ol,.mw-parser-output .hlist ul{margin:0;padding:0}.mw-parser-output .hlist dd,.mw-parser-output .hlist dt,.mw-parser-output .hlist li{margin:0;display:inline}.mw-parser-output .hlist.inline,.mw-parser-output .hlist.inline dl,.mw-parser-output .hlist.inline ol,.mw-parser-output .hlist.inline ul,.mw-parser-output .hlist dl dl,.mw-parser-output .hlist dl ol,.mw-parser-output .hlist dl ul,.mw-parser-output .hlist ol dl,.mw-parser-output .hlist ol ol,.mw-parser-output .hlist ol ul,.mw-parser-output .hlist ul dl,.mw-parser-output .hlist ul ol,.mw-parser-output .hlist ul ul{display:inline}.mw-parser-output .hlist .mw-empty-li{display:none}.mw-parser-output .hlist dt::after{content:\": \"}.mw-parser-output .hlist dd::after,.mw-parser-output .hlist li::after{content:\" · \";font-weight:bold}.mw-parser-output .hlist dd:last-child::after,.mw-parser-output .hlist dt:last-child::after,.mw-parser-output .hlist li:last-child::after{content:none}.mw-parser-output .hlist dd dd:first-child::before,.mw-parser-output .hlist dd dt:first-child::before,.mw-parser-output .hlist dd li:first-child::before,.mw-parser-output .hlist dt dd:first-child::before,.mw-parser-output .hlist dt dt:first-child::before,.mw-parser-output .hlist dt li:first-child::before,.mw-parser-output .hlist li dd:first-child::before,.mw-parser-output .hlist li dt:first-child::before,.mw-parser-output .hlist li li:first-child::before{content:\" (\";font-weight:normal}.mw-parser-output .hlist dd dd:last-child::after,.mw-parser-output .hlist dd dt:last-child::after,.mw-parser-output .hlist dd li:last-child::after,.mw-parser-output .hlist dt dd:last-child::after,.mw-parser-output .hlist dt dt:last-child::after,.mw-parser-output .hlist dt li:last-child::after,.mw-parser-output .hlist li dd:last-child::after,.mw-parser-output .hlist li dt:last-child::after,.mw-parser-output .hlist li li:last-child::after{content:\")\";font-weight:normal}.mw-parser-output .hlist ol{counter-reset:listitem}.mw-parser-output .hlist ol>li{counter-increment:listitem}.mw-parser-output .hlist ol>li::before{content:\" \"counter(listitem)\"\\a0 \"}.mw-parser-output .hlist dd ol>li:first-child::before,.mw-parser-output .hlist dt ol>li:first-child::before,.mw-parser-output .hlist li ol>li:first-child::before{content:\" (\"counter(listitem)\"\\a0 \"}</style><link href=\"mw-data:TemplateStyles:r1061467846\" rel=\"mw-deduplicated-inline-style\"/></div><div aria-labelledby=\"Timelines_of_computing\" class=\"navbox\" role=\"navigation\" style=\"padding:3px\"><table class=\"nowraplinks mw-collapsible autocollapse navbox-inner\" style=\"border-spacing:0;background:transparent;color:inherit\"><tbody><tr><th class=\"navbox-title\" colspan=\"2\" scope=\"col\"><link href=\"mw-data:TemplateStyles:r1129693374\" rel=\"mw-deduplicated-inline-style\"/><style data-mw-deduplicate=\"TemplateStyles:r1063604349\">.mw-parser-output .navbar{display:inline;font-size:88%;font-weight:normal}.mw-parser-output .navbar-collapse{float:left;text-align:left}.mw-parser-output .navbar-boxtext{word-spacing:0}.mw-parser-output .navbar ul{display:inline-block;white-space:nowrap;line-height:inherit}.mw-parser-output .navbar-brackets::before{margin-right:-0.125em;content:\"[ \"}.mw-parser-output .navbar-brackets::after{margin-left:-0.125em;content:\" ]\"}.mw-parser-output .navbar li{word-spacing:-0.125em}.mw-parser-output .navbar a>span,.mw-parser-output .navbar a>abbr{text-decoration:inherit}.mw-parser-output .navbar-mini abbr{font-variant:small-caps;border-bottom:none;text-decoration:none;cursor:inherit}.mw-parser-output .navbar-ct-full{font-size:114%;margin:0 7em}.mw-parser-output .navbar-ct-mini{font-size:114%;margin:0 4em}</style><div class=\"navbar plainlinks hlist navbar-mini\"><ul><li class=\"nv-view\"><a href=\"/wiki/Template:Timelines_of_computing\" title=\"Template:Timelines of computing\"><abbr style=\";;background:none transparent;border:none;box-shadow:none;padding:0;\" title=\"View this template\">v</abbr></a></li><li class=\"nv-talk\"><a href=\"/wiki/Template_talk:Timelines_of_computing\" title=\"Template talk:Timelines of computing\"><abbr style=\";;background:none transparent;border:none;box-shadow:none;padding:0;\" title=\"Discuss this template\">t</abbr></a></li><li class=\"nv-edit\"><a class=\"external text\" href=\"https://en.wikipedia.org/w/index.php?title=Template:Timelines_of_computing&amp;action=edit\"><abbr style=\";;background:none transparent;border:none;box-shadow:none;padding:0;\" title=\"Edit this template\">e</abbr></a></li></ul></div><div id=\"Timelines_of_computing\" style=\"font-size:114%;margin:0 4em\"><a href=\"/wiki/Category:Computing_timelines\" title=\"Category:Computing timelines\">Timelines of computing</a></div></th></tr><tr><th class=\"navbox-group\" scope=\"row\" style=\"width:1%\"><a href=\"/wiki/Timeline_of_computing\" title=\"Timeline of computing\">Computing</a></th><td class=\"navbox-list-with-group navbox-list navbox-odd hlist\" style=\"width:100%;padding:0\"><div style=\"padding:0 0.25em\">\n",
       "<ul><li><a href=\"/wiki/Timeline_of_computing_hardware_before_1950\" title=\"Timeline of computing hardware before 1950\">Before 1950</a></li>\n",
       "<li><a href=\"/wiki/Timeline_of_computing_1950%E2%80%931979\" title=\"Timeline of computing 1950–1979\">1950–1979</a></li>\n",
       "<li><a href=\"/wiki/Timeline_of_computing_1980%E2%80%931989\" title=\"Timeline of computing 1980–1989\">1980s</a></li>\n",
       "<li><a href=\"/wiki/Timeline_of_computing_1990%E2%80%931999\" title=\"Timeline of computing 1990–1999\">1990s</a></li>\n",
       "<li><a href=\"/wiki/Timeline_of_computing_2000%E2%80%932009\" title=\"Timeline of computing 2000–2009\">2000s</a></li>\n",
       "<li><a href=\"/wiki/Timeline_of_computing_2010%E2%80%932019\" title=\"Timeline of computing 2010–2019\">2010s</a></li>\n",
       "<li><a href=\"/wiki/Timeline_of_computing_2020%E2%80%93present\" title=\"Timeline of computing 2020–present\">2020s</a></li>\n",
       "<li><a href=\"/wiki/Timeline_of_scientific_computing\" title=\"Timeline of scientific computing\">Scientific</a></li>\n",
       "<li><a href=\"/wiki/Timeline_of_women_in_computing\" title=\"Timeline of women in computing\">Women in computing</a></li></ul>\n",
       "</div></td></tr><tr><th class=\"navbox-group\" scope=\"row\" style=\"width:1%\"><a href=\"/wiki/Computer_science\" title=\"Computer science\">Computer science</a></th><td class=\"navbox-list-with-group navbox-list navbox-even hlist\" style=\"width:100%;padding:0\"><div style=\"padding:0 0.25em\">\n",
       "<ul><li><a href=\"/wiki/Timeline_of_algorithms\" title=\"Timeline of algorithms\">Algorithms</a></li>\n",
       "<li><a href=\"/wiki/Timeline_of_artificial_intelligence\" title=\"Timeline of artificial intelligence\">Artificial intelligence</a></li>\n",
       "<li><a href=\"/wiki/Timeline_of_binary_prefixes\" title=\"Timeline of binary prefixes\">Binary prefixes</a></li>\n",
       "<li><a href=\"/wiki/Timeline_of_cryptography\" title=\"Timeline of cryptography\">Cryptography</a></li>\n",
       "<li><a href=\"/wiki/Timeline_of_machine_learning\" title=\"Timeline of machine learning\">Machine learning</a></li>\n",
       "<li><a class=\"mw-redirect\" href=\"/wiki/Timeline_of_quantum_computing\" title=\"Timeline of quantum computing\">Quantum computing</a></li></ul>\n",
       "</div></td></tr><tr><th class=\"navbox-group\" scope=\"row\" style=\"width:1%\"><a href=\"/wiki/Software\" title=\"Software\">Software</a></th><td class=\"navbox-list-with-group navbox-list navbox-odd hlist\" style=\"width:100%;padding:0\"><div style=\"padding:0 0.25em\">\n",
       "<ul><li><a href=\"/wiki/Timeline_of_free_and_open-source_software\" title=\"Timeline of free and open-source software\">Free and open-source software</a></li>\n",
       "<li><a href=\"/wiki/Timeline_of_hypertext_technology\" title=\"Timeline of hypertext technology\">Hypertext technology</a></li>\n",
       "<li><a href=\"/wiki/Timeline_of_operating_systems\" title=\"Timeline of operating systems\">Operating systems</a>\n",
       "<ul><li><a href=\"/wiki/Timeline_of_DOS_operating_systems\" title=\"Timeline of DOS operating systems\">DOS family</a></li>\n",
       "<li><a class=\"mw-redirect\" href=\"/wiki/Timeline_of_Microsoft_Windows\" title=\"Timeline of Microsoft Windows\">Windows</a></li>\n",
       "<li><a href=\"/wiki/Linux_kernel_version_history\" title=\"Linux kernel version history\">Linux</a></li></ul></li>\n",
       "<li><a href=\"/wiki/Timeline_of_programming_languages\" title=\"Timeline of programming languages\">Programming languages</a></li>\n",
       "<li><a href=\"/wiki/Timeline_of_virtualization_development\" title=\"Timeline of virtualization development\">Virtualization development</a></li>\n",
       "<li><a href=\"/wiki/Timeline_of_computer_viruses_and_worms\" title=\"Timeline of computer viruses and worms\">Malware</a></li></ul>\n",
       "</div></td></tr><tr><th class=\"navbox-group\" scope=\"row\" style=\"width:1%\"><a href=\"/wiki/Internet\" title=\"Internet\">Internet</a></th><td class=\"navbox-list-with-group navbox-list navbox-even hlist\" style=\"width:100%;padding:0\"><div style=\"padding:0 0.25em\">\n",
       "<ul><li><a href=\"/wiki/Timeline_of_Internet_conflicts\" title=\"Timeline of Internet conflicts\">Internet conflicts</a></li>\n",
       "<li><a href=\"/wiki/Timeline_of_web_browsers\" title=\"Timeline of web browsers\">Web browsers</a></li>\n",
       "<li><a href=\"/wiki/Timeline_of_web_search_engines\" title=\"Timeline of web search engines\">Web search engines</a></li></ul>\n",
       "</div></td></tr><tr><th class=\"navbox-group\" scope=\"row\" style=\"width:1%\">Notable people</th><td class=\"navbox-list-with-group navbox-list navbox-odd hlist\" style=\"width:100%;padding:0\"><div style=\"padding:0 0.25em\">\n",
       "<ul><li><a href=\"/wiki/Kathleen_Antonelli\" title=\"Kathleen Antonelli\">Kathleen Antonelli</a></li>\n",
       "<li><a href=\"/wiki/John_Vincent_Atanasoff\" title=\"John Vincent Atanasoff\">John Vincent Atanasoff</a></li>\n",
       "<li><a href=\"/wiki/Charles_Babbage\" title=\"Charles Babbage\">Charles Babbage</a></li>\n",
       "<li><a href=\"/wiki/John_Backus\" title=\"John Backus\">John Backus</a></li>\n",
       "<li><a href=\"/wiki/Jean_Bartik\" title=\"Jean Bartik\">Jean Bartik</a></li>\n",
       "<li><a href=\"/wiki/George_Boole\" title=\"George Boole\">George Boole</a></li>\n",
       "<li><a href=\"/wiki/Vint_Cerf\" title=\"Vint Cerf\">Vint Cerf</a></li>\n",
       "<li><a href=\"/wiki/John_Cocke_(computer_scientist)\" title=\"John Cocke (computer scientist)\">John Cocke</a></li>\n",
       "<li><a href=\"/wiki/Stephen_Cook\" title=\"Stephen Cook\">Stephen Cook</a></li>\n",
       "<li><a href=\"/wiki/Edsger_W._Dijkstra\" title=\"Edsger W. Dijkstra\">Edsger W. Dijkstra</a></li>\n",
       "<li><a href=\"/wiki/J._Presper_Eckert\" title=\"J. Presper Eckert\">J. Presper Eckert</a></li>\n",
       "<li><a href=\"/wiki/Adele_Goldstine\" title=\"Adele Goldstine\">Adele Goldstine</a></li>\n",
       "<li><a href=\"/wiki/Lois_Haibt\" title=\"Lois Haibt\">Lois Haibt</a></li>\n",
       "<li><a href=\"/wiki/Betty_Holberton\" title=\"Betty Holberton\">Betty Holberton</a></li>\n",
       "<li><a href=\"/wiki/Margaret_Hamilton_(software_engineer)\" title=\"Margaret Hamilton (software engineer)\">Margaret Hamilton</a></li>\n",
       "<li><a class=\"mw-selflink selflink\">Grace Hopper</a></li>\n",
       "<li><a href=\"/wiki/David_A._Huffman\" title=\"David A. Huffman\">David A. Huffman</a></li>\n",
       "<li><a href=\"/wiki/Bob_Kahn\" title=\"Bob Kahn\">Bob Kahn</a></li>\n",
       "<li><a href=\"/wiki/Brian_Kernighan\" title=\"Brian Kernighan\">Brian Kernighan</a></li>\n",
       "<li><a href=\"/wiki/Andrew_Koenig_(programmer)\" title=\"Andrew Koenig (programmer)\">Andrew Koenig</a></li>\n",
       "<li><a href=\"/wiki/Semyon_Korsakov\" title=\"Semyon Korsakov\">Semyon Korsakov</a></li>\n",
       "<li><a href=\"/wiki/Nancy_Leveson\" title=\"Nancy Leveson\">Nancy Leveson</a></li>\n",
       "<li><a href=\"/wiki/Ada_Lovelace\" title=\"Ada Lovelace\">Ada Lovelace</a></li>\n",
       "<li><a href=\"/wiki/Donald_Knuth\" title=\"Donald Knuth\">Donald Knuth</a></li>\n",
       "<li><a href=\"/wiki/Joseph_Kruskal\" title=\"Joseph Kruskal\">Joseph Kruskal</a></li>\n",
       "<li><a href=\"/wiki/Douglas_McIlroy\" title=\"Douglas McIlroy\">Douglas McIlroy</a></li>\n",
       "<li><a href=\"/wiki/Marlyn_Meltzer\" title=\"Marlyn Meltzer\">Marlyn Meltzer</a></li>\n",
       "<li><a href=\"/wiki/John_von_Neumann\" title=\"John von Neumann\">John von Neumann</a></li>\n",
       "<li><a href=\"/wiki/Kl%C3%A1ra_D%C3%A1n_von_Neumann\" title=\"Klára Dán von Neumann\">Klára Dán von Neumann</a></li>\n",
       "<li><a href=\"/wiki/Dennis_Ritchie\" title=\"Dennis Ritchie\">Dennis Ritchie</a></li>\n",
       "<li><a href=\"/wiki/Guido_van_Rossum\" title=\"Guido van Rossum\">Guido van Rossum</a></li>\n",
       "<li><a href=\"/wiki/Claude_Shannon\" title=\"Claude Shannon\">Claude Shannon</a></li>\n",
       "<li><a href=\"/wiki/Frances_Spence\" title=\"Frances Spence\">Frances Spence</a></li>\n",
       "<li><a href=\"/wiki/Bjarne_Stroustrup\" title=\"Bjarne Stroustrup\">Bjarne Stroustrup</a></li>\n",
       "<li><a href=\"/wiki/Ruth_Teitelbaum\" title=\"Ruth Teitelbaum\">Ruth Teitelbaum</a></li>\n",
       "<li><a href=\"/wiki/Ken_Thompson\" title=\"Ken Thompson\">Ken Thompson</a></li>\n",
       "<li><a href=\"/wiki/Linus_Torvalds\" title=\"Linus Torvalds\">Linus Torvalds</a></li>\n",
       "<li><a href=\"/wiki/Alan_Turing\" title=\"Alan Turing\">Alan Turing</a></li>\n",
       "<li><a href=\"/wiki/Paul_Vixie\" title=\"Paul Vixie\">Paul Vixie</a></li>\n",
       "<li><a href=\"/wiki/Larry_Wall\" title=\"Larry Wall\">Larry Wall</a></li>\n",
       "<li><a href=\"/wiki/Stephen_Wolfram\" title=\"Stephen Wolfram\">Stephen Wolfram</a></li>\n",
       "<li><a href=\"/wiki/Niklaus_Wirth\" title=\"Niklaus Wirth\">Niklaus Wirth</a></li>\n",
       "<li><a href=\"/wiki/Steve_Wozniak\" title=\"Steve Wozniak\">Steve Wozniak</a></li>\n",
       "<li><a href=\"/wiki/Konrad_Zuse\" title=\"Konrad Zuse\">Konrad Zuse</a></li></ul>\n",
       "</div></td></tr></tbody></table></div>\n",
       "<div class=\"navbox-styles\"><link href=\"mw-data:TemplateStyles:r1129693374\" rel=\"mw-deduplicated-inline-style\"/><link href=\"mw-data:TemplateStyles:r1061467846\" rel=\"mw-deduplicated-inline-style\"/></div><div aria-labelledby=\"Software_engineering\" class=\"navbox\" role=\"navigation\" style=\"padding:3px\"><table class=\"nowraplinks hlist mw-collapsible autocollapse navbox-inner\" style=\"border-spacing:0;background:transparent;color:inherit\"><tbody><tr><th class=\"navbox-title\" colspan=\"2\" scope=\"col\"><link href=\"mw-data:TemplateStyles:r1129693374\" rel=\"mw-deduplicated-inline-style\"/><link href=\"mw-data:TemplateStyles:r1063604349\" rel=\"mw-deduplicated-inline-style\"/><div class=\"navbar plainlinks hlist navbar-mini\"><ul><li class=\"nv-view\"><a href=\"/wiki/Template:Software_engineering\" title=\"Template:Software engineering\"><abbr style=\";;background:none transparent;border:none;box-shadow:none;padding:0;\" title=\"View this template\">v</abbr></a></li><li class=\"nv-talk\"><a href=\"/wiki/Template_talk:Software_engineering\" title=\"Template talk:Software engineering\"><abbr style=\";;background:none transparent;border:none;box-shadow:none;padding:0;\" title=\"Discuss this template\">t</abbr></a></li><li class=\"nv-edit\"><a class=\"external text\" href=\"https://en.wikipedia.org/w/index.php?title=Template:Software_engineering&amp;action=edit\"><abbr style=\";;background:none transparent;border:none;box-shadow:none;padding:0;\" title=\"Edit this template\">e</abbr></a></li></ul></div><div id=\"Software_engineering\" style=\"font-size:114%;margin:0 4em\"><a href=\"/wiki/Software_engineering\" title=\"Software engineering\">Software engineering</a></div></th></tr><tr><th class=\"navbox-group\" scope=\"row\" style=\"width:1%\">Fields</th><td class=\"navbox-list-with-group navbox-list navbox-odd\" style=\"width:100%;padding:0\"><div style=\"padding:0 0.25em\">\n",
       "<ul><li><a href=\"/wiki/Computer_programming\" title=\"Computer programming\">Computer programming</a></li>\n",
       "<li><a href=\"/wiki/DevOps\" title=\"DevOps\">DevOps</a></li>\n",
       "<li><a href=\"/wiki/Formal_methods\" title=\"Formal methods\">Formal methods</a></li>\n",
       "<li><a href=\"/wiki/Requirements_engineering\" title=\"Requirements engineering\">Requirements engineering</a></li>\n",
       "<li><a href=\"/wiki/Site_reliability_engineering\" title=\"Site reliability engineering\">Site reliability engineering</a></li>\n",
       "<li><a href=\"/wiki/Software_deployment\" title=\"Software deployment\">Software deployment</a></li>\n",
       "<li><a href=\"/wiki/Software_design\" title=\"Software design\">Software design</a></li>\n",
       "<li><a href=\"/wiki/Software_maintenance\" title=\"Software maintenance\">Software maintenance</a></li>\n",
       "<li><a href=\"/wiki/Software_testing\" title=\"Software testing\">Software testing</a></li>\n",
       "<li><a href=\"/wiki/Systems_analysis\" title=\"Systems analysis\">Systems analysis</a></li></ul>\n",
       "</div></td></tr><tr><th class=\"navbox-group\" scope=\"row\" style=\"width:1%\">Concepts</th><td class=\"navbox-list-with-group navbox-list navbox-even\" style=\"width:100%;padding:0\"><div style=\"padding:0 0.25em\">\n",
       "<ul><li><a href=\"/wiki/Data_modeling\" title=\"Data modeling\">Data modeling</a></li>\n",
       "<li><a href=\"/wiki/Enterprise_architecture\" title=\"Enterprise architecture\">Enterprise architecture</a></li>\n",
       "<li><a href=\"/wiki/Functional_specification\" title=\"Functional specification\">Functional specification</a></li>\n",
       "<li><a href=\"/wiki/Modeling_language\" title=\"Modeling language\">Modeling language</a></li>\n",
       "<li><a href=\"/wiki/Programming_paradigm\" title=\"Programming paradigm\">Programming paradigm</a></li>\n",
       "<li><a href=\"/wiki/Software\" title=\"Software\">Software</a></li>\n",
       "<li><a href=\"/wiki/Software_archaeology\" title=\"Software archaeology\">Software archaeology</a></li>\n",
       "<li><a href=\"/wiki/Software_architecture\" title=\"Software architecture\">Software architecture</a></li>\n",
       "<li><a href=\"/wiki/Software_configuration_management\" title=\"Software configuration management\">Software configuration management</a></li>\n",
       "<li><a href=\"/wiki/Software_development_process\" title=\"Software development process\">Software development process/methodology</a></li>\n",
       "<li><a href=\"/wiki/Software_quality\" title=\"Software quality\">Software quality</a></li>\n",
       "<li><a href=\"/wiki/Software_quality_assurance\" title=\"Software quality assurance\">Software quality assurance</a></li>\n",
       "<li><a href=\"/wiki/Software_verification_and_validation\" title=\"Software verification and validation\">Software verification and validation</a></li>\n",
       "<li><a href=\"/wiki/Structured_analysis\" title=\"Structured analysis\">Structured analysis</a>\n",
       "<ul><li><a href=\"/wiki/Essential_Systems_Analysis\" title=\"Essential Systems Analysis\">Essential Analysis</a></li></ul></li>\n",
       "<li><a href=\"/wiki/CI/CD\" title=\"CI/CD\">CI/CD</a></li></ul>\n",
       "</div></td></tr><tr><th class=\"navbox-group\" scope=\"row\" style=\"width:1%\">Orientations</th><td class=\"navbox-list-with-group navbox-list navbox-odd\" style=\"width:100%;padding:0\"><div style=\"padding:0 0.25em\">\n",
       "<ul><li><a href=\"/wiki/Agile_software_development\" title=\"Agile software development\">Agile</a></li>\n",
       "<li><a href=\"/wiki/Aspect-oriented_programming\" title=\"Aspect-oriented programming\">Aspect-oriented</a></li>\n",
       "<li><a href=\"/wiki/Object-oriented_programming\" title=\"Object-oriented programming\">Object orientation</a></li>\n",
       "<li><a href=\"/wiki/Ontology_(computer_science)\" title=\"Ontology (computer science)\">Ontology</a></li>\n",
       "<li><a href=\"/wiki/Service-oriented_architecture\" title=\"Service-oriented architecture\">Service orientation</a></li>\n",
       "<li><a href=\"/wiki/Systems_development_life_cycle\" title=\"Systems development life cycle\">SDLC</a></li></ul>\n",
       "</div></td></tr><tr><th class=\"navbox-group\" scope=\"row\" style=\"width:1%\">Models</th><td class=\"navbox-list-with-group navbox-list navbox-odd\" style=\"width:100%;padding:0\"><div style=\"padding:0 0.25em\"></div><table class=\"nowraplinks navbox-subgroup\" style=\"border-spacing:0\"><tbody><tr><th class=\"navbox-group\" scope=\"row\" style=\"width:1%;font-weight:normal;\">Developmental</th><td class=\"navbox-list-with-group navbox-list navbox-even\" style=\"width:100%;padding:0\"><div style=\"padding:0 0.25em\">\n",
       "<ul><li><a href=\"/wiki/Agile_software_development\" title=\"Agile software development\">Agile</a></li>\n",
       "<li><a href=\"/wiki/Enterprise_Unified_Process\" title=\"Enterprise Unified Process\">EUP</a></li>\n",
       "<li><a href=\"/wiki/Executable_UML\" title=\"Executable UML\">Executable UML</a></li>\n",
       "<li><a href=\"/wiki/Incremental_build_model\" title=\"Incremental build model\">Incremental model</a></li>\n",
       "<li><a href=\"/wiki/Iterative_and_incremental_development\" title=\"Iterative and incremental development\">Iterative model</a></li>\n",
       "<li><a href=\"/wiki/Software_prototyping\" title=\"Software prototyping\">Prototype model</a></li>\n",
       "<li><a href=\"/wiki/Rapid_application_development\" title=\"Rapid application development\">RAD</a></li>\n",
       "<li><a href=\"/wiki/Unified_Process\" title=\"Unified Process\">UP</a></li>\n",
       "<li><a href=\"/wiki/Scrum_(software_development)\" title=\"Scrum (software development)\">Scrum</a></li>\n",
       "<li><a href=\"/wiki/Spiral_model\" title=\"Spiral model\">Spiral model</a></li>\n",
       "<li><a class=\"mw-redirect\" href=\"/wiki/V-Model_(software_development)\" title=\"V-Model (software development)\">V-Model</a></li>\n",
       "<li><a href=\"/wiki/Waterfall_model\" title=\"Waterfall model\">Waterfall model</a></li>\n",
       "<li><a href=\"/wiki/Extreme_programming\" title=\"Extreme programming\">XP</a></li></ul>\n",
       "</div></td></tr><tr><th class=\"navbox-group\" scope=\"row\" style=\"width:1%;font-weight:normal;\">Other</th><td class=\"navbox-list-with-group navbox-list navbox-odd\" style=\"width:100%;padding:0\"><div style=\"padding:0 0.25em\">\n",
       "<ul><li><a href=\"/wiki/ISO/IEC_15504\" title=\"ISO/IEC 15504\">SPICE</a></li>\n",
       "<li><a href=\"/wiki/Capability_Maturity_Model_Integration\" title=\"Capability Maturity Model Integration\">CMMI</a></li>\n",
       "<li><a href=\"/wiki/Data_model\" title=\"Data model\">Data model</a></li>\n",
       "<li><a href=\"/wiki/Entity%E2%80%93relationship_model\" title=\"Entity–relationship model\">ER model</a></li>\n",
       "<li><a href=\"/wiki/Function_model\" title=\"Function model\">Function model</a></li>\n",
       "<li><a href=\"/wiki/Information_model\" title=\"Information model\">Information model</a></li>\n",
       "<li><a href=\"/wiki/Metamodeling\" title=\"Metamodeling\">Metamodeling</a></li>\n",
       "<li><a href=\"/wiki/Object_model\" title=\"Object model\">Object model</a></li>\n",
       "<li><a href=\"/wiki/Systems_modeling\" title=\"Systems modeling\">Systems model</a></li>\n",
       "<li><a href=\"/wiki/View_model\" title=\"View model\">View model</a></li></ul>\n",
       "</div></td></tr><tr><th class=\"navbox-group\" scope=\"row\" style=\"width:1%;font-weight:normal;\">Languages</th><td class=\"navbox-list-with-group navbox-list navbox-even\" style=\"width:100%;padding:0\"><div style=\"padding:0 0.25em\">\n",
       "<ul><li><a href=\"/wiki/IDEF\" title=\"IDEF\">IDEF</a></li>\n",
       "<li><a href=\"/wiki/Unified_Modeling_Language\" title=\"Unified Modeling Language\">UML</a></li>\n",
       "<li><a href=\"/wiki/Universal_Systems_Language\" title=\"Universal Systems Language\">USL</a></li>\n",
       "<li><a href=\"/wiki/Systems_Modeling_Language\" title=\"Systems Modeling Language\">SysML</a></li></ul>\n",
       "</div></td></tr></tbody></table><div></div></td></tr><tr><th class=\"navbox-group\" scope=\"row\" style=\"width:1%\">Related fields</th><td class=\"navbox-list-with-group navbox-list navbox-odd\" style=\"width:100%;padding:0\"><div style=\"padding:0 0.25em\">\n",
       "<ul><li><a href=\"/wiki/Computer_science\" title=\"Computer science\">Computer science</a></li>\n",
       "<li><a href=\"/wiki/Computer_engineering\" title=\"Computer engineering\">Computer engineering</a></li>\n",
       "<li><a href=\"/wiki/Information_science\" title=\"Information science\">Information science</a></li>\n",
       "<li><a href=\"/wiki/Project_management\" title=\"Project management\">Project management</a></li>\n",
       "<li><a href=\"/wiki/Risk_management\" title=\"Risk management\">Risk management</a></li>\n",
       "<li><a href=\"/wiki/Systems_engineering\" title=\"Systems engineering\">Systems engineering</a></li></ul>\n",
       "</div></td></tr><tr><td class=\"navbox-abovebelow\" colspan=\"2\" style=\"font-weight:bold;\"><div>\n",
       "<ul><li><img alt=\"\" class=\"noviewer\" data-file-height=\"1376\" data-file-width=\"1024\" decoding=\"async\" height=\"16\" src=\"//upload.wikimedia.org/wikipedia/en/thumb/4/4a/Commons-logo.svg/12px-Commons-logo.svg.png\" srcset=\"//upload.wikimedia.org/wikipedia/en/thumb/4/4a/Commons-logo.svg/18px-Commons-logo.svg.png 1.5x, //upload.wikimedia.org/wikipedia/en/thumb/4/4a/Commons-logo.svg/24px-Commons-logo.svg.png 2x\" title=\"Commons page\" width=\"12\"/> <a class=\"extiw\" href=\"https://commons.wikimedia.org/wiki/Category:Software_engineering\" title=\"commons:Category:Software engineering\">Commons</a></li>\n",
       "<li><img alt=\"\" class=\"noviewer\" data-file-height=\"185\" data-file-width=\"180\" decoding=\"async\" height=\"16\" src=\"//upload.wikimedia.org/wikipedia/en/thumb/9/96/Symbol_category_class.svg/16px-Symbol_category_class.svg.png\" srcset=\"//upload.wikimedia.org/wikipedia/en/thumb/9/96/Symbol_category_class.svg/23px-Symbol_category_class.svg.png 1.5x, //upload.wikimedia.org/wikipedia/en/thumb/9/96/Symbol_category_class.svg/31px-Symbol_category_class.svg.png 2x\" title=\"Category\" width=\"16\"/> <a href=\"/wiki/Category:Software_engineering\" title=\"Category:Software engineering\">Category</a></li></ul>\n",
       "</div></td></tr></tbody></table></div>\n",
       "<div class=\"navbox-styles\"><link href=\"mw-data:TemplateStyles:r1129693374\" rel=\"mw-deduplicated-inline-style\"/><link href=\"mw-data:TemplateStyles:r1061467846\" rel=\"mw-deduplicated-inline-style\"/></div><div aria-labelledby=\"Inductees_to_the_National_Women&amp;#039;s_Hall_of_Fame\" class=\"navbox\" role=\"navigation\" style=\"padding:3px\"><table class=\"nowraplinks mw-collapsible mw-collapsed navbox-inner\" style=\"border-spacing:0;background:transparent;color:inherit\"><tbody><tr><th class=\"navbox-title\" colspan=\"2\" scope=\"col\"><link href=\"mw-data:TemplateStyles:r1129693374\" rel=\"mw-deduplicated-inline-style\"/><link href=\"mw-data:TemplateStyles:r1063604349\" rel=\"mw-deduplicated-inline-style\"/><div class=\"navbar plainlinks hlist navbar-mini\"><ul><li class=\"nv-view\"><a href=\"/wiki/Template:National_Women%27s_Hall_of_Fame\" title=\"Template:National Women's Hall of Fame\"><abbr style=\";;background:none transparent;border:none;box-shadow:none;padding:0;\" title=\"View this template\">v</abbr></a></li><li class=\"nv-talk\"><a href=\"/wiki/Template_talk:National_Women%27s_Hall_of_Fame\" title=\"Template talk:National Women's Hall of Fame\"><abbr style=\";;background:none transparent;border:none;box-shadow:none;padding:0;\" title=\"Discuss this template\">t</abbr></a></li><li class=\"nv-edit\"><a class=\"external text\" href=\"https://en.wikipedia.org/w/index.php?title=Template:National_Women%27s_Hall_of_Fame&amp;action=edit\"><abbr style=\";;background:none transparent;border:none;box-shadow:none;padding:0;\" title=\"Edit this template\">e</abbr></a></li></ul></div><div id=\"Inductees_to_the_National_Women&amp;#039;s_Hall_of_Fame\" style=\"font-size:114%;margin:0 4em\">Inductees to the <a href=\"/wiki/National_Women%27s_Hall_of_Fame\" title=\"National Women's Hall of Fame\">National Women's Hall of Fame</a></div></th></tr><tr><td class=\"navbox-list navbox-odd hlist\" colspan=\"2\" style=\"width:100%;padding:0\"><div style=\"padding:0 0.25em\"></div><table class=\"nowraplinks mw-collapsible mw-collapsed navbox-subgroup\" style=\"border-spacing:0\"><tbody><tr><th class=\"navbox-title\" colspan=\"2\" scope=\"col\"><div id=\"1970–1979\" style=\"font-size:114%;margin:0 4em\">1970–1979</div></th></tr><tr><td class=\"navbox-list navbox-odd\" colspan=\"2\" style=\"width:100%;padding:0\"><div style=\"padding:0 0.25em\"></div><table class=\"nowraplinks navbox-subgroup\" style=\"border-spacing:0\"><tbody><tr><th class=\"navbox-group\" scope=\"row\" style=\"width:1%\">1973</th><td class=\"navbox-list-with-group navbox-list navbox-odd\" style=\"width:100%;padding:0\"><div style=\"padding:0 0.25em\">\n",
       "<ul><li><a href=\"/wiki/Jane_Addams\" title=\"Jane Addams\">Jane Addams</a></li>\n",
       "<li><a href=\"/wiki/Marian_Anderson\" title=\"Marian Anderson\">Marian Anderson</a></li>\n",
       "<li><a href=\"/wiki/Susan_B._Anthony\" title=\"Susan B. Anthony\">Susan B. Anthony</a></li>\n",
       "<li><a href=\"/wiki/Clara_Barton\" title=\"Clara Barton\">Clara Barton</a></li>\n",
       "<li><a href=\"/wiki/Mary_McLeod_Bethune\" title=\"Mary McLeod Bethune\">Mary McLeod Bethune</a></li>\n",
       "<li><a href=\"/wiki/Elizabeth_Blackwell\" title=\"Elizabeth Blackwell\">Elizabeth Blackwell</a></li>\n",
       "<li><a href=\"/wiki/Pearl_S._Buck\" title=\"Pearl S. Buck\">Pearl S. Buck</a></li>\n",
       "<li><a href=\"/wiki/Rachel_Carson\" title=\"Rachel Carson\">Rachel Carson</a></li>\n",
       "<li><a href=\"/wiki/Mary_Cassatt\" title=\"Mary Cassatt\">Mary Cassatt</a></li>\n",
       "<li><a href=\"/wiki/Emily_Dickinson\" title=\"Emily Dickinson\">Emily Dickinson</a></li>\n",
       "<li><a href=\"/wiki/Amelia_Earhart\" title=\"Amelia Earhart\">Amelia Earhart</a></li>\n",
       "<li><a href=\"/wiki/Alice_Hamilton\" title=\"Alice Hamilton\">Alice Hamilton</a></li>\n",
       "<li><a href=\"/wiki/Helen_Hayes\" title=\"Helen Hayes\">Helen Hayes</a></li>\n",
       "<li><a href=\"/wiki/Helen_Keller\" title=\"Helen Keller\">Helen Keller</a></li>\n",
       "<li><a href=\"/wiki/Eleanor_Roosevelt\" title=\"Eleanor Roosevelt\">Eleanor Roosevelt</a></li>\n",
       "<li><a href=\"/wiki/Florence_R._Sabin\" title=\"Florence R. Sabin\">Florence Sabin</a></li>\n",
       "<li><a href=\"/wiki/Margaret_Chase_Smith\" title=\"Margaret Chase Smith\">Margaret Chase Smith</a></li>\n",
       "<li><a href=\"/wiki/Elizabeth_Cady_Stanton\" title=\"Elizabeth Cady Stanton\">Elizabeth Cady Stanton</a></li>\n",
       "<li><a href=\"/wiki/Helen_B._Taussig\" title=\"Helen B. Taussig\">Helen Brooke Taussig</a></li>\n",
       "<li><a href=\"/wiki/Harriet_Tubman\" title=\"Harriet Tubman\">Harriet Tubman</a></li></ul>\n",
       "</div></td></tr><tr><th class=\"navbox-group\" scope=\"row\" style=\"width:1%\">1976</th><td class=\"navbox-list-with-group navbox-list navbox-even\" style=\"width:100%;padding:0\"><div style=\"padding:0 0.25em\">\n",
       "<ul><li><a href=\"/wiki/Abigail_Adams\" title=\"Abigail Adams\">Abigail Adams</a></li>\n",
       "<li><a href=\"/wiki/Margaret_Mead\" title=\"Margaret Mead\">Margaret Mead</a></li>\n",
       "<li><a href=\"/wiki/Babe_Didrikson_Zaharias\" title=\"Babe Didrikson Zaharias\">Mildred \"Babe\" Didrikson Zaharias</a></li></ul>\n",
       "</div></td></tr><tr><th class=\"navbox-group\" scope=\"row\" style=\"width:1%\">1979</th><td class=\"navbox-list-with-group navbox-list navbox-odd\" style=\"width:100%;padding:0\"><div style=\"padding:0 0.25em\">\n",
       "<ul><li><a href=\"/wiki/Dorothea_Dix\" title=\"Dorothea Dix\">Dorothea Dix</a></li>\n",
       "<li><a href=\"/wiki/Juliette_Gordon_Low\" title=\"Juliette Gordon Low\">Juliette Gordon Low</a></li>\n",
       "<li><a href=\"/wiki/Alice_Paul\" title=\"Alice Paul\">Alice Paul</a></li>\n",
       "<li><a href=\"/wiki/Elizabeth_Ann_Seton\" title=\"Elizabeth Ann Seton\">Elizabeth Bayley Seton</a></li></ul>\n",
       "</div></td></tr></tbody></table><div></div></td></tr></tbody></table><div></div></td></tr><tr><td class=\"navbox-list navbox-odd hlist\" colspan=\"2\" style=\"width:100%;padding:0\"><div style=\"padding:0 0.25em\"></div><table class=\"nowraplinks mw-collapsible mw-collapsed navbox-subgroup\" style=\"border-spacing:0\"><tbody><tr><th class=\"navbox-title\" colspan=\"2\" scope=\"col\"><div id=\"1980–1989\" style=\"font-size:114%;margin:0 4em\">1980–1989</div></th></tr><tr><td class=\"navbox-list navbox-odd\" colspan=\"2\" style=\"width:100%;padding:0\"><div style=\"padding:0 0.25em\"></div><table class=\"nowraplinks navbox-subgroup\" style=\"border-spacing:0\"><tbody><tr><th class=\"navbox-group\" scope=\"row\" style=\"width:1%\">1981</th><td class=\"navbox-list-with-group navbox-list navbox-odd\" style=\"width:100%;padding:0\"><div style=\"padding:0 0.25em\">\n",
       "<ul><li><a href=\"/wiki/Margaret_Sanger\" title=\"Margaret Sanger\">Margaret Sanger</a></li>\n",
       "<li><a href=\"/wiki/Sojourner_Truth\" title=\"Sojourner Truth\">Sojourner Truth</a></li></ul>\n",
       "</div></td></tr><tr><th class=\"navbox-group\" scope=\"row\" style=\"width:1%\">1982</th><td class=\"navbox-list-with-group navbox-list navbox-even\" style=\"width:100%;padding:0\"><div style=\"padding:0 0.25em\">\n",
       "<ul><li><a href=\"/wiki/Carrie_Chapman_Catt\" title=\"Carrie Chapman Catt\">Carrie Chapman Catt</a></li>\n",
       "<li><a href=\"/wiki/Frances_Perkins\" title=\"Frances Perkins\">Frances Perkins</a></li></ul>\n",
       "</div></td></tr><tr><th class=\"navbox-group\" scope=\"row\" style=\"width:1%\">1983</th><td class=\"navbox-list-with-group navbox-list navbox-odd\" style=\"width:100%;padding:0\"><div style=\"padding:0 0.25em\">\n",
       "<ul><li><a href=\"/wiki/Belva_Ann_Lockwood\" title=\"Belva Ann Lockwood\">Belva Lockwood</a></li>\n",
       "<li><a href=\"/wiki/Lucretia_Mott\" title=\"Lucretia Mott\">Lucretia Mott</a></li></ul>\n",
       "</div></td></tr><tr><th class=\"navbox-group\" scope=\"row\" style=\"width:1%\">1984</th><td class=\"navbox-list-with-group navbox-list navbox-even\" style=\"width:100%;padding:0\"><div style=\"padding:0 0.25em\">\n",
       "<ul><li><a href=\"/wiki/Mother_Jones\" title=\"Mother Jones\">Mary \"Mother\" Harris Jones</a></li>\n",
       "<li><a href=\"/wiki/Bessie_Smith\" title=\"Bessie Smith\">Bessie Smith</a></li></ul>\n",
       "</div></td></tr><tr><th class=\"navbox-group\" scope=\"row\" style=\"width:1%\">1986</th><td class=\"navbox-list-with-group navbox-list navbox-odd\" style=\"width:100%;padding:0\"><div style=\"padding:0 0.25em\">\n",
       "<ul><li><a href=\"/wiki/Barbara_McClintock\" title=\"Barbara McClintock\">Barbara McClintock</a></li>\n",
       "<li><a href=\"/wiki/Lucy_Stone\" title=\"Lucy Stone\">Lucy Stone</a></li>\n",
       "<li><a href=\"/wiki/Harriet_Beecher_Stowe\" title=\"Harriet Beecher Stowe\">Harriet Beecher Stowe</a></li></ul>\n",
       "</div></td></tr><tr><th class=\"navbox-group\" scope=\"row\" style=\"width:1%\">1988</th><td class=\"navbox-list-with-group navbox-list navbox-even\" style=\"width:100%;padding:0\"><div style=\"padding:0 0.25em\">\n",
       "<ul><li><a href=\"/wiki/Gwendolyn_Brooks\" title=\"Gwendolyn Brooks\">Gwendolyn Brooks</a></li>\n",
       "<li><a href=\"/wiki/Willa_Cather\" title=\"Willa Cather\">Willa Cather</a></li>\n",
       "<li><a href=\"/wiki/Sally_Ride\" title=\"Sally Ride\">Sally Ride</a></li>\n",
       "<li><a href=\"/wiki/Mary_Risteau\" title=\"Mary Risteau\">Mary Risteau</a></li>\n",
       "<li><a href=\"/wiki/Ida_B._Wells\" title=\"Ida B. Wells\">Ida B. Wells-Barnett</a></li></ul>\n",
       "</div></td></tr></tbody></table><div></div></td></tr></tbody></table><div></div></td></tr><tr><td class=\"navbox-list navbox-odd hlist\" colspan=\"2\" style=\"width:100%;padding:0\"><div style=\"padding:0 0.25em\"></div><table class=\"nowraplinks mw-collapsible mw-collapsed navbox-subgroup\" style=\"border-spacing:0\"><tbody><tr><th class=\"navbox-title\" colspan=\"2\" scope=\"col\"><div id=\"1990–1999\" style=\"font-size:114%;margin:0 4em\">1990–1999</div></th></tr><tr><td class=\"navbox-list navbox-odd\" colspan=\"2\" style=\"width:100%;padding:0\"><div style=\"padding:0 0.25em\"></div><table class=\"nowraplinks navbox-subgroup\" style=\"border-spacing:0\"><tbody><tr><th class=\"navbox-group\" scope=\"row\" style=\"width:1%\">1990</th><td class=\"navbox-list-with-group navbox-list navbox-odd\" style=\"width:100%;padding:0\"><div style=\"padding:0 0.25em\">\n",
       "<ul><li><a href=\"/wiki/Margaret_Bourke-White\" title=\"Margaret Bourke-White\">Margaret Bourke-White</a></li>\n",
       "<li><a href=\"/wiki/Barbara_Jordan\" title=\"Barbara Jordan\">Barbara Jordan</a></li>\n",
       "<li><a href=\"/wiki/Billie_Jean_King\" title=\"Billie Jean King\">Billie Jean King</a></li>\n",
       "<li><a href=\"/wiki/Florence_B._Seibert\" title=\"Florence B. Seibert\">Florence B. Seibert</a></li></ul>\n",
       "</div></td></tr><tr><th class=\"navbox-group\" scope=\"row\" style=\"width:1%\">1991</th><td class=\"navbox-list-with-group navbox-list navbox-even\" style=\"width:100%;padding:0\"><div style=\"padding:0 0.25em\">\n",
       "<ul><li><a href=\"/wiki/Gertrude_B._Elion\" title=\"Gertrude B. Elion\">Gertrude Belle Elion</a></li></ul>\n",
       "</div></td></tr><tr><th class=\"navbox-group\" scope=\"row\" style=\"width:1%\">1993</th><td class=\"navbox-list-with-group navbox-list navbox-odd\" style=\"width:100%;padding:0\"><div style=\"padding:0 0.25em\">\n",
       "<ul><li><a href=\"/wiki/Ethel_Percy_Andrus\" title=\"Ethel Percy Andrus\">Ethel Percy Andrus</a></li>\n",
       "<li><a href=\"/wiki/Antoinette_Brown_Blackwell\" title=\"Antoinette Brown Blackwell\">Antoinette Blackwell</a></li>\n",
       "<li><a href=\"/wiki/Emily_Blackwell\" title=\"Emily Blackwell\">Emily Blackwell</a></li>\n",
       "<li><a href=\"/wiki/Shirley_Chisholm\" title=\"Shirley Chisholm\">Shirley Chisholm</a></li>\n",
       "<li><a href=\"/wiki/Jacqueline_Cochran\" title=\"Jacqueline Cochran\">Jacqueline Cochran</a></li>\n",
       "<li><a href=\"/wiki/Ruth_Johnson_Colvin\" title=\"Ruth Johnson Colvin\">Ruth Colvin</a></li>\n",
       "<li><a href=\"/wiki/Marian_Wright_Edelman\" title=\"Marian Wright Edelman\">Marian Wright Edelman</a></li>\n",
       "<li><a href=\"/wiki/Alice_Catherine_Evans\" title=\"Alice Catherine Evans\">Alice Evans</a></li>\n",
       "<li><a href=\"/wiki/Betty_Friedan\" title=\"Betty Friedan\">Betty Friedan</a></li>\n",
       "<li><a href=\"/wiki/Ella_Grasso\" title=\"Ella Grasso\">Ella Grasso</a></li>\n",
       "<li><a href=\"/wiki/Martha_Griffiths\" title=\"Martha Griffiths\">Martha Wright Griffiths</a></li>\n",
       "<li><a href=\"/wiki/Fannie_Lou_Hamer\" title=\"Fannie Lou Hamer\">Fannie Lou Hamer</a></li>\n",
       "<li><a href=\"/wiki/Dorothy_Height\" title=\"Dorothy Height\">Dorothy Height</a></li>\n",
       "<li><a href=\"/wiki/Dolores_Huerta\" title=\"Dolores Huerta\">Dolores Huerta</a></li>\n",
       "<li><a href=\"/wiki/Mary_Putnam_Jacobi\" title=\"Mary Putnam Jacobi\">Mary Putnam Jacobi</a></li>\n",
       "<li><a href=\"/wiki/Mae_Jemison\" title=\"Mae Jemison\">Mae Jemison</a></li>\n",
       "<li><a href=\"/wiki/Mary_Lyon\" title=\"Mary Lyon\">Mary Lyon</a></li>\n",
       "<li><a href=\"/wiki/Mary_Eliza_Mahoney\" title=\"Mary Eliza Mahoney\">Mary Mahoney</a></li>\n",
       "<li><a href=\"/wiki/Wilma_Mankiller\" title=\"Wilma Mankiller\">Wilma Mankiller</a></li>\n",
       "<li><a href=\"/wiki/Constance_Baker_Motley\" title=\"Constance Baker Motley\">Constance Baker Motley</a></li>\n",
       "<li><a href=\"/wiki/Georgia_O%27Keeffe\" title=\"Georgia O'Keeffe\">Georgia O'Keeffe</a></li>\n",
       "<li><a href=\"/wiki/Annie_Oakley\" title=\"Annie Oakley\">Annie Oakley</a></li>\n",
       "<li><a href=\"/wiki/Rosa_Parks\" title=\"Rosa Parks\">Rosa Parks</a></li>\n",
       "<li><a href=\"/wiki/Esther_Peterson\" title=\"Esther Peterson\">Esther Peterson</a></li>\n",
       "<li><a href=\"/wiki/Jeannette_Rankin\" title=\"Jeannette Rankin\">Jeannette Rankin</a></li>\n",
       "<li><a href=\"/wiki/Ellen_Swallow_Richards\" title=\"Ellen Swallow Richards\">Ellen Swallow Richards</a></li>\n",
       "<li><a href=\"/wiki/Elaine_Roulet\" title=\"Elaine Roulet\">Elaine Roulet</a></li>\n",
       "<li><a href=\"/wiki/Katherine_Siva_Saubel\" title=\"Katherine Siva Saubel\">Katherine Siva Saubel</a></li>\n",
       "<li><a href=\"/wiki/Gloria_Steinem\" title=\"Gloria Steinem\">Gloria Steinem</a></li>\n",
       "<li><a href=\"/wiki/Helen_Stephens\" title=\"Helen Stephens\">Helen Stephens</a></li>\n",
       "<li><a href=\"/wiki/Lillian_Wald\" title=\"Lillian Wald\">Lillian Wald</a></li>\n",
       "<li><a href=\"/wiki/Madam_C._J._Walker\" title=\"Madam C. J. Walker\">Madam C. J. Walker</a></li>\n",
       "<li><a href=\"/wiki/Faye_Wattleton\" title=\"Faye Wattleton\">Faye Wattleton</a></li>\n",
       "<li><a href=\"/wiki/Rosalyn_Sussman_Yalow\" title=\"Rosalyn Sussman Yalow\">Rosalyn S. Yalow</a></li>\n",
       "<li><a href=\"/wiki/Gloria_Yerkovich\" title=\"Gloria Yerkovich\">Gloria Yerkovich</a></li></ul>\n",
       "</div></td></tr><tr><th class=\"navbox-group\" scope=\"row\" style=\"width:1%\">1994</th><td class=\"navbox-list-with-group navbox-list navbox-even\" style=\"width:100%;padding:0\"><div style=\"padding:0 0.25em\">\n",
       "<ul><li><a href=\"/wiki/Bella_Abzug\" title=\"Bella Abzug\">Bella Abzug</a></li>\n",
       "<li><a href=\"/wiki/Ella_Baker\" title=\"Ella Baker\">Ella Baker</a></li>\n",
       "<li><a href=\"/wiki/Myra_Bradwell\" title=\"Myra Bradwell\">Myra Bradwell</a></li>\n",
       "<li><a href=\"/wiki/Annie_Jump_Cannon\" title=\"Annie Jump Cannon\">Annie Jump Cannon</a></li>\n",
       "<li><a href=\"/wiki/Jane_Cunningham_Croly\" title=\"Jane Cunningham Croly\">Jane Cunningham Croly</a></li>\n",
       "<li><a href=\"/wiki/Catherine_Shipe_East\" title=\"Catherine Shipe East\">Catherine East</a></li>\n",
       "<li><a href=\"/wiki/Geraldine_Ferraro\" title=\"Geraldine Ferraro\">Geraldine Ferraro</a></li>\n",
       "<li><a href=\"/wiki/Charlotte_Perkins_Gilman\" title=\"Charlotte Perkins Gilman\">Charlotte Perkins Gilman</a></li>\n",
       "<li><a class=\"mw-selflink selflink\">Grace Hopper</a></li>\n",
       "<li><a href=\"/wiki/Helen_LaKelly_Hunt\" title=\"Helen LaKelly Hunt\">Helen LaKelly Hunt</a></li>\n",
       "<li><a href=\"/wiki/Zora_Neale_Hurston\" title=\"Zora Neale Hurston\">Zora Neale Hurston</a></li>\n",
       "<li><a href=\"/wiki/Anne_Hutchinson\" title=\"Anne Hutchinson\">Anne Hutchinson</a></li>\n",
       "<li><a href=\"/wiki/Frances_Wisebart_Jacobs\" title=\"Frances Wisebart Jacobs\">Frances Wisebart Jacobs</a></li>\n",
       "<li><a href=\"/wiki/Susette_La_Flesche\" title=\"Susette La Flesche\">Susette La Flesche</a></li>\n",
       "<li><a href=\"/wiki/Louise_McManus\" title=\"Louise McManus\">Louise McManus</a></li>\n",
       "<li><a href=\"/wiki/Maria_Mitchell\" title=\"Maria Mitchell\">Maria Mitchell</a></li>\n",
       "<li><a href=\"/wiki/Antonia_Novello\" title=\"Antonia Novello\">Antonia Novello</a></li>\n",
       "<li><a href=\"/wiki/Linda_Richards\" title=\"Linda Richards\">Linda Richards</a></li>\n",
       "<li><a href=\"/wiki/Wilma_Rudolph\" title=\"Wilma Rudolph\">Wilma Rudolph</a></li>\n",
       "<li><a href=\"/wiki/Betty_Bone_Schiess\" title=\"Betty Bone Schiess\">Betty Bone Schiess</a></li>\n",
       "<li><a href=\"/wiki/Muriel_Siebert\" title=\"Muriel Siebert\">Muriel Siebert</a></li>\n",
       "<li><a href=\"/wiki/Nettie_Stevens\" title=\"Nettie Stevens\">Nettie Stevens</a></li>\n",
       "<li><a href=\"/wiki/Oprah_Winfrey\" title=\"Oprah Winfrey\">Oprah Winfrey</a></li>\n",
       "<li><a href=\"/wiki/Sarah_Winnemucca\" title=\"Sarah Winnemucca\">Sarah Winnemucca</a></li>\n",
       "<li><a href=\"/wiki/Frances_Wright\" title=\"Frances Wright\">Fanny Wright</a></li></ul>\n",
       "</div></td></tr><tr><th class=\"navbox-group\" scope=\"row\" style=\"width:1%\">1995</th><td class=\"navbox-list-with-group navbox-list navbox-odd\" style=\"width:100%;padding:0\"><div style=\"padding:0 0.25em\">\n",
       "<ul><li><a href=\"/wiki/Virginia_Apgar\" title=\"Virginia Apgar\">Virginia Apgar</a></li>\n",
       "<li><a href=\"/wiki/Ann_Bancroft\" title=\"Ann Bancroft\">Ann Bancroft</a></li>\n",
       "<li><a href=\"/wiki/Amelia_Bloomer\" title=\"Amelia Bloomer\">Amelia Bloomer</a></li>\n",
       "<li><a href=\"/wiki/Mary_Carson_Breckinridge\" title=\"Mary Carson Breckinridge\">Mary Breckinridge</a></li>\n",
       "<li><a href=\"/wiki/Eileen_Collins\" title=\"Eileen Collins\">Eileen Collins</a></li>\n",
       "<li><a href=\"/wiki/Elizabeth_Dole\" title=\"Elizabeth Dole\">Elizabeth Hanford Dole</a></li>\n",
       "<li><a href=\"/wiki/Anne_Dallas_Dudley\" title=\"Anne Dallas Dudley\">Anne Dallas Dudley</a></li>\n",
       "<li><a href=\"/wiki/Mary_Baker_Eddy\" title=\"Mary Baker Eddy\">Mary Baker Eddy</a></li>\n",
       "<li><a href=\"/wiki/Ella_Fitzgerald\" title=\"Ella Fitzgerald\">Ella Fitzgerald</a></li>\n",
       "<li><a href=\"/wiki/Margaret_Fuller\" title=\"Margaret Fuller\">Margaret Fuller</a></li>\n",
       "<li><a href=\"/wiki/Matilda_Joslyn_Gage\" title=\"Matilda Joslyn Gage\">Matilda Joslyn Gage</a></li>\n",
       "<li><a href=\"/wiki/Lillian_Moller_Gilbreth\" title=\"Lillian Moller Gilbreth\">Lillian Moller Gilbreth</a></li>\n",
       "<li><a href=\"/wiki/Nannerl_O._Keohane\" title=\"Nannerl O. Keohane\">Nannerl O. Keohane</a></li>\n",
       "<li><a href=\"/wiki/Maggie_Kuhn\" title=\"Maggie Kuhn\">Maggie Kuhn</a></li>\n",
       "<li><a href=\"/wiki/Sandra_Day_O%27Connor\" title=\"Sandra Day O'Connor\">Sandra Day O'Connor</a></li>\n",
       "<li><a href=\"/wiki/Josephine_St._Pierre_Ruffin\" title=\"Josephine St. Pierre Ruffin\">Josephine St. Pierre Ruffin</a></li>\n",
       "<li><a href=\"/wiki/Pat_Schroeder\" title=\"Pat Schroeder\">Pat Schroeder</a></li>\n",
       "<li><a href=\"/wiki/Hannah_G._Solomon\" title=\"Hannah G. Solomon\">Hannah Greenebaum Solomon</a></li></ul>\n",
       "</div></td></tr><tr><th class=\"navbox-group\" scope=\"row\" style=\"width:1%\">1996</th><td class=\"navbox-list-with-group navbox-list navbox-even\" style=\"width:100%;padding:0\"><div style=\"padding:0 0.25em\">\n",
       "<ul><li><a href=\"/wiki/Louisa_May_Alcott\" title=\"Louisa May Alcott\">Louisa May Alcott</a></li>\n",
       "<li><a href=\"/wiki/Charlotte_Bunch\" title=\"Charlotte Bunch\">Charlotte Anne Bunch</a></li>\n",
       "<li><a href=\"/wiki/Frances_Xavier_Cabrini\" title=\"Frances Xavier Cabrini\">Frances Xavier Cabrini</a></li>\n",
       "<li><a href=\"/wiki/Mary_Hallaren\" title=\"Mary Hallaren\">Mary A. Hallaren</a></li>\n",
       "<li><a href=\"/wiki/Oveta_Culp_Hobby\" title=\"Oveta Culp Hobby\">Oveta Culp Hobby</a></li>\n",
       "<li><a href=\"/wiki/Wilhelmina_Holladay\" title=\"Wilhelmina Holladay\">Wilhelmina Cole Holladay</a></li>\n",
       "<li><a href=\"/wiki/Anne_Morrow_Lindbergh\" title=\"Anne Morrow Lindbergh\">Anne Morrow Lindbergh</a></li>\n",
       "<li><a href=\"/wiki/Maria_Goeppert_Mayer\" title=\"Maria Goeppert Mayer\">Maria Goeppert Mayer</a></li>\n",
       "<li><a href=\"/wiki/Ernestine_Rose\" title=\"Ernestine Rose\">Ernestine Louise Potowski Rose</a></li>\n",
       "<li><a href=\"/wiki/Maria_Tallchief\" title=\"Maria Tallchief\">Maria Tallchief</a></li>\n",
       "<li><a href=\"/wiki/Edith_Wharton\" title=\"Edith Wharton\">Edith Wharton</a></li></ul>\n",
       "</div></td></tr><tr><th class=\"navbox-group\" scope=\"row\" style=\"width:1%\">1998</th><td class=\"navbox-list-with-group navbox-list navbox-odd\" style=\"width:100%;padding:0\"><div style=\"padding:0 0.25em\">\n",
       "<ul><li><a href=\"/wiki/Madeleine_Albright\" title=\"Madeleine Albright\">Madeleine Albright</a></li>\n",
       "<li><a href=\"/wiki/Maya_Angelou\" title=\"Maya Angelou\">Maya Angelou</a></li>\n",
       "<li><a href=\"/wiki/Nellie_Bly\" title=\"Nellie Bly\">Nellie Bly</a></li>\n",
       "<li><a href=\"/wiki/Lydia_Moss_Bradley\" title=\"Lydia Moss Bradley\">Lydia Moss Bradley</a></li>\n",
       "<li><a href=\"/wiki/Mary_Calderone\" title=\"Mary Calderone\">Mary Steichen Calderone</a></li>\n",
       "<li><a href=\"/wiki/Mary_Ann_Shadd\" title=\"Mary Ann Shadd\">Mary Ann Shadd Cary</a></li>\n",
       "<li><a href=\"/wiki/Joan_Ganz_Cooney\" title=\"Joan Ganz Cooney\">Joan Ganz Cooney</a></li>\n",
       "<li><a href=\"/wiki/Gerty_Cori\" title=\"Gerty Cori\">Gerty Cori</a></li>\n",
       "<li><a href=\"/wiki/Sarah_Moore_Grimk%C3%A9\" title=\"Sarah Moore Grimké\">Sarah Grimké</a></li>\n",
       "<li><a href=\"/wiki/Julia_Ward_Howe\" title=\"Julia Ward Howe\">Julia Ward Howe</a></li>\n",
       "<li><a href=\"/wiki/Shirley_Ann_Jackson\" title=\"Shirley Ann Jackson\">Shirley Ann Jackson</a></li>\n",
       "<li><a href=\"/wiki/Shannon_Lucid\" title=\"Shannon Lucid\">Shannon Lucid</a></li>\n",
       "<li><a href=\"/wiki/Katharine_McCormick\" title=\"Katharine McCormick\">Katharine Dexter McCormick</a></li>\n",
       "<li><a href=\"/wiki/Rozanne_L._Ridgway\" title=\"Rozanne L. Ridgway\">Rozanne L. Ridgway</a></li>\n",
       "<li><a href=\"/wiki/Edith_Nourse_Rogers\" title=\"Edith Nourse Rogers\">Edith Nourse Rogers</a></li>\n",
       "<li><a href=\"/wiki/Felice_Schwartz\" title=\"Felice Schwartz\">Felice Schwartz</a></li>\n",
       "<li><a href=\"/wiki/Eunice_Kennedy_Shriver\" title=\"Eunice Kennedy Shriver\">Eunice Kennedy Shriver</a></li>\n",
       "<li><a href=\"/wiki/Beverly_Sills\" title=\"Beverly Sills\">Beverly Sills</a></li>\n",
       "<li><a href=\"/wiki/Florence_Wald\" title=\"Florence Wald\">Florence Wald</a></li>\n",
       "<li><a href=\"/wiki/Angelina_Grimk%C3%A9\" title=\"Angelina Grimké\">Angelina Grimké Weld</a></li>\n",
       "<li><a href=\"/wiki/Chien-Shiung_Wu\" title=\"Chien-Shiung Wu\">Chien-Shiung Wu</a></li></ul>\n",
       "</div></td></tr></tbody></table><div></div></td></tr></tbody></table><div></div></td></tr><tr><td class=\"navbox-list navbox-odd hlist\" colspan=\"2\" style=\"width:100%;padding:0\"><div style=\"padding:0 0.25em\"></div><table class=\"nowraplinks mw-collapsible mw-collapsed navbox-subgroup\" style=\"border-spacing:0\"><tbody><tr><th class=\"navbox-title\" colspan=\"2\" scope=\"col\"><div id=\"2000–2009\" style=\"font-size:114%;margin:0 4em\">2000–2009</div></th></tr><tr><td class=\"navbox-list navbox-odd\" colspan=\"2\" style=\"width:100%;padding:0\"><div style=\"padding:0 0.25em\"></div><table class=\"nowraplinks navbox-subgroup\" style=\"border-spacing:0\"><tbody><tr><th class=\"navbox-group\" scope=\"row\" style=\"width:1%\">2000</th><td class=\"navbox-list-with-group navbox-list navbox-odd\" style=\"width:100%;padding:0\"><div style=\"padding:0 0.25em\">\n",
       "<ul><li><a href=\"/wiki/Faye_Glenn_Abdellah\" title=\"Faye Glenn Abdellah\">Faye Glenn Abdellah</a></li>\n",
       "<li><a href=\"/wiki/Emma_Smith_DeVoe\" title=\"Emma Smith DeVoe\">Emma Smith DeVoe</a></li>\n",
       "<li><a href=\"/wiki/Marjory_Stoneman_Douglas\" title=\"Marjory Stoneman Douglas\">Marjory Stoneman Douglas</a></li>\n",
       "<li><a href=\"/wiki/Mary_Dyer\" title=\"Mary Dyer\">Mary Dyer</a></li>\n",
       "<li><a href=\"/wiki/Sylvia_Earle\" title=\"Sylvia Earle\">Sylvia A. Earle</a></li>\n",
       "<li><a href=\"/wiki/Crystal_Eastman\" title=\"Crystal Eastman\">Crystal Eastman</a></li>\n",
       "<li><a href=\"/wiki/Jeanne_M._Holm\" title=\"Jeanne M. Holm\">Jeanne Holm</a></li>\n",
       "<li><a href=\"/wiki/Leontine_T._Kelly\" title=\"Leontine T. Kelly\">Leontine T. Kelly</a></li>\n",
       "<li><a href=\"/wiki/Frances_Oldham_Kelsey\" title=\"Frances Oldham Kelsey\">Frances Oldham Kelsey</a></li>\n",
       "<li><a href=\"/wiki/Kate_Mullany\" title=\"Kate Mullany\">Kate Mullany</a></li>\n",
       "<li><a href=\"/wiki/Janet_Reno\" title=\"Janet Reno\">Janet Reno</a></li>\n",
       "<li><a href=\"/wiki/Anna_Howard_Shaw\" title=\"Anna Howard Shaw\">Anna Howard Shaw</a></li>\n",
       "<li><a href=\"/wiki/Sophia_Smith_(Smith_College)\" title=\"Sophia Smith (Smith College)\">Sophia Smith</a></li>\n",
       "<li><a href=\"/wiki/Ida_Tarbell\" title=\"Ida Tarbell\">Ida Tarbell</a></li>\n",
       "<li><a href=\"/wiki/Wilma_Vaught\" title=\"Wilma Vaught\">Wilma L. Vaught</a></li>\n",
       "<li><a href=\"/wiki/Mary_Edwards_Walker\" title=\"Mary Edwards Walker\">Mary Edwards Walker</a></li>\n",
       "<li><a href=\"/wiki/Annie_Dodge_Wauneka\" title=\"Annie Dodge Wauneka\">Annie Dodge Wauneka</a></li>\n",
       "<li><a href=\"/wiki/Eudora_Welty\" title=\"Eudora Welty\">Eudora Welty</a></li>\n",
       "<li><a href=\"/wiki/Frances_Willard\" title=\"Frances Willard\">Frances E. Willard</a></li></ul>\n",
       "</div></td></tr><tr><th class=\"navbox-group\" scope=\"row\" style=\"width:1%\">2001</th><td class=\"navbox-list-with-group navbox-list navbox-even\" style=\"width:100%;padding:0\"><div style=\"padding:0 0.25em\">\n",
       "<ul><li><a href=\"/wiki/Dorothy_Hansine_Andersen\" title=\"Dorothy Hansine Andersen\">Dorothy H. Andersen</a></li>\n",
       "<li><a href=\"/wiki/Lucille_Ball\" title=\"Lucille Ball\">Lucille Ball</a></li>\n",
       "<li><a href=\"/wiki/Rosalynn_Carter\" title=\"Rosalynn Carter\">Rosalynn Carter</a></li>\n",
       "<li><a href=\"/wiki/Lydia_Maria_Child\" title=\"Lydia Maria Child\">Lydia Maria Child</a></li>\n",
       "<li><a href=\"/wiki/Bessie_Coleman\" title=\"Bessie Coleman\">Bessie Coleman</a></li>\n",
       "<li><a href=\"/wiki/Dorothy_Day\" title=\"Dorothy Day\">Dorothy Day</a></li>\n",
       "<li><a href=\"/wiki/Marian_de_Forest\" title=\"Marian de Forest\">Marian de Forest</a></li>\n",
       "<li><a href=\"/wiki/Althea_Gibson\" title=\"Althea Gibson\">Althea Gibson</a></li>\n",
       "<li><a href=\"/wiki/Beatrice_Hicks\" title=\"Beatrice Hicks\">Beatrice A. Hicks</a></li>\n",
       "<li><a href=\"/wiki/Barbara_Holdridge\" title=\"Barbara Holdridge\">Barbara Holdridge</a></li>\n",
       "<li><a href=\"/wiki/Harriet_Williams_Russell_Strong\" title=\"Harriet Williams Russell Strong\">Harriet Williams Russell Strong</a></li>\n",
       "<li><a href=\"/wiki/Emily_Howell_Warner\" title=\"Emily Howell Warner\">Emily Howell Warner</a></li>\n",
       "<li><a href=\"/wiki/Victoria_Woodhull\" title=\"Victoria Woodhull\">Victoria Woodhull</a></li></ul>\n",
       "</div></td></tr><tr><th class=\"navbox-group\" scope=\"row\" style=\"width:1%\">2002</th><td class=\"navbox-list-with-group navbox-list navbox-odd\" style=\"width:100%;padding:0\"><div style=\"padding:0 0.25em\">\n",
       "<ul><li><a class=\"mw-redirect\" href=\"/wiki/Paulina_Kellogg_Wright_Davis\" title=\"Paulina Kellogg Wright Davis\">Paulina Kellogg Wright Davis</a></li>\n",
       "<li><a href=\"/wiki/Ruth_Bader_Ginsburg\" title=\"Ruth Bader Ginsburg\">Ruth Bader Ginsburg</a></li>\n",
       "<li><a href=\"/wiki/Katharine_Graham\" title=\"Katharine Graham\">Katharine Graham</a></li>\n",
       "<li><a href=\"/wiki/Bertha_Holt\" title=\"Bertha Holt\">Bertha Holt</a></li>\n",
       "<li><a href=\"/wiki/Mary_Engle_Pennington\" title=\"Mary Engle Pennington\">Mary Engle Pennington</a></li>\n",
       "<li><a href=\"/wiki/Mercy_Otis_Warren\" title=\"Mercy Otis Warren\">Mercy Otis Warren</a></li></ul>\n",
       "</div></td></tr><tr><th class=\"navbox-group\" scope=\"row\" style=\"width:1%\">2003</th><td class=\"navbox-list-with-group navbox-list navbox-even\" style=\"width:100%;padding:0\"><div style=\"padding:0 0.25em\">\n",
       "<ul><li><a href=\"/wiki/Linda_G._Alvarado\" title=\"Linda G. Alvarado\">Linda G. Alvarado</a></li>\n",
       "<li><a href=\"/wiki/Donna_de_Varona\" title=\"Donna de Varona\">Donna de Varona</a></li>\n",
       "<li><a href=\"/wiki/Gertrude_Ederle\" title=\"Gertrude Ederle\">Gertrude Ederle</a></li>\n",
       "<li><a href=\"/wiki/Martha_Matilda_Harper\" title=\"Martha Matilda Harper\">Martha Matilda Harper</a></li>\n",
       "<li><a href=\"/wiki/Patricia_Roberts_Harris\" title=\"Patricia Roberts Harris\">Patricia Roberts Harris</a></li>\n",
       "<li><a href=\"/wiki/Stephanie_Kwolek\" title=\"Stephanie Kwolek\">Stephanie L. Kwolek</a></li>\n",
       "<li><a href=\"/wiki/Dorothea_Lange\" title=\"Dorothea Lange\">Dorothea Lange</a></li>\n",
       "<li><a href=\"/wiki/Mildred_Robbins_Leet\" title=\"Mildred Robbins Leet\">Mildred Robbins Leet</a></li>\n",
       "<li><a href=\"/wiki/Patsy_Mink\" title=\"Patsy Mink\">Patsy Takemoto Mink</a></li>\n",
       "<li><a href=\"/wiki/Sacagawea\" title=\"Sacagawea\">Sacagawea</a></li>\n",
       "<li><a href=\"/wiki/Anne_Sullivan\" title=\"Anne Sullivan\">Anne Sullivan</a></li>\n",
       "<li><a href=\"/wiki/Sheila_Widnall\" title=\"Sheila Widnall\">Sheila E. Widnall</a></li></ul>\n",
       "</div></td></tr><tr><th class=\"navbox-group\" scope=\"row\" style=\"width:1%\">2005</th><td class=\"navbox-list-with-group navbox-list navbox-odd\" style=\"width:100%;padding:0\"><div style=\"padding:0 0.25em\">\n",
       "<ul><li><a href=\"/wiki/Florence_E._Allen\" title=\"Florence E. Allen\">Florence E. Allen</a></li>\n",
       "<li><a href=\"/wiki/Ruth_Benedict\" title=\"Ruth Benedict\">Ruth Fulton Benedict</a></li>\n",
       "<li><a href=\"/wiki/Betty_Bumpers\" title=\"Betty Bumpers\">Betty Bumpers</a></li>\n",
       "<li><a href=\"/wiki/Hillary_Clinton\" title=\"Hillary Clinton\">Hillary Clinton</a></li>\n",
       "<li><a href=\"/wiki/Rita_R._Colwell\" title=\"Rita R. Colwell\">Rita Rossi Colwell</a></li>\n",
       "<li><a href=\"/wiki/Marianne_Cope\" title=\"Marianne Cope\">Mother Marianne Cope</a></li>\n",
       "<li><a href=\"/wiki/Maya_Lin\" title=\"Maya Lin\">Maya Y. Lin</a></li>\n",
       "<li><a href=\"/wiki/Patricia_Locke\" title=\"Patricia Locke\">Patricia A. Locke</a></li>\n",
       "<li><a href=\"/wiki/Blanche_Scott\" title=\"Blanche Scott\">Blanche Stuart Scott</a></li>\n",
       "<li><a href=\"/wiki/Mary_Burnett_Talbert\" title=\"Mary Burnett Talbert\">Mary Burnett Talbert</a></li></ul>\n",
       "</div></td></tr><tr><th class=\"navbox-group\" scope=\"row\" style=\"width:1%\">2007</th><td class=\"navbox-list-with-group navbox-list navbox-even\" style=\"width:100%;padding:0\"><div style=\"padding:0 0.25em\">\n",
       "<ul><li><a href=\"/wiki/Eleanor_K._Baum\" title=\"Eleanor K. Baum\">Eleanor K. Baum</a></li>\n",
       "<li><a href=\"/wiki/Julia_Child\" title=\"Julia Child\">Julia Child</a></li>\n",
       "<li><a href=\"/wiki/Martha_Coffin_Wright\" title=\"Martha Coffin Wright\">Martha Coffin Pelham Wright</a></li>\n",
       "<li><a href=\"/wiki/Swanee_Hunt\" title=\"Swanee Hunt\">Swanee Hunt</a></li>\n",
       "<li><a href=\"/wiki/Winona_LaDuke\" title=\"Winona LaDuke\">Winona LaDuke</a></li>\n",
       "<li><a href=\"/wiki/Elisabeth_K%C3%BCbler-Ross\" title=\"Elisabeth Kübler-Ross\">Elisabeth Kübler-Ross</a></li>\n",
       "<li><a href=\"/wiki/Judith_Pipher\" title=\"Judith Pipher\">Judith L. Pipher</a></li>\n",
       "<li><a href=\"/wiki/Catherine_Filene_Shouse\" title=\"Catherine Filene Shouse\">Catherine Filene Shouse</a></li>\n",
       "<li><a href=\"/wiki/Henrietta_Szold\" title=\"Henrietta Szold\">Henrietta Szold</a></li></ul>\n",
       "</div></td></tr><tr><th class=\"navbox-group\" scope=\"row\" style=\"width:1%\">2009</th><td class=\"navbox-list-with-group navbox-list navbox-odd\" style=\"width:100%;padding:0\"><div style=\"padding:0 0.25em\">\n",
       "<ul><li><a href=\"/wiki/Louise_Bourgeois\" title=\"Louise Bourgeois\">Louise Bourgeois</a></li>\n",
       "<li><a href=\"/wiki/Mildred_Cohn\" title=\"Mildred Cohn\">Mildred Cohn</a></li>\n",
       "<li><a href=\"/wiki/Karen_DeCrow\" title=\"Karen DeCrow\">Karen DeCrow</a></li>\n",
       "<li><a href=\"/wiki/Susan_Kelly-Dreiss\" title=\"Susan Kelly-Dreiss\">Susan Kelly-Dreiss</a></li>\n",
       "<li><a href=\"/wiki/Allie_B._Latimer\" title=\"Allie B. Latimer\">Allie B. Latimer</a></li>\n",
       "<li><a href=\"/wiki/Emma_Lazarus\" title=\"Emma Lazarus\">Emma Lazarus</a></li>\n",
       "<li><a href=\"/wiki/Ruth_Patrick\" title=\"Ruth Patrick\">Ruth Patrick</a></li>\n",
       "<li><a href=\"/wiki/Rebecca_Talbot_Perkins\" title=\"Rebecca Talbot Perkins\">Rebecca Talbot Perkins</a></li>\n",
       "<li><a href=\"/wiki/Susan_Solomon\" title=\"Susan Solomon\">Susan Solomon</a></li>\n",
       "<li><a href=\"/wiki/Kate_Stoneman\" title=\"Kate Stoneman\">Kate Stoneman</a></li></ul>\n",
       "</div></td></tr></tbody></table><div></div></td></tr></tbody></table><div></div></td></tr><tr><td class=\"navbox-list navbox-odd hlist\" colspan=\"2\" style=\"width:100%;padding:0\"><div style=\"padding:0 0.25em\"></div><table class=\"nowraplinks mw-collapsible mw-collapsed navbox-subgroup\" style=\"border-spacing:0\"><tbody><tr><th class=\"navbox-title\" colspan=\"2\" scope=\"col\"><div id=\"2010–2019\" style=\"font-size:114%;margin:0 4em\">2010–2019</div></th></tr><tr><td class=\"navbox-list navbox-odd\" colspan=\"2\" style=\"width:100%;padding:0\"><div style=\"padding:0 0.25em\"></div><table class=\"nowraplinks navbox-subgroup\" style=\"border-spacing:0\"><tbody><tr><th class=\"navbox-group\" scope=\"row\" style=\"width:1%\">2011</th><td class=\"navbox-list-with-group navbox-list navbox-odd\" style=\"width:100%;padding:0\"><div style=\"padding:0 0.25em\">\n",
       "<ul><li><a href=\"/wiki/Katharine_Drexel\" title=\"Katharine Drexel\">St. Katharine Drexel</a></li>\n",
       "<li><a href=\"/wiki/Dorothy_Harrison_Eustis\" title=\"Dorothy Harrison Eustis\">Dorothy Harrison Eustis</a></li>\n",
       "<li><a href=\"/wiki/Loretta_Ford\" title=\"Loretta Ford\">Loretta C. Ford</a></li>\n",
       "<li><a href=\"/wiki/Abby_Kelley\" title=\"Abby Kelley\">Abby Kelley Foster</a></li>\n",
       "<li><a href=\"/wiki/Helen_Murray_Free\" title=\"Helen Murray Free\">Helen Murray Free</a></li>\n",
       "<li><a href=\"/wiki/Billie_Holiday\" title=\"Billie Holiday\">Billie Holiday</a></li>\n",
       "<li><a href=\"/wiki/Coretta_Scott_King\" title=\"Coretta Scott King\">Coretta Scott King</a></li>\n",
       "<li><a href=\"/wiki/Lilly_Ledbetter\" title=\"Lilly Ledbetter\">Lilly Ledbetter</a></li>\n",
       "<li><a href=\"/wiki/Barbara_Mikulski\" title=\"Barbara Mikulski\">Barbara A. Mikulski</a></li>\n",
       "<li><a href=\"/wiki/Donna_Shalala\" title=\"Donna Shalala\">Donna E. Shalala</a></li>\n",
       "<li><a href=\"/wiki/Kathrine_Switzer\" title=\"Kathrine Switzer\">Kathrine Switzer</a></li></ul>\n",
       "</div></td></tr><tr><th class=\"navbox-group\" scope=\"row\" style=\"width:1%\">2013</th><td class=\"navbox-list-with-group navbox-list navbox-even\" style=\"width:100%;padding:0\"><div style=\"padding:0 0.25em\">\n",
       "<ul><li><a href=\"/wiki/Betty_Ford\" title=\"Betty Ford\">Betty Ford</a></li>\n",
       "<li><a href=\"/wiki/Ina_May_Gaskin\" title=\"Ina May Gaskin\">Ina May Gaskin</a></li>\n",
       "<li><a href=\"/wiki/Julie_Krone\" title=\"Julie Krone\">Julie Krone</a></li>\n",
       "<li><a href=\"/wiki/Kate_Millett\" title=\"Kate Millett\">Kate Millett</a></li>\n",
       "<li><a href=\"/wiki/Nancy_Pelosi\" title=\"Nancy Pelosi\">Nancy Pelosi</a></li>\n",
       "<li><a href=\"/wiki/Mary_Joseph_Rogers\" title=\"Mary Joseph Rogers\">Mary Joseph Rogers</a></li>\n",
       "<li><a href=\"/wiki/Bernice_Sandler\" title=\"Bernice Sandler\">Bernice Sandler</a></li>\n",
       "<li><a href=\"/wiki/Anna_Schwartz\" title=\"Anna Schwartz\">Anna Schwartz</a></li>\n",
       "<li><a href=\"/wiki/Emma_Willard\" title=\"Emma Willard\">Emma Willard</a></li></ul>\n",
       "</div></td></tr><tr><th class=\"navbox-group\" scope=\"row\" style=\"width:1%\">2015</th><td class=\"navbox-list-with-group navbox-list navbox-odd\" style=\"width:100%;padding:0\"><div style=\"padding:0 0.25em\">\n",
       "<ul><li><a href=\"/wiki/Tenley_Albright\" title=\"Tenley Albright\">Tenley Albright</a></li>\n",
       "<li><a href=\"/wiki/Nancy_Brinker\" title=\"Nancy Brinker\">Nancy Brinker</a></li>\n",
       "<li><a href=\"/wiki/Martha_Graham\" title=\"Martha Graham\">Martha Graham</a></li>\n",
       "<li><a href=\"/wiki/Marcia_Greenberger\" title=\"Marcia Greenberger\">Marcia Greenberger</a></li>\n",
       "<li><a href=\"/wiki/Barbara_Iglewski\" title=\"Barbara Iglewski\">Barbara Iglewski</a></li>\n",
       "<li><a href=\"/wiki/Jean_Kilbourne\" title=\"Jean Kilbourne\">Jean Kilbourne</a></li>\n",
       "<li><a href=\"/wiki/Carlotta_Walls_LaNier\" title=\"Carlotta Walls LaNier\">Carlotta Walls LaNier</a></li>\n",
       "<li><a href=\"/wiki/Philippa_Marrack\" title=\"Philippa Marrack\">Philippa Marrack</a></li>\n",
       "<li><a href=\"/wiki/Mary_Harriman_Rumsey\" title=\"Mary Harriman Rumsey\">Mary Harriman Rumsey</a></li>\n",
       "<li><a href=\"/wiki/Eleanor_Smeal\" title=\"Eleanor Smeal\">Eleanor Smeal</a></li></ul>\n",
       "</div></td></tr><tr><th class=\"navbox-group\" scope=\"row\" style=\"width:1%\">2017</th><td class=\"navbox-list-with-group navbox-list navbox-even\" style=\"width:100%;padding:0\"><div style=\"padding:0 0.25em\">\n",
       "<ul><li><a href=\"/wiki/Matilda_Cuomo\" title=\"Matilda Cuomo\">Matilda Cuomo</a></li>\n",
       "<li><a href=\"/wiki/Temple_Grandin\" title=\"Temple Grandin\">Temple Grandin</a></li>\n",
       "<li><a href=\"/wiki/Lorraine_Hansberry\" title=\"Lorraine Hansberry\">Lorraine Hansberry</a></li>\n",
       "<li><a href=\"/wiki/Victoria_Jackson_(entrepreneur)\" title=\"Victoria Jackson (entrepreneur)\">Victoria Jackson</a></li>\n",
       "<li><a href=\"/wiki/Sherry_Lansing\" title=\"Sherry Lansing\">Sherry Lansing</a></li>\n",
       "<li><a href=\"/wiki/Clare_Boothe_Luce\" title=\"Clare Boothe Luce\">Clare Boothe Luce</a></li>\n",
       "<li><a href=\"/wiki/Aimee_Mullins\" title=\"Aimee Mullins\">Aimee Mullins</a></li>\n",
       "<li><a href=\"/wiki/Carol_Mutter\" title=\"Carol Mutter\">Carol Mutter</a></li>\n",
       "<li><a href=\"/wiki/Janet_Rowley\" title=\"Janet Rowley\">Janet Rowley</a></li>\n",
       "<li><a href=\"/wiki/Alice_Waters\" title=\"Alice Waters\">Alice Waters</a></li></ul>\n",
       "</div></td></tr><tr><th class=\"navbox-group\" scope=\"row\" style=\"width:1%\">2019</th><td class=\"navbox-list-with-group navbox-list navbox-odd\" style=\"width:100%;padding:0\"><div style=\"padding:0 0.25em\">\n",
       "<ul><li><a href=\"/wiki/Gloria_Allred\" title=\"Gloria Allred\">Gloria Allred</a></li>\n",
       "<li><a href=\"/wiki/Angela_Davis\" title=\"Angela Davis\">Angela Davis</a></li>\n",
       "<li><a href=\"/wiki/Sarah_Deer\" title=\"Sarah Deer\">Sarah Deer</a></li>\n",
       "<li><a href=\"/wiki/Jane_Fonda\" title=\"Jane Fonda\">Jane Fonda</a></li>\n",
       "<li><a href=\"/wiki/Nicole_Malachowski\" title=\"Nicole Malachowski\">Nicole Malachowski</a></li>\n",
       "<li><a href=\"/wiki/Rose_O%27Neill\" title=\"Rose O'Neill\">Rose O'Neill</a></li>\n",
       "<li><a href=\"/wiki/Louise_Slaughter\" title=\"Louise Slaughter\">Louise Slaughter</a></li>\n",
       "<li><a href=\"/wiki/Sonia_Sotomayor\" title=\"Sonia Sotomayor\">Sonia Sotomayor</a></li>\n",
       "<li><a href=\"/wiki/Laurie_Spiegel\" title=\"Laurie Spiegel\">Laurie Spiegel</a></li>\n",
       "<li><a href=\"/wiki/Flossie_Wong-Staal\" title=\"Flossie Wong-Staal\">Flossie Wong-Staal</a></li></ul>\n",
       "</div></td></tr></tbody></table><div></div></td></tr></tbody></table><div></div></td></tr><tr><td class=\"navbox-list navbox-odd hlist\" colspan=\"2\" style=\"width:100%;padding:0\"><div style=\"padding:0 0.25em\"></div><table class=\"nowraplinks mw-collapsible mw-collapsed navbox-subgroup\" style=\"border-spacing:0\"><tbody><tr><th class=\"navbox-title\" colspan=\"2\" scope=\"col\"><div id=\"2020–2029\" style=\"font-size:114%;margin:0 4em\">2020–2029</div></th></tr><tr><td class=\"navbox-list navbox-odd\" colspan=\"2\" style=\"width:100%;padding:0\"><div style=\"padding:0 0.25em\"></div><table class=\"nowraplinks navbox-subgroup\" style=\"border-spacing:0\"><tbody><tr><th class=\"navbox-group\" scope=\"row\" style=\"width:1%\">2020</th><td class=\"navbox-list-with-group navbox-list navbox-odd\" style=\"width:100%;padding:0\"><div style=\"padding:0 0.25em\">\n",
       "<ul><li><a href=\"/wiki/Aretha_Franklin\" title=\"Aretha Franklin\">Aretha Franklin</a></li>\n",
       "<li><a href=\"/wiki/Barbara_Hillary_(adventurer)\" title=\"Barbara Hillary (adventurer)\">Barbara Hillary</a></li>\n",
       "<li><a href=\"/wiki/Barbara_Rose_Johns\" title=\"Barbara Rose Johns\">Barbara Rose Johns</a></li>\n",
       "<li><a href=\"/wiki/Henrietta_Lacks\" title=\"Henrietta Lacks\">Henrietta Lacks</a></li>\n",
       "<li><a href=\"/wiki/Toni_Morrison\" title=\"Toni Morrison\">Toni Morrison</a></li>\n",
       "<li><a href=\"/wiki/Mary_Church_Terrell\" title=\"Mary Church Terrell\">Mary Church Terrell</a></li></ul>\n",
       "</div></td></tr><tr><th class=\"navbox-group\" scope=\"row\" style=\"width:1%\">2022</th><td class=\"navbox-list-with-group navbox-list navbox-even\" style=\"width:100%;padding:0\"><div style=\"padding:0 0.25em\">\n",
       "<ul><li><a href=\"/wiki/Octavia_E._Butler\" title=\"Octavia E. Butler\">Octavia E. Butler</a></li>\n",
       "<li><a href=\"/wiki/Judy_Chicago\" title=\"Judy Chicago\">Judy Chicago</a></li>\n",
       "<li><a href=\"/wiki/Rebecca_S._Halstead\" title=\"Rebecca S. Halstead\">Rebecca S. Halstead</a></li>\n",
       "<li><a href=\"/wiki/Mia_Hamm\" title=\"Mia Hamm\">Mia Hamm</a></li>\n",
       "<li><a href=\"/wiki/Joy_Harjo\" title=\"Joy Harjo\">Joy Harjo</a></li>\n",
       "<li><a href=\"/wiki/Emily_Howland\" title=\"Emily Howland\">Emily Howland</a></li>\n",
       "<li><a href=\"/wiki/Katherine_Johnson\" title=\"Katherine Johnson\">Katherine Johnson</a></li>\n",
       "<li><a href=\"/wiki/Indra_Nooyi\" title=\"Indra Nooyi\">Indra Nooyi</a></li>\n",
       "<li><a href=\"/wiki/Michelle_Obama\" title=\"Michelle Obama\">Michelle Obama</a></li></ul>\n",
       "</div></td></tr></tbody></table><div></div></td></tr></tbody></table><div></div></td></tr></tbody></table></div>\n",
       "<div class=\"navbox-styles\"><link href=\"mw-data:TemplateStyles:r1129693374\" rel=\"mw-deduplicated-inline-style\"/><link href=\"mw-data:TemplateStyles:r1061467846\" rel=\"mw-deduplicated-inline-style\"/></div><div aria-labelledby=\"Virginia_Women_in_History\" class=\"navbox\" role=\"navigation\" style=\"padding:3px\"><table class=\"nowraplinks mw-collapsible mw-collapsed navbox-inner\" style=\"border-spacing:0;background:transparent;color:inherit\"><tbody><tr><th class=\"navbox-title\" colspan=\"2\" scope=\"col\"><link href=\"mw-data:TemplateStyles:r1129693374\" rel=\"mw-deduplicated-inline-style\"/><link href=\"mw-data:TemplateStyles:r1063604349\" rel=\"mw-deduplicated-inline-style\"/><div class=\"navbar plainlinks hlist navbar-mini\"><ul><li class=\"nv-view\"><a href=\"/wiki/Template:Virginia_Women_in_History_Honorees\" title=\"Template:Virginia Women in History Honorees\"><abbr style=\";;background:none transparent;border:none;box-shadow:none;padding:0;\" title=\"View this template\">v</abbr></a></li><li class=\"nv-talk\"><a href=\"/wiki/Template_talk:Virginia_Women_in_History_Honorees\" title=\"Template talk:Virginia Women in History Honorees\"><abbr style=\";;background:none transparent;border:none;box-shadow:none;padding:0;\" title=\"Discuss this template\">t</abbr></a></li><li class=\"nv-edit\"><a class=\"external text\" href=\"https://en.wikipedia.org/w/index.php?title=Template:Virginia_Women_in_History_Honorees&amp;action=edit\"><abbr style=\";;background:none transparent;border:none;box-shadow:none;padding:0;\" title=\"Edit this template\">e</abbr></a></li></ul></div><div id=\"Virginia_Women_in_History\" style=\"font-size:114%;margin:0 4em\"><a href=\"/wiki/Virginia_Women_in_History\" title=\"Virginia Women in History\">Virginia Women in History</a></div></th></tr><tr><td class=\"navbox-list navbox-odd hlist\" colspan=\"2\" style=\"width:100%;padding:0\"><div style=\"padding:0 0.25em\"></div><table class=\"nowraplinks mw-collapsible mw-collapsed navbox-subgroup\" style=\"border-spacing:0\"><tbody><tr><th class=\"navbox-title\" colspan=\"2\" scope=\"col\"><div id=\"2000–2009\" style=\"font-size:114%;margin:0 4em\">2000–2009</div></th></tr><tr><td class=\"navbox-list navbox-odd\" colspan=\"2\" style=\"width:100%;padding:0\"><div style=\"padding:0 0.25em\"></div><table class=\"nowraplinks navbox-subgroup\" style=\"border-spacing:0\"><tbody><tr><th class=\"navbox-group\" scope=\"row\" style=\"width:1%\">2000</th><td class=\"navbox-list-with-group navbox-list navbox-odd\" style=\"width:100%;padding:0\"><div style=\"padding:0 0.25em\">\n",
       "<ul><li><a href=\"/wiki/Ella_Graham_Agnew\" title=\"Ella Graham Agnew\">Ella Graham Agnew</a></li>\n",
       "<li><a href=\"/wiki/Mary_Julia_Baldwin\" title=\"Mary Julia Baldwin\">Mary Julia Baldwin</a></li>\n",
       "<li><a href=\"/wiki/Margaret_Brent\" title=\"Margaret Brent\">Margaret Brent</a></li>\n",
       "<li><a href=\"/wiki/Willa_Cather\" title=\"Willa Cather\">Willa Cather</a></li>\n",
       "<li><a href=\"/wiki/Jennie_Dean\" title=\"Jennie Dean\">Jennie Dean</a></li>\n",
       "<li><a href=\"/wiki/Sarah_Lee_Fain\" title=\"Sarah Lee Fain\">Sarah Lee Fain</a></li>\n",
       "<li><a href=\"/wiki/Ellen_Glasgow\" title=\"Ellen Glasgow\">Ellen Glasgow</a></li>\n",
       "<li><a href=\"/wiki/Dolley_Madison\" title=\"Dolley Madison\">Dolley Madison</a></li>\n",
       "<li><a href=\"/wiki/Pocahontas\" title=\"Pocahontas\">Pocahontas</a></li>\n",
       "<li><a href=\"/wiki/Clementina_Rind\" title=\"Clementina Rind\">Clementina Rind</a></li>\n",
       "<li><a href=\"/wiki/Lila_Meade_Valentine\" title=\"Lila Meade Valentine\">Lila Meade Valentine</a></li>\n",
       "<li><a href=\"/wiki/Maggie_L._Walker\" title=\"Maggie L. Walker\">Maggie L. Walker</a></li></ul>\n",
       "</div></td></tr><tr><th class=\"navbox-group\" scope=\"row\" style=\"width:1%\">2001</th><td class=\"navbox-list-with-group navbox-list navbox-even\" style=\"width:100%;padding:0\"><div style=\"padding:0 0.25em\">\n",
       "<ul><li><a href=\"/wiki/Rosa_Dixon_Bowser\" title=\"Rosa Dixon Bowser\">Rosa Dixon Bowser</a></li>\n",
       "<li><a href=\"/wiki/Elizabeth_Campbell_(television)\" title=\"Elizabeth Campbell (television)\">Elizabeth Campbell</a></li>\n",
       "<li><a href=\"/wiki/Thomasina_Jordan\" title=\"Thomasina Jordan\">Thomasina Jordan</a></li>\n",
       "<li><a href=\"/wiki/Elizabeth_Keckley\" title=\"Elizabeth Keckley\">Elizabeth Keckley</a></li>\n",
       "<li><a href=\"/wiki/Theresa_Pollak\" title=\"Theresa Pollak\">Theresa Pollak</a></li>\n",
       "<li><a href=\"/wiki/Sally_Louisa_Tompkins\" title=\"Sally Louisa Tompkins\">Sally Louisa Tompkins</a></li>\n",
       "<li><a href=\"/wiki/Elizabeth_Van_Lew\" title=\"Elizabeth Van Lew\">Elizabeth Van Lew</a></li>\n",
       "<li><a href=\"/wiki/Edith_Wilson\" title=\"Edith Wilson\">Edith Wilson</a></li></ul>\n",
       "</div></td></tr><tr><th class=\"navbox-group\" scope=\"row\" style=\"width:1%\">2002</th><td class=\"navbox-list-with-group navbox-list navbox-odd\" style=\"width:100%;padding:0\"><div style=\"padding:0 0.25em\">\n",
       "<ul><li><a href=\"/wiki/Rebecca_Adamson\" title=\"Rebecca Adamson\">Rebecca Adamson</a></li>\n",
       "<li><a href=\"/wiki/Janie_Porter_Barrett\" title=\"Janie Porter Barrett\">Janie Porter Barrett</a></li>\n",
       "<li><a href=\"/wiki/Patsy_Cline\" title=\"Patsy Cline\">Patsy Cline</a></li>\n",
       "<li><a href=\"/wiki/Hannah_Lee_Corbin\" title=\"Hannah Lee Corbin\">Hannah Lee Corbin</a></li>\n",
       "<li><a href=\"/wiki/Christine_Darden\" title=\"Christine Darden\">Christine Darden</a></li>\n",
       "<li><a class=\"new\" href=\"/w/index.php?title=Lillian_Ward_McDaniel&amp;action=edit&amp;redlink=1\" title=\"Lillian Ward McDaniel (page does not exist)\">Lillian Ward McDaniel</a></li>\n",
       "<li><a href=\"/wiki/Mary-Cooke_Branch_Munford\" title=\"Mary-Cooke Branch Munford\">Mary-Cooke Branch Munford</a></li>\n",
       "<li><a href=\"/wiki/Jessie_M._Rattley\" title=\"Jessie M. Rattley\">Jessie M. Rattley</a></li></ul>\n",
       "</div></td></tr><tr><th class=\"navbox-group\" scope=\"row\" style=\"width:1%\">2003</th><td class=\"navbox-list-with-group navbox-list navbox-even\" style=\"width:100%;padding:0\"><div style=\"padding:0 0.25em\">\n",
       "<ul><li><a href=\"/wiki/Nancy_Astor,_Viscountess_Astor\" title=\"Nancy Astor, Viscountess Astor\">Nancy Astor</a></li>\n",
       "<li><a href=\"/wiki/Pearl_Bailey\" title=\"Pearl Bailey\">Pearl Bailey</a></li>\n",
       "<li><a href=\"/wiki/Anna_Whitehead_Bodeker\" title=\"Anna Whitehead Bodeker\">Anna Whitehead Bodeker</a></li>\n",
       "<li><a class=\"new\" href=\"/w/index.php?title=Mary_Ann_Elliott&amp;action=edit&amp;redlink=1\" title=\"Mary Ann Elliott (page does not exist)\">Mary Ann Elliott</a></li>\n",
       "<li><a class=\"mw-redirect\" href=\"/wiki/Annabella_R._Jenkins\" title=\"Annabella R. Jenkins\">Annabelle Ravenscroft Gibson Jenkins</a></li>\n",
       "<li><a href=\"/wiki/Frances_Benjamin_Johnston\" title=\"Frances Benjamin Johnston\">Frances Benjamin Johnston</a></li>\n",
       "<li><a class=\"new\" href=\"/w/index.php?title=Anne_Dobie_Peebles&amp;action=edit&amp;redlink=1\" title=\"Anne Dobie Peebles (page does not exist)\">Anne Dobie Peebles</a></li>\n",
       "<li><a href=\"/wiki/Anne_Spencer\" title=\"Anne Spencer\">Annie Bannister Spencer</a></li></ul>\n",
       "</div></td></tr><tr><th class=\"navbox-group\" scope=\"row\" style=\"width:1%\">2004</th><td class=\"navbox-list-with-group navbox-list navbox-odd\" style=\"width:100%;padding:0\"><div style=\"padding:0 0.25em\">\n",
       "<ul><li><a href=\"/wiki/Grace_Arents\" title=\"Grace Arents\">Grace Arents</a></li>\n",
       "<li><a href=\"/wiki/Cockacoeske\" title=\"Cockacoeske\">Cockacoeske</a></li>\n",
       "<li><a href=\"/wiki/Katie_Couric\" title=\"Katie Couric\">Katie Couric</a></li>\n",
       "<li><a href=\"/wiki/Anne_Makemie_Holden\" title=\"Anne Makemie Holden\">Anne Makemie Holden</a></li>\n",
       "<li><a href=\"/wiki/Mary_Draper_Ingles\" title=\"Mary Draper Ingles\">Mary Draper Ingles</a></li>\n",
       "<li><a href=\"/wiki/Sarah_Garland_Boyd_Jones\" title=\"Sarah Garland Boyd Jones\">Sarah Garland Boyd Jones</a></li>\n",
       "<li><a class=\"new\" href=\"/w/index.php?title=Annie_Snyder&amp;action=edit&amp;redlink=1\" title=\"Annie Snyder (page does not exist)\">Annie Snyder</a></li>\n",
       "<li><a href=\"/wiki/Martha_Washington\" title=\"Martha Washington\">Martha Washington</a></li></ul>\n",
       "</div></td></tr><tr><th class=\"navbox-group\" scope=\"row\" style=\"width:1%\">2005</th><td class=\"navbox-list-with-group navbox-list navbox-even\" style=\"width:100%;padding:0\"><div style=\"padding:0 0.25em\">\n",
       "<ul><li><a href=\"/wiki/Clara_Leach_Adams-Ender\" title=\"Clara Leach Adams-Ender\">Clara Leach Adams-Ender</a></li>\n",
       "<li><a class=\"new\" href=\"/w/index.php?title=Caitlyn_Day&amp;action=edit&amp;redlink=1\" title=\"Caitlyn Day (page does not exist)\">Caitlyn Day</a></li>\n",
       "<li><a href=\"/wiki/Bessie_Blount_Griffin\" title=\"Bessie Blount Griffin\">Bessie Blount Griffin</a></li>\n",
       "<li><a href=\"/wiki/Mary_Johnston\" title=\"Mary Johnston\">Mary Johnston</a></li>\n",
       "<li><a href=\"/wiki/Barbara_Rose_Johns\" title=\"Barbara Rose Johns\">Barbara Johns Powell</a></li>\n",
       "<li><a href=\"/wiki/Lee_Smith_(fiction_author)\" title=\"Lee Smith (fiction author)\">Lee Smith</a></li>\n",
       "<li><a class=\"new\" href=\"/w/index.php?title=Mary_Belvin_Wade&amp;action=edit&amp;redlink=1\" title=\"Mary Belvin Wade (page does not exist)\">Mary Belvin Wade</a></li></ul>\n",
       "</div></td></tr><tr><th class=\"navbox-group\" scope=\"row\" style=\"width:1%\">2006</th><td class=\"navbox-list-with-group navbox-list navbox-odd\" style=\"width:100%;padding:0\"><div style=\"padding:0 0.25em\">\n",
       "<ul><li><a href=\"/wiki/Kate_Waller_Barrett\" title=\"Kate Waller Barrett\">Kate Waller Barrett</a></li>\n",
       "<li><a class=\"mw-redirect\" href=\"/wiki/Marie_Majella_Berg\" title=\"Marie Majella Berg\">Marie Majella Berg</a></li>\n",
       "<li><a class=\"new\" href=\"/w/index.php?title=John-Geline_MacDonald_Bowman&amp;action=edit&amp;redlink=1\" title=\"John-Geline MacDonald Bowman (page does not exist)\">John-Geline MacDonald Bowman</a></li>\n",
       "<li><a href=\"/wiki/Benita_Fitzgerald-Brown\" title=\"Benita Fitzgerald-Brown\">Benita Fitzgerald-Brown</a></li>\n",
       "<li><a class=\"mw-selflink selflink\">Grace Hopper</a></li>\n",
       "<li><a class=\"new\" href=\"/w/index.php?title=Mary_Tyler_Freeman_Cheek_McClenahan&amp;action=edit&amp;redlink=1\" title=\"Mary Tyler Freeman Cheek McClenahan (page does not exist)\">Mary Tyler Freeman Cheek McClenahan</a></li>\n",
       "<li><a href=\"/wiki/G._Anne_Richardson\" title=\"G. Anne Richardson\">G. Anne Richardson</a></li>\n",
       "<li><a href=\"/wiki/Mary_Virginia_Terhune\" title=\"Mary Virginia Terhune\">Mary Virginia Terhune</a></li></ul>\n",
       "</div></td></tr><tr><th class=\"navbox-group\" scope=\"row\" style=\"width:1%\">2007</th><td class=\"navbox-list-with-group navbox-list navbox-even\" style=\"width:100%;padding:0\"><div style=\"padding:0 0.25em\">\n",
       "<ul><li><a href=\"/wiki/Mary_Willing_Byrd\" title=\"Mary Willing Byrd\">Mary Willing Byrd</a></li>\n",
       "<li><a href=\"/wiki/Maybelle_Carter\" title=\"Maybelle Carter\">Maybelle Carter</a></li>\n",
       "<li><a href=\"/wiki/Laura_Copenhaver\" title=\"Laura Copenhaver\">Laura Lu Scherer Copenhaver</a></li>\n",
       "<li><a class=\"new\" href=\"/w/index.php?title=Mary_Futrell&amp;action=edit&amp;redlink=1\" title=\"Mary Futrell (page does not exist)\">Mary Alice Franklin Hatwood Futrell</a></li>\n",
       "<li><a class=\"new\" href=\"/w/index.php?title=Mary_Jeffery_Galt&amp;action=edit&amp;redlink=1\" title=\"Mary Jeffery Galt (page does not exist)\">Mary Jeffery Galt</a></li>\n",
       "<li><a href=\"/wiki/Sheila_Johnson\" title=\"Sheila Johnson\">Sheila Crump Johnson</a></li>\n",
       "<li><a href=\"/wiki/Opossunoquonuske\" title=\"Opossunoquonuske\">Opossunoquonuske</a></li>\n",
       "<li><a href=\"/wiki/Camilla_Williams\" title=\"Camilla Williams\">Camilla Williams</a></li></ul>\n",
       "</div></td></tr><tr><th class=\"navbox-group\" scope=\"row\" style=\"width:1%\">2008</th><td class=\"navbox-list-with-group navbox-list navbox-odd\" style=\"width:100%;padding:0\"><div style=\"padding:0 0.25em\">\n",
       "<ul><li><a href=\"/wiki/Frances_Culpeper_Berkeley\" title=\"Frances Culpeper Berkeley\">Frances Culpeper Berkeley</a></li>\n",
       "<li><a href=\"/wiki/Lucy_Goode_Brooks\" title=\"Lucy Goode Brooks\">Lucy Goode Brooks</a></li>\n",
       "<li><a class=\"new\" href=\"/w/index.php?title=Providencia_Velazquez_Gonzalez&amp;action=edit&amp;redlink=1\" title=\"Providencia Velazquez Gonzalez (page does not exist)\">Providencia Velazquez Gonzalez</a></li>\n",
       "<li><a href=\"/wiki/Elizabeth_B._Lacy\" title=\"Elizabeth B. Lacy\">Elizabeth B. Lacy</a></li>\n",
       "<li><a href=\"/wiki/Sharyn_McCrumb\" title=\"Sharyn McCrumb\">Sharyn McCrumb</a></li>\n",
       "<li><a href=\"/wiki/P._Buckley_Moss\" title=\"P. Buckley Moss\">P. Buckley Moss</a></li>\n",
       "<li><a class=\"new\" href=\"/w/index.php?title=Isabel_Wood_Rogers&amp;action=edit&amp;redlink=1\" title=\"Isabel Wood Rogers (page does not exist)\">Isabel Wood Rogers</a></li>\n",
       "<li><a href=\"/wiki/Edith_Turner\" title=\"Edith Turner\">Edith Turner</a></li></ul>\n",
       "</div></td></tr><tr><th class=\"navbox-group\" scope=\"row\" style=\"width:1%\">2009</th><td class=\"navbox-list-with-group navbox-list navbox-even\" style=\"width:100%;padding:0\"><div style=\"padding:0 0.25em\">\n",
       "<ul><li><a href=\"/wiki/Pauline_Adams\" title=\"Pauline Adams\">Pauline Adams</a></li>\n",
       "<li><a href=\"/wiki/Caroline_Bradby_Cook\" title=\"Caroline Bradby Cook\">Caroline Bradby Cook</a></li>\n",
       "<li><a href=\"/wiki/Claudia_Emerson\" title=\"Claudia Emerson\">Claudia Emerson</a></li>\n",
       "<li><a href=\"/wiki/Drew_Gilpin_Faust\" title=\"Drew Gilpin Faust\">Drew Gilpin Faust</a></li>\n",
       "<li><a class=\"new\" href=\"/w/index.php?title=Joann_Hess_Grayson&amp;action=edit&amp;redlink=1\" title=\"Joann Hess Grayson (page does not exist)\">Joann Hess Grayson</a></li>\n",
       "<li><a href=\"/wiki/Mary_Randolph\" title=\"Mary Randolph\">Mary Randolph</a></li>\n",
       "<li><a href=\"/wiki/Virginia_Randolph\" title=\"Virginia Randolph\">Virginia Randolph</a></li>\n",
       "<li><a href=\"/wiki/Mary_Sue_Terry\" title=\"Mary Sue Terry\">Mary Sue Terry</a></li></ul>\n",
       "</div></td></tr></tbody></table><div></div></td></tr></tbody></table><div></div></td></tr><tr><td class=\"navbox-list navbox-odd hlist\" colspan=\"2\" style=\"width:100%;padding:0\"><div style=\"padding:0 0.25em\"></div><table class=\"nowraplinks mw-collapsible mw-collapsed navbox-subgroup\" style=\"border-spacing:0\"><tbody><tr><th class=\"navbox-title\" colspan=\"2\" scope=\"col\"><div id=\"2010–2019\" style=\"font-size:114%;margin:0 4em\">2010–2019</div></th></tr><tr><td class=\"navbox-list navbox-odd\" colspan=\"2\" style=\"width:100%;padding:0\"><div style=\"padding:0 0.25em\"></div><table class=\"nowraplinks navbox-subgroup\" style=\"border-spacing:0\"><tbody><tr><th class=\"navbox-group\" scope=\"row\" style=\"width:1%\">2010</th><td class=\"navbox-list-with-group navbox-list navbox-odd\" style=\"width:100%;padding:0\"><div style=\"padding:0 0.25em\">\n",
       "<ul><li><a href=\"/wiki/Mollie_Holmes_Adams\" title=\"Mollie Holmes Adams\">Mollie Holmes Adams</a></li>\n",
       "<li><a href=\"/wiki/Ethel_Furman\" title=\"Ethel Furman\">Ethel Furman</a></li>\n",
       "<li><a href=\"/wiki/Edythe_Harrison\" title=\"Edythe Harrison\">Edythe C. Harrison</a></li>\n",
       "<li><a href=\"/wiki/Janis_Martin\" title=\"Janis Martin\">Janis Martin</a></li>\n",
       "<li><a href=\"/wiki/Kate_Mason_Rowland\" title=\"Kate Mason Rowland\">Kate Mason Rowland</a></li>\n",
       "<li><a href=\"/wiki/Jean_Skipwith\" title=\"Jean Skipwith\">Jean Miller Skipwith</a></li>\n",
       "<li><a href=\"/wiki/Queena_Stovall\" title=\"Queena Stovall\">Queena Stovall</a></li>\n",
       "<li><a href=\"/wiki/Marian_Van_Landingham\" title=\"Marian Van Landingham\">Marian Van Landingham</a></li></ul>\n",
       "</div></td></tr><tr><th class=\"navbox-group\" scope=\"row\" style=\"width:1%\">2011</th><td class=\"navbox-list-with-group navbox-list navbox-even\" style=\"width:100%;padding:0\"><div style=\"padding:0 0.25em\">\n",
       "<ul><li><a href=\"/wiki/Lucy_Addison\" title=\"Lucy Addison\">Lucy Addison</a></li>\n",
       "<li><a href=\"/wiki/Eleanor_Bontecou\" title=\"Eleanor Bontecou\">Eleanor Bontecou</a></li>\n",
       "<li><a class=\"new\" href=\"/w/index.php?title=Emily_White_Fleming&amp;action=edit&amp;redlink=1\" title=\"Emily White Fleming (page does not exist)\">Emily White Fleming</a></li>\n",
       "<li><a class=\"new\" href=\"/w/index.php?title=Pearl_Fu&amp;action=edit&amp;redlink=1\" title=\"Pearl Fu (page does not exist)\">Pearl Fu</a></li>\n",
       "<li><a href=\"/wiki/Lillian_Lincoln\" title=\"Lillian Lincoln\">Lillian Lincoln</a></li>\n",
       "<li><a href=\"/wiki/Bessie_Niemeyer_Marshall\" title=\"Bessie Niemeyer Marshall\">Bessie Niemeyer Marshall</a></li>\n",
       "<li><a class=\"new\" href=\"/w/index.php?title=Felicia_Warburg_Rogan&amp;action=edit&amp;redlink=1\" title=\"Felicia Warburg Rogan (page does not exist)\">Felicia Warburg Rogan</a></li>\n",
       "<li><a href=\"/wiki/Elizabeth_Henry_Campbell_Russell\" title=\"Elizabeth Henry Campbell Russell\">Elizabeth Henry Campbell Russell</a></li></ul>\n",
       "</div></td></tr><tr><th class=\"navbox-group\" scope=\"row\" style=\"width:1%\">2012</th><td class=\"navbox-list-with-group navbox-list navbox-odd\" style=\"width:100%;padding:0\"><div style=\"padding:0 0.25em\">\n",
       "<ul><li><a href=\"/wiki/Susie_May_Ames\" title=\"Susie May Ames\">Susie May Ames</a></li>\n",
       "<li><a href=\"/wiki/Monica_Beltran\" title=\"Monica Beltran\">Monica Beltran</a></li>\n",
       "<li><a href=\"/wiki/Christiana_Burdett_Campbell\" title=\"Christiana Burdett Campbell\">Christiana Burdett Campbell</a></li>\n",
       "<li><a class=\"new\" href=\"/w/index.php?title=Betty_Sams_Christian&amp;action=edit&amp;redlink=1\" title=\"Betty Sams Christian (page does not exist)\">Betty Sams Christian</a></li>\n",
       "<li><a href=\"/wiki/Elizabeth_Peet_McIntosh\" title=\"Elizabeth Peet McIntosh\">Elizabeth Peet McIntosh</a></li>\n",
       "<li><a class=\"mw-redirect\" href=\"/wiki/Orelena_Hawks_Puckett\" title=\"Orelena Hawks Puckett\">Orelena Hawks Puckett</a></li>\n",
       "<li><a href=\"/wiki/Judith_Shatin\" title=\"Judith Shatin\">Judith Shatin</a></li>\n",
       "<li><a href=\"/wiki/Alice_Jackson_Stuart\" title=\"Alice Jackson Stuart\">Alice Jackson Stuart</a></li></ul>\n",
       "</div></td></tr><tr><th class=\"navbox-group\" scope=\"row\" style=\"width:1%\">2013</th><td class=\"navbox-list-with-group navbox-list navbox-even\" style=\"width:100%;padding:0\"><div style=\"padding:0 0.25em\">\n",
       "<ul><li><a href=\"/wiki/Mary_C._Alexander\" title=\"Mary C. Alexander\">Mary C. Alexander</a></li>\n",
       "<li><a href=\"/wiki/Louise_Archer\" title=\"Louise Archer\">Louise Archer</a></li>\n",
       "<li><a href=\"/wiki/Elizabeth_Jaquelin_Ambler_Brent_Carrington\" title=\"Elizabeth Jaquelin Ambler Brent Carrington\">Elizabeth Ambler Brent Carrington</a></li>\n",
       "<li><a href=\"/wiki/Ann_Compton\" title=\"Ann Compton\">Ann Compton</a></li>\n",
       "<li><a href=\"/wiki/JoAnn_Falletta\" title=\"JoAnn Falletta\">JoAnn Falletta</a></li>\n",
       "<li><a href=\"/wiki/Cleo_Powell\" title=\"Cleo Powell\">Cleo Powell</a></li>\n",
       "<li><a href=\"/wiki/Inez_Pruitt\" title=\"Inez Pruitt\">Inez Pruitt</a></li>\n",
       "<li><a href=\"/wiki/Eva_Mae_Fleming_Scott\" title=\"Eva Mae Fleming Scott\">Eva Mae Fleming Scott</a></li></ul>\n",
       "</div></td></tr><tr><th class=\"navbox-group\" scope=\"row\" style=\"width:1%\">2014</th><td class=\"navbox-list-with-group navbox-list navbox-odd\" style=\"width:100%;padding:0\"><div style=\"padding:0 0.25em\">\n",
       "<ul><li><a href=\"/wiki/Mary_Berkeley_Minor_Blackford\" title=\"Mary Berkeley Minor Blackford\">Mary Berkeley Minor Blackford</a></li>\n",
       "<li><a href=\"/wiki/Naomi_Silverman_Cohn\" title=\"Naomi Silverman Cohn\">Naomi Silverman Cohn</a></li>\n",
       "<li><a href=\"/wiki/Elizabeth_Ashburn_Duke\" title=\"Elizabeth Ashburn Duke\">Elizabeth Ashburn Duke</a></li>\n",
       "<li><a href=\"/wiki/Rachel_Findlay\" title=\"Rachel Findlay\">Rachel Findlay</a></li>\n",
       "<li><a href=\"/wiki/Christine_Herter_Kendall\" title=\"Christine Herter Kendall\">Christine Herter Kendall</a></li>\n",
       "<li><a href=\"/wiki/Mildred_and_Richard_Loving\" title=\"Mildred and Richard Loving\">Mildred Loving</a></li>\n",
       "<li><a href=\"/wiki/Debbie_Ryan\" title=\"Debbie Ryan\">Debbie Ryan</a></li>\n",
       "<li><a href=\"/wiki/Stoner_Winslett\" title=\"Stoner Winslett\">Stoner Winslett</a></li></ul>\n",
       "</div></td></tr><tr><th class=\"navbox-group\" scope=\"row\" style=\"width:1%\">2015</th><td class=\"navbox-list-with-group navbox-list navbox-even\" style=\"width:100%;padding:0\"><div style=\"padding:0 0.25em\">\n",
       "<ul><li><a href=\"/wiki/Nancy_Melvina_Caldwell\" title=\"Nancy Melvina Caldwell\">Nancy Melvina Caldwell</a></li>\n",
       "<li><a href=\"/wiki/Nikki_Giovanni\" title=\"Nikki Giovanni\">Nikki Giovanni</a></li>\n",
       "<li><a class=\"new\" href=\"/w/index.php?title=Ruth_Coles_Harris&amp;action=edit&amp;redlink=1\" title=\"Ruth Coles Harris (page does not exist)\">Ruth Coles Harris</a></li>\n",
       "<li><a href=\"/wiki/Dorothy_Shoemaker_McDiarmid\" title=\"Dorothy Shoemaker McDiarmid\">Dorothy Shoemaker McDiarmid</a></li>\n",
       "<li><a href=\"/wiki/Rebekah_Dulaney_Peterkin\" title=\"Rebekah Dulaney Peterkin\">Rebekah Dulaney Peterkin</a></li>\n",
       "<li><a href=\"/wiki/Vivian_Pinn\" title=\"Vivian Pinn\">Vivian Pinn</a></li>\n",
       "<li><a href=\"/wiki/Elizabeth_Bray_Allen\" title=\"Elizabeth Bray Allen\">Elizabeth Bray Allen Smith Stith</a></li>\n",
       "<li><a href=\"/wiki/Karenne_Wood\" title=\"Karenne Wood\">Karenne Wood</a></li></ul>\n",
       "</div></td></tr><tr><th class=\"navbox-group\" scope=\"row\" style=\"width:1%\">2016</th><td class=\"navbox-list-with-group navbox-list navbox-odd\" style=\"width:100%;padding:0\"><div style=\"padding:0 0.25em\">\n",
       "<ul><li><a href=\"/wiki/Flora_D._Crittenden\" title=\"Flora D. Crittenden\">Flora D. Crittenden</a></li>\n",
       "<li><a class=\"mw-redirect\" href=\"/wiki/Mary_Elizabeth_Nottingham_Day\" title=\"Mary Elizabeth Nottingham Day\">Mary Elizabeth Nottingham Day</a></li>\n",
       "<li><a href=\"/wiki/Sarah_A._Gray\" title=\"Sarah A. Gray\">Sarah A. Gray</a></li>\n",
       "<li><a href=\"/wiki/Edwilda_Gustava_Allen_Isaac\" title=\"Edwilda Gustava Allen Isaac\">Edwilda Gustava Allen Isaac</a></li>\n",
       "<li><a href=\"/wiki/Katherine_Johnson\" title=\"Katherine Johnson\">Katherine Johnson</a></li>\n",
       "<li><a href=\"/wiki/Ana_Ines_Barragan_King\" title=\"Ana Ines Barragan King\">Ana Ines Barragan King</a></li>\n",
       "<li><a class=\"new\" href=\"/w/index.php?title=Betty_Masters&amp;action=edit&amp;redlink=1\" title=\"Betty Masters (page does not exist)\">Betty Masters</a></li>\n",
       "<li><a href=\"/wiki/Meyera_Oberndorf\" title=\"Meyera Oberndorf\">Meyera Oberndorf</a></li></ul>\n",
       "</div></td></tr><tr><th class=\"navbox-group\" scope=\"row\" style=\"width:1%\">2017</th><td class=\"navbox-list-with-group navbox-list navbox-even\" style=\"width:100%;padding:0\"><div style=\"padding:0 0.25em\">\n",
       "<ul><li><a href=\"/wiki/Doris_Crouse-Mays\" title=\"Doris Crouse-Mays\">Doris Crouse-Mays</a></li>\n",
       "<li><a class=\"new\" href=\"/w/index.php?title=Corazon_Sandoval_Foley&amp;action=edit&amp;redlink=1\" title=\"Corazon Sandoval Foley (page does not exist)\">Corazon Sandoval Foley</a></li>\n",
       "<li><a href=\"/wiki/Nora_Houston\" title=\"Nora Houston\">Nora Houston</a></li>\n",
       "<li><a href=\"/wiki/Cynthia_Eppes_Hudson\" title=\"Cynthia Eppes Hudson\">Cynthia Eppes Hudson</a></li>\n",
       "<li><a class=\"new\" href=\"/w/index.php?title=Mary_Virginia_Jones&amp;action=edit&amp;redlink=1\" title=\"Mary Virginia Jones (page does not exist)\">Mary Virginia Jones</a></li>\n",
       "<li><a href=\"/wiki/Louise_Harrison_McCraw\" title=\"Louise Harrison McCraw\">Louise Harrison McCraw</a></li>\n",
       "<li><a href=\"/wiki/Undine_Smith_Moore\" title=\"Undine Smith Moore\">Undine Smith Moore</a></li>\n",
       "<li><a class=\"new\" href=\"/w/index.php?title=Martha_Rollins&amp;action=edit&amp;redlink=1\" title=\"Martha Rollins (page does not exist)\">Martha Rollins</a></li></ul>\n",
       "</div></td></tr><tr><th class=\"navbox-group\" scope=\"row\" style=\"width:1%\">2018</th><td class=\"navbox-list-with-group navbox-list navbox-odd\" style=\"width:100%;padding:0\"><div style=\"padding:0 0.25em\">\n",
       "<ul><li><a href=\"/wiki/Gaye_Adegbalola\" title=\"Gaye Adegbalola\">Gaye Todd Adegbalola</a></li>\n",
       "<li><a href=\"/wiki/Rita_Dove\" title=\"Rita Dove\">Rita Dove</a></li>\n",
       "<li><a href=\"/wiki/Isabella_Gibbons\" title=\"Isabella Gibbons\">Isabella Gibbons</a></li>\n",
       "<li><a href=\"/wiki/Marii_Hasegawa\" title=\"Marii Hasegawa\">Marii Kyogoku Hasegawa</a></li>\n",
       "<li><a href=\"/wiki/Kay_Coles_James\" title=\"Kay Coles James\">Kay Coles James</a></li>\n",
       "<li><a href=\"/wiki/Barbara_Kingsolver\" title=\"Barbara Kingsolver\">Barbara Kingsolver</a></li>\n",
       "<li><a href=\"/wiki/Mary_A._R._Marshall\" title=\"Mary A. R. Marshall\">Mary Aydelotte Rice Marshall</a></li>\n",
       "<li><a href=\"/wiki/Temperance_Flowerdew\" title=\"Temperance Flowerdew\">Temperance Flowerdew Yeardley</a></li></ul>\n",
       "</div></td></tr><tr><th class=\"navbox-group\" scope=\"row\" style=\"width:1%\">2019</th><td class=\"navbox-list-with-group navbox-list navbox-even\" style=\"width:100%;padding:0\"><div style=\"padding:0 0.25em\">\n",
       "<ul><li><a href=\"/wiki/Sharifa_Alkhateeb\" title=\"Sharifa Alkhateeb\">Sharifa Alkhateeb</a></li>\n",
       "<li><a href=\"/wiki/Queen_Ann_(Pamunkey_chief)\" title=\"Queen Ann (Pamunkey chief)\">Queen Ann</a></li>\n",
       "<li><a class=\"new\" href=\"/w/index.php?title=Claudia_Lane_Dodson&amp;action=edit&amp;redlink=1\" title=\"Claudia Lane Dodson (page does not exist)\">Claudia Lane Dodson</a></li>\n",
       "<li><a href=\"/wiki/India_Hamilton\" title=\"India Hamilton\">India Hamilton</a></li>\n",
       "<li><a href=\"/wiki/Georgeanna_Seegar_Jones\" title=\"Georgeanna Seegar Jones\">Georgeanna Seegar Jones</a></li>\n",
       "<li><a href=\"/wiki/Oney_Judge\" title=\"Oney Judge\">Ona Maria Judge</a></li>\n",
       "<li><a href=\"/wiki/Lucy_Randolph_Mason\" title=\"Lucy Randolph Mason\">Lucy Randolph Mason</a></li>\n",
       "<li><a href=\"/wiki/Kate_Peters_Sturgill\" title=\"Kate Peters Sturgill\">Kate Peters Sturgill</a></li></ul>\n",
       "</div></td></tr></tbody></table><div></div></td></tr></tbody></table><div></div></td></tr><tr><td class=\"navbox-list navbox-odd hlist\" colspan=\"2\" style=\"width:100%;padding:0\"><div style=\"padding:0 0.25em\"></div><table class=\"nowraplinks mw-collapsible mw-collapsed navbox-subgroup\" style=\"border-spacing:0\"><tbody><tr><th class=\"navbox-title\" colspan=\"2\" scope=\"col\"><div id=\"2020–2029\" style=\"font-size:114%;margin:0 4em\">2020–2029</div></th></tr><tr><td class=\"navbox-list navbox-odd\" colspan=\"2\" style=\"width:100%;padding:0\"><div style=\"padding:0 0.25em\"></div><table class=\"nowraplinks navbox-subgroup\" style=\"border-spacing:0\"><tbody><tr><th class=\"navbox-group\" scope=\"row\" style=\"width:1%\">2020</th><td class=\"navbox-list-with-group navbox-list navbox-odd\" style=\"width:100%;padding:0\"><div style=\"padding:0 0.25em\">\n",
       "<ul><li><a href=\"/wiki/Pauline_Adams\" title=\"Pauline Adams\">Pauline Adams</a></li>\n",
       "<li><a class=\"new\" href=\"/w/index.php?title=Fannie_Bayly_King&amp;action=edit&amp;redlink=1\" title=\"Fannie Bayly King (page does not exist)\">Fannie Bayly King</a></li>\n",
       "<li><a class=\"mw-redirect\" href=\"/wiki/Elizabeth_Dabney_Langhorne_Lewis\" title=\"Elizabeth Dabney Langhorne Lewis\">Elizabeth Dabney Langhorne Lewis</a></li>\n",
       "<li><a class=\"mw-redirect\" href=\"/wiki/Sophie_G._Meredith\" title=\"Sophie G. Meredith\">Sophie G. Meredith</a></li>\n",
       "<li><a class=\"new\" href=\"/w/index.php?title=Josephine_Mathes_Norcom&amp;action=edit&amp;redlink=1\" title=\"Josephine Mathes Norcom (page does not exist)\">Josephine Mathes Norcom</a></li>\n",
       "<li><a href=\"/wiki/Mary_Elizabeth_Pidgeon\" title=\"Mary Elizabeth Pidgeon\">Mary Elizabeth Pidgeon</a></li>\n",
       "<li><a href=\"/wiki/Ora_Brown_Stokes_Perry\" title=\"Ora Brown Stokes Perry\">Ora Brown Stokes</a></li>\n",
       "<li><a href=\"/wiki/Lila_Meade_Valentine\" title=\"Lila Meade Valentine\">Lila Meade Valentine</a></li>\n",
       "<li><a class=\"mw-redirect\" href=\"/wiki/Maggie_Lena_Mitchell_Walker\" title=\"Maggie Lena Mitchell Walker\">Maggie Lena Mitchell Walker</a></li></ul>\n",
       "</div></td></tr><tr><th class=\"navbox-group\" scope=\"row\" style=\"width:1%\">2021</th><td class=\"navbox-list-with-group navbox-list navbox-even\" style=\"width:100%;padding:0\"><div style=\"padding:0 0.25em\">\n",
       "<ul><li><a class=\"new\" href=\"/w/index.php?title=Krista_N._Jones&amp;action=edit&amp;redlink=1\" title=\"Krista N. Jones (page does not exist)\">Krista N. Jones</a></li>\n",
       "<li><a class=\"new\" href=\"/w/index.php?title=Lerla_G._Joseph&amp;action=edit&amp;redlink=1\" title=\"Lerla G. Joseph (page does not exist)\">Lerla G. Joseph</a></li>\n",
       "<li><a class=\"new\" href=\"/w/index.php?title=Lillie_Louise_Boone_Lucas&amp;action=edit&amp;redlink=1\" title=\"Lillie Louise Boone Lucas (page does not exist)\">Lillie Louise Boone Lucas</a></li>\n",
       "<li><a class=\"mw-redirect\" href=\"/wiki/Evelyn_Reid_Syphax\" title=\"Evelyn Reid Syphax\">Evelyn Reid Syphax</a></li></ul>\n",
       "</div></td></tr></tbody></table><div></div></td></tr></tbody></table><div></div></td></tr></tbody></table></div></div></td></tr></tbody></table></div>\n",
       "<div class=\"navbox-styles\"><link href=\"mw-data:TemplateStyles:r1129693374\" rel=\"mw-deduplicated-inline-style\"/><link href=\"mw-data:TemplateStyles:r1061467846\" rel=\"mw-deduplicated-inline-style\"/></div><div aria-labelledby=\"Authority_control_frameless&amp;#124;text-top&amp;#124;10px&amp;#124;alt=Edit_this_at_Wikidata&amp;#124;link=https&amp;#58;//www.wikidata.org/wiki/Q11641#identifiers&amp;#124;class=noprint&amp;#124;Edit_this_at_Wikidata\" class=\"navbox authority-control\" role=\"navigation\" style=\"padding:3px\"><table class=\"nowraplinks hlist mw-collapsible autocollapse navbox-inner\" style=\"border-spacing:0;background:transparent;color:inherit\"><tbody><tr><th class=\"navbox-title\" colspan=\"2\" scope=\"col\"><div id=\"Authority_control_frameless&amp;#124;text-top&amp;#124;10px&amp;#124;alt=Edit_this_at_Wikidata&amp;#124;link=https&amp;#58;//www.wikidata.org/wiki/Q11641#identifiers&amp;#124;class=noprint&amp;#124;Edit_this_at_Wikidata\" style=\"font-size:114%;margin:0 4em\"><a href=\"/wiki/Help:Authority_control\" title=\"Help:Authority control\">Authority control</a> <a href=\"https://www.wikidata.org/wiki/Q11641#identifiers\" title=\"Edit this at Wikidata\"><img alt=\"Edit this at Wikidata\" class=\"noprint\" data-file-height=\"20\" data-file-width=\"20\" decoding=\"async\" height=\"10\" src=\"//upload.wikimedia.org/wikipedia/en/thumb/8/8a/OOjs_UI_icon_edit-ltr-progressive.svg/10px-OOjs_UI_icon_edit-ltr-progressive.svg.png\" srcset=\"//upload.wikimedia.org/wikipedia/en/thumb/8/8a/OOjs_UI_icon_edit-ltr-progressive.svg/15px-OOjs_UI_icon_edit-ltr-progressive.svg.png 1.5x, //upload.wikimedia.org/wikipedia/en/thumb/8/8a/OOjs_UI_icon_edit-ltr-progressive.svg/20px-OOjs_UI_icon_edit-ltr-progressive.svg.png 2x\" style=\"vertical-align: text-top\" width=\"10\"/></a></div></th></tr><tr><th class=\"navbox-group\" scope=\"row\" style=\"width:1%\">General</th><td class=\"navbox-list-with-group navbox-list navbox-odd\" style=\"width:100%;padding:0\"><div style=\"padding:0 0.25em\">\n",
       "<ul><li><a class=\"mw-redirect\" href=\"/wiki/ISNI_(identifier)\" title=\"ISNI (identifier)\">ISNI</a>\n",
       "<ul><li><span class=\"uid\"><a class=\"external text\" href=\"https://isni.org/isni/0000000110349992\" rel=\"nofollow\">1</a></span></li></ul></li>\n",
       "<li><a class=\"mw-redirect\" href=\"/wiki/VIAF_(identifier)\" title=\"VIAF (identifier)\">VIAF</a>\n",
       "<ul><li><span class=\"uid\"><a class=\"external text\" href=\"https://viaf.org/viaf/873229\" rel=\"nofollow\">1</a></span></li></ul></li>\n",
       "<li><span class=\"uid\"><a class=\"external text\" href=\"https://www.worldcat.org/identities/lccn-n83175996/\" rel=\"nofollow\">WorldCat</a></span></li></ul>\n",
       "</div></td></tr><tr><th class=\"navbox-group\" scope=\"row\" style=\"width:1%\">National libraries</th><td class=\"navbox-list-with-group navbox-list navbox-even\" style=\"width:100%;padding:0\"><div style=\"padding:0 0.25em\">\n",
       "<ul><li><span class=\"uid\"><a class=\"external text\" href=\"https://authority.bibsys.no/authority/rest/authorities/html/98034489\" rel=\"nofollow\">Norway</a></span></li>\n",
       "<li><span class=\"uid\"><a class=\"external text\" href=\"https://catalogue.bnf.fr/ark:/12148/cb16228841g\" rel=\"nofollow\">France</a> <a class=\"external text\" href=\"https://data.bnf.fr/ark:/12148/cb16228841g\" rel=\"nofollow\">(data)</a></span></li>\n",
       "<li><span class=\"uid\"><a class=\"external text\" href=\"https://d-nb.info/gnd/121579948\" rel=\"nofollow\">Germany</a></span></li>\n",
       "<li><span class=\"uid\"><a class=\"external text\" href=\"http://uli.nli.org.il/F/?func=find-b&amp;local_base=NLX10&amp;find_code=UID&amp;request=987007379312505171\" rel=\"nofollow\">Israel</a></span></li>\n",
       "<li><span class=\"uid\"><a class=\"external text\" href=\"https://id.loc.gov/authorities/names/n83175996\" rel=\"nofollow\">United States</a></span></li>\n",
       "<li><span class=\"uid\"><a class=\"external text\" href=\"https://aleph.nkp.cz/F/?func=find-c&amp;local_base=aut&amp;ccl_term=ica=jx20100825003&amp;CON_LNG=ENG\" rel=\"nofollow\">Czech Republic</a></span></li>\n",
       "<li><span class=\"uid\"><a class=\"external text\" href=\"https://nla.gov.au/anbd.aut-an36506213\" rel=\"nofollow\">Australia</a></span></li>\n",
       "<li><span class=\"uid\"><a class=\"external text\" href=\"http://data.bibliotheken.nl/id/thes/p324982577\" rel=\"nofollow\">Netherlands</a></span></li>\n",
       "<li><span class=\"uid\"><a class=\"external text\" href=\"http://mak.bn.org.pl/cgi-bin/KHW/makwww.exe?BM=1&amp;NU=1&amp;IM=4&amp;WI=9810570379205606\" rel=\"nofollow\">Poland</a></span></li></ul>\n",
       "</div></td></tr><tr><th class=\"navbox-group\" scope=\"row\" style=\"width:1%\">Scientific databases</th><td class=\"navbox-list-with-group navbox-list navbox-odd\" style=\"width:100%;padding:0\"><div style=\"padding:0 0.25em\">\n",
       "<ul><li><span class=\"uid\"><a class=\"external text\" href=\"https://dl.acm.org/profile/81100172438\" rel=\"nofollow\">Association for Computing Machinery</a></span></li>\n",
       "<li><span class=\"uid\"><a class=\"external text\" href=\"https://dblp.org/pid/51/3005\" rel=\"nofollow\">DBLP (computer science)</a></span></li>\n",
       "<li><span class=\"uid\"><a class=\"external text\" href=\"https://mathscinet.ams.org/mathscinet/MRAuthorID/284767\" rel=\"nofollow\">MathSciNet</a></span></li>\n",
       "<li><span class=\"uid\"><a class=\"external text\" href=\"https://www.mathgenealogy.org/id.php?id=15664\" rel=\"nofollow\">Mathematics Genealogy Project</a></span></li>\n",
       "<li><span class=\"uid\"><a class=\"external text\" href=\"https://zbmath.org/authors/?q=ai:hopper.grace\" rel=\"nofollow\">zbMATH</a></span>\n",
       "<ul><li><span class=\"uid\"><a class=\"external text\" href=\"https://zbmath.org/authors/?q=ai:murray-hopper.grace\" rel=\"nofollow\">2</a></span></li></ul></li></ul>\n",
       "</div></td></tr><tr><th class=\"navbox-group\" scope=\"row\" style=\"width:1%\">Other</th><td class=\"navbox-list-with-group navbox-list navbox-even\" style=\"width:100%;padding:0\"><div style=\"padding:0 0.25em\">\n",
       "<ul><li><span class=\"uid\"><a class=\"external text\" href=\"http://id.worldcat.org/fast/118017/\" rel=\"nofollow\">FAST</a></span></li>\n",
       "<li><span class=\"uid\"><a class=\"external text\" href=\"https://snaccooperative.org/ark:/99166/w6nt1htb\" rel=\"nofollow\">Social Networks and Archival Context</a></span>\n",
       "<ul><li><span class=\"uid\"><a class=\"external text\" href=\"https://snaccooperative.org/ark:/99166/w6hq4r5k\" rel=\"nofollow\">2</a></span></li></ul></li>\n",
       "<li><a class=\"mw-redirect\" href=\"/wiki/SUDOC_(identifier)\" title=\"SUDOC (identifier)\">SUDOC (France)</a>\n",
       "<ul><li><span class=\"uid\"><a class=\"external text\" href=\"https://www.idref.fr/079152783\" rel=\"nofollow\">1</a></span></li></ul></li>\n",
       "<li><a class=\"mw-redirect\" href=\"/wiki/Trove_(identifier)\" title=\"Trove (identifier)\">Trove (Australia)</a>\n",
       "<ul><li><span class=\"uid\"><a class=\"external text\" href=\"https://trove.nla.gov.au/people/1262981\" rel=\"nofollow\">1</a></span></li></ul></li></ul>\n",
       "</div></td></tr></tbody></table></div>\n",
       "<!-- \n",
       "NewPP limit report\n",
       "Parsed by mw1365\n",
       "Cached time: 20230216103308\n",
       "Cache expiry: 86400\n",
       "Reduced expiry: true\n",
       "Complications: [vary‐revision‐sha1, show‐toc]\n",
       "CPU time usage: 2.046 seconds\n",
       "Real time usage: 2.318 seconds\n",
       "Preprocessor visited node count: 9764/1000000\n",
       "Post‐expand include size: 478079/2097152 bytes\n",
       "Template argument size: 88942/2097152 bytes\n",
       "Highest expansion depth: 18/100\n",
       "Expensive parser function count: 28/500\n",
       "Unstrip recursion depth: 1/20\n",
       "Unstrip post‐expand size: 344347/5000000 bytes\n",
       "Lua time usage: 1.212/10.000 seconds\n",
       "Lua memory usage: 15948933/52428800 bytes\n",
       "Lua Profile:\n",
       "    MediaWiki\\Extension\\Scribunto\\Engines\\LuaSandbox\\LuaSandboxCallback::callParserFunction      200 ms       16.9%\n",
       "    ?                                                                180 ms       15.3%\n",
       "    recursiveClone <mwInit.lua:41>                                   160 ms       13.6%\n",
       "    MediaWiki\\Extension\\Scribunto\\Engines\\LuaSandbox\\LuaSandboxCallback::gsub       60 ms        5.1%\n",
       "    tostring                                                          60 ms        5.1%\n",
       "    format                                                            40 ms        3.4%\n",
       "    init <Module:Citation/CS1/Utilities>                              40 ms        3.4%\n",
       "    MediaWiki\\Extension\\Scribunto\\Engines\\LuaSandbox\\LuaSandboxCallback::preprocess       40 ms        3.4%\n",
       "    type                                                              40 ms        3.4%\n",
       "    MediaWiki\\Extension\\Scribunto\\Engines\\LuaSandbox\\LuaSandboxCallback::getEntity       40 ms        3.4%\n",
       "    [others]                                                         320 ms       27.1%\n",
       "Number of Wikibase entities loaded: 1/400\n",
       "-->\n",
       "<!--\n",
       "Transclusion expansion time report (%,ms,calls,template)\n",
       "100.00% 1856.070      1 -total\n",
       " 49.61%  920.876      2 Template:Reflist\n",
       " 19.08%  354.160     60 Template:Cite_web\n",
       " 12.38%  229.871      1 Template:Navboxes\n",
       "  9.54%  177.161     16 Template:Cite_news\n",
       "  9.20%  170.824     12 Template:Navbox\n",
       "  8.46%  156.954     24 Template:Cite_book\n",
       "  8.43%  156.510      1 Template:Infobox_military_person\n",
       "  8.09%  150.091      1 Template:Infobox\n",
       "  5.46%  101.249      1 Template:Timelines_of_computing\n",
       "-->\n",
       "<!-- Saved in parser cache with key enwiki:pcache:idhash:12590-0!canonical and timestamp 20230216103306 and revision id 1134605957. Rendering was triggered because: page-view\n",
       " -->\n",
       "</div><!--esi <esi:include src=\"/esitest-fa8a495983347898/content\" /> --><noscript><img alt=\"\" height=\"1\" src=\"//en.wikipedia.org/wiki/Special:CentralAutoLogin/start?type=1x1\" style=\"border: none; position: absolute;\" title=\"\" width=\"1\"/></noscript>\n",
       "<div class=\"printfooter\" data-nosnippet=\"\">Retrieved from \"<a dir=\"ltr\" href=\"https://en.wikipedia.org/w/index.php?title=Grace_Hopper&amp;oldid=1134605957\">https://en.wikipedia.org/w/index.php?title=Grace_Hopper&amp;oldid=1134605957</a>\"</div></div>\n",
       "<div class=\"catlinks\" data-mw=\"interface\" id=\"catlinks\"><div class=\"mw-normal-catlinks\" id=\"mw-normal-catlinks\"><a href=\"/wiki/Help:Category\" title=\"Help:Category\">Categories</a>: <ul><li><a href=\"/wiki/Category:1906_births\" title=\"Category:1906 births\">1906 births</a></li><li><a href=\"/wiki/Category:1992_deaths\" title=\"Category:1992 deaths\">1992 deaths</a></li><li><a href=\"/wiki/Category:American_computer_programmers\" title=\"Category:American computer programmers\">American computer programmers</a></li><li><a href=\"/wiki/Category:American_computer_scientists\" title=\"Category:American computer scientists\">American computer scientists</a></li><li><a href=\"/wiki/Category:COBOL\" title=\"Category:COBOL\">COBOL</a></li><li><a href=\"/wiki/Category:Programming_language_designers\" title=\"Category:Programming language designers\">Programming language designers</a></li><li><a href=\"/wiki/Category:American_women_computer_scientists\" title=\"Category:American women computer scientists\">American women computer scientists</a></li><li><a href=\"/wiki/Category:Women_inventors\" title=\"Category:Women inventors\">Women inventors</a></li><li><a href=\"/wiki/Category:American_women_mathematicians\" title=\"Category:American women mathematicians\">American women mathematicians</a></li><li><a href=\"/wiki/Category:United_States_Navy_rear_admirals_(lower_half)\" title=\"Category:United States Navy rear admirals (lower half)\">United States Navy rear admirals (lower half)</a></li><li><a href=\"/wiki/Category:Female_admirals_of_the_United_States_Navy\" title=\"Category:Female admirals of the United States Navy\">Female admirals of the United States Navy</a></li><li><a href=\"/wiki/Category:Fellows_of_the_American_Academy_of_Arts_and_Sciences\" title=\"Category:Fellows of the American Academy of Arts and Sciences\">Fellows of the American Academy of Arts and Sciences</a></li><li><a href=\"/wiki/Category:Fellows_of_the_British_Computer_Society\" title=\"Category:Fellows of the British Computer Society\">Fellows of the British Computer Society</a></li><li><a href=\"/wiki/Category:National_Medal_of_Technology_recipients\" title=\"Category:National Medal of Technology recipients\">National Medal of Technology recipients</a></li><li><a href=\"/wiki/Category:Recipients_of_the_Defense_Distinguished_Service_Medal\" title=\"Category:Recipients of the Defense Distinguished Service Medal\">Recipients of the Defense Distinguished Service Medal</a></li><li><a href=\"/wiki/Category:Recipients_of_the_Legion_of_Merit\" title=\"Category:Recipients of the Legion of Merit\">Recipients of the Legion of Merit</a></li><li><a href=\"/wiki/Category:Recipients_of_the_Meritorious_Service_Medal_(United_States)\" title=\"Category:Recipients of the Meritorious Service Medal (United States)\">Recipients of the Meritorious Service Medal (United States)</a></li><li><a href=\"/wiki/Category:Harvard_University_people\" title=\"Category:Harvard University people\">Harvard University people</a></li><li><a href=\"/wiki/Category:Vassar_College_faculty\" title=\"Category:Vassar College faculty\">Vassar College faculty</a></li><li><a href=\"/wiki/Category:Military_personnel_from_New_York_City\" title=\"Category:Military personnel from New York City\">Military personnel from New York City</a></li><li><a href=\"/wiki/Category:Vassar_College_alumni\" title=\"Category:Vassar College alumni\">Vassar College alumni</a></li><li><a href=\"/wiki/Category:Yale_University_alumni\" title=\"Category:Yale University alumni\">Yale University alumni</a></li><li><a href=\"/wiki/Category:American_people_of_Dutch_descent\" title=\"Category:American people of Dutch descent\">American people of Dutch descent</a></li><li><a href=\"/wiki/Category:American_people_of_Scottish_descent\" title=\"Category:American people of Scottish descent\">American people of Scottish descent</a></li><li><a href=\"/wiki/Category:Burials_at_Arlington_National_Cemetery\" title=\"Category:Burials at Arlington National Cemetery\">Burials at Arlington National Cemetery</a></li><li><a href=\"/wiki/Category:20th-century_American_engineers\" title=\"Category:20th-century American engineers\">20th-century American engineers</a></li><li><a href=\"/wiki/Category:20th-century_American_mathematicians\" title=\"Category:20th-century American mathematicians\">20th-century American mathematicians</a></li><li><a href=\"/wiki/Category:20th-century_American_scientists\" title=\"Category:20th-century American scientists\">20th-century American scientists</a></li><li><a href=\"/wiki/Category:20th-century_American_women_scientists\" title=\"Category:20th-century American women scientists\">20th-century American women scientists</a></li><li><a href=\"/wiki/Category:Presidential_Medal_of_Freedom_recipients\" title=\"Category:Presidential Medal of Freedom recipients\">Presidential Medal of Freedom recipients</a></li><li><a href=\"/wiki/Category:Computer_science_educators\" title=\"Category:Computer science educators\">Computer science educators</a></li><li><a href=\"/wiki/Category:American_software_engineers\" title=\"Category:American software engineers\">American software engineers</a></li><li><a href=\"/wiki/Category:20th-century_women_mathematicians\" title=\"Category:20th-century women mathematicians\">20th-century women mathematicians</a></li><li><a href=\"/wiki/Category:Mathematicians_from_New_York_(state)\" title=\"Category:Mathematicians from New York (state)\">Mathematicians from New York (state)</a></li><li><a href=\"/wiki/Category:Wardlaw-Hartridge_School_alumni\" title=\"Category:Wardlaw-Hartridge School alumni\">Wardlaw-Hartridge School alumni</a></li><li><a href=\"/wiki/Category:WAVES_personnel\" title=\"Category:WAVES personnel\">WAVES personnel</a></li></ul></div><div class=\"mw-hidden-catlinks mw-hidden-cats-hidden\" id=\"mw-hidden-catlinks\">Hidden categories: <ul><li><a href=\"/wiki/Category:All_pages_needing_factual_verification\" title=\"Category:All pages needing factual verification\">All pages needing factual verification</a></li><li><a href=\"/wiki/Category:Wikipedia_articles_needing_factual_verification_from_November_2013\" title=\"Category:Wikipedia articles needing factual verification from November 2013\">Wikipedia articles needing factual verification from November 2013</a></li><li><a href=\"/wiki/Category:IMDb_ID_not_in_Wikidata\" title=\"Category:IMDb ID not in Wikidata\">IMDb ID not in Wikidata</a></li><li><a href=\"/wiki/Category:Articles_with_short_description\" title=\"Category:Articles with short description\">Articles with short description</a></li><li><a href=\"/wiki/Category:Short_description_is_different_from_Wikidata\" title=\"Category:Short description is different from Wikidata\">Short description is different from Wikidata</a></li><li><a href=\"/wiki/Category:Use_mdy_dates_from_October_2017\" title=\"Category:Use mdy dates from October 2017\">Use mdy dates from October 2017</a></li><li><a href=\"/wiki/Category:Articles_needing_cleanup_from_May_2021\" title=\"Category:Articles needing cleanup from May 2021\">Articles needing cleanup from May 2021</a></li><li><a href=\"/wiki/Category:All_pages_needing_cleanup\" title=\"Category:All pages needing cleanup\">All pages needing cleanup</a></li><li><a href=\"/wiki/Category:Articles_with_sections_that_need_to_be_turned_into_prose_from_May_2021\" title=\"Category:Articles with sections that need to be turned into prose from May 2021\">Articles with sections that need to be turned into prose from May 2021</a></li><li><a href=\"/wiki/Category:Commons_category_link_from_Wikidata\" title=\"Category:Commons category link from Wikidata\">Commons category link from Wikidata</a></li><li><a href=\"/wiki/Category:Webarchive_template_wayback_links\" title=\"Category:Webarchive template wayback links\">Webarchive template wayback links</a></li><li><a href=\"/wiki/Category:Articles_with_ISNI_identifiers\" title=\"Category:Articles with ISNI identifiers\">Articles with ISNI identifiers</a></li><li><a href=\"/wiki/Category:Articles_with_VIAF_identifiers\" title=\"Category:Articles with VIAF identifiers\">Articles with VIAF identifiers</a></li><li><a href=\"/wiki/Category:Articles_with_WorldCat_identifiers\" title=\"Category:Articles with WorldCat identifiers\">Articles with WorldCat identifiers</a></li><li><a href=\"/wiki/Category:Articles_with_BIBSYS_identifiers\" title=\"Category:Articles with BIBSYS identifiers\">Articles with BIBSYS identifiers</a></li><li><a href=\"/wiki/Category:Articles_with_BNF_identifiers\" title=\"Category:Articles with BNF identifiers\">Articles with BNF identifiers</a></li><li><a href=\"/wiki/Category:Articles_with_GND_identifiers\" title=\"Category:Articles with GND identifiers\">Articles with GND identifiers</a></li><li><a href=\"/wiki/Category:Articles_with_J9U_identifiers\" title=\"Category:Articles with J9U identifiers\">Articles with J9U identifiers</a></li><li><a href=\"/wiki/Category:Articles_with_LCCN_identifiers\" title=\"Category:Articles with LCCN identifiers\">Articles with LCCN identifiers</a></li><li><a href=\"/wiki/Category:Articles_with_NKC_identifiers\" title=\"Category:Articles with NKC identifiers\">Articles with NKC identifiers</a></li><li><a href=\"/wiki/Category:Articles_with_NLA_identifiers\" title=\"Category:Articles with NLA identifiers\">Articles with NLA identifiers</a></li><li><a href=\"/wiki/Category:Articles_with_NTA_identifiers\" title=\"Category:Articles with NTA identifiers\">Articles with NTA identifiers</a></li><li><a href=\"/wiki/Category:Articles_with_PLWABN_identifiers\" title=\"Category:Articles with PLWABN identifiers\">Articles with PLWABN identifiers</a></li><li><a href=\"/wiki/Category:Articles_with_ACM-DL_identifiers\" title=\"Category:Articles with ACM-DL identifiers\">Articles with ACM-DL identifiers</a></li><li><a href=\"/wiki/Category:Articles_with_DBLP_identifiers\" title=\"Category:Articles with DBLP identifiers\">Articles with DBLP identifiers</a></li><li><a href=\"/wiki/Category:Articles_with_MATHSN_identifiers\" title=\"Category:Articles with MATHSN identifiers\">Articles with MATHSN identifiers</a></li><li><a href=\"/wiki/Category:Articles_with_MGP_identifiers\" title=\"Category:Articles with MGP identifiers\">Articles with MGP identifiers</a></li><li><a href=\"/wiki/Category:Articles_with_ZBMATH_identifiers\" title=\"Category:Articles with ZBMATH identifiers\">Articles with ZBMATH identifiers</a></li><li><a href=\"/wiki/Category:Articles_with_FAST_identifiers\" title=\"Category:Articles with FAST identifiers\">Articles with FAST identifiers</a></li><li><a href=\"/wiki/Category:Articles_with_SNAC-ID_identifiers\" title=\"Category:Articles with SNAC-ID identifiers\">Articles with SNAC-ID identifiers</a></li><li><a href=\"/wiki/Category:Articles_with_SUDOC_identifiers\" title=\"Category:Articles with SUDOC identifiers\">Articles with SUDOC identifiers</a></li><li><a href=\"/wiki/Category:Articles_with_Trove_identifiers\" title=\"Category:Articles with Trove identifiers\">Articles with Trove identifiers</a></li></ul></div></div>\n",
       "</div>\n",
       "</main>\n",
       "</div>\n",
       "<div class=\"mw-footer-container\">\n",
       "<footer class=\"mw-footer\" id=\"footer\" role=\"contentinfo\">\n",
       "<ul id=\"footer-info\">\n",
       "<li id=\"footer-info-lastmod\"> This page was last edited on 19 January 2023, at 14:34<span class=\"anonymous-show\"> (UTC)</span>.</li>\n",
       "<li id=\"footer-info-copyright\">Text is available under the <a href=\"//en.wikipedia.org/wiki/Wikipedia:Text_of_the_Creative_Commons_Attribution-ShareAlike_3.0_Unported_License\" rel=\"license\">Creative Commons Attribution-ShareAlike License 3.0</a><a href=\"//creativecommons.org/licenses/by-sa/3.0/\" rel=\"license\" style=\"display:none;\"></a>;\n",
       "additional terms may apply.  By using this site, you agree to the <a href=\"//foundation.wikimedia.org/wiki/Terms_of_Use\">Terms of Use</a> and <a href=\"//foundation.wikimedia.org/wiki/Privacy_policy\">Privacy Policy</a>. Wikipedia® is a registered trademark of the <a href=\"//www.wikimediafoundation.org/\">Wikimedia Foundation, Inc.</a>, a non-profit organization.</li>\n",
       "</ul>\n",
       "<ul id=\"footer-places\">\n",
       "<li id=\"footer-places-privacy\"><a href=\"https://foundation.wikimedia.org/wiki/Privacy_policy\">Privacy policy</a></li>\n",
       "<li id=\"footer-places-about\"><a href=\"/wiki/Wikipedia:About\">About Wikipedia</a></li>\n",
       "<li id=\"footer-places-disclaimers\"><a href=\"/wiki/Wikipedia:General_disclaimer\">Disclaimers</a></li>\n",
       "<li id=\"footer-places-contact\"><a href=\"//en.wikipedia.org/wiki/Wikipedia:Contact_us\">Contact Wikipedia</a></li>\n",
       "<li id=\"footer-places-mobileview\"><a class=\"noprint stopMobileRedirectToggle\" href=\"//en.m.wikipedia.org/w/index.php?title=Grace_Hopper&amp;mobileaction=toggle_view_mobile\">Mobile view</a></li>\n",
       "<li id=\"footer-places-developers\"><a href=\"https://developer.wikimedia.org\">Developers</a></li>\n",
       "<li id=\"footer-places-statslink\"><a href=\"https://stats.wikimedia.org/#/en.wikipedia.org\">Statistics</a></li>\n",
       "<li id=\"footer-places-cookiestatement\"><a href=\"https://foundation.wikimedia.org/wiki/Cookie_statement\">Cookie statement</a></li>\n",
       "</ul>\n",
       "<ul class=\"noprint\" id=\"footer-icons\">\n",
       "<li id=\"footer-copyrightico\"><a href=\"https://wikimediafoundation.org/\"><img alt=\"Wikimedia Foundation\" height=\"31\" loading=\"lazy\" src=\"/static/images/footer/wikimedia-button.png\" srcset=\"/static/images/footer/wikimedia-button-1.5x.png 1.5x, /static/images/footer/wikimedia-button-2x.png 2x\" width=\"88\"/></a></li>\n",
       "<li id=\"footer-poweredbyico\"><a href=\"https://www.mediawiki.org/\"><img alt=\"Powered by MediaWiki\" height=\"31\" loading=\"lazy\" src=\"/static/images/footer/poweredby_mediawiki_88x31.png\" srcset=\"/static/images/footer/poweredby_mediawiki_132x47.png 1.5x, /static/images/footer/poweredby_mediawiki_176x62.png 2x\" width=\"88\"/></a></li>\n",
       "</ul>\n",
       "</footer>\n",
       "</div>\n",
       "</div>\n",
       "</div>\n",
       "<script>(RLQ=window.RLQ||[]).push(function(){mw.config.set({\"wgPageParseReport\":{\"limitreport\":{\"cputime\":\"2.046\",\"walltime\":\"2.318\",\"ppvisitednodes\":{\"value\":9764,\"limit\":1000000},\"postexpandincludesize\":{\"value\":478079,\"limit\":2097152},\"templateargumentsize\":{\"value\":88942,\"limit\":2097152},\"expansiondepth\":{\"value\":18,\"limit\":100},\"expensivefunctioncount\":{\"value\":28,\"limit\":500},\"unstrip-depth\":{\"value\":1,\"limit\":20},\"unstrip-size\":{\"value\":344347,\"limit\":5000000},\"entityaccesscount\":{\"value\":1,\"limit\":400},\"timingprofile\":[\"100.00% 1856.070      1 -total\",\" 49.61%  920.876      2 Template:Reflist\",\" 19.08%  354.160     60 Template:Cite_web\",\" 12.38%  229.871      1 Template:Navboxes\",\"  9.54%  177.161     16 Template:Cite_news\",\"  9.20%  170.824     12 Template:Navbox\",\"  8.46%  156.954     24 Template:Cite_book\",\"  8.43%  156.510      1 Template:Infobox_military_person\",\"  8.09%  150.091      1 Template:Infobox\",\"  5.46%  101.249      1 Template:Timelines_of_computing\"]},\"scribunto\":{\"limitreport-timeusage\":{\"value\":\"1.212\",\"limit\":\"10.000\"},\"limitreport-memusage\":{\"value\":15948933,\"limit\":52428800},\"limitreport-profile\":[[\"MediaWiki\\\\Extension\\\\Scribunto\\\\Engines\\\\LuaSandbox\\\\LuaSandboxCallback::callParserFunction\",\"200\",\"16.9\"],[\"?\",\"180\",\"15.3\"],[\"recursiveClone \\u003CmwInit.lua:41\\u003E\",\"160\",\"13.6\"],[\"MediaWiki\\\\Extension\\\\Scribunto\\\\Engines\\\\LuaSandbox\\\\LuaSandboxCallback::gsub\",\"60\",\"5.1\"],[\"tostring\",\"60\",\"5.1\"],[\"format\",\"40\",\"3.4\"],[\"init \\u003CModule:Citation/CS1/Utilities\\u003E\",\"40\",\"3.4\"],[\"MediaWiki\\\\Extension\\\\Scribunto\\\\Engines\\\\LuaSandbox\\\\LuaSandboxCallback::preprocess\",\"40\",\"3.4\"],[\"type\",\"40\",\"3.4\"],[\"MediaWiki\\\\Extension\\\\Scribunto\\\\Engines\\\\LuaSandbox\\\\LuaSandboxCallback::getEntity\",\"40\",\"3.4\"],[\"[others]\",\"320\",\"27.1\"]]},\"cachereport\":{\"origin\":\"mw1365\",\"timestamp\":\"20230216103308\",\"ttl\":86400,\"transientcontent\":true}}});});</script>\n",
       "<script type=\"application/ld+json\">{\"@context\":\"https:\\/\\/schema.org\",\"@type\":\"Article\",\"name\":\"Grace Hopper\",\"url\":\"https:\\/\\/en.wikipedia.org\\/wiki\\/Grace_Hopper\",\"sameAs\":\"http:\\/\\/www.wikidata.org\\/entity\\/Q11641\",\"mainEntity\":\"http:\\/\\/www.wikidata.org\\/entity\\/Q11641\",\"author\":{\"@type\":\"Organization\",\"name\":\"Contributors to Wikimedia projects\"},\"publisher\":{\"@type\":\"Organization\",\"name\":\"Wikimedia Foundation, Inc.\",\"logo\":{\"@type\":\"ImageObject\",\"url\":\"https:\\/\\/www.wikimedia.org\\/static\\/images\\/wmf-hor-googpub.png\"}},\"datePublished\":\"2001-09-22T13:19:12Z\",\"dateModified\":\"2023-01-19T14:34:23Z\",\"image\":\"https:\\/\\/upload.wikimedia.org\\/wikipedia\\/commons\\/a\\/ad\\/Commodore_Grace_M._Hopper%2C_USN_%28covered%29.jpg\",\"headline\":\"American computer scientist and United States Navy officer\"}</script><script type=\"application/ld+json\">{\"@context\":\"https:\\/\\/schema.org\",\"@type\":\"Article\",\"name\":\"Grace Hopper\",\"url\":\"https:\\/\\/en.wikipedia.org\\/wiki\\/Grace_Hopper\",\"sameAs\":\"http:\\/\\/www.wikidata.org\\/entity\\/Q11641\",\"mainEntity\":\"http:\\/\\/www.wikidata.org\\/entity\\/Q11641\",\"author\":{\"@type\":\"Organization\",\"name\":\"Contributors to Wikimedia projects\"},\"publisher\":{\"@type\":\"Organization\",\"name\":\"Wikimedia Foundation, Inc.\",\"logo\":{\"@type\":\"ImageObject\",\"url\":\"https:\\/\\/www.wikimedia.org\\/static\\/images\\/wmf-hor-googpub.png\"}},\"datePublished\":\"2001-09-22T13:19:12Z\",\"dateModified\":\"2023-01-19T14:34:23Z\",\"image\":\"https:\\/\\/upload.wikimedia.org\\/wikipedia\\/commons\\/a\\/ad\\/Commodore_Grace_M._Hopper%2C_USN_%28covered%29.jpg\",\"headline\":\"American computer scientist and United States Navy officer\"}</script>\n",
       "<script>(RLQ=window.RLQ||[]).push(function(){mw.config.set({\"wgBackendResponseTime\":136,\"wgHostname\":\"mw1368\"});});</script>\n",
       "</body>\n",
       "</html>"
      ]
     },
     "execution_count": 86,
     "metadata": {},
     "output_type": "execute_result"
    }
   ],
   "source": [
    "soup"
   ]
  },
  {
   "cell_type": "markdown",
   "id": "0a4abbc3",
   "metadata": {},
   "source": [
    "Its time- what to select from this above"
   ]
  },
  {
   "cell_type": "code",
   "execution_count": 87,
   "id": "e0801288",
   "metadata": {},
   "outputs": [],
   "source": [
    "# soup"
   ]
  },
  {
   "cell_type": "code",
   "execution_count": 89,
   "id": "d6e569fb",
   "metadata": {},
   "outputs": [
    {
     "data": {
      "text/plain": [
       "[]"
      ]
     },
     "execution_count": 89,
     "metadata": {},
     "output_type": "execute_result"
    }
   ],
   "source": [
    "# note depending on your IP Address, \n",
    "# this class may be called something different\n",
    "soup.select('.toctext')"
   ]
  },
  {
   "cell_type": "code",
   "execution_count": 91,
   "id": "bf35de3a",
   "metadata": {},
   "outputs": [
    {
     "data": {
      "text/plain": [
       "[]"
      ]
     },
     "execution_count": 91,
     "metadata": {},
     "output_type": "execute_result"
    }
   ],
   "source": [
    "soup.select(\".toctext\")"
   ]
  },
  {
   "cell_type": "code",
   "execution_count": 7,
   "id": "3169409a",
   "metadata": {},
   "outputs": [
    {
     "ename": "NameError",
     "evalue": "name 'soup' is not defined",
     "output_type": "error",
     "traceback": [
      "\u001b[1;31m---------------------------------------------------------------------------\u001b[0m",
      "\u001b[1;31mNameError\u001b[0m                                 Traceback (most recent call last)",
      "Input \u001b[1;32mIn [7]\u001b[0m, in \u001b[0;36m<cell line: 1>\u001b[1;34m()\u001b[0m\n\u001b[1;32m----> 1\u001b[0m \u001b[43msoup\u001b[49m\u001b[38;5;241m.\u001b[39mselect(\u001b[38;5;124m'\u001b[39m\u001b[38;5;124m.toctext\u001b[39m\u001b[38;5;124m'\u001b[39m)[\u001b[38;5;241m0\u001b[39m]\n",
      "\u001b[1;31mNameError\u001b[0m: name 'soup' is not defined"
     ]
    }
   ],
   "source": [
    "soup.select('.toctext')[0]"
   ]
  },
  {
   "cell_type": "code",
   "execution_count": 94,
   "id": "9f291faf",
   "metadata": {},
   "outputs": [
    {
     "ename": "IndexError",
     "evalue": "list index out of range",
     "output_type": "error",
     "traceback": [
      "\u001b[1;31m---------------------------------------------------------------------------\u001b[0m",
      "\u001b[1;31mIndexError\u001b[0m                                Traceback (most recent call last)",
      "Input \u001b[1;32mIn [94]\u001b[0m, in \u001b[0;36m<cell line: 1>\u001b[1;34m()\u001b[0m\n\u001b[1;32m----> 1\u001b[0m \u001b[38;5;28mtype\u001b[39m(\u001b[43msoup\u001b[49m\u001b[38;5;241;43m.\u001b[39;49m\u001b[43mselect\u001b[49m\u001b[43m(\u001b[49m\u001b[38;5;124;43m'\u001b[39;49m\u001b[38;5;124;43m.toctext\u001b[39;49m\u001b[38;5;124;43m'\u001b[39;49m\u001b[43m)\u001b[49m\u001b[43m[\u001b[49m\u001b[38;5;241;43m0\u001b[39;49m\u001b[43m]\u001b[49m)\n",
      "\u001b[1;31mIndexError\u001b[0m: list index out of range"
     ]
    }
   ],
   "source": [
    "type(soup.select('.toctext')[0])"
   ]
  },
  {
   "cell_type": "code",
   "execution_count": 95,
   "id": "872d4dbf",
   "metadata": {},
   "outputs": [
    {
     "ename": "IndexError",
     "evalue": "list index out of range",
     "output_type": "error",
     "traceback": [
      "\u001b[1;31m---------------------------------------------------------------------------\u001b[0m",
      "\u001b[1;31mIndexError\u001b[0m                                Traceback (most recent call last)",
      "Input \u001b[1;32mIn [95]\u001b[0m, in \u001b[0;36m<cell line: 1>\u001b[1;34m()\u001b[0m\n\u001b[1;32m----> 1\u001b[0m first_item \u001b[38;5;241m=\u001b[39m \u001b[43msoup\u001b[49m\u001b[38;5;241;43m.\u001b[39;49m\u001b[43mselect\u001b[49m\u001b[43m(\u001b[49m\u001b[38;5;124;43m'\u001b[39;49m\u001b[38;5;124;43m.toctext\u001b[39;49m\u001b[38;5;124;43m'\u001b[39;49m\u001b[43m)\u001b[49m\u001b[43m[\u001b[49m\u001b[38;5;241;43m0\u001b[39;49m\u001b[43m]\u001b[49m\n",
      "\u001b[1;31mIndexError\u001b[0m: list index out of range"
     ]
    }
   ],
   "source": [
    "first_item = soup.select('.toctext')[0]"
   ]
  },
  {
   "cell_type": "code",
   "execution_count": 96,
   "id": "1239d0f3",
   "metadata": {},
   "outputs": [
    {
     "ename": "NameError",
     "evalue": "name 'first_item' is not defined",
     "output_type": "error",
     "traceback": [
      "\u001b[1;31m---------------------------------------------------------------------------\u001b[0m",
      "\u001b[1;31mNameError\u001b[0m                                 Traceback (most recent call last)",
      "Input \u001b[1;32mIn [96]\u001b[0m, in \u001b[0;36m<cell line: 1>\u001b[1;34m()\u001b[0m\n\u001b[1;32m----> 1\u001b[0m \u001b[43mfirst_item\u001b[49m\n",
      "\u001b[1;31mNameError\u001b[0m: name 'first_item' is not defined"
     ]
    }
   ],
   "source": [
    "first_item"
   ]
  },
  {
   "cell_type": "code",
   "execution_count": 97,
   "id": "209bd71a",
   "metadata": {},
   "outputs": [
    {
     "ename": "NameError",
     "evalue": "name 'first_item' is not defined",
     "output_type": "error",
     "traceback": [
      "\u001b[1;31m---------------------------------------------------------------------------\u001b[0m",
      "\u001b[1;31mNameError\u001b[0m                                 Traceback (most recent call last)",
      "Input \u001b[1;32mIn [97]\u001b[0m, in \u001b[0;36m<cell line: 1>\u001b[1;34m()\u001b[0m\n\u001b[1;32m----> 1\u001b[0m \u001b[43mfirst_item\u001b[49m\u001b[38;5;241m.\u001b[39mtext\n",
      "\u001b[1;31mNameError\u001b[0m: name 'first_item' is not defined"
     ]
    }
   ],
   "source": [
    "first_item.text"
   ]
  },
  {
   "cell_type": "code",
   "execution_count": 98,
   "id": "ec9562b3",
   "metadata": {},
   "outputs": [],
   "source": [
    "for item in soup.select(\".toctext\"):\n",
    "    print(item.text)"
   ]
  },
  {
   "cell_type": "code",
   "execution_count": 2,
   "id": "87315e8d",
   "metadata": {},
   "outputs": [
    {
     "ename": "NameError",
     "evalue": "name 'requests' is not defined",
     "output_type": "error",
     "traceback": [
      "\u001b[1;31m---------------------------------------------------------------------------\u001b[0m",
      "\u001b[1;31mNameError\u001b[0m                                 Traceback (most recent call last)",
      "Input \u001b[1;32mIn [2]\u001b[0m, in \u001b[0;36m<cell line: 1>\u001b[1;34m()\u001b[0m\n\u001b[1;32m----> 1\u001b[0m res \u001b[38;5;241m=\u001b[39m \u001b[43mrequests\u001b[49m\u001b[38;5;241m.\u001b[39mget(\u001b[38;5;124m\"\u001b[39m\u001b[38;5;124mhttps://en.wikipedia.org/wiki/Deep_Blue_(chess_computer)\u001b[39m\u001b[38;5;124m\"\u001b[39m)\n",
      "\u001b[1;31mNameError\u001b[0m: name 'requests' is not defined"
     ]
    }
   ],
   "source": [
    "res = requests.get(\"https://en.wikipedia.org/wiki/Deep_Blue_(chess_computer)\")"
   ]
  },
  {
   "cell_type": "code",
   "execution_count": 4,
   "id": "1db0d592",
   "metadata": {},
   "outputs": [
    {
     "ename": "NameError",
     "evalue": "name 'bs4' is not defined",
     "output_type": "error",
     "traceback": [
      "\u001b[1;31m---------------------------------------------------------------------------\u001b[0m",
      "\u001b[1;31mNameError\u001b[0m                                 Traceback (most recent call last)",
      "Input \u001b[1;32mIn [4]\u001b[0m, in \u001b[0;36m<cell line: 1>\u001b[1;34m()\u001b[0m\n\u001b[1;32m----> 1\u001b[0m soup \u001b[38;5;241m=\u001b[39m \u001b[43mbs4\u001b[49m\u001b[38;5;241m.\u001b[39mBeautifulSoup(res\u001b[38;5;241m.\u001b[39mtext,\u001b[38;5;124m'\u001b[39m\u001b[38;5;124mlxml\u001b[39m\u001b[38;5;124m'\u001b[39m)\n",
      "\u001b[1;31mNameError\u001b[0m: name 'bs4' is not defined"
     ]
    }
   ],
   "source": [
    "soup = bs4.BeautifulSoup(res.text,'lxml')"
   ]
  },
  {
   "cell_type": "code",
   "execution_count": 5,
   "id": "7135b0ae",
   "metadata": {},
   "outputs": [
    {
     "ename": "NameError",
     "evalue": "name 'soup' is not defined",
     "output_type": "error",
     "traceback": [
      "\u001b[1;31m---------------------------------------------------------------------------\u001b[0m",
      "\u001b[1;31mNameError\u001b[0m                                 Traceback (most recent call last)",
      "Input \u001b[1;32mIn [5]\u001b[0m, in \u001b[0;36m<cell line: 1>\u001b[1;34m()\u001b[0m\n\u001b[1;32m----> 1\u001b[0m \u001b[43msoup\u001b[49m\n",
      "\u001b[1;31mNameError\u001b[0m: name 'soup' is not defined"
     ]
    }
   ],
   "source": [
    "soup"
   ]
  },
  {
   "cell_type": "code",
   "execution_count": 6,
   "id": "4fb817f4",
   "metadata": {},
   "outputs": [
    {
     "ename": "NameError",
     "evalue": "name 'soup' is not defined",
     "output_type": "error",
     "traceback": [
      "\u001b[1;31m---------------------------------------------------------------------------\u001b[0m",
      "\u001b[1;31mNameError\u001b[0m                                 Traceback (most recent call last)",
      "Input \u001b[1;32mIn [6]\u001b[0m, in \u001b[0;36m<cell line: 1>\u001b[1;34m()\u001b[0m\n\u001b[1;32m----> 1\u001b[0m \u001b[43msoup\u001b[49m\u001b[38;5;241m.\u001b[39mselect(\u001b[38;5;124m'\u001b[39m\u001b[38;5;124mimg\u001b[39m\u001b[38;5;124m'\u001b[39m)\n",
      "\u001b[1;31mNameError\u001b[0m: name 'soup' is not defined"
     ]
    }
   ],
   "source": [
    "soup.select('img')"
   ]
  },
  {
   "cell_type": "markdown",
   "id": "3c12a20f",
   "metadata": {},
   "source": [
    "Web Scrapping - Book ex part1"
   ]
  },
  {
   "cell_type": "code",
   "execution_count": 8,
   "id": "09d2489d",
   "metadata": {},
   "outputs": [],
   "source": [
    "# GOAL: Get the title of evrybook with a 2 star rating"
   ]
  },
  {
   "cell_type": "code",
   "execution_count": 9,
   "id": "ea3c8a4b",
   "metadata": {},
   "outputs": [],
   "source": [
    "import requests\n",
    "import bs4"
   ]
  },
  {
   "cell_type": "code",
   "execution_count": 10,
   "id": "a8620012",
   "metadata": {},
   "outputs": [
    {
     "data": {
      "text/plain": [
       "'http://books.toscrape.com/catalogue/page-2.html'"
      ]
     },
     "execution_count": 10,
     "metadata": {},
     "output_type": "execute_result"
    }
   ],
   "source": [
    "'http://books.toscrape.com/catalogue/page-2.html'"
   ]
  },
  {
   "cell_type": "code",
   "execution_count": 11,
   "id": "6ea69d85",
   "metadata": {},
   "outputs": [
    {
     "data": {
      "text/plain": [
       "'http://books.toscrape.com/catalogue/page-3.html'"
      ]
     },
     "execution_count": 11,
     "metadata": {},
     "output_type": "execute_result"
    }
   ],
   "source": [
    "'http://books.toscrape.com/catalogue/page-3.html'"
   ]
  },
  {
   "cell_type": "markdown",
   "id": "cb74edde",
   "metadata": {},
   "source": [
    "Dot format method"
   ]
  },
  {
   "cell_type": "markdown",
   "id": "31881729",
   "metadata": {},
   "source": [
    "Below we copied the url and instead of num 2 we filled in with curly braces"
   ]
  },
  {
   "cell_type": "code",
   "execution_count": 12,
   "id": "81f33b36",
   "metadata": {},
   "outputs": [],
   "source": [
    "base_url = 'http://books.toscrape.com/catalogue/page-{}.html'"
   ]
  },
  {
   "cell_type": "code",
   "execution_count": 13,
   "id": "e7f95060",
   "metadata": {},
   "outputs": [
    {
     "data": {
      "text/plain": [
       "'http://books.toscrape.com/catalogue/page-20.html'"
      ]
     },
     "execution_count": 13,
     "metadata": {},
     "output_type": "execute_result"
    }
   ],
   "source": [
    "base_url.format('20')"
   ]
  },
  {
   "cell_type": "markdown",
   "id": "b59aa22e",
   "metadata": {},
   "source": [
    "If am looping something such as page num"
   ]
  },
  {
   "cell_type": "code",
   "execution_count": 14,
   "id": "1be3327a",
   "metadata": {},
   "outputs": [
    {
     "data": {
      "text/plain": [
       "'http://books.toscrape.com/catalogue/page-12.html'"
      ]
     },
     "execution_count": 14,
     "metadata": {},
     "output_type": "execute_result"
    }
   ],
   "source": [
    "page_num = 12\n",
    "base_url.format(page_num)"
   ]
  },
  {
   "cell_type": "markdown",
   "id": "f8c04a2b",
   "metadata": {},
   "source": [
    "Figure out scrape every page in catalog usingthat loop\n",
    "# tag and Class represent star rating"
   ]
  },
  {
   "cell_type": "code",
   "execution_count": 15,
   "id": "08890e78",
   "metadata": {},
   "outputs": [],
   "source": [
    "res = requests.get(base_url.format(1))"
   ]
  },
  {
   "cell_type": "code",
   "execution_count": 16,
   "id": "3ecabec2",
   "metadata": {},
   "outputs": [],
   "source": [
    "soup = bs4.BeautifulSoup(res.text,'lxml')"
   ]
  },
  {
   "cell_type": "code",
   "execution_count": 17,
   "id": "03bf4baa",
   "metadata": {},
   "outputs": [
    {
     "data": {
      "text/plain": [
       "<!DOCTYPE html>\n",
       "<!--[if lt IE 7]>      <html lang=\"en-us\" class=\"no-js lt-ie9 lt-ie8 lt-ie7\"> <![endif]--><!--[if IE 7]>         <html lang=\"en-us\" class=\"no-js lt-ie9 lt-ie8\"> <![endif]--><!--[if IE 8]>         <html lang=\"en-us\" class=\"no-js lt-ie9\"> <![endif]--><!--[if gt IE 8]><!--><html class=\"no-js\" lang=\"en-us\"> <!--<![endif]-->\n",
       "<head>\n",
       "<title>\n",
       "    All products | Books to Scrape - Sandbox\n",
       "</title>\n",
       "<meta content=\"text/html; charset=utf-8\" http-equiv=\"content-type\"/>\n",
       "<meta content=\"24th Jun 2016 09:30\" name=\"created\"/>\n",
       "<meta content=\"\" name=\"description\"/>\n",
       "<meta content=\"width=device-width\" name=\"viewport\"/>\n",
       "<meta content=\"NOARCHIVE,NOCACHE\" name=\"robots\"/>\n",
       "<!-- Le HTML5 shim, for IE6-8 support of HTML elements -->\n",
       "<!--[if lt IE 9]>\n",
       "        <script src=\"//html5shim.googlecode.com/svn/trunk/html5.js\"></script>\n",
       "        <![endif]-->\n",
       "<link href=\"../static/oscar/favicon.ico\" rel=\"shortcut icon\"/>\n",
       "<link href=\"../static/oscar/css/styles.css\" rel=\"stylesheet\" type=\"text/css\"/>\n",
       "<link href=\"../static/oscar/js/bootstrap-datetimepicker/bootstrap-datetimepicker.css\" rel=\"stylesheet\"/>\n",
       "<link href=\"../static/oscar/css/datetimepicker.css\" rel=\"stylesheet\" type=\"text/css\"/>\n",
       "</head>\n",
       "<body class=\"default\" id=\"default\">\n",
       "<header class=\"header container-fluid\">\n",
       "<div class=\"page_inner\">\n",
       "<div class=\"row\">\n",
       "<div class=\"col-sm-8 h1\"><a href=\"../index.html\">Books to Scrape</a><small> We love being scraped!</small>\n",
       "</div>\n",
       "</div>\n",
       "</div>\n",
       "</header>\n",
       "<div class=\"container-fluid page\">\n",
       "<div class=\"page_inner\">\n",
       "<ul class=\"breadcrumb\">\n",
       "<li>\n",
       "<a href=\"../index.html\">Home</a>\n",
       "</li>\n",
       "<li class=\"active\">All products</li>\n",
       "</ul>\n",
       "<div class=\"row\">\n",
       "<aside class=\"sidebar col-sm-4 col-md-3\">\n",
       "<div id=\"promotions_left\">\n",
       "</div>\n",
       "<div class=\"side_categories\">\n",
       "<ul class=\"nav nav-list\">\n",
       "<li>\n",
       "<a href=\"category/books_1/index.html\">\n",
       "                            \n",
       "                                Books\n",
       "                            \n",
       "                        </a>\n",
       "<ul>\n",
       "<li>\n",
       "<a href=\"category/books/travel_2/index.html\">\n",
       "                            \n",
       "                                Travel\n",
       "                            \n",
       "                        </a>\n",
       "</li>\n",
       "<li>\n",
       "<a href=\"category/books/mystery_3/index.html\">\n",
       "                            \n",
       "                                Mystery\n",
       "                            \n",
       "                        </a>\n",
       "</li>\n",
       "<li>\n",
       "<a href=\"category/books/historical-fiction_4/index.html\">\n",
       "                            \n",
       "                                Historical Fiction\n",
       "                            \n",
       "                        </a>\n",
       "</li>\n",
       "<li>\n",
       "<a href=\"category/books/sequential-art_5/index.html\">\n",
       "                            \n",
       "                                Sequential Art\n",
       "                            \n",
       "                        </a>\n",
       "</li>\n",
       "<li>\n",
       "<a href=\"category/books/classics_6/index.html\">\n",
       "                            \n",
       "                                Classics\n",
       "                            \n",
       "                        </a>\n",
       "</li>\n",
       "<li>\n",
       "<a href=\"category/books/philosophy_7/index.html\">\n",
       "                            \n",
       "                                Philosophy\n",
       "                            \n",
       "                        </a>\n",
       "</li>\n",
       "<li>\n",
       "<a href=\"category/books/romance_8/index.html\">\n",
       "                            \n",
       "                                Romance\n",
       "                            \n",
       "                        </a>\n",
       "</li>\n",
       "<li>\n",
       "<a href=\"category/books/womens-fiction_9/index.html\">\n",
       "                            \n",
       "                                Womens Fiction\n",
       "                            \n",
       "                        </a>\n",
       "</li>\n",
       "<li>\n",
       "<a href=\"category/books/fiction_10/index.html\">\n",
       "                            \n",
       "                                Fiction\n",
       "                            \n",
       "                        </a>\n",
       "</li>\n",
       "<li>\n",
       "<a href=\"category/books/childrens_11/index.html\">\n",
       "                            \n",
       "                                Childrens\n",
       "                            \n",
       "                        </a>\n",
       "</li>\n",
       "<li>\n",
       "<a href=\"category/books/religion_12/index.html\">\n",
       "                            \n",
       "                                Religion\n",
       "                            \n",
       "                        </a>\n",
       "</li>\n",
       "<li>\n",
       "<a href=\"category/books/nonfiction_13/index.html\">\n",
       "                            \n",
       "                                Nonfiction\n",
       "                            \n",
       "                        </a>\n",
       "</li>\n",
       "<li>\n",
       "<a href=\"category/books/music_14/index.html\">\n",
       "                            \n",
       "                                Music\n",
       "                            \n",
       "                        </a>\n",
       "</li>\n",
       "<li>\n",
       "<a href=\"category/books/default_15/index.html\">\n",
       "                            \n",
       "                                Default\n",
       "                            \n",
       "                        </a>\n",
       "</li>\n",
       "<li>\n",
       "<a href=\"category/books/science-fiction_16/index.html\">\n",
       "                            \n",
       "                                Science Fiction\n",
       "                            \n",
       "                        </a>\n",
       "</li>\n",
       "<li>\n",
       "<a href=\"category/books/sports-and-games_17/index.html\">\n",
       "                            \n",
       "                                Sports and Games\n",
       "                            \n",
       "                        </a>\n",
       "</li>\n",
       "<li>\n",
       "<a href=\"category/books/add-a-comment_18/index.html\">\n",
       "                            \n",
       "                                Add a comment\n",
       "                            \n",
       "                        </a>\n",
       "</li>\n",
       "<li>\n",
       "<a href=\"category/books/fantasy_19/index.html\">\n",
       "                            \n",
       "                                Fantasy\n",
       "                            \n",
       "                        </a>\n",
       "</li>\n",
       "<li>\n",
       "<a href=\"category/books/new-adult_20/index.html\">\n",
       "                            \n",
       "                                New Adult\n",
       "                            \n",
       "                        </a>\n",
       "</li>\n",
       "<li>\n",
       "<a href=\"category/books/young-adult_21/index.html\">\n",
       "                            \n",
       "                                Young Adult\n",
       "                            \n",
       "                        </a>\n",
       "</li>\n",
       "<li>\n",
       "<a href=\"category/books/science_22/index.html\">\n",
       "                            \n",
       "                                Science\n",
       "                            \n",
       "                        </a>\n",
       "</li>\n",
       "<li>\n",
       "<a href=\"category/books/poetry_23/index.html\">\n",
       "                            \n",
       "                                Poetry\n",
       "                            \n",
       "                        </a>\n",
       "</li>\n",
       "<li>\n",
       "<a href=\"category/books/paranormal_24/index.html\">\n",
       "                            \n",
       "                                Paranormal\n",
       "                            \n",
       "                        </a>\n",
       "</li>\n",
       "<li>\n",
       "<a href=\"category/books/art_25/index.html\">\n",
       "                            \n",
       "                                Art\n",
       "                            \n",
       "                        </a>\n",
       "</li>\n",
       "<li>\n",
       "<a href=\"category/books/psychology_26/index.html\">\n",
       "                            \n",
       "                                Psychology\n",
       "                            \n",
       "                        </a>\n",
       "</li>\n",
       "<li>\n",
       "<a href=\"category/books/autobiography_27/index.html\">\n",
       "                            \n",
       "                                Autobiography\n",
       "                            \n",
       "                        </a>\n",
       "</li>\n",
       "<li>\n",
       "<a href=\"category/books/parenting_28/index.html\">\n",
       "                            \n",
       "                                Parenting\n",
       "                            \n",
       "                        </a>\n",
       "</li>\n",
       "<li>\n",
       "<a href=\"category/books/adult-fiction_29/index.html\">\n",
       "                            \n",
       "                                Adult Fiction\n",
       "                            \n",
       "                        </a>\n",
       "</li>\n",
       "<li>\n",
       "<a href=\"category/books/humor_30/index.html\">\n",
       "                            \n",
       "                                Humor\n",
       "                            \n",
       "                        </a>\n",
       "</li>\n",
       "<li>\n",
       "<a href=\"category/books/horror_31/index.html\">\n",
       "                            \n",
       "                                Horror\n",
       "                            \n",
       "                        </a>\n",
       "</li>\n",
       "<li>\n",
       "<a href=\"category/books/history_32/index.html\">\n",
       "                            \n",
       "                                History\n",
       "                            \n",
       "                        </a>\n",
       "</li>\n",
       "<li>\n",
       "<a href=\"category/books/food-and-drink_33/index.html\">\n",
       "                            \n",
       "                                Food and Drink\n",
       "                            \n",
       "                        </a>\n",
       "</li>\n",
       "<li>\n",
       "<a href=\"category/books/christian-fiction_34/index.html\">\n",
       "                            \n",
       "                                Christian Fiction\n",
       "                            \n",
       "                        </a>\n",
       "</li>\n",
       "<li>\n",
       "<a href=\"category/books/business_35/index.html\">\n",
       "                            \n",
       "                                Business\n",
       "                            \n",
       "                        </a>\n",
       "</li>\n",
       "<li>\n",
       "<a href=\"category/books/biography_36/index.html\">\n",
       "                            \n",
       "                                Biography\n",
       "                            \n",
       "                        </a>\n",
       "</li>\n",
       "<li>\n",
       "<a href=\"category/books/thriller_37/index.html\">\n",
       "                            \n",
       "                                Thriller\n",
       "                            \n",
       "                        </a>\n",
       "</li>\n",
       "<li>\n",
       "<a href=\"category/books/contemporary_38/index.html\">\n",
       "                            \n",
       "                                Contemporary\n",
       "                            \n",
       "                        </a>\n",
       "</li>\n",
       "<li>\n",
       "<a href=\"category/books/spirituality_39/index.html\">\n",
       "                            \n",
       "                                Spirituality\n",
       "                            \n",
       "                        </a>\n",
       "</li>\n",
       "<li>\n",
       "<a href=\"category/books/academic_40/index.html\">\n",
       "                            \n",
       "                                Academic\n",
       "                            \n",
       "                        </a>\n",
       "</li>\n",
       "<li>\n",
       "<a href=\"category/books/self-help_41/index.html\">\n",
       "                            \n",
       "                                Self Help\n",
       "                            \n",
       "                        </a>\n",
       "</li>\n",
       "<li>\n",
       "<a href=\"category/books/historical_42/index.html\">\n",
       "                            \n",
       "                                Historical\n",
       "                            \n",
       "                        </a>\n",
       "</li>\n",
       "<li>\n",
       "<a href=\"category/books/christian_43/index.html\">\n",
       "                            \n",
       "                                Christian\n",
       "                            \n",
       "                        </a>\n",
       "</li>\n",
       "<li>\n",
       "<a href=\"category/books/suspense_44/index.html\">\n",
       "                            \n",
       "                                Suspense\n",
       "                            \n",
       "                        </a>\n",
       "</li>\n",
       "<li>\n",
       "<a href=\"category/books/short-stories_45/index.html\">\n",
       "                            \n",
       "                                Short Stories\n",
       "                            \n",
       "                        </a>\n",
       "</li>\n",
       "<li>\n",
       "<a href=\"category/books/novels_46/index.html\">\n",
       "                            \n",
       "                                Novels\n",
       "                            \n",
       "                        </a>\n",
       "</li>\n",
       "<li>\n",
       "<a href=\"category/books/health_47/index.html\">\n",
       "                            \n",
       "                                Health\n",
       "                            \n",
       "                        </a>\n",
       "</li>\n",
       "<li>\n",
       "<a href=\"category/books/politics_48/index.html\">\n",
       "                            \n",
       "                                Politics\n",
       "                            \n",
       "                        </a>\n",
       "</li>\n",
       "<li>\n",
       "<a href=\"category/books/cultural_49/index.html\">\n",
       "                            \n",
       "                                Cultural\n",
       "                            \n",
       "                        </a>\n",
       "</li>\n",
       "<li>\n",
       "<a href=\"category/books/erotica_50/index.html\">\n",
       "                            \n",
       "                                Erotica\n",
       "                            \n",
       "                        </a>\n",
       "</li>\n",
       "<li>\n",
       "<a href=\"category/books/crime_51/index.html\">\n",
       "                            \n",
       "                                Crime\n",
       "                            \n",
       "                        </a>\n",
       "</li>\n",
       "</ul></li>\n",
       "</ul>\n",
       "</div>\n",
       "</aside>\n",
       "<div class=\"col-sm-8 col-md-9\">\n",
       "<div class=\"page-header action\">\n",
       "<h1>All products</h1>\n",
       "</div>\n",
       "<div id=\"messages\">\n",
       "</div>\n",
       "<div id=\"promotions\">\n",
       "</div>\n",
       "<form class=\"form-horizontal\" method=\"get\">\n",
       "<div style=\"display:none\">\n",
       "</div>\n",
       "<strong>1000</strong> results - showing <strong>1</strong> to <strong>20</strong>.\n",
       "                \n",
       "            \n",
       "            \n",
       "        \n",
       "    </form>\n",
       "<section>\n",
       "<div class=\"alert alert-warning\" role=\"alert\"><strong>Warning!</strong> This is a demo website for web scraping purposes. Prices and ratings here were randomly assigned and have no real meaning.</div>\n",
       "<div>\n",
       "<ol class=\"row\">\n",
       "<li class=\"col-xs-6 col-sm-4 col-md-3 col-lg-3\">\n",
       "<article class=\"product_pod\">\n",
       "<div class=\"image_container\">\n",
       "<a href=\"a-light-in-the-attic_1000/index.html\"><img alt=\"A Light in the Attic\" class=\"thumbnail\" src=\"../media/cache/2c/da/2cdad67c44b002e7ead0cc35693c0e8b.jpg\"/></a>\n",
       "</div>\n",
       "<p class=\"star-rating Three\">\n",
       "<i class=\"icon-star\"></i>\n",
       "<i class=\"icon-star\"></i>\n",
       "<i class=\"icon-star\"></i>\n",
       "<i class=\"icon-star\"></i>\n",
       "<i class=\"icon-star\"></i>\n",
       "</p>\n",
       "<h3><a href=\"a-light-in-the-attic_1000/index.html\" title=\"A Light in the Attic\">A Light in the ...</a></h3>\n",
       "<div class=\"product_price\">\n",
       "<p class=\"price_color\">Â£51.77</p>\n",
       "<p class=\"instock availability\">\n",
       "<i class=\"icon-ok\"></i>\n",
       "    \n",
       "        In stock\n",
       "    \n",
       "</p>\n",
       "<form>\n",
       "<button class=\"btn btn-primary btn-block\" data-loading-text=\"Adding...\" type=\"submit\">Add to basket</button>\n",
       "</form>\n",
       "</div>\n",
       "</article>\n",
       "</li>\n",
       "<li class=\"col-xs-6 col-sm-4 col-md-3 col-lg-3\">\n",
       "<article class=\"product_pod\">\n",
       "<div class=\"image_container\">\n",
       "<a href=\"tipping-the-velvet_999/index.html\"><img alt=\"Tipping the Velvet\" class=\"thumbnail\" src=\"../media/cache/26/0c/260c6ae16bce31c8f8c95daddd9f4a1c.jpg\"/></a>\n",
       "</div>\n",
       "<p class=\"star-rating One\">\n",
       "<i class=\"icon-star\"></i>\n",
       "<i class=\"icon-star\"></i>\n",
       "<i class=\"icon-star\"></i>\n",
       "<i class=\"icon-star\"></i>\n",
       "<i class=\"icon-star\"></i>\n",
       "</p>\n",
       "<h3><a href=\"tipping-the-velvet_999/index.html\" title=\"Tipping the Velvet\">Tipping the Velvet</a></h3>\n",
       "<div class=\"product_price\">\n",
       "<p class=\"price_color\">Â£53.74</p>\n",
       "<p class=\"instock availability\">\n",
       "<i class=\"icon-ok\"></i>\n",
       "    \n",
       "        In stock\n",
       "    \n",
       "</p>\n",
       "<form>\n",
       "<button class=\"btn btn-primary btn-block\" data-loading-text=\"Adding...\" type=\"submit\">Add to basket</button>\n",
       "</form>\n",
       "</div>\n",
       "</article>\n",
       "</li>\n",
       "<li class=\"col-xs-6 col-sm-4 col-md-3 col-lg-3\">\n",
       "<article class=\"product_pod\">\n",
       "<div class=\"image_container\">\n",
       "<a href=\"soumission_998/index.html\"><img alt=\"Soumission\" class=\"thumbnail\" src=\"../media/cache/3e/ef/3eef99c9d9adef34639f510662022830.jpg\"/></a>\n",
       "</div>\n",
       "<p class=\"star-rating One\">\n",
       "<i class=\"icon-star\"></i>\n",
       "<i class=\"icon-star\"></i>\n",
       "<i class=\"icon-star\"></i>\n",
       "<i class=\"icon-star\"></i>\n",
       "<i class=\"icon-star\"></i>\n",
       "</p>\n",
       "<h3><a href=\"soumission_998/index.html\" title=\"Soumission\">Soumission</a></h3>\n",
       "<div class=\"product_price\">\n",
       "<p class=\"price_color\">Â£50.10</p>\n",
       "<p class=\"instock availability\">\n",
       "<i class=\"icon-ok\"></i>\n",
       "    \n",
       "        In stock\n",
       "    \n",
       "</p>\n",
       "<form>\n",
       "<button class=\"btn btn-primary btn-block\" data-loading-text=\"Adding...\" type=\"submit\">Add to basket</button>\n",
       "</form>\n",
       "</div>\n",
       "</article>\n",
       "</li>\n",
       "<li class=\"col-xs-6 col-sm-4 col-md-3 col-lg-3\">\n",
       "<article class=\"product_pod\">\n",
       "<div class=\"image_container\">\n",
       "<a href=\"sharp-objects_997/index.html\"><img alt=\"Sharp Objects\" class=\"thumbnail\" src=\"../media/cache/32/51/3251cf3a3412f53f339e42cac2134093.jpg\"/></a>\n",
       "</div>\n",
       "<p class=\"star-rating Four\">\n",
       "<i class=\"icon-star\"></i>\n",
       "<i class=\"icon-star\"></i>\n",
       "<i class=\"icon-star\"></i>\n",
       "<i class=\"icon-star\"></i>\n",
       "<i class=\"icon-star\"></i>\n",
       "</p>\n",
       "<h3><a href=\"sharp-objects_997/index.html\" title=\"Sharp Objects\">Sharp Objects</a></h3>\n",
       "<div class=\"product_price\">\n",
       "<p class=\"price_color\">Â£47.82</p>\n",
       "<p class=\"instock availability\">\n",
       "<i class=\"icon-ok\"></i>\n",
       "    \n",
       "        In stock\n",
       "    \n",
       "</p>\n",
       "<form>\n",
       "<button class=\"btn btn-primary btn-block\" data-loading-text=\"Adding...\" type=\"submit\">Add to basket</button>\n",
       "</form>\n",
       "</div>\n",
       "</article>\n",
       "</li>\n",
       "<li class=\"col-xs-6 col-sm-4 col-md-3 col-lg-3\">\n",
       "<article class=\"product_pod\">\n",
       "<div class=\"image_container\">\n",
       "<a href=\"sapiens-a-brief-history-of-humankind_996/index.html\"><img alt=\"Sapiens: A Brief History of Humankind\" class=\"thumbnail\" src=\"../media/cache/be/a5/bea5697f2534a2f86a3ef27b5a8c12a6.jpg\"/></a>\n",
       "</div>\n",
       "<p class=\"star-rating Five\">\n",
       "<i class=\"icon-star\"></i>\n",
       "<i class=\"icon-star\"></i>\n",
       "<i class=\"icon-star\"></i>\n",
       "<i class=\"icon-star\"></i>\n",
       "<i class=\"icon-star\"></i>\n",
       "</p>\n",
       "<h3><a href=\"sapiens-a-brief-history-of-humankind_996/index.html\" title=\"Sapiens: A Brief History of Humankind\">Sapiens: A Brief History ...</a></h3>\n",
       "<div class=\"product_price\">\n",
       "<p class=\"price_color\">Â£54.23</p>\n",
       "<p class=\"instock availability\">\n",
       "<i class=\"icon-ok\"></i>\n",
       "    \n",
       "        In stock\n",
       "    \n",
       "</p>\n",
       "<form>\n",
       "<button class=\"btn btn-primary btn-block\" data-loading-text=\"Adding...\" type=\"submit\">Add to basket</button>\n",
       "</form>\n",
       "</div>\n",
       "</article>\n",
       "</li>\n",
       "<li class=\"col-xs-6 col-sm-4 col-md-3 col-lg-3\">\n",
       "<article class=\"product_pod\">\n",
       "<div class=\"image_container\">\n",
       "<a href=\"the-requiem-red_995/index.html\"><img alt=\"The Requiem Red\" class=\"thumbnail\" src=\"../media/cache/68/33/68339b4c9bc034267e1da611ab3b34f8.jpg\"/></a>\n",
       "</div>\n",
       "<p class=\"star-rating One\">\n",
       "<i class=\"icon-star\"></i>\n",
       "<i class=\"icon-star\"></i>\n",
       "<i class=\"icon-star\"></i>\n",
       "<i class=\"icon-star\"></i>\n",
       "<i class=\"icon-star\"></i>\n",
       "</p>\n",
       "<h3><a href=\"the-requiem-red_995/index.html\" title=\"The Requiem Red\">The Requiem Red</a></h3>\n",
       "<div class=\"product_price\">\n",
       "<p class=\"price_color\">Â£22.65</p>\n",
       "<p class=\"instock availability\">\n",
       "<i class=\"icon-ok\"></i>\n",
       "    \n",
       "        In stock\n",
       "    \n",
       "</p>\n",
       "<form>\n",
       "<button class=\"btn btn-primary btn-block\" data-loading-text=\"Adding...\" type=\"submit\">Add to basket</button>\n",
       "</form>\n",
       "</div>\n",
       "</article>\n",
       "</li>\n",
       "<li class=\"col-xs-6 col-sm-4 col-md-3 col-lg-3\">\n",
       "<article class=\"product_pod\">\n",
       "<div class=\"image_container\">\n",
       "<a href=\"the-dirty-little-secrets-of-getting-your-dream-job_994/index.html\"><img alt=\"The Dirty Little Secrets of Getting Your Dream Job\" class=\"thumbnail\" src=\"../media/cache/92/27/92274a95b7c251fea59a2b8a78275ab4.jpg\"/></a>\n",
       "</div>\n",
       "<p class=\"star-rating Four\">\n",
       "<i class=\"icon-star\"></i>\n",
       "<i class=\"icon-star\"></i>\n",
       "<i class=\"icon-star\"></i>\n",
       "<i class=\"icon-star\"></i>\n",
       "<i class=\"icon-star\"></i>\n",
       "</p>\n",
       "<h3><a href=\"the-dirty-little-secrets-of-getting-your-dream-job_994/index.html\" title=\"The Dirty Little Secrets of Getting Your Dream Job\">The Dirty Little Secrets ...</a></h3>\n",
       "<div class=\"product_price\">\n",
       "<p class=\"price_color\">Â£33.34</p>\n",
       "<p class=\"instock availability\">\n",
       "<i class=\"icon-ok\"></i>\n",
       "    \n",
       "        In stock\n",
       "    \n",
       "</p>\n",
       "<form>\n",
       "<button class=\"btn btn-primary btn-block\" data-loading-text=\"Adding...\" type=\"submit\">Add to basket</button>\n",
       "</form>\n",
       "</div>\n",
       "</article>\n",
       "</li>\n",
       "<li class=\"col-xs-6 col-sm-4 col-md-3 col-lg-3\">\n",
       "<article class=\"product_pod\">\n",
       "<div class=\"image_container\">\n",
       "<a href=\"the-coming-woman-a-novel-based-on-the-life-of-the-infamous-feminist-victoria-woodhull_993/index.html\"><img alt=\"The Coming Woman: A Novel Based on the Life of the Infamous Feminist, Victoria Woodhull\" class=\"thumbnail\" src=\"../media/cache/3d/54/3d54940e57e662c4dd1f3ff00c78cc64.jpg\"/></a>\n",
       "</div>\n",
       "<p class=\"star-rating Three\">\n",
       "<i class=\"icon-star\"></i>\n",
       "<i class=\"icon-star\"></i>\n",
       "<i class=\"icon-star\"></i>\n",
       "<i class=\"icon-star\"></i>\n",
       "<i class=\"icon-star\"></i>\n",
       "</p>\n",
       "<h3><a href=\"the-coming-woman-a-novel-based-on-the-life-of-the-infamous-feminist-victoria-woodhull_993/index.html\" title=\"The Coming Woman: A Novel Based on the Life of the Infamous Feminist, Victoria Woodhull\">The Coming Woman: A ...</a></h3>\n",
       "<div class=\"product_price\">\n",
       "<p class=\"price_color\">Â£17.93</p>\n",
       "<p class=\"instock availability\">\n",
       "<i class=\"icon-ok\"></i>\n",
       "    \n",
       "        In stock\n",
       "    \n",
       "</p>\n",
       "<form>\n",
       "<button class=\"btn btn-primary btn-block\" data-loading-text=\"Adding...\" type=\"submit\">Add to basket</button>\n",
       "</form>\n",
       "</div>\n",
       "</article>\n",
       "</li>\n",
       "<li class=\"col-xs-6 col-sm-4 col-md-3 col-lg-3\">\n",
       "<article class=\"product_pod\">\n",
       "<div class=\"image_container\">\n",
       "<a href=\"the-boys-in-the-boat-nine-americans-and-their-epic-quest-for-gold-at-the-1936-berlin-olympics_992/index.html\"><img alt=\"The Boys in the Boat: Nine Americans and Their Epic Quest for Gold at the 1936 Berlin Olympics\" class=\"thumbnail\" src=\"../media/cache/66/88/66883b91f6804b2323c8369331cb7dd1.jpg\"/></a>\n",
       "</div>\n",
       "<p class=\"star-rating Four\">\n",
       "<i class=\"icon-star\"></i>\n",
       "<i class=\"icon-star\"></i>\n",
       "<i class=\"icon-star\"></i>\n",
       "<i class=\"icon-star\"></i>\n",
       "<i class=\"icon-star\"></i>\n",
       "</p>\n",
       "<h3><a href=\"the-boys-in-the-boat-nine-americans-and-their-epic-quest-for-gold-at-the-1936-berlin-olympics_992/index.html\" title=\"The Boys in the Boat: Nine Americans and Their Epic Quest for Gold at the 1936 Berlin Olympics\">The Boys in the ...</a></h3>\n",
       "<div class=\"product_price\">\n",
       "<p class=\"price_color\">Â£22.60</p>\n",
       "<p class=\"instock availability\">\n",
       "<i class=\"icon-ok\"></i>\n",
       "    \n",
       "        In stock\n",
       "    \n",
       "</p>\n",
       "<form>\n",
       "<button class=\"btn btn-primary btn-block\" data-loading-text=\"Adding...\" type=\"submit\">Add to basket</button>\n",
       "</form>\n",
       "</div>\n",
       "</article>\n",
       "</li>\n",
       "<li class=\"col-xs-6 col-sm-4 col-md-3 col-lg-3\">\n",
       "<article class=\"product_pod\">\n",
       "<div class=\"image_container\">\n",
       "<a href=\"the-black-maria_991/index.html\"><img alt=\"The Black Maria\" class=\"thumbnail\" src=\"../media/cache/58/46/5846057e28022268153beff6d352b06c.jpg\"/></a>\n",
       "</div>\n",
       "<p class=\"star-rating One\">\n",
       "<i class=\"icon-star\"></i>\n",
       "<i class=\"icon-star\"></i>\n",
       "<i class=\"icon-star\"></i>\n",
       "<i class=\"icon-star\"></i>\n",
       "<i class=\"icon-star\"></i>\n",
       "</p>\n",
       "<h3><a href=\"the-black-maria_991/index.html\" title=\"The Black Maria\">The Black Maria</a></h3>\n",
       "<div class=\"product_price\">\n",
       "<p class=\"price_color\">Â£52.15</p>\n",
       "<p class=\"instock availability\">\n",
       "<i class=\"icon-ok\"></i>\n",
       "    \n",
       "        In stock\n",
       "    \n",
       "</p>\n",
       "<form>\n",
       "<button class=\"btn btn-primary btn-block\" data-loading-text=\"Adding...\" type=\"submit\">Add to basket</button>\n",
       "</form>\n",
       "</div>\n",
       "</article>\n",
       "</li>\n",
       "<li class=\"col-xs-6 col-sm-4 col-md-3 col-lg-3\">\n",
       "<article class=\"product_pod\">\n",
       "<div class=\"image_container\">\n",
       "<a href=\"starving-hearts-triangular-trade-trilogy-1_990/index.html\"><img alt=\"Starving Hearts (Triangular Trade Trilogy, #1)\" class=\"thumbnail\" src=\"../media/cache/be/f4/bef44da28c98f905a3ebec0b87be8530.jpg\"/></a>\n",
       "</div>\n",
       "<p class=\"star-rating Two\">\n",
       "<i class=\"icon-star\"></i>\n",
       "<i class=\"icon-star\"></i>\n",
       "<i class=\"icon-star\"></i>\n",
       "<i class=\"icon-star\"></i>\n",
       "<i class=\"icon-star\"></i>\n",
       "</p>\n",
       "<h3><a href=\"starving-hearts-triangular-trade-trilogy-1_990/index.html\" title=\"Starving Hearts (Triangular Trade Trilogy, #1)\">Starving Hearts (Triangular Trade ...</a></h3>\n",
       "<div class=\"product_price\">\n",
       "<p class=\"price_color\">Â£13.99</p>\n",
       "<p class=\"instock availability\">\n",
       "<i class=\"icon-ok\"></i>\n",
       "    \n",
       "        In stock\n",
       "    \n",
       "</p>\n",
       "<form>\n",
       "<button class=\"btn btn-primary btn-block\" data-loading-text=\"Adding...\" type=\"submit\">Add to basket</button>\n",
       "</form>\n",
       "</div>\n",
       "</article>\n",
       "</li>\n",
       "<li class=\"col-xs-6 col-sm-4 col-md-3 col-lg-3\">\n",
       "<article class=\"product_pod\">\n",
       "<div class=\"image_container\">\n",
       "<a href=\"shakespeares-sonnets_989/index.html\"><img alt=\"Shakespeare's Sonnets\" class=\"thumbnail\" src=\"../media/cache/10/48/1048f63d3b5061cd2f424d20b3f9b666.jpg\"/></a>\n",
       "</div>\n",
       "<p class=\"star-rating Four\">\n",
       "<i class=\"icon-star\"></i>\n",
       "<i class=\"icon-star\"></i>\n",
       "<i class=\"icon-star\"></i>\n",
       "<i class=\"icon-star\"></i>\n",
       "<i class=\"icon-star\"></i>\n",
       "</p>\n",
       "<h3><a href=\"shakespeares-sonnets_989/index.html\" title=\"Shakespeare's Sonnets\">Shakespeare's Sonnets</a></h3>\n",
       "<div class=\"product_price\">\n",
       "<p class=\"price_color\">Â£20.66</p>\n",
       "<p class=\"instock availability\">\n",
       "<i class=\"icon-ok\"></i>\n",
       "    \n",
       "        In stock\n",
       "    \n",
       "</p>\n",
       "<form>\n",
       "<button class=\"btn btn-primary btn-block\" data-loading-text=\"Adding...\" type=\"submit\">Add to basket</button>\n",
       "</form>\n",
       "</div>\n",
       "</article>\n",
       "</li>\n",
       "<li class=\"col-xs-6 col-sm-4 col-md-3 col-lg-3\">\n",
       "<article class=\"product_pod\">\n",
       "<div class=\"image_container\">\n",
       "<a href=\"set-me-free_988/index.html\"><img alt=\"Set Me Free\" class=\"thumbnail\" src=\"../media/cache/5b/88/5b88c52633f53cacf162c15f4f823153.jpg\"/></a>\n",
       "</div>\n",
       "<p class=\"star-rating Five\">\n",
       "<i class=\"icon-star\"></i>\n",
       "<i class=\"icon-star\"></i>\n",
       "<i class=\"icon-star\"></i>\n",
       "<i class=\"icon-star\"></i>\n",
       "<i class=\"icon-star\"></i>\n",
       "</p>\n",
       "<h3><a href=\"set-me-free_988/index.html\" title=\"Set Me Free\">Set Me Free</a></h3>\n",
       "<div class=\"product_price\">\n",
       "<p class=\"price_color\">Â£17.46</p>\n",
       "<p class=\"instock availability\">\n",
       "<i class=\"icon-ok\"></i>\n",
       "    \n",
       "        In stock\n",
       "    \n",
       "</p>\n",
       "<form>\n",
       "<button class=\"btn btn-primary btn-block\" data-loading-text=\"Adding...\" type=\"submit\">Add to basket</button>\n",
       "</form>\n",
       "</div>\n",
       "</article>\n",
       "</li>\n",
       "<li class=\"col-xs-6 col-sm-4 col-md-3 col-lg-3\">\n",
       "<article class=\"product_pod\">\n",
       "<div class=\"image_container\">\n",
       "<a href=\"scott-pilgrims-precious-little-life-scott-pilgrim-1_987/index.html\"><img alt=\"Scott Pilgrim's Precious Little Life (Scott Pilgrim #1)\" class=\"thumbnail\" src=\"../media/cache/94/b1/94b1b8b244bce9677c2f29ccc890d4d2.jpg\"/></a>\n",
       "</div>\n",
       "<p class=\"star-rating Five\">\n",
       "<i class=\"icon-star\"></i>\n",
       "<i class=\"icon-star\"></i>\n",
       "<i class=\"icon-star\"></i>\n",
       "<i class=\"icon-star\"></i>\n",
       "<i class=\"icon-star\"></i>\n",
       "</p>\n",
       "<h3><a href=\"scott-pilgrims-precious-little-life-scott-pilgrim-1_987/index.html\" title=\"Scott Pilgrim's Precious Little Life (Scott Pilgrim #1)\">Scott Pilgrim's Precious Little ...</a></h3>\n",
       "<div class=\"product_price\">\n",
       "<p class=\"price_color\">Â£52.29</p>\n",
       "<p class=\"instock availability\">\n",
       "<i class=\"icon-ok\"></i>\n",
       "    \n",
       "        In stock\n",
       "    \n",
       "</p>\n",
       "<form>\n",
       "<button class=\"btn btn-primary btn-block\" data-loading-text=\"Adding...\" type=\"submit\">Add to basket</button>\n",
       "</form>\n",
       "</div>\n",
       "</article>\n",
       "</li>\n",
       "<li class=\"col-xs-6 col-sm-4 col-md-3 col-lg-3\">\n",
       "<article class=\"product_pod\">\n",
       "<div class=\"image_container\">\n",
       "<a href=\"rip-it-up-and-start-again_986/index.html\"><img alt=\"Rip it Up and Start Again\" class=\"thumbnail\" src=\"../media/cache/81/c4/81c4a973364e17d01f217e1188253d5e.jpg\"/></a>\n",
       "</div>\n",
       "<p class=\"star-rating Five\">\n",
       "<i class=\"icon-star\"></i>\n",
       "<i class=\"icon-star\"></i>\n",
       "<i class=\"icon-star\"></i>\n",
       "<i class=\"icon-star\"></i>\n",
       "<i class=\"icon-star\"></i>\n",
       "</p>\n",
       "<h3><a href=\"rip-it-up-and-start-again_986/index.html\" title=\"Rip it Up and Start Again\">Rip it Up and ...</a></h3>\n",
       "<div class=\"product_price\">\n",
       "<p class=\"price_color\">Â£35.02</p>\n",
       "<p class=\"instock availability\">\n",
       "<i class=\"icon-ok\"></i>\n",
       "    \n",
       "        In stock\n",
       "    \n",
       "</p>\n",
       "<form>\n",
       "<button class=\"btn btn-primary btn-block\" data-loading-text=\"Adding...\" type=\"submit\">Add to basket</button>\n",
       "</form>\n",
       "</div>\n",
       "</article>\n",
       "</li>\n",
       "<li class=\"col-xs-6 col-sm-4 col-md-3 col-lg-3\">\n",
       "<article class=\"product_pod\">\n",
       "<div class=\"image_container\">\n",
       "<a href=\"our-band-could-be-your-life-scenes-from-the-american-indie-underground-1981-1991_985/index.html\"><img alt=\"Our Band Could Be Your Life: Scenes from the American Indie Underground, 1981-1991\" class=\"thumbnail\" src=\"../media/cache/54/60/54607fe8945897cdcced0044103b10b6.jpg\"/></a>\n",
       "</div>\n",
       "<p class=\"star-rating Three\">\n",
       "<i class=\"icon-star\"></i>\n",
       "<i class=\"icon-star\"></i>\n",
       "<i class=\"icon-star\"></i>\n",
       "<i class=\"icon-star\"></i>\n",
       "<i class=\"icon-star\"></i>\n",
       "</p>\n",
       "<h3><a href=\"our-band-could-be-your-life-scenes-from-the-american-indie-underground-1981-1991_985/index.html\" title=\"Our Band Could Be Your Life: Scenes from the American Indie Underground, 1981-1991\">Our Band Could Be ...</a></h3>\n",
       "<div class=\"product_price\">\n",
       "<p class=\"price_color\">Â£57.25</p>\n",
       "<p class=\"instock availability\">\n",
       "<i class=\"icon-ok\"></i>\n",
       "    \n",
       "        In stock\n",
       "    \n",
       "</p>\n",
       "<form>\n",
       "<button class=\"btn btn-primary btn-block\" data-loading-text=\"Adding...\" type=\"submit\">Add to basket</button>\n",
       "</form>\n",
       "</div>\n",
       "</article>\n",
       "</li>\n",
       "<li class=\"col-xs-6 col-sm-4 col-md-3 col-lg-3\">\n",
       "<article class=\"product_pod\">\n",
       "<div class=\"image_container\">\n",
       "<a href=\"olio_984/index.html\"><img alt=\"Olio\" class=\"thumbnail\" src=\"../media/cache/55/33/553310a7162dfbc2c6d19a84da0df9e1.jpg\"/></a>\n",
       "</div>\n",
       "<p class=\"star-rating One\">\n",
       "<i class=\"icon-star\"></i>\n",
       "<i class=\"icon-star\"></i>\n",
       "<i class=\"icon-star\"></i>\n",
       "<i class=\"icon-star\"></i>\n",
       "<i class=\"icon-star\"></i>\n",
       "</p>\n",
       "<h3><a href=\"olio_984/index.html\" title=\"Olio\">Olio</a></h3>\n",
       "<div class=\"product_price\">\n",
       "<p class=\"price_color\">Â£23.88</p>\n",
       "<p class=\"instock availability\">\n",
       "<i class=\"icon-ok\"></i>\n",
       "    \n",
       "        In stock\n",
       "    \n",
       "</p>\n",
       "<form>\n",
       "<button class=\"btn btn-primary btn-block\" data-loading-text=\"Adding...\" type=\"submit\">Add to basket</button>\n",
       "</form>\n",
       "</div>\n",
       "</article>\n",
       "</li>\n",
       "<li class=\"col-xs-6 col-sm-4 col-md-3 col-lg-3\">\n",
       "<article class=\"product_pod\">\n",
       "<div class=\"image_container\">\n",
       "<a href=\"mesaerion-the-best-science-fiction-stories-1800-1849_983/index.html\"><img alt=\"Mesaerion: The Best Science Fiction Stories 1800-1849\" class=\"thumbnail\" src=\"../media/cache/09/a3/09a3aef48557576e1a85ba7efea8ecb7.jpg\"/></a>\n",
       "</div>\n",
       "<p class=\"star-rating One\">\n",
       "<i class=\"icon-star\"></i>\n",
       "<i class=\"icon-star\"></i>\n",
       "<i class=\"icon-star\"></i>\n",
       "<i class=\"icon-star\"></i>\n",
       "<i class=\"icon-star\"></i>\n",
       "</p>\n",
       "<h3><a href=\"mesaerion-the-best-science-fiction-stories-1800-1849_983/index.html\" title=\"Mesaerion: The Best Science Fiction Stories 1800-1849\">Mesaerion: The Best Science ...</a></h3>\n",
       "<div class=\"product_price\">\n",
       "<p class=\"price_color\">Â£37.59</p>\n",
       "<p class=\"instock availability\">\n",
       "<i class=\"icon-ok\"></i>\n",
       "    \n",
       "        In stock\n",
       "    \n",
       "</p>\n",
       "<form>\n",
       "<button class=\"btn btn-primary btn-block\" data-loading-text=\"Adding...\" type=\"submit\">Add to basket</button>\n",
       "</form>\n",
       "</div>\n",
       "</article>\n",
       "</li>\n",
       "<li class=\"col-xs-6 col-sm-4 col-md-3 col-lg-3\">\n",
       "<article class=\"product_pod\">\n",
       "<div class=\"image_container\">\n",
       "<a href=\"libertarianism-for-beginners_982/index.html\"><img alt=\"Libertarianism for Beginners\" class=\"thumbnail\" src=\"../media/cache/0b/bc/0bbcd0a6f4bcd81ccb1049a52736406e.jpg\"/></a>\n",
       "</div>\n",
       "<p class=\"star-rating Two\">\n",
       "<i class=\"icon-star\"></i>\n",
       "<i class=\"icon-star\"></i>\n",
       "<i class=\"icon-star\"></i>\n",
       "<i class=\"icon-star\"></i>\n",
       "<i class=\"icon-star\"></i>\n",
       "</p>\n",
       "<h3><a href=\"libertarianism-for-beginners_982/index.html\" title=\"Libertarianism for Beginners\">Libertarianism for Beginners</a></h3>\n",
       "<div class=\"product_price\">\n",
       "<p class=\"price_color\">Â£51.33</p>\n",
       "<p class=\"instock availability\">\n",
       "<i class=\"icon-ok\"></i>\n",
       "    \n",
       "        In stock\n",
       "    \n",
       "</p>\n",
       "<form>\n",
       "<button class=\"btn btn-primary btn-block\" data-loading-text=\"Adding...\" type=\"submit\">Add to basket</button>\n",
       "</form>\n",
       "</div>\n",
       "</article>\n",
       "</li>\n",
       "<li class=\"col-xs-6 col-sm-4 col-md-3 col-lg-3\">\n",
       "<article class=\"product_pod\">\n",
       "<div class=\"image_container\">\n",
       "<a href=\"its-only-the-himalayas_981/index.html\"><img alt=\"It's Only the Himalayas\" class=\"thumbnail\" src=\"../media/cache/27/a5/27a53d0bb95bdd88288eaf66c9230d7e.jpg\"/></a>\n",
       "</div>\n",
       "<p class=\"star-rating Two\">\n",
       "<i class=\"icon-star\"></i>\n",
       "<i class=\"icon-star\"></i>\n",
       "<i class=\"icon-star\"></i>\n",
       "<i class=\"icon-star\"></i>\n",
       "<i class=\"icon-star\"></i>\n",
       "</p>\n",
       "<h3><a href=\"its-only-the-himalayas_981/index.html\" title=\"It's Only the Himalayas\">It's Only the Himalayas</a></h3>\n",
       "<div class=\"product_price\">\n",
       "<p class=\"price_color\">Â£45.17</p>\n",
       "<p class=\"instock availability\">\n",
       "<i class=\"icon-ok\"></i>\n",
       "    \n",
       "        In stock\n",
       "    \n",
       "</p>\n",
       "<form>\n",
       "<button class=\"btn btn-primary btn-block\" data-loading-text=\"Adding...\" type=\"submit\">Add to basket</button>\n",
       "</form>\n",
       "</div>\n",
       "</article>\n",
       "</li>\n",
       "</ol>\n",
       "<div>\n",
       "<ul class=\"pager\">\n",
       "<li class=\"current\">\n",
       "            \n",
       "                Page 1 of 50\n",
       "            \n",
       "            </li>\n",
       "<li class=\"next\"><a href=\"page-2.html\">next</a></li>\n",
       "</ul>\n",
       "</div>\n",
       "</div>\n",
       "</section>\n",
       "</div>\n",
       "</div><!-- /row -->\n",
       "</div><!-- /page_inner -->\n",
       "</div><!-- /container-fluid -->\n",
       "<footer class=\"footer container-fluid\">\n",
       "</footer>\n",
       "<!-- jQuery -->\n",
       "<script src=\"http://ajax.googleapis.com/ajax/libs/jquery/1.9.1/jquery.min.js\"></script>\n",
       "<script>window.jQuery || document.write('<script src=\"../static/oscar/js/jquery/jquery-1.9.1.min.js\"><\\/script>')</script>\n",
       "<!-- Twitter Bootstrap -->\n",
       "<script src=\"../static/oscar/js/bootstrap3/bootstrap.min.js\" type=\"text/javascript\"></script>\n",
       "<!-- Oscar -->\n",
       "<script charset=\"utf-8\" src=\"../static/oscar/js/oscar/ui.js\" type=\"text/javascript\"></script>\n",
       "<script charset=\"utf-8\" src=\"../static/oscar/js/bootstrap-datetimepicker/bootstrap-datetimepicker.js\" type=\"text/javascript\"></script>\n",
       "<script charset=\"utf-8\" src=\"../static/oscar/js/bootstrap-datetimepicker/locales/bootstrap-datetimepicker.all.js\" type=\"text/javascript\"></script>\n",
       "<script type=\"text/javascript\">\n",
       "            $(function() {\n",
       "                \n",
       "    \n",
       "    \n",
       "    oscar.init();\n",
       "\n",
       "    oscar.search.init();\n",
       "\n",
       "            });\n",
       "        </script>\n",
       "<!-- Version: N/A -->\n",
       "</body>\n",
       "</html>"
      ]
     },
     "execution_count": 17,
     "metadata": {},
     "output_type": "execute_result"
    }
   ],
   "source": [
    "soup"
   ]
  },
  {
   "cell_type": "markdown",
   "id": "0c1981ab",
   "metadata": {},
   "source": [
    "Below - \". equal class"
   ]
  },
  {
   "cell_type": "code",
   "execution_count": 18,
   "id": "8e162fbc",
   "metadata": {},
   "outputs": [
    {
     "data": {
      "text/plain": [
       "[<article class=\"product_pod\">\n",
       " <div class=\"image_container\">\n",
       " <a href=\"a-light-in-the-attic_1000/index.html\"><img alt=\"A Light in the Attic\" class=\"thumbnail\" src=\"../media/cache/2c/da/2cdad67c44b002e7ead0cc35693c0e8b.jpg\"/></a>\n",
       " </div>\n",
       " <p class=\"star-rating Three\">\n",
       " <i class=\"icon-star\"></i>\n",
       " <i class=\"icon-star\"></i>\n",
       " <i class=\"icon-star\"></i>\n",
       " <i class=\"icon-star\"></i>\n",
       " <i class=\"icon-star\"></i>\n",
       " </p>\n",
       " <h3><a href=\"a-light-in-the-attic_1000/index.html\" title=\"A Light in the Attic\">A Light in the ...</a></h3>\n",
       " <div class=\"product_price\">\n",
       " <p class=\"price_color\">Â£51.77</p>\n",
       " <p class=\"instock availability\">\n",
       " <i class=\"icon-ok\"></i>\n",
       "     \n",
       "         In stock\n",
       "     \n",
       " </p>\n",
       " <form>\n",
       " <button class=\"btn btn-primary btn-block\" data-loading-text=\"Adding...\" type=\"submit\">Add to basket</button>\n",
       " </form>\n",
       " </div>\n",
       " </article>,\n",
       " <article class=\"product_pod\">\n",
       " <div class=\"image_container\">\n",
       " <a href=\"tipping-the-velvet_999/index.html\"><img alt=\"Tipping the Velvet\" class=\"thumbnail\" src=\"../media/cache/26/0c/260c6ae16bce31c8f8c95daddd9f4a1c.jpg\"/></a>\n",
       " </div>\n",
       " <p class=\"star-rating One\">\n",
       " <i class=\"icon-star\"></i>\n",
       " <i class=\"icon-star\"></i>\n",
       " <i class=\"icon-star\"></i>\n",
       " <i class=\"icon-star\"></i>\n",
       " <i class=\"icon-star\"></i>\n",
       " </p>\n",
       " <h3><a href=\"tipping-the-velvet_999/index.html\" title=\"Tipping the Velvet\">Tipping the Velvet</a></h3>\n",
       " <div class=\"product_price\">\n",
       " <p class=\"price_color\">Â£53.74</p>\n",
       " <p class=\"instock availability\">\n",
       " <i class=\"icon-ok\"></i>\n",
       "     \n",
       "         In stock\n",
       "     \n",
       " </p>\n",
       " <form>\n",
       " <button class=\"btn btn-primary btn-block\" data-loading-text=\"Adding...\" type=\"submit\">Add to basket</button>\n",
       " </form>\n",
       " </div>\n",
       " </article>,\n",
       " <article class=\"product_pod\">\n",
       " <div class=\"image_container\">\n",
       " <a href=\"soumission_998/index.html\"><img alt=\"Soumission\" class=\"thumbnail\" src=\"../media/cache/3e/ef/3eef99c9d9adef34639f510662022830.jpg\"/></a>\n",
       " </div>\n",
       " <p class=\"star-rating One\">\n",
       " <i class=\"icon-star\"></i>\n",
       " <i class=\"icon-star\"></i>\n",
       " <i class=\"icon-star\"></i>\n",
       " <i class=\"icon-star\"></i>\n",
       " <i class=\"icon-star\"></i>\n",
       " </p>\n",
       " <h3><a href=\"soumission_998/index.html\" title=\"Soumission\">Soumission</a></h3>\n",
       " <div class=\"product_price\">\n",
       " <p class=\"price_color\">Â£50.10</p>\n",
       " <p class=\"instock availability\">\n",
       " <i class=\"icon-ok\"></i>\n",
       "     \n",
       "         In stock\n",
       "     \n",
       " </p>\n",
       " <form>\n",
       " <button class=\"btn btn-primary btn-block\" data-loading-text=\"Adding...\" type=\"submit\">Add to basket</button>\n",
       " </form>\n",
       " </div>\n",
       " </article>,\n",
       " <article class=\"product_pod\">\n",
       " <div class=\"image_container\">\n",
       " <a href=\"sharp-objects_997/index.html\"><img alt=\"Sharp Objects\" class=\"thumbnail\" src=\"../media/cache/32/51/3251cf3a3412f53f339e42cac2134093.jpg\"/></a>\n",
       " </div>\n",
       " <p class=\"star-rating Four\">\n",
       " <i class=\"icon-star\"></i>\n",
       " <i class=\"icon-star\"></i>\n",
       " <i class=\"icon-star\"></i>\n",
       " <i class=\"icon-star\"></i>\n",
       " <i class=\"icon-star\"></i>\n",
       " </p>\n",
       " <h3><a href=\"sharp-objects_997/index.html\" title=\"Sharp Objects\">Sharp Objects</a></h3>\n",
       " <div class=\"product_price\">\n",
       " <p class=\"price_color\">Â£47.82</p>\n",
       " <p class=\"instock availability\">\n",
       " <i class=\"icon-ok\"></i>\n",
       "     \n",
       "         In stock\n",
       "     \n",
       " </p>\n",
       " <form>\n",
       " <button class=\"btn btn-primary btn-block\" data-loading-text=\"Adding...\" type=\"submit\">Add to basket</button>\n",
       " </form>\n",
       " </div>\n",
       " </article>,\n",
       " <article class=\"product_pod\">\n",
       " <div class=\"image_container\">\n",
       " <a href=\"sapiens-a-brief-history-of-humankind_996/index.html\"><img alt=\"Sapiens: A Brief History of Humankind\" class=\"thumbnail\" src=\"../media/cache/be/a5/bea5697f2534a2f86a3ef27b5a8c12a6.jpg\"/></a>\n",
       " </div>\n",
       " <p class=\"star-rating Five\">\n",
       " <i class=\"icon-star\"></i>\n",
       " <i class=\"icon-star\"></i>\n",
       " <i class=\"icon-star\"></i>\n",
       " <i class=\"icon-star\"></i>\n",
       " <i class=\"icon-star\"></i>\n",
       " </p>\n",
       " <h3><a href=\"sapiens-a-brief-history-of-humankind_996/index.html\" title=\"Sapiens: A Brief History of Humankind\">Sapiens: A Brief History ...</a></h3>\n",
       " <div class=\"product_price\">\n",
       " <p class=\"price_color\">Â£54.23</p>\n",
       " <p class=\"instock availability\">\n",
       " <i class=\"icon-ok\"></i>\n",
       "     \n",
       "         In stock\n",
       "     \n",
       " </p>\n",
       " <form>\n",
       " <button class=\"btn btn-primary btn-block\" data-loading-text=\"Adding...\" type=\"submit\">Add to basket</button>\n",
       " </form>\n",
       " </div>\n",
       " </article>,\n",
       " <article class=\"product_pod\">\n",
       " <div class=\"image_container\">\n",
       " <a href=\"the-requiem-red_995/index.html\"><img alt=\"The Requiem Red\" class=\"thumbnail\" src=\"../media/cache/68/33/68339b4c9bc034267e1da611ab3b34f8.jpg\"/></a>\n",
       " </div>\n",
       " <p class=\"star-rating One\">\n",
       " <i class=\"icon-star\"></i>\n",
       " <i class=\"icon-star\"></i>\n",
       " <i class=\"icon-star\"></i>\n",
       " <i class=\"icon-star\"></i>\n",
       " <i class=\"icon-star\"></i>\n",
       " </p>\n",
       " <h3><a href=\"the-requiem-red_995/index.html\" title=\"The Requiem Red\">The Requiem Red</a></h3>\n",
       " <div class=\"product_price\">\n",
       " <p class=\"price_color\">Â£22.65</p>\n",
       " <p class=\"instock availability\">\n",
       " <i class=\"icon-ok\"></i>\n",
       "     \n",
       "         In stock\n",
       "     \n",
       " </p>\n",
       " <form>\n",
       " <button class=\"btn btn-primary btn-block\" data-loading-text=\"Adding...\" type=\"submit\">Add to basket</button>\n",
       " </form>\n",
       " </div>\n",
       " </article>,\n",
       " <article class=\"product_pod\">\n",
       " <div class=\"image_container\">\n",
       " <a href=\"the-dirty-little-secrets-of-getting-your-dream-job_994/index.html\"><img alt=\"The Dirty Little Secrets of Getting Your Dream Job\" class=\"thumbnail\" src=\"../media/cache/92/27/92274a95b7c251fea59a2b8a78275ab4.jpg\"/></a>\n",
       " </div>\n",
       " <p class=\"star-rating Four\">\n",
       " <i class=\"icon-star\"></i>\n",
       " <i class=\"icon-star\"></i>\n",
       " <i class=\"icon-star\"></i>\n",
       " <i class=\"icon-star\"></i>\n",
       " <i class=\"icon-star\"></i>\n",
       " </p>\n",
       " <h3><a href=\"the-dirty-little-secrets-of-getting-your-dream-job_994/index.html\" title=\"The Dirty Little Secrets of Getting Your Dream Job\">The Dirty Little Secrets ...</a></h3>\n",
       " <div class=\"product_price\">\n",
       " <p class=\"price_color\">Â£33.34</p>\n",
       " <p class=\"instock availability\">\n",
       " <i class=\"icon-ok\"></i>\n",
       "     \n",
       "         In stock\n",
       "     \n",
       " </p>\n",
       " <form>\n",
       " <button class=\"btn btn-primary btn-block\" data-loading-text=\"Adding...\" type=\"submit\">Add to basket</button>\n",
       " </form>\n",
       " </div>\n",
       " </article>,\n",
       " <article class=\"product_pod\">\n",
       " <div class=\"image_container\">\n",
       " <a href=\"the-coming-woman-a-novel-based-on-the-life-of-the-infamous-feminist-victoria-woodhull_993/index.html\"><img alt=\"The Coming Woman: A Novel Based on the Life of the Infamous Feminist, Victoria Woodhull\" class=\"thumbnail\" src=\"../media/cache/3d/54/3d54940e57e662c4dd1f3ff00c78cc64.jpg\"/></a>\n",
       " </div>\n",
       " <p class=\"star-rating Three\">\n",
       " <i class=\"icon-star\"></i>\n",
       " <i class=\"icon-star\"></i>\n",
       " <i class=\"icon-star\"></i>\n",
       " <i class=\"icon-star\"></i>\n",
       " <i class=\"icon-star\"></i>\n",
       " </p>\n",
       " <h3><a href=\"the-coming-woman-a-novel-based-on-the-life-of-the-infamous-feminist-victoria-woodhull_993/index.html\" title=\"The Coming Woman: A Novel Based on the Life of the Infamous Feminist, Victoria Woodhull\">The Coming Woman: A ...</a></h3>\n",
       " <div class=\"product_price\">\n",
       " <p class=\"price_color\">Â£17.93</p>\n",
       " <p class=\"instock availability\">\n",
       " <i class=\"icon-ok\"></i>\n",
       "     \n",
       "         In stock\n",
       "     \n",
       " </p>\n",
       " <form>\n",
       " <button class=\"btn btn-primary btn-block\" data-loading-text=\"Adding...\" type=\"submit\">Add to basket</button>\n",
       " </form>\n",
       " </div>\n",
       " </article>,\n",
       " <article class=\"product_pod\">\n",
       " <div class=\"image_container\">\n",
       " <a href=\"the-boys-in-the-boat-nine-americans-and-their-epic-quest-for-gold-at-the-1936-berlin-olympics_992/index.html\"><img alt=\"The Boys in the Boat: Nine Americans and Their Epic Quest for Gold at the 1936 Berlin Olympics\" class=\"thumbnail\" src=\"../media/cache/66/88/66883b91f6804b2323c8369331cb7dd1.jpg\"/></a>\n",
       " </div>\n",
       " <p class=\"star-rating Four\">\n",
       " <i class=\"icon-star\"></i>\n",
       " <i class=\"icon-star\"></i>\n",
       " <i class=\"icon-star\"></i>\n",
       " <i class=\"icon-star\"></i>\n",
       " <i class=\"icon-star\"></i>\n",
       " </p>\n",
       " <h3><a href=\"the-boys-in-the-boat-nine-americans-and-their-epic-quest-for-gold-at-the-1936-berlin-olympics_992/index.html\" title=\"The Boys in the Boat: Nine Americans and Their Epic Quest for Gold at the 1936 Berlin Olympics\">The Boys in the ...</a></h3>\n",
       " <div class=\"product_price\">\n",
       " <p class=\"price_color\">Â£22.60</p>\n",
       " <p class=\"instock availability\">\n",
       " <i class=\"icon-ok\"></i>\n",
       "     \n",
       "         In stock\n",
       "     \n",
       " </p>\n",
       " <form>\n",
       " <button class=\"btn btn-primary btn-block\" data-loading-text=\"Adding...\" type=\"submit\">Add to basket</button>\n",
       " </form>\n",
       " </div>\n",
       " </article>,\n",
       " <article class=\"product_pod\">\n",
       " <div class=\"image_container\">\n",
       " <a href=\"the-black-maria_991/index.html\"><img alt=\"The Black Maria\" class=\"thumbnail\" src=\"../media/cache/58/46/5846057e28022268153beff6d352b06c.jpg\"/></a>\n",
       " </div>\n",
       " <p class=\"star-rating One\">\n",
       " <i class=\"icon-star\"></i>\n",
       " <i class=\"icon-star\"></i>\n",
       " <i class=\"icon-star\"></i>\n",
       " <i class=\"icon-star\"></i>\n",
       " <i class=\"icon-star\"></i>\n",
       " </p>\n",
       " <h3><a href=\"the-black-maria_991/index.html\" title=\"The Black Maria\">The Black Maria</a></h3>\n",
       " <div class=\"product_price\">\n",
       " <p class=\"price_color\">Â£52.15</p>\n",
       " <p class=\"instock availability\">\n",
       " <i class=\"icon-ok\"></i>\n",
       "     \n",
       "         In stock\n",
       "     \n",
       " </p>\n",
       " <form>\n",
       " <button class=\"btn btn-primary btn-block\" data-loading-text=\"Adding...\" type=\"submit\">Add to basket</button>\n",
       " </form>\n",
       " </div>\n",
       " </article>,\n",
       " <article class=\"product_pod\">\n",
       " <div class=\"image_container\">\n",
       " <a href=\"starving-hearts-triangular-trade-trilogy-1_990/index.html\"><img alt=\"Starving Hearts (Triangular Trade Trilogy, #1)\" class=\"thumbnail\" src=\"../media/cache/be/f4/bef44da28c98f905a3ebec0b87be8530.jpg\"/></a>\n",
       " </div>\n",
       " <p class=\"star-rating Two\">\n",
       " <i class=\"icon-star\"></i>\n",
       " <i class=\"icon-star\"></i>\n",
       " <i class=\"icon-star\"></i>\n",
       " <i class=\"icon-star\"></i>\n",
       " <i class=\"icon-star\"></i>\n",
       " </p>\n",
       " <h3><a href=\"starving-hearts-triangular-trade-trilogy-1_990/index.html\" title=\"Starving Hearts (Triangular Trade Trilogy, #1)\">Starving Hearts (Triangular Trade ...</a></h3>\n",
       " <div class=\"product_price\">\n",
       " <p class=\"price_color\">Â£13.99</p>\n",
       " <p class=\"instock availability\">\n",
       " <i class=\"icon-ok\"></i>\n",
       "     \n",
       "         In stock\n",
       "     \n",
       " </p>\n",
       " <form>\n",
       " <button class=\"btn btn-primary btn-block\" data-loading-text=\"Adding...\" type=\"submit\">Add to basket</button>\n",
       " </form>\n",
       " </div>\n",
       " </article>,\n",
       " <article class=\"product_pod\">\n",
       " <div class=\"image_container\">\n",
       " <a href=\"shakespeares-sonnets_989/index.html\"><img alt=\"Shakespeare's Sonnets\" class=\"thumbnail\" src=\"../media/cache/10/48/1048f63d3b5061cd2f424d20b3f9b666.jpg\"/></a>\n",
       " </div>\n",
       " <p class=\"star-rating Four\">\n",
       " <i class=\"icon-star\"></i>\n",
       " <i class=\"icon-star\"></i>\n",
       " <i class=\"icon-star\"></i>\n",
       " <i class=\"icon-star\"></i>\n",
       " <i class=\"icon-star\"></i>\n",
       " </p>\n",
       " <h3><a href=\"shakespeares-sonnets_989/index.html\" title=\"Shakespeare's Sonnets\">Shakespeare's Sonnets</a></h3>\n",
       " <div class=\"product_price\">\n",
       " <p class=\"price_color\">Â£20.66</p>\n",
       " <p class=\"instock availability\">\n",
       " <i class=\"icon-ok\"></i>\n",
       "     \n",
       "         In stock\n",
       "     \n",
       " </p>\n",
       " <form>\n",
       " <button class=\"btn btn-primary btn-block\" data-loading-text=\"Adding...\" type=\"submit\">Add to basket</button>\n",
       " </form>\n",
       " </div>\n",
       " </article>,\n",
       " <article class=\"product_pod\">\n",
       " <div class=\"image_container\">\n",
       " <a href=\"set-me-free_988/index.html\"><img alt=\"Set Me Free\" class=\"thumbnail\" src=\"../media/cache/5b/88/5b88c52633f53cacf162c15f4f823153.jpg\"/></a>\n",
       " </div>\n",
       " <p class=\"star-rating Five\">\n",
       " <i class=\"icon-star\"></i>\n",
       " <i class=\"icon-star\"></i>\n",
       " <i class=\"icon-star\"></i>\n",
       " <i class=\"icon-star\"></i>\n",
       " <i class=\"icon-star\"></i>\n",
       " </p>\n",
       " <h3><a href=\"set-me-free_988/index.html\" title=\"Set Me Free\">Set Me Free</a></h3>\n",
       " <div class=\"product_price\">\n",
       " <p class=\"price_color\">Â£17.46</p>\n",
       " <p class=\"instock availability\">\n",
       " <i class=\"icon-ok\"></i>\n",
       "     \n",
       "         In stock\n",
       "     \n",
       " </p>\n",
       " <form>\n",
       " <button class=\"btn btn-primary btn-block\" data-loading-text=\"Adding...\" type=\"submit\">Add to basket</button>\n",
       " </form>\n",
       " </div>\n",
       " </article>,\n",
       " <article class=\"product_pod\">\n",
       " <div class=\"image_container\">\n",
       " <a href=\"scott-pilgrims-precious-little-life-scott-pilgrim-1_987/index.html\"><img alt=\"Scott Pilgrim's Precious Little Life (Scott Pilgrim #1)\" class=\"thumbnail\" src=\"../media/cache/94/b1/94b1b8b244bce9677c2f29ccc890d4d2.jpg\"/></a>\n",
       " </div>\n",
       " <p class=\"star-rating Five\">\n",
       " <i class=\"icon-star\"></i>\n",
       " <i class=\"icon-star\"></i>\n",
       " <i class=\"icon-star\"></i>\n",
       " <i class=\"icon-star\"></i>\n",
       " <i class=\"icon-star\"></i>\n",
       " </p>\n",
       " <h3><a href=\"scott-pilgrims-precious-little-life-scott-pilgrim-1_987/index.html\" title=\"Scott Pilgrim's Precious Little Life (Scott Pilgrim #1)\">Scott Pilgrim's Precious Little ...</a></h3>\n",
       " <div class=\"product_price\">\n",
       " <p class=\"price_color\">Â£52.29</p>\n",
       " <p class=\"instock availability\">\n",
       " <i class=\"icon-ok\"></i>\n",
       "     \n",
       "         In stock\n",
       "     \n",
       " </p>\n",
       " <form>\n",
       " <button class=\"btn btn-primary btn-block\" data-loading-text=\"Adding...\" type=\"submit\">Add to basket</button>\n",
       " </form>\n",
       " </div>\n",
       " </article>,\n",
       " <article class=\"product_pod\">\n",
       " <div class=\"image_container\">\n",
       " <a href=\"rip-it-up-and-start-again_986/index.html\"><img alt=\"Rip it Up and Start Again\" class=\"thumbnail\" src=\"../media/cache/81/c4/81c4a973364e17d01f217e1188253d5e.jpg\"/></a>\n",
       " </div>\n",
       " <p class=\"star-rating Five\">\n",
       " <i class=\"icon-star\"></i>\n",
       " <i class=\"icon-star\"></i>\n",
       " <i class=\"icon-star\"></i>\n",
       " <i class=\"icon-star\"></i>\n",
       " <i class=\"icon-star\"></i>\n",
       " </p>\n",
       " <h3><a href=\"rip-it-up-and-start-again_986/index.html\" title=\"Rip it Up and Start Again\">Rip it Up and ...</a></h3>\n",
       " <div class=\"product_price\">\n",
       " <p class=\"price_color\">Â£35.02</p>\n",
       " <p class=\"instock availability\">\n",
       " <i class=\"icon-ok\"></i>\n",
       "     \n",
       "         In stock\n",
       "     \n",
       " </p>\n",
       " <form>\n",
       " <button class=\"btn btn-primary btn-block\" data-loading-text=\"Adding...\" type=\"submit\">Add to basket</button>\n",
       " </form>\n",
       " </div>\n",
       " </article>,\n",
       " <article class=\"product_pod\">\n",
       " <div class=\"image_container\">\n",
       " <a href=\"our-band-could-be-your-life-scenes-from-the-american-indie-underground-1981-1991_985/index.html\"><img alt=\"Our Band Could Be Your Life: Scenes from the American Indie Underground, 1981-1991\" class=\"thumbnail\" src=\"../media/cache/54/60/54607fe8945897cdcced0044103b10b6.jpg\"/></a>\n",
       " </div>\n",
       " <p class=\"star-rating Three\">\n",
       " <i class=\"icon-star\"></i>\n",
       " <i class=\"icon-star\"></i>\n",
       " <i class=\"icon-star\"></i>\n",
       " <i class=\"icon-star\"></i>\n",
       " <i class=\"icon-star\"></i>\n",
       " </p>\n",
       " <h3><a href=\"our-band-could-be-your-life-scenes-from-the-american-indie-underground-1981-1991_985/index.html\" title=\"Our Band Could Be Your Life: Scenes from the American Indie Underground, 1981-1991\">Our Band Could Be ...</a></h3>\n",
       " <div class=\"product_price\">\n",
       " <p class=\"price_color\">Â£57.25</p>\n",
       " <p class=\"instock availability\">\n",
       " <i class=\"icon-ok\"></i>\n",
       "     \n",
       "         In stock\n",
       "     \n",
       " </p>\n",
       " <form>\n",
       " <button class=\"btn btn-primary btn-block\" data-loading-text=\"Adding...\" type=\"submit\">Add to basket</button>\n",
       " </form>\n",
       " </div>\n",
       " </article>,\n",
       " <article class=\"product_pod\">\n",
       " <div class=\"image_container\">\n",
       " <a href=\"olio_984/index.html\"><img alt=\"Olio\" class=\"thumbnail\" src=\"../media/cache/55/33/553310a7162dfbc2c6d19a84da0df9e1.jpg\"/></a>\n",
       " </div>\n",
       " <p class=\"star-rating One\">\n",
       " <i class=\"icon-star\"></i>\n",
       " <i class=\"icon-star\"></i>\n",
       " <i class=\"icon-star\"></i>\n",
       " <i class=\"icon-star\"></i>\n",
       " <i class=\"icon-star\"></i>\n",
       " </p>\n",
       " <h3><a href=\"olio_984/index.html\" title=\"Olio\">Olio</a></h3>\n",
       " <div class=\"product_price\">\n",
       " <p class=\"price_color\">Â£23.88</p>\n",
       " <p class=\"instock availability\">\n",
       " <i class=\"icon-ok\"></i>\n",
       "     \n",
       "         In stock\n",
       "     \n",
       " </p>\n",
       " <form>\n",
       " <button class=\"btn btn-primary btn-block\" data-loading-text=\"Adding...\" type=\"submit\">Add to basket</button>\n",
       " </form>\n",
       " </div>\n",
       " </article>,\n",
       " <article class=\"product_pod\">\n",
       " <div class=\"image_container\">\n",
       " <a href=\"mesaerion-the-best-science-fiction-stories-1800-1849_983/index.html\"><img alt=\"Mesaerion: The Best Science Fiction Stories 1800-1849\" class=\"thumbnail\" src=\"../media/cache/09/a3/09a3aef48557576e1a85ba7efea8ecb7.jpg\"/></a>\n",
       " </div>\n",
       " <p class=\"star-rating One\">\n",
       " <i class=\"icon-star\"></i>\n",
       " <i class=\"icon-star\"></i>\n",
       " <i class=\"icon-star\"></i>\n",
       " <i class=\"icon-star\"></i>\n",
       " <i class=\"icon-star\"></i>\n",
       " </p>\n",
       " <h3><a href=\"mesaerion-the-best-science-fiction-stories-1800-1849_983/index.html\" title=\"Mesaerion: The Best Science Fiction Stories 1800-1849\">Mesaerion: The Best Science ...</a></h3>\n",
       " <div class=\"product_price\">\n",
       " <p class=\"price_color\">Â£37.59</p>\n",
       " <p class=\"instock availability\">\n",
       " <i class=\"icon-ok\"></i>\n",
       "     \n",
       "         In stock\n",
       "     \n",
       " </p>\n",
       " <form>\n",
       " <button class=\"btn btn-primary btn-block\" data-loading-text=\"Adding...\" type=\"submit\">Add to basket</button>\n",
       " </form>\n",
       " </div>\n",
       " </article>,\n",
       " <article class=\"product_pod\">\n",
       " <div class=\"image_container\">\n",
       " <a href=\"libertarianism-for-beginners_982/index.html\"><img alt=\"Libertarianism for Beginners\" class=\"thumbnail\" src=\"../media/cache/0b/bc/0bbcd0a6f4bcd81ccb1049a52736406e.jpg\"/></a>\n",
       " </div>\n",
       " <p class=\"star-rating Two\">\n",
       " <i class=\"icon-star\"></i>\n",
       " <i class=\"icon-star\"></i>\n",
       " <i class=\"icon-star\"></i>\n",
       " <i class=\"icon-star\"></i>\n",
       " <i class=\"icon-star\"></i>\n",
       " </p>\n",
       " <h3><a href=\"libertarianism-for-beginners_982/index.html\" title=\"Libertarianism for Beginners\">Libertarianism for Beginners</a></h3>\n",
       " <div class=\"product_price\">\n",
       " <p class=\"price_color\">Â£51.33</p>\n",
       " <p class=\"instock availability\">\n",
       " <i class=\"icon-ok\"></i>\n",
       "     \n",
       "         In stock\n",
       "     \n",
       " </p>\n",
       " <form>\n",
       " <button class=\"btn btn-primary btn-block\" data-loading-text=\"Adding...\" type=\"submit\">Add to basket</button>\n",
       " </form>\n",
       " </div>\n",
       " </article>,\n",
       " <article class=\"product_pod\">\n",
       " <div class=\"image_container\">\n",
       " <a href=\"its-only-the-himalayas_981/index.html\"><img alt=\"It's Only the Himalayas\" class=\"thumbnail\" src=\"../media/cache/27/a5/27a53d0bb95bdd88288eaf66c9230d7e.jpg\"/></a>\n",
       " </div>\n",
       " <p class=\"star-rating Two\">\n",
       " <i class=\"icon-star\"></i>\n",
       " <i class=\"icon-star\"></i>\n",
       " <i class=\"icon-star\"></i>\n",
       " <i class=\"icon-star\"></i>\n",
       " <i class=\"icon-star\"></i>\n",
       " </p>\n",
       " <h3><a href=\"its-only-the-himalayas_981/index.html\" title=\"It's Only the Himalayas\">It's Only the Himalayas</a></h3>\n",
       " <div class=\"product_price\">\n",
       " <p class=\"price_color\">Â£45.17</p>\n",
       " <p class=\"instock availability\">\n",
       " <i class=\"icon-ok\"></i>\n",
       "     \n",
       "         In stock\n",
       "     \n",
       " </p>\n",
       " <form>\n",
       " <button class=\"btn btn-primary btn-block\" data-loading-text=\"Adding...\" type=\"submit\">Add to basket</button>\n",
       " </form>\n",
       " </div>\n",
       " </article>]"
      ]
     },
     "execution_count": 18,
     "metadata": {},
     "output_type": "execute_result"
    }
   ],
   "source": [
    "soup.select(\".product_pod\")"
   ]
  },
  {
   "cell_type": "code",
   "execution_count": 19,
   "id": "839d512b",
   "metadata": {},
   "outputs": [
    {
     "data": {
      "text/plain": [
       "20"
      ]
     },
     "execution_count": 19,
     "metadata": {},
     "output_type": "execute_result"
    }
   ],
   "source": [
    "len(soup.select(\".product_pod\"))"
   ]
  },
  {
   "cell_type": "markdown",
   "id": "65704e88",
   "metadata": {},
   "source": [
    "Book ex part2"
   ]
  },
  {
   "cell_type": "markdown",
   "id": "6e36e160",
   "metadata": {},
   "source": [
    "Goal to chk the 2 star rating\n",
    "setup the list"
   ]
  },
  {
   "cell_type": "code",
   "execution_count": 20,
   "id": "e6f6bb08",
   "metadata": {},
   "outputs": [],
   "source": [
    "products = soup.select(\".product_pod\")"
   ]
  },
  {
   "cell_type": "code",
   "execution_count": 21,
   "id": "a9313e14",
   "metadata": {},
   "outputs": [],
   "source": [
    "example = products[0]"
   ]
  },
  {
   "cell_type": "code",
   "execution_count": 22,
   "id": "f44c6246",
   "metadata": {},
   "outputs": [
    {
     "data": {
      "text/plain": [
       "<article class=\"product_pod\">\n",
       "<div class=\"image_container\">\n",
       "<a href=\"a-light-in-the-attic_1000/index.html\"><img alt=\"A Light in the Attic\" class=\"thumbnail\" src=\"../media/cache/2c/da/2cdad67c44b002e7ead0cc35693c0e8b.jpg\"/></a>\n",
       "</div>\n",
       "<p class=\"star-rating Three\">\n",
       "<i class=\"icon-star\"></i>\n",
       "<i class=\"icon-star\"></i>\n",
       "<i class=\"icon-star\"></i>\n",
       "<i class=\"icon-star\"></i>\n",
       "<i class=\"icon-star\"></i>\n",
       "</p>\n",
       "<h3><a href=\"a-light-in-the-attic_1000/index.html\" title=\"A Light in the Attic\">A Light in the ...</a></h3>\n",
       "<div class=\"product_price\">\n",
       "<p class=\"price_color\">Â£51.77</p>\n",
       "<p class=\"instock availability\">\n",
       "<i class=\"icon-ok\"></i>\n",
       "    \n",
       "        In stock\n",
       "    \n",
       "</p>\n",
       "<form>\n",
       "<button class=\"btn btn-primary btn-block\" data-loading-text=\"Adding...\" type=\"submit\">Add to basket</button>\n",
       "</form>\n",
       "</div>\n",
       "</article>"
      ]
     },
     "execution_count": 22,
     "metadata": {},
     "output_type": "execute_result"
    }
   ],
   "source": [
    "example"
   ]
  },
  {
   "cell_type": "markdown",
   "id": "b0d46eed",
   "metadata": {},
   "source": [
    "Convert this into string"
   ]
  },
  {
   "cell_type": "code",
   "execution_count": 23,
   "id": "2d7293fd",
   "metadata": {},
   "outputs": [
    {
     "data": {
      "text/plain": [
       "'<article class=\"product_pod\">\\n<div class=\"image_container\">\\n<a href=\"a-light-in-the-attic_1000/index.html\"><img alt=\"A Light in the Attic\" class=\"thumbnail\" src=\"../media/cache/2c/da/2cdad67c44b002e7ead0cc35693c0e8b.jpg\"/></a>\\n</div>\\n<p class=\"star-rating Three\">\\n<i class=\"icon-star\"></i>\\n<i class=\"icon-star\"></i>\\n<i class=\"icon-star\"></i>\\n<i class=\"icon-star\"></i>\\n<i class=\"icon-star\"></i>\\n</p>\\n<h3><a href=\"a-light-in-the-attic_1000/index.html\" title=\"A Light in the Attic\">A Light in the ...</a></h3>\\n<div class=\"product_price\">\\n<p class=\"price_color\">Â£51.77</p>\\n<p class=\"instock availability\">\\n<i class=\"icon-ok\"></i>\\n    \\n        In stock\\n    \\n</p>\\n<form>\\n<button class=\"btn btn-primary btn-block\" data-loading-text=\"Adding...\" type=\"submit\">Add to basket</button>\\n</form>\\n</div>\\n</article>'"
      ]
     },
     "execution_count": 23,
     "metadata": {},
     "output_type": "execute_result"
    }
   ],
   "source": [
    "str(example)"
   ]
  },
  {
   "cell_type": "code",
   "execution_count": 24,
   "id": "13181c20",
   "metadata": {},
   "outputs": [
    {
     "data": {
      "text/plain": [
       "False"
      ]
     },
     "execution_count": 24,
     "metadata": {},
     "output_type": "execute_result"
    }
   ],
   "source": [
    "'star-rating Two' in str(example)"
   ]
  },
  {
   "cell_type": "code",
   "execution_count": 25,
   "id": "10d807a9",
   "metadata": {},
   "outputs": [
    {
     "data": {
      "text/plain": [
       "True"
      ]
     },
     "execution_count": 25,
     "metadata": {},
     "output_type": "execute_result"
    }
   ],
   "source": [
    "'star-rating Three' in str(example)"
   ]
  },
  {
   "cell_type": "markdown",
   "id": "c8e51c11",
   "metadata": {},
   "source": [
    "Official Tactic what is the particular class - rating"
   ]
  },
  {
   "cell_type": "markdown",
   "id": "f82a51f4",
   "metadata": {},
   "source": [
    "Plz notice there's a space before Three"
   ]
  },
  {
   "cell_type": "code",
   "execution_count": 26,
   "id": "223f5f2c",
   "metadata": {},
   "outputs": [
    {
     "data": {
      "text/plain": [
       "[]"
      ]
     },
     "execution_count": 26,
     "metadata": {},
     "output_type": "execute_result"
    }
   ],
   "source": [
    "example.select(\".star-rating Three\")"
   ]
  },
  {
   "cell_type": "markdown",
   "id": "b6bba3d1",
   "metadata": {},
   "source": [
    "WE are going to replace space with ."
   ]
  },
  {
   "cell_type": "code",
   "execution_count": 27,
   "id": "ef054186",
   "metadata": {},
   "outputs": [
    {
     "data": {
      "text/plain": [
       "[<p class=\"star-rating Three\">\n",
       " <i class=\"icon-star\"></i>\n",
       " <i class=\"icon-star\"></i>\n",
       " <i class=\"icon-star\"></i>\n",
       " <i class=\"icon-star\"></i>\n",
       " <i class=\"icon-star\"></i>\n",
       " </p>]"
      ]
     },
     "execution_count": 27,
     "metadata": {},
     "output_type": "execute_result"
    }
   ],
   "source": [
    "example.select(\".star-rating.Three\")"
   ]
  },
  {
   "cell_type": "markdown",
   "id": "dad7c7f0",
   "metadata": {},
   "source": [
    "If i wanna search if something is incorrect -empty list"
   ]
  },
  {
   "cell_type": "code",
   "execution_count": 28,
   "id": "19ea6dea",
   "metadata": {},
   "outputs": [
    {
     "data": {
      "text/plain": [
       "[]"
      ]
     },
     "execution_count": 28,
     "metadata": {},
     "output_type": "execute_result"
    }
   ],
   "source": [
    "example.select(\".star-rating.Two\")"
   ]
  },
  {
   "cell_type": "markdown",
   "id": "c32d47e2",
   "metadata": {},
   "source": [
    "If an empty list is this below"
   ]
  },
  {
   "cell_type": "code",
   "execution_count": 29,
   "id": "bbab117d",
   "metadata": {},
   "outputs": [
    {
     "data": {
      "text/plain": [
       "True"
      ]
     },
     "execution_count": 29,
     "metadata": {},
     "output_type": "execute_result"
    }
   ],
   "source": [
    "[] == example.select(\".star-rating.Two\")"
   ]
  },
  {
   "cell_type": "code",
   "execution_count": 30,
   "id": "bca894f2",
   "metadata": {},
   "outputs": [
    {
     "data": {
      "text/plain": [
       "<article class=\"product_pod\">\n",
       "<div class=\"image_container\">\n",
       "<a href=\"a-light-in-the-attic_1000/index.html\"><img alt=\"A Light in the Attic\" class=\"thumbnail\" src=\"../media/cache/2c/da/2cdad67c44b002e7ead0cc35693c0e8b.jpg\"/></a>\n",
       "</div>\n",
       "<p class=\"star-rating Three\">\n",
       "<i class=\"icon-star\"></i>\n",
       "<i class=\"icon-star\"></i>\n",
       "<i class=\"icon-star\"></i>\n",
       "<i class=\"icon-star\"></i>\n",
       "<i class=\"icon-star\"></i>\n",
       "</p>\n",
       "<h3><a href=\"a-light-in-the-attic_1000/index.html\" title=\"A Light in the Attic\">A Light in the ...</a></h3>\n",
       "<div class=\"product_price\">\n",
       "<p class=\"price_color\">Â£51.77</p>\n",
       "<p class=\"instock availability\">\n",
       "<i class=\"icon-ok\"></i>\n",
       "    \n",
       "        In stock\n",
       "    \n",
       "</p>\n",
       "<form>\n",
       "<button class=\"btn btn-primary btn-block\" data-loading-text=\"Adding...\" type=\"submit\">Add to basket</button>\n",
       "</form>\n",
       "</div>\n",
       "</article>"
      ]
     },
     "execution_count": 30,
     "metadata": {},
     "output_type": "execute_result"
    }
   ],
   "source": [
    "example"
   ]
  },
  {
   "cell_type": "markdown",
   "id": "d3f09beb",
   "metadata": {},
   "source": [
    "Linking element"
   ]
  },
  {
   "cell_type": "code",
   "execution_count": 31,
   "id": "89ba7637",
   "metadata": {},
   "outputs": [
    {
     "data": {
      "text/plain": [
       "[<a href=\"a-light-in-the-attic_1000/index.html\"><img alt=\"A Light in the Attic\" class=\"thumbnail\" src=\"../media/cache/2c/da/2cdad67c44b002e7ead0cc35693c0e8b.jpg\"/></a>,\n",
       " <a href=\"a-light-in-the-attic_1000/index.html\" title=\"A Light in the Attic\">A Light in the ...</a>]"
      ]
     },
     "execution_count": 31,
     "metadata": {},
     "output_type": "execute_result"
    }
   ],
   "source": [
    "example.select('a')"
   ]
  },
  {
   "cell_type": "code",
   "execution_count": 32,
   "id": "5ca554fa",
   "metadata": {},
   "outputs": [
    {
     "data": {
      "text/plain": [
       "bs4.element.Tag"
      ]
     },
     "execution_count": 32,
     "metadata": {},
     "output_type": "execute_result"
    }
   ],
   "source": [
    "type(example.select('a')[1])"
   ]
  },
  {
   "cell_type": "code",
   "execution_count": 33,
   "id": "19dfcfd6",
   "metadata": {},
   "outputs": [
    {
     "data": {
      "text/plain": [
       "<a href=\"a-light-in-the-attic_1000/index.html\" title=\"A Light in the Attic\">A Light in the ...</a>"
      ]
     },
     "execution_count": 33,
     "metadata": {},
     "output_type": "execute_result"
    }
   ],
   "source": [
    "example.select('a')[1]"
   ]
  },
  {
   "cell_type": "code",
   "execution_count": 34,
   "id": "5eadb8b1",
   "metadata": {},
   "outputs": [
    {
     "data": {
      "text/plain": [
       "'A Light in the Attic'"
      ]
     },
     "execution_count": 34,
     "metadata": {},
     "output_type": "execute_result"
    }
   ],
   "source": [
    "example.select('a')[1]['title']"
   ]
  },
  {
   "cell_type": "code",
   "execution_count": 35,
   "id": "b04a4ead",
   "metadata": {},
   "outputs": [],
   "source": [
    "# We can check if something is 2 stars (string call in, example.select(rating))\n",
    "# example.select('a')[1]['title'] to grab the book title"
   ]
  },
  {
   "cell_type": "code",
   "execution_count": 38,
   "id": "66302d9a",
   "metadata": {},
   "outputs": [
    {
     "ename": "IndentationError",
     "evalue": "expected an indented block (2321993957.py, line 12)",
     "output_type": "error",
     "traceback": [
      "\u001b[1;36m  Input \u001b[1;32mIn [38]\u001b[1;36m\u001b[0m\n\u001b[1;33m    if len(book.select('.star-rating.Two')) != 0:\u001b[0m\n\u001b[1;37m                                                 ^\u001b[0m\n\u001b[1;31mIndentationError\u001b[0m\u001b[1;31m:\u001b[0m expected an indented block\n"
     ]
    }
   ],
   "source": [
    "two_star_titles = []\n",
    "\n",
    "for n in range(1,51):\n",
    "    \n",
    "    scrape_url = base_url.format(n)\n",
    "    res = requests.get(scrape_url)\n",
    "    \n",
    "    soup = bs4.BeautifulSoup(res.text,'lxml')\n",
    "    books = soup.select(\".product_pod\")\n",
    "    \n",
    "    for book in books:\n",
    "        if len(book.select('.star-rating.Two')) != 0:"
   ]
  },
  {
   "cell_type": "markdown",
   "id": "988b5cef",
   "metadata": {},
   "source": [
    "Can be an alternative way"
   ]
  },
  {
   "cell_type": "code",
   "execution_count": 39,
   "id": "7e70fbb8",
   "metadata": {},
   "outputs": [
    {
     "ename": "SyntaxError",
     "evalue": "invalid syntax (870329114.py, line 12)",
     "output_type": "error",
     "traceback": [
      "\u001b[1;36m  Input \u001b[1;32mIn [39]\u001b[1;36m\u001b[0m\n\u001b[1;33m    if 'star-rating Two' in str(book)\u001b[0m\n\u001b[1;37m                                     ^\u001b[0m\n\u001b[1;31mSyntaxError\u001b[0m\u001b[1;31m:\u001b[0m invalid syntax\n"
     ]
    }
   ],
   "source": [
    "two_star_titles = []\n",
    "\n",
    "for n in range(1,51):\n",
    "    \n",
    "    scrape_url = base_url.format(n)\n",
    "    res = requests.get(scrape_url)\n",
    "    \n",
    "    soup = bs4.BeautifulSoup(res.text,'lxml')\n",
    "    books = soup.select(\".product_pod\")\n",
    "    \n",
    "    for book in books:\n",
    "        if 'star-rating Two' in str(book)\n",
    "        \n",
    "        if len(book.select('.star-rating.Two')) != 0:"
   ]
  },
  {
   "cell_type": "code",
   "execution_count": 40,
   "id": "82fbcda7",
   "metadata": {},
   "outputs": [],
   "source": [
    "two_star_titles = []\n",
    "\n",
    "for n in range(1,51):\n",
    "    \n",
    "    scrape_url = base_url.format(n)\n",
    "    res = requests.get(scrape_url)\n",
    "    \n",
    "    soup = bs4.BeautifulSoup(res.text,'lxml')\n",
    "    books = soup.select(\".product_pod\")\n",
    "    \n",
    "    for book in books:\n",
    "        \n",
    "        if len(book.select('.star-rating.Two')) != 0:\n",
    "            book_title = book.select('a')[1]['title']\n",
    "            two_star_titles.append(book_title)"
   ]
  },
  {
   "cell_type": "code",
   "execution_count": 41,
   "id": "1b422414",
   "metadata": {},
   "outputs": [
    {
     "data": {
      "text/plain": [
       "['Starving Hearts (Triangular Trade Trilogy, #1)',\n",
       " 'Libertarianism for Beginners',\n",
       " \"It's Only the Himalayas\",\n",
       " 'How Music Works',\n",
       " 'Maude (1883-1993):She Grew Up with the country',\n",
       " \"You can't bury them all: Poems\",\n",
       " 'Reasons to Stay Alive',\n",
       " 'Without Borders (Wanderlove #1)',\n",
       " 'Soul Reader',\n",
       " 'Security',\n",
       " 'Saga, Volume 5 (Saga (Collected Editions) #5)',\n",
       " 'Reskilling America: Learning to Labor in the Twenty-First Century',\n",
       " 'Political Suicide: Missteps, Peccadilloes, Bad Calls, Backroom Hijinx, Sordid Pasts, Rotten Breaks, and Just Plain Dumb Mistakes in the Annals of American Politics',\n",
       " 'Obsidian (Lux #1)',\n",
       " 'My Paris Kitchen: Recipes and Stories',\n",
       " 'Masks and Shadows',\n",
       " 'Lumberjanes, Vol. 2: Friendship to the Max (Lumberjanes #5-8)',\n",
       " 'Lumberjanes Vol. 3: A Terrible Plan (Lumberjanes #9-12)',\n",
       " 'Judo: Seven Steps to Black Belt (an Introductory Guide for Beginners)',\n",
       " 'I Hate Fairyland, Vol. 1: Madly Ever After (I Hate Fairyland (Compilations) #1-5)',\n",
       " 'Giant Days, Vol. 2 (Giant Days #5-8)',\n",
       " 'Everydata: The Misinformation Hidden in the Little Data You Consume Every Day',\n",
       " \"Don't Be a Jerk: And Other Practical Advice from Dogen, Japan's Greatest Zen Master\",\n",
       " 'Bossypants',\n",
       " 'Bitch Planet, Vol. 1: Extraordinary Machine (Bitch Planet (Collected Editions))',\n",
       " 'Avatar: The Last Airbender: Smoke and Shadow, Part 3 (Smoke and Shadow #3)',\n",
       " 'Tuesday Nights in 1980',\n",
       " 'The Psychopath Test: A Journey Through the Madness Industry',\n",
       " 'The Power of Now: A Guide to Spiritual Enlightenment',\n",
       " \"The Omnivore's Dilemma: A Natural History of Four Meals\",\n",
       " 'The Love and Lemons Cookbook: An Apple-to-Zucchini Celebration of Impromptu Cooking',\n",
       " 'The Girl on the Train',\n",
       " 'The Emerald Mystery',\n",
       " 'The Argonauts',\n",
       " 'Suddenly in Love (Lake Haven #1)',\n",
       " 'Soft Apocalypse',\n",
       " \"So You've Been Publicly Shamed\",\n",
       " 'Shoe Dog: A Memoir by the Creator of NIKE',\n",
       " 'Louisa: The Extraordinary Life of Mrs. Adams',\n",
       " 'Large Print Heart of the Pride',\n",
       " 'Grumbles',\n",
       " 'Chasing Heaven: What Dying Taught Me About Living',\n",
       " 'Becoming Wise: An Inquiry into the Mystery and Art of Living',\n",
       " 'Beauty Restored (Riley Family Legacy Novellas #3)',\n",
       " 'Batman: The Long Halloween (Batman)',\n",
       " \"Ayumi's Violin\",\n",
       " 'Wild Swans',\n",
       " \"What's It Like in Space?: Stories from Astronauts Who've Been There\",\n",
       " 'Until Friday Night (The Field Party #1)',\n",
       " 'Unbroken: A World War II Story of Survival, Resilience, and Redemption',\n",
       " 'Twenty Yawns',\n",
       " 'Through the Woods',\n",
       " 'This Is Where It Ends',\n",
       " 'The Year of Magical Thinking',\n",
       " 'The Last Mile (Amos Decker #2)',\n",
       " 'The Immortal Life of Henrietta Lacks',\n",
       " 'The Hidden Oracle (The Trials of Apollo #1)',\n",
       " 'The Guilty (Will Robie #4)',\n",
       " 'Red Hood/Arsenal, Vol. 1: Open for Business (Red Hood/Arsenal #1)',\n",
       " 'Once Was a Time',\n",
       " 'No Dream Is Too High: Life Lessons From a Man Who Walked on the Moon',\n",
       " 'Naruto (3-in-1 Edition), Vol. 14: Includes Vols. 40, 41 & 42 (Naruto: Omnibus #14)',\n",
       " 'More Than Music (Chasing the Dream #1)',\n",
       " 'Lowriders to the Center of the Earth (Lowriders in Space #2)',\n",
       " 'Eat Fat, Get Thin',\n",
       " 'Doctor Sleep (The Shining #2)',\n",
       " 'Crazy Love: Overwhelmed by a Relentless God',\n",
       " 'Carrie',\n",
       " 'Batman: Europa',\n",
       " 'Angels Walking (Angels Walking #1)',\n",
       " 'Adulthood Is a Myth: A \"Sarah\\'s Scribbles\" Collection',\n",
       " 'A Study in Scarlet (Sherlock Holmes #1)',\n",
       " 'A Series of Catastrophes and Miracles: A True Story of Love, Science, and Cancer',\n",
       " \"A People's History of the United States\",\n",
       " 'My Kitchen Year: 136 Recipes That Saved My Life',\n",
       " 'The Lonely City: Adventures in the Art of Being Alone',\n",
       " 'The Dinner Party',\n",
       " 'Stars Above (The Lunar Chronicles #4.5)',\n",
       " 'Love, Lies and Spies',\n",
       " 'Troublemaker: Surviving Hollywood and Scientology',\n",
       " 'The Widow',\n",
       " 'Setting the World on Fire: The Brief, Astonishing Life of St. Catherine of Siena',\n",
       " 'Mothering Sunday',\n",
       " 'Lilac Girls',\n",
       " '10% Happier: How I Tamed the Voice in My Head, Reduced Stress Without Losing My Edge, and Found Self-Help That Actually Works',\n",
       " 'Underlying Notes',\n",
       " 'The Flowers Lied',\n",
       " 'Modern Day Fables',\n",
       " \"Chernobyl 01:23:40: The Incredible True Story of the World's Worst Nuclear Disaster\",\n",
       " '23 Degrees South: A Tropical Tale of Changing Whether...',\n",
       " 'When Breath Becomes Air',\n",
       " 'Vagabonding: An Uncommon Guide to the Art of Long-Term World Travel',\n",
       " 'The Martian (The Martian #1)',\n",
       " \"Miller's Valley\",\n",
       " \"Love That Boy: What Two Presidents, Eight Road Trips, and My Son Taught Me About a Parent's Expectations\",\n",
       " 'Left Behind (Left Behind #1)',\n",
       " 'Howl and Other Poems',\n",
       " \"Heaven is for Real: A Little Boy's Astounding Story of His Trip to Heaven and Back\",\n",
       " \"Brazen: The Courage to Find the You That's Been Hiding\",\n",
       " '32 Yolks',\n",
       " 'Wildlife of New York: A Five-Borough Coloring Book',\n",
       " 'Unreasonable Hope: Finding Faith in the God Who Brings Purpose to Your Pain',\n",
       " 'The Art Book',\n",
       " 'Steal Like an Artist: 10 Things Nobody Told You About Being Creative',\n",
       " 'Raymie Nightingale',\n",
       " 'Like Never Before (Walker Family #2)',\n",
       " 'How to Be a Domestic Goddess: Baking and the Art of Comfort Cooking',\n",
       " 'Finding God in the Ruins: How God Redeems Pain',\n",
       " 'Chronicles, Vol. 1',\n",
       " 'A Summer In Europe',\n",
       " 'The Rise and Fall of the Third Reich: A History of Nazi Germany',\n",
       " 'The Makings of a Fatherless Child',\n",
       " 'The Fellowship of the Ring (The Lord of the Rings #1)',\n",
       " \"Tell the Wolves I'm Home\",\n",
       " 'In the Woods (Dublin Murder Squad #1)',\n",
       " 'Give It Back',\n",
       " 'Why Save the Bankers?: And Other Essays on Our Economic and Political Crisis',\n",
       " 'The Raven King (The Raven Cycle #4)',\n",
       " 'The Expatriates',\n",
       " 'The 5th Wave (The 5th Wave #1)',\n",
       " 'Peak: Secrets from the New Science of Expertise',\n",
       " 'Logan Kade (Fallen Crest High #5.5)',\n",
       " \"I Know Why the Caged Bird Sings (Maya Angelou's Autobiography #1)\",\n",
       " 'Drama',\n",
       " \"America's War for the Greater Middle East: A Military History\",\n",
       " 'A Game of Thrones (A Song of Ice and Fire #1)',\n",
       " \"The Pilgrim's Progress\",\n",
       " 'The Hound of the Baskervilles (Sherlock Holmes #5)',\n",
       " \"The Geography of Bliss: One Grump's Search for the Happiest Places in the World\",\n",
       " 'The Demonists (Demonist #1)',\n",
       " 'The Demon Prince of Momochi House, Vol. 4 (The Demon Prince of Momochi House #4)',\n",
       " 'Misery',\n",
       " 'Far From True (Promise Falls Trilogy #2)',\n",
       " 'Confessions of a Shopaholic (Shopaholic #1)',\n",
       " 'Vegan Vegetarian Omnivore: Dinner for Everyone at the Table',\n",
       " 'Two Boys Kissing',\n",
       " 'Twilight (Twilight #1)',\n",
       " 'Twenties Girl',\n",
       " 'The Tipping Point: How Little Things Can Make a Big Difference',\n",
       " 'The Stand',\n",
       " 'The Picture of Dorian Gray',\n",
       " 'The Name of God is Mercy',\n",
       " \"The Lover's Dictionary\",\n",
       " 'The Last Painting of Sara de Vos',\n",
       " 'The Guns of August',\n",
       " 'The Girl Who Played with Fire (Millennium Trilogy #2)',\n",
       " 'The Da Vinci Code (Robert Langdon #2)',\n",
       " 'The Cat in the Hat (Beginner Books B-1)',\n",
       " 'The Book Thief',\n",
       " 'The Autobiography of Malcolm X',\n",
       " \"Surely You're Joking, Mr. Feynman!: Adventures of a Curious Character\",\n",
       " 'Soldier (Talon #3)',\n",
       " 'Shopaholic & Baby (Shopaholic #5)',\n",
       " 'Seven Days in the Art World',\n",
       " 'Rework',\n",
       " 'Packing for Mars: The Curious Science of Life in the Void',\n",
       " 'Orange Is the New Black',\n",
       " 'One for the Money (Stephanie Plum #1)',\n",
       " 'Midnight Riot (Peter Grant/ Rivers of London - books #1)',\n",
       " 'Me Talk Pretty One Day',\n",
       " 'Manuscript Found in Accra',\n",
       " 'Lust & Wonder',\n",
       " \"Life, the Universe and Everything (Hitchhiker's Guide to the Galaxy #3)\",\n",
       " 'Life After Life',\n",
       " 'I Am Malala: The Girl Who Stood Up for Education and Was Shot by the Taliban',\n",
       " 'House of Lost Worlds: Dinosaurs, Dynasties, and the Story of Life on Earth',\n",
       " 'Horrible Bear!',\n",
       " 'Holidays on Ice',\n",
       " 'Girl in the Blue Coat',\n",
       " 'Fruits Basket, Vol. 3 (Fruits Basket #3)',\n",
       " 'Cosmos',\n",
       " 'Civilization and Its Discontents',\n",
       " \"Catastrophic Happiness: Finding Joy in Childhood's Messy Years\",\n",
       " 'Career of Evil (Cormoran Strike #3)',\n",
       " 'Born to Run: A Hidden Tribe, Superathletes, and the Greatest Race the World Has Never Seen',\n",
       " \"Best of My Love (Fool's Gold #20)\",\n",
       " 'Beowulf',\n",
       " 'Awkward',\n",
       " 'And Then There Were None',\n",
       " 'A Storm of Swords (A Song of Ice and Fire #3)',\n",
       " 'The Suffragettes (Little Black Classics, #96)',\n",
       " 'Vampire Girl (Vampire Girl #1)',\n",
       " 'Three Wishes (River of Time: California #1)',\n",
       " 'The Wicked + The Divine, Vol. 1: The Faust Act (The Wicked + The Divine)',\n",
       " 'The Little Prince',\n",
       " 'The Last Girl (The Dominion Trilogy #1)',\n",
       " 'Taking Shots (Assassins #1)',\n",
       " 'Settling the Score (The Summer Games #1)',\n",
       " 'Rhythm, Chord & Malykhin',\n",
       " 'One Second (Seven #7)',\n",
       " \"Old Records Never Die: One Man's Quest for His Vinyl and His Past\",\n",
       " 'Of Mice and Men',\n",
       " 'My Perfect Mistake (Over the Top #1)',\n",
       " 'Meditations',\n",
       " 'Frankenstein',\n",
       " 'Emma']"
      ]
     },
     "execution_count": 41,
     "metadata": {},
     "output_type": "execute_result"
    }
   ],
   "source": [
    "two_star_titles"
   ]
  },
  {
   "cell_type": "markdown",
   "id": "06695f87",
   "metadata": {},
   "source": [
    "task complete HW"
   ]
  },
  {
   "cell_type": "code",
   "execution_count": 42,
   "id": "bdd5f897",
   "metadata": {},
   "outputs": [],
   "source": [
    "import requests"
   ]
  },
  {
   "cell_type": "code",
   "execution_count": 43,
   "id": "ac3e28c4",
   "metadata": {},
   "outputs": [],
   "source": [
    "import bs4"
   ]
  },
  {
   "cell_type": "markdown",
   "id": "3e60844a",
   "metadata": {},
   "source": [
    "TASK: Use requests library and BeautifulSoup to connect to http://quotes.toscrape.com/ and get the HMTL text from the homepage."
   ]
  },
  {
   "cell_type": "code",
   "execution_count": 44,
   "id": "682c3226",
   "metadata": {},
   "outputs": [],
   "source": [
    "res = requests.get(\"http://quotes.toscrape.com\")"
   ]
  },
  {
   "cell_type": "code",
   "execution_count": 45,
   "id": "3a001d94",
   "metadata": {},
   "outputs": [
    {
     "data": {
      "text/plain": [
       "'<!DOCTYPE html>\\n<html lang=\"en\">\\n<head>\\n\\t<meta charset=\"UTF-8\">\\n\\t<title>Quotes to Scrape</title>\\n    <link rel=\"stylesheet\" href=\"/static/bootstrap.min.css\">\\n    <link rel=\"stylesheet\" href=\"/static/main.css\">\\n</head>\\n<body>\\n    <div class=\"container\">\\n        <div class=\"row header-box\">\\n            <div class=\"col-md-8\">\\n                <h1>\\n                    <a href=\"/\" style=\"text-decoration: none\">Quotes to Scrape</a>\\n                </h1>\\n            </div>\\n            <div class=\"col-md-4\">\\n                <p>\\n                \\n                    <a href=\"/login\">Login</a>\\n                \\n                </p>\\n            </div>\\n        </div>\\n    \\n\\n<div class=\"row\">\\n    <div class=\"col-md-8\">\\n\\n    <div class=\"quote\" itemscope itemtype=\"http://schema.org/CreativeWork\">\\n        <span class=\"text\" itemprop=\"text\">“The world as we have created it is a process of our thinking. It cannot be changed without changing our thinking.”</span>\\n        <span>by <small class=\"author\" itemprop=\"author\">Albert Einstein</small>\\n        <a href=\"/author/Albert-Einstein\">(about)</a>\\n        </span>\\n        <div class=\"tags\">\\n            Tags:\\n            <meta class=\"keywords\" itemprop=\"keywords\" content=\"change,deep-thoughts,thinking,world\" /    > \\n            \\n            <a class=\"tag\" href=\"/tag/change/page/1/\">change</a>\\n            \\n            <a class=\"tag\" href=\"/tag/deep-thoughts/page/1/\">deep-thoughts</a>\\n            \\n            <a class=\"tag\" href=\"/tag/thinking/page/1/\">thinking</a>\\n            \\n            <a class=\"tag\" href=\"/tag/world/page/1/\">world</a>\\n            \\n        </div>\\n    </div>\\n\\n    <div class=\"quote\" itemscope itemtype=\"http://schema.org/CreativeWork\">\\n        <span class=\"text\" itemprop=\"text\">“It is our choices, Harry, that show what we truly are, far more than our abilities.”</span>\\n        <span>by <small class=\"author\" itemprop=\"author\">J.K. Rowling</small>\\n        <a href=\"/author/J-K-Rowling\">(about)</a>\\n        </span>\\n        <div class=\"tags\">\\n            Tags:\\n            <meta class=\"keywords\" itemprop=\"keywords\" content=\"abilities,choices\" /    > \\n            \\n            <a class=\"tag\" href=\"/tag/abilities/page/1/\">abilities</a>\\n            \\n            <a class=\"tag\" href=\"/tag/choices/page/1/\">choices</a>\\n            \\n        </div>\\n    </div>\\n\\n    <div class=\"quote\" itemscope itemtype=\"http://schema.org/CreativeWork\">\\n        <span class=\"text\" itemprop=\"text\">“There are only two ways to live your life. One is as though nothing is a miracle. The other is as though everything is a miracle.”</span>\\n        <span>by <small class=\"author\" itemprop=\"author\">Albert Einstein</small>\\n        <a href=\"/author/Albert-Einstein\">(about)</a>\\n        </span>\\n        <div class=\"tags\">\\n            Tags:\\n            <meta class=\"keywords\" itemprop=\"keywords\" content=\"inspirational,life,live,miracle,miracles\" /    > \\n            \\n            <a class=\"tag\" href=\"/tag/inspirational/page/1/\">inspirational</a>\\n            \\n            <a class=\"tag\" href=\"/tag/life/page/1/\">life</a>\\n            \\n            <a class=\"tag\" href=\"/tag/live/page/1/\">live</a>\\n            \\n            <a class=\"tag\" href=\"/tag/miracle/page/1/\">miracle</a>\\n            \\n            <a class=\"tag\" href=\"/tag/miracles/page/1/\">miracles</a>\\n            \\n        </div>\\n    </div>\\n\\n    <div class=\"quote\" itemscope itemtype=\"http://schema.org/CreativeWork\">\\n        <span class=\"text\" itemprop=\"text\">“The person, be it gentleman or lady, who has not pleasure in a good novel, must be intolerably stupid.”</span>\\n        <span>by <small class=\"author\" itemprop=\"author\">Jane Austen</small>\\n        <a href=\"/author/Jane-Austen\">(about)</a>\\n        </span>\\n        <div class=\"tags\">\\n            Tags:\\n            <meta class=\"keywords\" itemprop=\"keywords\" content=\"aliteracy,books,classic,humor\" /    > \\n            \\n            <a class=\"tag\" href=\"/tag/aliteracy/page/1/\">aliteracy</a>\\n            \\n            <a class=\"tag\" href=\"/tag/books/page/1/\">books</a>\\n            \\n            <a class=\"tag\" href=\"/tag/classic/page/1/\">classic</a>\\n            \\n            <a class=\"tag\" href=\"/tag/humor/page/1/\">humor</a>\\n            \\n        </div>\\n    </div>\\n\\n    <div class=\"quote\" itemscope itemtype=\"http://schema.org/CreativeWork\">\\n        <span class=\"text\" itemprop=\"text\">“Imperfection is beauty, madness is genius and it&#39;s better to be absolutely ridiculous than absolutely boring.”</span>\\n        <span>by <small class=\"author\" itemprop=\"author\">Marilyn Monroe</small>\\n        <a href=\"/author/Marilyn-Monroe\">(about)</a>\\n        </span>\\n        <div class=\"tags\">\\n            Tags:\\n            <meta class=\"keywords\" itemprop=\"keywords\" content=\"be-yourself,inspirational\" /    > \\n            \\n            <a class=\"tag\" href=\"/tag/be-yourself/page/1/\">be-yourself</a>\\n            \\n            <a class=\"tag\" href=\"/tag/inspirational/page/1/\">inspirational</a>\\n            \\n        </div>\\n    </div>\\n\\n    <div class=\"quote\" itemscope itemtype=\"http://schema.org/CreativeWork\">\\n        <span class=\"text\" itemprop=\"text\">“Try not to become a man of success. Rather become a man of value.”</span>\\n        <span>by <small class=\"author\" itemprop=\"author\">Albert Einstein</small>\\n        <a href=\"/author/Albert-Einstein\">(about)</a>\\n        </span>\\n        <div class=\"tags\">\\n            Tags:\\n            <meta class=\"keywords\" itemprop=\"keywords\" content=\"adulthood,success,value\" /    > \\n            \\n            <a class=\"tag\" href=\"/tag/adulthood/page/1/\">adulthood</a>\\n            \\n            <a class=\"tag\" href=\"/tag/success/page/1/\">success</a>\\n            \\n            <a class=\"tag\" href=\"/tag/value/page/1/\">value</a>\\n            \\n        </div>\\n    </div>\\n\\n    <div class=\"quote\" itemscope itemtype=\"http://schema.org/CreativeWork\">\\n        <span class=\"text\" itemprop=\"text\">“It is better to be hated for what you are than to be loved for what you are not.”</span>\\n        <span>by <small class=\"author\" itemprop=\"author\">André Gide</small>\\n        <a href=\"/author/Andre-Gide\">(about)</a>\\n        </span>\\n        <div class=\"tags\">\\n            Tags:\\n            <meta class=\"keywords\" itemprop=\"keywords\" content=\"life,love\" /    > \\n            \\n            <a class=\"tag\" href=\"/tag/life/page/1/\">life</a>\\n            \\n            <a class=\"tag\" href=\"/tag/love/page/1/\">love</a>\\n            \\n        </div>\\n    </div>\\n\\n    <div class=\"quote\" itemscope itemtype=\"http://schema.org/CreativeWork\">\\n        <span class=\"text\" itemprop=\"text\">“I have not failed. I&#39;ve just found 10,000 ways that won&#39;t work.”</span>\\n        <span>by <small class=\"author\" itemprop=\"author\">Thomas A. Edison</small>\\n        <a href=\"/author/Thomas-A-Edison\">(about)</a>\\n        </span>\\n        <div class=\"tags\">\\n            Tags:\\n            <meta class=\"keywords\" itemprop=\"keywords\" content=\"edison,failure,inspirational,paraphrased\" /    > \\n            \\n            <a class=\"tag\" href=\"/tag/edison/page/1/\">edison</a>\\n            \\n            <a class=\"tag\" href=\"/tag/failure/page/1/\">failure</a>\\n            \\n            <a class=\"tag\" href=\"/tag/inspirational/page/1/\">inspirational</a>\\n            \\n            <a class=\"tag\" href=\"/tag/paraphrased/page/1/\">paraphrased</a>\\n            \\n        </div>\\n    </div>\\n\\n    <div class=\"quote\" itemscope itemtype=\"http://schema.org/CreativeWork\">\\n        <span class=\"text\" itemprop=\"text\">“A woman is like a tea bag; you never know how strong it is until it&#39;s in hot water.”</span>\\n        <span>by <small class=\"author\" itemprop=\"author\">Eleanor Roosevelt</small>\\n        <a href=\"/author/Eleanor-Roosevelt\">(about)</a>\\n        </span>\\n        <div class=\"tags\">\\n            Tags:\\n            <meta class=\"keywords\" itemprop=\"keywords\" content=\"misattributed-eleanor-roosevelt\" /    > \\n            \\n            <a class=\"tag\" href=\"/tag/misattributed-eleanor-roosevelt/page/1/\">misattributed-eleanor-roosevelt</a>\\n            \\n        </div>\\n    </div>\\n\\n    <div class=\"quote\" itemscope itemtype=\"http://schema.org/CreativeWork\">\\n        <span class=\"text\" itemprop=\"text\">“A day without sunshine is like, you know, night.”</span>\\n        <span>by <small class=\"author\" itemprop=\"author\">Steve Martin</small>\\n        <a href=\"/author/Steve-Martin\">(about)</a>\\n        </span>\\n        <div class=\"tags\">\\n            Tags:\\n            <meta class=\"keywords\" itemprop=\"keywords\" content=\"humor,obvious,simile\" /    > \\n            \\n            <a class=\"tag\" href=\"/tag/humor/page/1/\">humor</a>\\n            \\n            <a class=\"tag\" href=\"/tag/obvious/page/1/\">obvious</a>\\n            \\n            <a class=\"tag\" href=\"/tag/simile/page/1/\">simile</a>\\n            \\n        </div>\\n    </div>\\n\\n    <nav>\\n        <ul class=\"pager\">\\n            \\n            \\n            <li class=\"next\">\\n                <a href=\"/page/2/\">Next <span aria-hidden=\"true\">&rarr;</span></a>\\n            </li>\\n            \\n        </ul>\\n    </nav>\\n    </div>\\n    <div class=\"col-md-4 tags-box\">\\n        \\n            <h2>Top Ten tags</h2>\\n            \\n            <span class=\"tag-item\">\\n            <a class=\"tag\" style=\"font-size: 28px\" href=\"/tag/love/\">love</a>\\n            </span>\\n            \\n            <span class=\"tag-item\">\\n            <a class=\"tag\" style=\"font-size: 26px\" href=\"/tag/inspirational/\">inspirational</a>\\n            </span>\\n            \\n            <span class=\"tag-item\">\\n            <a class=\"tag\" style=\"font-size: 26px\" href=\"/tag/life/\">life</a>\\n            </span>\\n            \\n            <span class=\"tag-item\">\\n            <a class=\"tag\" style=\"font-size: 24px\" href=\"/tag/humor/\">humor</a>\\n            </span>\\n            \\n            <span class=\"tag-item\">\\n            <a class=\"tag\" style=\"font-size: 22px\" href=\"/tag/books/\">books</a>\\n            </span>\\n            \\n            <span class=\"tag-item\">\\n            <a class=\"tag\" style=\"font-size: 14px\" href=\"/tag/reading/\">reading</a>\\n            </span>\\n            \\n            <span class=\"tag-item\">\\n            <a class=\"tag\" style=\"font-size: 10px\" href=\"/tag/friendship/\">friendship</a>\\n            </span>\\n            \\n            <span class=\"tag-item\">\\n            <a class=\"tag\" style=\"font-size: 8px\" href=\"/tag/friends/\">friends</a>\\n            </span>\\n            \\n            <span class=\"tag-item\">\\n            <a class=\"tag\" style=\"font-size: 8px\" href=\"/tag/truth/\">truth</a>\\n            </span>\\n            \\n            <span class=\"tag-item\">\\n            <a class=\"tag\" style=\"font-size: 6px\" href=\"/tag/simile/\">simile</a>\\n            </span>\\n            \\n        \\n    </div>\\n</div>\\n\\n    </div>\\n    <footer class=\"footer\">\\n        <div class=\"container\">\\n            <p class=\"text-muted\">\\n                Quotes by: <a href=\"https://www.goodreads.com/quotes\">GoodReads.com</a>\\n            </p>\\n            <p class=\"copyright\">\\n                Made with <span class=\\'sh-red\\'>❤</span> by <a href=\"https://scrapinghub.com\">Scrapinghub</a>\\n            </p>\\n        </div>\\n    </footer>\\n</body>\\n</html>'"
      ]
     },
     "execution_count": 45,
     "metadata": {},
     "output_type": "execute_result"
    }
   ],
   "source": [
    "res.text"
   ]
  },
  {
   "cell_type": "markdown",
   "id": "b8b3900f",
   "metadata": {},
   "source": [
    "TASK: Get the names of all the authors on the first page."
   ]
  },
  {
   "cell_type": "code",
   "execution_count": 46,
   "id": "e086ae81",
   "metadata": {},
   "outputs": [],
   "source": [
    "soup = bs4.BeautifulSoup(res.text,'lxml')"
   ]
  },
  {
   "cell_type": "code",
   "execution_count": 47,
   "id": "771800eb",
   "metadata": {},
   "outputs": [
    {
     "data": {
      "text/plain": [
       "[<small class=\"author\" itemprop=\"author\">Albert Einstein</small>,\n",
       " <small class=\"author\" itemprop=\"author\">J.K. Rowling</small>,\n",
       " <small class=\"author\" itemprop=\"author\">Albert Einstein</small>,\n",
       " <small class=\"author\" itemprop=\"author\">Jane Austen</small>,\n",
       " <small class=\"author\" itemprop=\"author\">Marilyn Monroe</small>,\n",
       " <small class=\"author\" itemprop=\"author\">Albert Einstein</small>,\n",
       " <small class=\"author\" itemprop=\"author\">André Gide</small>,\n",
       " <small class=\"author\" itemprop=\"author\">Thomas A. Edison</small>,\n",
       " <small class=\"author\" itemprop=\"author\">Eleanor Roosevelt</small>,\n",
       " <small class=\"author\" itemprop=\"author\">Steve Martin</small>]"
      ]
     },
     "execution_count": 47,
     "metadata": {},
     "output_type": "execute_result"
    }
   ],
   "source": [
    "soup.select('.author')"
   ]
  },
  {
   "cell_type": "code",
   "execution_count": 48,
   "id": "3aa6f5e5",
   "metadata": {},
   "outputs": [],
   "source": [
    "authors = set() \n",
    "\n",
    "for name in soup.select(\".author\"):\n",
    "    authors.add(name.text)"
   ]
  },
  {
   "cell_type": "code",
   "execution_count": 49,
   "id": "752cd487",
   "metadata": {},
   "outputs": [
    {
     "data": {
      "text/plain": [
       "{'Albert Einstein',\n",
       " 'André Gide',\n",
       " 'Eleanor Roosevelt',\n",
       " 'J.K. Rowling',\n",
       " 'Jane Austen',\n",
       " 'Marilyn Monroe',\n",
       " 'Steve Martin',\n",
       " 'Thomas A. Edison'}"
      ]
     },
     "execution_count": 49,
     "metadata": {},
     "output_type": "execute_result"
    }
   ],
   "source": [
    "authors"
   ]
  },
  {
   "cell_type": "markdown",
   "id": "00136a2f",
   "metadata": {},
   "source": [
    "TASK: Create a list of all the quotes on the first page."
   ]
  },
  {
   "cell_type": "code",
   "execution_count": 50,
   "id": "02ec79e2",
   "metadata": {},
   "outputs": [
    {
     "data": {
      "text/plain": [
       "[<span class=\"text\" itemprop=\"text\">“The world as we have created it is a process of our thinking. It cannot be changed without changing our thinking.”</span>,\n",
       " <span class=\"text\" itemprop=\"text\">“It is our choices, Harry, that show what we truly are, far more than our abilities.”</span>,\n",
       " <span class=\"text\" itemprop=\"text\">“There are only two ways to live your life. One is as though nothing is a miracle. The other is as though everything is a miracle.”</span>,\n",
       " <span class=\"text\" itemprop=\"text\">“The person, be it gentleman or lady, who has not pleasure in a good novel, must be intolerably stupid.”</span>,\n",
       " <span class=\"text\" itemprop=\"text\">“Imperfection is beauty, madness is genius and it's better to be absolutely ridiculous than absolutely boring.”</span>,\n",
       " <span class=\"text\" itemprop=\"text\">“Try not to become a man of success. Rather become a man of value.”</span>,\n",
       " <span class=\"text\" itemprop=\"text\">“It is better to be hated for what you are than to be loved for what you are not.”</span>,\n",
       " <span class=\"text\" itemprop=\"text\">“I have not failed. I've just found 10,000 ways that won't work.”</span>,\n",
       " <span class=\"text\" itemprop=\"text\">“A woman is like a tea bag; you never know how strong it is until it's in hot water.”</span>,\n",
       " <span class=\"text\" itemprop=\"text\">“A day without sunshine is like, you know, night.”</span>]"
      ]
     },
     "execution_count": 50,
     "metadata": {},
     "output_type": "execute_result"
    }
   ],
   "source": [
    "soup.select('.text')"
   ]
  },
  {
   "cell_type": "code",
   "execution_count": 51,
   "id": "513c15c2",
   "metadata": {},
   "outputs": [],
   "source": [
    "quotes = []\n",
    "for quote in soup.select('.text'):\n",
    "    quotes.append(quote.text)"
   ]
  },
  {
   "cell_type": "code",
   "execution_count": 52,
   "id": "a60943cf",
   "metadata": {},
   "outputs": [
    {
     "data": {
      "text/plain": [
       "['“The world as we have created it is a process of our thinking. It cannot be changed without changing our thinking.”',\n",
       " '“It is our choices, Harry, that show what we truly are, far more than our abilities.”',\n",
       " '“There are only two ways to live your life. One is as though nothing is a miracle. The other is as though everything is a miracle.”',\n",
       " '“The person, be it gentleman or lady, who has not pleasure in a good novel, must be intolerably stupid.”',\n",
       " \"“Imperfection is beauty, madness is genius and it's better to be absolutely ridiculous than absolutely boring.”\",\n",
       " '“Try not to become a man of success. Rather become a man of value.”',\n",
       " '“It is better to be hated for what you are than to be loved for what you are not.”',\n",
       " \"“I have not failed. I've just found 10,000 ways that won't work.”\",\n",
       " \"“A woman is like a tea bag; you never know how strong it is until it's in hot water.”\",\n",
       " '“A day without sunshine is like, you know, night.”']"
      ]
     },
     "execution_count": 52,
     "metadata": {},
     "output_type": "execute_result"
    }
   ],
   "source": [
    "quotes"
   ]
  },
  {
   "cell_type": "code",
   "execution_count": 53,
   "id": "f8a4753f",
   "metadata": {},
   "outputs": [
    {
     "data": {
      "text/plain": [
       "[<span class=\"tag-item\">\n",
       " <a class=\"tag\" href=\"/tag/love/\" style=\"font-size: 28px\">love</a>\n",
       " </span>,\n",
       " <span class=\"tag-item\">\n",
       " <a class=\"tag\" href=\"/tag/inspirational/\" style=\"font-size: 26px\">inspirational</a>\n",
       " </span>,\n",
       " <span class=\"tag-item\">\n",
       " <a class=\"tag\" href=\"/tag/life/\" style=\"font-size: 26px\">life</a>\n",
       " </span>,\n",
       " <span class=\"tag-item\">\n",
       " <a class=\"tag\" href=\"/tag/humor/\" style=\"font-size: 24px\">humor</a>\n",
       " </span>,\n",
       " <span class=\"tag-item\">\n",
       " <a class=\"tag\" href=\"/tag/books/\" style=\"font-size: 22px\">books</a>\n",
       " </span>,\n",
       " <span class=\"tag-item\">\n",
       " <a class=\"tag\" href=\"/tag/reading/\" style=\"font-size: 14px\">reading</a>\n",
       " </span>,\n",
       " <span class=\"tag-item\">\n",
       " <a class=\"tag\" href=\"/tag/friendship/\" style=\"font-size: 10px\">friendship</a>\n",
       " </span>,\n",
       " <span class=\"tag-item\">\n",
       " <a class=\"tag\" href=\"/tag/friends/\" style=\"font-size: 8px\">friends</a>\n",
       " </span>,\n",
       " <span class=\"tag-item\">\n",
       " <a class=\"tag\" href=\"/tag/truth/\" style=\"font-size: 8px\">truth</a>\n",
       " </span>,\n",
       " <span class=\"tag-item\">\n",
       " <a class=\"tag\" href=\"/tag/simile/\" style=\"font-size: 6px\">simile</a>\n",
       " </span>]"
      ]
     },
     "execution_count": 53,
     "metadata": {},
     "output_type": "execute_result"
    }
   ],
   "source": [
    "soup.select('.tag-item')"
   ]
  },
  {
   "cell_type": "code",
   "execution_count": 54,
   "id": "70406782",
   "metadata": {},
   "outputs": [
    {
     "data": {
      "text/plain": [
       "10"
      ]
     },
     "execution_count": 54,
     "metadata": {},
     "output_type": "execute_result"
    }
   ],
   "source": [
    "len(soup.select('.tag-item'))"
   ]
  },
  {
   "cell_type": "code",
   "execution_count": 55,
   "id": "0f9efc8c",
   "metadata": {},
   "outputs": [
    {
     "data": {
      "text/plain": [
       "[<span class=\"tag-item\">\n",
       " <a class=\"tag\" href=\"/tag/love/\" style=\"font-size: 28px\">love</a>\n",
       " </span>,\n",
       " <span class=\"tag-item\">\n",
       " <a class=\"tag\" href=\"/tag/inspirational/\" style=\"font-size: 26px\">inspirational</a>\n",
       " </span>,\n",
       " <span class=\"tag-item\">\n",
       " <a class=\"tag\" href=\"/tag/life/\" style=\"font-size: 26px\">life</a>\n",
       " </span>,\n",
       " <span class=\"tag-item\">\n",
       " <a class=\"tag\" href=\"/tag/humor/\" style=\"font-size: 24px\">humor</a>\n",
       " </span>,\n",
       " <span class=\"tag-item\">\n",
       " <a class=\"tag\" href=\"/tag/books/\" style=\"font-size: 22px\">books</a>\n",
       " </span>,\n",
       " <span class=\"tag-item\">\n",
       " <a class=\"tag\" href=\"/tag/reading/\" style=\"font-size: 14px\">reading</a>\n",
       " </span>,\n",
       " <span class=\"tag-item\">\n",
       " <a class=\"tag\" href=\"/tag/friendship/\" style=\"font-size: 10px\">friendship</a>\n",
       " </span>,\n",
       " <span class=\"tag-item\">\n",
       " <a class=\"tag\" href=\"/tag/friends/\" style=\"font-size: 8px\">friends</a>\n",
       " </span>,\n",
       " <span class=\"tag-item\">\n",
       " <a class=\"tag\" href=\"/tag/truth/\" style=\"font-size: 8px\">truth</a>\n",
       " </span>,\n",
       " <span class=\"tag-item\">\n",
       " <a class=\"tag\" href=\"/tag/simile/\" style=\"font-size: 6px\">simile</a>\n",
       " </span>]"
      ]
     },
     "execution_count": 55,
     "metadata": {},
     "output_type": "execute_result"
    }
   ],
   "source": [
    "soup.select('.tag-item')"
   ]
  },
  {
   "cell_type": "code",
   "execution_count": 56,
   "id": "036f71ec",
   "metadata": {},
   "outputs": [
    {
     "name": "stdout",
     "output_type": "stream",
     "text": [
      "\n",
      "love\n",
      "\n",
      "\n",
      "inspirational\n",
      "\n",
      "\n",
      "life\n",
      "\n",
      "\n",
      "humor\n",
      "\n",
      "\n",
      "books\n",
      "\n",
      "\n",
      "reading\n",
      "\n",
      "\n",
      "friendship\n",
      "\n",
      "\n",
      "friends\n",
      "\n",
      "\n",
      "truth\n",
      "\n",
      "\n",
      "simile\n",
      "\n"
     ]
    }
   ],
   "source": [
    "for item in soup.select(\".tag-item\"):\n",
    "    print(item.text)"
   ]
  },
  {
   "cell_type": "code",
   "execution_count": 57,
   "id": "8b8a7d82",
   "metadata": {},
   "outputs": [],
   "source": [
    "url = 'http://quotes.toscrape.com/page/'"
   ]
  },
  {
   "cell_type": "code",
   "execution_count": 58,
   "id": "c2820cea",
   "metadata": {},
   "outputs": [
    {
     "data": {
      "text/plain": [
       "'http://quotes.toscrape.com/page/10'"
      ]
     },
     "execution_count": 58,
     "metadata": {},
     "output_type": "execute_result"
    }
   ],
   "source": [
    "url+str(10)"
   ]
  },
  {
   "cell_type": "code",
   "execution_count": 59,
   "id": "ea673d6c",
   "metadata": {},
   "outputs": [],
   "source": [
    "authors = set()\n",
    "\n",
    "for page in range(1,10):\n",
    "    \n",
    "    page_url = url+str(page)\n",
    "    \n",
    "    res = requests.get(page_url)\n",
    "    \n",
    "    soup = bs4.BeautifulSoup(res.text,'lxml')\n",
    "    \n",
    "    for name in soup.select(\".author\"):\n",
    "        authors.add(name.text)"
   ]
  },
  {
   "cell_type": "code",
   "execution_count": 60,
   "id": "668e0d28",
   "metadata": {},
   "outputs": [
    {
     "data": {
      "text/plain": [
       "{'Albert Einstein',\n",
       " 'Alexandre Dumas fils',\n",
       " 'Alfred Tennyson',\n",
       " 'Allen Saunders',\n",
       " 'André Gide',\n",
       " 'Ayn Rand',\n",
       " 'Bob Marley',\n",
       " 'C.S. Lewis',\n",
       " 'Charles Bukowski',\n",
       " 'Charles M. Schulz',\n",
       " 'Douglas Adams',\n",
       " 'Dr. Seuss',\n",
       " 'Eleanor Roosevelt',\n",
       " 'Elie Wiesel',\n",
       " 'Ernest Hemingway',\n",
       " 'Friedrich Nietzsche',\n",
       " 'Garrison Keillor',\n",
       " 'George Bernard Shaw',\n",
       " 'George Carlin',\n",
       " 'George Eliot',\n",
       " 'George R.R. Martin',\n",
       " 'Haruki Murakami',\n",
       " 'Helen Keller',\n",
       " 'J.D. Salinger',\n",
       " 'J.K. Rowling',\n",
       " 'J.R.R. Tolkien',\n",
       " 'James Baldwin',\n",
       " 'Jane Austen',\n",
       " 'Jim Henson',\n",
       " 'John Lennon',\n",
       " 'Jorge Luis Borges',\n",
       " 'Marilyn Monroe',\n",
       " 'Mark Twain',\n",
       " 'Martin Luther King Jr.',\n",
       " 'Mother Teresa',\n",
       " 'Pablo Neruda',\n",
       " 'Ralph Waldo Emerson',\n",
       " 'Stephenie Meyer',\n",
       " 'Steve Martin',\n",
       " 'Suzanne Collins',\n",
       " 'Terry Pratchett',\n",
       " 'Thomas A. Edison',\n",
       " 'W.C. Fields',\n",
       " 'William Nicholson'}"
      ]
     },
     "execution_count": 60,
     "metadata": {},
     "output_type": "execute_result"
    }
   ],
   "source": [
    "authors"
   ]
  },
  {
   "cell_type": "code",
   "execution_count": 61,
   "id": "15559b59",
   "metadata": {},
   "outputs": [],
   "source": [
    "page_url = url+str(999999999999)"
   ]
  },
  {
   "cell_type": "code",
   "execution_count": 62,
   "id": "4ff284da",
   "metadata": {},
   "outputs": [],
   "source": [
    "res = requests.get(page_url)"
   ]
  },
  {
   "cell_type": "code",
   "execution_count": 63,
   "id": "ed331723",
   "metadata": {},
   "outputs": [],
   "source": [
    "soup = bs4.BeautifulSoup(res.text,'lxml')"
   ]
  },
  {
   "cell_type": "code",
   "execution_count": 64,
   "id": "fe9f0e00",
   "metadata": {},
   "outputs": [
    {
     "data": {
      "text/plain": [
       "<!DOCTYPE html>\n",
       "<html lang=\"en\">\n",
       "<head>\n",
       "<meta charset=\"utf-8\"/>\n",
       "<title>Quotes to Scrape</title>\n",
       "<link href=\"/static/bootstrap.min.css\" rel=\"stylesheet\"/>\n",
       "<link href=\"/static/main.css\" rel=\"stylesheet\"/>\n",
       "</head>\n",
       "<body>\n",
       "<div class=\"container\">\n",
       "<div class=\"row header-box\">\n",
       "<div class=\"col-md-8\">\n",
       "<h1>\n",
       "<a href=\"/\" style=\"text-decoration: none\">Quotes to Scrape</a>\n",
       "</h1>\n",
       "</div>\n",
       "<div class=\"col-md-4\">\n",
       "<p>\n",
       "<a href=\"/login\">Login</a>\n",
       "</p>\n",
       "</div>\n",
       "</div>\n",
       "<div class=\"row\">\n",
       "<div class=\"col-md-8\">\n",
       "\n",
       "No quotes found!\n",
       "\n",
       "    <nav>\n",
       "<ul class=\"pager\">\n",
       "<li class=\"previous\">\n",
       "<a href=\"/page/999999999998/\"><span aria-hidden=\"true\">←</span> Previous</a>\n",
       "</li>\n",
       "</ul>\n",
       "</nav>\n",
       "</div>\n",
       "<div class=\"col-md-4 tags-box\">\n",
       "<h2>Top Ten tags</h2>\n",
       "<span class=\"tag-item\">\n",
       "<a class=\"tag\" href=\"/tag/love/\" style=\"font-size: 28px\">love</a>\n",
       "</span>\n",
       "<span class=\"tag-item\">\n",
       "<a class=\"tag\" href=\"/tag/inspirational/\" style=\"font-size: 26px\">inspirational</a>\n",
       "</span>\n",
       "<span class=\"tag-item\">\n",
       "<a class=\"tag\" href=\"/tag/life/\" style=\"font-size: 26px\">life</a>\n",
       "</span>\n",
       "<span class=\"tag-item\">\n",
       "<a class=\"tag\" href=\"/tag/humor/\" style=\"font-size: 24px\">humor</a>\n",
       "</span>\n",
       "<span class=\"tag-item\">\n",
       "<a class=\"tag\" href=\"/tag/books/\" style=\"font-size: 22px\">books</a>\n",
       "</span>\n",
       "<span class=\"tag-item\">\n",
       "<a class=\"tag\" href=\"/tag/reading/\" style=\"font-size: 14px\">reading</a>\n",
       "</span>\n",
       "<span class=\"tag-item\">\n",
       "<a class=\"tag\" href=\"/tag/friendship/\" style=\"font-size: 10px\">friendship</a>\n",
       "</span>\n",
       "<span class=\"tag-item\">\n",
       "<a class=\"tag\" href=\"/tag/friends/\" style=\"font-size: 8px\">friends</a>\n",
       "</span>\n",
       "<span class=\"tag-item\">\n",
       "<a class=\"tag\" href=\"/tag/truth/\" style=\"font-size: 8px\">truth</a>\n",
       "</span>\n",
       "<span class=\"tag-item\">\n",
       "<a class=\"tag\" href=\"/tag/simile/\" style=\"font-size: 6px\">simile</a>\n",
       "</span>\n",
       "</div>\n",
       "</div>\n",
       "</div>\n",
       "<footer class=\"footer\">\n",
       "<div class=\"container\">\n",
       "<p class=\"text-muted\">\n",
       "                Quotes by: <a href=\"https://www.goodreads.com/quotes\">GoodReads.com</a>\n",
       "</p>\n",
       "<p class=\"copyright\">\n",
       "                Made with <span class=\"sh-red\">❤</span> by <a href=\"https://scrapinghub.com\">Scrapinghub</a>\n",
       "</p>\n",
       "</div>\n",
       "</footer>\n",
       "</body>\n",
       "</html>"
      ]
     },
     "execution_count": 64,
     "metadata": {},
     "output_type": "execute_result"
    }
   ],
   "source": [
    "soup"
   ]
  },
  {
   "cell_type": "code",
   "execution_count": 65,
   "id": "350d7e04",
   "metadata": {},
   "outputs": [
    {
     "data": {
      "text/plain": [
       "'<!DOCTYPE html>\\n<html lang=\"en\">\\n<head>\\n\\t<meta charset=\"UTF-8\">\\n\\t<title>Quotes to Scrape</title>\\n    <link rel=\"stylesheet\" href=\"/static/bootstrap.min.css\">\\n    <link rel=\"stylesheet\" href=\"/static/main.css\">\\n</head>\\n<body>\\n    <div class=\"container\">\\n        <div class=\"row header-box\">\\n            <div class=\"col-md-8\">\\n                <h1>\\n                    <a href=\"/\" style=\"text-decoration: none\">Quotes to Scrape</a>\\n                </h1>\\n            </div>\\n            <div class=\"col-md-4\">\\n                <p>\\n                \\n                    <a href=\"/login\">Login</a>\\n                \\n                </p>\\n            </div>\\n        </div>\\n    \\n\\n<div class=\"row\">\\n    <div class=\"col-md-8\">\\n\\nNo quotes found!\\n\\n    <nav>\\n        <ul class=\"pager\">\\n            \\n            <li class=\"previous\">\\n                <a href=\"/page/999999999998/\"><span aria-hidden=\"true\">&larr;</span> Previous</a>\\n            </li>\\n            \\n            \\n        </ul>\\n    </nav>\\n    </div>\\n    <div class=\"col-md-4 tags-box\">\\n        \\n            <h2>Top Ten tags</h2>\\n            \\n            <span class=\"tag-item\">\\n            <a class=\"tag\" style=\"font-size: 28px\" href=\"/tag/love/\">love</a>\\n            </span>\\n            \\n            <span class=\"tag-item\">\\n            <a class=\"tag\" style=\"font-size: 26px\" href=\"/tag/inspirational/\">inspirational</a>\\n            </span>\\n            \\n            <span class=\"tag-item\">\\n            <a class=\"tag\" style=\"font-size: 26px\" href=\"/tag/life/\">life</a>\\n            </span>\\n            \\n            <span class=\"tag-item\">\\n            <a class=\"tag\" style=\"font-size: 24px\" href=\"/tag/humor/\">humor</a>\\n            </span>\\n            \\n            <span class=\"tag-item\">\\n            <a class=\"tag\" style=\"font-size: 22px\" href=\"/tag/books/\">books</a>\\n            </span>\\n            \\n            <span class=\"tag-item\">\\n            <a class=\"tag\" style=\"font-size: 14px\" href=\"/tag/reading/\">reading</a>\\n            </span>\\n            \\n            <span class=\"tag-item\">\\n            <a class=\"tag\" style=\"font-size: 10px\" href=\"/tag/friendship/\">friendship</a>\\n            </span>\\n            \\n            <span class=\"tag-item\">\\n            <a class=\"tag\" style=\"font-size: 8px\" href=\"/tag/friends/\">friends</a>\\n            </span>\\n            \\n            <span class=\"tag-item\">\\n            <a class=\"tag\" style=\"font-size: 8px\" href=\"/tag/truth/\">truth</a>\\n            </span>\\n            \\n            <span class=\"tag-item\">\\n            <a class=\"tag\" style=\"font-size: 6px\" href=\"/tag/simile/\">simile</a>\\n            </span>\\n            \\n        \\n    </div>\\n</div>\\n\\n    </div>\\n    <footer class=\"footer\">\\n        <div class=\"container\">\\n            <p class=\"text-muted\">\\n                Quotes by: <a href=\"https://www.goodreads.com/quotes\">GoodReads.com</a>\\n            </p>\\n            <p class=\"copyright\">\\n                Made with <span class=\\'sh-red\\'>❤</span> by <a href=\"https://scrapinghub.com\">Scrapinghub</a>\\n            </p>\\n        </div>\\n    </footer>\\n</body>\\n</html>'"
      ]
     },
     "execution_count": 65,
     "metadata": {},
     "output_type": "execute_result"
    }
   ],
   "source": [
    "res.text"
   ]
  },
  {
   "cell_type": "markdown",
   "id": "c9da39ce",
   "metadata": {},
   "source": [
    "Quickly string check"
   ]
  },
  {
   "cell_type": "code",
   "execution_count": 66,
   "id": "d8143380",
   "metadata": {},
   "outputs": [
    {
     "data": {
      "text/plain": [
       "True"
      ]
     },
     "execution_count": 66,
     "metadata": {},
     "output_type": "execute_result"
    }
   ],
   "source": [
    "\"No quotes found!\" in res.text"
   ]
  },
  {
   "cell_type": "code",
   "execution_count": 67,
   "id": "f8cd3406",
   "metadata": {},
   "outputs": [],
   "source": [
    "page_still_valid = True\n",
    "authors = set()\n",
    "page=1\n",
    "\n",
    "while page_still_valid:\n",
    "    \n",
    "    page_url = url+str(page)\n",
    "    \n",
    "    res = requests.get(page_url)\n",
    "    \n",
    "    if \"No quotes found!\" in res.text:\n",
    "        break\n",
    "        \n",
    "    soup = bs4.BeautifulSoup(res.text,\"lxml\")\n",
    "    \n",
    "    for name in soup.select(\".author\"):\n",
    "        authors.add(name.text)\n",
    "    \n",
    "    \n",
    "    page = page+1\n"
   ]
  },
  {
   "cell_type": "code",
   "execution_count": 68,
   "id": "a8bced29",
   "metadata": {},
   "outputs": [
    {
     "data": {
      "text/plain": [
       "{'Albert Einstein',\n",
       " 'Alexandre Dumas fils',\n",
       " 'Alfred Tennyson',\n",
       " 'Allen Saunders',\n",
       " 'André Gide',\n",
       " 'Ayn Rand',\n",
       " 'Bob Marley',\n",
       " 'C.S. Lewis',\n",
       " 'Charles Bukowski',\n",
       " 'Charles M. Schulz',\n",
       " 'Douglas Adams',\n",
       " 'Dr. Seuss',\n",
       " 'E.E. Cummings',\n",
       " 'Eleanor Roosevelt',\n",
       " 'Elie Wiesel',\n",
       " 'Ernest Hemingway',\n",
       " 'Friedrich Nietzsche',\n",
       " 'Garrison Keillor',\n",
       " 'George Bernard Shaw',\n",
       " 'George Carlin',\n",
       " 'George Eliot',\n",
       " 'George R.R. Martin',\n",
       " 'Harper Lee',\n",
       " 'Haruki Murakami',\n",
       " 'Helen Keller',\n",
       " 'J.D. Salinger',\n",
       " 'J.K. Rowling',\n",
       " 'J.M. Barrie',\n",
       " 'J.R.R. Tolkien',\n",
       " 'James Baldwin',\n",
       " 'Jane Austen',\n",
       " 'Jim Henson',\n",
       " 'Jimi Hendrix',\n",
       " 'John Lennon',\n",
       " 'Jorge Luis Borges',\n",
       " 'Khaled Hosseini',\n",
       " \"Madeleine L'Engle\",\n",
       " 'Marilyn Monroe',\n",
       " 'Mark Twain',\n",
       " 'Martin Luther King Jr.',\n",
       " 'Mother Teresa',\n",
       " 'Pablo Neruda',\n",
       " 'Ralph Waldo Emerson',\n",
       " 'Stephenie Meyer',\n",
       " 'Steve Martin',\n",
       " 'Suzanne Collins',\n",
       " 'Terry Pratchett',\n",
       " 'Thomas A. Edison',\n",
       " 'W.C. Fields',\n",
       " 'William Nicholson'}"
      ]
     },
     "execution_count": 68,
     "metadata": {},
     "output_type": "execute_result"
    }
   ],
   "source": [
    "authors"
   ]
  },
  {
   "cell_type": "markdown",
   "id": "7d66c12c",
   "metadata": {},
   "source": [
    "Working Images with PY"
   ]
  },
  {
   "cell_type": "code",
   "execution_count": 69,
   "id": "262bbf31",
   "metadata": {},
   "outputs": [],
   "source": [
    "from PIL import Image"
   ]
  },
  {
   "cell_type": "code",
   "execution_count": 72,
   "id": "46ce2a98",
   "metadata": {},
   "outputs": [
    {
     "ename": "FileNotFoundError",
     "evalue": "[Errno 2] No such file or directory: 'example.jpg'",
     "output_type": "error",
     "traceback": [
      "\u001b[1;31m---------------------------------------------------------------------------\u001b[0m",
      "\u001b[1;31mFileNotFoundError\u001b[0m                         Traceback (most recent call last)",
      "Input \u001b[1;32mIn [72]\u001b[0m, in \u001b[0;36m<cell line: 1>\u001b[1;34m()\u001b[0m\n\u001b[1;32m----> 1\u001b[0m mac \u001b[38;5;241m=\u001b[39m \u001b[43mImage\u001b[49m\u001b[38;5;241;43m.\u001b[39;49m\u001b[43mopen\u001b[49m\u001b[43m(\u001b[49m\u001b[38;5;124;43m'\u001b[39;49m\u001b[38;5;124;43mexample.jpg\u001b[39;49m\u001b[38;5;124;43m'\u001b[39;49m\u001b[43m)\u001b[49m\n",
      "File \u001b[1;32m~\\anaconda3\\lib\\site-packages\\PIL\\Image.py:2953\u001b[0m, in \u001b[0;36mopen\u001b[1;34m(fp, mode, formats)\u001b[0m\n\u001b[0;32m   2950\u001b[0m     filename \u001b[38;5;241m=\u001b[39m fp\n\u001b[0;32m   2952\u001b[0m \u001b[38;5;28;01mif\u001b[39;00m filename:\n\u001b[1;32m-> 2953\u001b[0m     fp \u001b[38;5;241m=\u001b[39m \u001b[43mbuiltins\u001b[49m\u001b[38;5;241;43m.\u001b[39;49m\u001b[43mopen\u001b[49m\u001b[43m(\u001b[49m\u001b[43mfilename\u001b[49m\u001b[43m,\u001b[49m\u001b[43m \u001b[49m\u001b[38;5;124;43m\"\u001b[39;49m\u001b[38;5;124;43mrb\u001b[39;49m\u001b[38;5;124;43m\"\u001b[39;49m\u001b[43m)\u001b[49m\n\u001b[0;32m   2954\u001b[0m     exclusive_fp \u001b[38;5;241m=\u001b[39m \u001b[38;5;28;01mTrue\u001b[39;00m\n\u001b[0;32m   2956\u001b[0m \u001b[38;5;28;01mtry\u001b[39;00m:\n",
      "\u001b[1;31mFileNotFoundError\u001b[0m: [Errno 2] No such file or directory: 'example.jpg'"
     ]
    }
   ],
   "source": [
    "mac = Image.open('example.jpg')"
   ]
  },
  {
   "cell_type": "code",
   "execution_count": 73,
   "id": "8ce180a3",
   "metadata": {},
   "outputs": [
    {
     "ename": "NameError",
     "evalue": "name 'mac' is not defined",
     "output_type": "error",
     "traceback": [
      "\u001b[1;31m---------------------------------------------------------------------------\u001b[0m",
      "\u001b[1;31mNameError\u001b[0m                                 Traceback (most recent call last)",
      "Input \u001b[1;32mIn [73]\u001b[0m, in \u001b[0;36m<cell line: 1>\u001b[1;34m()\u001b[0m\n\u001b[1;32m----> 1\u001b[0m \u001b[38;5;28mtype\u001b[39m(\u001b[43mmac\u001b[49m)\n",
      "\u001b[1;31mNameError\u001b[0m: name 'mac' is not defined"
     ]
    }
   ],
   "source": [
    "type(mac)"
   ]
  },
  {
   "cell_type": "code",
   "execution_count": 74,
   "id": "92979711",
   "metadata": {},
   "outputs": [
    {
     "ename": "FileNotFoundError",
     "evalue": "[Errno 2] No such file or directory: 'example.jpg'",
     "output_type": "error",
     "traceback": [
      "\u001b[1;31m---------------------------------------------------------------------------\u001b[0m",
      "\u001b[1;31mFileNotFoundError\u001b[0m                         Traceback (most recent call last)",
      "Input \u001b[1;32mIn [74]\u001b[0m, in \u001b[0;36m<cell line: 1>\u001b[1;34m()\u001b[0m\n\u001b[1;32m----> 1\u001b[0m mac \u001b[38;5;241m=\u001b[39m \u001b[43mImage\u001b[49m\u001b[38;5;241;43m.\u001b[39;49m\u001b[43mopen\u001b[49m\u001b[43m(\u001b[49m\u001b[38;5;124;43m'\u001b[39;49m\u001b[38;5;124;43mexample.jpg\u001b[39;49m\u001b[38;5;124;43m'\u001b[39;49m\u001b[43m)\u001b[49m\n",
      "File \u001b[1;32m~\\anaconda3\\lib\\site-packages\\PIL\\Image.py:2953\u001b[0m, in \u001b[0;36mopen\u001b[1;34m(fp, mode, formats)\u001b[0m\n\u001b[0;32m   2950\u001b[0m     filename \u001b[38;5;241m=\u001b[39m fp\n\u001b[0;32m   2952\u001b[0m \u001b[38;5;28;01mif\u001b[39;00m filename:\n\u001b[1;32m-> 2953\u001b[0m     fp \u001b[38;5;241m=\u001b[39m \u001b[43mbuiltins\u001b[49m\u001b[38;5;241;43m.\u001b[39;49m\u001b[43mopen\u001b[49m\u001b[43m(\u001b[49m\u001b[43mfilename\u001b[49m\u001b[43m,\u001b[49m\u001b[43m \u001b[49m\u001b[38;5;124;43m\"\u001b[39;49m\u001b[38;5;124;43mrb\u001b[39;49m\u001b[38;5;124;43m\"\u001b[39;49m\u001b[43m)\u001b[49m\n\u001b[0;32m   2954\u001b[0m     exclusive_fp \u001b[38;5;241m=\u001b[39m \u001b[38;5;28;01mTrue\u001b[39;00m\n\u001b[0;32m   2956\u001b[0m \u001b[38;5;28;01mtry\u001b[39;00m:\n",
      "\u001b[1;31mFileNotFoundError\u001b[0m: [Errno 2] No such file or directory: 'example.jpg'"
     ]
    }
   ],
   "source": [
    "mac = Image.open('example.jpg')"
   ]
  },
  {
   "cell_type": "code",
   "execution_count": 76,
   "id": "8d75f749",
   "metadata": {},
   "outputs": [
    {
     "ename": "NameError",
     "evalue": "name 'mac' is not defined",
     "output_type": "error",
     "traceback": [
      "\u001b[1;31m---------------------------------------------------------------------------\u001b[0m",
      "\u001b[1;31mNameError\u001b[0m                                 Traceback (most recent call last)",
      "Input \u001b[1;32mIn [76]\u001b[0m, in \u001b[0;36m<cell line: 1>\u001b[1;34m()\u001b[0m\n\u001b[1;32m----> 1\u001b[0m \u001b[43mmac\u001b[49m\u001b[38;5;241m.\u001b[39mshow()\n",
      "\u001b[1;31mNameError\u001b[0m: name 'mac' is not defined"
     ]
    }
   ],
   "source": [
    "mac.show()"
   ]
  },
  {
   "cell_type": "code",
   "execution_count": 77,
   "id": "1fed7aa7",
   "metadata": {},
   "outputs": [
    {
     "ename": "NameError",
     "evalue": "name 'mac' is not defined",
     "output_type": "error",
     "traceback": [
      "\u001b[1;31m---------------------------------------------------------------------------\u001b[0m",
      "\u001b[1;31mNameError\u001b[0m                                 Traceback (most recent call last)",
      "Input \u001b[1;32mIn [77]\u001b[0m, in \u001b[0;36m<cell line: 1>\u001b[1;34m()\u001b[0m\n\u001b[1;32m----> 1\u001b[0m \u001b[43mmac\u001b[49m\u001b[38;5;241m.\u001b[39msize\n",
      "\u001b[1;31mNameError\u001b[0m: name 'mac' is not defined"
     ]
    }
   ],
   "source": [
    "mac.size"
   ]
  },
  {
   "cell_type": "markdown",
   "id": "f3ad3b89",
   "metadata": {},
   "source": [
    "Crop Images - Crop methods of variable actual image"
   ]
  },
  {
   "cell_type": "code",
   "execution_count": 78,
   "id": "3e14919d",
   "metadata": {},
   "outputs": [
    {
     "ename": "NameError",
     "evalue": "name 'mac' is not defined",
     "output_type": "error",
     "traceback": [
      "\u001b[1;31m---------------------------------------------------------------------------\u001b[0m",
      "\u001b[1;31mNameError\u001b[0m                                 Traceback (most recent call last)",
      "Input \u001b[1;32mIn [78]\u001b[0m, in \u001b[0;36m<cell line: 1>\u001b[1;34m()\u001b[0m\n\u001b[1;32m----> 1\u001b[0m \u001b[43mmac\u001b[49m\u001b[38;5;241m.\u001b[39mcrop((\u001b[38;5;241m0\u001b[39m,\u001b[38;5;241m0\u001b[39m,\u001b[38;5;241m100\u001b[39m,\u001b[38;5;241m100\u001b[39m))\n",
      "\u001b[1;31mNameError\u001b[0m: name 'mac' is not defined"
     ]
    }
   ],
   "source": [
    "mac.crop((0,0,100,100))"
   ]
  },
  {
   "cell_type": "code",
   "execution_count": 1,
   "id": "3b027675",
   "metadata": {},
   "outputs": [
    {
     "ename": "NameError",
     "evalue": "name 'pencils' is not defined",
     "output_type": "error",
     "traceback": [
      "\u001b[1;31m---------------------------------------------------------------------------\u001b[0m",
      "\u001b[1;31mNameError\u001b[0m                                 Traceback (most recent call last)",
      "Input \u001b[1;32mIn [1]\u001b[0m, in \u001b[0;36m<cell line: 1>\u001b[1;34m()\u001b[0m\n\u001b[1;32m----> 1\u001b[0m \u001b[43mpencils\u001b[49m\u001b[38;5;241m.\u001b[39msize\n",
      "\u001b[1;31mNameError\u001b[0m: name 'pencils' is not defined"
     ]
    }
   ],
   "source": [
    "pencils.size"
   ]
  },
  {
   "cell_type": "markdown",
   "id": "ac3bf97f",
   "metadata": {},
   "source": [
    "PY working with Images"
   ]
  },
  {
   "cell_type": "code",
   "execution_count": 2,
   "id": "33647d33",
   "metadata": {},
   "outputs": [],
   "source": [
    "from PIL import Image"
   ]
  },
  {
   "cell_type": "code",
   "execution_count": 3,
   "id": "3acf6e63",
   "metadata": {},
   "outputs": [
    {
     "ename": "FileNotFoundError",
     "evalue": "[Errno 2] No such file or directory: 'word_matrix.png'",
     "output_type": "error",
     "traceback": [
      "\u001b[1;31m---------------------------------------------------------------------------\u001b[0m",
      "\u001b[1;31mFileNotFoundError\u001b[0m                         Traceback (most recent call last)",
      "Input \u001b[1;32mIn [3]\u001b[0m, in \u001b[0;36m<cell line: 1>\u001b[1;34m()\u001b[0m\n\u001b[1;32m----> 1\u001b[0m words \u001b[38;5;241m=\u001b[39m \u001b[43mImage\u001b[49m\u001b[38;5;241;43m.\u001b[39;49m\u001b[43mopen\u001b[49m\u001b[43m(\u001b[49m\u001b[38;5;124;43m'\u001b[39;49m\u001b[38;5;124;43mword_matrix.png\u001b[39;49m\u001b[38;5;124;43m'\u001b[39;49m\u001b[43m)\u001b[49m\n",
      "File \u001b[1;32m~\\anaconda3\\lib\\site-packages\\PIL\\Image.py:2953\u001b[0m, in \u001b[0;36mopen\u001b[1;34m(fp, mode, formats)\u001b[0m\n\u001b[0;32m   2950\u001b[0m     filename \u001b[38;5;241m=\u001b[39m fp\n\u001b[0;32m   2952\u001b[0m \u001b[38;5;28;01mif\u001b[39;00m filename:\n\u001b[1;32m-> 2953\u001b[0m     fp \u001b[38;5;241m=\u001b[39m \u001b[43mbuiltins\u001b[49m\u001b[38;5;241;43m.\u001b[39;49m\u001b[43mopen\u001b[49m\u001b[43m(\u001b[49m\u001b[43mfilename\u001b[49m\u001b[43m,\u001b[49m\u001b[43m \u001b[49m\u001b[38;5;124;43m\"\u001b[39;49m\u001b[38;5;124;43mrb\u001b[39;49m\u001b[38;5;124;43m\"\u001b[39;49m\u001b[43m)\u001b[49m\n\u001b[0;32m   2954\u001b[0m     exclusive_fp \u001b[38;5;241m=\u001b[39m \u001b[38;5;28;01mTrue\u001b[39;00m\n\u001b[0;32m   2956\u001b[0m \u001b[38;5;28;01mtry\u001b[39;00m:\n",
      "\u001b[1;31mFileNotFoundError\u001b[0m: [Errno 2] No such file or directory: 'word_matrix.png'"
     ]
    }
   ],
   "source": [
    "words = Image.open('word_matrix.png')"
   ]
  },
  {
   "cell_type": "code",
   "execution_count": 4,
   "id": "fd297828",
   "metadata": {},
   "outputs": [
    {
     "ename": "NameError",
     "evalue": "name 'words' is not defined",
     "output_type": "error",
     "traceback": [
      "\u001b[1;31m---------------------------------------------------------------------------\u001b[0m",
      "\u001b[1;31mNameError\u001b[0m                                 Traceback (most recent call last)",
      "Input \u001b[1;32mIn [4]\u001b[0m, in \u001b[0;36m<cell line: 1>\u001b[1;34m()\u001b[0m\n\u001b[1;32m----> 1\u001b[0m \u001b[43mwords\u001b[49m\n",
      "\u001b[1;31mNameError\u001b[0m: name 'words' is not defined"
     ]
    }
   ],
   "source": [
    "words"
   ]
  },
  {
   "cell_type": "code",
   "execution_count": 1,
   "id": "370337d0",
   "metadata": {},
   "outputs": [
    {
     "name": "stdout",
     "output_type": "stream",
     "text": [
      "****hello this is a string****\n"
     ]
    }
   ],
   "source": [
    "s1 = 'hello this is a string'\n",
    "s2 = s1.center(30, \"*\")\n",
    "print(s2)\n"
   ]
  },
  {
   "cell_type": "code",
   "execution_count": 2,
   "id": "bc28d784",
   "metadata": {},
   "outputs": [
    {
     "name": "stdout",
     "output_type": "stream",
     "text": [
      "I am Developer\n"
     ]
    }
   ],
   "source": [
    "str1 = \"I am Developer\"\n",
    "str2 = str1.center(10, \"#\")\n",
    "print(str2)"
   ]
  },
  {
   "cell_type": "code",
   "execution_count": null,
   "id": "62ea2517",
   "metadata": {},
   "outputs": [],
   "source": []
  }
 ],
 "metadata": {
  "kernelspec": {
   "display_name": "Python 3 (ipykernel)",
   "language": "python",
   "name": "python3"
  },
  "language_info": {
   "codemirror_mode": {
    "name": "ipython",
    "version": 3
   },
   "file_extension": ".py",
   "mimetype": "text/x-python",
   "name": "python",
   "nbconvert_exporter": "python",
   "pygments_lexer": "ipython3",
   "version": "3.9.12"
  }
 },
 "nbformat": 4,
 "nbformat_minor": 5
}

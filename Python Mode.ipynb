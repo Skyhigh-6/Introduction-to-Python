{
 "cells": [
  {
   "cell_type": "code",
   "execution_count": 1,
   "id": "edbf7642",
   "metadata": {},
   "outputs": [
    {
     "name": "stdout",
     "output_type": "stream",
     "text": [
      "Welcome to Introduction to Python\n",
      "First Python Code...\n"
     ]
    }
   ],
   "source": [
    "print(\"Welcome to Introduction to Python\")\n",
    "print(\"First Python Code...\")"
   ]
  },
  {
   "cell_type": "code",
   "execution_count": 3,
   "id": "e2e68ae1",
   "metadata": {},
   "outputs": [
    {
     "name": "stdout",
     "output_type": "stream",
     "text": [
      "Welcome to \n",
      "Introduction to Python\n"
     ]
    }
   ],
   "source": [
    "print(\"Welcome to \\nIntroduction to Python\")"
   ]
  },
  {
   "cell_type": "code",
   "execution_count": 4,
   "id": "2d39ed9d",
   "metadata": {},
   "outputs": [
    {
     "name": "stdout",
     "output_type": "stream",
     "text": [
      "Welcome to Introduction to Python*First Python Code...\n"
     ]
    }
   ],
   "source": [
    "print(\"Welcome to Introduction to Python\", end=\"*\")\n",
    "print(\"First Python Code...\")"
   ]
  },
  {
   "cell_type": "code",
   "execution_count": 5,
   "id": "72e02d10",
   "metadata": {},
   "outputs": [
    {
     "name": "stdout",
     "output_type": "stream",
     "text": [
      "Welcome to Introduction to Python\n",
      "This is the output of end\n",
      "First Python Code...\n"
     ]
    }
   ],
   "source": [
    "print(\"Welcome to Introduction to Python\", end=\"\\nThis is the output of end\\n\")\n",
    "print(\"First Python Code...\")"
   ]
  },
  {
   "cell_type": "code",
   "execution_count": 6,
   "id": "7d5f293d",
   "metadata": {},
   "outputs": [],
   "source": [
    "# Using Seperator = Sep"
   ]
  },
  {
   "cell_type": "code",
   "execution_count": 8,
   "id": "b9b26fcb",
   "metadata": {},
   "outputs": [
    {
     "name": "stdout",
     "output_type": "stream",
     "text": [
      "Welcome-to-Introduction-to-Python\n",
      "First Python Code...\n"
     ]
    }
   ],
   "source": [
    "print(\"Welcome\", \"to\", \"Introduction\", \"to\", \"Python\", sep=\"-\")\n",
    "print(\"First Python Code...\")"
   ]
  },
  {
   "cell_type": "code",
   "execution_count": 9,
   "id": "4bcb5798",
   "metadata": {},
   "outputs": [
    {
     "name": "stdout",
     "output_type": "stream",
     "text": [
      "Welcome\n",
      "to\n",
      "Introduction\n",
      "to\n",
      "Python\n",
      "First Python Code...\n"
     ]
    }
   ],
   "source": [
    "print(\"Welcome\", \"to\", \"Introduction\", \"to\", \"Python\", sep=\"\\n\")\n",
    "print(\"First Python Code...\")"
   ]
  },
  {
   "cell_type": "code",
   "execution_count": 10,
   "id": "8bfe15e1",
   "metadata": {},
   "outputs": [
    {
     "name": "stdout",
     "output_type": "stream",
     "text": [
      "Welcome-*-to-*-Introduction-*-to-*-Python\n",
      "\n",
      "First Python Code...\n"
     ]
    }
   ],
   "source": [
    "print(\"Welcome\", \"to\", \"Introduction\", \"to\", \"Python\", sep=\"-*-\", end=\"\\n\\n\")\n",
    "print(\"First Python Code...\")"
   ]
  },
  {
   "cell_type": "code",
   "execution_count": 11,
   "id": "9b004fc4",
   "metadata": {},
   "outputs": [],
   "source": [
    "# String Literals\n",
    "# Integer Literals"
   ]
  },
  {
   "cell_type": "code",
   "execution_count": 12,
   "id": "501fab6c",
   "metadata": {},
   "outputs": [
    {
     "name": "stdout",
     "output_type": "stream",
     "text": [
      "123\n",
      "123\n"
     ]
    }
   ],
   "source": [
    "print(\"123\")\n",
    "print(123)"
   ]
  },
  {
   "cell_type": "code",
   "execution_count": 13,
   "id": "4c630a89",
   "metadata": {},
   "outputs": [
    {
     "name": "stdout",
     "output_type": "stream",
     "text": [
      "<class 'str'>\n",
      "<class 'int'>\n",
      "<class 'float'>\n"
     ]
    }
   ],
   "source": [
    "print(type(\"123\"))\n",
    "print(type(123))\n",
    "print(type(12.3))"
   ]
  },
  {
   "cell_type": "code",
   "execution_count": 17,
   "id": "beeb1236",
   "metadata": {},
   "outputs": [],
   "source": [
    "# Below 0o - Octal value\n",
    "# Below 0x - Hexadecimalvalue"
   ]
  },
  {
   "cell_type": "code",
   "execution_count": 16,
   "id": "939fb769",
   "metadata": {},
   "outputs": [
    {
     "name": "stdout",
     "output_type": "stream",
     "text": [
      "<class 'int'>\n",
      "<class 'int'>\n"
     ]
    }
   ],
   "source": [
    "print(type(0o123))\n",
    "print(type(0x123))"
   ]
  },
  {
   "cell_type": "code",
   "execution_count": 18,
   "id": "7ad98427",
   "metadata": {},
   "outputs": [
    {
     "name": "stdout",
     "output_type": "stream",
     "text": [
      "83\n",
      "291\n"
     ]
    }
   ],
   "source": [
    "print(0o123)\n",
    "print(0x123)"
   ]
  },
  {
   "cell_type": "code",
   "execution_count": 19,
   "id": "40373813",
   "metadata": {},
   "outputs": [
    {
     "name": "stdout",
     "output_type": "stream",
     "text": [
      " I am a String\n"
     ]
    }
   ],
   "source": [
    "print(\" I am a String\")"
   ]
  },
  {
   "cell_type": "code",
   "execution_count": 20,
   "id": "d1469fbf",
   "metadata": {},
   "outputs": [
    {
     "name": "stdout",
     "output_type": "stream",
     "text": [
      "<class 'str'>\n"
     ]
    }
   ],
   "source": [
    "print(type(\" I am a String\"))"
   ]
  },
  {
   "cell_type": "code",
   "execution_count": 21,
   "id": "d7d8e85e",
   "metadata": {},
   "outputs": [
    {
     "name": "stdout",
     "output_type": "stream",
     "text": [
      "My name is \"Kali C\" \n"
     ]
    }
   ],
   "source": [
    "print(\"My name is \\\"Kali C\\\" \")"
   ]
  },
  {
   "cell_type": "code",
   "execution_count": 22,
   "id": "61cf39b1",
   "metadata": {},
   "outputs": [
    {
     "name": "stdout",
     "output_type": "stream",
     "text": [
      "False\n",
      "False\n",
      "True\n"
     ]
    }
   ],
   "source": [
    "print(True==False)\n",
    "print(True<False)\n",
    "print(True>False)"
   ]
  },
  {
   "cell_type": "code",
   "execution_count": 23,
   "id": "95ceb49b",
   "metadata": {},
   "outputs": [
    {
     "name": "stdout",
     "output_type": "stream",
     "text": [
      "<class 'bool'>\n",
      "<class 'bool'>\n"
     ]
    }
   ],
   "source": [
    "print(type(True))\n",
    "print(type(False))"
   ]
  },
  {
   "cell_type": "code",
   "execution_count": 2,
   "id": "ff638a96",
   "metadata": {},
   "outputs": [],
   "source": [
    "# Operators and Variables"
   ]
  },
  {
   "cell_type": "code",
   "execution_count": 3,
   "id": "564030b7",
   "metadata": {},
   "outputs": [],
   "source": [
    "# Basic Operators \n",
    "# We can use all the basic operators like addition(+), subtraction(-), Multiplication(*) and division(/) with print()"
   ]
  },
  {
   "cell_type": "code",
   "execution_count": 4,
   "id": "4570cd35",
   "metadata": {},
   "outputs": [
    {
     "name": "stdout",
     "output_type": "stream",
     "text": [
      "4\n",
      "10\n",
      "5\n",
      "2.5\n",
      "2\n",
      "64\n",
      "1\n"
     ]
    }
   ],
   "source": [
    "print(2+2)\n",
    "print(5*2)\n",
    "print(10-5)\n",
    "print(5/2)\n",
    "print(5//2)\n",
    "print(4**3)\n",
    "print(5%2)"
   ]
  },
  {
   "cell_type": "code",
   "execution_count": 5,
   "id": "f309b391",
   "metadata": {},
   "outputs": [],
   "source": [
    "# Integer Division"
   ]
  },
  {
   "cell_type": "code",
   "execution_count": 6,
   "id": "71bf38f8",
   "metadata": {},
   "outputs": [
    {
     "name": "stdout",
     "output_type": "stream",
     "text": [
      "3\n",
      "3.0\n",
      "3.0\n",
      "3.0\n"
     ]
    }
   ],
   "source": [
    "print(10//3)\n",
    "print(10//3.0)\n",
    "print(10.0//3)\n",
    "print(10.0//3.0)"
   ]
  },
  {
   "cell_type": "code",
   "execution_count": 7,
   "id": "a4e447bc",
   "metadata": {},
   "outputs": [],
   "source": [
    "# Results are always rounded.\n",
    "# Int / Int gives Interger results.\n",
    "# Int and Float division gives floats results.\n",
    "# Rounding always goes to the lesser interger.\n",
    "# So Interger division is also called as floor division."
   ]
  },
  {
   "cell_type": "code",
   "execution_count": 8,
   "id": "2e5ba909",
   "metadata": {},
   "outputs": [
    {
     "name": "stdout",
     "output_type": "stream",
     "text": [
      "1\n",
      "-2.0\n",
      "-2.0\n",
      "1.0\n"
     ]
    }
   ],
   "source": [
    "print(6//4)\n",
    "print(6//-4.0)\n",
    "print(6.0//-4)\n",
    "print(6.0//4.0)"
   ]
  },
  {
   "cell_type": "code",
   "execution_count": 9,
   "id": "2bef012e",
   "metadata": {},
   "outputs": [
    {
     "name": "stdout",
     "output_type": "stream",
     "text": [
      "-2.0\n",
      "-1.0\n"
     ]
    }
   ],
   "source": [
    "print(4//-2.0)\n",
    "print(6//-9.0)"
   ]
  },
  {
   "cell_type": "code",
   "execution_count": 10,
   "id": "bc9d453a",
   "metadata": {},
   "outputs": [],
   "source": [
    "# Opertors and Binding\n",
    "# The binding of the operators determine the order of computation in case of equal prioprity.\n",
    "# Most of the Python's Operators have left sided binding. So the calculation of the expression is conducted from left to right."
   ]
  },
  {
   "cell_type": "code",
   "execution_count": 11,
   "id": "0ba2bdc0",
   "metadata": {},
   "outputs": [
    {
     "name": "stdout",
     "output_type": "stream",
     "text": [
      "0\n",
      "1\n"
     ]
    }
   ],
   "source": [
    "print(25%7%2)\n",
    "print(25%2%7)"
   ]
  },
  {
   "cell_type": "code",
   "execution_count": 12,
   "id": "d135d0d5",
   "metadata": {},
   "outputs": [
    {
     "name": "stdout",
     "output_type": "stream",
     "text": [
      "256\n"
     ]
    }
   ],
   "source": [
    "print(2**2**3)"
   ]
  },
  {
   "cell_type": "code",
   "execution_count": 13,
   "id": "ea7d58d2",
   "metadata": {},
   "outputs": [],
   "source": [
    "# The exponential operator has right binding"
   ]
  },
  {
   "cell_type": "code",
   "execution_count": 17,
   "id": "3350a919",
   "metadata": {},
   "outputs": [],
   "source": [
    "# Operators and Priorities\n",
    "# Following table shows basic operators form highest to lowest prioprities.\n",
    "\n",
    "# Priority      Operator \n",
    "# 1                +,-        unary\n",
    "# 2                **      \n",
    "# 3                *,/,%\n",
    "# 4                +,-        binary"
   ]
  },
  {
   "cell_type": "code",
   "execution_count": 16,
   "id": "c80d3e75",
   "metadata": {},
   "outputs": [
    {
     "name": "stdout",
     "output_type": "stream",
     "text": [
      "49.0\n"
     ]
    }
   ],
   "source": [
    "print(12*4+24/6-10//3)"
   ]
  },
  {
   "cell_type": "code",
   "execution_count": 18,
   "id": "6d3d907f",
   "metadata": {},
   "outputs": [],
   "source": [
    "# Operators and Parentheses\n",
    "\n",
    "# Python follows same Parentheses rules: BODMAS "
   ]
  },
  {
   "cell_type": "code",
   "execution_count": 20,
   "id": "a37a1df1",
   "metadata": {},
   "outputs": [
    {
     "name": "stdout",
     "output_type": "stream",
     "text": [
      "10.0\n"
     ]
    }
   ],
   "source": [
    "print((5*((25 % 13) + 100) / (2 * 13)) // 2)"
   ]
  },
  {
   "cell_type": "code",
   "execution_count": 21,
   "id": "fc35b9e4",
   "metadata": {},
   "outputs": [],
   "source": [
    "# Variables\n",
    "# Py variable have\n",
    "# 1. Name\n",
    "# 2. Value"
   ]
  },
  {
   "cell_type": "code",
   "execution_count": 22,
   "id": "d2b5e938",
   "metadata": {},
   "outputs": [],
   "source": [
    "# Shortcut OPerators\n",
    "\n",
    "# Variable = Variable OP expression\n",
    "# Variable OP = expression"
   ]
  },
  {
   "cell_type": "code",
   "execution_count": 23,
   "id": "121b8065",
   "metadata": {},
   "outputs": [
    {
     "name": "stdout",
     "output_type": "stream",
     "text": [
      "3\n"
     ]
    }
   ],
   "source": [
    "i = 1\n",
    "i = i + 2\n",
    "print(i)"
   ]
  },
  {
   "cell_type": "code",
   "execution_count": 24,
   "id": "9df3c372",
   "metadata": {},
   "outputs": [
    {
     "name": "stdout",
     "output_type": "stream",
     "text": [
      "3\n"
     ]
    }
   ],
   "source": [
    "i = 1\n",
    "i += 2\n",
    "print(i)"
   ]
  },
  {
   "cell_type": "code",
   "execution_count": 28,
   "id": "e28461c5",
   "metadata": {},
   "outputs": [],
   "source": [
    "# Centigrade to Fahrenheit conversion\n",
    "\n",
    "# Centigrade to Fahrenheit are both units of temperature.\n",
    "# Considering 1.C is approx. 32.F, write a program for this conversion."
   ]
  },
  {
   "cell_type": "code",
   "execution_count": 31,
   "id": "ce0fc7f5",
   "metadata": {},
   "outputs": [],
   "source": [
    "# Converting Celsius To Fahrenheit using f=(c*9/5)+32"
   ]
  },
  {
   "cell_type": "code",
   "execution_count": 32,
   "id": "47e603be",
   "metadata": {},
   "outputs": [],
   "source": [
    "# Formula = (0.C * 9/5) + 32 = 32.F"
   ]
  },
  {
   "cell_type": "code",
   "execution_count": 34,
   "id": "e4e968c7",
   "metadata": {},
   "outputs": [
    {
     "name": "stdout",
     "output_type": "stream",
     "text": [
      "69.8\n"
     ]
    }
   ],
   "source": [
    "C = 21\n",
    "F = (C * 9/5) + 32\n",
    "print(F)"
   ]
  },
  {
   "cell_type": "code",
   "execution_count": 35,
   "id": "0be7435d",
   "metadata": {},
   "outputs": [],
   "source": [
    "# Formula (32.F - 32) * 5/9 = 0.C"
   ]
  },
  {
   "cell_type": "code",
   "execution_count": 36,
   "id": "5d5893c0",
   "metadata": {},
   "outputs": [
    {
     "name": "stdout",
     "output_type": "stream",
     "text": [
      "-6.111111111111111\n"
     ]
    }
   ],
   "source": [
    "F = 21\n",
    "C = (F - 32) * 5/9\n",
    "print(C)"
   ]
  },
  {
   "cell_type": "code",
   "execution_count": 37,
   "id": "b78327b1",
   "metadata": {},
   "outputs": [],
   "source": [
    "# Inch into Centimeter Concversion\n",
    "\n",
    "# 1 Inch = 2.54 Centimetres "
   ]
  },
  {
   "cell_type": "code",
   "execution_count": 38,
   "id": "5776a218",
   "metadata": {},
   "outputs": [],
   "source": [
    "# Formula = Multiply the lenght value by 2.54"
   ]
  },
  {
   "cell_type": "code",
   "execution_count": 39,
   "id": "b68b10ba",
   "metadata": {},
   "outputs": [
    {
     "name": "stdout",
     "output_type": "stream",
     "text": [
      "7.62\n"
     ]
    }
   ],
   "source": [
    "I = 3\n",
    "CM = I * 2.54\n",
    "print(CM)"
   ]
  },
  {
   "cell_type": "code",
   "execution_count": 41,
   "id": "d04591f9",
   "metadata": {},
   "outputs": [],
   "source": [
    "# We can use round function to get a modidfied output"
   ]
  },
  {
   "cell_type": "code",
   "execution_count": 40,
   "id": "32dd7bdf",
   "metadata": {},
   "outputs": [
    {
     "name": "stdout",
     "output_type": "stream",
     "text": [
      "8.0\n",
      "7.6\n",
      "7.62\n"
     ]
    }
   ],
   "source": [
    "I = 3\n",
    "CM = I * 2.54\n",
    "print(round(CM,0), round(CM,1), round(CM,2), sep=\"\\n\")"
   ]
  },
  {
   "cell_type": "code",
   "execution_count": 44,
   "id": "c6059f92",
   "metadata": {},
   "outputs": [],
   "source": [
    "# input() Function\n",
    "\n",
    "# input() reads data entered by the user.\n",
    "# It makes the program interactive"
   ]
  },
  {
   "cell_type": "code",
   "execution_count": 45,
   "id": "1ea103ac",
   "metadata": {},
   "outputs": [
    {
     "name": "stdout",
     "output_type": "stream",
     "text": [
      "Enter a number : 12\n",
      "You have entered  12\n"
     ]
    }
   ],
   "source": [
    "print(\"Enter a number : \", end=\"\")\n",
    "n = input()\n",
    "print(\"You have entered \" , n)"
   ]
  },
  {
   "cell_type": "code",
   "execution_count": 46,
   "id": "d3a57519",
   "metadata": {},
   "outputs": [
    {
     "name": "stdout",
     "output_type": "stream",
     "text": [
      "Enter a number : 2\n",
      "Square of  2 is  4\n"
     ]
    }
   ],
   "source": [
    "print(\"Enter a number : \", end=\"\")\n",
    "n = int(input())\n",
    "print(\"Square of \" , n, \"is \", n**2)"
   ]
  },
  {
   "cell_type": "code",
   "execution_count": 1,
   "id": "c2f4491d",
   "metadata": {},
   "outputs": [],
   "source": [
    "# Conditions and Conditional execution"
   ]
  },
  {
   "cell_type": "code",
   "execution_count": 2,
   "id": "aefe6ec8",
   "metadata": {},
   "outputs": [],
   "source": [
    "# Comparision Operators\n",
    "\n",
    "# Operator        Name                           Example\n",
    "# 1. ==           Equal                           x==y\n",
    "# 2. !=           Not Equal                       x!=y\n",
    "# 3. >            Greater than                    x>y\n",
    "# 4. <            Lesser than                     x<y\n",
    "# 5. >=           Greater than or equal to        x>=y\n",
    "# 6. <=           Lesser than or equal to         x<=y"
   ]
  },
  {
   "cell_type": "code",
   "execution_count": 3,
   "id": "57e1311c",
   "metadata": {},
   "outputs": [
    {
     "name": "stdout",
     "output_type": "stream",
     "text": [
      "False\n"
     ]
    }
   ],
   "source": [
    "x = 50\n",
    "y = 30\n",
    "print(x == y)\n",
    "\n",
    "# Returns False bcoz 50 is not equal to 30"
   ]
  },
  {
   "cell_type": "code",
   "execution_count": 4,
   "id": "9406496d",
   "metadata": {},
   "outputs": [
    {
     "name": "stdout",
     "output_type": "stream",
     "text": [
      "True\n"
     ]
    }
   ],
   "source": [
    "x = 50\n",
    "y = 30\n",
    "print(x != y)\n",
    "\n",
    "# Returns True bcoz 50 is not equal to 30"
   ]
  },
  {
   "cell_type": "code",
   "execution_count": 5,
   "id": "84e8086c",
   "metadata": {},
   "outputs": [
    {
     "name": "stdout",
     "output_type": "stream",
     "text": [
      "True\n",
      "True\n",
      "False\n",
      "False\n",
      "True\n",
      "True\n"
     ]
    }
   ],
   "source": [
    "x = 50\n",
    "y = 30\n",
    "z = 30\n",
    "\n",
    "print(x > y)\n",
    "print(x >= y)\n",
    "print(x < y)\n",
    "print(x <= y)\n",
    "print(z == y)\n",
    "print(z >= y)"
   ]
  },
  {
   "cell_type": "code",
   "execution_count": 6,
   "id": "46adaab5",
   "metadata": {},
   "outputs": [],
   "source": [
    "# Conditional Execution - If Statement\n",
    "#                False\n",
    "# if   (<expr>) :\n",
    "# true  <statement>\n",
    "#       <statement>\n",
    "#       ...\n",
    "#         <statement>\n",
    "#     <following_statement>   "
   ]
  },
  {
   "cell_type": "code",
   "execution_count": 7,
   "id": "abab6e6d",
   "metadata": {},
   "outputs": [],
   "source": [
    "# Syntax :\n",
    "#     The If keyword\n",
    "#     One or more White spaces\n",
    "#     An expression\n",
    "#     A colon (:) followed by a newline\n",
    "#     An intended instruction(s)"
   ]
  },
  {
   "cell_type": "code",
   "execution_count": 8,
   "id": "2023a969",
   "metadata": {},
   "outputs": [],
   "source": [
    "# Conditional Execution - Nested if else statement below:"
   ]
  },
  {
   "cell_type": "code",
   "execution_count": 9,
   "id": "cc2a1d6d",
   "metadata": {},
   "outputs": [
    {
     "name": "stdout",
     "output_type": "stream",
     "text": [
      "a is Positive and b is Negative\n",
      "End of Execution\n"
     ]
    }
   ],
   "source": [
    "a = 12\n",
    "b = -9\n",
    "\n",
    "if a > 0 :\n",
    "    if b > 0:\n",
    "        print(\"Both are Postive Numbers\")\n",
    "    else:\n",
    "        print(\"a is Positive and b is Negative\")\n",
    "else:\n",
    "    if b < 0 :\n",
    "        print(\"Both are Negative Numbers\")\n",
    "    else:\n",
    "        print(\"a is Negative and b is Positive\")\n",
    "        \n",
    "print(\"End of Execution\")             "
   ]
  },
  {
   "cell_type": "code",
   "execution_count": 10,
   "id": "2cc0e1e2",
   "metadata": {},
   "outputs": [],
   "source": [
    " # Conditional Execution -elif statement below:"
   ]
  },
  {
   "cell_type": "code",
   "execution_count": 11,
   "id": "e7d2922a",
   "metadata": {},
   "outputs": [
    {
     "name": "stdout",
     "output_type": "stream",
     "text": [
      "It is Zero\n",
      "End of Execution\n"
     ]
    }
   ],
   "source": [
    "n = 0\n",
    "\n",
    "if n > 0:\n",
    "    print(\"Positive Number\")\n",
    "else:\n",
    "    if n < 0:\n",
    "        print(\"Negative Number\")\n",
    "    else:\n",
    "        if n == 0:\n",
    "            print(\"It is Zero\")\n",
    "            \n",
    "print(\"End of Execution\")                  "
   ]
  },
  {
   "cell_type": "code",
   "execution_count": 13,
   "id": "c6766ab8",
   "metadata": {},
   "outputs": [
    {
     "name": "stdout",
     "output_type": "stream",
     "text": [
      "It is Zero\n",
      "End of Execution\n"
     ]
    }
   ],
   "source": [
    "n = 0\n",
    "\n",
    "if n > 0:\n",
    "    print(\"Positive Number\")\n",
    "elif n < 0:\n",
    "    print(\"Negative Number\")\n",
    "else:\n",
    "    print(\"It is Zero\")\n",
    "    \n",
    "print(\"End of Execution\")        "
   ]
  },
  {
   "cell_type": "code",
   "execution_count": 14,
   "id": "41303f85",
   "metadata": {},
   "outputs": [],
   "source": [
    "# Code to find Even : Odd number"
   ]
  },
  {
   "cell_type": "code",
   "execution_count": 15,
   "id": "d0a05771",
   "metadata": {},
   "outputs": [
    {
     "name": "stdout",
     "output_type": "stream",
     "text": [
      "Enter a number\n",
      "13\n",
      "13 is an Odd Number...\n"
     ]
    }
   ],
   "source": [
    "# code to check even odd number\n",
    "\n",
    "print(\"Enter a number\")\n",
    "\n",
    "n = int(input())\n",
    "\n",
    "if n % 2 == 0:\n",
    "    print(n, \"is an Even Number\")\n",
    "else:\n",
    "    print(n, \"is an Odd Number...\")"
   ]
  },
  {
   "cell_type": "code",
   "execution_count": 17,
   "id": "feea2e96",
   "metadata": {},
   "outputs": [],
   "source": [
    "# Code to find maximum of 3 numbers"
   ]
  },
  {
   "cell_type": "code",
   "execution_count": 19,
   "id": "723b38a6",
   "metadata": {},
   "outputs": [
    {
     "name": "stdout",
     "output_type": "stream",
     "text": [
      "Enter Number 1 : \n",
      "12\n",
      "Enter Number 1 : \n",
      "13\n",
      "Enter Number 1 : \n",
      "2\n",
      "Max Value is  13\n"
     ]
    }
   ],
   "source": [
    "# code to find max of 3 numbers\n",
    "\n",
    "print(\"Enter Number 1 : \")\n",
    "a = int(input())\n",
    "\n",
    "print(\"Enter Number 1 : \")\n",
    "b = int(input())\n",
    "\n",
    "print(\"Enter Number 1 : \")\n",
    "c = int(input())\n",
    "\n",
    "max = a\n",
    "\n",
    "if b > max:\n",
    "    max = b\n",
    "else:\n",
    "    if c > max:\n",
    "        max = c\n",
    "\n",
    "print(\"Max Value is \", max)        "
   ]
  },
  {
   "cell_type": "code",
   "execution_count": 20,
   "id": "6dd34919",
   "metadata": {},
   "outputs": [
    {
     "name": "stdout",
     "output_type": "stream",
     "text": [
      "Enter Number 1 : \n",
      "12\n",
      "Enter Number 1 : \n",
      "13\n",
      "Enter Number 1 : \n",
      "2\n",
      "Max Value is  13\n"
     ]
    }
   ],
   "source": [
    "# code to find max of 3 numbers\n",
    "\n",
    "print(\"Enter Number 1 : \")\n",
    "a = int(input())\n",
    "\n",
    "print(\"Enter Number 1 : \")\n",
    "b = int(input())\n",
    "\n",
    "print(\"Enter Number 1 : \")\n",
    "c = int(input())\n",
    "\n",
    "max = a\n",
    "\n",
    "if b > max:\n",
    "    max = b\n",
    "elif c > max:\n",
    "    max = c\n",
    "        \n",
    "print(\"Max Value is \", max)     "
   ]
  },
  {
   "cell_type": "code",
   "execution_count": 21,
   "id": "701d62e5",
   "metadata": {},
   "outputs": [
    {
     "name": "stdout",
     "output_type": "stream",
     "text": [
      "Enter Number 1 : \n",
      "12\n",
      "Enter Number 1 : \n",
      "13\n",
      "Enter Number 1 : \n",
      "2\n",
      "Max Value is  13\n"
     ]
    }
   ],
   "source": [
    "# code to find max of 3 numbers\n",
    "\n",
    "print(\"Enter Number 1 : \")\n",
    "a = int(input())\n",
    "\n",
    "print(\"Enter Number 1 : \")\n",
    "b = int(input())\n",
    "\n",
    "print(\"Enter Number 1 : \")\n",
    "c = int(input())\n",
    "\n",
    "max = a\n",
    "\n",
    "if b > max:\n",
    "    max = b\n",
    "if c > max:\n",
    "        max = c\n",
    "\n",
    "print(\"Max Value is \", max)     "
   ]
  },
  {
   "cell_type": "code",
   "execution_count": 23,
   "id": "87210149",
   "metadata": {},
   "outputs": [
    {
     "name": "stdout",
     "output_type": "stream",
     "text": [
      "Enter Principal Amount : \n",
      "200000\n",
      "Enter Time period \\(in Years) : \n",
      "2\n",
      "Enter Rate of Interest : \n",
      "1.5\n",
      "Simple Interest Value is  6000.0\n"
     ]
    }
   ],
   "source": [
    "# code to calculate simple interest\n",
    "\n",
    "print(\"Enter Principal Amount : \")\n",
    "p = int(input())\n",
    "\n",
    "print(\"Enter Time period \\(in Years) : \")\n",
    "t = int(input())\n",
    "\n",
    "print(\"Enter Rate of Interest : \")\n",
    "r = float(input())\n",
    "\n",
    "SI = 0.0\n",
    "\n",
    "if p > 1000 :\n",
    "\n",
    "    SI = ( p * t * r) /100\n",
    "\n",
    "if SI != 0:\n",
    "    print(\"Simple Interest Value is \", SI)\n",
    "else:\n",
    "    print(\"Principle Amount is Less than 1000\")"
   ]
  },
  {
   "cell_type": "code",
   "execution_count": 24,
   "id": "0017a4fb",
   "metadata": {},
   "outputs": [
    {
     "name": "stdout",
     "output_type": "stream",
     "text": [
      "Enter Principal Amount : \n",
      "900\n",
      "Enter Time period (in Years) : \n",
      "300\n",
      "Enter Rate of Interest : \n",
      "2\n",
      "Principle Amount is Less than 1000\n"
     ]
    }
   ],
   "source": [
    "# code to calculate simple interest\n",
    "\n",
    "print(\"Enter Principal Amount : \")\n",
    "p = int(input())\n",
    "\n",
    "print(\"Enter Time period (in Years) : \")\n",
    "t = int(input())\n",
    "\n",
    "print(\"Enter Rate of Interest : \")\n",
    "r = float(input())\n",
    "\n",
    "SI = 0.0\n",
    "\n",
    "if p > 1000 :\n",
    "\n",
    "    SI = ( p * t * r) /100\n",
    "\n",
    "if SI != 0:\n",
    "    print(\"Simple Interest Value is \", SI)\n",
    "else:\n",
    "    print(\"Principle Amount is Less than 1000\")"
   ]
  },
  {
   "cell_type": "code",
   "execution_count": 27,
   "id": "ed8f71c8",
   "metadata": {},
   "outputs": [],
   "source": [
    "# Loops and it's types"
   ]
  },
  {
   "cell_type": "code",
   "execution_count": 26,
   "id": "ab92adbd",
   "metadata": {},
   "outputs": [],
   "source": [
    "# While loops\n",
    "\n",
    "# while expression:\n",
    "#     statement(s)"
   ]
  },
  {
   "cell_type": "code",
   "execution_count": 28,
   "id": "bc7628cb",
   "metadata": {},
   "outputs": [
    {
     "name": "stdout",
     "output_type": "stream",
     "text": [
      "Iteration Number  1\n",
      "Iteration Number  2\n",
      "Iteration Number  3\n",
      "Iteration Number  4\n",
      "Iteration Number  5\n",
      "End of Execution...\n"
     ]
    }
   ],
   "source": [
    "i = 1\n",
    "\n",
    "while i<=5 :\n",
    "    print(\"Iteration Number \", i)\n",
    "    i = i + 1\n",
    "    \n",
    "print(\"End of Execution...\")      "
   ]
  },
  {
   "cell_type": "code",
   "execution_count": 30,
   "id": "248d90de",
   "metadata": {},
   "outputs": [],
   "source": [
    "# Using else statement with while loop\n",
    "\n",
    "# while condition:\n",
    "#     # execute this statements  \n",
    "# else:\n",
    "#     # execute this statements    "
   ]
  },
  {
   "cell_type": "code",
   "execution_count": 31,
   "id": "53811f99",
   "metadata": {},
   "outputs": [
    {
     "name": "stdout",
     "output_type": "stream",
     "text": [
      "Iteration Number  1\n",
      "Iteration Number  2\n",
      "Iteration Number  3\n",
      "In else part\n",
      "End of Execution...\n"
     ]
    }
   ],
   "source": [
    "i = 1\n",
    "\n",
    "while i<=3 :\n",
    "    print(\"Iteration Number \", i)\n",
    "    i = i + 1\n",
    "else:\n",
    "    print(\"In else part\")\n",
    "    \n",
    "print(\"End of Execution...\")         "
   ]
  },
  {
   "cell_type": "code",
   "execution_count": 32,
   "id": "bc10d5b3",
   "metadata": {},
   "outputs": [],
   "source": [
    "# for in loop\n",
    "\n",
    "# for loops are used for sequential traversal\n",
    "# It can be use to iterate over a range and iterators.\n",
    "\n",
    "# for iterator_var in sequence:\n",
    "#     statement(s)"
   ]
  },
  {
   "cell_type": "code",
   "execution_count": 33,
   "id": "2629e2b5",
   "metadata": {},
   "outputs": [
    {
     "name": "stdout",
     "output_type": "stream",
     "text": [
      "Iteration Number  1\n",
      "Iteration Number  2\n",
      "Iteration Number  3\n",
      "Iteration Number  4\n"
     ]
    }
   ],
   "source": [
    "n = 5\n",
    "\n",
    "for i in range(1,n):\n",
    "    print(\"Iteration Number \", i)"
   ]
  },
  {
   "cell_type": "code",
   "execution_count": 35,
   "id": "639fb7c9",
   "metadata": {},
   "outputs": [],
   "source": [
    "# for in loop"
   ]
  },
  {
   "cell_type": "code",
   "execution_count": 36,
   "id": "99f03ea1",
   "metadata": {},
   "outputs": [
    {
     "name": "stdout",
     "output_type": "stream",
     "text": [
      "2\n",
      "5\n",
      "8\n",
      "11\n",
      "14\n",
      "17\n"
     ]
    }
   ],
   "source": [
    "for x in range(2, 20, 3):\n",
    "    print(x)"
   ]
  },
  {
   "cell_type": "code",
   "execution_count": 37,
   "id": "c1f71f8c",
   "metadata": {},
   "outputs": [
    {
     "name": "stdout",
     "output_type": "stream",
     "text": [
      "20\n",
      "17\n",
      "14\n",
      "11\n",
      "8\n",
      "5\n"
     ]
    }
   ],
   "source": [
    "for x in range(20, 2, -3):\n",
    "    print(x)"
   ]
  },
  {
   "cell_type": "code",
   "execution_count": 1,
   "id": "60b23d4d",
   "metadata": {},
   "outputs": [
    {
     "name": "stdout",
     "output_type": "stream",
     "text": [
      "b\n",
      "a\n",
      "n\n",
      "a\n",
      "n\n",
      "a\n"
     ]
    }
   ],
   "source": [
    "for x in \"banana\":\n",
    "    print(x)"
   ]
  },
  {
   "cell_type": "code",
   "execution_count": 2,
   "id": "f789cc26",
   "metadata": {},
   "outputs": [
    {
     "name": "stdout",
     "output_type": "stream",
     "text": [
      "Apple\n",
      "Banana\n",
      "Cherry\n"
     ]
    }
   ],
   "source": [
    "fruits = [\"Apple\", \"Banana\", \"Cherry\"]\n",
    "for x in fruits:\n",
    "    print(x)"
   ]
  },
  {
   "cell_type": "code",
   "execution_count": 3,
   "id": "22236dbb",
   "metadata": {},
   "outputs": [
    {
     "name": "stdout",
     "output_type": "stream",
     "text": [
      "<class 'str'>\n",
      "<class 'str'>\n",
      "<class 'str'>\n"
     ]
    }
   ],
   "source": [
    "fruits = [\"Apple\", \"Banana\", \"Cherry\"]\n",
    "for x in fruits:\n",
    "    print(type(x))"
   ]
  },
  {
   "cell_type": "code",
   "execution_count": 4,
   "id": "77da6beb",
   "metadata": {},
   "outputs": [],
   "source": [
    "# Using else statement with for loops"
   ]
  },
  {
   "cell_type": "code",
   "execution_count": 5,
   "id": "3783ddb7",
   "metadata": {},
   "outputs": [
    {
     "name": "stdout",
     "output_type": "stream",
     "text": [
      "Iteration Number  1\n",
      "Iteration Number  2\n",
      "Iteration Number  3\n",
      "Iteration Number  4\n",
      "Control in else section\n",
      "End of Execution...\n"
     ]
    }
   ],
   "source": [
    "a = 5\n",
    "\n",
    "for i in range(1,a):\n",
    "    print(\"Iteration Number \", i)\n",
    "else:\n",
    "    print(\"Control in else section\")\n",
    "    \n",
    "print(\"End of Execution...\")    "
   ]
  },
  {
   "cell_type": "code",
   "execution_count": 6,
   "id": "b9c6f954",
   "metadata": {},
   "outputs": [],
   "source": [
    "# Loop Control Statements - Continue"
   ]
  },
  {
   "cell_type": "code",
   "execution_count": 9,
   "id": "f1fbc500",
   "metadata": {},
   "outputs": [
    {
     "name": "stdout",
     "output_type": "stream",
     "text": [
      "1\n",
      "3\n",
      "5\n",
      "7\n",
      "9\n"
     ]
    }
   ],
   "source": [
    "a = 10\n",
    "\n",
    "for i in range(1,a):\n",
    "    if i % 2 == 0 : continue\n",
    "    print(i)"
   ]
  },
  {
   "cell_type": "code",
   "execution_count": 10,
   "id": "cac1babc",
   "metadata": {},
   "outputs": [],
   "source": [
    "# Loop Control Statements - Break\n",
    "# It brings control out of loop"
   ]
  },
  {
   "cell_type": "code",
   "execution_count": 11,
   "id": "b719c7ab",
   "metadata": {},
   "outputs": [
    {
     "name": "stdout",
     "output_type": "stream",
     "text": [
      "1\n",
      "2\n"
     ]
    }
   ],
   "source": [
    "a = 10\n",
    "\n",
    "for i in range(1,a):\n",
    "    if i % 3 == 0 : break\n",
    "    print(i)"
   ]
  },
  {
   "cell_type": "code",
   "execution_count": 13,
   "id": "ab0a96fa",
   "metadata": {},
   "outputs": [
    {
     "name": "stdout",
     "output_type": "stream",
     "text": [
      "Enter a number : 7\n",
      "prime Number\n"
     ]
    }
   ],
   "source": [
    "a = int(input(\"Enter a number : \"))\n",
    "flag = 0\n",
    "\n",
    "for i in range(2,a):\n",
    "    if a % i == 0 : \n",
    "        flag = 1\n",
    "        break\n",
    "        \n",
    "if flag == 0 : print(\"prime Number\")\n",
    "else : print(\"Not a prime Number\")     "
   ]
  },
  {
   "cell_type": "code",
   "execution_count": 14,
   "id": "542fa53f",
   "metadata": {},
   "outputs": [],
   "source": [
    "# Loop Control Statements - Pass"
   ]
  },
  {
   "cell_type": "code",
   "execution_count": 15,
   "id": "460816c9",
   "metadata": {},
   "outputs": [
    {
     "name": "stdout",
     "output_type": "stream",
     "text": [
      "9\n"
     ]
    }
   ],
   "source": [
    "a = 10\n",
    "\n",
    "for i in range(1,a):\n",
    "    pass\n",
    "print(i)"
   ]
  },
  {
   "cell_type": "code",
   "execution_count": 16,
   "id": "033bb314",
   "metadata": {},
   "outputs": [],
   "source": [
    "# Nested Loops\n",
    "# Python programming language allows to use one loop inside another loop.\n",
    "\n",
    "# for iterator_var in sequence:\n",
    "#     for iterator_var in sequence:\n",
    "#         statements(s)\n",
    "#         statements(s)\n",
    "    \n",
    "    \n",
    "# while expression:\n",
    "#     while expression:\n",
    "#         statements(s)\n",
    "#         statements(s)  "
   ]
  },
  {
   "cell_type": "code",
   "execution_count": 18,
   "id": "35c96c73",
   "metadata": {},
   "outputs": [
    {
     "name": "stdout",
     "output_type": "stream",
     "text": [
      " \n",
      "* \n",
      "** \n",
      "*** \n"
     ]
    }
   ],
   "source": [
    "a = 5\n",
    "\n",
    "for i in range(1,a):\n",
    "    for j in range(1,i):\n",
    "        print(\"*\", end=\"\")\n",
    "    print(\" \")           "
   ]
  },
  {
   "cell_type": "code",
   "execution_count": null,
   "id": "3dde1a62",
   "metadata": {},
   "outputs": [],
   "source": []
  }
 ],
 "metadata": {
  "kernelspec": {
   "display_name": "Python 3 (ipykernel)",
   "language": "python",
   "name": "python3"
  },
  "language_info": {
   "codemirror_mode": {
    "name": "ipython",
    "version": 3
   },
   "file_extension": ".py",
   "mimetype": "text/x-python",
   "name": "python",
   "nbconvert_exporter": "python",
   "pygments_lexer": "ipython3",
   "version": "3.9.13"
  }
 },
 "nbformat": 4,
 "nbformat_minor": 5
}
